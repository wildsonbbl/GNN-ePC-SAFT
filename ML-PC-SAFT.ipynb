{
 "cells": [
  {
   "attachments": {},
   "cell_type": "markdown",
   "metadata": {},
   "source": [
    "# Modeling with GNN-ePC-SAFT"
   ]
  },
  {
   "attachments": {},
   "cell_type": "markdown",
   "metadata": {},
   "source": [
    "Model combining graph neural network with ePC-SAFT\n"
   ]
  },
  {
   "attachments": {},
   "cell_type": "markdown",
   "metadata": {},
   "source": [
    "## Starting point"
   ]
  },
  {
   "cell_type": "code",
   "execution_count": null,
   "metadata": {
    "execution": {
     "iopub.execute_input": "2023-06-19T18:18:29.541372Z",
     "iopub.status.busy": "2023-06-19T18:18:29.540499Z",
     "iopub.status.idle": "2023-06-19T18:18:30.834792Z",
     "shell.execute_reply": "2023-06-19T18:18:30.833772Z",
     "shell.execute_reply.started": "2023-06-19T18:18:29.541341Z"
    }
   },
   "outputs": [],
   "source": [
    "# Install required packages.\n",
    "import os\n",
    "import torch\n",
    "os.environ['TORCH'] = torch.__version__\n",
    "print(torch.__version__)"
   ]
  },
  {
   "cell_type": "code",
   "execution_count": null,
   "metadata": {
    "execution": {
     "iopub.execute_input": "2023-06-19T18:18:33.083963Z",
     "iopub.status.busy": "2023-06-19T18:18:33.083292Z",
     "iopub.status.idle": "2023-06-19T18:18:35.081553Z",
     "shell.execute_reply": "2023-06-19T18:18:35.080251Z",
     "shell.execute_reply.started": "2023-06-19T18:18:33.083937Z"
    }
   },
   "outputs": [],
   "source": [
    "%pip show jax | grep Version"
   ]
  },
  {
   "cell_type": "code",
   "execution_count": null,
   "metadata": {
    "execution": {
     "iopub.execute_input": "2023-06-19T18:18:41.758672Z",
     "iopub.status.busy": "2023-06-19T18:18:41.758356Z",
     "iopub.status.idle": "2023-06-19T18:19:11.294844Z",
     "shell.execute_reply": "2023-06-19T18:19:11.294073Z",
     "shell.execute_reply.started": "2023-06-19T18:18:41.758647Z"
    }
   },
   "outputs": [],
   "source": [
    "import wandb\n",
    "wandb.login()"
   ]
  },
  {
   "cell_type": "code",
   "execution_count": null,
   "metadata": {
    "execution": {
     "iopub.execute_input": "2023-06-19T18:19:20.237114Z",
     "iopub.status.busy": "2023-06-19T18:19:20.236121Z",
     "iopub.status.idle": "2023-06-19T18:19:20.984437Z",
     "shell.execute_reply": "2023-06-19T18:19:20.983484Z",
     "shell.execute_reply.started": "2023-06-19T18:19:20.237082Z"
    }
   },
   "outputs": [],
   "source": [
    "!nvidia-smi"
   ]
  },
  {
   "attachments": {},
   "cell_type": "markdown",
   "metadata": {},
   "source": [
    "## PNA EPCSAFT"
   ]
  },
  {
   "cell_type": "code",
   "execution_count": null,
   "metadata": {
    "execution": {
     "iopub.execute_input": "2023-06-19T21:29:14.573665Z",
     "iopub.status.busy": "2023-06-19T21:29:14.573243Z"
    }
   },
   "outputs": [],
   "source": [
    "!python main.py --workdir=./training --config=configs/default.py \\\n",
    "--config.num_train_steps={int(6000)} --config.log_every_steps=14 --config.pad_size=64\\\n",
    "--config.checkpoint_every_steps=2000 --config.learning_rate=0.001 --config.warmup_steps=14 --config.optimizer={'adam'} --config.batch_size=128\\\n",
    "--config.propagation_depth={int(3)} --config.hidden_dim={int(64)} --config.num_mlp_layers={int(1)} --config.num_para={int(3)} --config.pre_layers=1 --config.post_layers=1"
   ]
  },
  {
   "cell_type": "code",
   "execution_count": null,
   "metadata": {},
   "outputs": [],
   "source": [
    "!python tuner.py --workdir=/workspaces/ePC-SAFT/ --config=configs/default.py \\\n",
    "--config.num_train_steps={int(6000)} --config.learning_rate=0.001 --config.warmup_steps=100 --config.optimizer={'adam'} --config.batch_size=128\\\n",
    "--config.num_para={int(3)}"
   ]
  },
  {
   "cell_type": "code",
   "execution_count": null,
   "metadata": {},
   "outputs": [],
   "source": []
  }
 ],
 "metadata": {
  "kernelspec": {
   "display_name": "Python 3 (ipykernel)",
   "language": "python",
   "name": "python3"
  },
  "language_info": {
   "codemirror_mode": {
    "name": "ipython",
    "version": 3
   },
   "file_extension": ".py",
   "mimetype": "text/x-python",
   "name": "python",
   "nbconvert_exporter": "python",
   "pygments_lexer": "ipython3",
   "version": "3.10.11"
  },
  "vscode": {
   "interpreter": {
    "hash": "7f019609534c17fc0280e3612935020eee50536f0cea28bd1fe10f7c21931aaa"
   }
  }
 },
 "nbformat": 4,
 "nbformat_minor": 4
}
