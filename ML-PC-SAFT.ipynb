{
 "cells": [
  {
   "cell_type": "markdown",
   "metadata": {},
   "source": [
    "# Modeling with GNN-ePC-SAFT"
   ]
  },
  {
   "cell_type": "markdown",
   "metadata": {},
   "source": [
    "Model combining graph neural network with ePC-SAFT\n"
   ]
  },
  {
   "cell_type": "markdown",
   "metadata": {},
   "source": [
    "## Starting point"
   ]
  },
  {
   "cell_type": "code",
   "execution_count": 19,
   "metadata": {
    "tags": []
   },
   "outputs": [
    {
     "name": "stdout",
     "output_type": "stream",
     "text": [
      "\u001b[33mWARNING: Running pip as the 'root' user can result in broken permissions and conflicting behaviour with the system package manager. It is recommended to use a virtual environment instead: https://pip.pypa.io/warnings/venv\u001b[0m\u001b[33m\n",
      "\u001b[0mNote: you may need to restart the kernel to use updated packages.\n"
     ]
    }
   ],
   "source": [
    "%pip install torchmetrics clu ml-collections torch_geometric polars rdkit -q"
   ]
  },
  {
   "cell_type": "code",
   "execution_count": 20,
   "metadata": {
    "tags": []
   },
   "outputs": [
    {
     "name": "stdout",
     "output_type": "stream",
     "text": [
      "\u001b[33mWARNING: Running pip as the 'root' user can result in broken permissions and conflicting behaviour with the system package manager. It is recommended to use a virtual environment instead: https://pip.pypa.io/warnings/venv\u001b[0m\u001b[33m\n",
      "\u001b[0mNote: you may need to restart the kernel to use updated packages.\n"
     ]
    }
   ],
   "source": [
    "%pip install -U \"ray[tune]\" -q"
   ]
  },
  {
   "cell_type": "code",
   "execution_count": null,
   "metadata": {
    "tags": []
   },
   "outputs": [],
   "source": [
    "# Install required packages.\n",
    "import os\n",
    "import torch\n",
    "os.environ['TORCH'] = torch.__version__\n",
    "print(torch.__version__)"
   ]
  },
  {
   "cell_type": "code",
   "execution_count": null,
   "metadata": {
    "tags": []
   },
   "outputs": [],
   "source": [
    "%pip show jax | grep Version"
   ]
  },
  {
   "cell_type": "code",
   "execution_count": null,
   "metadata": {
    "tags": []
   },
   "outputs": [],
   "source": [
    "!nvidia-smi"
   ]
  },
  {
   "cell_type": "markdown",
   "metadata": {},
   "source": [
    "## PNA EPCSAFT"
   ]
  },
  {
   "cell_type": "code",
   "execution_count": null,
   "metadata": {},
   "outputs": [],
   "source": [
    "import wandb\n",
    "wandb.login()"
   ]
  },
  {
   "cell_type": "code",
   "execution_count": 21,
   "metadata": {},
   "outputs": [
    {
     "name": "stdout",
     "output_type": "stream",
     "text": [
      "[Errno 2] No such file or directory: 'GNN-ePC-SAFT'\n",
      "/notebooks/GNN-ePC-SAFT\n"
     ]
    }
   ],
   "source": [
    "%cd GNN-ePC-SAFT"
   ]
  },
  {
   "cell_type": "code",
   "execution_count": null,
   "metadata": {
    "tags": []
   },
   "outputs": [],
   "source": [
    "!python train.py --workdir=./ --config=configs/default.py \\\n",
    "--config.num_train_steps={int(500000)} --config.log_every_steps=100 --config.num_para=7 \\\n",
    "--config.checkpoint_every_steps=2000 --config.learning_rate=0.0001 --config.patience=1000 \\\n",
    "--config.warmup_steps=100 --config.optimizer={'adam'} --config.batch_size=128 \\\n",
    "--config.propagation_depth=4 --config.hidden_dim=64 --config.num_mlp_layers=2 --config.pre_layers=1 --config.post_layers=3"
   ]
  },
  {
   "cell_type": "code",
   "execution_count": 23,
   "metadata": {
    "tags": []
   },
   "outputs": [
    {
     "name": "stdout",
     "output_type": "stream",
     "text": [
      "x64 on\n",
      "2023-07-25 14:28:37,648\tERROR utils.py:540 -- Unexpected error calculating docker cpuset ids.\n",
      "Traceback (most recent call last):\n",
      "  File \"/usr/local/lib/python3.9/dist-packages/ray/_private/utils.py\", line 537, in _get_docker_cpus\n",
      "    cpu_ids.append(int(num_or_range))\n",
      "ValueError: invalid literal for int() with base 10: '\\n'\n",
      "2023-07-25 14:28:38,749\tINFO worker.py:1621 -- Started a local Ray instance.\n",
      "2023-07-25 14:28:40,932\tINFO tune.py:666 -- [output] This will use the new output engine with verbosity 0. To disable the new output and use the legacy output engine, set the environment variable RAY_AIR_NEW_OUTPUT=0. For more information, please see https://github.com/ray-project/ray/issues/36949\n",
      "╭─────────────────────────────────────────────────────────────────────────────╮\n",
      "│ Configuration for experiment     tune_with_parameters_2023-07-25_14-28-40   │\n",
      "├─────────────────────────────────────────────────────────────────────────────┤\n",
      "│ Search algorithm                 BasicVariantGenerator                      │\n",
      "│ Scheduler                        AsyncHyperBandScheduler                    │\n",
      "│ Number of trials                 100                                        │\n",
      "╰─────────────────────────────────────────────────────────────────────────────╯\n",
      "\n",
      "View detailed results here: /notebooks/GNN-ePC-SAFT/ray/tune_with_parameters_2023-07-25_14-28-40\n",
      "To visualize your results with TensorBoard, run: `tensorboard --logdir /notebooks/GNN-ePC-SAFT/ray/tune_with_parameters_2023-07-25_14-28-40`\n",
      "\n",
      "\u001b[2m\u001b[36m(pid=824)\u001b[0m x64 on\n",
      "\u001b[2m\u001b[36m(tune_with_parameters pid=824)\u001b[0m inchis saved: 1940\n",
      "\u001b[2m\u001b[36m(tune_with_parameters pid=824)\u001b[0m /usr/local/lib/python3.9/dist-packages/torch_geometric/utils/scatter.py:93: UserWarning: The usage of `scatter(reduce='min')` can be accelerated via the 'torch-scatter' package, but it was not found\n",
      "\u001b[2m\u001b[36m(tune_with_parameters pid=824)\u001b[0m   warnings.warn(f\"The usage of `scatter(reduce='{reduce}')` \"\n",
      "\u001b[2m\u001b[36m(tune_with_parameters pid=824)\u001b[0m /usr/local/lib/python3.9/dist-packages/torch_geometric/utils/scatter.py:93: UserWarning: The usage of `scatter(reduce='max')` can be accelerated via the 'torch-scatter' package, but it was not found\n",
      "\u001b[2m\u001b[36m(tune_with_parameters pid=824)\u001b[0m   warnings.warn(f\"The usage of `scatter(reduce='{reduce}')` \"\n"
     ]
    }
   ],
   "source": [
    "!python tuner.py --workdir=/notebooks/GNN-ePC-SAFT/ --config=configs/default.py \\\n",
    "--config.num_train_steps=10000 --config.log_every_steps=100\\\n",
    "--config.learning_rate=0.001  --config.optimizer={'adam'} --config.batch_size=128\\\n",
    "--config.num_para=7"
   ]
  },
  {
   "cell_type": "code",
   "execution_count": null,
   "metadata": {},
   "outputs": [],
   "source": [
    "!python tuner_restore.py --workdir=/notebooks/GNN-ePC-SAFT/ --config=configs/default.py \\\n",
    "--restoredir=./ray/tune_with_parameters_2023-07-25_14-28-40 \\\n",
    "--config.num_train_steps=10000 --config.log_every_steps=100\\\n",
    "--config.learning_rate=0.001 --config.optimizer={'adam'} --config.batch_size=128\\\n",
    "--config.num_para=7"
   ]
  },
  {
   "cell_type": "code",
   "execution_count": null,
   "metadata": {},
   "outputs": [],
   "source": [
    "!python evaluate.py --workdir=./ --config=configs/default.py \\\n",
    "--config.num_train_steps={int(500000)} --config.log_every_steps=100 --config.num_para=7\\\n",
    "--config.checkpoint_every_steps=2000 --config.learning_rate=0.00001 --config.warmup_steps=100 --config.optimizer={'adam'} --config.batch_size=128\\\n",
    "--config.propagation_depth=5 --config.hidden_dim=512 --config.num_mlp_layers=2 --config.pre_layers=2 --config.post_layers=1"
   ]
  },
  {
   "cell_type": "code",
   "execution_count": null,
   "metadata": {},
   "outputs": [],
   "source": []
  }
 ],
 "metadata": {
  "kernelspec": {
   "display_name": "Python 3 (ipykernel)",
   "language": "python",
   "name": "python3"
  },
  "language_info": {
   "codemirror_mode": {
    "name": "ipython",
    "version": 3
   },
   "file_extension": ".py",
   "mimetype": "text/x-python",
   "name": "python",
   "nbconvert_exporter": "python",
   "pygments_lexer": "ipython3",
   "version": "3.9.16"
  },
  "vscode": {
   "interpreter": {
    "hash": "7f019609534c17fc0280e3612935020eee50536f0cea28bd1fe10f7c21931aaa"
   }
  }
 },
 "nbformat": 4,
 "nbformat_minor": 4
}
