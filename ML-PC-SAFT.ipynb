{
 "cells": [
  {
   "attachments": {},
   "cell_type": "markdown",
   "metadata": {},
   "source": [
    "# Modeling with GNN-ePC-SAFT"
   ]
  },
  {
   "attachments": {},
   "cell_type": "markdown",
   "metadata": {},
   "source": [
    "Model combining graph neural network with ePC-SAFT"
   ]
  },
  {
   "cell_type": "code",
   "execution_count": 1,
   "metadata": {},
   "outputs": [],
   "source": [
    "from torch_geometric.nn.models import PNA\n",
    "import torch\n",
    "import torch.nn.functional as F\n",
    "\n",
    "from pcsaft import pcsaft_fugcoef, pcsaft_den, dielc_water\n"
   ]
  },
  {
   "cell_type": "code",
   "execution_count": 2,
   "metadata": {},
   "outputs": [],
   "source": [
    "from pcsaft_electrolyte import pcsaft_fugcoef as pcfugcoef, pcsaft_den as pcden\n",
    "import numpy as np\n",
    "import jax.numpy as jnp\n",
    "from jax import grad, jit, random\n",
    "import jax\n",
    "from jax import dlpack as jdlpack\n",
    "from torch.utils import dlpack as tdlpack\n"
   ]
  },
  {
   "cell_type": "code",
   "execution_count": 3,
   "metadata": {},
   "outputs": [
    {
     "data": {
      "text/plain": [
       "True"
      ]
     },
     "execution_count": 3,
     "metadata": {},
     "output_type": "execute_result"
    }
   ],
   "source": [
    "torch.cuda.is_available()"
   ]
  },
  {
   "cell_type": "code",
   "execution_count": 4,
   "metadata": {},
   "outputs": [
    {
     "data": {
      "text/plain": [
       "'gpu'"
      ]
     },
     "execution_count": 4,
     "metadata": {},
     "output_type": "execute_result"
    }
   ],
   "source": [
    "jax.devices()[0].platform"
   ]
  },
  {
   "cell_type": "code",
   "execution_count": 34,
   "metadata": {},
   "outputs": [],
   "source": [
    "paratorch = torch.tensor([[3.8176, 3.8373, 242.78, 0],\n",
    "                          [1., 3.7039, 150.03, 0]], dtype=float, device='cuda:0', requires_grad=True)\n"
   ]
  },
  {
   "cell_type": "code",
   "execution_count": 35,
   "metadata": {},
   "outputs": [],
   "source": [
    "statetorch = torch.asarray([0, 1., 320, 101325], dtype=float, device='cuda:0')\n"
   ]
  },
  {
   "cell_type": "code",
   "execution_count": 9,
   "metadata": {},
   "outputs": [],
   "source": [
    "def ActivityCoefficient(parameters, state):\n",
    "    x = jnp.asarray(\n",
    "        (state[0],\n",
    "          state[1])\n",
    "    )\n",
    "    t = state[2]\n",
    "    P = state[3]\n",
    "    m = parameters[:, 0]\n",
    "    s = parameters[:, 1]\n",
    "    e = parameters[:, 2]\n",
    "    k_ij = jnp.asarray(\n",
    "        ([1, parameters[0, 3]],\n",
    "         [parameters[1, 3], 1])\n",
    "    )\n",
    "    e_assoc = None\n",
    "    vol_a = None\n",
    "    dipm = None\n",
    "    dip_num = None\n",
    "    z = None\n",
    "    dielc = None\n",
    "\n",
    "    jAC = jit(pcfugcoef)\n",
    "\n",
    "    rho = jnp.asarray([state[4],])\n",
    "    fungcoef = jAC(x, m, s, e, t, rho, k_ij, e_assoc, vol_a, dipm,\n",
    "                   dip_num, z, dielc)\n",
    "    \n",
    "    rho01 = jnp.asarray([state[5],])\n",
    "    fungcoef01 = jAC(jnp.asarray((.99, .01)), m, s, e, t, rho01, k_ij, e_assoc, vol_a, dipm,\n",
    "                     dip_num, z, dielc)\n",
    "\n",
    "    gamma1 = (fungcoef[0]/fungcoef01[0])\n",
    "    return gamma1\n"
   ]
  },
  {
   "cell_type": "code",
   "execution_count": 21,
   "metadata": {},
   "outputs": [],
   "source": [
    "def rho(parameters, state):\n",
    "    x = jnp.asarray(\n",
    "        (state[0],\n",
    "          state[1])\n",
    "    )\n",
    "    t = state[2]\n",
    "    P = state[3]\n",
    "    m = parameters[:, 0]\n",
    "    s = parameters[:, 1]\n",
    "    e = parameters[:, 2]\n",
    "    k_ij = jnp.asarray(\n",
    "        ([1, parameters[0, 3]],\n",
    "         [parameters[1, 3], 1])\n",
    "    )\n",
    "    e_assoc = None\n",
    "    vol_a = None\n",
    "    dipm = None\n",
    "    dip_num = None\n",
    "    z = None\n",
    "    dielc = None\n",
    "    phase = 'liq'\n",
    "\n",
    "    jrho = jit(pcden,static_argnums=6)\n",
    "    rho = jrho(x, m, s, e, t, P, phase, k_ij = k_ij, e_assoc= e_assoc, vol_a = vol_a, dipm = dipm,\n",
    "               dip_num = dip_num, z = z, dielc = dielc)\n",
    "\n",
    "    rho01 = jrho(jnp.asarray((0.99, .01)), m, s, e, t, P, phase, k_ij = k_ij, e_assoc= e_assoc, vol_a = vol_a, dipm = dipm,\n",
    "               dip_num = dip_num, z = z, dielc = dielc)  # mol / m³\n",
    "\n",
    "    return rho, rho01\n"
   ]
  },
  {
   "cell_type": "code",
   "execution_count": 22,
   "metadata": {},
   "outputs": [
    {
     "data": {
      "text/plain": [
       "array([0.000000e+00, 1.000000e+00, 3.200000e+02, 1.013250e+05,\n",
       "       5.978534e+01, 3.784439e+01], dtype=float32)"
      ]
     },
     "execution_count": 22,
     "metadata": {},
     "output_type": "execute_result"
    }
   ],
   "source": [
    "parameters = tdlpack.to_dlpack(paratorch)\n",
    "parameters = jdlpack.from_dlpack(parameters)\n",
    "\n",
    "state = tdlpack.to_dlpack(statetorch)\n",
    "state = jdlpack.from_dlpack(state)\n",
    "rhon = rho(parameters, state)\n",
    "state = np.append(state, rhon)\n",
    "state\n"
   ]
  },
  {
   "cell_type": "code",
   "execution_count": 23,
   "metadata": {},
   "outputs": [
    {
     "data": {
      "text/plain": [
       "Array(0.938268, dtype=float32)"
      ]
     },
     "execution_count": 23,
     "metadata": {},
     "output_type": "execute_result"
    }
   ],
   "source": [
    "ActivityCoefficient(parameters,state)"
   ]
  },
  {
   "cell_type": "code",
   "execution_count": 13,
   "metadata": {},
   "outputs": [],
   "source": [
    "grad_fn = jit(grad(ActivityCoefficient))"
   ]
  },
  {
   "cell_type": "code",
   "execution_count": 25,
   "metadata": {},
   "outputs": [
    {
     "data": {
      "text/plain": [
       "Array([[-0.01900522, -0.02862282, -0.00014551,  0.06925365],\n",
       "       [-0.03995297, -0.01894344, -0.00022705,  0.00022159]],      dtype=float32)"
      ]
     },
     "execution_count": 25,
     "metadata": {},
     "output_type": "execute_result"
    }
   ],
   "source": [
    "grad_fn(parameters,state)"
   ]
  },
  {
   "cell_type": "code",
   "execution_count": 26,
   "metadata": {},
   "outputs": [],
   "source": [
    "class PCSAFT(torch.autograd.Function):\n",
    "\n",
    "    @staticmethod\n",
    "    def forward(ctx, input, state):\n",
    "        parameters = tdlpack.to_dlpack(input)\n",
    "        parameters = jdlpack.from_dlpack(parameters)\n",
    "\n",
    "        state = tdlpack.to_dlpack(state)\n",
    "        state = jdlpack.from_dlpack(state)\n",
    "        rhon = rho(parameters, state)\n",
    "        state = np.append(state, rhon)\n",
    "        ctx.parameters = parameters\n",
    "        ctx.state = state\n",
    "        gamma1 = ActivityCoefficient(parameters, state)\n",
    "        gamma1 = jdlpack.to_dlpack(gamma1)\n",
    "\n",
    "        gamma1 = tdlpack.from_dlpack(gamma1)\n",
    "        return gamma1\n",
    "\n",
    "    @staticmethod\n",
    "    def backward(ctx, dg1):\n",
    "\n",
    "        grad_gamma1 = grad_fn(ctx.parameters, ctx.state)\n",
    "        grad_gamma1 = jdlpack.to_dlpack(grad_gamma1)\n",
    "        grad_gamma1 = dg1 * tdlpack.from_dlpack(grad_gamma1)\n",
    "        return grad_gamma1, None\n"
   ]
  },
  {
   "cell_type": "code",
   "execution_count": 27,
   "metadata": {},
   "outputs": [],
   "source": [
    "pcsaft = PCSAFT.apply"
   ]
  },
  {
   "cell_type": "code",
   "execution_count": 43,
   "metadata": {},
   "outputs": [],
   "source": [
    "gamma = pcsaft(paratorch,statetorch)"
   ]
  },
  {
   "cell_type": "code",
   "execution_count": 44,
   "metadata": {},
   "outputs": [
    {
     "data": {
      "text/plain": [
       "tensor(0.9383, device='cuda:0', grad_fn=<PCSAFTBackward>)"
      ]
     },
     "execution_count": 44,
     "metadata": {},
     "output_type": "execute_result"
    }
   ],
   "source": [
    "gamma"
   ]
  },
  {
   "cell_type": "code",
   "execution_count": 53,
   "metadata": {},
   "outputs": [],
   "source": [
    "gamma.backward()"
   ]
  },
  {
   "cell_type": "code",
   "execution_count": 58,
   "metadata": {},
   "outputs": [
    {
     "data": {
      "text/plain": [
       "tensor([[-0.0760, -0.1145, -0.0006,  0.2770],\n",
       "        [-0.1598, -0.0758, -0.0009,  0.0009]], device='cuda:0',\n",
       "       dtype=torch.float64)"
      ]
     },
     "execution_count": 58,
     "metadata": {},
     "output_type": "execute_result"
    }
   ],
   "source": [
    "paratorch.grad"
   ]
  }
 ],
 "metadata": {
  "kernelspec": {
   "display_name": "ml-pc-saft",
   "language": "python",
   "name": "python3"
  },
  "language_info": {
   "codemirror_mode": {
    "name": "ipython",
    "version": 3
   },
   "file_extension": ".py",
   "mimetype": "text/x-python",
   "name": "python",
   "nbconvert_exporter": "python",
   "pygments_lexer": "ipython3",
   "version": "3.10.9"
  },
  "orig_nbformat": 4,
  "vscode": {
   "interpreter": {
    "hash": "7f019609534c17fc0280e3612935020eee50536f0cea28bd1fe10f7c21931aaa"
   }
  }
 },
 "nbformat": 4,
 "nbformat_minor": 2
}
