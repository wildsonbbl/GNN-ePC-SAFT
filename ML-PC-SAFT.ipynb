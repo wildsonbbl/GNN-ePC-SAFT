{
 "cells": [
  {
   "attachments": {},
   "cell_type": "markdown",
   "metadata": {},
   "source": [
    "# Modeling with GNN-ePC-SAFT"
   ]
  },
  {
   "attachments": {},
   "cell_type": "markdown",
   "metadata": {},
   "source": [
    "Model combining graph neural network with ePC-SAFT\n"
   ]
  },
  {
   "attachments": {},
   "cell_type": "markdown",
   "metadata": {},
   "source": [
    "## Starting point"
   ]
  },
  {
   "cell_type": "code",
   "execution_count": 2,
   "metadata": {},
   "outputs": [],
   "source": [
    "import jax.numpy as np\n",
    "import jax\n",
    "from jax import dlpack as jdlpack\n",
    "from torch.utils import dlpack as tdlpack\n",
    "import epcsaft\n",
    "from importlib import reload\n",
    "import ml_pc_saft\n",
    "import torch\n",
    "import test_epcsaft\n",
    "import test_cython\n",
    "\n",
    "from jax.config import config\n",
    "config.update(\"jax_enable_x64\", True)"
   ]
  },
  {
   "cell_type": "code",
   "execution_count": null,
   "metadata": {},
   "outputs": [],
   "source": [
    "reload(epcsaft)"
   ]
  },
  {
   "attachments": {},
   "cell_type": "markdown",
   "metadata": {},
   "source": [
    "## Tests "
   ]
  },
  {
   "cell_type": "code",
   "execution_count": null,
   "metadata": {},
   "outputs": [],
   "source": [
    "reload(test_epcsaft)"
   ]
  },
  {
   "cell_type": "code",
   "execution_count": null,
   "metadata": {},
   "outputs": [],
   "source": [
    "reload(test_cython)"
   ]
  },
  {
   "cell_type": "code",
   "execution_count": null,
   "metadata": {},
   "outputs": [],
   "source": [
    "test_epcsaft.test_indexes(True)"
   ]
  },
  {
   "cell_type": "code",
   "execution_count": null,
   "metadata": {},
   "outputs": [],
   "source": [
    "test_epcsaft.test_hres(True)"
   ]
  },
  {
   "cell_type": "code",
   "execution_count": null,
   "metadata": {},
   "outputs": [],
   "source": [
    "test_epcsaft.test_gres(True)"
   ]
  },
  {
   "cell_type": "code",
   "execution_count": null,
   "metadata": {},
   "outputs": [],
   "source": [
    "test_epcsaft.test_sres(True)"
   ]
  },
  {
   "cell_type": "code",
   "execution_count": null,
   "metadata": {},
   "outputs": [],
   "source": [
    "test_epcsaft.test_pressure(True)"
   ]
  },
  {
   "cell_type": "code",
   "execution_count": null,
   "metadata": {},
   "outputs": [],
   "source": [
    "test_epcsaft.test_density(True)"
   ]
  },
  {
   "cell_type": "code",
   "execution_count": null,
   "metadata": {},
   "outputs": [],
   "source": [
    "test_epcsaft.test_VP(True)"
   ]
  },
  {
   "attachments": {},
   "cell_type": "markdown",
   "metadata": {},
   "source": [
    "## debug"
   ]
  },
  {
   "cell_type": "code",
   "execution_count": 40,
   "metadata": {},
   "outputs": [],
   "source": [
    "x = np.asarray([0.3607, 0.6393])[..., np.newaxis]\n",
    "m = np.asarray([2.5313, 2.3827])[..., np.newaxis]\n",
    "s = np.asarray([3.4608, 3.1771])[..., np.newaxis]\n",
    "e = np.asarray([269.47, 198.24])[..., np.newaxis]\n",
    "vol_a = np.asarray([0.0, 0.032384])[..., np.newaxis]\n",
    "e_assoc = np.asarray([0.0, 2653.4])[..., np.newaxis]\n",
    "dipm = np.asarray([1.04, 0.])[..., np.newaxis]\n",
    "dip_num = np.asarray([1.0, 0.])[..., np.newaxis]\n",
    "k_ij = np.asarray([[0.0, 0.0],\n",
    "                    [0.0, 0.0]])\n",
    "z = np.zeros_like(m)\n",
    "dielc = np.ones_like(m)\n",
    "l_ij = khb_ij = np.zeros_like(k_ij)\n",
    "\n",
    "ref = 101330.0 # source: Chen GH, Wang Q, Ma ZM, Yan XH, Han SJ. Phase equilibria at superatmospheric pressures for systems containing halohydrocarbon, aromatic hydrocarbon, and alcohol. Journal of Chemical and Engineering Data. 1995 Mar;40(2):361-6.\n",
    "t = 337.03"
   ]
  },
  {
   "cell_type": "code",
   "execution_count": 41,
   "metadata": {},
   "outputs": [],
   "source": [
    "kb = 1.380648465952442093e-23  # Boltzmann constant, J K^-1\n",
    "N_AV = 6.022140857e23  # Avogadro's number"
   ]
  },
  {
   "cell_type": "code",
   "execution_count": 42,
   "metadata": {},
   "outputs": [],
   "source": [
    "rho = epcsaft.pcsaft_den(x, m, s, e, t, 101325.0, k_ij, l_ij,\n",
    "               khb_ij, e_assoc, vol_a, dipm,\n",
    "               dip_num, z, dielc, 1.0)"
   ]
  },
  {
   "cell_type": "code",
   "execution_count": 56,
   "metadata": {},
   "outputs": [
    {
     "data": {
      "text/plain": [
       "Array(-0.08985061, dtype=float64)"
      ]
     },
     "execution_count": 56,
     "metadata": {},
     "output_type": "execute_result"
    }
   ],
   "source": [
    "epcsaft.pcsaft_gres(x, m, s, e, t, rho, k_ij, l_ij,\n",
    "                khb_ij, e_assoc, vol_a, dipm,\n",
    "                dip_num, z, dielc)/(kb*N_AV*t)"
   ]
  },
  {
   "attachments": {},
   "cell_type": "markdown",
   "metadata": {},
   "source": [
    "## ML layer"
   ]
  },
  {
   "cell_type": "code",
   "execution_count": 4,
   "metadata": {},
   "outputs": [],
   "source": [
    "                            #m      s       e     vola      eassoc dipm dipnum z   dielc  k    l   khb\n",
    "paratorch = torch.tensor([[2.5313, 3.4608, 269.47, 0.0,     0.0,    1.04, 1.0, 0.0, 1.0, 0.0, 0.0, 0.0],\n",
    "                          [2.3827, 3.1771, 198.24, 0.032384, 2653.4, 0.0, 0.0, 0.0, 1.0, 0.0, 0.0, 0.0]], dtype=float, device='cuda:0', requires_grad=True)\n"
   ]
  },
  {
   "cell_type": "code",
   "execution_count": 5,
   "metadata": {},
   "outputs": [],
   "source": [
    "statetorch = torch.asarray([0.3607, 0.6393, 337.03, 101330.0, 1.0], dtype=float, device='cuda:0')\n"
   ]
  },
  {
   "cell_type": "code",
   "execution_count": 58,
   "metadata": {},
   "outputs": [
    {
     "data": {
      "text/plain": [
       "<module 'ml_pc_saft' from '/home/wildsonbbl/documents/code/ePC-SAFT/ml_pc_saft.py'>"
      ]
     },
     "execution_count": 58,
     "metadata": {},
     "output_type": "execute_result"
    }
   ],
   "source": [
    "reload(ml_pc_saft)"
   ]
  },
  {
   "cell_type": "code",
   "execution_count": 59,
   "metadata": {},
   "outputs": [],
   "source": [
    "rho = ml_pc_saft.rho\n",
    "ActivityCoefficient = ml_pc_saft.ActivityCoefficient"
   ]
  },
  {
   "cell_type": "code",
   "execution_count": 8,
   "metadata": {},
   "outputs": [],
   "source": [
    "parameters = tdlpack.to_dlpack(paratorch)\n",
    "parameters = jdlpack.from_dlpack(parameters)\n",
    "\n",
    "state = tdlpack.to_dlpack(statetorch)\n",
    "state = jdlpack.from_dlpack(state)"
   ]
  },
  {
   "cell_type": "code",
   "execution_count": 22,
   "metadata": {},
   "outputs": [],
   "source": [
    "fakebatch_para = np.ones((62,1,1))*parameters\n",
    "fakebatch_state = np.ones((62,1,))*state"
   ]
  },
  {
   "cell_type": "code",
   "execution_count": 60,
   "metadata": {},
   "outputs": [
    {
     "data": {
      "text/plain": [
       "Array(14205.53155798, dtype=float64)"
      ]
     },
     "execution_count": 60,
     "metadata": {},
     "output_type": "execute_result"
    }
   ],
   "source": [
    "rhon = rho(parameters, state)\n",
    "rhon"
   ]
  },
  {
   "cell_type": "code",
   "execution_count": 61,
   "metadata": {},
   "outputs": [
    {
     "data": {
      "text/plain": [
       "Array(1.88563324, dtype=float64)"
      ]
     },
     "execution_count": 61,
     "metadata": {},
     "output_type": "execute_result"
    }
   ],
   "source": [
    "ActivityCoefficient(parameters, state)"
   ]
  },
  {
   "cell_type": "code",
   "execution_count": 62,
   "metadata": {},
   "outputs": [],
   "source": [
    "gradAC = jax.jacfwd(ActivityCoefficient,0)"
   ]
  },
  {
   "cell_type": "code",
   "execution_count": 64,
   "metadata": {},
   "outputs": [
    {
     "data": {
      "text/plain": [
       "Array([[-2.66684705e-04, -4.08809933e-04, -1.11254787e-07,\n",
       "        -9.37161077e-02, -2.82243544e-07,  0.00000000e+00,\n",
       "         0.00000000e+00, -7.33380058e-07,  3.68295796e-10,\n",
       "         0.00000000e+00,  2.81429756e-04,  3.76281583e-04],\n",
       "       [ 1.64407024e-04,  2.24259396e-02,  1.19978811e-07,\n",
       "         7.05222804e-01,  6.98762368e-05,  0.00000000e+00,\n",
       "         0.00000000e+00,  2.93728906e-06, -1.46914956e-09,\n",
       "         0.00000000e+00,  2.81429756e-04,  3.76281583e-04]],      dtype=float64)"
      ]
     },
     "execution_count": 64,
     "metadata": {},
     "output_type": "execute_result"
    }
   ],
   "source": [
    "gradAC(parameters + 1.0e-3,state)"
   ]
  },
  {
   "cell_type": "code",
   "execution_count": 79,
   "metadata": {},
   "outputs": [],
   "source": [
    "class PCSAFT(torch.autograd.Function):\n",
    "\n",
    "    @staticmethod\n",
    "    def forward(ctx, input, state):\n",
    "        parameters = tdlpack.to_dlpack(input)\n",
    "        parameters = jdlpack.from_dlpack(parameters)\n",
    "\n",
    "        state = tdlpack.to_dlpack(state)\n",
    "        state = jdlpack.from_dlpack(state)\n",
    "\n",
    "        ctx.parameters = parameters\n",
    "        ctx.state = state\n",
    "        gamma1 = ActivityCoefficient(parameters, state)\n",
    "        gamma1 = jdlpack.to_dlpack(gamma1)\n",
    "\n",
    "        gamma1 = tdlpack.from_dlpack(gamma1)\n",
    "        return gamma1\n",
    "\n",
    "    @staticmethod\n",
    "    def backward(ctx, dg1):\n",
    "\n",
    "        grad_gamma1 = gradAC(ctx.parameters + 1.0e-3, ctx.state)\n",
    "        grad_gamma1 = jdlpack.to_dlpack(grad_gamma1)\n",
    "        grad_gamma1 = dg1 * tdlpack.from_dlpack(grad_gamma1)\n",
    "        return grad_gamma1, None\n"
   ]
  },
  {
   "cell_type": "code",
   "execution_count": 76,
   "metadata": {},
   "outputs": [],
   "source": [
    "pcsaft = PCSAFT.apply"
   ]
  },
  {
   "cell_type": "code",
   "execution_count": 80,
   "metadata": {},
   "outputs": [],
   "source": [
    "gamma = pcsaft(paratorch,statetorch)"
   ]
  },
  {
   "cell_type": "code",
   "execution_count": 81,
   "metadata": {},
   "outputs": [
    {
     "data": {
      "text/plain": [
       "tensor(1.8856, device='cuda:0', dtype=torch.float64, grad_fn=<PCSAFTBackward>)"
      ]
     },
     "execution_count": 81,
     "metadata": {},
     "output_type": "execute_result"
    }
   ],
   "source": [
    "gamma"
   ]
  },
  {
   "cell_type": "code",
   "execution_count": 83,
   "metadata": {},
   "outputs": [
    {
     "name": "stdout",
     "output_type": "stream",
     "text": [
      "tensor(1., device='cuda:0', dtype=torch.float64)\n"
     ]
    }
   ],
   "source": [
    "gamma.backward()"
   ]
  },
  {
   "cell_type": "code",
   "execution_count": 82,
   "metadata": {},
   "outputs": [
    {
     "data": {
      "text/plain": [
       "tensor([[-8.0005e-04, -1.2264e-03, -3.3376e-07, -2.8115e-01, -8.4673e-07,\n",
       "          0.0000e+00,  0.0000e+00, -2.2001e-06,  1.1049e-09,  0.0000e+00,\n",
       "          8.4429e-04,  1.1288e-03],\n",
       "        [ 4.9322e-04,  6.7278e-02,  3.5994e-07,  2.1157e+00,  2.0963e-04,\n",
       "          0.0000e+00,  0.0000e+00,  8.8119e-06, -4.4074e-09,  0.0000e+00,\n",
       "          8.4429e-04,  1.1288e-03]], device='cuda:0', dtype=torch.float64)"
      ]
     },
     "execution_count": 82,
     "metadata": {},
     "output_type": "execute_result"
    }
   ],
   "source": [
    "paratorch.grad"
   ]
  }
 ],
 "metadata": {
  "kernelspec": {
   "display_name": "ml-pc-saft",
   "language": "python",
   "name": "python3"
  },
  "language_info": {
   "codemirror_mode": {
    "name": "ipython",
    "version": 3
   },
   "file_extension": ".py",
   "mimetype": "text/x-python",
   "name": "python",
   "nbconvert_exporter": "python",
   "pygments_lexer": "ipython3",
   "version": "3.10.9"
  },
  "orig_nbformat": 4,
  "vscode": {
   "interpreter": {
    "hash": "7f019609534c17fc0280e3612935020eee50536f0cea28bd1fe10f7c21931aaa"
   }
  }
 },
 "nbformat": 4,
 "nbformat_minor": 2
}
