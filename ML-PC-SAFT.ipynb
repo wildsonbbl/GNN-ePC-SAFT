{
 "cells": [
  {
   "attachments": {},
   "cell_type": "markdown",
   "metadata": {},
   "source": [
    "# Modeling with GNN-ePC-SAFT"
   ]
  },
  {
   "attachments": {},
   "cell_type": "markdown",
   "metadata": {},
   "source": [
    "Model combining graph neural network with ePC-SAFT\n"
   ]
  },
  {
   "attachments": {},
   "cell_type": "markdown",
   "metadata": {},
   "source": [
    "## Starting point"
   ]
  },
  {
   "cell_type": "code",
   "execution_count": 1,
   "metadata": {
    "execution": {
     "iopub.execute_input": "2023-06-19T18:18:29.541372Z",
     "iopub.status.busy": "2023-06-19T18:18:29.540499Z",
     "iopub.status.idle": "2023-06-19T18:18:30.834792Z",
     "shell.execute_reply": "2023-06-19T18:18:30.833772Z",
     "shell.execute_reply.started": "2023-06-19T18:18:29.541341Z"
    }
   },
   "outputs": [
    {
     "name": "stdout",
     "output_type": "stream",
     "text": [
      "2.0.1\n"
     ]
    }
   ],
   "source": [
    "# Install required packages.\n",
    "import os\n",
    "import torch\n",
    "os.environ['TORCH'] = torch.__version__\n",
    "print(torch.__version__)"
   ]
  },
  {
   "cell_type": "code",
   "execution_count": 2,
   "metadata": {
    "execution": {
     "iopub.execute_input": "2023-06-19T18:18:33.083963Z",
     "iopub.status.busy": "2023-06-19T18:18:33.083292Z",
     "iopub.status.idle": "2023-06-19T18:18:35.081553Z",
     "shell.execute_reply": "2023-06-19T18:18:35.080251Z",
     "shell.execute_reply.started": "2023-06-19T18:18:33.083937Z"
    }
   },
   "outputs": [
    {
     "name": "stdout",
     "output_type": "stream",
     "text": [
      "Version: 0.4.11\n",
      "Note: you may need to restart the kernel to use updated packages.\n"
     ]
    }
   ],
   "source": [
    "%pip show jax | grep Version"
   ]
  },
  {
   "cell_type": "code",
   "execution_count": 3,
   "metadata": {
    "execution": {
     "iopub.execute_input": "2023-06-19T18:18:41.758672Z",
     "iopub.status.busy": "2023-06-19T18:18:41.758356Z",
     "iopub.status.idle": "2023-06-19T18:19:11.294844Z",
     "shell.execute_reply": "2023-06-19T18:19:11.294073Z",
     "shell.execute_reply.started": "2023-06-19T18:18:41.758647Z"
    }
   },
   "outputs": [
    {
     "name": "stderr",
     "output_type": "stream",
     "text": [
      "\u001b[34m\u001b[1mwandb\u001b[0m: Logging into wandb.ai. (Learn how to deploy a W&B server locally: https://wandb.me/wandb-server)\n",
      "\u001b[34m\u001b[1mwandb\u001b[0m: You can find your API key in your browser here: https://wandb.ai/authorize\n",
      "\u001b[34m\u001b[1mwandb\u001b[0m: Paste an API key from your profile and hit enter, or press ctrl+c to quit:"
     ]
    },
    {
     "name": "stdout",
     "output_type": "stream",
     "text": [
      "  ········································\n"
     ]
    },
    {
     "name": "stderr",
     "output_type": "stream",
     "text": [
      "\u001b[34m\u001b[1mwandb\u001b[0m: Appending key for api.wandb.ai to your netrc file: /root/.netrc\n"
     ]
    },
    {
     "data": {
      "text/plain": [
       "True"
      ]
     },
     "execution_count": 3,
     "metadata": {},
     "output_type": "execute_result"
    }
   ],
   "source": [
    "import wandb\n",
    "wandb.login()"
   ]
  },
  {
   "cell_type": "code",
   "execution_count": 4,
   "metadata": {
    "execution": {
     "iopub.execute_input": "2023-06-19T18:19:20.237114Z",
     "iopub.status.busy": "2023-06-19T18:19:20.236121Z",
     "iopub.status.idle": "2023-06-19T18:19:20.984437Z",
     "shell.execute_reply": "2023-06-19T18:19:20.983484Z",
     "shell.execute_reply.started": "2023-06-19T18:19:20.237082Z"
    }
   },
   "outputs": [
    {
     "name": "stdout",
     "output_type": "stream",
     "text": [
      "Mon Jun 19 18:19:20 2023       \n",
      "+-----------------------------------------------------------------------------+\n",
      "| NVIDIA-SMI 510.73.05    Driver Version: 510.73.05    CUDA Version: 11.6     |\n",
      "|-------------------------------+----------------------+----------------------+\n",
      "| GPU  Name        Persistence-M| Bus-Id        Disp.A | Volatile Uncorr. ECC |\n",
      "| Fan  Temp  Perf  Pwr:Usage/Cap|         Memory-Usage | GPU-Util  Compute M. |\n",
      "|                               |                      |               MIG M. |\n",
      "|===============================+======================+======================|\n",
      "|   0  NVIDIA RTX A4000    Off  | 00000000:00:05.0 Off |                  Off |\n",
      "| 41%   35C    P8    15W / 140W |      0MiB / 16376MiB |      0%      Default |\n",
      "|                               |                      |                  N/A |\n",
      "+-------------------------------+----------------------+----------------------+\n",
      "                                                                               \n",
      "+-----------------------------------------------------------------------------+\n",
      "| Processes:                                                                  |\n",
      "|  GPU   GI   CI        PID   Type   Process name                  GPU Memory |\n",
      "|        ID   ID                                                   Usage      |\n",
      "|=============================================================================|\n",
      "|  No running processes found                                                 |\n",
      "+-----------------------------------------------------------------------------+\n"
     ]
    }
   ],
   "source": [
    "!nvidia-smi"
   ]
  },
  {
   "attachments": {},
   "cell_type": "markdown",
   "metadata": {},
   "source": [
    "## PNA EPCSAFT"
   ]
  },
  {
   "cell_type": "code",
   "execution_count": null,
   "metadata": {
    "execution": {
     "iopub.execute_input": "2023-06-19T21:29:14.573665Z",
     "iopub.status.busy": "2023-06-19T21:29:14.573243Z"
    }
   },
   "outputs": [
    {
     "name": "stdout",
     "output_type": "stream",
     "text": [
      "x64 on\n",
      "I0619 21:29:19.398932 140090229000000 main.py:26] JAX host: 0 / 1\n",
      "I0619 21:29:19.399080 140090229000000 main.py:27] JAX local devices: [StreamExecutorGpuDevice(id=0, process_index=0, slice_index=0)]\n",
      "I0619 21:29:19.399244 140090229000000 main.py:29] Calling train and evaluate\n",
      "\u001b[34m\u001b[1mwandb\u001b[0m: Currently logged in as: \u001b[33mwildsonbbl\u001b[0m (\u001b[33mwildson\u001b[0m). Use \u001b[1m`wandb login --relogin`\u001b[0m to force relogin\n",
      "\u001b[34m\u001b[1mwandb\u001b[0m: Tracking run with wandb version 0.15.4\n",
      "\u001b[34m\u001b[1mwandb\u001b[0m: Run data is saved locally in \u001b[35m\u001b[1m/notebooks/wandb/run-20230619_212919-80p508pc\u001b[0m\n",
      "\u001b[34m\u001b[1mwandb\u001b[0m: Run \u001b[1m`wandb offline`\u001b[0m to turn off syncing.\n",
      "\u001b[34m\u001b[1mwandb\u001b[0m: Syncing run \u001b[33msolar-elevator-226\u001b[0m\n",
      "\u001b[34m\u001b[1mwandb\u001b[0m: ⭐️ View project at \u001b[34m\u001b[4mhttps://wandb.ai/wildson/gnn-pc-saft\u001b[0m\n",
      "\u001b[34m\u001b[1mwandb\u001b[0m: 🚀 View run at \u001b[34m\u001b[4mhttps://wandb.ai/wildson/gnn-pc-saft/runs/80p508pc\u001b[0m\n",
      "I0619 21:29:29.877165 140090229000000 train.py:85] Obtaining datasets.\n",
      "I0619 21:29:29.915827 140090229000000 train.py:101] Initializing network.\n",
      "I0619 21:29:31.931607 140090229000000 train.py:143] Starting training.\n",
      "I0619 21:30:22.802890 140090229000000 train.py:171] Finished training step 12001.\n",
      "I0619 21:30:26.459191 140090229000000 train.py:171] Finished training step 12002.\n",
      "I0619 21:30:30.119949 140090229000000 train.py:171] Finished training step 12003.\n",
      "I0619 21:30:33.782233 140090229000000 train.py:171] Finished training step 12004.\n",
      "I0619 21:30:37.432539 140090229000000 train.py:171] Finished training step 12005.\n",
      "I0619 21:30:41.093971 140090229000000 train.py:171] Finished training step 12006.\n",
      "I0619 21:30:44.759060 140090229000000 train.py:171] Finished training step 12007.\n",
      "I0619 21:30:48.420139 140090229000000 train.py:171] Finished training step 12008.\n",
      "I0619 21:30:52.100581 140090229000000 train.py:171] Finished training step 12009.\n",
      "I0619 21:30:55.794878 140090229000000 train.py:171] Finished training step 12010.\n"
     ]
    }
   ],
   "source": [
    "!python main.py --workdir=./training --config=configs/default.py \\\n",
    "--config.num_train_steps={int(16e3)} --config.log_every_steps=10 --config.pad_size=64\\\n",
    "--config.eval_every_steps=4000 --config.checkpoint_every_steps=100 --config.repeat_steps=2\\\n",
    "--config.learning_rate=0.0000001 --config.warmup_steps=500 --config.optimizer={'sgd'} --config.batch_size=8"
   ]
  },
  {
   "cell_type": "code",
   "execution_count": null,
   "metadata": {},
   "outputs": [],
   "source": []
  }
 ],
 "metadata": {
  "kernelspec": {
   "display_name": "Python 3 (ipykernel)",
   "language": "python",
   "name": "python3"
  },
  "language_info": {
   "codemirror_mode": {
    "name": "ipython",
    "version": 3
   },
   "file_extension": ".py",
   "mimetype": "text/x-python",
   "name": "python",
   "nbconvert_exporter": "python",
   "pygments_lexer": "ipython3",
   "version": "3.10.9"
  },
  "vscode": {
   "interpreter": {
    "hash": "7f019609534c17fc0280e3612935020eee50536f0cea28bd1fe10f7c21931aaa"
   }
  }
 },
 "nbformat": 4,
 "nbformat_minor": 4
}
