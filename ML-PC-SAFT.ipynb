{
 "cells": [
  {
   "cell_type": "markdown",
   "metadata": {},
   "source": [
    "# Modeling with GNN-ePC-SAFT"
   ]
  },
  {
   "cell_type": "markdown",
   "metadata": {},
   "source": [
    "Model combining graph neural network with ePC-SAFT\n"
   ]
  },
  {
   "cell_type": "markdown",
   "metadata": {},
   "source": [
    "## Starting point"
   ]
  },
  {
   "cell_type": "code",
   "execution_count": 1,
   "metadata": {
    "tags": []
   },
   "outputs": [
    {
     "name": "stdout",
     "output_type": "stream",
     "text": [
      "\u001b[31mERROR: pip's dependency resolver does not currently take into account all the packages that are installed. This behaviour is the source of the following dependency conflicts.\n",
      "gradient 2.0.6 requires attrs<=19, but you have attrs 23.1.0 which is incompatible.\u001b[0m\u001b[31m\n",
      "\u001b[0m\u001b[33mWARNING: Running pip as the 'root' user can result in broken permissions and conflicting behaviour with the system package manager. It is recommended to use a virtual environment instead: https://pip.pypa.io/warnings/venv\u001b[0m\u001b[33m\n",
      "\u001b[0mNote: you may need to restart the kernel to use updated packages.\n"
     ]
    }
   ],
   "source": [
    "%pip install torchmetrics clu ml-collections torch_geometric polars rdkit -q"
   ]
  },
  {
   "cell_type": "code",
   "execution_count": 2,
   "metadata": {
    "tags": []
   },
   "outputs": [
    {
     "name": "stdout",
     "output_type": "stream",
     "text": [
      "\u001b[31mERROR: pip's dependency resolver does not currently take into account all the packages that are installed. This behaviour is the source of the following dependency conflicts.\n",
      "tensorflow 2.9.2 requires protobuf<3.20,>=3.9.2, but you have protobuf 4.23.4 which is incompatible.\n",
      "tensorboard 2.9.1 requires protobuf<3.20,>=3.9.2, but you have protobuf 4.23.4 which is incompatible.\u001b[0m\u001b[31m\n",
      "\u001b[0m\u001b[33mWARNING: Running pip as the 'root' user can result in broken permissions and conflicting behaviour with the system package manager. It is recommended to use a virtual environment instead: https://pip.pypa.io/warnings/venv\u001b[0m\u001b[33m\n",
      "\u001b[0mNote: you may need to restart the kernel to use updated packages.\n"
     ]
    }
   ],
   "source": [
    "%pip install -U \"ray[tune]\" -q"
   ]
  },
  {
   "cell_type": "code",
   "execution_count": null,
   "metadata": {},
   "outputs": [],
   "source": [
    "%pip install torch_scatter torch_sparse -f https://data.pyg.org/whl/torch-1.12.1+cu116.html -q"
   ]
  },
  {
   "cell_type": "code",
   "execution_count": 3,
   "metadata": {
    "execution": {
     "iopub.execute_input": "2023-07-23T17:22:38.046948Z",
     "iopub.status.busy": "2023-07-23T17:22:38.046688Z",
     "iopub.status.idle": "2023-07-23T17:22:38.852502Z",
     "shell.execute_reply": "2023-07-23T17:22:38.851735Z",
     "shell.execute_reply.started": "2023-07-23T17:22:38.046921Z"
    },
    "tags": []
   },
   "outputs": [
    {
     "name": "stdout",
     "output_type": "stream",
     "text": [
      "1.12.1+cu116\n"
     ]
    }
   ],
   "source": [
    "# Install required packages.\n",
    "import os\n",
    "import torch\n",
    "os.environ['TORCH'] = torch.__version__\n",
    "print(torch.__version__)"
   ]
  },
  {
   "cell_type": "code",
   "execution_count": 4,
   "metadata": {
    "execution": {
     "iopub.execute_input": "2023-07-23T17:22:38.854472Z",
     "iopub.status.busy": "2023-07-23T17:22:38.854162Z",
     "iopub.status.idle": "2023-07-23T17:22:42.415421Z",
     "shell.execute_reply": "2023-07-23T17:22:42.414195Z",
     "shell.execute_reply.started": "2023-07-23T17:22:38.854447Z"
    },
    "tags": []
   },
   "outputs": [
    {
     "name": "stdout",
     "output_type": "stream",
     "text": [
      "Version: 0.4.1\n",
      "Note: you may need to restart the kernel to use updated packages.\n"
     ]
    }
   ],
   "source": [
    "%pip show jax | grep Version"
   ]
  },
  {
   "cell_type": "code",
   "execution_count": null,
   "metadata": {
    "tags": []
   },
   "outputs": [],
   "source": [
    "import wandb\n",
    "wandb.login()"
   ]
  },
  {
   "cell_type": "code",
   "execution_count": 5,
   "metadata": {
    "execution": {
     "iopub.execute_input": "2023-07-23T17:22:42.417309Z",
     "iopub.status.busy": "2023-07-23T17:22:42.416988Z",
     "iopub.status.idle": "2023-07-23T17:22:42.963687Z",
     "shell.execute_reply": "2023-07-23T17:22:42.962287Z",
     "shell.execute_reply.started": "2023-07-23T17:22:42.417268Z"
    },
    "tags": []
   },
   "outputs": [
    {
     "name": "stdout",
     "output_type": "stream",
     "text": [
      "Sun Jul 23 17:22:42 2023       \n",
      "+-----------------------------------------------------------------------------+\n",
      "| NVIDIA-SMI 525.116.04   Driver Version: 525.116.04   CUDA Version: 12.0     |\n",
      "|-------------------------------+----------------------+----------------------+\n",
      "| GPU  Name        Persistence-M| Bus-Id        Disp.A | Volatile Uncorr. ECC |\n",
      "| Fan  Temp  Perf  Pwr:Usage/Cap|         Memory-Usage | GPU-Util  Compute M. |\n",
      "|                               |                      |               MIG M. |\n",
      "|===============================+======================+======================|\n",
      "|   0  Quadro P5000        Off  | 00000000:00:05.0 Off |                  Off |\n",
      "| 26%   35C    P8     6W / 180W |      2MiB / 16384MiB |      0%      Default |\n",
      "|                               |                      |                  N/A |\n",
      "+-------------------------------+----------------------+----------------------+\n",
      "                                                                               \n",
      "+-----------------------------------------------------------------------------+\n",
      "| Processes:                                                                  |\n",
      "|  GPU   GI   CI        PID   Type   Process name                  GPU Memory |\n",
      "|        ID   ID                                                   Usage      |\n",
      "|=============================================================================|\n",
      "|  No running processes found                                                 |\n",
      "+-----------------------------------------------------------------------------+\n"
     ]
    }
   ],
   "source": [
    "!nvidia-smi"
   ]
  },
  {
   "cell_type": "markdown",
   "metadata": {},
   "source": [
    "## PNA EPCSAFT"
   ]
  },
  {
   "cell_type": "code",
   "execution_count": null,
   "metadata": {
    "tags": []
   },
   "outputs": [],
   "source": [
    "!python train.py --workdir=./ --config=configs/default.py \\\n",
    "--config.num_train_steps={int(500000)} --config.log_every_steps=100 --config.num_para=7\\\n",
    "--config.checkpoint_every_steps=2000 --config.learning_rate=0.0001 --config.warmup_steps=100 --config.optimizer={'adam'} --config.batch_size=128\\\n",
    "--config.propagation_depth=5 --config.hidden_dim=512 --config.num_mlp_layers=2 --config.pre_layers=2 --config.post_layers=1"
   ]
  },
  {
   "cell_type": "code",
   "execution_count": null,
   "metadata": {
    "tags": []
   },
   "outputs": [
    {
     "name": "stdout",
     "output_type": "stream",
     "text": [
      "x64 on\n",
      "2023-07-24 02:53:43,950\tERROR utils.py:540 -- Unexpected error calculating docker cpuset ids.\n",
      "Traceback (most recent call last):\n",
      "  File \"/usr/local/lib/python3.9/dist-packages/ray/_private/utils.py\", line 537, in _get_docker_cpus\n",
      "    cpu_ids.append(int(num_or_range))\n",
      "ValueError: invalid literal for int() with base 10: '\\n'\n",
      "2023-07-24 02:53:43,998\tINFO worker.py:1621 -- Started a local Ray instance.\n",
      "2023-07-24 02:53:45,208\tINFO experiment_analysis.py:972 -- No trial data passed in during `ExperimentAnalysis` initialization -- you are most likely loading the experiment after it has completed.\n",
      "Loading trial data from the experiment checkpoint file. This may result in loading some stale information, since checkpointing is periodic.\n",
      "2023-07-24 02:53:45,221\tWARNING experiment_analysis.py:916 -- Failed to read the results for 16 trials:\n",
      "- ray/tune_with_parameters_2023-07-24_02-37-22/tune_with_parameters_04508_00003_3_hidden_dim=128,num_mlp_layers=1,post_layers=1,pre_layers=2,propagation_depth=7_2023-07-24_02-37-22\n",
      "- ray/tune_with_parameters_2023-07-24_02-37-22/tune_with_parameters_04508_00004_4_hidden_dim=64,num_mlp_layers=2,post_layers=2,pre_layers=1,propagation_depth=5_2023-07-24_02-37-22\n",
      "- ray/tune_with_parameters_2023-07-24_02-37-22/tune_with_parameters_04508_00005_5_hidden_dim=64,num_mlp_layers=2,post_layers=2,pre_layers=1,propagation_depth=7_2023-07-24_02-37-22\n",
      "- ray/tune_with_parameters_2023-07-24_02-37-22/tune_with_parameters_04508_00006_6_hidden_dim=256,num_mlp_layers=3,post_layers=3,pre_layers=3,propagation_depth=7_2023-07-24_02-37-22\n",
      "- ray/tune_with_parameters_2023-07-24_02-37-22/tune_with_parameters_04508_00007_7_hidden_dim=256,num_mlp_layers=1,post_layers=3,pre_layers=1,propagation_depth=7_2023-07-24_02-37-22\n",
      "- ray/tune_with_parameters_2023-07-24_02-37-22/tune_with_parameters_04508_00008_8_hidden_dim=64,num_mlp_layers=1,post_layers=3,pre_layers=3,propagation_depth=5_2023-07-24_02-37-22\n",
      "- ray/tune_with_parameters_2023-07-24_02-37-22/tune_with_parameters_04508_00009_9_hidden_dim=256,num_mlp_layers=3,post_layers=2,pre_layers=2,propagation_depth=7_2023-07-24_02-37-22\n",
      "- ray/tune_with_parameters_2023-07-24_02-37-22/tune_with_parameters_04508_00010_10_hidden_dim=512,num_mlp_layers=1,post_layers=3,pre_layers=3,propagation_depth=3_2023-07-24_02-37-22\n",
      "- ray/tune_with_parameters_2023-07-24_02-37-22/tune_with_parameters_04508_00011_11_hidden_dim=128,num_mlp_layers=2,post_layers=1,pre_layers=1,propagation_depth=7_2023-07-24_02-37-22\n",
      "- ray/tune_with_parameters_2023-07-24_02-37-22/tune_with_parameters_04508_00012_12_hidden_dim=64,num_mlp_layers=2,post_layers=3,pre_layers=3,propagation_depth=3_2023-07-24_02-37-22\n",
      "- ray/tune_with_parameters_2023-07-24_02-37-22/tune_with_parameters_04508_00013_13_hidden_dim=512,num_mlp_layers=1,post_layers=3,pre_layers=1,propagation_depth=6_2023-07-24_02-37-22\n",
      "- ray/tune_with_parameters_2023-07-24_02-37-22/tune_with_parameters_04508_00014_14_hidden_dim=64,num_mlp_layers=2,post_layers=1,pre_layers=3,propagation_depth=7_2023-07-24_02-37-22\n",
      "- ray/tune_with_parameters_2023-07-24_02-37-22/tune_with_parameters_04508_00015_15_hidden_dim=512,num_mlp_layers=2,post_layers=2,pre_layers=3,propagation_depth=7_2023-07-24_02-37-22\n",
      "- ray/tune_with_parameters_2023-07-24_02-37-22/tune_with_parameters_04508_00016_16_hidden_dim=512,num_mlp_layers=3,post_layers=1,pre_layers=1,propagation_depth=6_2023-07-24_02-37-25\n",
      "- ray/tune_with_parameters_2023-07-24_02-37-22/tune_with_parameters_04508_00017_17_hidden_dim=512,num_mlp_layers=1,post_layers=3,pre_layers=1,propagation_depth=5_2023-07-24_02-46-22\n",
      "- ray/tune_with_parameters_2023-07-24_02-37-22/tune_with_parameters_04508_00018_18_hidden_dim=64,num_mlp_layers=2,post_layers=3,pre_layers=1,propagation_depth=4_2023-07-24_02-47-55\n",
      "2023-07-24 02:53:45,223\tINFO tune.py:666 -- [output] This will use the new output engine with verbosity 0. To disable the new output and use the legacy output engine, set the environment variable RAY_AIR_NEW_OUTPUT=0. For more information, please see https://github.com/ray-project/ray/issues/36949\n",
      "2023-07-24 02:53:45,275\tINFO experiment_state.py:435 -- A local experiment checkpoint was found and will be used to restore the previous experiment state.\n",
      "2023-07-24 02:53:45,276\tWARNING trial_runner.py:418 -- Attempting to resume experiment from /notebooks/GNN-ePC-SAFT/ray/tune_with_parameters_2023-07-24_02-37-22. This will ignore any new changes to the specification.\n",
      "2023-07-24 02:53:45,276\tINFO trial_runner.py:422 -- Using the newest experiment state file found within the experiment directory: experiment_state-2023-07-24_02-52-46.json\n",
      "╭─────────────────────────────────────────────────────────────────────────────╮\n",
      "│ Configuration for experiment     tune_with_parameters_2023-07-24_02-37-22   │\n",
      "├─────────────────────────────────────────────────────────────────────────────┤\n",
      "│ Search algorithm                 BasicVariantGenerator                      │\n",
      "│ Scheduler                        AsyncHyperBandScheduler                    │\n",
      "│ Number of trials                 100                                        │\n",
      "╰─────────────────────────────────────────────────────────────────────────────╯\n",
      "\n",
      "View detailed results here: /notebooks/GNN-ePC-SAFT/ray/tune_with_parameters_2023-07-24_02-37-22\n",
      "To visualize your results with TensorBoard, run: `tensorboard --logdir /notebooks/GNN-ePC-SAFT/ray/tune_with_parameters_2023-07-24_02-37-22`\n",
      "\n",
      "\u001b[2m\u001b[36m(pid=6194)\u001b[0m x64 on\n",
      "\u001b[2m\u001b[36m(tune_with_parameters pid=6194)\u001b[0m inchis saved: 1940\n",
      "\u001b[2m\u001b[36m(tune_with_parameters pid=6194)\u001b[0m /usr/local/lib/python3.9/dist-packages/torch_geometric/utils/scatter.py:93: UserWarning: The usage of `scatter(reduce='min')` can be accelerated via the 'torch-scatter' package, but it was not found\n",
      "\u001b[2m\u001b[36m(tune_with_parameters pid=6194)\u001b[0m   warnings.warn(f\"The usage of `scatter(reduce='{reduce}')` \"\n",
      "\u001b[2m\u001b[36m(tune_with_parameters pid=6194)\u001b[0m /usr/local/lib/python3.9/dist-packages/torch_geometric/utils/scatter.py:93: UserWarning: The usage of `scatter(reduce='max')` can be accelerated via the 'torch-scatter' package, but it was not found\n",
      "\u001b[2m\u001b[36m(tune_with_parameters pid=6194)\u001b[0m   warnings.warn(f\"The usage of `scatter(reduce='{reduce}')` \"\n",
      "\u001b[2m\u001b[36m(tune_with_parameters pid=6194)\u001b[0m inchis saved: 1940\n",
      "\u001b[2m\u001b[36m(tune_with_parameters pid=6194)\u001b[0m inchis saved: 1940\n"
     ]
    }
   ],
   "source": [
    "!python tuner_restore.py --workdir=/notebooks/GNN-ePC-SAFT/ --config=configs/default.py \\\n",
    "--restoredir=./ray/tune_with_parameters_2023-07-24_02-37-22 \\\n",
    "--config.num_train_steps=6000 --config.log_every_steps=100\\\n",
    "--config.learning_rate=0.001 --config.warmup_steps=100 --config.optimizer={'adam'} --config.batch_size=128\\\n",
    "--config.num_para=7"
   ]
  },
  {
   "cell_type": "code",
   "execution_count": null,
   "metadata": {},
   "outputs": [],
   "source": [
    "!python evaluate.py --workdir=./ --config=configs/default.py \\\n",
    "--config.num_train_steps={int(500000)} --config.log_every_steps=100 --config.num_para=7\\\n",
    "--config.checkpoint_every_steps=2000 --config.learning_rate=0.00001 --config.warmup_steps=100 --config.optimizer={'adam'} --config.batch_size=128\\\n",
    "--config.propagation_depth=5 --config.hidden_dim=512 --config.num_mlp_layers=2 --config.pre_layers=2 --config.post_layers=1"
   ]
  },
  {
   "cell_type": "code",
   "execution_count": null,
   "metadata": {},
   "outputs": [],
   "source": []
  }
 ],
 "metadata": {
  "kernelspec": {
   "display_name": "Python 3 (ipykernel)",
   "language": "python",
   "name": "python3"
  },
  "language_info": {
   "codemirror_mode": {
    "name": "ipython",
    "version": 3
   },
   "file_extension": ".py",
   "mimetype": "text/x-python",
   "name": "python",
   "nbconvert_exporter": "python",
   "pygments_lexer": "ipython3",
   "version": "3.9.16"
  },
  "vscode": {
   "interpreter": {
    "hash": "7f019609534c17fc0280e3612935020eee50536f0cea28bd1fe10f7c21931aaa"
   }
  }
 },
 "nbformat": 4,
 "nbformat_minor": 4
}
