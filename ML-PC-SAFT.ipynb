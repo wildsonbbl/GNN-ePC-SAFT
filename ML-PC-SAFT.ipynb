{
 "cells": [
  {
   "cell_type": "markdown",
   "metadata": {},
   "source": [
    "# Modeling with GNN-ePC-SAFT"
   ]
  },
  {
   "cell_type": "markdown",
   "metadata": {},
   "source": [
    "Model combining graph neural network with ePC-SAFT\n"
   ]
  },
  {
   "cell_type": "markdown",
   "metadata": {},
   "source": [
    "## Starting point"
   ]
  },
  {
   "cell_type": "code",
   "execution_count": null,
   "metadata": {
    "tags": []
   },
   "outputs": [],
   "source": [
    "%pip install rdkit torchmetrics ml-collections polars clu -q\n",
    "%pip install -q git+https://github.com/pyg-team/pytorch_geometric.git\n",
    "%pip install pcsaft -q"
   ]
  },
  {
   "cell_type": "code",
   "execution_count": null,
   "metadata": {},
   "outputs": [],
   "source": [
    "%pip install -U \"ray[tune]\" protobuf==3.19 tensorboardx -q\n",
    "%pip install hpbandster ConfigSpace -q"
   ]
  },
  {
   "cell_type": "code",
   "execution_count": null,
   "metadata": {
    "tags": []
   },
   "outputs": [],
   "source": [
    "%pip show pcsaft | grep -E \"Version|Name\""
   ]
  },
  {
   "cell_type": "code",
   "execution_count": null,
   "metadata": {
    "tags": []
   },
   "outputs": [],
   "source": [
    "!nvidia-smi"
   ]
  },
  {
   "cell_type": "code",
   "execution_count": null,
   "metadata": {
    "tags": []
   },
   "outputs": [],
   "source": [
    "!lscpu | grep -E \"Model name|Core|core\" "
   ]
  },
  {
   "cell_type": "markdown",
   "metadata": {},
   "source": [
    "## PNA EPCSAFT"
   ]
  },
  {
   "cell_type": "code",
   "execution_count": null,
   "metadata": {
    "tags": []
   },
   "outputs": [],
   "source": [
    "!python -m train.tuner --workdir=/notebooks/GNN-ePC-SAFT --config=configs/default.py --dataset=ramirez\\\n",
    "--num_cpu=8 --num_gpus=1 --num_samples=50 --get_result=False\\\n",
    "--config.num_train_steps=11000 --config.log_every_steps=1000 \\\n",
    "--config.num_para=3 --restoredir=/notebooks/GNN-ePC-SAFT/ray/gnnpcsaft"
   ]
  },
  {
   "cell_type": "code",
   "execution_count": null,
   "metadata": {
    "tags": []
   },
   "outputs": [],
   "source": [
    "import wandb\n",
    "wandb.login()"
   ]
  },
  {
   "cell_type": "code",
   "execution_count": null,
   "metadata": {
    "tags": []
   },
   "outputs": [],
   "source": [
    "!python -m train.train --workdir=./ --config=configs/default.py --dataset=thermoml\\\n",
    "--config.num_train_steps=5_210_000 --config.optimizer=adam --config.learning_rate=1e-3 \\\n",
    "--config.change_opt=False --config.change_sch=True \\\n",
    "--config.log_every_steps=5_000 --config.eval_every_steps=10_000 --config.checkpoint_every_steps=10_000 \\\n",
    "--config.propagation_depth=4 --config.hidden_dim=128 --config.num_mlp_layers=2 --config.pre_layers=1 --config.post_layers=3"
   ]
  },
  {
   "cell_type": "code",
   "execution_count": null,
   "metadata": {},
   "outputs": [],
   "source": [
    "for n in range(1,10,1):\n",
    "    gamma = 1*10**-n\n",
    "    !python -m train.parametrisation --weight_decay={gamma}"
   ]
  },
  {
   "cell_type": "code",
   "execution_count": null,
   "metadata": {},
   "outputs": [],
   "source": [
    "!python -m train.parametrisation --weight_decay=0.0"
   ]
  },
  {
   "cell_type": "code",
   "execution_count": null,
   "metadata": {},
   "outputs": [],
   "source": []
  }
 ],
 "metadata": {
  "kernelspec": {
   "display_name": "Python 3 (ipykernel)",
   "language": "python",
   "name": "python3"
  },
  "language_info": {
   "codemirror_mode": {
    "name": "ipython",
    "version": 3
   },
   "file_extension": ".py",
   "mimetype": "text/x-python",
   "name": "python",
   "nbconvert_exporter": "python",
   "pygments_lexer": "ipython3",
   "version": "3.9.16"
  },
  "vscode": {
   "interpreter": {
    "hash": "7f019609534c17fc0280e3612935020eee50536f0cea28bd1fe10f7c21931aaa"
   }
  }
 },
 "nbformat": 4,
 "nbformat_minor": 4
}
