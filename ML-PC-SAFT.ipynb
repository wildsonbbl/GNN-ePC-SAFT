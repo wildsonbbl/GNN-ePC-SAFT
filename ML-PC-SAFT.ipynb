{
 "cells": [
  {
   "attachments": {},
   "cell_type": "markdown",
   "metadata": {},
   "source": [
    "# Modeling with GNN-ePC-SAFT"
   ]
  },
  {
   "attachments": {},
   "cell_type": "markdown",
   "metadata": {},
   "source": [
    "Model combining graph neural network with ePC-SAFT\n"
   ]
  },
  {
   "attachments": {},
   "cell_type": "markdown",
   "metadata": {},
   "source": [
    "## Starting point"
   ]
  },
  {
   "cell_type": "code",
   "execution_count": null,
   "metadata": {},
   "outputs": [],
   "source": [
    "# for the cloud\n",
    "!git clone https://github.com/wildsonbbl/GNN-ePC-SAFT.git --branch fulljax --single-branch\n",
    "%cd GNN-ePC-SAFT/"
   ]
  },
  {
   "cell_type": "code",
   "execution_count": null,
   "metadata": {},
   "outputs": [],
   "source": [
    "%pip install rdkit wandb clu jraph flax torch_geometric jaxopt -q"
   ]
  },
  {
   "cell_type": "code",
   "execution_count": null,
   "metadata": {},
   "outputs": [],
   "source": [
    "!mkdir ./data/thermoml/test/processed\n",
    "!mkdir ./data/thermoml/val/processed\n",
    "!mkdir ./data/thermoml/train/processed"
   ]
  },
  {
   "cell_type": "code",
   "execution_count": null,
   "metadata": {},
   "outputs": [],
   "source": [
    "import shutil\n",
    "shutil.copy(\"/content/drive/MyDrive/tmldata.pt\", \"/content/GNN-ePC-SAFT/data/thermoml/train/processed/tmldata.pt\")\n",
    "shutil.copy(\"/content/drive/MyDrive/valtmldata.pt\", \"/content/GNN-ePC-SAFT/data/thermoml/val/processed/tmldata.pt\")"
   ]
  },
  {
   "cell_type": "code",
   "execution_count": null,
   "metadata": {},
   "outputs": [],
   "source": [
    "import wandb\n",
    "wandb.login()"
   ]
  },
  {
   "cell_type": "code",
   "execution_count": null,
   "metadata": {},
   "outputs": [],
   "source": [
    "!python main.py --workdir=./training --config=configs/default.py \\\n",
    "--config.num_train_steps=10000 --config.batch_size=128 --config.eval_every_steps=10000"
   ]
  }
 ],
 "metadata": {
  "kernelspec": {
   "display_name": "ml-pc-saft",
   "language": "python",
   "name": "python3"
  },
  "language_info": {
   "codemirror_mode": {
    "name": "ipython",
    "version": 3
   },
   "file_extension": ".py",
   "mimetype": "text/x-python",
   "name": "python",
   "nbconvert_exporter": "python",
   "pygments_lexer": "ipython3",
   "version": "3.10.0"
  },
  "orig_nbformat": 4,
  "vscode": {
   "interpreter": {
    "hash": "7f019609534c17fc0280e3612935020eee50536f0cea28bd1fe10f7c21931aaa"
   }
  }
 },
 "nbformat": 4,
 "nbformat_minor": 2
}
