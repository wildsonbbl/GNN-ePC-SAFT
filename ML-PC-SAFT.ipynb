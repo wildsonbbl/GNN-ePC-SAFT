{
 "cells": [
  {
   "cell_type": "markdown",
   "metadata": {},
   "source": [
    "# Modeling with GNN-ePC-SAFT"
   ]
  },
  {
   "cell_type": "markdown",
   "metadata": {},
   "source": [
    "Model combining graph neural network with ePC-SAFT\n"
   ]
  },
  {
   "cell_type": "markdown",
   "metadata": {},
   "source": [
    "## Starting point"
   ]
  },
  {
   "cell_type": "code",
   "execution_count": null,
   "metadata": {
    "tags": []
   },
   "outputs": [],
   "source": [
    "%pip install rdkit torchmetrics ml-collections polars clu jraph jaxopt -q\n",
    "%pip install -U \"ray[tune]\" -q\n",
    "%pip install torch_geometric -q\n",
    "%pip install pcsaft -q"
   ]
  },
  {
   "cell_type": "code",
   "execution_count": null,
   "metadata": {
    "tags": []
   },
   "outputs": [],
   "source": [
    "# Install required packages.\n",
    "import os\n",
    "import torch\n",
    "os.environ['TORCH'] = torch.__version__\n",
    "print(torch.__version__)"
   ]
  },
  {
   "cell_type": "code",
   "execution_count": null,
   "metadata": {
    "tags": []
   },
   "outputs": [],
   "source": [
    "%pip show pcsaft | grep Version"
   ]
  },
  {
   "cell_type": "code",
   "execution_count": null,
   "metadata": {
    "tags": []
   },
   "outputs": [],
   "source": [
    "!nvidia-smi"
   ]
  },
  {
   "cell_type": "markdown",
   "metadata": {},
   "source": [
    "## PNA EPCSAFT"
   ]
  },
  {
   "cell_type": "code",
   "execution_count": null,
   "metadata": {
    "tags": []
   },
   "outputs": [],
   "source": [
    "!python tuner.py --workdir=/notebooks/GNN-ePC-SAFT/ --config=configs/default.py \\\n",
    "--config.num_train_steps=10000 --config.log_every_steps=100\\\n",
    "--config.learning_rate=0.001  --config.optimizer={'adam'} --config.batch_size=128\\\n",
    "--config.num_para=3\n",
    "#--restoredir=None \\"
   ]
  },
  {
   "cell_type": "code",
   "execution_count": null,
   "metadata": {
    "tags": []
   },
   "outputs": [],
   "source": [
    "import wandb\n",
    "wandb.login()"
   ]
  },
  {
   "cell_type": "code",
   "execution_count": null,
   "metadata": {
    "tags": []
   },
   "outputs": [],
   "source": [
    "!python train.py --workdir=./ --config=configs/default.py \\\n",
    "--config.num_train_steps={int(500000)} --config.log_every_steps=100 --config.num_para=3 \\\n",
    "--config.checkpoint_every_steps=2000 --config.learning_rate=0.001 --config.patience=10 \\\n",
    "--config.warmup_steps=500 --config.optimizer={'adam'} --config.batch_size=128 \\\n",
    "--config.propagation_depth=3 --config.hidden_dim=64 --config.num_mlp_layers=2 --config.pre_layers=2 --config.post_layers=1"
   ]
  },
  {
   "cell_type": "code",
   "execution_count": null,
   "metadata": {
    "tags": []
   },
   "outputs": [],
   "source": [
    "!python evaluate.py --workdir=./ --config=configs/default.py \\\n",
    "--config.num_train_steps={int(500000)} --config.log_every_steps=100 --config.num_para=7 \\\n",
    "--config.checkpoint_every_steps=2000 --config.learning_rate=0.0001 --config.patience=1000 \\\n",
    "--config.warmup_steps=100 --config.optimizer={'adam'} --config.batch_size=128 \\\n",
    "--config.propagation_depth=4 --config.hidden_dim=64 --config.num_mlp_layers=2 --config.pre_layers=1 --config.post_layers=3"
   ]
  },
  {
   "cell_type": "code",
   "execution_count": null,
   "metadata": {},
   "outputs": [],
   "source": []
  }
 ],
 "metadata": {
  "kernelspec": {
   "display_name": "Python 3 (ipykernel)",
   "language": "python",
   "name": "python3"
  },
  "language_info": {
   "codemirror_mode": {
    "name": "ipython",
    "version": 3
   },
   "file_extension": ".py",
   "mimetype": "text/x-python",
   "name": "python",
   "nbconvert_exporter": "python",
   "pygments_lexer": "ipython3",
   "version": "3.9.16"
  },
  "vscode": {
   "interpreter": {
    "hash": "7f019609534c17fc0280e3612935020eee50536f0cea28bd1fe10f7c21931aaa"
   }
  }
 },
 "nbformat": 4,
 "nbformat_minor": 4
}
