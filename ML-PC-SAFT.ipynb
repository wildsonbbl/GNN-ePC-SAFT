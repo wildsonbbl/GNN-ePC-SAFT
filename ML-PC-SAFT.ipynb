{
 "cells": [
  {
   "attachments": {},
   "cell_type": "markdown",
   "metadata": {},
   "source": [
    "# Modeling with GNN-ePC-SAFT"
   ]
  },
  {
   "attachments": {},
   "cell_type": "markdown",
   "metadata": {},
   "source": [
    "Model combining graph neural network with ePC-SAFT\n"
   ]
  },
  {
   "attachments": {},
   "cell_type": "markdown",
   "metadata": {},
   "source": [
    "## Starting point"
   ]
  },
  {
   "cell_type": "code",
   "execution_count": null,
   "metadata": {},
   "outputs": [],
   "source": [
    "# for the cloud\n",
    "#!git clone https://github.com/wildsonbbl/GNN-ePC-SAFT\n",
    "# %cd GNN-ePC-SAFT/\n",
    "#!pip install rdkit torch_geometric torch-scatter\n",
    "#%load_ext tensorboard\n",
    "#%tensorboard --logdir=runs\n",
    "#from google.colab import drive\n",
    "#drive.mount('/content/drive')\n",
    "#import shutil\n",
    "#shutil.copy(\"/content/drive/MyDrive/tmldata.pt\", \"/content/GNN-ePC-SAFT/data/thermoml/train/processed\")\n"
   ]
  },
  {
   "cell_type": "code",
   "execution_count": 2,
   "metadata": {},
   "outputs": [],
   "source": [
    "\n",
    "from torch.utils.tensorboard import SummaryWriter\n",
    "from tqdm.notebook import tqdm as ntqdm\n",
    "\n",
    "from jax.config import config\n",
    "config.update(\"jax_enable_x64\", True)\n",
    "from PNAEPCSAFT import *"
   ]
  },
  {
   "attachments": {},
   "cell_type": "markdown",
   "metadata": {},
   "source": [
    "## PNA EPCSAFT"
   ]
  },
  {
   "cell_type": "code",
   "execution_count": null,
   "metadata": {},
   "outputs": [],
   "source": [
    "writer = SummaryWriter('runs/exp1')"
   ]
  },
  {
   "cell_type": "code",
   "execution_count": null,
   "metadata": {},
   "outputs": [],
   "source": [
    "for _ in ntqdm(range(1, 301), desc ='epoch: ', total=300):\n",
    "    epoch += 1\n",
    "    loss = train()\n",
    "    loss_val = test(val_loader)\n",
    "    writer.add_scalar('Loss/train', loss, epoch)\n",
    "    writer.add_scalar('Loss/val', loss_val, epoch)\n",
    "    if loss_val < best_val_loss:\n",
    "        best_val_loss = loss_val\n",
    "        savemodel(model, optimizer, 'best_checkpoint.pth', epoch, loss, best_val_loss)\n",
    "    savemodel(model,  optimizer, 'last_checkpoint.pth', epoch, loss, best_val_loss)\n",
    "    scheduler.step(loss_val)\n",
    "writer.flush()\n",
    "    "
   ]
  }
 ],
 "metadata": {
  "kernelspec": {
   "display_name": "ml-pc-saft",
   "language": "python",
   "name": "python3"
  },
  "language_info": {
   "codemirror_mode": {
    "name": "ipython",
    "version": 3
   },
   "file_extension": ".py",
   "mimetype": "text/x-python",
   "name": "python",
   "nbconvert_exporter": "python",
   "pygments_lexer": "ipython3",
   "version": "3.10.9"
  },
  "orig_nbformat": 4,
  "vscode": {
   "interpreter": {
    "hash": "7f019609534c17fc0280e3612935020eee50536f0cea28bd1fe10f7c21931aaa"
   }
  }
 },
 "nbformat": 4,
 "nbformat_minor": 2
}
