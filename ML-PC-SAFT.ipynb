{
 "cells": [
  {
   "attachments": {},
   "cell_type": "markdown",
   "metadata": {},
   "source": [
    "# Modeling with GNN-ePC-SAFT"
   ]
  },
  {
   "attachments": {},
   "cell_type": "markdown",
   "metadata": {},
   "source": [
    "Model combining graph neural network with ePC-SAFT\n"
   ]
  },
  {
   "attachments": {},
   "cell_type": "markdown",
   "metadata": {},
   "source": [
    "## Starting point"
   ]
  },
  {
   "cell_type": "code",
   "execution_count": 1,
   "metadata": {},
   "outputs": [],
   "source": [
    "import jax.numpy as np\n",
    "import jax\n",
    "from jax import dlpack as jdlpack\n",
    "from torch.utils import dlpack as tdlpack\n",
    "from importlib import reload\n",
    "import ml_pc_saft\n",
    "import torch\n",
    "\n",
    "from jax.config import config\n",
    "config.update(\"jax_enable_x64\", True)"
   ]
  },
  {
   "cell_type": "code",
   "execution_count": 20,
   "metadata": {},
   "outputs": [
    {
     "data": {
      "text/plain": [
       "<module 'ml_pc_saft' from '/home/wildsonbbl/documents/code/ePC-SAFT/ml_pc_saft.py'>"
      ]
     },
     "execution_count": 20,
     "metadata": {},
     "output_type": "execute_result"
    }
   ],
   "source": [
    "reload(ml_pc_saft)"
   ]
  },
  {
   "attachments": {},
   "cell_type": "markdown",
   "metadata": {},
   "source": [
    "## ML layer"
   ]
  },
  {
   "cell_type": "code",
   "execution_count": 9,
   "metadata": {},
   "outputs": [],
   "source": [
    "                            #m      s       e     vola      eassoc dipm dipnum z   dielc  k    l   khb\n",
    "paratorch = torch.tensor([[2.5313, 3.4608, 269.47, 0.0,     0.0,    1.04, 1.0, 0.0, 1.0, 0.0, 0.0, 0.0],\n",
    "                          [2.3827, 3.1771, 198.24, 0.032384, 2653.4, 0.0, 0.0, 0.0, 1.0, 0.0, 0.0, 0.0]],\n",
    "                          dtype=float, device='cuda:0', requires_grad=True)\n",
    "\n",
    "                            #x1       x2       T        P    phase type  y\n",
    "statetorch = torch.asarray([0.3607, 0.6393, 337.03, 101330.0, 1.0, 3.0, 100000.0], dtype=float, device='cuda:0')\n",
    "\n",
    "parameters = tdlpack.to_dlpack(paratorch)\n",
    "parameters = jdlpack.from_dlpack(parameters)\n",
    "\n",
    "state = tdlpack.to_dlpack(statetorch)\n",
    "state = jdlpack.from_dlpack(state)\n",
    "fakebatch_para = torch.ones((64,1,1),device='cuda:0')*paratorch\n",
    "fakebatch_state = torch.ones((64,1,),device='cuda:0')*statetorch"
   ]
  },
  {
   "cell_type": "code",
   "execution_count": 3,
   "metadata": {},
   "outputs": [],
   "source": [
    "loss = ml_pc_saft.PCSAFTLOSS.apply"
   ]
  },
  {
   "cell_type": "code",
   "execution_count": 10,
   "metadata": {},
   "outputs": [
    {
     "data": {
      "text/plain": [
       "tensor(65.1733, device='cuda:0', dtype=torch.float64,\n",
       "       grad_fn=<PCSAFTLOSSBackward>)"
      ]
     },
     "execution_count": 10,
     "metadata": {},
     "output_type": "execute_result"
    }
   ],
   "source": [
    "results = loss(fakebatch_para, fakebatch_state)\n",
    "results"
   ]
  },
  {
   "cell_type": "code",
   "execution_count": null,
   "metadata": {},
   "outputs": [],
   "source": [
    "results.backward()"
   ]
  },
  {
   "cell_type": "code",
   "execution_count": null,
   "metadata": {},
   "outputs": [],
   "source": [
    "paratorch.grad"
   ]
  },
  {
   "attachments": {},
   "cell_type": "markdown",
   "metadata": {},
   "source": [
    "### PNA EPCSAFT"
   ]
  }
 ],
 "metadata": {
  "kernelspec": {
   "display_name": "ml-pc-saft",
   "language": "python",
   "name": "python3"
  },
  "language_info": {
   "codemirror_mode": {
    "name": "ipython",
    "version": 3
   },
   "file_extension": ".py",
   "mimetype": "text/x-python",
   "name": "python",
   "nbconvert_exporter": "python",
   "pygments_lexer": "ipython3",
   "version": "3.10.9"
  },
  "orig_nbformat": 4,
  "vscode": {
   "interpreter": {
    "hash": "7f019609534c17fc0280e3612935020eee50536f0cea28bd1fe10f7c21931aaa"
   }
  }
 },
 "nbformat": 4,
 "nbformat_minor": 2
}
