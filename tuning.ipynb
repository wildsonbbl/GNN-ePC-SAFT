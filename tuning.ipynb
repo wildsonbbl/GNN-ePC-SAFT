{
 "cells": [
  {
   "cell_type": "markdown",
   "id": "e33eac98",
   "metadata": {
    "papermill": {
     "duration": 0.005262,
     "end_time": "2024-05-11T14:40:15.634934",
     "exception": false,
     "start_time": "2024-05-11T14:40:15.629672",
     "status": "completed"
    },
    "tags": []
   },
   "source": [
    "# Tuning GNN-ePC-SAFT"
   ]
  },
  {
   "cell_type": "markdown",
   "id": "08fd952f",
   "metadata": {
    "papermill": {
     "duration": 0.004465,
     "end_time": "2024-05-11T14:40:15.644378",
     "exception": false,
     "start_time": "2024-05-11T14:40:15.639913",
     "status": "completed"
    },
    "tags": []
   },
   "source": [
    "## Starting point"
   ]
  },
  {
   "cell_type": "code",
   "execution_count": null,
   "id": "b118e08a",
   "metadata": {
    "execution": {
     "iopub.execute_input": "2024-05-11T14:40:15.654969Z",
     "iopub.status.busy": "2024-05-11T14:40:15.654613Z",
     "iopub.status.idle": "2024-05-11T14:40:17.690313Z",
     "shell.execute_reply": "2024-05-11T14:40:17.689313Z"
    },
    "papermill": {
     "duration": 2.044007,
     "end_time": "2024-05-11T14:40:17.692884",
     "exception": false,
     "start_time": "2024-05-11T14:40:15.648877",
     "status": "completed"
    },
    "tags": []
   },
   "outputs": [],
   "source": [
    "import os, shutil\n",
    "from kaggle_secrets import UserSecretsClient\n",
    "\n",
    "user_secrets = UserSecretsClient()\n",
    "secret_value_0 = user_secrets.get_secret(\"awskeyid\")\n",
    "secret_value_1 = user_secrets.get_secret(\"awssecretkey\")\n",
    "secret_value_2 = user_secrets.get_secret(\"ghtk\")\n",
    "secret_value_3 = user_secrets.get_secret(\"kaggle\")\n",
    "secret_value_4 = user_secrets.get_secret(\"username\")\n",
    "secret_value_5 = user_secrets.get_secret(\"wandbkey\")\n",
    "secret_value_6 = user_secrets.get_secret(\"email\")\n",
    "\n",
    "os.environ[\"KAGGLE_USERNAME\"] = secret_value_4\n",
    "os.environ[\"KAGGLE_KEY\"] = secret_value_3\n",
    "os.environ[\"WANDB_API_KEY\"] = secret_value_5\n",
    "os.environ[\"AWS_ACCESS_KEY_ID\"] = secret_value_0\n",
    "os.environ[\"AWS_SECRET_ACCESS_KEY\"] = secret_value_1\n",
    "os.environ['PATH'] = \"/root/.local/bin:\" + os.environ['PATH']"
   ]
  },
  {
   "cell_type": "code",
   "execution_count": null,
   "id": "c6b0c122",
   "metadata": {
    "execution": {
     "iopub.execute_input": "2024-05-11T14:40:17.703785Z",
     "iopub.status.busy": "2024-05-11T14:40:17.703499Z",
     "iopub.status.idle": "2024-05-11T14:40:53.940403Z",
     "shell.execute_reply": "2024-05-11T14:40:53.939520Z"
    },
    "papermill": {
     "duration": 36.245104,
     "end_time": "2024-05-11T14:40:53.943024",
     "exception": false,
     "start_time": "2024-05-11T14:40:17.697920",
     "status": "completed"
    },
    "tags": []
   },
   "outputs": [],
   "source": [
    "%%bash\n",
    "python -m pip install --upgrade pip -q\n",
    "\n",
    "pip install pipenv --user -q\n"
   ]
  },
  {
   "cell_type": "code",
   "execution_count": null,
   "id": "10cb311a",
   "metadata": {
    "execution": {
     "iopub.execute_input": "2024-05-11T14:40:53.955441Z",
     "iopub.status.busy": "2024-05-11T14:40:53.955115Z",
     "iopub.status.idle": "2024-05-11T14:41:37.274241Z",
     "shell.execute_reply": "2024-05-11T14:41:37.273438Z"
    },
    "papermill": {
     "duration": 43.327877,
     "end_time": "2024-05-11T14:41:37.276617",
     "exception": false,
     "start_time": "2024-05-11T14:40:53.948740",
     "status": "completed"
    },
    "tags": []
   },
   "outputs": [],
   "source": [
    "%%bash\n",
    "# for the cloud \n",
    "rm -rf .* *\n",
    "git clone --branch dev --single-branch -q https://{secret_value_2}@github.com/wildsonbbl/gnnepcsaft.git ."
   ]
  },
  {
   "cell_type": "code",
   "execution_count": null,
   "id": "2bb99335",
   "metadata": {
    "execution": {
     "iopub.execute_input": "2024-05-11T14:41:37.288169Z",
     "iopub.status.busy": "2024-05-11T14:41:37.287567Z",
     "iopub.status.idle": "2024-05-11T15:02:17.823078Z",
     "shell.execute_reply": "2024-05-11T15:02:17.822237Z"
    },
    "papermill": {
     "duration": 1240.543485,
     "end_time": "2024-05-11T15:02:17.825034",
     "exception": false,
     "start_time": "2024-05-11T14:41:37.281549",
     "status": "completed"
    },
    "tags": []
   },
   "outputs": [],
   "source": [
    "%%capture req_output --no-stdout\n",
    "%%bash\n",
    "pipenv install -r requirements.txt -q\n",
    "echo \"\\nFinished pip installing requirements.txt\\n\"\n",
    "pipenv install torch-scatter\n",
    "echo \"\\nFinished pip installing torch-scatter\\n\"\n",
    "\n",
    "# install pcsaft\n",
    "curl -O -L https://gitlab.com/libeigen/eigen/-/archive/master/eigen-master.zip\n",
    "curl -O -L https://github.com/zmeri/PC-SAFT/archive/refs/tags/v1.4.1.zip\n",
    "unzip -q eigen-master.zip\n",
    "unzip -q v1.4.1.zip\n",
    "cp -rf eigen-master/. PC-SAFT-1.4.1/externals/eigen\n",
    "pipenv install ./PC-SAFT-1.4.1 -q\n",
    "# install pcsaft\n",
    "echo \"\\nFinished pip installing pcsaft\\n\"\n"
   ]
  },
  {
   "cell_type": "code",
   "execution_count": null,
   "id": "fd35a3bb",
   "metadata": {
    "execution": {
     "iopub.execute_input": "2024-05-11T15:02:17.848605Z",
     "iopub.status.busy": "2024-05-11T15:02:17.848303Z",
     "iopub.status.idle": "2024-05-11T15:02:17.857804Z",
     "shell.execute_reply": "2024-05-11T15:02:17.857093Z"
    },
    "papermill": {
     "duration": 0.023504,
     "end_time": "2024-05-11T15:02:17.859873",
     "exception": false,
     "start_time": "2024-05-11T15:02:17.836369",
     "status": "completed"
    },
    "tags": []
   },
   "outputs": [],
   "source": [
    "%%bash\n",
    "\n",
    "echo AWS_ACCESS_KEY_ID=$AWS_ACCESS_KEY_ID > .env\n",
    "echo AWS_SECRET_ACCESS_KEY=$AWS_SECRET_ACCESS_KEY >>.env\n",
    "echo WANDB_API_KEY=$WANDB_API_KEY >> .env"
   ]
  },
  {
   "cell_type": "code",
   "execution_count": null,
   "id": "5b2f613a",
   "metadata": {
    "execution": {
     "iopub.execute_input": "2024-05-11T15:02:17.882478Z",
     "iopub.status.busy": "2024-05-11T15:02:17.882185Z",
     "iopub.status.idle": "2024-05-11T15:02:54.841146Z",
     "shell.execute_reply": "2024-05-11T15:02:54.840039Z"
    },
    "papermill": {
     "duration": 36.97328,
     "end_time": "2024-05-11T15:02:54.843886",
     "exception": false,
     "start_time": "2024-05-11T15:02:17.870606",
     "status": "completed"
    },
    "tags": []
   },
   "outputs": [],
   "source": [
    "%%bash\n",
    "pipenv run dvc pull -f -q"
   ]
  },
  {
   "cell_type": "code",
   "execution_count": null,
   "id": "059fb414",
   "metadata": {
    "execution": {
     "iopub.execute_input": "2024-05-11T15:02:54.907743Z",
     "iopub.status.busy": "2024-05-11T15:02:54.907283Z",
     "iopub.status.idle": "2024-05-11T15:02:54.911791Z",
     "shell.execute_reply": "2024-05-11T15:02:54.910859Z"
    },
    "papermill": {
     "duration": 0.045144,
     "end_time": "2024-05-11T15:02:54.916482",
     "exception": false,
     "start_time": "2024-05-11T15:02:54.871338",
     "status": "completed"
    },
    "tags": []
   },
   "outputs": [],
   "source": [
    "# previous running results\n",
    "# !cp -a /kaggle/input/gnnepcsaft/tuning_b3/root/* ~/"
   ]
  },
  {
   "cell_type": "code",
   "execution_count": null,
   "id": "f6f4d9a4",
   "metadata": {
    "execution": {
     "iopub.execute_input": "2024-05-11T15:02:54.988103Z",
     "iopub.status.busy": "2024-05-11T15:02:54.987671Z",
     "iopub.status.idle": "2024-05-11T15:03:00.202364Z",
     "shell.execute_reply": "2024-05-11T15:03:00.201425Z"
    },
    "papermill": {
     "duration": 5.258669,
     "end_time": "2024-05-11T15:03:00.204401",
     "exception": false,
     "start_time": "2024-05-11T15:02:54.945732",
     "status": "completed"
    },
    "tags": []
   },
   "outputs": [],
   "source": [
    "%%bash\n",
    "pipenv run pip show pcsaft | grep -E \"Version|Name\"\n",
    "\n",
    "lscpu | grep -E \"Model name|Core|core\" \n",
    "\n",
    "nvidia-smi"
   ]
  },
  {
   "cell_type": "markdown",
   "id": "cb86e07e",
   "metadata": {
    "papermill": {
     "duration": 0.013793,
     "end_time": "2024-05-11T15:03:00.232380",
     "exception": false,
     "start_time": "2024-05-11T15:03:00.218587",
     "status": "completed"
    },
    "tags": []
   },
   "source": [
    "## Tuning"
   ]
  },
  {
   "cell_type": "markdown",
   "id": "9fd4a408",
   "metadata": {
    "papermill": {
     "duration": 0.045059,
     "end_time": "2024-05-11T15:03:00.291747",
     "exception": false,
     "start_time": "2024-05-11T15:03:00.246688",
     "status": "completed"
    },
    "tags": []
   },
   "source": [
    "### Tuning run"
   ]
  },
  {
   "cell_type": "code",
   "execution_count": null,
   "id": "5a532db6",
   "metadata": {
    "execution": {
     "iopub.execute_input": "2024-05-11T15:03:00.323472Z",
     "iopub.status.busy": "2024-05-11T15:03:00.323144Z",
     "iopub.status.idle": "2024-05-12T02:33:26.944325Z",
     "shell.execute_reply": "2024-05-12T02:33:26.943517Z"
    },
    "papermill": {
     "duration": 41426.641258,
     "end_time": "2024-05-12T02:33:26.946710",
     "exception": false,
     "start_time": "2024-05-11T15:03:00.305452",
     "status": "completed"
    },
    "tags": []
   },
   "outputs": [],
   "source": [
    "%%bash\n",
    "pipenv run python -m gnnepcsaft.train.tuner \\\n",
    "--workdir=/kaggle/working/gnnepcsaft --config=gnnepcsaft/configs/default.py \\\n",
    "--dataset=ramirez --tags=\"batch 3\",\"v2\" \\\n",
    "--num_cpu=0.75 --num_cpu_trainer=0.25 --num_gpus=0.25 \\\n",
    "--num_samples=64 --time_budget_s=39600 --verbose=0 \\\n",
    "--config.num_train_steps=25000 --config.eval_every_steps=5000 \\\n",
    "--config.model=PNAL --config.batch_size=512 \\\n",
    "--config.job_type=\"tuning\" \\\n",
    "--get_result=False #--restoredir=/root/ray_results/gnnpcsaft/"
   ]
  },
  {
   "cell_type": "markdown",
   "id": "f3081e96",
   "metadata": {
    "papermill": {
     "duration": 0.123947,
     "end_time": "2024-05-12T02:33:27.197700",
     "exception": false,
     "start_time": "2024-05-12T02:33:27.073753",
     "status": "completed"
    },
    "tags": []
   },
   "source": [
    "### Clear workspace"
   ]
  },
  {
   "cell_type": "code",
   "execution_count": null,
   "id": "03408f44",
   "metadata": {
    "execution": {
     "iopub.execute_input": "2024-05-12T02:33:27.444787Z",
     "iopub.status.busy": "2024-05-12T02:33:27.444421Z",
     "iopub.status.idle": "2024-05-12T02:33:29.043382Z",
     "shell.execute_reply": "2024-05-12T02:33:29.042297Z"
    },
    "papermill": {
     "duration": 1.725302,
     "end_time": "2024-05-12T02:33:29.045856",
     "exception": false,
     "start_time": "2024-05-12T02:33:27.320554",
     "status": "completed"
    },
    "tags": []
   },
   "outputs": [],
   "source": [
    "!rm -rf .* *"
   ]
  },
  {
   "cell_type": "markdown",
   "id": "5971c03e",
   "metadata": {
    "papermill": {
     "duration": 0.12191,
     "end_time": "2024-05-12T02:33:29.292934",
     "exception": false,
     "start_time": "2024-05-12T02:33:29.171024",
     "status": "completed"
    },
    "tags": []
   },
   "source": [
    "### Zip results"
   ]
  },
  {
   "cell_type": "code",
   "execution_count": null,
   "id": "78debaba",
   "metadata": {
    "execution": {
     "iopub.execute_input": "2024-05-12T02:33:29.539738Z",
     "iopub.status.busy": "2024-05-12T02:33:29.539352Z",
     "iopub.status.idle": "2024-05-12T02:33:29.744794Z",
     "shell.execute_reply": "2024-05-12T02:33:29.743948Z"
    },
    "papermill": {
     "duration": 0.331141,
     "end_time": "2024-05-12T02:33:29.747003",
     "exception": false,
     "start_time": "2024-05-12T02:33:29.415862",
     "status": "completed"
    },
    "tags": []
   },
   "outputs": [],
   "source": [
    "%%bash\n",
    "rm -rf ~/ray*/gnn*/Torch*/check* ~/ray*/gnn*/Torch*/wandb\n",
    "zip -r tuning.zip ~/ray* -q"
   ]
  },
  {
   "cell_type": "code",
   "execution_count": null,
   "id": "0d2c20c6",
   "metadata": {
    "execution": {
     "iopub.execute_input": "2024-05-12T02:33:29.996685Z",
     "iopub.status.busy": "2024-05-12T02:33:29.996154Z",
     "iopub.status.idle": "2024-05-12T02:33:30.001321Z",
     "shell.execute_reply": "2024-05-12T02:33:30.000534Z"
    },
    "papermill": {
     "duration": 0.131384,
     "end_time": "2024-05-12T02:33:30.003440",
     "exception": false,
     "start_time": "2024-05-12T02:33:29.872056",
     "status": "completed"
    },
    "tags": []
   },
   "outputs": [],
   "source": [
    "req_output.show()"
   ]
  }
 ],
 "metadata": {
  "kaggle": {
   "accelerator": "gpu",
   "dataSources": [],
   "isGpuEnabled": true,
   "isInternetEnabled": true,
   "language": "python",
   "sourceType": "notebook"
  },
  "kernelspec": {
   "display_name": "Python 3",
   "language": "python",
   "name": "python3"
  },
  "language_info": {
   "codemirror_mode": {
    "name": "ipython",
    "version": 3
   },
   "file_extension": ".py",
   "mimetype": "text/x-python",
   "name": "python",
   "nbconvert_exporter": "python",
   "pygments_lexer": "ipython3",
   "version": "3.10.13"
  },
  "papermill": {
   "default_parameters": {},
   "duration": 42797.626121,
   "end_time": "2024-05-12T02:33:30.535041",
   "environment_variables": {},
   "exception": null,
   "input_path": "__notebook__.ipynb",
   "output_path": "__notebook__.ipynb",
   "parameters": {},
   "start_time": "2024-05-11T14:40:12.908920",
   "version": "2.5.0"
  }
 },
 "nbformat": 4,
 "nbformat_minor": 5
}
