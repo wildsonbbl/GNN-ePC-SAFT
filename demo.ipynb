{
 "cells": [
  {
   "cell_type": "markdown",
   "id": "66b77600",
   "metadata": {},
   "source": [
    "###  1 - Carregar os pactotes e configurações do ambiente python"
   ]
  },
  {
   "cell_type": "code",
   "execution_count": 13,
   "id": "f71ff522-3521-4d89-b90e-042aa95fcc2f",
   "metadata": {
    "tags": []
   },
   "outputs": [],
   "source": [
    "import os.path as osp, os\n",
    "os.environ[\"CUDA_VISIBLE_DEVICES\"] = ''\n",
    "import torch, numpy as np\n",
    "from data.graphdataset import ThermoMLDataset, ramirez, ThermoMLpara\n",
    "from train.train import create_model\n",
    "from train.models import PNAPCSAFT\n",
    "from train.model_deg import calc_deg\n",
    "from data.graph import from_InChI\n",
    "from train.parametrisation import MAPE, rhovp_data\n",
    "import matplotlib.pyplot as plt\n",
    "from configs.default import get_config\n",
    "config = get_config()\n",
    "device = torch.device(\"cpu\")\n",
    "model_dtype = torch.float64\n",
    "deg_model2 = calc_deg(\"thermoml\", './')\n",
    "deg_model1 = calc_deg(\"ramirez\", './')\n",
    "from demo.utils import loadckp, plotdata\n",
    "print(torch.cuda.is_available())\n",
    "import networkx as nx \n",
    "from torch_geometric.utils import to_networkx\n",
    "from torch_geometric.nn import summary"
   ]
  },
  {
   "cell_type": "markdown",
   "id": "a21e3997",
   "metadata": {},
   "source": [
    "### 2 - Carregar os dados de parametrização e dados experimentais de densidade e pressão de vapor"
   ]
  },
  {
   "cell_type": "markdown",
   "id": "b1b80296",
   "metadata": {},
   "source": [
    "* Dados de parametrização"
   ]
  },
  {
   "cell_type": "code",
   "execution_count": 14,
   "id": "d2ef1aa5",
   "metadata": {},
   "outputs": [],
   "source": [
    "ra_loader = ramirez(\"./data/ramirez2022\")\n",
    "ra_para = {}\n",
    "for graph in ra_loader:\n",
    "    inchi, para = graph.InChI, graph.para.view(-1, 3).round(decimals=2)\n",
    "    ra_para[inchi] = para.tolist()[0]"
   ]
  },
  {
   "cell_type": "code",
   "execution_count": 15,
   "id": "f8e13809",
   "metadata": {},
   "outputs": [],
   "source": [
    "tml_loader = ThermoMLpara(\"./data/thermoml\")\n",
    "tml_para = {}\n",
    "for graph in tml_loader:\n",
    "    inchi, para = graph.InChI, graph.para.view(-1, 3).round(decimals=2)\n",
    "    tml_para[inchi] = para.tolist()[0]"
   ]
  },
  {
   "cell_type": "markdown",
   "id": "d5bbc974",
   "metadata": {},
   "source": [
    "* Dados de pressão de vapor e densidade "
   ]
  },
  {
   "cell_type": "code",
   "execution_count": 16,
   "id": "d77810b2-ca9c-4212-8b4d-5ff00bee47ab",
   "metadata": {},
   "outputs": [],
   "source": [
    "path = osp.join(\"data\", \"thermoml\")\n",
    "testloader = ThermoMLDataset(path)\n"
   ]
  },
  {
   "cell_type": "markdown",
   "id": "fdf52a98",
   "metadata": {},
   "source": [
    "### 3 - Criar e inicializar a Graph Neural Network\n"
   ]
  },
  {
   "cell_type": "code",
   "execution_count": 17,
   "id": "ee710698",
   "metadata": {},
   "outputs": [],
   "source": [
    "config.propagation_depth=4\n",
    "config.hidden_dim=128\n",
    "config.num_mlp_layers=2\n",
    "config.pre_layers=1\n",
    "config.post_layers=3"
   ]
  },
  {
   "cell_type": "code",
   "execution_count": 18,
   "id": "776600d7",
   "metadata": {},
   "outputs": [],
   "source": [
    "model2 = create_model(config, deg_model2).to(device, model_dtype).eval()\n",
    "model1 = create_model(config, deg_model1).to(device, model_dtype).eval()"
   ]
  },
  {
   "cell_type": "markdown",
   "id": "4a777046",
   "metadata": {},
   "source": [
    "* Resumo dos parâmetros do modelo"
   ]
  },
  {
   "cell_type": "code",
   "execution_count": 19,
   "id": "916fd0cc",
   "metadata": {},
   "outputs": [],
   "source": [
    "dummy = tml_loader[0]\n",
    "dummy.x = dummy.x.to(model_dtype)\n",
    "dummy.edge_attr = dummy.edge_attr.to(model_dtype)\n",
    "dummy.edge_index = dummy.edge_index.to(torch.int64)\n",
    "print(summary(model2, dummy, max_depth=2))"
   ]
  },
  {
   "cell_type": "markdown",
   "id": "b78630d5",
   "metadata": {},
   "source": [
    "* Carregar os parâmetros dos modelos 1 e 2 treinados que foram salvos"
   ]
  },
  {
   "cell_type": "code",
   "execution_count": 20,
   "id": "9bbfc6b8",
   "metadata": {},
   "outputs": [],
   "source": [
    "ckp_path = \"./train/checkpoints/model2-13_62e6.pth\"\n",
    "loadckp(ckp_path, model2)\n",
    "ckp_path = \"./train/checkpoints/model1-9_20e6.pth\"\n",
    "loadckp(ckp_path, model1)"
   ]
  },
  {
   "cell_type": "markdown",
   "id": "43d981e6",
   "metadata": {},
   "source": [
    "### 4 - Fazer a predição dos parâmetros a partir dos grafos"
   ]
  },
  {
   "cell_type": "markdown",
   "id": "98192354",
   "metadata": {},
   "source": [
    "* InChI da molécula"
   ]
  },
  {
   "cell_type": "code",
   "execution_count": 21,
   "id": "38e07139",
   "metadata": {},
   "outputs": [],
   "source": [
    "inchi = \"InChI=1S/C5H6O2/c6-4-5-2-1-3-7-5/h1-3,6H,4H2\"\n",
    "#inchi = \"InChI=1S/H2O/h1H2\""
   ]
  },
  {
   "cell_type": "markdown",
   "id": "b43a64cb",
   "metadata": {},
   "source": [
    "* Grafo da molécula"
   ]
  },
  {
   "cell_type": "code",
   "execution_count": 25,
   "id": "c05213b2",
   "metadata": {},
   "outputs": [],
   "source": [
    "grafo = from_InChI(inchi).to(device)\n",
    "print(\"###### Nós (átomos) do grafo e seus atributos ###### \\n\")\n",
    "print(grafo.x)\n",
    "print(\"\\n###### Arestas (ligações químicas) da molécula e seus atributos ######\\n\")\n",
    "print(grafo.edge_attr)\n",
    "print(\"\\n###### Figura do grafo ######\\n\")\n",
    "nxg = to_networkx(grafo)\n",
    "nx.draw(nxg)"
   ]
  },
  {
   "cell_type": "markdown",
   "id": "98f704c9",
   "metadata": {},
   "source": [
    "* Parâmetros previstos pelos Modelo 1 e 2"
   ]
  },
  {
   "cell_type": "code",
   "execution_count": 29,
   "id": "ad2a5506",
   "metadata": {},
   "outputs": [],
   "source": [
    "grafo.x = grafo.x.to(model_dtype)\n",
    "grafo.edge_attr = grafo.edge_attr.to(model_dtype)\n",
    "grafo.edge_index = grafo.edge_index.to(torch.int64)\n",
    "with torch.no_grad():\n",
    "    parametros_modelo_1 = model1(grafo)\n",
    "    parametros_modelo_2 = model2(grafo)\n",
    "print(\"######### Parâmetros previstos #########\\n\")\n",
    "print(\"Pelo Modelo 1:\\n\")\n",
    "print(\"[número de segmentos, diâmetros de segmento (Å), energia de dispersão (K)]\")\n",
    "print(parametros_modelo_1[0].numpy().round(4))\n",
    "print(\"\\nPelo Modelo 2:\\n\")\n",
    "print(\"[número de segmentos, diâmetros de segmento (Å), energia de dispersão (K)]\")\n",
    "print(parametros_modelo_2[0].numpy().round(4))"
   ]
  },
  {
   "cell_type": "markdown",
   "id": "0c4bbacc",
   "metadata": {},
   "source": [
    "* Figuras demonstrando o desempenho dos parâmetros"
   ]
  },
  {
   "cell_type": "code",
   "execution_count": 30,
   "id": "468e44c5",
   "metadata": {},
   "outputs": [],
   "source": [
    "inchi = inchi\n",
    "molecule_name = \"furfuranol\"\n",
    "print(f\"######### {molecule_name} #########\")\n",
    "plotdata(inchi, molecule_name, models=[model1, model2])\n"
   ]
  },
  {
   "cell_type": "code",
   "execution_count": null,
   "id": "917645a2",
   "metadata": {},
   "outputs": [],
   "source": []
  }
 ],
 "metadata": {
  "kernelspec": {
   "display_name": "Python 3 (ipykernel)",
   "language": "python",
   "name": "python3"
  },
  "language_info": {
   "codemirror_mode": {
    "name": "ipython",
    "version": 3
   },
   "file_extension": ".py",
   "mimetype": "text/x-python",
   "name": "python",
   "nbconvert_exporter": "python",
   "pygments_lexer": "ipython3",
   "version": "3.9.16"
  }
 },
 "nbformat": 4,
 "nbformat_minor": 5
}
