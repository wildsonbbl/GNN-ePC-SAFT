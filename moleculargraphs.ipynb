{
 "cells": [
  {
   "cell_type": "markdown",
   "metadata": {},
   "source": [
    "# Making molecular graphs datasets"
   ]
  },
  {
   "cell_type": "code",
   "execution_count": 3,
   "metadata": {},
   "outputs": [],
   "source": [
    "from gnnepcsaft.data import graphdataset\n",
    "# !python -m gnnepcsaft.data.preprocess"
   ]
  },
  {
   "cell_type": "code",
   "execution_count": 4,
   "metadata": {},
   "outputs": [
    {
     "name": "stdout",
     "output_type": "stream",
     "text": [
      "Error for InChI: InChI=1S/ClF3/c2-1(3)4\n",
      "\n",
      " Python argument types in\n",
      "    rdkit.Chem.rdmolfiles.MolToSmiles(NoneType)\n",
      "did not match C++ signature:\n",
      "    MolToSmiles(RDKit::ROMol mol, bool isomericSmiles=True, bool kekuleSmiles=False, int rootedAtAtom=-1, bool canonical=True, bool allBondsExplicit=False, bool allHsExplicit=False, bool doRandom=False)\n",
      "    MolToSmiles(RDKit::ROMol mol, RDKit::SmilesWriteParams params) \n",
      "\n",
      "\n",
      "Error for InChI: InChI=1S/ClFO3/c2-1(3,4)5\n",
      "\n",
      " Python argument types in\n",
      "    rdkit.Chem.rdmolfiles.MolToSmiles(NoneType)\n",
      "did not match C++ signature:\n",
      "    MolToSmiles(RDKit::ROMol mol, bool isomericSmiles=True, bool kekuleSmiles=False, int rootedAtAtom=-1, bool canonical=True, bool allBondsExplicit=False, bool allHsExplicit=False, bool doRandom=False)\n",
      "    MolToSmiles(RDKit::ROMol mol, RDKit::SmilesWriteParams params) \n",
      "\n",
      "\n"
     ]
    }
   ],
   "source": [
    "ram = graphdataset.Ramirez('gnnepcsaft/data/ramirez2022')\n",
    "ram.process()"
   ]
  },
  {
   "cell_type": "code",
   "execution_count": 5,
   "metadata": {},
   "outputs": [
    {
     "name": "stdout",
     "output_type": "stream",
     "text": [
      "Error for InChI: InChI=1S/C8H15N2.C4F9O6S3/c1-4-5-10-7-6-9(3)8(10)2;5-2(6,7)20(14,15)1(21(16,17)3(8,9)10)22(18,19)4(11,12)13/h6-7H,4-5H2,1-3H3;/q+1;-1\n",
      "\n",
      " Python argument types in\n",
      "    rdkit.Chem.rdmolfiles.MolToSmiles(NoneType)\n",
      "did not match C++ signature:\n",
      "    MolToSmiles(RDKit::ROMol mol, bool isomericSmiles=True, bool kekuleSmiles=False, int rootedAtAtom=-1, bool canonical=True, bool allBondsExplicit=False, bool allHsExplicit=False, bool doRandom=False)\n",
      "    MolToSmiles(RDKit::ROMol mol, RDKit::SmilesWriteParams params) \n",
      "\n",
      "\n",
      "Error for InChI: InChI=1S/C15H18ClN2O5S.BF4/c1-2-8-17-9-4-3-5-14(17)23-15-7-6-13(16)12-18(15)10-11-22-24(19,20)21;2-1(3,4)5/h3-7,9,12H,2,8,10-11H2,1H3;/q+1;-1\n",
      "\n",
      " Python argument types in\n",
      "    rdkit.Chem.rdmolfiles.MolToSmiles(NoneType)\n",
      "did not match C++ signature:\n",
      "    MolToSmiles(RDKit::ROMol mol, bool isomericSmiles=True, bool kekuleSmiles=False, int rootedAtAtom=-1, bool canonical=True, bool allBondsExplicit=False, bool allHsExplicit=False, bool doRandom=False)\n",
      "    MolToSmiles(RDKit::ROMol mol, RDKit::SmilesWriteParams params) \n",
      "\n",
      "\n"
     ]
    }
   ],
   "source": [
    "tml = graphdataset.ThermoMLDataset('gnnepcsaft/data/thermoml')\n",
    "tml.process()"
   ]
  },
  {
   "cell_type": "code",
   "execution_count": 6,
   "metadata": {},
   "outputs": [
    {
     "name": "stdout",
     "output_type": "stream",
     "text": [
      "ramirez dataset size: 1800\n",
      "thermoml dataset size: 1277\n"
     ]
    }
   ],
   "source": [
    "tmlpara = graphdataset.ThermoMLpara('gnnepcsaft/data/thermoml')\n",
    "tmlpara.process()"
   ]
  },
  {
   "cell_type": "code",
   "execution_count": 7,
   "metadata": {},
   "outputs": [
    {
     "data": {
      "text/plain": [
       "(Ramirez(1797), ThermoMLDataset(2826), ThermoMLpara(2951))"
      ]
     },
     "execution_count": 7,
     "metadata": {},
     "output_type": "execute_result"
    }
   ],
   "source": [
    "ram, tml, tmlpara"
   ]
  },
  {
   "cell_type": "code",
   "execution_count": 21,
   "metadata": {},
   "outputs": [],
   "source": [
    "import torch\n",
    "vp = []\n",
    "rho = []\n",
    "for graph in tml:\n",
    "  if ~torch.all(graph.vp == torch.zeros_like(graph.vp)):\n",
    "    result_filter = graph.vp[:,-1] >= 0 \n",
    "    vp.append(graph.vp[result_filter])\n",
    "  if ~torch.all(graph.rho == torch.zeros_like(graph.rho)): \n",
    "    rho.append(graph.rho)"
   ]
  },
  {
   "cell_type": "code",
   "execution_count": 22,
   "metadata": {},
   "outputs": [],
   "source": [
    "t_rho = torch.cat(rho)\n",
    "t_vp = torch.cat(vp)"
   ]
  },
  {
   "cell_type": "code",
   "execution_count": 23,
   "metadata": {},
   "outputs": [
    {
     "data": {
      "text/plain": [
       "(torch.Size([178660, 5]), torch.Size([44266, 5]))"
      ]
     },
     "execution_count": 23,
     "metadata": {},
     "output_type": "execute_result"
    }
   ],
   "source": [
    "t_rho.shape, t_vp.shape"
   ]
  },
  {
   "cell_type": "code",
   "execution_count": 24,
   "metadata": {},
   "outputs": [
    {
     "data": {
      "text/plain": [
       "(tensor([3.2410e+02, 1.7161e+07, 9.2986e-01, 1.0000e+00, 6.7794e+03],\n",
       "        dtype=torch.float64),\n",
       " tensor([3.1315e+02, 6.2000e+06, 1.0000e+00, 1.0000e+00, 5.3249e+03],\n",
       "        dtype=torch.float64),\n",
       " tensor([3.0000e+03, 3.0000e+08, 1.0000e+00, 1.0000e+00, 1.2528e+05],\n",
       "        dtype=torch.float64),\n",
       " tensor([ 90.0000, 101.0000,   0.0000,   1.0000,   0.1933], dtype=torch.float64))"
      ]
     },
     "execution_count": 24,
     "metadata": {},
     "output_type": "execute_result"
    }
   ],
   "source": [
    "t_rho.mean(0), t_rho.median(0).values, t_rho.max(0).values, t_rho.min(0).values"
   ]
  },
  {
   "cell_type": "code",
   "execution_count": 25,
   "metadata": {},
   "outputs": [
    {
     "data": {
      "text/plain": [
       "(tensor([3.7593e+02, 2.0523e+05, 1.0000e+00, 3.0000e+00, 2.0523e+05],\n",
       "        dtype=torch.float64),\n",
       " tensor([3.4990e+02, 8.1700e+03, 1.0000e+00, 3.0000e+00, 8.1700e+03],\n",
       "        dtype=torch.float64),\n",
       " tensor([1.6280e+03, 1.1358e+07, 1.0000e+00, 3.0000e+00, 1.1358e+07],\n",
       "        dtype=torch.float64),\n",
       " tensor([8.5525e+01, 5.1400e-28, 1.0000e+00, 3.0000e+00, 5.1400e-28],\n",
       "        dtype=torch.float64))"
      ]
     },
     "execution_count": 25,
     "metadata": {},
     "output_type": "execute_result"
    }
   ],
   "source": [
    "t_vp.mean(0), t_vp.median(0).values, t_vp.max(0).values, t_vp.min(0).values"
   ]
  },
  {
   "cell_type": "code",
   "execution_count": null,
   "metadata": {},
   "outputs": [],
   "source": []
  }
 ],
 "metadata": {
  "kernelspec": {
   "display_name": "Python 3 (ipykernel)",
   "language": "python",
   "name": "python3"
  },
  "language_info": {
   "codemirror_mode": {
    "name": "ipython",
    "version": 3
   },
   "file_extension": ".py",
   "mimetype": "text/x-python",
   "name": "python",
   "nbconvert_exporter": "python",
   "pygments_lexer": "ipython3",
   "version": "3.9.18"
  },
  "vscode": {
   "interpreter": {
    "hash": "d06a01dc26fe91440b12e3544922c0da1b0f9211b5b5a748fb458b71c5f48305"
   }
  }
 },
 "nbformat": 4,
 "nbformat_minor": 4
}
