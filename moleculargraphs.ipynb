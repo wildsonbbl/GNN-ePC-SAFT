{
 "cells": [
  {
   "attachments": {},
   "cell_type": "markdown",
   "metadata": {},
   "source": [
    "# Making molecular graphs datasets"
   ]
  },
  {
   "cell_type": "code",
   "execution_count": null,
   "metadata": {},
   "outputs": [],
   "source": [
    "# for the cloud\n",
    "#!git clone https://github.com/wildsonbbl/GNN-ePC-SAFT\n",
    "#%cd GNN-ePC-SAFT/"
   ]
  },
  {
   "cell_type": "code",
   "execution_count": 1,
   "metadata": {},
   "outputs": [],
   "source": [
    "import graphdataset\n",
    "from importlib import reload"
   ]
  },
  {
   "cell_type": "code",
   "execution_count": 16,
   "metadata": {},
   "outputs": [],
   "source": [
    "tml = graphdataset.ThermoMLDataset(root = './data/thermoml/val', subset='val')"
   ]
  },
  {
   "cell_type": "code",
   "execution_count": 4,
   "metadata": {},
   "outputs": [
    {
     "data": {
      "application/vnd.jupyter.widget-view+json": {
       "model_id": "a43b20f375454c859e6609a90126bdee",
       "version_major": 2,
       "version_minor": 0
      },
      "text/plain": [
       "data points:   0%|          | 0/38792 [00:00<?, ?it/s]"
      ]
     },
     "metadata": {},
     "output_type": "display_data"
    },
    {
     "name": "stdout",
     "output_type": "stream",
     "text": [
      "Done!\n"
     ]
    }
   ],
   "source": [
    "tml.process()"
   ]
  },
  {
   "cell_type": "code",
   "execution_count": 2,
   "metadata": {},
   "outputs": [],
   "source": [
    "tml = graphdataset.ThermoMLDataset(root = './data/thermoml/train', subset='train')"
   ]
  },
  {
   "cell_type": "code",
   "execution_count": null,
   "metadata": {},
   "outputs": [],
   "source": [
    "tml.process()"
   ]
  },
  {
   "cell_type": "code",
   "execution_count": 5,
   "metadata": {},
   "outputs": [],
   "source": [
    "tml = graphdataset.ThermoMLDataset(root = './data/thermoml/test', subset='test')\n"
   ]
  },
  {
   "cell_type": "code",
   "execution_count": 6,
   "metadata": {},
   "outputs": [
    {
     "data": {
      "application/vnd.jupyter.widget-view+json": {
       "model_id": "9ef42b112b304be4ba815320f67210d4",
       "version_major": 2,
       "version_minor": 0
      },
      "text/plain": [
       "data points:   0%|          | 0/82268 [00:00<?, ?it/s]"
      ]
     },
     "metadata": {},
     "output_type": "display_data"
    },
    {
     "name": "stdout",
     "output_type": "stream",
     "text": [
      "Done!\n"
     ]
    }
   ],
   "source": [
    "tml.process()"
   ]
  },
  {
   "cell_type": "code",
   "execution_count": null,
   "metadata": {},
   "outputs": [],
   "source": [
    "#import shutil\n",
    "#shutil.copy(\"/content/GNN-ePC-SAFT/data/thermoml/train/processed/tmldata.pt\", \"/content/drive/MyDrive/tmldata.pt\")\n",
    "#shutil.copy(\"/content/GNN-ePC-SAFT/data/thermoml/test/processed/tmldata.pt\", \"/content/drive/MyDrive/testtmldata.pt\")\n",
    "#shutil.copy(\"/content/GNN-ePC-SAFT/data/thermoml/val/processed/tmldata.pt\", \"/content/drive/MyDrive/valtmldata.pt\")\n"
   ]
  },
  {
   "cell_type": "code",
   "execution_count": null,
   "metadata": {},
   "outputs": [],
   "source": [
    "!python model_deg.py"
   ]
  }
 ],
 "metadata": {
  "kernelspec": {
   "display_name": "deepchem",
   "language": "python",
   "name": "python3"
  },
  "language_info": {
   "codemirror_mode": {
    "name": "ipython",
    "version": 3
   },
   "file_extension": ".py",
   "mimetype": "text/x-python",
   "name": "python",
   "nbconvert_exporter": "python",
   "pygments_lexer": "ipython3",
   "version": "3.10.9"
  },
  "orig_nbformat": 4,
  "vscode": {
   "interpreter": {
    "hash": "d06a01dc26fe91440b12e3544922c0da1b0f9211b5b5a748fb458b71c5f48305"
   }
  }
 },
 "nbformat": 4,
 "nbformat_minor": 2
}
