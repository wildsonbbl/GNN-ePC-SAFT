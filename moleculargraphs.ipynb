{
 "cells": [
  {
   "attachments": {},
   "cell_type": "markdown",
   "metadata": {},
   "source": [
    "# Making molecular graphs datasets"
   ]
  },
  {
   "cell_type": "code",
   "execution_count": null,
   "metadata": {},
   "outputs": [],
   "source": [
    "# for the cloud\n",
    "!git clone https://github.com/wildsonbbl/GNN-ePC-SAFT\n",
    "%cd GNN-ePC-SAFT/"
   ]
  },
  {
   "cell_type": "code",
   "execution_count": 2,
   "metadata": {},
   "outputs": [],
   "source": [
    "import graphdataset\n",
    "from importlib import reload"
   ]
  },
  {
   "cell_type": "code",
   "execution_count": 33,
   "metadata": {},
   "outputs": [],
   "source": [
    "tml = graphdataset.ThermoMLDataset(root = './data/thermoml')"
   ]
  },
  {
   "cell_type": "code",
   "execution_count": 34,
   "metadata": {},
   "outputs": [
    {
     "data": {
      "text/plain": [
       "ThermoMLDataset(1940)"
      ]
     },
     "execution_count": 34,
     "metadata": {},
     "output_type": "execute_result"
    }
   ],
   "source": [
    "tml"
   ]
  },
  {
   "cell_type": "code",
   "execution_count": 35,
   "metadata": {},
   "outputs": [],
   "source": [
    "tml = iter(tml)"
   ]
  },
  {
   "cell_type": "code",
   "execution_count": 36,
   "metadata": {},
   "outputs": [
    {
     "data": {
      "text/plain": [
       "Data(x=[10, 9], edge_index=[2, 24], edge_attr=[24, 3], InChI='InChI=1S/C10H16/c1-2-9-7-4-5-8(6-7)10(9)3-1/h7-10H,1-6H2/t7-,8+,9+,10-', states=[68, 5])"
      ]
     },
     "execution_count": 36,
     "metadata": {},
     "output_type": "execute_result"
    }
   ],
   "source": [
    "next(tml)"
   ]
  },
  {
   "cell_type": "code",
   "execution_count": 37,
   "metadata": {},
   "outputs": [
    {
     "name": "stdout",
     "output_type": "stream",
     "text": [
      "data: 100%|███████████████████████████████| 1940/1940 [00:00<00:00, 2475.95it/s]\n",
      "data: 100%|███████████████████████████████| 1940/1940 [00:00<00:00, 5452.92it/s]\n",
      "tensor([  228, 10738, 15049,  3228,  2083,     0,    34], dtype=torch.int32)\n"
     ]
    }
   ],
   "source": [
    "!python model_deg.py"
   ]
  },
  {
   "cell_type": "code",
   "execution_count": 38,
   "metadata": {},
   "outputs": [],
   "source": [
    "tml = graphdataset.ThermoMLDataset(root = './data/thermoml', subset='val')"
   ]
  },
  {
   "cell_type": "code",
   "execution_count": 39,
   "metadata": {},
   "outputs": [
    {
     "data": {
      "text/plain": [
       "ThermoMLDataset(1453)"
      ]
     },
     "execution_count": 39,
     "metadata": {},
     "output_type": "execute_result"
    }
   ],
   "source": [
    "tml"
   ]
  }
 ],
 "metadata": {
  "kernelspec": {
   "display_name": "deepchem",
   "language": "python",
   "name": "python3"
  },
  "language_info": {
   "codemirror_mode": {
    "name": "ipython",
    "version": 3
   },
   "file_extension": ".py",
   "mimetype": "text/x-python",
   "name": "python",
   "nbconvert_exporter": "python",
   "pygments_lexer": "ipython3",
   "version": "3.10.9"
  },
  "orig_nbformat": 4,
  "vscode": {
   "interpreter": {
    "hash": "d06a01dc26fe91440b12e3544922c0da1b0f9211b5b5a748fb458b71c5f48305"
   }
  }
 },
 "nbformat": 4,
 "nbformat_minor": 2
}
