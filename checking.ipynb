{
 "cells": [
  {
   "cell_type": "code",
   "execution_count": null,
   "id": "f71ff522-3521-4d89-b90e-042aa95fcc2f",
   "metadata": {
    "tags": []
   },
   "outputs": [],
   "source": [
    "import os.path as osp, os\n",
    "os.environ[\"CUDA_VISIBLE_DEVICES\"] = ''\n",
    "import torch, numpy as np, polars as pl\n",
    "from data.graphdataset import ThermoMLDataset, ramirez, ThermoMLpara\n",
    "from train.train import create_model\n",
    "from train.models import PNAPCSAFT\n",
    "from train.model_deg import calc_deg\n",
    "from data.graph import from_InChI\n",
    "from train.parametrisation import MAPE, rhovp_data\n",
    "import matplotlib.pyplot as plt"
   ]
  },
  {
   "cell_type": "code",
   "execution_count": null,
   "id": "a3158ad1",
   "metadata": {},
   "outputs": [],
   "source": [
    "torch.cuda.is_available()"
   ]
  },
  {
   "cell_type": "code",
   "execution_count": null,
   "id": "d2ef1aa5",
   "metadata": {},
   "outputs": [],
   "source": [
    "ra_loader = ramirez(\"./data/ramirez2022\")\n",
    "ra_para = {}\n",
    "for graph in ra_loader:\n",
    "    inchi, para = graph.InChI, graph.para.view(-1, 3).round(decimals=2)\n",
    "    ra_para[inchi] = para.tolist()[0]"
   ]
  },
  {
   "cell_type": "code",
   "execution_count": null,
   "id": "f8e13809",
   "metadata": {},
   "outputs": [],
   "source": [
    "tml_loader = ThermoMLpara(\"./data/thermoml\")\n",
    "tml_para = {}\n",
    "for graph in tml_loader:\n",
    "    inchi, para = graph.InChI, graph.para.view(-1, 3).round(decimals=2)\n",
    "    tml_para[inchi] = para.tolist()[0]"
   ]
  },
  {
   "cell_type": "code",
   "execution_count": null,
   "id": "d77810b2-ca9c-4212-8b4d-5ff00bee47ab",
   "metadata": {},
   "outputs": [],
   "source": [
    "path = osp.join(\"data\", \"thermoml\")\n",
    "testloader = ThermoMLDataset(path)\n",
    "device = torch.device(\"cpu\")"
   ]
  },
  {
   "cell_type": "code",
   "execution_count": null,
   "id": "d3e983bb",
   "metadata": {},
   "outputs": [],
   "source": [
    "from configs.default import get_config\n",
    "config = get_config()"
   ]
  },
  {
   "cell_type": "code",
   "execution_count": null,
   "id": "ee710698",
   "metadata": {},
   "outputs": [],
   "source": [
    "config.propagation_depth=4\n",
    "config.hidden_dim=128\n",
    "config.num_mlp_layers=2\n",
    "config.pre_layers=1\n",
    "config.post_layers=3"
   ]
  },
  {
   "cell_type": "code",
   "execution_count": null,
   "id": "d6b7cc87",
   "metadata": {},
   "outputs": [],
   "source": [
    "model_dtype = torch.float64"
   ]
  },
  {
   "cell_type": "code",
   "execution_count": null,
   "id": "776600d7",
   "metadata": {},
   "outputs": [],
   "source": [
    "# Create and initialize the network.\n",
    "deg_model2 = calc_deg(\"thermoml\", './')\n",
    "model2 = create_model(config, deg_model2).to(device, model_dtype)"
   ]
  },
  {
   "cell_type": "code",
   "execution_count": null,
   "id": "e5b269b7",
   "metadata": {},
   "outputs": [],
   "source": [
    "# Create and initialize the network.\n",
    "deg_model1 = calc_deg(\"ramirez\", './')\n",
    "model1 = create_model(config, deg_model1).to(device, model_dtype)"
   ]
  },
  {
   "cell_type": "code",
   "execution_count": null,
   "id": "9bbfc6b8",
   "metadata": {},
   "outputs": [],
   "source": [
    "# Set up checkpointing of the model.\n",
    "def loadckp(ckp_path: str, model: PNAPCSAFT):\n",
    "    if osp.exists(ckp_path):\n",
    "        checkpoint = torch.load(ckp_path, map_location=torch.device(\"cpu\"))\n",
    "        model.load_state_dict(checkpoint[\"model_state_dict\"])\n",
    "        print(f\"model checkpoint step {checkpoint['step']}\")\n",
    "        del checkpoint\n",
    "        \n",
    "ckp_path = \"./train/checkpoints/model2-5_21e6.pth\"\n",
    "loadckp(ckp_path, model2)\n",
    "ckp_path = \"./train/checkpoints/model1-3_2e6.pth\"\n",
    "loadckp(ckp_path, model1)"
   ]
  },
  {
   "cell_type": "code",
   "execution_count": null,
   "id": "cbc00a5e-1816-4bbf-9a89-e677905831d1",
   "metadata": {},
   "outputs": [],
   "source": [
    "def model_para_fn(model: PNAPCSAFT):\n",
    "    model_para = {}\n",
    "    model_array = {}\n",
    "    model.eval()\n",
    "    with torch.no_grad():\n",
    "        for graphs in testloader:\n",
    "            graphs.x = graphs.x.to(model_dtype)\n",
    "            graphs.edge_attr = graphs.edge_attr.to(model_dtype)\n",
    "            graphs.edge_index = graphs.edge_index.to(torch.int64)\n",
    "\n",
    "            graphs = graphs.to(device)\n",
    "            parameters = model(graphs)\n",
    "            params = parameters.squeeze().to(torch.float64).numpy()\n",
    "            rho = graphs.rho.view(-1, 5).to(torch.float64).numpy()\n",
    "            vp = graphs.vp.view(-1, 5).to(torch.float64).numpy()\n",
    "            mden_array, mvp_array = MAPE(params, rho, vp, False)\n",
    "            mden, mvp = mden_array.mean(), mvp_array.mean()\n",
    "            parameters = parameters.tolist()[0]\n",
    "            model_para[graphs.InChI] = (parameters, mden, mvp)\n",
    "            model_array[graphs.InChI] = (mden_array, mvp_array)\n",
    "    return model_para, model_array\n",
    "\n",
    "model1_para, model1_array = model_para_fn(model1)\n",
    "model2_para, model2_array = model_para_fn(model2)"
   ]
  },
  {
   "cell_type": "code",
   "execution_count": null,
   "id": "501020ce",
   "metadata": {},
   "outputs": [],
   "source": [
    "def datacsv(model_para):\n",
    "    data = {\"inchis\":[],\"mden\":[],\"mvp\":[]}\n",
    "    for inchi in model_para:\n",
    "        data['inchis'].append(inchi)\n",
    "        data['mden'].append(model_para[inchi][1])\n",
    "        data['mvp'].append(model_para[inchi][2])\n",
    "    return data\n",
    "\n",
    "data = datacsv(model2_para)"
   ]
  },
  {
   "cell_type": "code",
   "execution_count": null,
   "id": "12995f0a",
   "metadata": {},
   "outputs": [],
   "source": [
    "modelx = pl.DataFrame(data)"
   ]
  },
  {
   "cell_type": "code",
   "execution_count": null,
   "id": "cd8170fc",
   "metadata": {},
   "outputs": [],
   "source": [
    "modelx.write_csv('model2.csv')"
   ]
  },
  {
   "cell_type": "code",
   "execution_count": null,
   "id": "91369b65",
   "metadata": {},
   "outputs": [],
   "source": [
    "import pickle, numpy as np\n",
    "with open(\"./data/thermoml/raw/para3_fitted.pkl\", \"rb\") as file:\n",
    "        # A new file will be created\n",
    "        para_fitted = pickle.load( file)"
   ]
  },
  {
   "cell_type": "code",
   "execution_count": null,
   "id": "38e07139",
   "metadata": {},
   "outputs": [],
   "source": [
    "inchi = \"InChI=1S/C5H6O2/c6-4-5-2-1-3-7-5/h1-3,6H,4H2\"\n",
    "def compare_model(model_para, model_array):\n",
    "    ml, mden, mvp = model_para[inchi]\n",
    "    mden_array, mvp_array = model_array[inchi]\n",
    "    ra = ra_para[inchi]\n",
    "    fit, mden_fit, mvp_fit = para_fitted[inchi]\n",
    "    for row in zip(ra, ml, fit):\n",
    "        print(row)\n",
    "\n",
    "    print(mden, mvp)\n",
    "    print(mden_fit, mvp_fit)\n",
    "\n",
    "compare_model(model2_para, model2_array)\n",
    "compare_model(model1_para, model1_array)"
   ]
  },
  {
   "cell_type": "code",
   "execution_count": null,
   "id": "8c87ef2c",
   "metadata": {},
   "outputs": [],
   "source": [
    "with torch.no_grad(): \n",
    "    graphs = from_InChI(inchi, with_hydrogen=True)\n",
    "    graphs.x = graphs.x.to(model_dtype)\n",
    "    graphs.edge_attr = graphs.edge_attr.to(model_dtype)\n",
    "    graphs.edge_index = graphs.edge_index.to(torch.int64)\n",
    "\n",
    "    graphs = graphs.to(device)\n",
    "    parameters = model2(graphs)\n",
    "    params = parameters.squeeze().to(torch.float64).detach().numpy()\n",
    "params"
   ]
  },
  {
   "cell_type": "code",
   "execution_count": null,
   "id": "5b6bea5b",
   "metadata": {},
   "outputs": [],
   "source": [
    "def plotdata(inchi: str, model_name: str, molecule_name: str, model: PNAPCSAFT):\n",
    "    def pltline(x, y):\n",
    "        return plt.plot(x, y, linewidth=0.5)\n",
    "\n",
    "    def pltscatter(x, y):\n",
    "        return plt.scatter(x, y, marker=\"x\", c=\"black\", s=10)\n",
    "\n",
    "    def plterr(x, y, m):\n",
    "        tb = 0\n",
    "        for i, mape in enumerate(np.round(m, decimals=1)):\n",
    "            ta = x[i]\n",
    "            if (mape > 1) & (ta - tb > 2):\n",
    "                tb = ta\n",
    "                plt.text(x[i], y[i], f\"{mape} %\", ha=\"center\", va=\"center\", fontsize=4)\n",
    "\n",
    "    model.eval()\n",
    "    with torch.no_grad():\n",
    "        for graphs in testloader:\n",
    "            if inchi == graphs.InChI:\n",
    "                break\n",
    "        graphs.x = graphs.x.to(model_dtype)\n",
    "        graphs.edge_attr = graphs.edge_attr.to(model_dtype)\n",
    "        graphs.edge_index = graphs.edge_index.to(torch.int64)\n",
    "\n",
    "        graphs = graphs.to(device)\n",
    "        parameters = model(graphs)\n",
    "        params = parameters.squeeze().to(torch.float64).numpy()\n",
    "        # params[0] -= 0.0112\n",
    "        rho = graphs.rho.view(-1, 5).to(torch.float64).numpy()\n",
    "        vp = graphs.vp.view(-1, 5).to(torch.float64).numpy()\n",
    "        pred_den, pred_vp = rhovp_data(params, rho, vp)\n",
    "        params = np.asarray(ra_para[inchi])\n",
    "        ra_den, ra_vp = rhovp_data(params, rho, vp)\n",
    "\n",
    "        idx_vp = (pred_vp != 0) & (ra_vp != 0)\n",
    "        vp = vp[idx_vp]\n",
    "        ra_vp = ra_vp[idx_vp]\n",
    "        pred_vp = pred_vp[idx_vp]\n",
    "\n",
    "        idx = np.argsort(vp[:, 0], 0)\n",
    "        x = vp[idx, 0]\n",
    "        y = vp[idx, -1] / 100000\n",
    "        pltscatter(x, y)\n",
    "\n",
    "        y = pred_vp[idx] / 100000\n",
    "        pltline(x, y)\n",
    "        mvp_model = 100 * np.abs(vp[idx, -1] - pred_vp[idx]) / vp[idx, -1]\n",
    "        plterr(x, y * 0.99, mvp_model)\n",
    "\n",
    "        y = ra_vp[idx] / 100000\n",
    "        pltline(x, y)\n",
    "        mvp_ra = 100 * np.abs(vp[idx, -1] - ra_vp[idx]) / vp[idx, -1]\n",
    "        plterr(x, y * 1.01, mvp_ra)\n",
    "\n",
    "        # Customize the plot appearance\n",
    "        pltcustom(model_name, mvp_model, mvp_ra, \"linear\", \"Pressão de vapor (Bar)\")\n",
    "\n",
    "        # Save the plot as a high-quality image file\n",
    "        path = osp.join(\n",
    "            \"images\", \"vp_\" + model_name.strip() + \"_\" + molecule_name + \".png\"\n",
    "        )\n",
    "        plt.savefig(path, dpi=300)\n",
    "        plt.show()\n",
    "\n",
    "        idx_p = abs(rho[:, 1] - 101325) < 10000\n",
    "        rho = rho[idx_p]\n",
    "        pred_den = pred_den[idx_p]\n",
    "        ra_den = ra_den[idx_p]\n",
    "        idx = np.argsort(rho[:, 0], 0)\n",
    "\n",
    "        x = rho[idx, 0]\n",
    "        y = rho[idx, -1]\n",
    "        pltscatter(x, y)\n",
    "\n",
    "        y = pred_den[idx]\n",
    "        pltline(x, y)\n",
    "        mden_model = 100 * np.abs(rho[idx, -1] - pred_den[idx]) / rho[idx, -1]\n",
    "        plterr(x, y, mden_model)\n",
    "\n",
    "        y = ra_den[idx]\n",
    "        pltline(x, y)\n",
    "        mden_ra = 100 * np.abs(rho[idx, -1] - ra_den[idx]) / rho[idx, -1]\n",
    "        plterr(x, y, mden_ra)\n",
    "\n",
    "        # Customize the plot appearance\n",
    "        pltcustom(model_name, mden_model, mden_ra, \"linear\", \"Densidade (mol / m³)\")\n",
    "        path = osp.join(\"images\", \"den_\" + model_name.strip()+ \"_\" + molecule_name + \".png\")\n",
    "        plt.savefig(path, dpi=300)\n",
    "        plt.show()\n",
    "\n",
    "\n",
    "def pltcustom(modelname, m_model, m_ra, scale=\"linear\", ylabel=\"\"):\n",
    "    plt.xlabel(\"T (K)\")\n",
    "    plt.ylabel(ylabel)\n",
    "    plt.title(\"\")\n",
    "    plt.legend(\n",
    "        [\n",
    "            \"ThermoML\",\n",
    "            modelname + f\" ({m_model.mean().round(decimals=2)} %)\",\n",
    "            f\"Ramírez-Vélez et al. ({m_ra.mean().round(decimals=2)} %)\",\n",
    "        ]\n",
    "    )\n",
    "    plt.grid(False)\n",
    "    plt.yscale(scale)"
   ]
  },
  {
   "cell_type": "code",
   "execution_count": null,
   "id": "468e44c5",
   "metadata": {},
   "outputs": [],
   "source": [
    "inchi = inchi\n",
    "plotdata(inchi, \"Modelo 2\", \"furfural\", model2)\n",
    "plotdata(inchi, \"Modelo 1\", \"furfural\", model1)"
   ]
  },
  {
   "cell_type": "code",
   "execution_count": null,
   "id": "e3853a8a",
   "metadata": {},
   "outputs": [],
   "source": []
  }
 ],
 "metadata": {
  "kernelspec": {
   "display_name": "Python 3 (ipykernel)",
   "language": "python",
   "name": "python3"
  },
  "language_info": {
   "codemirror_mode": {
    "name": "ipython",
    "version": 3
   },
   "file_extension": ".py",
   "mimetype": "text/x-python",
   "name": "python",
   "nbconvert_exporter": "python",
   "pygments_lexer": "ipython3",
   "version": "3.9.16"
  }
 },
 "nbformat": 4,
 "nbformat_minor": 5
}
