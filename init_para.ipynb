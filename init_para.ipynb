{
 "cells": [
  {
   "cell_type": "code",
   "execution_count": null,
   "id": "f71ff522-3521-4d89-b90e-042aa95fcc2f",
   "metadata": {
    "execution": {
     "iopub.execute_input": "2023-06-16T17:58:15.292552Z",
     "iopub.status.busy": "2023-06-16T17:58:15.292017Z",
     "iopub.status.idle": "2023-06-16T17:58:18.377187Z",
     "shell.execute_reply": "2023-06-16T17:58:18.375627Z",
     "shell.execute_reply.started": "2023-06-16T17:58:15.292477Z"
    }
   },
   "outputs": [],
   "source": [
    "import os.path as osp\n",
    "import torch, jax\n",
    "from torch_geometric.loader import DataLoader\n",
    "from data.graphdataset import ThermoMLDataset, ramirez\n",
    "from train.train import create_model"
   ]
  },
  {
   "cell_type": "code",
   "execution_count": null,
   "id": "d2ef1aa5",
   "metadata": {},
   "outputs": [],
   "source": [
    "train_dataset = ramirez(\"./data/ramirez2022\")\n",
    "train_loader = DataLoader(train_dataset, batch_size=1, shuffle=False)\n",
    "ra_data = {}\n",
    "for graph in train_loader:\n",
    "    for inchi, para in zip(graph.InChI, graph.para.view(-1, 3)):\n",
    "        ra_data[inchi] = para"
   ]
  },
  {
   "cell_type": "code",
   "execution_count": null,
   "id": "d77810b2-ca9c-4212-8b4d-5ff00bee47ab",
   "metadata": {
    "execution": {
     "iopub.execute_input": "2023-06-16T17:58:18.381823Z",
     "iopub.status.busy": "2023-06-16T17:58:18.379520Z",
     "iopub.status.idle": "2023-06-16T17:58:18.430244Z",
     "shell.execute_reply": "2023-06-16T17:58:18.427303Z",
     "shell.execute_reply.started": "2023-06-16T17:58:18.381823Z"
    }
   },
   "outputs": [],
   "source": [
    "\n",
    "path = osp.join(\"data\", \"thermoml\")\n",
    "dataset = ThermoMLDataset(path)\n",
    "loader = DataLoader(dataset, batch_size=1, shuffle=False)\n",
    "device = torch.device(\"cpu\")"
   ]
  },
  {
   "cell_type": "code",
   "execution_count": null,
   "id": "d3e983bb",
   "metadata": {},
   "outputs": [],
   "source": [
    "from configs.default import get_config\n",
    "config = get_config()"
   ]
  },
  {
   "cell_type": "code",
   "execution_count": null,
   "id": "ee710698",
   "metadata": {},
   "outputs": [],
   "source": [
    "config.num_train_steps=1000000 \n",
    "config.log_every_steps=100 \n",
    "config.num_para=3 \n",
    "config.checkpoint_every_steps=2000 \n",
    "config.learning_rate=0.001\n",
    "config.patience=10 \n",
    "config.warmup_steps=500 \n",
    "config.optimizer=\"adam\" \n",
    "config.batch_size=128 \n",
    "config.propagation_depth=3 \n",
    "config.hidden_dim=64 \n",
    "config.num_mlp_layers=2 \n",
    "config.pre_layers=2 \n",
    "config.post_layers=1"
   ]
  },
  {
   "cell_type": "code",
   "execution_count": null,
   "id": "d6b7cc87",
   "metadata": {},
   "outputs": [],
   "source": [
    "model_dtype = torch.float32"
   ]
  },
  {
   "cell_type": "code",
   "execution_count": null,
   "id": "776600d7",
   "metadata": {},
   "outputs": [],
   "source": [
    "# Create and initialize the network.\n",
    "model = create_model(config).to(device, model_dtype)"
   ]
  },
  {
   "cell_type": "code",
   "execution_count": null,
   "id": "b42712c2",
   "metadata": {},
   "outputs": [],
   "source": [
    "# Set up checkpointing of the model.\n",
    "ckp_path = \"./training/last_checkpoint.pth\"\n",
    "if osp.exists(ckp_path):\n",
    "    checkpoint = torch.load(ckp_path)\n",
    "    model.load_state_dict(checkpoint[\"model_state_dict\"])\n"
   ]
  },
  {
   "cell_type": "code",
   "execution_count": null,
   "id": "cbc00a5e-1816-4bbf-9a89-e677905831d1",
   "metadata": {
    "execution": {
     "iopub.execute_input": "2023-06-16T19:10:02.438658Z",
     "iopub.status.busy": "2023-06-16T19:10:02.437654Z",
     "iopub.status.idle": "2023-06-16T19:41:51.419175Z",
     "shell.execute_reply": "2023-06-16T19:41:51.417275Z",
     "shell.execute_reply.started": "2023-06-16T19:10:02.438592Z"
    }
   },
   "outputs": [],
   "source": [
    "para = {}\n",
    "for graph in loader:\n",
    "    graph = graph.to(device)\n",
    "    parameters = model(graph)\n",
    "    parameters = parameters.tolist()[0]\n",
    "    para[graph.InChI[0]] = (parameters, float(\"inf\"))"
   ]
  },
  {
   "cell_type": "code",
   "execution_count": null,
   "id": "a6961d25",
   "metadata": {},
   "outputs": [],
   "source": [
    "len(para)"
   ]
  },
  {
   "cell_type": "code",
   "execution_count": null,
   "id": "d0a94666",
   "metadata": {},
   "outputs": [],
   "source": [
    "import pickle\n",
    "with open(\"./data/thermoml/processed/para3.pkl\", \"wb\") as file:\n",
    "        # A new file will be created\n",
    "        pickle.dump(para, file)"
   ]
  },
  {
   "cell_type": "code",
   "execution_count": null,
   "id": "bd3af3e9",
   "metadata": {},
   "outputs": [],
   "source": [
    "n_rho_vp = 0\n",
    "n_rho = 0\n",
    "n_vp = 0\n",
    "ntrain = 0\n",
    "size_vp = 0\n",
    "size_rho = 0\n",
    "for graph in loader:\n",
    "    if torch.all(graph.rho == torch.zeros_like(graph.rho)):\n",
    "        n_vp += 1\n",
    "    elif torch.all(graph.vp == torch.zeros_like(graph.vp)):\n",
    "        n_rho += 1\n",
    "    else:\n",
    "        n_rho_vp += 1\n",
    "        if graph.InChI[0] not in ra_data:\n",
    "            ntrain += 1 "
   ]
  },
  {
   "cell_type": "code",
   "execution_count": null,
   "id": "7bee5b65",
   "metadata": {},
   "outputs": [],
   "source": [
    "n_rho_vp, n_rho, n_vp, ntrain"
   ]
  },
  {
   "cell_type": "code",
   "execution_count": null,
   "id": "91369b65",
   "metadata": {},
   "outputs": [],
   "source": []
  }
 ],
 "metadata": {
  "kernelspec": {
   "display_name": "Python 3 (ipykernel)",
   "language": "python",
   "name": "python3"
  },
  "language_info": {
   "codemirror_mode": {
    "name": "ipython",
    "version": 3
   },
   "file_extension": ".py",
   "mimetype": "text/x-python",
   "name": "python",
   "nbconvert_exporter": "python",
   "pygments_lexer": "ipython3",
   "version": "3.9.16"
  }
 },
 "nbformat": 4,
 "nbformat_minor": 5
}
