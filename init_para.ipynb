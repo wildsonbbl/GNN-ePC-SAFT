{
 "cells": [
  {
   "cell_type": "code",
   "execution_count": 1,
   "id": "f71ff522-3521-4d89-b90e-042aa95fcc2f",
   "metadata": {
    "tags": []
   },
   "outputs": [],
   "source": [
    "import os.path as osp, os\n",
    "os.environ[\"CUDA_VISIBLE_DEVICES\"] = ''\n",
    "import torch, numpy as np, polars as pl\n",
    "from data.graphdataset import ThermoMLDataset, ramirez, ThermoMLpara\n",
    "from train.train import create_model\n",
    "from train.model_deg import calc_deg\n",
    "from data.graph import from_InChI\n",
    "from train.parametrisation import MAPE, rhovp_data\n",
    "import matplotlib.pyplot as plt"
   ]
  },
  {
   "cell_type": "code",
   "execution_count": 2,
   "id": "a3158ad1",
   "metadata": {},
   "outputs": [
    {
     "data": {
      "text/plain": [
       "False"
      ]
     },
     "execution_count": 2,
     "metadata": {},
     "output_type": "execute_result"
    }
   ],
   "source": [
    "torch.cuda.is_available()"
   ]
  },
  {
   "cell_type": "code",
   "execution_count": 3,
   "id": "d2ef1aa5",
   "metadata": {},
   "outputs": [],
   "source": [
    "ra_loader = ramirez(\"./data/ramirez2022\")\n",
    "ra_para = {}\n",
    "for graph in ra_loader:\n",
    "    inchi, para = graph.InChI, graph.para.view(-1, 3).round(decimals=2)\n",
    "    ra_para[inchi] = para.tolist()[0]"
   ]
  },
  {
   "cell_type": "code",
   "execution_count": 4,
   "id": "f8e13809",
   "metadata": {},
   "outputs": [],
   "source": [
    "tml_loader = ThermoMLpara(\"./data/thermoml\")\n",
    "tml_para = {}\n",
    "for graph in tml_loader:\n",
    "    inchi, para = graph.InChI, graph.para.view(-1, 3).round(decimals=2)\n",
    "    tml_para[inchi] = para.tolist()[0]"
   ]
  },
  {
   "cell_type": "code",
   "execution_count": 5,
   "id": "d77810b2-ca9c-4212-8b4d-5ff00bee47ab",
   "metadata": {},
   "outputs": [],
   "source": [
    "path = osp.join(\"data\", \"thermoml\")\n",
    "testloader = ThermoMLDataset(path)\n",
    "device = torch.device(\"cpu\")"
   ]
  },
  {
   "cell_type": "code",
   "execution_count": 6,
   "id": "d3e983bb",
   "metadata": {},
   "outputs": [],
   "source": [
    "from configs.default import get_config\n",
    "config = get_config()"
   ]
  },
  {
   "cell_type": "code",
   "execution_count": 7,
   "id": "ee710698",
   "metadata": {},
   "outputs": [],
   "source": [
    "config.propagation_depth=4\n",
    "config.hidden_dim=128\n",
    "config.num_mlp_layers=2\n",
    "config.pre_layers=1\n",
    "config.post_layers=3"
   ]
  },
  {
   "cell_type": "code",
   "execution_count": 8,
   "id": "d6b7cc87",
   "metadata": {},
   "outputs": [],
   "source": [
    "model_dtype = torch.float64"
   ]
  },
  {
   "cell_type": "code",
   "execution_count": 9,
   "id": "776600d7",
   "metadata": {},
   "outputs": [],
   "source": [
    "# Create and initialize the network.\n",
    "deg = calc_deg(\"ramirez\", './')\n",
    "model = create_model(config, deg).to(device, model_dtype)"
   ]
  },
  {
   "cell_type": "code",
   "execution_count": 10,
   "id": "b42712c2",
   "metadata": {},
   "outputs": [
    {
     "name": "stdout",
     "output_type": "stream",
     "text": [
      "model checkpoint step 2210000\n"
     ]
    }
   ],
   "source": [
    "# Set up checkpointing of the model.\n",
    "ckp_path = \"./train/checkpoints/model1-2_21e6.pth\"\n",
    "if osp.exists(ckp_path):\n",
    "    checkpoint = torch.load(ckp_path, map_location=torch.device(\"cpu\"))\n",
    "    model.load_state_dict(checkpoint[\"model_state_dict\"])\n",
    "    print(f\"model checkpoint step {checkpoint['step']}\")\n",
    "    del checkpoint\n"
   ]
  },
  {
   "cell_type": "code",
   "execution_count": null,
   "id": "cbc00a5e-1816-4bbf-9a89-e677905831d1",
   "metadata": {},
   "outputs": [],
   "source": [
    "model_para = {}\n",
    "model_array = {}\n",
    "model.eval()\n",
    "with torch.no_grad():\n",
    "    for graphs in testloader:\n",
    "        graphs.x = graphs.x.to(model_dtype)\n",
    "        graphs.edge_attr = graphs.edge_attr.to(model_dtype)\n",
    "        graphs.edge_index = graphs.edge_index.to(torch.int64)\n",
    "\n",
    "        graphs = graphs.to(device)\n",
    "        parameters = model(graphs)\n",
    "        params = parameters.squeeze().to(torch.float64).numpy()\n",
    "        rho = graphs.rho.view(-1, 5).to(torch.float64).numpy()\n",
    "        vp = graphs.vp.view(-1, 5).to(torch.float64).numpy()\n",
    "        mden_array, mvp_array = MAPE(params, rho, vp, False)\n",
    "        mden, mvp = mden_array.mean(), mvp_array.mean()\n",
    "        parameters = parameters.tolist()[0]\n",
    "        model_para[graphs.InChI] = (parameters, mden, mvp)\n",
    "        model_array[graphs.InChI] = (mden_array, mvp_array)"
   ]
  },
  {
   "cell_type": "code",
   "execution_count": null,
   "id": "307e54c2",
   "metadata": {},
   "outputs": [],
   "source": [
    "for inchi in ra_para:\n",
    "    if inchi in model_para:\n",
    "        ml, mden, mvp = model_para[inchi]\n",
    "        ra = np.array(ra_para[inchi])\n",
    "        ml = np.array(ml)\n",
    "        mape = np.abs(ra - ml) / ra * 100\n",
    "        \n",
    "        if (mden > 50 / 100 or mvp > 50 / 100):\n",
    "            print(inchi)\n",
    "            print(f\"###########---{mape}---##########\")\n",
    "            print(f\"###########---{mden*100, mvp*100}---##########\")\n",
    "            for row in zip(ra, ml):\n",
    "                print(row)"
   ]
  },
  {
   "cell_type": "code",
   "execution_count": null,
   "id": "501020ce",
   "metadata": {},
   "outputs": [],
   "source": [
    "data = {\"inchis\":[],\"mden\":[],\"mvp\":[]}\n",
    "for inchi in model_para:\n",
    "    data['inchis'].append(inchi)\n",
    "    data['mden'].append(model_para[inchi][1])\n",
    "    data['mvp'].append(model_para[inchi][2])"
   ]
  },
  {
   "cell_type": "code",
   "execution_count": null,
   "id": "12995f0a",
   "metadata": {},
   "outputs": [],
   "source": [
    "modelx = pl.DataFrame(data)"
   ]
  },
  {
   "cell_type": "code",
   "execution_count": null,
   "id": "cd8170fc",
   "metadata": {},
   "outputs": [],
   "source": [
    "modelx.write_csv('model2.csv')"
   ]
  },
  {
   "cell_type": "code",
   "execution_count": null,
   "id": "d0a94666",
   "metadata": {},
   "outputs": [],
   "source": [
    "import pickle\n",
    "with open(\"./data/thermoml/processed/para3.pkl\", \"wb\") as file:\n",
    "        # A new file will be created\n",
    "        pickle.dump(model_para, file)"
   ]
  },
  {
   "cell_type": "code",
   "execution_count": null,
   "id": "3872033a-f50f-4340-8d47-9b89388fc96d",
   "metadata": {},
   "outputs": [],
   "source": [
    "import pickle\n",
    "with open(\"./data/thermoml/raw/para3_fitted.pkl\", \"wb\") as file:\n",
    "        # A new file will be created\n",
    "        pickle.dump(model_para, file)"
   ]
  },
  {
   "cell_type": "code",
   "execution_count": null,
   "id": "bd3af3e9",
   "metadata": {},
   "outputs": [],
   "source": [
    "n_rho_vp = 0\n",
    "n_rho = 0\n",
    "n_vp = 0\n",
    "ntrain = 0\n",
    "ntrain_rhovp = 0\n",
    "size_vp = 0\n",
    "size_rho = 0\n",
    "for graph in testloader:\n",
    "    if torch.all(graph.rho == torch.zeros_like(graph.rho)):\n",
    "        n_vp += 1\n",
    "    elif torch.all(graph.vp == torch.zeros_like(graph.vp)):\n",
    "        n_rho += 1\n",
    "    else:\n",
    "        n_rho_vp += 1\n",
    "        if graph.InChI not in ra_para:\n",
    "            ntrain_rhovp += 1 \n",
    "    \n",
    "    if graph.InChI not in ra_para:\n",
    "        ntrain += 1\n"
   ]
  },
  {
   "cell_type": "code",
   "execution_count": null,
   "id": "7bee5b65",
   "metadata": {},
   "outputs": [],
   "source": [
    "n_rho_vp, n_rho, n_vp, ntrain, ntrain_rhovp"
   ]
  },
  {
   "cell_type": "code",
   "execution_count": null,
   "id": "91369b65",
   "metadata": {},
   "outputs": [],
   "source": [
    "import pickle, numpy as np\n",
    "with open(\"./data/thermoml/raw/para3_fitted.pkl\", \"rb\") as file:\n",
    "        # A new file will be created\n",
    "        para_fitted = pickle.load( file)"
   ]
  },
  {
   "cell_type": "code",
   "execution_count": null,
   "id": "94e74a1e",
   "metadata": {},
   "outputs": [],
   "source": [
    "len(para_fitted)"
   ]
  },
  {
   "cell_type": "code",
   "execution_count": null,
   "id": "be85769d",
   "metadata": {},
   "outputs": [],
   "source": [
    "n = 0\n",
    "nra = 0\n",
    "for inchi in para_fitted:\n",
    "    ml, mden, mvp = para_fitted[inchi]\n",
    "    if ( (mden > 0.05) or (mvp > 0.05) ):\n",
    "            print(inchi)\n",
    "            print(f\"###########---{mden, mvp}---##########\")\n",
    "            print(ml)\n",
    "            n +=1\n",
    "    if inchi in ra_para:\n",
    "        nra += 1\n",
    "print(f\"number of test set left: {n}\")\n",
    "print(f\"number of train set: {len(para_fitted) - n}\")\n",
    "print(f\"number of val set: {nra}\")"
   ]
  },
  {
   "cell_type": "code",
   "execution_count": null,
   "id": "38e07139",
   "metadata": {},
   "outputs": [],
   "source": [
    "inchi = \"InChI=1S/H2O/h1H2\"\n",
    "ml, mden, mvp = model_para[inchi]\n",
    "mden_array, mvp_array = model_array[inchi]\n",
    "ra = ra_para[inchi]\n",
    "fit, mden_fit, mvp_fit = para_fitted[inchi]\n",
    "for row in zip(ra, ml, fit):\n",
    "    print(row)\n",
    "\n",
    "print(mden, mvp, mden_fit, mvp_fit)"
   ]
  },
  {
   "cell_type": "code",
   "execution_count": null,
   "id": "8c87ef2c",
   "metadata": {},
   "outputs": [],
   "source": [
    "with torch.no_grad(): \n",
    "    graphs = from_InChI(inchi, with_hydrogen=True)\n",
    "    graphs.x = graphs.x.to(model_dtype)\n",
    "    graphs.edge_attr = graphs.edge_attr.to(model_dtype)\n",
    "    graphs.edge_index = graphs.edge_index.to(torch.int64)\n",
    "\n",
    "    graphs = graphs.to(device)\n",
    "    parameters = model(graphs)\n",
    "    params = parameters.squeeze().to(torch.float64).detach().numpy()\n",
    "params"
   ]
  },
  {
   "cell_type": "code",
   "execution_count": null,
   "id": "7293204c",
   "metadata": {},
   "outputs": [],
   "source": [
    "for gh in testloader:\n",
    "    if gh.InChI == inchi:\n",
    "        break"
   ]
  },
  {
   "cell_type": "code",
   "execution_count": null,
   "id": "c7159904",
   "metadata": {},
   "outputs": [],
   "source": [
    "gh"
   ]
  },
  {
   "cell_type": "code",
   "execution_count": 92,
   "id": "5b6bea5b",
   "metadata": {},
   "outputs": [],
   "source": [
    "def plotdata(inchi, modelname=\"Model 1\"):\n",
    "    def pltline(x, y):\n",
    "        return plt.plot(x, y, linewidth=0.5)\n",
    "\n",
    "    def pltscatter(x, y):\n",
    "        return plt.scatter(x, y, marker=\"x\", c=\"black\", s=10)\n",
    "\n",
    "    def plterr(x, y, m):\n",
    "        tb = 0\n",
    "        for i, mape in enumerate(np.round(m, decimals=1)):\n",
    "            ta = x[i]\n",
    "            if (mape > 1) & (ta - tb > 15):\n",
    "                tb = ta\n",
    "                plt.text(x[i], y[i], f\"{mape} %\", ha=\"right\", va=\"top\", fontsize=4)\n",
    "\n",
    "    model.eval()\n",
    "    with torch.no_grad():\n",
    "        for graphs in testloader:\n",
    "            if inchi == graphs.InChI:\n",
    "                break\n",
    "        graphs.x = graphs.x.to(model_dtype)\n",
    "        graphs.edge_attr = graphs.edge_attr.to(model_dtype)\n",
    "        graphs.edge_index = graphs.edge_index.to(torch.int64)\n",
    "\n",
    "        graphs = graphs.to(device)\n",
    "        parameters = model(graphs)\n",
    "        params = parameters.squeeze().to(torch.float64).numpy()\n",
    "        rho = graphs.rho.view(-1, 5).to(torch.float64).numpy()\n",
    "        vp = graphs.vp.view(-1, 5).to(torch.float64).numpy()\n",
    "        pred_den, pred_vp = rhovp_data(params, rho, vp)\n",
    "        params = np.asarray(ra_para[inchi])\n",
    "        ra_den, ra_vp = rhovp_data(params, rho, vp)\n",
    "\n",
    "        idx_vp = (pred_vp != 0) & (ra_vp != 0)\n",
    "        vp = vp[idx_vp]\n",
    "        ra_vp = ra_vp[idx_vp]\n",
    "        pred_vp = pred_vp[idx_vp]\n",
    "\n",
    "        idx = np.argsort(vp[:, 0], 0)\n",
    "        x = vp[idx, 0]\n",
    "        y = vp[idx, -1] / 100000\n",
    "        pltscatter(x, y)\n",
    "\n",
    "        y = pred_vp[idx] / 100000\n",
    "        pltline(x, y)\n",
    "        mvp_model = 100 * np.abs(vp[idx, -1] - pred_vp[idx]) / vp[idx, -1]\n",
    "        plterr(x, y*1.5, mvp_model)\n",
    "\n",
    "        y = ra_vp[idx] / 100000\n",
    "        pltline(x, y)\n",
    "        mvp_ra = 100 * np.abs(vp[idx, -1] - ra_vp[idx]) / vp[idx, -1]\n",
    "        plterr(x, y*1.5, mvp_ra)\n",
    "\n",
    "        # Customize the plot appearance\n",
    "        pltcustom(modelname, mvp_model, mvp_ra, 'log', \"Pressão de vapor (Bar)\")\n",
    "\n",
    "        # Save the plot as a high-quality image file\n",
    "        plt.savefig(\"images/vp.png\", dpi=300)\n",
    "        plt.show()\n",
    "\n",
    "        idx_p = abs(rho[:, 1] - 101325) < 10000\n",
    "        rho = rho[idx_p]\n",
    "        pred_den = pred_den[idx_p]\n",
    "        ra_den = ra_den[idx_p]\n",
    "        idx = np.argsort(rho[:, 0], 0)\n",
    "\n",
    "        x = rho[idx, 0]\n",
    "        y = rho[idx, -1]\n",
    "        pltscatter(x, y)\n",
    "\n",
    "        y = pred_den[idx]\n",
    "        pltline(x, y)\n",
    "        mden_model = 100 * np.abs(rho[idx, -1] - pred_den[idx]) / rho[idx, -1]\n",
    "        plterr(x, y, mden_model)\n",
    "\n",
    "        y = ra_den[idx]\n",
    "        pltline(x, y)\n",
    "        mden_ra = 100 * np.abs(rho[idx, -1] - ra_den[idx]) / rho[idx, -1]\n",
    "        plterr(x, y, mden_ra)\n",
    "\n",
    "        # Customize the plot appearance\n",
    "        pltcustom(modelname, mden_model, mden_ra, \"linear\", \"Densidade (kg / m³)\")\n",
    "        plt.savefig(\"images/den.png\", dpi=300)\n",
    "        plt.show()\n",
    "\n",
    "\n",
    "def pltcustom(modelname, m_model, m_ra, scale='linear', ylabel = \"\"):\n",
    "    plt.xlabel(\"T (K)\")\n",
    "    plt.ylabel(ylabel)\n",
    "    plt.title(\"\")\n",
    "    plt.legend(\n",
    "        [\n",
    "            \"ThermoML\",\n",
    "            modelname + f\" ({m_model.mean().round(decimals=2)} %)\",\n",
    "            f\"Ramírez-Vélez et al. ({m_ra.mean().round(decimals=2)} %)\",\n",
    "        ]\n",
    "    )\n",
    "    plt.grid(False)\n",
    "    plt.yscale(scale)"
   ]
  },
  {
   "cell_type": "code",
   "execution_count": 93,
   "id": "468e44c5",
   "metadata": {},
   "outputs": [
    {
     "data": {
      "image/png": "[encoded data removed]",
      "text/plain": [
       "<Figure size 640x480 with 1 Axes>"
      ]
     },
     "metadata": {},
     "output_type": "display_data"
    },
    {
     "data": {
      "image/png": "[encoded data removed]",
      "text/plain": [
       "<Figure size 640x480 with 1 Axes>"
      ]
     },
     "metadata": {},
     "output_type": "display_data"
    }
   ],
   "source": [
    "inchi = \"InChI=1S/H2O/h1H2\"\n",
    "plotdata(inchi)"
   ]
  },
  {
   "cell_type": "code",
   "execution_count": null,
   "id": "e3853a8a",
   "metadata": {},
   "outputs": [],
   "source": []
  }
 ],
 "metadata": {
  "kernelspec": {
   "display_name": "Python 3 (ipykernel)",
   "language": "python",
   "name": "python3"
  },
  "language_info": {
   "codemirror_mode": {
    "name": "ipython",
    "version": 3
   },
   "file_extension": ".py",
   "mimetype": "text/x-python",
   "name": "python",
   "nbconvert_exporter": "python",
   "pygments_lexer": "ipython3",
   "version": "3.9.16"
  }
 },
 "nbformat": 4,
 "nbformat_minor": 5
}
