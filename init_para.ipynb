{
 "cells": [
  {
   "cell_type": "code",
   "execution_count": null,
   "metadata": {},
   "outputs": [],
   "source": [
    "## cloning repo\n",
    "#!git clone https://{secret_value_0}@github.com/wildsonbbl/gnnepcsaft.git --branch san --single-branch -q\n",
    "## from within repo\n",
    "%cd ../"
   ]
  },
  {
   "cell_type": "code",
   "execution_count": null,
   "id": "f71ff522-3521-4d89-b90e-042aa95fcc2f",
   "metadata": {
    "tags": []
   },
   "outputs": [],
   "source": [
    "import os.path as osp, os\n",
    "\n",
    "os.environ[\"CUDA_VISIBLE_DEVICES\"] = \"\"\n",
    "import torch, numpy as np, polars as pl\n",
    "from gnnepcsaft.data.graphdataset import ThermoMLDataset, Ramirez\n",
    "from gnnepcsaft.train.train import create_model\n",
    "from gnnepcsaft.train.utils import calc_deg\n",
    "from gnnepcsaft.train.utils import mape\n",
    "from gnnepcsaft.demo.utils import model_para_fn\n",
    "\n",
    "torch.cuda.is_available()\n",
    "ra_loader = Ramirez(\"gnnepcsaft/data/ramirez2022\")\n",
    "ra_para = {}\n",
    "for graph in ra_loader:\n",
    "    inchi, para = graph.InChI, graph.para.view(-1, 3).round(decimals=2)\n",
    "    ra_para[inchi] = para.tolist()[0]\n",
    "path = osp.join(\"gnnepcsaft/data\", \"thermoml\")\n",
    "testloader = ThermoMLDataset(path)\n",
    "device = torch.device(\"cpu\")\n",
    "from configs.default import get_config\n",
    "\n",
    "config = get_config()"
   ]
  },
  {
   "cell_type": "code",
   "execution_count": null,
   "metadata": {},
   "outputs": [],
   "source": [
    "config.model = \"PNA\"\n",
    "config.propagation_depth = 2\n",
    "config.hidden_dim = 128\n",
    "config.num_mlp_layers = 1\n",
    "config.pre_layers = 1\n",
    "config.post_layers = 3\n",
    "model_dtype = torch.float64"
   ]
  },
  {
   "cell_type": "code",
   "execution_count": null,
   "id": "776600d7",
   "metadata": {},
   "outputs": [],
   "source": [
    "# Create and initialize the network.\n",
    "deg = calc_deg(\"ramirez\", \"gnnepcsaft/\")\n",
    "model = create_model(config, deg).to(device, model_dtype)"
   ]
  },
  {
   "cell_type": "code",
   "execution_count": null,
   "id": "b42712c2",
   "metadata": {},
   "outputs": [],
   "source": [
    "# Set up checkpointing of the model.\n",
    "ckp_path = \"gnnepcsaft/train/checkpoints/model5-8_25e6.pth\"\n",
    "if osp.exists(ckp_path):\n",
    "    checkpoint = torch.load(ckp_path, map_location=torch.device(\"cpu\"))\n",
    "    model.load_state_dict(checkpoint[\"model_state_dict\"])\n",
    "    print(f\"model checkpoint step {checkpoint['step']}\")\n",
    "    del checkpoint"
   ]
  },
  {
   "cell_type": "code",
   "execution_count": null,
   "id": "cbc00a5e-1816-4bbf-9a89-e677905831d1",
   "metadata": {},
   "outputs": [],
   "source": [
    "model_para, model_array = model_para_fn(model)"
   ]
  },
  {
   "cell_type": "code",
   "execution_count": null,
   "id": "22d1c550",
   "metadata": {},
   "outputs": [],
   "source": [
    "para3 = {}\n",
    "for inchi in model_para:\n",
    "    if inchi not in ra_para:\n",
    "        para3[inchi] = model_para[inchi]"
   ]
  },
  {
   "cell_type": "code",
   "execution_count": null,
   "id": "60fe95a8",
   "metadata": {},
   "outputs": [],
   "source": [
    "len(ra_para), len(model_para), len(para3)"
   ]
  },
  {
   "cell_type": "code",
   "execution_count": null,
   "id": "d0a94666",
   "metadata": {},
   "outputs": [],
   "source": [
    "import pickle\n",
    "\n",
    "with open(\"gnnepcsaft/data/thermoml/processed/para3.pkl\", \"wb\") as file:\n",
    "    # A new file will be created\n",
    "    pickle.dump(para3, file)"
   ]
  },
  {
   "cell_type": "code",
   "execution_count": null,
   "id": "3872033a-f50f-4340-8d47-9b89388fc96d",
   "metadata": {},
   "outputs": [],
   "source": [
    "import pickle\n",
    "\n",
    "with open(\"gnnepcsaft/data/thermoml/raw/para3_fitted.pkl\", \"wb\") as file:\n",
    "    # A new file will be created\n",
    "    pickle.dump(para3, file)"
   ]
  }
 ],
 "metadata": {
  "kernelspec": {
   "display_name": "Python 3 (ipykernel)",
   "language": "python",
   "name": "python3"
  },
  "language_info": {
   "codemirror_mode": {
    "name": "ipython",
    "version": 3
   },
   "file_extension": ".py",
   "mimetype": "text/x-python",
   "name": "python",
   "nbconvert_exporter": "python",
   "pygments_lexer": "ipython3",
   "version": "3.9.16"
  }
 },
 "nbformat": 4,
 "nbformat_minor": 5
}
