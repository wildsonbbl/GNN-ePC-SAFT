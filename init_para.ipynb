{
 "cells": [
  {
   "cell_type": "code",
   "execution_count": 1,
   "id": "f71ff522-3521-4d89-b90e-042aa95fcc2f",
   "metadata": {
    "execution": {
     "iopub.execute_input": "2023-06-16T17:58:15.292552Z",
     "iopub.status.busy": "2023-06-16T17:58:15.292017Z",
     "iopub.status.idle": "2023-06-16T17:58:18.377187Z",
     "shell.execute_reply": "2023-06-16T17:58:18.375627Z",
     "shell.execute_reply.started": "2023-06-16T17:58:15.292477Z"
    }
   },
   "outputs": [],
   "source": [
    "import os.path as osp, os\n",
    "os.environ[\"CUDA_VISIBLE_DEVICES\"] = ''\n",
    "import torch, numpy as np\n",
    "from torch_geometric.loader import DataLoader\n",
    "from data.graphdataset import ThermoMLDataset, ramirez\n",
    "from train.train import create_model\n",
    "from train.model_deg import calc_deg\n",
    "from data.graph import from_InChI"
   ]
  },
  {
   "cell_type": "code",
   "execution_count": 2,
   "id": "a3158ad1",
   "metadata": {},
   "outputs": [
    {
     "data": {
      "text/plain": [
       "False"
      ]
     },
     "execution_count": 2,
     "metadata": {},
     "output_type": "execute_result"
    }
   ],
   "source": [
    "torch.cuda.is_available()"
   ]
  },
  {
   "cell_type": "code",
   "execution_count": 3,
   "id": "d2ef1aa5",
   "metadata": {},
   "outputs": [],
   "source": [
    "train_dataset = ramirez(\"./data/ramirez2022\")\n",
    "train_loader = DataLoader(train_dataset, batch_size=1, shuffle=False)\n",
    "ra_para = {}\n",
    "for graph in train_loader:\n",
    "    for inchi, para in zip(graph.InChI, graph.para.view(-1, 3)):\n",
    "        ra_para[inchi] = para.tolist()"
   ]
  },
  {
   "cell_type": "code",
   "execution_count": 4,
   "id": "d77810b2-ca9c-4212-8b4d-5ff00bee47ab",
   "metadata": {
    "execution": {
     "iopub.execute_input": "2023-06-16T17:58:18.381823Z",
     "iopub.status.busy": "2023-06-16T17:58:18.379520Z",
     "iopub.status.idle": "2023-06-16T17:58:18.430244Z",
     "shell.execute_reply": "2023-06-16T17:58:18.427303Z",
     "shell.execute_reply.started": "2023-06-16T17:58:18.381823Z"
    }
   },
   "outputs": [],
   "source": [
    "\n",
    "path = osp.join(\"data\", \"thermoml\")\n",
    "dataset = ThermoMLDataset(path)\n",
    "testloader = DataLoader(dataset, batch_size=1, shuffle=False)\n",
    "device = torch.device(\"cpu\")"
   ]
  },
  {
   "cell_type": "code",
   "execution_count": 5,
   "id": "d3e983bb",
   "metadata": {},
   "outputs": [],
   "source": [
    "from configs.default import get_config\n",
    "config = get_config()"
   ]
  },
  {
   "cell_type": "code",
   "execution_count": 6,
   "id": "ee710698",
   "metadata": {},
   "outputs": [],
   "source": [
    "config.num_train_steps=200_000\n",
    "config.log_every_steps=500\n",
    "config.num_para=3 \n",
    "config.checkpoint_every_steps=2000 \n",
    "config.learning_rate=0.001\n",
    "config.warmup_steps=500 \n",
    "config.optimizer=\"adam\" \n",
    "config.batch_size=512\n",
    "config.propagation_depth=4\n",
    "config.hidden_dim=512\n",
    "config.num_mlp_layers=1 \n",
    "config.pre_layers=2 \n",
    "config.post_layers=1"
   ]
  },
  {
   "cell_type": "code",
   "execution_count": 7,
   "id": "d6b7cc87",
   "metadata": {},
   "outputs": [],
   "source": [
    "model_dtype = torch.float32"
   ]
  },
  {
   "cell_type": "code",
   "execution_count": 8,
   "id": "776600d7",
   "metadata": {},
   "outputs": [],
   "source": [
    "# Create and initialize the network.\n",
    "deg = calc_deg(\"ramirez\", './')\n",
    "model = create_model(config, deg).to(device, model_dtype)"
   ]
  },
  {
   "cell_type": "code",
   "execution_count": 9,
   "id": "b42712c2",
   "metadata": {},
   "outputs": [],
   "source": [
    "# Set up checkpointing of the model.\n",
    "ckp_path = \"./train/checkpoints/model 1-4.pth\"\n",
    "if osp.exists(ckp_path):\n",
    "    checkpoint = torch.load(ckp_path, map_location=torch.device(\"cpu\"))\n",
    "    model.load_state_dict(checkpoint[\"model_state_dict\"])\n"
   ]
  },
  {
   "cell_type": "code",
   "execution_count": 10,
   "id": "cbc00a5e-1816-4bbf-9a89-e677905831d1",
   "metadata": {
    "execution": {
     "iopub.execute_input": "2023-06-16T19:10:02.438658Z",
     "iopub.status.busy": "2023-06-16T19:10:02.437654Z",
     "iopub.status.idle": "2023-06-16T19:41:51.419175Z",
     "shell.execute_reply": "2023-06-16T19:41:51.417275Z",
     "shell.execute_reply.started": "2023-06-16T19:10:02.438592Z"
    }
   },
   "outputs": [],
   "source": [
    "model_para = {}\n",
    "model.eval()\n",
    "for graph in testloader:\n",
    "    graph = graph.to(device)\n",
    "    parameters = model(graph)\n",
    "    parameters = parameters.tolist()[0]\n",
    "    model_para[graph.InChI[0]] = (parameters, float(\"inf\"))"
   ]
  },
  {
   "cell_type": "code",
   "execution_count": 15,
   "id": "307e54c2",
   "metadata": {},
   "outputs": [
    {
     "name": "stdout",
     "output_type": "stream",
     "text": [
      "40.176379992208275 InChI=1S/H3N/h1H3 [  2.62910008   2.31529999 204.8999939 ] [  1.02191615   3.4710598  185.47505188]\n",
      "1.4577517744946809 InChI=1S/C10H18/c1-2-6-10-8-4-3-7-9(10)5-1/h9-10H,1-8H2 [  3.07509995   4.1645999  318.        ] [  2.98500729   4.19004488 320.64743042]\n",
      "24.16259712031324 InChI=1S/H2S/h1H2 [  1.68550003   3.02769995 227.5       ] [  1.02186298   3.47111416 185.48248291]\n",
      "61.27577116379567 InChI=1S/H2O/h1H2 [  3.27859998   1.95889997 298.20001221] [  1.02190351   3.4710691  185.47622681]\n"
     ]
    }
   ],
   "source": [
    "for inchi in ra_para:\n",
    "    if inchi in model_para:\n",
    "        ra = np.array(ra_para[inchi])\n",
    "        ml = np.array(model_para[inchi][0])\n",
    "        mape = np.abs(ra - ml) / ra * 100\n",
    "        mape = mape.mean()\n",
    "        if mape > 1:\n",
    "            print(mape, inchi, ra, ml)"
   ]
  },
  {
   "cell_type": "code",
   "execution_count": null,
   "id": "d0a94666",
   "metadata": {},
   "outputs": [],
   "source": [
    "import pickle\n",
    "with open(\"./data/thermoml/processed/para3.pkl\", \"wb\") as file:\n",
    "        # A new file will be created\n",
    "        pickle.dump(model_para, file)"
   ]
  },
  {
   "cell_type": "code",
   "execution_count": null,
   "id": "bd3af3e9",
   "metadata": {},
   "outputs": [],
   "source": [
    "n_rho_vp = 0\n",
    "n_rho = 0\n",
    "n_vp = 0\n",
    "ntrain = 0\n",
    "size_vp = 0\n",
    "size_rho = 0\n",
    "for graph in loader:\n",
    "    if torch.all(graph.rho == torch.zeros_like(graph.rho)):\n",
    "        n_vp += 1\n",
    "    elif torch.all(graph.vp == torch.zeros_like(graph.vp)):\n",
    "        n_rho += 1\n",
    "    else:\n",
    "        n_rho_vp += 1\n",
    "        if graph.InChI[0] not in ra_data:\n",
    "            ntrain += 1 "
   ]
  },
  {
   "cell_type": "code",
   "execution_count": null,
   "id": "7bee5b65",
   "metadata": {},
   "outputs": [],
   "source": [
    "n_rho_vp, n_rho, n_vp, ntrain"
   ]
  },
  {
   "cell_type": "code",
   "execution_count": null,
   "id": "91369b65",
   "metadata": {},
   "outputs": [],
   "source": []
  }
 ],
 "metadata": {
  "kernelspec": {
   "display_name": "Python 3 (ipykernel)",
   "language": "python",
   "name": "python3"
  },
  "language_info": {
   "codemirror_mode": {
    "name": "ipython",
    "version": 3
   },
   "file_extension": ".py",
   "mimetype": "text/x-python",
   "name": "python",
   "nbconvert_exporter": "python",
   "pygments_lexer": "ipython3",
   "version": "3.9.16"
  }
 },
 "nbformat": 4,
 "nbformat_minor": 5
}
