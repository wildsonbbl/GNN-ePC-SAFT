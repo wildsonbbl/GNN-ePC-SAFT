{
 "cells": [
  {
   "cell_type": "code",
   "execution_count": null,
   "metadata": {},
   "outputs": [],
   "source": [
    "from data.molfamily import get_family_groups\n",
    "from data.graphdataset import ThermoMLDataset\n",
    "import polars as pl\n",
    "\n",
    "test_dt = ThermoMLDataset(\"./data/thermoml\")\n",
    "families = {\"inchis\": [], \"famgroup\": []}\n",
    "for graph in test_dt:\n",
    "    inchi = graph.InChI\n",
    "    famgroup = get_family_groups(inchi)\n",
    "    if len(famgroup) > 1:\n",
    "        famgroup = [\"polyfunctional\"]\n",
    "    families[\"inchis\"].append(inchi)\n",
    "    families[\"famgroup\"].append(famgroup[0])\n",
    "families = pl.DataFrame(families)\n",
    "families.write_csv('families.csv')"
   ]
  }
 ],
 "metadata": {
  "kernelspec": {
   "display_name": "Python 3",
   "language": "python",
   "name": "python3"
  },
  "language_info": {
   "codemirror_mode": {
    "name": "ipython",
    "version": 3
   },
   "file_extension": ".py",
   "mimetype": "text/x-python",
   "name": "python",
   "nbconvert_exporter": "python",
   "pygments_lexer": "ipython3",
   "version": "3.9.16"
  }
 },
 "nbformat": 4,
 "nbformat_minor": 2
}
