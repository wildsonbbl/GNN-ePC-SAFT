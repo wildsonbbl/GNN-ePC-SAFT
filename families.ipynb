{
 "cells": [
  {
   "cell_type": "code",
   "execution_count": null,
   "metadata": {},
   "outputs": [],
   "source": [
    "from data.molfamily import get_family_groups, complexity\n",
    "from data.graphdataset import ThermoMLDataset, ramirez\n",
    "import polars as pl\n",
    "\n",
    "test_dt = ThermoMLDataset(\"./data/thermoml\")\n",
    "train_dt = ramirez('./data/ramirez2022')\n"
   ]
  },
  {
   "cell_type": "code",
   "execution_count": null,
   "metadata": {},
   "outputs": [],
   "source": [
    "families = {\"inchis\": [], \"famgroup\": []}\n",
    "for graph in test_dt:\n",
    "    inchi = graph.InChI\n",
    "    famgroup = get_family_groups(inchi)\n",
    "    if len(famgroup) > 1:\n",
    "        famgroup = [\"polyfunctional\"]\n",
    "    families[\"inchis\"].append(inchi)\n",
    "    families[\"famgroup\"].append(famgroup[0])\n",
    "families = pl.DataFrame(families)\n",
    "families.write_csv('families.csv')"
   ]
  },
  {
   "cell_type": "code",
   "execution_count": null,
   "metadata": {},
   "outputs": [],
   "source": [
    "mol_complexity = {\"inchis\":[], \"complexity\":[]}\n",
    "for graph in test_dt:\n",
    "    inchi = graph.InChI\n",
    "    if inchi not in mol_complexity[\"inchis\"]:\n",
    "        comp = complexity(inchi)\n",
    "        if isinstance(comp, float):    \n",
    "            mol_complexity['inchis'].append(inchi)\n",
    "            mol_complexity[\"complexity\"].append(comp)"
   ]
  },
  {
   "cell_type": "code",
   "execution_count": null,
   "metadata": {},
   "outputs": [],
   "source": [
    "for graph in train_dt:\n",
    "    inchi = graph.InChI\n",
    "    if inchi not in mol_complexity[\"inchis\"]:\n",
    "        comp = complexity(inchi)\n",
    "        if isinstance(comp, float):    \n",
    "            mol_complexity['inchis'].append(inchi)\n",
    "            mol_complexity[\"complexity\"].append(comp)"
   ]
  },
  {
   "cell_type": "code",
   "execution_count": null,
   "metadata": {},
   "outputs": [],
   "source": [
    "complexity_df = pl.DataFrame(mol_complexity, schema={'inchis': str, 'complexity':float})\n",
    "complexity_df.write_csv(\"complexity.csv\")"
   ]
  }
 ],
 "metadata": {
  "kernelspec": {
   "display_name": "Python 3",
   "language": "python",
   "name": "python3"
  },
  "language_info": {
   "codemirror_mode": {
    "name": "ipython",
    "version": 3
   },
   "file_extension": ".py",
   "mimetype": "text/x-python",
   "name": "python",
   "nbconvert_exporter": "python",
   "pygments_lexer": "ipython3",
   "version": "3.9.16"
  }
 },
 "nbformat": 4,
 "nbformat_minor": 2
}
