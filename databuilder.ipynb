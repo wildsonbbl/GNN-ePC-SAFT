{
 "cells": [
  {
   "cell_type": "code",
   "execution_count": null,
   "metadata": {},
   "outputs": [],
   "source": [
    "import polars as pl"
   ]
  },
  {
   "cell_type": "code",
   "execution_count": null,
   "metadata": {},
   "outputs": [],
   "source": [
    "data = pl.read_csv('./data/ramirez2022/RAMIREZ2022.csv', has_header=True, separator=';')"
   ]
  },
  {
   "cell_type": "code",
   "execution_count": null,
   "metadata": {},
   "outputs": [],
   "source": [
    "from urllib.request import urlopen, HTTPError\n",
    "from urllib.parse import quote\n",
    "from time import sleep\n",
    "\n",
    "\n",
    "def to_InChI(ids: str) -> str:\n",
    "    try:\n",
    "        url = (\n",
    "            \"https://pubchem.ncbi.nlm.nih.gov/rest/pug/compound/name/\"\n",
    "            + quote(ids)\n",
    "            + \"/property/InChI/TXT\"\n",
    "        )\n",
    "        with urlopen(url) as ans:\n",
    "            ans = ans.read().decode(\"utf8\").rstrip()\n",
    "            ans = ans.split(\"\\n\")[0]\n",
    "\n",
    "    except (TypeError, ValueError, HTTPError):\n",
    "        try:\n",
    "            url = (\n",
    "                \"https://pubchem.ncbi.nlm.nih.gov/rest/pug/compound/cid/\"\n",
    "                + quote(ids)\n",
    "                + \"/property/InChI/TXT\"\n",
    "            )\n",
    "            ans = urlopen(url).read().decode(\"utf8\").rstrip()\n",
    "            ans = ans.split(\"\\n\")[0]\n",
    "        except (TypeError, ValueError, HTTPError):\n",
    "            print(\"not ok:\", url)\n",
    "            ans = None\n",
    "\n",
    "    sleep(0.1)\n",
    "    return ans"
   ]
  },
  {
   "cell_type": "code",
   "execution_count": null,
   "metadata": {},
   "outputs": [],
   "source": [
    "inchis = data['name'].apply(to_InChI).rename('inchi')"
   ]
  },
  {
   "cell_type": "code",
   "execution_count": null,
   "metadata": {},
   "outputs": [],
   "source": [
    "inchis.describe()"
   ]
  },
  {
   "cell_type": "code",
   "execution_count": null,
   "metadata": {},
   "outputs": [],
   "source": [
    "data = data.with_columns(inchis)"
   ]
  },
  {
   "cell_type": "code",
   "execution_count": null,
   "metadata": {},
   "outputs": [],
   "source": [
    "data.write_parquet(\"./data/ramirez2022/raw/data.parquet\")"
   ]
  }
 ],
 "metadata": {
  "kernelspec": {
   "display_name": "analysis",
   "language": "python",
   "name": "python3"
  },
  "language_info": {
   "codemirror_mode": {
    "name": "ipython",
    "version": 3
   },
   "file_extension": ".py",
   "mimetype": "text/x-python",
   "name": "python",
   "nbconvert_exporter": "python",
   "pygments_lexer": "ipython3",
   "version": "3.10.9"
  },
  "orig_nbformat": 4
 },
 "nbformat": 4,
 "nbformat_minor": 2
}
