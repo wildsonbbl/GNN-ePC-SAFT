{
 "cells": [
  {
   "cell_type": "markdown",
   "id": "5df6e7a1",
   "metadata": {},
   "source": [
    "## load libraries and model"
   ]
  },
  {
   "cell_type": "code",
   "execution_count": null,
   "id": "f71ff522-3521-4d89-b90e-042aa95fcc2f",
   "metadata": {
    "tags": []
   },
   "outputs": [],
   "source": [
    "import os.path as osp, os\n",
    "os.environ[\"CUDA_VISIBLE_DEVICES\"] = ''\n",
    "import torch, numpy as np, polars as pl\n",
    "from data.graphdataset import ThermoMLDataset, ramirez, ThermoMLpara\n",
    "from train.train import create_model\n",
    "from train.models import PNAPCSAFT\n",
    "from train.model_deg import calc_deg\n",
    "from data.graph import from_InChI\n",
    "import matplotlib.pyplot as plt\n",
    "from configs.default import get_config\n",
    "import pickle, numpy as np\n",
    "from rdkit import Chem\n",
    "from rdkit.Chem import Draw\n",
    "from demo.utils import plotdata, loadckp, model_para_fn, datacsv\n",
    "\n",
    "torch.cuda.is_available()"
   ]
  },
  {
   "cell_type": "code",
   "execution_count": null,
   "id": "d2ef1aa5",
   "metadata": {},
   "outputs": [],
   "source": [
    "ra_loader = ramirez(\"./data/ramirez2022\")\n",
    "ra_para = {}\n",
    "for graph in ra_loader:\n",
    "    inchi, para = graph.InChI, graph.para.view(-1, 3).round(decimals=2)\n",
    "    ra_para[inchi] = para.tolist()[0]\n",
    "tml_loader = ThermoMLpara(\"./data/thermoml\")\n",
    "tml_para = {}\n",
    "for graph in tml_loader:\n",
    "    inchi, para = graph.InChI, graph.para.view(-1, 3).round(decimals=2)\n",
    "    tml_para[inchi] = para.tolist()[0]\n",
    "path = osp.join(\"data\", \"thermoml\")\n",
    "testloader = ThermoMLDataset(path)\n",
    "device = torch.device(\"cpu\")"
   ]
  },
  {
   "cell_type": "code",
   "execution_count": null,
   "id": "d3e983bb",
   "metadata": {},
   "outputs": [],
   "source": [
    "config = get_config()\n",
    "config.propagation_depth=4\n",
    "config.hidden_dim=128\n",
    "config.num_mlp_layers=2\n",
    "config.pre_layers=1\n",
    "config.post_layers=3"
   ]
  },
  {
   "cell_type": "code",
   "execution_count": null,
   "id": "d6b7cc87",
   "metadata": {},
   "outputs": [],
   "source": [
    "model_dtype = torch.float64\n",
    "# Create and initialize the network.\n",
    "deg_model2 = calc_deg(\"thermoml\", './')\n",
    "model2 = create_model(config, deg_model2).to(device, model_dtype)\n",
    "# Create and initialize the network.\n",
    "deg_model1 = calc_deg(\"ramirez\", './')\n",
    "model1 = create_model(config, deg_model1).to(device, model_dtype)\n",
    "# Set up checkpointing of the model.\n",
    "        \n",
    "ckp_path = \"./train/checkpoints/model4-5_95e6.pth\"\n",
    "loadckp(ckp_path, model2)\n",
    "ckp_path = \"./train/checkpoints/model3-4_50e6.pth\"\n",
    "loadckp(ckp_path, model1)"
   ]
  },
  {
   "cell_type": "markdown",
   "id": "b96bd541",
   "metadata": {},
   "source": [
    "## evaluations"
   ]
  },
  {
   "cell_type": "code",
   "execution_count": null,
   "id": "cbc00a5e-1816-4bbf-9a89-e677905831d1",
   "metadata": {},
   "outputs": [],
   "source": [
    "model1_para, model1_array = model_para_fn(model1)\n",
    "model2_para, model2_array = model_para_fn(model2)"
   ]
  },
  {
   "cell_type": "code",
   "execution_count": null,
   "id": "501020ce",
   "metadata": {},
   "outputs": [],
   "source": [
    "data2 = datacsv(model2_para)\n",
    "data1 = datacsv(model1_para)\n",
    "model1data = pl.DataFrame(data1)\n",
    "model2data = pl.DataFrame(data2)\n",
    "model1data.write_csv('model1.csv')\n",
    "model2data.write_csv('model2.csv')"
   ]
  },
  {
   "cell_type": "code",
   "execution_count": null,
   "id": "91369b65",
   "metadata": {},
   "outputs": [],
   "source": [
    "with open(\"./data/thermoml/raw/para3_fitted.pkl\", \"rb\") as file:\n",
    "        # A new file will be created\n",
    "        para_fitted = pickle.load( file)"
   ]
  },
  {
   "cell_type": "code",
   "execution_count": null,
   "id": "38e07139",
   "metadata": {},
   "outputs": [],
   "source": [
    "inchi = \"InChI=1S/C8H15N2.BF4/c1-3-4-5-10-7-6-9(2)8-10;2-1(3,4)5/h6-8H,3-5H2,1-2H3;/q+1;-1\"\n",
    "def compare_model(model_para, model_array):\n",
    "    ml, mden, mvp = model_para[inchi]\n",
    "    mden_array, mvp_array = model_array[inchi]\n",
    "    if inchi in ra_para:\n",
    "        ra = ra_para[inchi]\n",
    "    else:\n",
    "        ra = [0, 0, 0]\n",
    "    if inchi in para_fitted:\n",
    "        fit, mden_fit, mvp_fit = para_fitted[inchi]\n",
    "    else:\n",
    "        fit, mden_fit, mvp_fit = [0,0,0],0,0\n",
    "    print(\"#### (ra, ml, fit) ####\")\n",
    "    for row in zip(ra, ml, fit):\n",
    "        print(row)\n",
    "    print(\"#### mden, mvp ####\")\n",
    "    print(mden, mvp)\n",
    "    print(mden_fit, mvp_fit)\n",
    "\n",
    "compare_model(model2_para, model2_array)\n",
    "compare_model(model1_para, model1_array)"
   ]
  },
  {
   "cell_type": "code",
   "execution_count": null,
   "id": "8c87ef2c",
   "metadata": {},
   "outputs": [],
   "source": [
    "with torch.no_grad(): \n",
    "    graphs = from_InChI(inchi, with_hydrogen=True)\n",
    "    graphs.x = graphs.x.to(model_dtype)\n",
    "    graphs.edge_attr = graphs.edge_attr.to(model_dtype)\n",
    "    graphs.edge_index = graphs.edge_index.to(torch.int64)\n",
    "\n",
    "    graphs = graphs.to(device)\n",
    "    parameters = model2(graphs)\n",
    "    params = parameters.squeeze().to(torch.float64).detach().numpy()\n",
    "params"
   ]
  },
  {
   "cell_type": "markdown",
   "id": "2b6891dd",
   "metadata": {},
   "source": [
    "## plotting"
   ]
  },
  {
   "cell_type": "code",
   "execution_count": null,
   "id": "468e44c5",
   "metadata": {},
   "outputs": [],
   "source": [
    "inchi = (\n",
    "    \"InChI=1S/C8H15N2.C2F6NO4S2/c1-3-4-5-10-7-6-9(2)8-10;3-1(4,5)14(10,11)9-15(12,13)2(6,7)8/h6-8H,3-5H2,1-2H3;/q+1;-1\"\n",
    ")\n",
    "molecule_name = \"UNKNOWN\"\n",
    "plotdata(inchi, molecule_name, [model1, model2])"
   ]
  }
 ],
 "metadata": {
  "kernelspec": {
   "display_name": "Python 3 (ipykernel)",
   "language": "python",
   "name": "python3"
  },
  "language_info": {
   "codemirror_mode": {
    "name": "ipython",
    "version": 3
   },
   "file_extension": ".py",
   "mimetype": "text/x-python",
   "name": "python",
   "nbconvert_exporter": "python",
   "pygments_lexer": "ipython3",
   "version": "3.9.16"
  }
 },
 "nbformat": 4,
 "nbformat_minor": 5
}
