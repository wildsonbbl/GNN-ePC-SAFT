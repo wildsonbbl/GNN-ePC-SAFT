{
 "cells": [
  {
   "cell_type": "markdown",
   "id": "5df6e7a1",
   "metadata": {
    "notebookRunGroups": {
     "groupValue": ""
    }
   },
   "source": [
    "## load libraries and model\n"
   ]
  },
  {
   "cell_type": "code",
   "execution_count": null,
   "id": "f71ff522-3521-4d89-b90e-042aa95fcc2f",
   "metadata": {
    "tags": []
   },
   "outputs": [],
   "source": [
    "import os.path as osp, os\n",
    "\n",
    "os.environ[\"CUDA_VISIBLE_DEVICES\"] = \"\"\n",
    "import torch, polars as pl\n",
    "from gnnepcsaft.data.graphdataset import ThermoMLDataset, Ramirez, ThermoMLpara\n",
    "from gnnepcsaft.train.utils import create_model\n",
    "from gnnepcsaft.train.utils import calc_deg\n",
    "from gnnepcsaft.data.graph import from_InChI\n",
    "from gnnepcsaft.configs.default import get_config\n",
    "import pickle, numpy as np\n",
    "from rdkit import Chem\n",
    "from gnnepcsaft.demo.utils import plotdata, loadckp, model_para_fn, datacsv, plotparams\n",
    "\n",
    "torch.cuda.is_available()"
   ]
  },
  {
   "cell_type": "code",
   "execution_count": null,
   "id": "d2ef1aa5",
   "metadata": {},
   "outputs": [],
   "source": [
    "ra_loader = Ramirez(\"gnnepcsaft/data/ramirez2022\")\n",
    "ra_para = {}\n",
    "for graph in ra_loader:\n",
    "    inchi, para = graph.InChI, graph.para.view(-1, 3).round(decimals=2)\n",
    "    ra_para[inchi] = para.tolist()[0]\n",
    "tml_loader = ThermoMLpara(\"gnnepcsaft/data/thermoml\")\n",
    "tml_para = {}\n",
    "for graph in tml_loader:\n",
    "    inchi, para = graph.InChI, graph.para.view(-1, 3).round(decimals=2)\n",
    "    tml_para[inchi] = para.tolist()[0]\n",
    "path = osp.join(\"gnnepcsaft/data\", \"thermoml\")\n",
    "testloader = ThermoMLDataset(path)\n",
    "device = torch.device(\"cpu\")"
   ]
  },
  {
   "cell_type": "code",
   "execution_count": null,
   "id": "d3e983bb",
   "metadata": {},
   "outputs": [],
   "source": [
    "config = get_config()\n",
    "config.model = \"PNA\"\n",
    "config.propagation_depth = 2\n",
    "config.hidden_dim = 128\n",
    "config.num_mlp_layers = 1\n",
    "config.pre_layers = 1\n",
    "config.post_layers = 3"
   ]
  },
  {
   "cell_type": "code",
   "execution_count": null,
   "id": "d6b7cc87",
   "metadata": {},
   "outputs": [],
   "source": [
    "model_dtype = torch.float64\n",
    "# Create and initialize the network.\n",
    "deg_model2 = calc_deg(\"thermoml\", \"gnnepcsaft/\")\n",
    "model2 = create_model(config, deg_model2).to(device, model_dtype)\n",
    "# Create and initialize the network.\n",
    "deg_model1 = calc_deg(\"ramirez\", \"gnnepcsaft/\")\n",
    "model1 = create_model(config, deg_model1).to(device, model_dtype)\n",
    "# Set up checkpointing of the model.\n",
    "\n",
    "ckp_path = \"gnnepcsaft/train/checkpoints/model6-8_25e6.pth\"\n",
    "loadckp(ckp_path, model2)\n",
    "ckp_path = \"gnnepcsaft/train/checkpoints/model5-8_25e6.pth\"\n",
    "loadckp(ckp_path, model1)"
   ]
  },
  {
   "cell_type": "markdown",
   "id": "b96bd541",
   "metadata": {
    "notebookRunGroups": {
     "groupValue": ""
    }
   },
   "source": [
    "## evaluations\n"
   ]
  },
  {
   "cell_type": "code",
   "execution_count": null,
   "id": "cbc00a5e-1816-4bbf-9a89-e677905831d1",
   "metadata": {},
   "outputs": [],
   "source": [
    "model1_para, model1_array = model_para_fn(model1)\n",
    "model2_para, model2_array = model_para_fn(model2)"
   ]
  },
  {
   "cell_type": "code",
   "execution_count": null,
   "id": "501020ce",
   "metadata": {},
   "outputs": [],
   "source": [
    "data2 = datacsv(model2_para)\n",
    "data1 = datacsv(model1_para)\n",
    "model1data = pl.DataFrame(data1)\n",
    "model2data = pl.DataFrame(data2)\n",
    "model1data.write_csv(\"model1.csv\")\n",
    "model2data.write_csv(\"model2.csv\")"
   ]
  },
  {
   "cell_type": "markdown",
   "id": "2b6891dd",
   "metadata": {
    "notebookRunGroups": {
     "groupValue": ""
    }
   },
   "source": [
    "## plotting\n"
   ]
  },
  {
   "cell_type": "code",
   "execution_count": null,
   "id": "468e44c5",
   "metadata": {},
   "outputs": [],
   "source": [
    "inchi = \"InChI=1S/C2H6O/c1-2-3/h3H,2H2,1H3\"\n",
    "molecule_name = \"UNKNOWN\"\n",
    "plotdata(inchi, molecule_name, [model1, model2])"
   ]
  },
  {
   "cell_type": "code",
   "execution_count": null,
   "id": "7b632872",
   "metadata": {},
   "outputs": [],
   "source": [
    "smiles = [\"C\" * i + \"(=O)OCC\" for i in range(1, 100)]"
   ]
  },
  {
   "cell_type": "code",
   "execution_count": null,
   "id": "b65facc5",
   "metadata": {},
   "outputs": [],
   "source": [
    "smiles = [\"C\" * i for i in range(1, 100)]"
   ]
  },
  {
   "cell_type": "code",
   "execution_count": null,
   "id": "348e617d",
   "metadata": {},
   "outputs": [],
   "source": [
    "smiles = [\"C\" * i + \"O\" for i in range(1, 100)]"
   ]
  },
  {
   "cell_type": "code",
   "execution_count": null,
   "id": "6648c624",
   "metadata": {},
   "outputs": [],
   "source": [
    "plotparams(smiles, [model1, model2], \"UNKNOWN\")"
   ]
  },
  {
   "cell_type": "code",
   "execution_count": null,
   "id": "274c0f45",
   "metadata": {},
   "outputs": [],
   "source": [
    "test_inchis = []\n",
    "for gh in testloader:\n",
    "    test_inchis.append(gh.InChI)\n",
    "inchis = []\n",
    "for smile in smiles:\n",
    "    mol = Chem.MolFromSmiles(smile)\n",
    "    inchi = Chem.MolToInchi(mol)\n",
    "    if inchi in test_inchis:\n",
    "        inchis.append(inchi)"
   ]
  },
  {
   "cell_type": "code",
   "execution_count": null,
   "id": "d080dc69",
   "metadata": {},
   "outputs": [],
   "source": [
    "inchis"
   ]
  }
 ],
 "metadata": {
  "kernelspec": {
   "display_name": "Python 3 (ipykernel)",
   "language": "python",
   "name": "python3"
  },
  "language_info": {
   "codemirror_mode": {
    "name": "ipython",
    "version": 3
   },
   "file_extension": ".py",
   "mimetype": "text/x-python",
   "name": "python",
   "nbconvert_exporter": "python",
   "pygments_lexer": "ipython3",
   "version": "3.9.18"
  }
 },
 "nbformat": 4,
 "nbformat_minor": 5
}
