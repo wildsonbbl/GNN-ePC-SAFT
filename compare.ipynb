{
 "cells": [
  {
   "cell_type": "markdown",
   "id": "5df6e7a1",
   "metadata": {
    "notebookRunGroups": {
     "groupValue": ""
    }
   },
   "source": [
    "## Load libraries and model\n"
   ]
  },
  {
   "cell_type": "markdown",
   "id": "da7e6b30",
   "metadata": {},
   "source": [
    "Firt step: Load libraries"
   ]
  },
  {
   "cell_type": "code",
   "execution_count": null,
   "id": "f71ff522-3521-4d89-b90e-042aa95fcc2f",
   "metadata": {
    "notebookRunGroups": {
     "groupValue": "1"
    },
    "tags": []
   },
   "outputs": [],
   "source": [
    "import os.path as osp, os\n",
    "\n",
    "os.environ[\"CUDA_VISIBLE_DEVICES\"] = \"\"\n",
    "import torch, polars as pl\n",
    "from gnnepcsaft.data.graphdataset import ThermoMLDataset, Ramirez, ThermoMLpara\n",
    "from gnnepcsaft.train.utils import create_model\n",
    "from gnnepcsaft.train.utils import calc_deg\n",
    "from gnnepcsaft.data.graph import from_InChI\n",
    "from gnnepcsaft.configs.default import get_config\n",
    "import pickle, numpy as np\n",
    "from rdkit import Chem\n",
    "from gnnepcsaft.demo.utils import plotdata, loadckp, model_para_fn, datacsv, plotparams\n",
    "\n",
    "torch.cuda.is_available()"
   ]
  },
  {
   "cell_type": "markdown",
   "id": "6d0045c0",
   "metadata": {},
   "source": [
    "Second step: Load data"
   ]
  },
  {
   "cell_type": "code",
   "execution_count": null,
   "id": "d2ef1aa5",
   "metadata": {},
   "outputs": [],
   "source": [
    "ra_loader = Ramirez(\"gnnepcsaft/data/ramirez2022\")\n",
    "ra_para = {}\n",
    "for graph in ra_loader:\n",
    "    inchi, para = graph.InChI, graph.para.view(-1, 3).round(decimals=2)\n",
    "    ra_para[inchi] = para.tolist()[0]\n",
    "tml_loader = ThermoMLpara(\"gnnepcsaft/data/thermoml\")\n",
    "tml_para = {}\n",
    "for graph in tml_loader:\n",
    "    inchi, para = graph.InChI, graph.para.view(-1, 3).round(decimals=2)\n",
    "    tml_para[inchi] = para.tolist()[0]\n",
    "path = osp.join(\"gnnepcsaft/data\", \"thermoml\")\n",
    "testloader = ThermoMLDataset(path)\n",
    "device = torch.device(\"cpu\")"
   ]
  },
  {
   "cell_type": "markdown",
   "id": "6835463e",
   "metadata": {},
   "source": [
    "Third Step: Define and load models"
   ]
  },
  {
   "cell_type": "code",
   "execution_count": null,
   "id": "d3e983bb",
   "metadata": {
    "notebookRunGroups": {
     "groupValue": "1"
    }
   },
   "outputs": [],
   "source": [
    "config = get_config()\n",
    "config.model = \"PNAL\"\n",
    "config.propagation_depth = 2\n",
    "config.hidden_dim = 128\n",
    "config.num_mlp_layers = 1\n",
    "config.pre_layers = 1\n",
    "config.post_layers = 3\n",
    "config.skip_connections = False\n",
    "config.add_self_loops = False\n",
    "model_dtype = torch.float64\n",
    "\n",
    "# Create and initialize the network.\n",
    "deg_model1 = calc_deg(\"ramirez\", \"gnnepcsaft/\")\n",
    "model1 = create_model(config, deg_model1).to(device, model_dtype)\n",
    "# Set up checkpointing of the model.\n",
    "ckp_path = \"gnnepcsaft/train/checkpoints/model6-epoch=170939-mape_den=0.0102.ckpt\"\n",
    "loadckp(ckp_path, model1)"
   ]
  },
  {
   "cell_type": "code",
   "execution_count": null,
   "id": "6e2b468f",
   "metadata": {
    "notebookRunGroups": {
     "groupValue": "1"
    }
   },
   "outputs": [],
   "source": [
    "config = get_config()\n",
    "config.model = \"PNAL\"\n",
    "config.propagation_depth = 6\n",
    "config.hidden_dim = 64\n",
    "config.pre_layers = 1\n",
    "config.post_layers = 1\n",
    "config.num_mlp_layers = 1\n",
    "config.skip_connections = True\n",
    "config.add_self_loops = True\n",
    "model_dtype = torch.float64\n",
    "\n",
    "# Create and initialize the network.\n",
    "deg_model2 = calc_deg(\"ramirez\", \"gnnepcsaft/\")\n",
    "model2 = create_model(config, deg_model2).to(device, model_dtype)\n",
    "# Set up checkpointing of the model.\n",
    "ckp_path = \"gnnepcsaft/train/checkpoints/model8_2_2-epoch=31249-mape_den=0.0172.ckpt\"\n",
    "loadckp(ckp_path, model2)"
   ]
  },
  {
   "cell_type": "markdown",
   "id": "b96bd541",
   "metadata": {
    "notebookRunGroups": {
     "groupValue": ""
    }
   },
   "source": [
    "## Evaluations\n"
   ]
  },
  {
   "cell_type": "markdown",
   "id": "402dedc8",
   "metadata": {},
   "source": [
    "Run model testing on data"
   ]
  },
  {
   "cell_type": "code",
   "execution_count": null,
   "id": "cbc00a5e-1816-4bbf-9a89-e677905831d1",
   "metadata": {},
   "outputs": [],
   "source": [
    "model1_para, model1_array = model_para_fn(model1)\n",
    "model2_para, model2_array = model_para_fn(model2)"
   ]
  },
  {
   "cell_type": "markdown",
   "id": "1c6a9379",
   "metadata": {},
   "source": [
    "Save test results to csv file"
   ]
  },
  {
   "cell_type": "code",
   "execution_count": null,
   "id": "501020ce",
   "metadata": {},
   "outputs": [],
   "source": [
    "data2 = datacsv(model2_para)\n",
    "data1 = datacsv(model1_para)\n",
    "model1data = pl.DataFrame(data1)\n",
    "model2data = pl.DataFrame(data2)\n",
    "model1data.write_csv(\"../model1.csv\")\n",
    "model2data.write_csv(\"../model2.csv\")"
   ]
  },
  {
   "cell_type": "markdown",
   "id": "2b6891dd",
   "metadata": {
    "notebookRunGroups": {
     "groupValue": ""
    }
   },
   "source": [
    "## plotting\n"
   ]
  },
  {
   "cell_type": "code",
   "execution_count": null,
   "id": "468e44c5",
   "metadata": {},
   "outputs": [],
   "source": [
    "inchi = \"InChI=1S/C37H68O8/c1-9-17-21-29(13-5)33(38)42-25-37(26-43-34(39)30(14-6)22-18-10-2,27-44-35(40)31(15-7)23-19-11-3)28-45-36(41)32(16-8)24-20-12-4/h29-32H,9-28H2,1-8H3\"\n",
    "molecule_name = \"UNKNOWN\"\n",
    "plotdata(inchi, molecule_name, [model1, model2])"
   ]
  },
  {
   "cell_type": "code",
   "execution_count": null,
   "id": "7b632872",
   "metadata": {},
   "outputs": [],
   "source": [
    "smiles = [\"C\" * i + \"(=O)OCC\" for i in range(1, 100)]"
   ]
  },
  {
   "cell_type": "code",
   "execution_count": null,
   "id": "b65facc5",
   "metadata": {},
   "outputs": [],
   "source": [
    "smiles = [\"C\" * i for i in range(1, 100)]"
   ]
  },
  {
   "cell_type": "code",
   "execution_count": null,
   "id": "348e617d",
   "metadata": {},
   "outputs": [],
   "source": [
    "smiles = [\"C\" * i + \"O\" for i in range(1, 100)]"
   ]
  },
  {
   "cell_type": "code",
   "execution_count": null,
   "id": "6648c624",
   "metadata": {},
   "outputs": [],
   "source": [
    "plotparams(smiles, [model1, model2], \"UNKNOWN\")"
   ]
  },
  {
   "cell_type": "code",
   "execution_count": null,
   "id": "274c0f45",
   "metadata": {},
   "outputs": [],
   "source": [
    "test_inchis = []\n",
    "for gh in testloader:\n",
    "    test_inchis.append(gh.InChI)\n",
    "inchis = []\n",
    "for smile in smiles:\n",
    "    mol = Chem.MolFromSmiles(smile)\n",
    "    inchi = Chem.MolToInchi(mol)\n",
    "    if inchi in test_inchis:\n",
    "        inchis.append(inchi)"
   ]
  },
  {
   "cell_type": "code",
   "execution_count": null,
   "id": "d080dc69",
   "metadata": {},
   "outputs": [],
   "source": [
    "inchis"
   ]
  }
 ],
 "metadata": {
  "kernelspec": {
   "display_name": "Python 3",
   "language": "python",
   "name": "python3"
  },
  "language_info": {
   "codemirror_mode": {
    "name": "ipython",
    "version": 3
   },
   "file_extension": ".py",
   "mimetype": "text/x-python",
   "name": "python",
   "nbconvert_exporter": "python",
   "pygments_lexer": "ipython3",
   "version": "3.9.18"
  }
 },
 "nbformat": 4,
 "nbformat_minor": 5
}
