{
 "cells": [
  {
   "cell_type": "code",
   "execution_count": 1,
   "metadata": {},
   "outputs": [],
   "source": [
    "import polars as pl"
   ]
  },
  {
   "cell_type": "code",
   "execution_count": 2,
   "metadata": {},
   "outputs": [],
   "source": [
    "data = pl.read_csv('./data/ramirez2022/RAMIRES 2022.csv', has_header=True, separator=';')"
   ]
  },
  {
   "cell_type": "code",
   "execution_count": 4,
   "metadata": {},
   "outputs": [
    {
     "data": {
      "text/html": [
       "<div><style>\n",
       ".dataframe > thead > tr > th,\n",
       ".dataframe > tbody > tr > td {\n",
       "  text-align: right;\n",
       "}\n",
       "</style>\n",
       "<small>shape: (7, 11)</small><table border=\"1\" class=\"dataframe\"><thead><tr><th>describe</th><th>name</th><th>tc</th><th>pc</th><th>m</th><th>sigma</th><th>e</th><th>mi</th><th>sigmai</th><th>ei</th><th>ci</th></tr><tr><td>str</td><td>str</td><td>f64</td><td>f64</td><td>f64</td><td>f64</td><td>f64</td><td>f64</td><td>f64</td><td>f64</td><td>f64</td></tr></thead><tbody><tr><td>&quot;count&quot;</td><td>&quot;1800&quot;</td><td>1800.0</td><td>1800.0</td><td>1800.0</td><td>1800.0</td><td>1800.0</td><td>1800.0</td><td>1800.0</td><td>1800.0</td><td>1800.0</td></tr><tr><td>&quot;null_count&quot;</td><td>&quot;0&quot;</td><td>0.0</td><td>0.0</td><td>0.0</td><td>0.0</td><td>0.0</td><td>0.0</td><td>0.0</td><td>0.0</td><td>0.0</td></tr><tr><td>&quot;mean&quot;</td><td>null</td><td>634.139761</td><td>36.12075</td><td>4.511623</td><td>3.534982</td><td>263.511167</td><td>4.724067</td><td>3.649007</td><td>252.432111</td><td>34.853665</td></tr><tr><td>&quot;std&quot;</td><td>null</td><td>132.450883</td><td>40.990984</td><td>2.024241</td><td>0.440957</td><td>45.008377</td><td>2.023983</td><td>0.470302</td><td>40.810994</td><td>30.113564</td></tr><tr><td>&quot;min&quot;</td><td>&quot;(3,3,3-TRIFLUO...</td><td>44.4</td><td>4.55</td><td>0.6563</td><td>1.6738</td><td>40.2</td><td>0.6668</td><td>1.2043</td><td>39.3</td><td>-99.024</td></tr><tr><td>&quot;max&quot;</td><td>&quot;trans-STILBENE...</td><td>1155.2</td><td>1640.0</td><td>14.892</td><td>5.5323</td><td>494.3</td><td>14.5306</td><td>5.6277</td><td>473.9</td><td>326.893</td></tr><tr><td>&quot;median&quot;</td><td>null</td><td>636.25</td><td>33.415</td><td>3.9364</td><td>3.6165</td><td>260.65</td><td>4.22055</td><td>3.70745</td><td>250.55</td><td>30.228</td></tr></tbody></table></div>"
      ],
      "text/plain": [
       "shape: (7, 11)\n",
       "┌────────────┬───────────┬───────────┬───────────┬───┬──────────┬──────────┬───────────┬───────────┐\n",
       "│ describe   ┆ name      ┆ tc        ┆ pc        ┆ … ┆ mi       ┆ sigmai   ┆ ei        ┆ ci        │\n",
       "│ ---        ┆ ---       ┆ ---       ┆ ---       ┆   ┆ ---      ┆ ---      ┆ ---       ┆ ---       │\n",
       "│ str        ┆ str       ┆ f64       ┆ f64       ┆   ┆ f64      ┆ f64      ┆ f64       ┆ f64       │\n",
       "╞════════════╪═══════════╪═══════════╪═══════════╪═══╪══════════╪══════════╪═══════════╪═══════════╡\n",
       "│ count      ┆ 1800      ┆ 1800.0    ┆ 1800.0    ┆ … ┆ 1800.0   ┆ 1800.0   ┆ 1800.0    ┆ 1800.0    │\n",
       "│ null_count ┆ 0         ┆ 0.0       ┆ 0.0       ┆ … ┆ 0.0      ┆ 0.0      ┆ 0.0       ┆ 0.0       │\n",
       "│ mean       ┆ null      ┆ 634.13976 ┆ 36.12075  ┆ … ┆ 4.724067 ┆ 3.649007 ┆ 252.43211 ┆ 34.853665 │\n",
       "│            ┆           ┆ 1         ┆           ┆   ┆          ┆          ┆ 1         ┆           │\n",
       "│ std        ┆ null      ┆ 132.45088 ┆ 40.990984 ┆ … ┆ 2.023983 ┆ 0.470302 ┆ 40.810994 ┆ 30.113564 │\n",
       "│            ┆           ┆ 3         ┆           ┆   ┆          ┆          ┆           ┆           │\n",
       "│ min        ┆ (3,3,3-TR ┆ 44.4      ┆ 4.55      ┆ … ┆ 0.6668   ┆ 1.2043   ┆ 39.3      ┆ -99.024   │\n",
       "│            ┆ IFLUOROPR ┆           ┆           ┆   ┆          ┆          ┆           ┆           │\n",
       "│            ┆ OPYL)METH ┆           ┆           ┆   ┆          ┆          ┆           ┆           │\n",
       "│            ┆ YLDIC…    ┆           ┆           ┆   ┆          ┆          ┆           ┆           │\n",
       "│ max        ┆ trans-STI ┆ 1155.2    ┆ 1640.0    ┆ … ┆ 14.5306  ┆ 5.6277   ┆ 473.9     ┆ 326.893   │\n",
       "│            ┆ LBENE     ┆           ┆           ┆   ┆          ┆          ┆           ┆           │\n",
       "│ median     ┆ null      ┆ 636.25    ┆ 33.415    ┆ … ┆ 4.22055  ┆ 3.70745  ┆ 250.55    ┆ 30.228    │\n",
       "└────────────┴───────────┴───────────┴───────────┴───┴──────────┴──────────┴───────────┴───────────┘"
      ]
     },
     "execution_count": 4,
     "metadata": {},
     "output_type": "execute_result"
    }
   ],
   "source": [
    "data.describe()"
   ]
  },
  {
   "cell_type": "code",
   "execution_count": 137,
   "metadata": {},
   "outputs": [],
   "source": [
    "from urllib.request import urlopen\n",
    "from urllib.parse import quote\n",
    "from time import sleep\n",
    "\n",
    "\n",
    "def to_InChI(ids: str) -> str:\n",
    "    try:\n",
    "        url = (\n",
    "            \"https://pubchem.ncbi.nlm.nih.gov/rest/pug/compound/name/\"\n",
    "            + quote(ids)\n",
    "            + \"/property/InChI/TXT\"\n",
    "        )\n",
    "        ans = urlopen(url).read().decode(\"utf8\").rstrip()\n",
    "\n",
    "    except:\n",
    "        try:\n",
    "            url = (\n",
    "                \"https://pubchem.ncbi.nlm.nih.gov/rest/pug/compound/cid/\"\n",
    "                + quote(ids)\n",
    "                + \"/property/InChI/TXT\"\n",
    "            )\n",
    "            ans = urlopen(url).read().decode(\"utf8\").rstrip()\n",
    "        except:\n",
    "            print(\"not ok:\", url)\n",
    "            ans = None\n",
    "\n",
    "    sleep(0.5)\n",
    "    return ans"
   ]
  },
  {
   "cell_type": "code",
   "execution_count": 221,
   "metadata": {},
   "outputs": [
    {
     "data": {
      "text/plain": [
       "'InChI=1S/C4H5N/c1-2-3-4-5/h2-3H,1H3/b3-2+'"
      ]
     },
     "execution_count": 221,
     "metadata": {},
     "output_type": "execute_result"
    }
   ],
   "source": [
    "to_InChI(\"1-Cyanopropene\")"
   ]
  },
  {
   "cell_type": "code",
   "execution_count": 226,
   "metadata": {},
   "outputs": [
    {
     "name": "stdout",
     "output_type": "stream",
     "text": [
      "not ok: https://pubchem.ncbi.nlm.nih.gov/rest/pug/compound/cid/CROTYL%20GLYCOLETHER/property/InChI/TXT\n"
     ]
    }
   ],
   "source": [
    "to_InChI(\"CROTYL GLYCOLETHER\")"
   ]
  },
  {
   "cell_type": "code",
   "execution_count": 10,
   "metadata": {},
   "outputs": [
    {
     "name": "stdout",
     "output_type": "stream",
     "text": [
      "not ok: https://pubchem.ncbi.nlm.nih.gov/rest/pug/compound/name/%283-METHYLACRYLOXYPROPYL%29TRICHLOROSILANE/property/InChI/TXT\n",
      "not ok: https://pubchem.ncbi.nlm.nih.gov/rest/pug/compound/name/%5B3-%282%2C3-EPOXYPROXY%29PROPYL%5DTRIMETHOXYSILANE/property/InChI/TXT\n",
      "not ok: https://pubchem.ncbi.nlm.nih.gov/rest/pug/compound/name/%5B3-%28MERCAPTO%29PROPYL%5DTRIETHOXYSILANE/property/InChI/TXT\n",
      "not ok: https://pubchem.ncbi.nlm.nih.gov/rest/pug/compound/name/1-%284-ETHYLPHENYL%29-2-%284-ETHYLPHENYL%29ETHANE/property/InChI/TXT\n",
      "not ok: https://pubchem.ncbi.nlm.nih.gov/rest/pug/compound/name/1%2C1%2C1-TRICHLOROFLUOROETHANE/property/InChI/TXT\n",
      "not ok: https://pubchem.ncbi.nlm.nih.gov/rest/pug/compound/name/1%2C2%2C4-TRIMETHYL-5-ETHYLBENZENE/property/InChI/TXT\n",
      "not ok: https://pubchem.ncbi.nlm.nih.gov/rest/pug/compound/name/1%2C2-BENZENE%20DICARBOXYLIC%20ACID%2C%20HEPTYL%2C%20UNDECYL%20ESTER/property/InChI/TXT\n",
      "not ok: https://pubchem.ncbi.nlm.nih.gov/rest/pug/compound/name/1%2C2-BENZENEDICARBOXYLIC%20ACID%2C%20HEPTYL%2C%20NONYL%20ESTER/property/InChI/TXT\n",
      "not ok: https://pubchem.ncbi.nlm.nih.gov/rest/pug/compound/name/1%2C3-DI-TERT-BUTYL%20GLYCERIN/property/InChI/TXT\n",
      "not ok: https://pubchem.ncbi.nlm.nih.gov/rest/pug/compound/name/1-cis-2-trans-4-TRIMETHYLCYCLOPENTANE/property/InChI/TXT\n",
      "not ok: https://pubchem.ncbi.nlm.nih.gov/rest/pug/compound/name/1-ETHYL-DECALIN/property/InChI/TXT\n",
      "not ok: https://pubchem.ncbi.nlm.nih.gov/rest/pug/compound/name/1H-PERFLUORO-N-HEXANE/property/InChI/TXT\n",
      "not ok: https://pubchem.ncbi.nlm.nih.gov/rest/pug/compound/name/1-METHOXY-2-PROPANOL%20PROPANOATE/property/InChI/TXT\n",
      "not ok: https://pubchem.ncbi.nlm.nih.gov/rest/pug/compound/name/1-METHYL-3-%28METHYLETHOXY%29BENZENE/property/InChI/TXT\n",
      "not ok: https://pubchem.ncbi.nlm.nih.gov/rest/pug/compound/name/1-METHYL-3-HYDROXY-5-ISOPROPYL%20BENZENE/property/InChI/TXT\n",
      "not ok: https://pubchem.ncbi.nlm.nih.gov/rest/pug/compound/name/1-METHYL-3-HYDROXY-6-ISOPROPYL%20BENZENE/property/InChI/TXT\n",
      "not ok: https://pubchem.ncbi.nlm.nih.gov/rest/pug/compound/name/1-METHYL-DECALIN/property/InChI/TXT\n",
      "not ok: https://pubchem.ncbi.nlm.nih.gov/rest/pug/compound/name/1-n-DECYLNAPHTHALENE/property/InChI/TXT\n",
      "not ok: https://pubchem.ncbi.nlm.nih.gov/rest/pug/compound/name/1-n-HEXYL-1%2C2%2C3%2C4-TETRAHYDRONAPHTHALENE/property/InChI/TXT\n",
      "not ok: https://pubchem.ncbi.nlm.nih.gov/rest/pug/compound/name/1-PENTENE-4-YNE/property/InChI/TXT\n",
      "not ok: https://pubchem.ncbi.nlm.nih.gov/rest/pug/compound/name/1-tert-BUTOXY-2-%5B2-%28HYDROXY%29PROPOXY%5DPROPANE/property/InChI/TXT\n",
      "not ok: https://pubchem.ncbi.nlm.nih.gov/rest/pug/compound/name/1-tert-BUTOXY-2-%5B2-%28tert-BUTOXY%29PROPOXY%5DPROPANE/property/InChI/TXT\n",
      "not ok: https://pubchem.ncbi.nlm.nih.gov/rest/pug/compound/name/1-tert-BUTYL%20GLYCERIN/property/InChI/TXT\n",
      "not ok: https://pubchem.ncbi.nlm.nih.gov/rest/pug/compound/name/2-%28alpha-METHYLBENZYLOXY%29-1-PROPANOL/property/InChI/TXT\n",
      "not ok: https://pubchem.ncbi.nlm.nih.gov/rest/pug/compound/name/2-%28N-MORPHOLINO%29-2%27-HYDROXYDIETHYLETHER/property/InChI/TXT\n",
      "not ok: https://pubchem.ncbi.nlm.nih.gov/rest/pug/compound/name/2%2C2-DICHLORO-1%2C1%2C2-TRIFLUOROETHANE/property/InChI/TXT\n",
      "not ok: https://pubchem.ncbi.nlm.nih.gov/rest/pug/compound/name/2%2C2%27-IMINOBIS-ACETONITRILE/property/InChI/TXT\n",
      "not ok: https://pubchem.ncbi.nlm.nih.gov/rest/pug/compound/name/2%2C3%2C4%2C5%2C2%27%2C3%27%2C4%27%2C5%27-OCTAHYDRO-BIFURYL-%283%2C3%27%29/property/InChI/TXT\n",
      "not ok: https://pubchem.ncbi.nlm.nih.gov/rest/pug/compound/name/2%2C4-DIPHENYL-4-METHYLPENTENE-1/property/InChI/TXT\n",
      "not ok: https://pubchem.ncbi.nlm.nih.gov/rest/pug/compound/name/2-ACETOACETOXY%20ETHYL%20METHACRYLATE/property/InChI/TXT\n",
      "not ok: https://pubchem.ncbi.nlm.nih.gov/rest/pug/compound/name/2-BUTYLBENZOTHIOPHENE/property/InChI/TXT\n",
      "not ok: https://pubchem.ncbi.nlm.nih.gov/rest/pug/compound/name/2-BUTYL-NONAN-1-OL/property/InChI/TXT\n",
      "not ok: https://pubchem.ncbi.nlm.nih.gov/rest/pug/compound/name/2-CYCLOHEXENYL%20CYCLOHEXANONE/property/InChI/TXT\n",
      "not ok: https://pubchem.ncbi.nlm.nih.gov/rest/pug/compound/name/2-ETHYLBENZOTHIOPHENE/property/InChI/TXT\n",
      "not ok: https://pubchem.ncbi.nlm.nih.gov/rest/pug/compound/name/2-ETHYL-TETRAHYDROTHIOPHENE/property/InChI/TXT\n",
      "not ok: https://pubchem.ncbi.nlm.nih.gov/rest/pug/compound/name/2-METHOXY%20PROPANOL-1/property/InChI/TXT\n",
      "not ok: https://pubchem.ncbi.nlm.nih.gov/rest/pug/compound/name/2-METHYL%20BENZOTHIOPHENE/property/InChI/TXT\n",
      "not ok: https://pubchem.ncbi.nlm.nih.gov/rest/pug/compound/name/2-METHYL%20THIAINDAN/property/InChI/TXT\n",
      "not ok: https://pubchem.ncbi.nlm.nih.gov/rest/pug/compound/name/2-METHYL-%2C%203-HYDROXY-2%2C2%2C4-TRIMETHYLPENTYL%20PROPANOATE/property/InChI/TXT\n",
      "not ok: https://pubchem.ncbi.nlm.nih.gov/rest/pug/compound/name/2-METHYL-DODECAN-1-OL/property/InChI/TXT\n",
      "not ok: https://pubchem.ncbi.nlm.nih.gov/rest/pug/compound/name/2-PHENYLBUTENE-1/property/InChI/TXT\n",
      "not ok: https://pubchem.ncbi.nlm.nih.gov/rest/pug/compound/name/3-%28METHYLMERCAPTO%29PROPANAL/property/InChI/TXT\n",
      "not ok: https://pubchem.ncbi.nlm.nih.gov/rest/pug/compound/name/3-%28N%2CN-DIMETHYLAMINO%29%20PROPYLAMINE/property/InChI/TXT\n",
      "not ok: https://pubchem.ncbi.nlm.nih.gov/rest/pug/compound/name/3-HYDROXY-2-METHYL%20PROPIONALDEHYDE/property/InChI/TXT\n",
      "not ok: https://pubchem.ncbi.nlm.nih.gov/rest/pug/compound/name/3-METHOXYISOPROPYLAMINE/property/InChI/TXT\n",
      "not ok: https://pubchem.ncbi.nlm.nih.gov/rest/pug/compound/name/3-METHYL%20SULFOLANE/property/InChI/TXT\n",
      "not ok: https://pubchem.ncbi.nlm.nih.gov/rest/pug/compound/name/4-%28%282-HYDROXYETHOXY%29CARBONYL%29%20BENZOIC%20ACID/property/InChI/TXT\n",
      "not ok: https://pubchem.ncbi.nlm.nih.gov/rest/pug/compound/name/4-%5B2-%282-AMINOETHOXY%29ETHYL%5DMORPHOLINE/property/InChI/TXT\n",
      "not ok: https://pubchem.ncbi.nlm.nih.gov/rest/pug/compound/name/4-HYDROXYMETHYL%20BENZOIC%20ACID/property/InChI/TXT\n",
      "not ok: https://pubchem.ncbi.nlm.nih.gov/rest/pug/compound/name/4-METHYL%20DIBENZOTHIOPHENE/property/InChI/TXT\n",
      "not ok: https://pubchem.ncbi.nlm.nih.gov/rest/pug/compound/name/4-METHYL-CYCLOHEXANE-METHANOL/property/InChI/TXT\n",
      "not ok: https://pubchem.ncbi.nlm.nih.gov/rest/pug/compound/name/5-%28HYDROXYMETHYL%29%20FURFURAL/property/InChI/TXT\n",
      "not ok: https://pubchem.ncbi.nlm.nih.gov/rest/pug/compound/name/ACROLEIN%20CYANOHYDRIN/property/InChI/TXT\n",
      "not ok: https://pubchem.ncbi.nlm.nih.gov/rest/pug/compound/name/ACRYLOXY%20PROPIONIC%20ACID/property/InChI/TXT\n",
      "not ok: https://pubchem.ncbi.nlm.nih.gov/rest/pug/compound/name/ALLYL-TERT-BUTYLPEROXIDE/property/InChI/TXT\n",
      "not ok: https://pubchem.ncbi.nlm.nih.gov/rest/pug/compound/name/AMMONIUM%20SULFIDE/property/InChI/TXT\n",
      "not ok: https://pubchem.ncbi.nlm.nih.gov/rest/pug/compound/name/ARSENIC%20%28III%29%20CHLORIDE/property/InChI/TXT\n",
      "not ok: https://pubchem.ncbi.nlm.nih.gov/rest/pug/compound/name/BIS-%282-AMINOETHYL%29ETHER/property/InChI/TXT\n",
      "not ok: https://pubchem.ncbi.nlm.nih.gov/rest/pug/compound/name/BIS%28DIFLUOROMETHYL%29ETHER/property/InChI/TXT\n",
      "not ok: https://pubchem.ncbi.nlm.nih.gov/rest/pug/compound/name/BIS%28TRIFLUOROMETHYL%29SULFIDE/property/InChI/TXT\n",
      "not ok: https://pubchem.ncbi.nlm.nih.gov/rest/pug/compound/name/BIS%5B3-%28TRIMETHOXYSILYL%29PROPYL%5DDISULFIDE/property/InChI/TXT\n",
      "not ok: https://pubchem.ncbi.nlm.nih.gov/rest/pug/compound/name/cis-1%2C8-TERPIN/property/InChI/TXT\n",
      "not ok: https://pubchem.ncbi.nlm.nih.gov/rest/pug/compound/name/cis-2-PHENYLBUTENE-2/property/InChI/TXT\n",
      "not ok: https://pubchem.ncbi.nlm.nih.gov/rest/pug/compound/name/cis-CROTONITRILE/property/InChI/TXT\n",
      "not ok: https://pubchem.ncbi.nlm.nih.gov/rest/pug/compound/name/CROTYL%20GLYCOL%20ETHER/property/InChI/TXT\n",
      "not ok: https://pubchem.ncbi.nlm.nih.gov/rest/pug/compound/name/DI-%282-CHLOROETHOXY%29METHANE/property/InChI/TXT\n",
      "not ok: https://pubchem.ncbi.nlm.nih.gov/rest/pug/compound/name/DI%282-CHLOROETHYL%29ETHER/property/InChI/TXT\n",
      "not ok: https://pubchem.ncbi.nlm.nih.gov/rest/pug/compound/name/DIETHYLSULFITE/property/InChI/TXT\n",
      "not ok: https://pubchem.ncbi.nlm.nih.gov/rest/pug/compound/name/DIFLUOROMETHYL%20TRIFLUOROMETHYL%20ETHER/property/InChI/TXT\n",
      "not ok: https://pubchem.ncbi.nlm.nih.gov/rest/pug/compound/name/DIISOPENTYLSULFIDE/property/InChI/TXT\n",
      "not ok: https://pubchem.ncbi.nlm.nih.gov/rest/pug/compound/name/DILACTIC%20ACID/property/InChI/TXT\n",
      "not ok: https://pubchem.ncbi.nlm.nih.gov/rest/pug/compound/name/DIMERCAPTOETHYL%20ETHER/property/InChI/TXT\n",
      "not ok: https://pubchem.ncbi.nlm.nih.gov/rest/pug/compound/name/DIMETHYL%20SILANE/property/InChI/TXT\n",
      "not ok: https://pubchem.ncbi.nlm.nih.gov/rest/pug/compound/name/DIMETHYLMALONATE/property/InChI/TXT\n",
      "not ok: https://pubchem.ncbi.nlm.nih.gov/rest/pug/compound/name/DIPROPYLENE%20GLYCOL%20n-BUTYL%20ETHER/property/InChI/TXT\n",
      "not ok: https://pubchem.ncbi.nlm.nih.gov/rest/pug/compound/name/ETHYL%20n-HEXYL%20ETHER/property/InChI/TXT\n",
      "not ok: https://pubchem.ncbi.nlm.nih.gov/rest/pug/compound/name/ETHYL%20n-PENTYL%20SULFIDE/property/InChI/TXT\n",
      "not ok: https://pubchem.ncbi.nlm.nih.gov/rest/pug/compound/name/ETHYL%20t-BUTYL%20SULFIDE/property/InChI/TXT\n",
      "not ok: https://pubchem.ncbi.nlm.nih.gov/rest/pug/compound/name/HEXACHLOROSILANE/property/InChI/TXT\n",
      "not ok: https://pubchem.ncbi.nlm.nih.gov/rest/pug/compound/name/iso-BUTYLCYCLOHEXANE/property/InChI/TXT\n",
      "not ok: https://pubchem.ncbi.nlm.nih.gov/rest/pug/compound/name/ISOBUTYL-tert-BUTYL%20ETHER/property/InChI/TXT\n",
      "not ok: https://pubchem.ncbi.nlm.nih.gov/rest/pug/compound/name/ISOPROPYL%20BUTYL%20ETHER/property/InChI/TXT\n",
      "not ok: https://pubchem.ncbi.nlm.nih.gov/rest/pug/compound/name/METHOXYDIHYDROPYRAN/property/InChI/TXT\n",
      "not ok: https://pubchem.ncbi.nlm.nih.gov/rest/pug/compound/name/METHYL%20CHLOROSILANE/property/InChI/TXT\n",
      "not ok: https://pubchem.ncbi.nlm.nih.gov/rest/pug/compound/name/METHYL%20n-BUTYL%20SULFIDE/property/InChI/TXT\n",
      "not ok: https://pubchem.ncbi.nlm.nih.gov/rest/pug/compound/name/METHYL%20NONAFLUORO-N-BUTYL%20ETHER/property/InChI/TXT\n",
      "not ok: https://pubchem.ncbi.nlm.nih.gov/rest/pug/compound/name/METHYL%20para-TOLUATE/property/InChI/TXT\n",
      "not ok: https://pubchem.ncbi.nlm.nih.gov/rest/pug/compound/name/METHYL%20SILANE/property/InChI/TXT\n",
      "not ok: https://pubchem.ncbi.nlm.nih.gov/rest/pug/compound/name/METHYL%20VINYL%20DICHLOROSILANE/property/InChI/TXT\n",
      "not ok: https://pubchem.ncbi.nlm.nih.gov/rest/pug/compound/name/MONOCHLOROSILANE/property/InChI/TXT\n",
      "not ok: https://pubchem.ncbi.nlm.nih.gov/rest/pug/compound/name/MONOMETHYL%20UREA/property/InChI/TXT\n",
      "not ok: https://pubchem.ncbi.nlm.nih.gov/rest/pug/compound/name/n-CROTYL%20ACETATE/property/InChI/TXT\n",
      "not ok: https://pubchem.ncbi.nlm.nih.gov/rest/pug/compound/name/n-DECYL%20FORMATE/property/InChI/TXT\n",
      "not ok: https://pubchem.ncbi.nlm.nih.gov/rest/pug/compound/name/n-DECYL%20MERCAPTAN/property/InChI/TXT\n",
      "not ok: https://pubchem.ncbi.nlm.nih.gov/rest/pug/compound/name/NICKEL%20CARBONYL/property/InChI/TXT\n",
      "not ok: https://pubchem.ncbi.nlm.nih.gov/rest/pug/compound/name/NONYLPHENOL/property/InChI/TXT\n",
      "not ok: https://pubchem.ncbi.nlm.nih.gov/rest/pug/compound/name/OCTAHYDRO-PENTALENE-1-CARBOXYLIC%20ACID/property/InChI/TXT\n",
      "not ok: https://pubchem.ncbi.nlm.nih.gov/rest/pug/compound/name/p-DIISOPROPYLBENZENE%20HYDROPEROXIDE/property/InChI/TXT\n",
      "not ok: https://pubchem.ncbi.nlm.nih.gov/rest/pug/compound/name/PENTAETHYLENE%20GLYCOL%20DIMETHYL%20ETHER/property/InChI/TXT\n",
      "not ok: https://pubchem.ncbi.nlm.nih.gov/rest/pug/compound/name/PERFLUORO-n-HEXADECANE/property/InChI/TXT\n",
      "not ok: https://pubchem.ncbi.nlm.nih.gov/rest/pug/compound/name/PERFLUORO-n-NONANE/property/InChI/TXT\n",
      "not ok: https://pubchem.ncbi.nlm.nih.gov/rest/pug/compound/name/PROPENYL%20CYCLOHEXENE/property/InChI/TXT\n",
      "not ok: https://pubchem.ncbi.nlm.nih.gov/rest/pug/compound/name/PROPYLENE%20GLYCOL%202-tert-BUTYL%20ETHER/property/InChI/TXT\n",
      "not ok: https://pubchem.ncbi.nlm.nih.gov/rest/pug/compound/name/PROPYLENE%20GLYCOL%20alpha-METHYLBENZYL%20ETHER/property/InChI/TXT\n",
      "not ok: https://pubchem.ncbi.nlm.nih.gov/rest/pug/compound/name/PROPYLENE%20GLYCOL%20ETHYL%20ETHER%20ACETATE/property/InChI/TXT\n",
      "not ok: https://pubchem.ncbi.nlm.nih.gov/rest/pug/compound/name/p-tert-BUTYL%20ETHYLBENZENE/property/InChI/TXT\n",
      "not ok: https://pubchem.ncbi.nlm.nih.gov/rest/pug/compound/name/sec-BUTENYL%20ACETATE/property/InChI/TXT\n",
      "not ok: https://pubchem.ncbi.nlm.nih.gov/rest/pug/compound/name/sec-BUTYL-tert-BUTYL%20ETHER/property/InChI/TXT\n",
      "not ok: https://pubchem.ncbi.nlm.nih.gov/rest/pug/compound/name/TETRAETHYL%20SILANE/property/InChI/TXT\n",
      "not ok: https://pubchem.ncbi.nlm.nih.gov/rest/pug/compound/name/THIAINDAN/property/InChI/TXT\n",
      "not ok: https://pubchem.ncbi.nlm.nih.gov/rest/pug/compound/name/trans-2%2Cn-HEXYL-DECAHYDRONAPHTHALENE/property/InChI/TXT\n",
      "not ok: https://pubchem.ncbi.nlm.nih.gov/rest/pug/compound/name/trans-2-PHENYLBUTENE-2/property/InChI/TXT\n",
      "not ok: https://pubchem.ncbi.nlm.nih.gov/rest/pug/compound/name/trans-CROTONITRILE/property/InChI/TXT\n",
      "not ok: https://pubchem.ncbi.nlm.nih.gov/rest/pug/compound/name/TRIETHYL%20ESTER%20PHOSPHOROUS%20ACID/property/InChI/TXT\n",
      "not ok: https://pubchem.ncbi.nlm.nih.gov/rest/pug/compound/name/TRIMETHYL%20SILANOL/property/InChI/TXT\n",
      "not ok: https://pubchem.ncbi.nlm.nih.gov/rest/pug/compound/name/TRIPROPYLENE%20GLYCOL%20MONOETHYL%20ETHER/property/InChI/TXT\n",
      "not ok: https://pubchem.ncbi.nlm.nih.gov/rest/pug/compound/name/TRIPROPYLENE%20GLYCOL%20MONOMETHYL%20ETHER/property/InChI/TXT\n"
     ]
    }
   ],
   "source": [
    "inchis = data['name'].apply(to_InChI).rename('inchi')"
   ]
  },
  {
   "cell_type": "code",
   "execution_count": 12,
   "metadata": {},
   "outputs": [
    {
     "data": {
      "text/html": [
       "<div><style>\n",
       ".dataframe > thead > tr > th,\n",
       ".dataframe > tbody > tr > td {\n",
       "  text-align: right;\n",
       "}\n",
       "</style>\n",
       "<small>shape: (3, 2)</small><table border=\"1\" class=\"dataframe\"><thead><tr><th>statistic</th><th>value</th></tr><tr><td>str</td><td>i64</td></tr></thead><tbody><tr><td>&quot;unique&quot;</td><td>1680</td></tr><tr><td>&quot;null_count&quot;</td><td>117</td></tr><tr><td>&quot;count&quot;</td><td>1800</td></tr></tbody></table></div>"
      ],
      "text/plain": [
       "shape: (3, 2)\n",
       "┌────────────┬───────┐\n",
       "│ statistic  ┆ value │\n",
       "│ ---        ┆ ---   │\n",
       "│ str        ┆ i64   │\n",
       "╞════════════╪═══════╡\n",
       "│ unique     ┆ 1680  │\n",
       "│ null_count ┆ 117   │\n",
       "│ count      ┆ 1800  │\n",
       "└────────────┴───────┘"
      ]
     },
     "execution_count": 12,
     "metadata": {},
     "output_type": "execute_result"
    }
   ],
   "source": [
    "inchis.describe()"
   ]
  },
  {
   "cell_type": "code",
   "execution_count": 117,
   "metadata": {},
   "outputs": [],
   "source": [
    "pcpck = pl.read_json('./pcsaft_pck/all_pcsaft_fluids.json')\n",
    "kij = pl.read_json('./pcsaft_pck/mixture_binary_pairs_pcsaft.json')\n",
    "habicht = pl.read_csv('./Habicht/data.csv', sep=';')"
   ]
  },
  {
   "cell_type": "code",
   "execution_count": 118,
   "metadata": {},
   "outputs": [],
   "source": [
    "hsmiles = habicht['name'].apply(to_InChI)"
   ]
  },
  {
   "cell_type": "code",
   "execution_count": 119,
   "metadata": {},
   "outputs": [],
   "source": [
    "habicht=habicht.with_columns(hsmiles.rename('inchi'))"
   ]
  },
  {
   "cell_type": "code",
   "execution_count": 120,
   "metadata": {},
   "outputs": [],
   "source": [
    "pcpcksmiles = pcpck['CAS'].apply(to_InChI)"
   ]
  },
  {
   "cell_type": "code",
   "execution_count": 121,
   "metadata": {},
   "outputs": [],
   "source": [
    "pcpck = pcpck.with_columns(pcpcksmiles.rename('inchi'))"
   ]
  },
  {
   "cell_type": "code",
   "execution_count": 146,
   "metadata": {},
   "outputs": [],
   "source": [
    "df1 = habicht[['name','inchi', 'm','sigma', 'u']]"
   ]
  },
  {
   "cell_type": "code",
   "execution_count": 147,
   "metadata": {},
   "outputs": [],
   "source": [
    "df2 = pcpck[['name','inchi', 'm','sigma', 'u','volA','uAB', 'dipm', 'dipnum']]"
   ]
  },
  {
   "cell_type": "code",
   "execution_count": 148,
   "metadata": {},
   "outputs": [],
   "source": [
    "df = pl.concat([df1,df2], how='diagonal').fill_null(0)"
   ]
  },
  {
   "cell_type": "code",
   "execution_count": 125,
   "metadata": {},
   "outputs": [],
   "source": [
    "kij = kij.filter(kij['kijT'].is_null())"
   ]
  },
  {
   "cell_type": "code",
   "execution_count": 126,
   "metadata": {},
   "outputs": [],
   "source": [
    "kijsmiles = kij[[\"CAS1\", \"CAS2\"]].apply(lambda x: (to_InChI(x[0]), to_InChI(x[1])))"
   ]
  },
  {
   "cell_type": "code",
   "execution_count": 149,
   "metadata": {},
   "outputs": [],
   "source": [
    "kij.write_parquet('../ePC-SAFT/data/parameters/raw/kij.parquet')\n",
    "df.write_parquet('../ePC-SAFT/data/parameters/raw/pure.parquet')"
   ]
  }
 ],
 "metadata": {
  "kernelspec": {
   "display_name": "analysis",
   "language": "python",
   "name": "python3"
  },
  "language_info": {
   "codemirror_mode": {
    "name": "ipython",
    "version": 3
   },
   "file_extension": ".py",
   "mimetype": "text/x-python",
   "name": "python",
   "nbconvert_exporter": "python",
   "pygments_lexer": "ipython3",
   "version": "3.10.9"
  },
  "orig_nbformat": 4
 },
 "nbformat": 4,
 "nbformat_minor": 2
}
