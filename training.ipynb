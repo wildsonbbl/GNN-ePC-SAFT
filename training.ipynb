{
 "cells": [
  {
   "cell_type": "markdown",
   "id": "953cb958",
   "metadata": {
    "papermill": {
     "duration": 0.004538,
     "end_time": "2024-05-19T01:18:09.506964",
     "exception": false,
     "start_time": "2024-05-19T01:18:09.502426",
     "status": "completed"
    },
    "tags": []
   },
   "source": [
    "# Modeling GNNePCSAFT\n"
   ]
  },
  {
   "cell_type": "markdown",
   "id": "3a24a085",
   "metadata": {
    "papermill": {
     "duration": 0.003714,
     "end_time": "2024-05-19T01:18:09.514947",
     "exception": false,
     "start_time": "2024-05-19T01:18:09.511233",
     "status": "completed"
    },
    "tags": []
   },
   "source": [
    "## Starting point\n"
   ]
  },
  {
   "cell_type": "code",
   "execution_count": null,
   "id": "f756e2d9",
   "metadata": {
    "papermill": {
     "duration": 1.177025,
     "end_time": "2024-05-19T01:18:10.695854",
     "exception": false,
     "start_time": "2024-05-19T01:18:09.518829",
     "status": "completed"
    },
    "tags": [],
    "trusted": true
   },
   "outputs": [],
   "source": [
    "import os, shutil\n",
    "\n",
    "from kaggle_secrets import UserSecretsClient\n",
    "\n",
    "user_secrets = UserSecretsClient()\n",
    "secret_value_0 = user_secrets.get_secret(\"email\")\n",
    "secret_value_1 = user_secrets.get_secret(\"gcp_key\")\n",
    "secret_value_2 = user_secrets.get_secret(\"ghtk\")\n",
    "secret_value_3 = user_secrets.get_secret(\"kaggle\")\n",
    "secret_value_4 = user_secrets.get_secret(\"username\")\n",
    "secret_value_5 = user_secrets.get_secret(\"wandbkey\")\n",
    "\n",
    "\n",
    "os.environ[\"KAGGLE_USERNAME\"] = secret_value_4\n",
    "\n",
    "os.environ[\"KAGGLE_KEY\"] = secret_value_3\n",
    "\n",
    "os.environ[\"WANDB_API_KEY\"] = secret_value_5\n",
    "\n",
    "os.environ[\"USER_EMAIL\"] = secret_value_0\n",
    "\n",
    "os.environ[\"GHTK\"] = secret_value_2\n",
    "\n",
    "os.environ[\"GCP_KEY\"] = secret_value_1\n",
    "\n",
    "os.environ[\"PATH\"] = \"/root/.local/bin:\" + os.environ[\"PATH\"]"
   ]
  },
  {
   "cell_type": "code",
   "execution_count": null,
   "id": "470e4371",
   "metadata": {
    "papermill": {
     "duration": 42.035099,
     "end_time": "2024-05-19T01:18:52.735439",
     "exception": false,
     "start_time": "2024-05-19T01:18:10.700340",
     "status": "completed"
    },
    "tags": [],
    "trusted": true
   },
   "outputs": [],
   "source": [
    "%%bash\n",
    "\n",
    "python -m pip install --upgrade pip ml_collections -q\n",
    "\n",
    "\n",
    "\n",
    "# pip install pipenv --user -q\n"
   ]
  },
  {
   "cell_type": "code",
   "execution_count": null,
   "id": "4c0a9a02",
   "metadata": {
    "papermill": {
     "duration": 17.279595,
     "end_time": "2024-05-19T01:19:10.019692",
     "exception": false,
     "start_time": "2024-05-19T01:18:52.740097",
     "status": "completed"
    },
    "tags": [],
    "trusted": true
   },
   "outputs": [],
   "source": [
    "%%bash\n",
    "\n",
    "# for the cloud \n",
    "\n",
    "rm -rf .* *\n",
    "\n",
    "git clone --branch dev --single-branch -q https://$GHTK@github.com/wildsonbbl/gnnepcsaft.git ."
   ]
  },
  {
   "cell_type": "code",
   "execution_count": null,
   "id": "8187b3bf",
   "metadata": {
    "papermill": {
     "duration": 1230.943651,
     "end_time": "2024-05-19T01:39:40.967890",
     "exception": false,
     "start_time": "2024-05-19T01:19:10.024239",
     "status": "completed"
    },
    "tags": [],
    "trusted": true
   },
   "outputs": [],
   "source": [
    "%%capture req_output\n",
    "\n",
    "%%bash\n",
    "\n",
    "pip install -r requirements.txt\n",
    "\n",
    "echo \"*********  Finished pip installing requirements.txt  *********\"\n",
    "\n",
    "# pip install torch-scatter\n",
    "\n",
    "echo \"*********  Finished pip installing torch-scatter  *********\"\n",
    "\n",
    "\n",
    "\n",
    "# install pcsaft\n",
    "\n",
    "curl -O -L https://gitlab.com/libeigen/eigen/-/archive/master/eigen-master.zip\n",
    "curl -O -L https://github.com/zmeri/PC-SAFT/archive/refs/tags/v1.5.0.zip\n",
    "unzip -q eigen-master.zip\n",
    "unzip -q v1.5.0.zip\n",
    "sed -i \"s/np.float_/np.float64/g\" PC-SAFT-1.5.0/pcsaft.pyx \n",
    "cp -rf eigen-master/. PC-SAFT-1.5.0/externals/eigen\n",
    "pip install ./PC-SAFT-1.5.0\n",
    "\n",
    "# install pcsaft\n",
    "\n",
    "echo \"*********  Finished pip installing pcsaft  *********\"\n"
   ]
  },
  {
   "cell_type": "code",
   "execution_count": null,
   "id": "43c6f101",
   "metadata": {
    "papermill": {
     "duration": 0.023362,
     "end_time": "2024-05-19T01:39:41.002288",
     "exception": false,
     "start_time": "2024-05-19T01:39:40.978926",
     "status": "completed"
    },
    "tags": [],
    "trusted": true
   },
   "outputs": [],
   "source": [
    "!echo '{req_output}' > log.txt"
   ]
  },
  {
   "cell_type": "code",
   "execution_count": null,
   "id": "ae7d5f7c",
   "metadata": {
    "papermill": {
     "duration": 24.636112,
     "end_time": "2024-05-19T01:40:05.649474",
     "exception": false,
     "start_time": "2024-05-19T01:39:41.013362",
     "status": "completed"
    },
    "tags": [],
    "trusted": true
   },
   "outputs": [],
   "source": [
    "%%bash\n",
    "\n",
    "echo $GCP_KEY > /kaggle/gcp_key.json\n",
    "dvc remote modify --local storage credentialpath '/kaggle/gcp_key.json'\n",
    "dvc pull"
   ]
  },
  {
   "cell_type": "code",
   "execution_count": null,
   "id": "ed043e75",
   "metadata": {
    "papermill": {
     "duration": 5.244509,
     "end_time": "2024-05-19T01:40:10.905816",
     "exception": false,
     "start_time": "2024-05-19T01:40:05.661307",
     "status": "completed"
    },
    "tags": [],
    "trusted": true
   },
   "outputs": [],
   "source": [
    "%%bash\n",
    "\n",
    "pip show pcsaft | grep -E \"Version|Name\"\n",
    "\n",
    "\n",
    "\n",
    "lscpu | grep -E \"Model name|Core|core\" \n",
    "\n",
    "\n",
    "\n",
    "nvidia-smi"
   ]
  },
  {
   "cell_type": "markdown",
   "id": "ebd0eec0",
   "metadata": {
    "papermill": {
     "duration": 0.012935,
     "end_time": "2024-05-19T01:40:10.932566",
     "exception": false,
     "start_time": "2024-05-19T01:40:10.919631",
     "status": "completed"
    },
    "tags": []
   },
   "source": [
    "## Training\n"
   ]
  },
  {
   "cell_type": "code",
   "execution_count": null,
   "id": "5c8cf02c",
   "metadata": {
    "papermill": {
     "duration": 0.10289,
     "end_time": "2024-05-19T01:40:11.049008",
     "exception": false,
     "start_time": "2024-05-19T01:40:10.946118",
     "status": "completed"
    },
    "tags": [],
    "trusted": true
   },
   "outputs": [],
   "source": [
    "from gnnepcsaft.configs.default import get_config\n",
    "import os\n",
    "\n",
    "config = get_config()\n",
    "\n",
    "model_name = config.model_name\n",
    "\n",
    "checkpoint = config.checkpoint\n",
    "\n",
    "model_suffix = str(config.num_train_steps / 1e6).replace(\".\", \"_\")\n",
    "\n",
    "os.environ[\"MODEL_NAME\"] = model_name\n",
    "\n",
    "os.environ[\"MODEL_SUFFIX\"] = model_suffix"
   ]
  },
  {
   "cell_type": "code",
   "execution_count": null,
   "id": "09017d28",
   "metadata": {
    "papermill": {
     "duration": 0.019944,
     "end_time": "2024-05-19T01:40:11.082526",
     "exception": false,
     "start_time": "2024-05-19T01:40:11.062582",
     "status": "completed"
    },
    "tags": [],
    "trusted": true
   },
   "outputs": [],
   "source": [
    "# if checkpoint:\n",
    "\n",
    "#     shutil.copy(f\"gnnepcsaft/train/checkpoints/{checkpoint}\", \"gnnepcsaft/train/checkpoints/last_checkpoint.pth\")"
   ]
  },
  {
   "cell_type": "code",
   "execution_count": null,
   "id": "ab92f8c3",
   "metadata": {
    "papermill": {
     "duration": null,
     "end_time": null,
     "exception": false,
     "start_time": "2024-05-19T01:40:11.095657",
     "status": "running"
    },
    "tags": [],
    "trusted": true
   },
   "outputs": [],
   "source": [
    "%%bash\n",
    "\n",
    "python -m gnnepcsaft.train.train \\\n",
    "--workdir=./gnnepcsaft --config=gnnepcsaft/configs/default.py \\\n",
    "--framework=\"lightning\"  \\\n",
    "--tags=\"parallel\" --num_cpu=1.0 --num_cpu_trainer=0.33 --num_gpus=0.33 --num_workers=3 --verbose=2 \\\n",
    "--config.accelerator=gpu\n"
   ]
  },
  {
   "cell_type": "markdown",
   "id": "bcc47332",
   "metadata": {
    "papermill": {
     "duration": null,
     "end_time": null,
     "exception": null,
     "start_time": null,
     "status": "pending"
    },
    "tags": []
   },
   "source": [
    "### Updating kaggle dataset\n"
   ]
  },
  {
   "cell_type": "code",
   "execution_count": null,
   "id": "0e9cae27",
   "metadata": {
    "papermill": {
     "duration": null,
     "end_time": null,
     "exception": null,
     "start_time": null,
     "status": "pending"
    },
    "tags": [],
    "trusted": true
   },
   "outputs": [],
   "source": [
    "%%bash\n",
    "\n",
    "# !kaggle datasets metadata -p /kaggle/working/gnnepcsaft/train/checkpoints wildsonbblima/gnnepcsaft\n",
    "\n",
    "# shutil.copy(\"gnnepcsaft/train/checkpoints/last_checkpoint.pth\", f\"gnnepcsaft/train/checkpoints/{model_name}-{model_suffix}e6.pth\")\n",
    "\n",
    "# os.remove(\"gnnepcsaft/train/checkpoints/last_checkpoint.pth\")\n",
    "\n",
    "# !kaggle datasets version -p /kaggle/working/gnnepcsaft/train/checkpoints -m \"{model_name} at {model_suffix}e6 steps\"\n",
    "\n",
    "\n",
    "\n",
    "echo \"*****  Push to data repo  *****\"\n",
    "\n",
    "dvc add gnnepcsaft/train/checkpoints\n",
    "\n",
    "dvc push\n",
    "\n",
    "\n",
    "\n",
    "git config --global user.email $USER_EMAIL\n",
    "\n",
    "git config --global user.name $KAGGLE_USERNAME\n",
    "\n",
    "\n",
    "\n",
    "echo \"*****  Push to code repo  *****\"\n",
    "\n",
    "git pull\n",
    "\n",
    "git commit gnnepcsaft/train/checkpoints.dvc -m \"$MODEL_NAME at $MODEL_SUFFIX e6 steps\"\n",
    "\n",
    "git push\n",
    "\n",
    "\n",
    "\n",
    "echo \"*****  Finished  *****\""
   ]
  },
  {
   "cell_type": "markdown",
   "id": "bdadaf4f",
   "metadata": {
    "papermill": {
     "duration": null,
     "end_time": null,
     "exception": null,
     "start_time": null,
     "status": "pending"
    },
    "tags": []
   },
   "source": [
    "### Clear workspace\n"
   ]
  },
  {
   "cell_type": "code",
   "execution_count": null,
   "id": "9b856025",
   "metadata": {
    "papermill": {
     "duration": null,
     "end_time": null,
     "exception": null,
     "start_time": null,
     "status": "pending"
    },
    "tags": [],
    "trusted": true
   },
   "outputs": [],
   "source": [
    "!rm -rf * .*"
   ]
  }
 ],
 "metadata": {
  "kaggle": {
   "accelerator": "none",
   "dataSources": [],
   "isGpuEnabled": false,
   "isInternetEnabled": true,
   "language": "python",
   "sourceType": "notebook"
  },
  "kernelspec": {
   "display_name": "Python 3",
   "language": "python",
   "name": "python3"
  },
  "language_info": {
   "codemirror_mode": {
    "name": "ipython",
    "version": 3
   },
   "file_extension": ".py",
   "mimetype": "text/x-python",
   "name": "python",
   "nbconvert_exporter": "python",
   "pygments_lexer": "ipython3",
   "version": "3.9.18"
  },
  "papermill": {
   "default_parameters": {},
   "duration": null,
   "end_time": null,
   "environment_variables": {},
   "exception": null,
   "input_path": "__notebook__.ipynb",
   "output_path": "__notebook__.ipynb",
   "parameters": {},
   "start_time": "2024-05-19T01:18:06.709559",
   "version": "2.5.0"
  }
 },
 "nbformat": 4,
 "nbformat_minor": 5
}
