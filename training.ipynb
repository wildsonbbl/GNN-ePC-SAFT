{
 "cells": [
  {
   "cell_type": "markdown",
   "id": "953cb958",
   "metadata": {
    "papermill": {
     "duration": 0.004538,
     "end_time": "2024-05-19T01:18:09.506964",
     "exception": false,
     "start_time": "2024-05-19T01:18:09.502426",
     "status": "completed"
    },
    "tags": []
   },
   "source": [
    "# Modeling GNNePCSAFT"
   ]
  },
  {
   "cell_type": "markdown",
   "id": "3a24a085",
   "metadata": {
    "papermill": {
     "duration": 0.003714,
     "end_time": "2024-05-19T01:18:09.514947",
     "exception": false,
     "start_time": "2024-05-19T01:18:09.511233",
     "status": "completed"
    },
    "tags": []
   },
   "source": [
    "## Starting point"
   ]
  },
  {
   "cell_type": "code",
   "execution_count": 1,
   "id": "f756e2d9",
   "metadata": {
    "execution": {
     "iopub.execute_input": "2024-05-19T01:18:09.524850Z",
     "iopub.status.busy": "2024-05-19T01:18:09.524151Z",
     "iopub.status.idle": "2024-05-19T01:18:10.693590Z",
     "shell.execute_reply": "2024-05-19T01:18:10.692780Z"
    },
    "papermill": {
     "duration": 1.177025,
     "end_time": "2024-05-19T01:18:10.695854",
     "exception": false,
     "start_time": "2024-05-19T01:18:09.518829",
     "status": "completed"
    },
    "tags": []
   },
   "outputs": [],
   "source": [
    "import os, shutil\n",
    "from kaggle_secrets import UserSecretsClient\n",
    "\n",
    "user_secrets = UserSecretsClient()\n",
    "secret_value_0 = user_secrets.get_secret(\"awskeyid\")\n",
    "secret_value_1 = user_secrets.get_secret(\"awssecretkey\")\n",
    "secret_value_2 = user_secrets.get_secret(\"ghtk\")\n",
    "secret_value_3 = user_secrets.get_secret(\"kaggle\")\n",
    "secret_value_4 = user_secrets.get_secret(\"username\")\n",
    "secret_value_5 = user_secrets.get_secret(\"wandbkey\")\n",
    "secret_value_6 = user_secrets.get_secret(\"email\")\n",
    "\n",
    "os.environ[\"KAGGLE_USERNAME\"] = secret_value_4\n",
    "os.environ[\"KAGGLE_KEY\"] = secret_value_3\n",
    "os.environ[\"WANDB_API_KEY\"] = secret_value_5\n",
    "os.environ[\"AWS_ACCESS_KEY_ID\"] = secret_value_0\n",
    "os.environ[\"AWS_SECRET_ACCESS_KEY\"] = secret_value_1\n",
    "os.environ[\"USER_EMAIL\"]=secret_value_6\n",
    "os.environ[\"GHTK\"]=secret_value_2\n",
    "os.environ['PATH'] = \"/root/.local/bin:\" + os.environ['PATH']"
   ]
  },
  {
   "cell_type": "code",
   "execution_count": 2,
   "id": "470e4371",
   "metadata": {
    "execution": {
     "iopub.execute_input": "2024-05-19T01:18:10.706219Z",
     "iopub.status.busy": "2024-05-19T01:18:10.705431Z",
     "iopub.status.idle": "2024-05-19T01:18:52.732942Z",
     "shell.execute_reply": "2024-05-19T01:18:52.732094Z"
    },
    "papermill": {
     "duration": 42.035099,
     "end_time": "2024-05-19T01:18:52.735439",
     "exception": false,
     "start_time": "2024-05-19T01:18:10.700340",
     "status": "completed"
    },
    "tags": []
   },
   "outputs": [],
   "source": [
    "%%bash\n",
    "python -m pip install --upgrade pip ml_collections -q\n",
    "\n",
    "pip install pipenv --user -q\n"
   ]
  },
  {
   "cell_type": "code",
   "execution_count": 3,
   "id": "4c0a9a02",
   "metadata": {
    "execution": {
     "iopub.execute_input": "2024-05-19T01:18:52.746158Z",
     "iopub.status.busy": "2024-05-19T01:18:52.745828Z",
     "iopub.status.idle": "2024-05-19T01:19:10.017296Z",
     "shell.execute_reply": "2024-05-19T01:19:10.016504Z"
    },
    "papermill": {
     "duration": 17.279595,
     "end_time": "2024-05-19T01:19:10.019692",
     "exception": false,
     "start_time": "2024-05-19T01:18:52.740097",
     "status": "completed"
    },
    "tags": []
   },
   "outputs": [
    {
     "name": "stderr",
     "output_type": "stream",
     "text": [
      "rm: refusing to remove '.' or '..' directory: skipping '.'\n"
     ]
    },
    {
     "name": "stderr",
     "output_type": "stream",
     "text": [
      "rm: refusing to remove '.' or '..' directory: skipping '..'\n"
     ]
    }
   ],
   "source": [
    "%%bash\n",
    "# for the cloud \n",
    "rm -rf .* *\n",
    "git clone --branch dev --single-branch -q https://$GHTK@github.com/wildsonbbl/gnnepcsaft.git ."
   ]
  },
  {
   "cell_type": "code",
   "execution_count": 4,
   "id": "8187b3bf",
   "metadata": {
    "execution": {
     "iopub.execute_input": "2024-05-19T01:19:10.029859Z",
     "iopub.status.busy": "2024-05-19T01:19:10.029571Z",
     "iopub.status.idle": "2024-05-19T01:39:40.965847Z",
     "shell.execute_reply": "2024-05-19T01:39:40.965011Z"
    },
    "papermill": {
     "duration": 1230.943651,
     "end_time": "2024-05-19T01:39:40.967890",
     "exception": false,
     "start_time": "2024-05-19T01:19:10.024239",
     "status": "completed"
    },
    "tags": []
   },
   "outputs": [
    {
     "name": "stdout",
     "output_type": "stream",
     "text": [
      "\u001b[?25l\u001b[32m⠋\u001b[0m Creating virtual environment...\r",
      "\u001b[2K\u001b[32m⠙\u001b[0m Creating virtual environment...\r",
      "\u001b[2K\u001b[32m⠹\u001b[0m Creating virtual environment...\r",
      "\u001b[2K\u001b[32m⠸\u001b[0m Creating virtual environment...\r",
      "\u001b[2K\u001b[32m⠼\u001b[0m Creating virtual environment...\r",
      "\u001b[2K\u001b[32m⠴\u001b[0m Creating virtual environment...\r",
      "\u001b[2K\u001b[32m⠦\u001b[0m Creating virtual environment...\r",
      "\u001b[2K\u001b[32m⠧\u001b[0m Creating virtual environment...\r",
      "\u001b[2K\u001b[32m⠇\u001b[0m Creating virtual environment...\r",
      "\u001b[2K\u001b[32m⠏\u001b[0m Creating virtual environment...\r",
      "\u001b[2K\u001b[32m⠋\u001b[0m Creating virtual environment...\r",
      "\u001b[2K\u001b[32m⠙\u001b[0m Creating virtual environment...\r",
      "\u001b[2K\u001b[32m⠹\u001b[0m Creating virtual environment...\r",
      "\u001b[2K\u001b[32m⠸\u001b[0m Creating virtual environment...\r",
      "\u001b[2K\u001b[32m⠼\u001b[0m Creating virtual environment...\r",
      "\u001b[2K\u001b[32m⠼\u001b[0m Creating virtual environment...\n"
     ]
    },
    {
     "name": "stdout",
     "output_type": "stream",
     "text": [
      "\u001b[?25h\r",
      "\u001b[1A\u001b[2K\u001b[?25lBuilding requirements\u001b[33m...\u001b[0m\n"
     ]
    },
    {
     "name": "stdout",
     "output_type": "stream",
     "text": [
      "\u001b[32m⠋\u001b[0m Locking...\r",
      "\u001b[2KResolving dependencies\u001b[33m...\u001b[0m\n"
     ]
    },
    {
     "name": "stdout",
     "output_type": "stream",
     "text": [
      "\u001b[32m⠋\u001b[0m Locking...\r",
      "\u001b[2K\u001b[32m⠙\u001b[0m Locking...\r",
      "\u001b[2K\u001b[32m⠹\u001b[0m Locking...\r",
      "\u001b[2K\u001b[32m⠸\u001b[0m Locking...\r",
      "\u001b[2K\u001b[32m⠼\u001b[0m Locking...\r",
      "\u001b[2K\u001b[32m⠴\u001b[0m Locking...\r",
      "\u001b[2K\u001b[32m⠦\u001b[0m Locking...\r",
      "\u001b[2K\u001b[32m⠧\u001b[0m Locking...\r",
      "\u001b[2K\u001b[32m⠇\u001b[0m Locking...\r",
      "\u001b[2K\u001b[32m⠏\u001b[0m Locking...\r",
      "\u001b[2K\u001b[32m⠋\u001b[0m Locking...\r",
      "\u001b[2K\u001b[32m⠙\u001b[0m Locking...\r",
      "\u001b[2K\u001b[32m⠹\u001b[0m Locking...\r",
      "\u001b[2K\u001b[32m⠸\u001b[0m Locking...\r",
      "\u001b[2K\u001b[32m⠼\u001b[0m Locking...\r",
      "\u001b[2K\u001b[32m⠴\u001b[0m Locking...\r",
      "\u001b[2K\u001b[32m⠦\u001b[0m Locking...\r",
      "\u001b[2K\u001b[32m⠧\u001b[0m Locking...\r",
      "\u001b[2K\u001b[32m⠇\u001b[0m Locking...\r",
      "\u001b[2K\u001b[32m⠏\u001b[0m Locking...\r",
      "\u001b[2K\u001b[32m⠋\u001b[0m Locking...\r",
      "\u001b[2K\u001b[32m⠙\u001b[0m Locking...\r",
      "\u001b[2K\u001b[32m⠹\u001b[0m Locking...\r",
      "\u001b[2K\u001b[32m⠸\u001b[0m Locking...\r",
      "\u001b[2K\u001b[32m⠼\u001b[0m Locking...\r",
      "\u001b[2K\u001b[32m⠴\u001b[0m Locking...\r",
      "\u001b[2K\u001b[32m⠦\u001b[0m Locking...\r",
      "\u001b[2K\u001b[32m⠧\u001b[0m Locking...\r",
      "\u001b[2K\u001b[32m⠇\u001b[0m Locking...\r",
      "\u001b[2K\u001b[32m⠏\u001b[0m Locking...\r",
      "\u001b[2K\u001b[32m⠋\u001b[0m Locking...\r",
      "\u001b[2K\u001b[32m⠙\u001b[0m Locking...\r",
      "\u001b[2K\u001b[32m⠹\u001b[0m Locking...\r",
      "\u001b[2K\u001b[32m⠸\u001b[0m Locking...\r",
      "\u001b[2K\u001b[32m⠼\u001b[0m Locking...\r",
      "\u001b[2K\u001b[32m⠴\u001b[0m Locking...\r",
      "\u001b[2K\u001b[32m⠦\u001b[0m Locking...\r",
      "\u001b[2K\u001b[32m⠧\u001b[0m Locking...\r",
      "\u001b[2K\u001b[32m⠇\u001b[0m Locking...\r",
      "\u001b[2K\u001b[32m⠏\u001b[0m Locking...\r",
      "\u001b[2K\u001b[32m⠋\u001b[0m Locking...\r",
      "\u001b[2K\u001b[32m⠙\u001b[0m Locking...\r",
      "\u001b[2K\u001b[32m⠹\u001b[0m Locking...\r",
      "\u001b[2K\u001b[32m⠸\u001b[0m Locking...\r",
      "\u001b[2K\u001b[32m⠼\u001b[0m Locking...\r",
      "\u001b[2K\u001b[32m⠴\u001b[0m Locking...\r",
      "\u001b[2K\u001b[32m⠦\u001b[0m Locking...\r",
      "\u001b[2K\u001b[32m⠧\u001b[0m Locking...\r",
      "\u001b[2K\u001b[32m⠇\u001b[0m Locking...\r",
      "\u001b[2K\u001b[32m⠏\u001b[0m Locking...\r",
      "\u001b[2K\u001b[32m⠋\u001b[0m Locking...\r",
      "\u001b[2K\u001b[32m⠙\u001b[0m Locking...\r",
      "\u001b[2K\u001b[32m⠹\u001b[0m Locking...\r",
      "\u001b[2K\u001b[32m⠸\u001b[0m Locking...\r",
      "\u001b[2K\u001b[32m⠼\u001b[0m Locking...\r",
      "\u001b[2K\u001b[32m⠴\u001b[0m Locking...\r",
      "\u001b[2K\u001b[32m⠦\u001b[0m Locking...\r",
      "\u001b[2K\u001b[32m⠧\u001b[0m Locking...\r",
      "\u001b[2K\u001b[32m⠇\u001b[0m Locking...\r",
      "\u001b[2K\u001b[32m⠏\u001b[0m Locking...\r",
      "\u001b[2K\u001b[32m⠋\u001b[0m Locking...\r",
      "\u001b[2K\u001b[32m⠙\u001b[0m Locking...\r",
      "\u001b[2K\u001b[32m⠹\u001b[0m Locking...\r",
      "\u001b[2K\u001b[32m⠸\u001b[0m Locking...\r",
      "\u001b[2K\u001b[32m⠼\u001b[0m Locking...\r",
      "\u001b[2K\u001b[32m⠴\u001b[0m Locking...\r",
      "\u001b[2K\u001b[32m⠦\u001b[0m Locking...\r",
      "\u001b[2K\u001b[32m⠧\u001b[0m Locking...\r",
      "\u001b[2K\u001b[32m⠇\u001b[0m Locking...\r",
      "\u001b[2K\u001b[32m⠏\u001b[0m Locking...\r",
      "\u001b[2K\u001b[32m⠋\u001b[0m Locking...\r",
      "\u001b[2K\u001b[32m⠙\u001b[0m Locking...\r",
      "\u001b[2K\u001b[32m⠹\u001b[0m Locking...\r",
      "\u001b[2K\u001b[32m⠸\u001b[0m Locking...\r",
      "\u001b[2K\u001b[32m⠼\u001b[0m Locking...\r",
      "\u001b[2K\u001b[32m⠴\u001b[0m Locking...\r",
      "\u001b[2K\u001b[32m⠦\u001b[0m Locking...\r",
      "\u001b[2K\u001b[32m⠧\u001b[0m Locking...\r",
      "\u001b[2K\u001b[32m⠇\u001b[0m Locking...\r",
      "\u001b[2K\u001b[32m⠏\u001b[0m Locking...\r",
      "\u001b[2K\u001b[32m⠋\u001b[0m Locking...\r",
      "\u001b[2K\u001b[32m⠙\u001b[0m Locking...\r",
      "\u001b[2K\u001b[32m⠹\u001b[0m Locking...\r",
      "\u001b[2K\u001b[32m⠸\u001b[0m Locking...\r",
      "\u001b[2K\u001b[32m⠼\u001b[0m Locking...\r",
      "\u001b[2K\u001b[32m⠦\u001b[0m Locking...\r",
      "\u001b[2K\u001b[32m⠧\u001b[0m Locking...\r",
      "\u001b[2K\u001b[32m⠇\u001b[0m Locking...\r",
      "\u001b[2K\u001b[32m⠏\u001b[0m Locking...\r",
      "\u001b[2K\u001b[32m⠋\u001b[0m Locking...\r",
      "\u001b[2K\u001b[32m⠙\u001b[0m Locking...\r",
      "\u001b[2K\u001b[32m⠹\u001b[0m Locking...\r",
      "\u001b[2K\u001b[32m⠸\u001b[0m Locking...\r",
      "\u001b[2K\u001b[32m⠼\u001b[0m Locking...\r",
      "\u001b[2K\u001b[32m⠴\u001b[0m Locking...\r",
      "\u001b[2K\u001b[32m⠦\u001b[0m Locking...\r",
      "\u001b[2K\u001b[32m⠧\u001b[0m Locking...\r",
      "\u001b[2K\u001b[32m⠇\u001b[0m Locking...\r",
      "\u001b[2K\u001b[32m⠏\u001b[0m Locking...\r",
      "\u001b[2K\u001b[32m⠋\u001b[0m Locking...\r",
      "\u001b[2K\u001b[32m⠙\u001b[0m Locking...\r",
      "\u001b[2K\u001b[32m⠹\u001b[0m Locking...\r",
      "\u001b[2K\u001b[32m⠸\u001b[0m Locking...\r",
      "\u001b[2K\u001b[32m⠼\u001b[0m Locking...\r",
      "\u001b[2K\u001b[32m⠴\u001b[0m Locking...\r",
      "\u001b[2K\u001b[32m⠦\u001b[0m Locking...\r",
      "\u001b[2K\u001b[32m⠧\u001b[0m Locking...\r",
      "\u001b[2K\u001b[32m⠇\u001b[0m Locking...\r",
      "\u001b[2K\u001b[32m⠏\u001b[0m Locking...\r",
      "\u001b[2K\u001b[32m⠋\u001b[0m Locking...\r",
      "\u001b[2K\u001b[32m⠙\u001b[0m Locking...\r",
      "\u001b[2K\u001b[32m⠹\u001b[0m Locking...\r",
      "\u001b[2K\u001b[32m⠸\u001b[0m Locking...\r",
      "\u001b[2K\u001b[32m⠼\u001b[0m Locking...\r",
      "\u001b[2K\u001b[32m⠴\u001b[0m Locking...\r",
      "\u001b[2K\u001b[32m⠦\u001b[0m Locking...\r",
      "\u001b[2K\u001b[32m⠧\u001b[0m Locking...\r",
      "\u001b[2K\u001b[32m⠇\u001b[0m Locking...\r",
      "\u001b[2K\u001b[32m⠏\u001b[0m Locking...\r",
      "\u001b[2K\u001b[32m⠋\u001b[0m Locking...\r",
      "\u001b[2K\u001b[32m⠙\u001b[0m Locking...\r",
      "\u001b[2K\u001b[32m⠹\u001b[0m Locking...\r",
      "\u001b[2K\u001b[32m⠸\u001b[0m Locking...\r",
      "\u001b[2K\u001b[32m⠼\u001b[0m Locking...\r",
      "\u001b[2K\u001b[32m⠴\u001b[0m Locking...\r",
      "\u001b[2K\u001b[32m⠦\u001b[0m Locking...\r",
      "\u001b[2K\u001b[32m⠧\u001b[0m Locking...\r",
      "\u001b[2K\u001b[32m⠇\u001b[0m Locking...\r",
      "\u001b[2K\u001b[32m⠏\u001b[0m Locking...\r",
      "\u001b[2K\u001b[32m⠋\u001b[0m Locking...\r",
      "\u001b[2K\u001b[32m⠙\u001b[0m Locking...\r",
      "\u001b[2K\u001b[32m⠹\u001b[0m Locking...\r",
      "\u001b[2K\u001b[32m⠸\u001b[0m Locking...\r",
      "\u001b[2K\u001b[32m⠼\u001b[0m Locking...\r",
      "\u001b[2K\u001b[32m⠴\u001b[0m Locking...\r",
      "\u001b[2K\u001b[32m⠦\u001b[0m Locking...\r",
      "\u001b[2K\u001b[32m⠧\u001b[0m Locking...\r",
      "\u001b[2K\u001b[32m⠇\u001b[0m Locking...\r",
      "\u001b[2K\u001b[32m⠏\u001b[0m Locking...\r",
      "\u001b[2K\u001b[32m⠋\u001b[0m Locking...\r",
      "\u001b[2K\u001b[32m⠙\u001b[0m Locking...\r",
      "\u001b[2K\u001b[32m⠹\u001b[0m Locking...\r",
      "\u001b[2K\u001b[32m⠸\u001b[0m Locking...\r",
      "\u001b[2K\u001b[32m⠼\u001b[0m Locking...\r",
      "\u001b[2K\u001b[32m⠴\u001b[0m Locking...\r",
      "\u001b[2K\u001b[32m⠦\u001b[0m Locking...\r",
      "\u001b[2K\u001b[32m⠧\u001b[0m Locking...\r",
      "\u001b[2K\u001b[32m⠇\u001b[0m Locking...\r",
      "\u001b[2K\u001b[32m⠏\u001b[0m Locking...\r",
      "\u001b[2K\u001b[32m⠋\u001b[0m Locking...\r",
      "\u001b[2K\u001b[32m⠙\u001b[0m Locking...\r",
      "\u001b[2K\u001b[32m⠹\u001b[0m Locking...\r",
      "\u001b[2K\u001b[32m⠸\u001b[0m Locking...\r",
      "\u001b[2K\u001b[32m⠼\u001b[0m Locking...\r",
      "\u001b[2K\u001b[32m⠴\u001b[0m Locking...\r",
      "\u001b[2K\u001b[32m⠦\u001b[0m Locking...\r",
      "\u001b[2K\u001b[32m⠧\u001b[0m Locking...\r",
      "\u001b[2K\u001b[32m⠇\u001b[0m Locking...\r",
      "\u001b[2K\u001b[32m⠏\u001b[0m Locking...\r",
      "\u001b[2K\u001b[32m⠋\u001b[0m Locking...\r",
      "\u001b[2K\u001b[32m⠙\u001b[0m Locking...\r",
      "\u001b[2K\u001b[32m⠹\u001b[0m Locking...\r",
      "\u001b[2K\u001b[32m⠸\u001b[0m Locking...\r",
      "\u001b[2K\u001b[32m⠼\u001b[0m Locking...\r",
      "\u001b[2K\u001b[32m⠴\u001b[0m Locking...\r",
      "\u001b[2K\u001b[32m⠦\u001b[0m Locking...\r",
      "\u001b[2K\u001b[32m⠧\u001b[0m Locking...\r",
      "\u001b[2K\u001b[32m⠇\u001b[0m Locking...\r",
      "\u001b[2K\u001b[32m⠏\u001b[0m Locking...\r",
      "\u001b[2K\u001b[32m⠋\u001b[0m Locking...\r",
      "\u001b[2K\u001b[32m⠙\u001b[0m Locking...\r",
      "\u001b[2K\u001b[32m⠹\u001b[0m Locking...\r",
      "\u001b[2K\u001b[32m⠸\u001b[0m Locking...\r",
      "\u001b[2K\u001b[32m⠼\u001b[0m Locking...\r",
      "\u001b[2K\u001b[32m⠴\u001b[0m Locking...\r",
      "\u001b[2K\u001b[32m⠦\u001b[0m Locking...\r",
      "\u001b[2K\u001b[32m⠧\u001b[0m Locking...\r",
      "\u001b[2K\u001b[32m⠇\u001b[0m Locking...\r",
      "\u001b[2K\u001b[32m⠏\u001b[0m Locking...\r",
      "\u001b[2K\u001b[32m⠋\u001b[0m Locking...\r",
      "\u001b[2K\u001b[32m⠹\u001b[0m Locking...\r",
      "\u001b[2K\u001b[32m⠸\u001b[0m Locking...\r",
      "\u001b[2K\u001b[32m⠼\u001b[0m Locking...\r",
      "\u001b[2K\u001b[32m⠴\u001b[0m Locking...\r",
      "\u001b[2K\u001b[32m⠦\u001b[0m Locking...\r",
      "\u001b[2K\u001b[32m⠧\u001b[0m Locking...\r",
      "\u001b[2K\u001b[32m⠇\u001b[0m Locking...\r",
      "\u001b[2K\u001b[32m⠏\u001b[0m Locking...\r",
      "\u001b[2K\u001b[32m⠋\u001b[0m Locking...\r",
      "\u001b[2K\u001b[32m⠙\u001b[0m Locking...\r",
      "\u001b[2K\u001b[32m⠹\u001b[0m Locking...\r",
      "\u001b[2K\u001b[32m⠸\u001b[0m Locking...\r",
      "\u001b[2K\u001b[32m⠼\u001b[0m Locking...\r",
      "\u001b[2K\u001b[32m⠴\u001b[0m Locking...\r",
      "\u001b[2K\u001b[32m⠦\u001b[0m Locking...\r",
      "\u001b[2K\u001b[32m⠧\u001b[0m Locking...\r",
      "\u001b[2K\u001b[32m⠇\u001b[0m Locking...\r",
      "\u001b[2K\u001b[32m⠏\u001b[0m Locking...\r",
      "\u001b[2K\u001b[32m⠋\u001b[0m Locking...\r",
      "\u001b[2K\u001b[32m⠙\u001b[0m Locking...\r",
      "\u001b[2K\u001b[32m⠹\u001b[0m Locking...\r",
      "\u001b[2K\u001b[32m⠸\u001b[0m Locking...\r",
      "\u001b[2K\u001b[32m⠼\u001b[0m Locking...\r",
      "\u001b[2K\u001b[32m⠴\u001b[0m Locking...\r",
      "\u001b[2K\u001b[32m⠦\u001b[0m Locking...\r",
      "\u001b[2K\u001b[32m⠧\u001b[0m Locking...\r",
      "\u001b[2K\u001b[32m⠇\u001b[0m Locking...\r",
      "\u001b[2K\u001b[32m⠏\u001b[0m Locking...\r",
      "\u001b[2K\u001b[32m⠋\u001b[0m Locking...\r",
      "\u001b[2K\u001b[32m⠙\u001b[0m Locking...\r",
      "\u001b[2K\u001b[32m⠹\u001b[0m Locking...\r",
      "\u001b[2K\u001b[32m⠸\u001b[0m Locking...\r",
      "\u001b[2K\u001b[32m⠼\u001b[0m Locking...\r",
      "\u001b[2K\u001b[32m⠴\u001b[0m Locking...\r",
      "\u001b[2K\u001b[32m⠦\u001b[0m Locking...\r",
      "\u001b[2K\u001b[32m⠧\u001b[0m Locking...\r",
      "\u001b[2K\u001b[32m⠇\u001b[0m Locking...\r",
      "\u001b[2K\u001b[32m⠏\u001b[0m Locking...\r",
      "\u001b[2K\u001b[32m⠋\u001b[0m Locking...\r",
      "\u001b[2K\u001b[32m⠙\u001b[0m Locking...\r",
      "\u001b[2K\u001b[32m⠹\u001b[0m Locking...\r",
      "\u001b[2K\u001b[32m⠸\u001b[0m Locking...\r",
      "\u001b[2K\u001b[32m⠼\u001b[0m Locking...\r",
      "\u001b[2K\u001b[32m⠴\u001b[0m Locking...\r",
      "\u001b[2K\u001b[32m⠦\u001b[0m Locking...\r",
      "\u001b[2K\u001b[32m⠧\u001b[0m Locking...\r",
      "\u001b[2K\u001b[32m⠇\u001b[0m Locking...\r",
      "\u001b[2K\u001b[32m⠏\u001b[0m Locking...\r",
      "\u001b[2K\u001b[32m⠋\u001b[0m Locking...\r",
      "\u001b[2K\u001b[32m⠙\u001b[0m Locking...\r",
      "\u001b[2K\u001b[32m⠹\u001b[0m Locking...\r",
      "\u001b[2K\u001b[32m⠸\u001b[0m Locking...\r",
      "\u001b[2K\u001b[32m⠼\u001b[0m Locking...\r",
      "\u001b[2K\u001b[32m⠴\u001b[0m Locking...\r",
      "\u001b[2K\u001b[32m⠦\u001b[0m Locking...\r",
      "\u001b[2K\u001b[32m⠧\u001b[0m Locking...\r",
      "\u001b[2K\u001b[32m⠇\u001b[0m Locking...\r",
      "\u001b[2K\u001b[32m⠏\u001b[0m Locking...\r",
      "\u001b[2K\u001b[32m⠋\u001b[0m Locking...\r",
      "\u001b[2K\u001b[32m⠙\u001b[0m Locking...\r",
      "\u001b[2K\u001b[32m⠹\u001b[0m Locking...\r",
      "\u001b[2K\u001b[32m⠸\u001b[0m Locking...\r",
      "\u001b[2K\u001b[32m⠼\u001b[0m Locking...\r",
      "\u001b[2K\u001b[32m⠴\u001b[0m Locking...\r",
      "\u001b[2K\u001b[32m⠦\u001b[0m Locking...\r",
      "\u001b[2K\u001b[32m⠧\u001b[0m Locking...\r",
      "\u001b[2K\u001b[32m⠇\u001b[0m Locking...\r",
      "\u001b[2K\u001b[32m⠏\u001b[0m Locking...\r",
      "\u001b[2K\u001b[32m⠋\u001b[0m Locking...\r",
      "\u001b[2K\u001b[32m⠙\u001b[0m Locking...\r",
      "\u001b[2K\u001b[32m⠹\u001b[0m Locking...\r",
      "\u001b[2K\u001b[32m⠸\u001b[0m Locking...\r",
      "\u001b[2K\u001b[32m⠼\u001b[0m Locking...\r",
      "\u001b[2K\u001b[32m⠴\u001b[0m Locking...\r",
      "\u001b[2K\u001b[32m⠦\u001b[0m Locking...\r",
      "\u001b[2K\u001b[32m⠧\u001b[0m Locking...\r",
      "\u001b[2K\u001b[32m⠇\u001b[0m Locking...\r",
      "\u001b[2K\u001b[32m⠏\u001b[0m Locking...\r",
      "\u001b[2K\u001b[32m⠋\u001b[0m Locking...\r",
      "\u001b[2K\u001b[32m⠙\u001b[0m Locking...\r",
      "\u001b[2K\u001b[32m⠹\u001b[0m Locking...\r",
      "\u001b[2K\u001b[32m⠸\u001b[0m Locking...\r",
      "\u001b[2K\u001b[32m⠼\u001b[0m Locking...\r",
      "\u001b[2K\u001b[32m⠴\u001b[0m Locking...\r",
      "\u001b[2K\u001b[32m⠦\u001b[0m Locking...\r",
      "\u001b[2K\u001b[32m⠧\u001b[0m Locking...\r",
      "\u001b[2K\u001b[32m⠇\u001b[0m Locking...\r",
      "\u001b[2K\u001b[32m⠏\u001b[0m Locking...\r",
      "\u001b[2K\u001b[32m⠋\u001b[0m Locking...\r",
      "\u001b[2K\u001b[32m⠙\u001b[0m Locking...\r",
      "\u001b[2K\u001b[32m⠹\u001b[0m Locking...\r",
      "\u001b[2K\u001b[32m⠸\u001b[0m Locking...\r",
      "\u001b[2K\u001b[32m⠴\u001b[0m Locking...\r",
      "\u001b[2K\u001b[32m⠦\u001b[0m Locking...\r",
      "\u001b[2K\u001b[32m⠧\u001b[0m Locking...\r",
      "\u001b[2K\u001b[32m⠇\u001b[0m Locking...\r",
      "\u001b[2K\u001b[32m⠏\u001b[0m Locking...\r",
      "\u001b[2K\u001b[32m⠋\u001b[0m Locking...\r",
      "\u001b[2K\u001b[32m⠙\u001b[0m Locking...\r",
      "\u001b[2K\u001b[32m⠹\u001b[0m Locking...\r",
      "\u001b[2K\u001b[32m⠸\u001b[0m Locking...\r",
      "\u001b[2K\u001b[32m⠼\u001b[0m Locking...\r",
      "\u001b[2K\u001b[32m⠴\u001b[0m Locking...\r",
      "\u001b[2K\u001b[32m⠦\u001b[0m Locking...\r",
      "\u001b[2K\u001b[32m⠧\u001b[0m Locking...\r",
      "\u001b[2K\u001b[32m⠇\u001b[0m Locking...\r",
      "\u001b[2K\u001b[32m⠏\u001b[0m Locking...\r",
      "\u001b[2K\u001b[32m⠋\u001b[0m Locking...\r",
      "\u001b[2K\u001b[32m⠙\u001b[0m Locking...\r",
      "\u001b[2K\u001b[32m⠹\u001b[0m Locking...\r",
      "\u001b[2K\u001b[32m⠸\u001b[0m Locking...\r",
      "\u001b[2K\u001b[32m⠼\u001b[0m Locking...\r",
      "\u001b[2K\u001b[32m⠴\u001b[0m Locking...\r",
      "\u001b[2K\u001b[32m⠦\u001b[0m Locking...\r",
      "\u001b[2K\u001b[32m⠧\u001b[0m Locking...\r",
      "\u001b[2K\u001b[32m⠇\u001b[0m Locking...\r",
      "\u001b[2K\u001b[32m⠏\u001b[0m Locking...\r",
      "\u001b[2K\u001b[32m⠋\u001b[0m Locking...\r",
      "\u001b[2K\u001b[32m⠙\u001b[0m Locking...\r",
      "\u001b[2K\u001b[32m⠹\u001b[0m Locking...\r",
      "\u001b[2K\u001b[32m⠸\u001b[0m Locking...\r",
      "\u001b[2K\u001b[32m⠼\u001b[0m Locking...\r",
      "\u001b[2K\u001b[32m⠴\u001b[0m Locking...\r",
      "\u001b[2K\u001b[32m⠦\u001b[0m Locking...\r",
      "\u001b[2K\u001b[32m⠧\u001b[0m Locking...\r",
      "\u001b[2K\u001b[32m⠇\u001b[0m Locking...\r",
      "\u001b[2K\u001b[32m⠏\u001b[0m Locking...\r",
      "\u001b[2K\u001b[32m⠋\u001b[0m Locking...\r",
      "\u001b[2K\u001b[32m⠙\u001b[0m Locking...\r",
      "\u001b[2K\u001b[32m⠹\u001b[0m Locking...\r",
      "\u001b[2K\u001b[32m⠸\u001b[0m Locking...\r",
      "\u001b[2K\u001b[32m⠼\u001b[0m Locking...\r",
      "\u001b[2K\u001b[32m⠴\u001b[0m Locking...\r",
      "\u001b[2K\u001b[32m⠦\u001b[0m Locking...\r",
      "\u001b[2K\u001b[32m⠧\u001b[0m Locking...\r",
      "\u001b[2K\u001b[32m⠇\u001b[0m Locking...\r",
      "\u001b[2K\u001b[32m⠏\u001b[0m Locking...\r",
      "\u001b[2K\u001b[32m⠋\u001b[0m Locking...\r",
      "\u001b[2K\u001b[32m⠙\u001b[0m Locking...\r",
      "\u001b[2K\u001b[32m⠹\u001b[0m Locking...\r",
      "\u001b[2K\u001b[32m⠸\u001b[0m Locking...\r",
      "\u001b[2K\u001b[32m⠼\u001b[0m Locking...\r",
      "\u001b[2K\u001b[32m⠴\u001b[0m Locking...\r",
      "\u001b[2K\u001b[32m⠦\u001b[0m Locking...\r",
      "\u001b[2K\u001b[32m⠧\u001b[0m Locking...\r",
      "\u001b[2K\u001b[32m⠇\u001b[0m Locking...\r",
      "\u001b[2K\u001b[32m⠏\u001b[0m Locking...\r",
      "\u001b[2K\u001b[32m⠋\u001b[0m Locking...\r",
      "\u001b[2K\u001b[32m⠙\u001b[0m Locking...\r",
      "\u001b[2K\u001b[32m⠹\u001b[0m Locking...\r",
      "\u001b[2K\u001b[32m⠸\u001b[0m Locking...\r",
      "\u001b[2K\u001b[32m⠼\u001b[0m Locking...\r",
      "\u001b[2K\u001b[32m⠴\u001b[0m Locking...\r",
      "\u001b[2K\u001b[32m⠦\u001b[0m Locking...\r",
      "\u001b[2K\u001b[32m⠧\u001b[0m Locking...\r",
      "\u001b[2K\u001b[32m⠇\u001b[0m Locking...\r",
      "\u001b[2K\u001b[32m⠏\u001b[0m Locking...\r",
      "\u001b[2K\u001b[32m⠋\u001b[0m Locking...\r",
      "\u001b[2K\u001b[32m⠙\u001b[0m Locking...\r",
      "\u001b[2K\u001b[32m⠹\u001b[0m Locking...\r",
      "\u001b[2K\u001b[32m⠸\u001b[0m Locking...\r",
      "\u001b[2K\u001b[32m⠼\u001b[0m Locking...\r",
      "\u001b[2K\u001b[32m⠴\u001b[0m Locking...\r",
      "\u001b[2K\u001b[32m⠦\u001b[0m Locking...\r",
      "\u001b[2K\u001b[32m⠧\u001b[0m Locking...\r",
      "\u001b[2K\u001b[32m⠇\u001b[0m Locking...\r",
      "\u001b[2K\u001b[32m⠏\u001b[0m Locking...\r",
      "\u001b[2K\u001b[32m⠋\u001b[0m Locking...\r",
      "\u001b[2K\u001b[32m⠙\u001b[0m Locking...\r",
      "\u001b[2K\u001b[32m⠹\u001b[0m Locking...\r",
      "\u001b[2K\u001b[32m⠸\u001b[0m Locking...\r",
      "\u001b[2K\u001b[32m⠼\u001b[0m Locking...\r",
      "\u001b[2K\u001b[32m⠴\u001b[0m Locking...\r",
      "\u001b[2K\u001b[32m⠦\u001b[0m Locking...\r",
      "\u001b[2K\u001b[32m⠧\u001b[0m Locking...\r",
      "\u001b[2K\u001b[32m⠇\u001b[0m Locking...\r",
      "\u001b[2K\u001b[32m⠏\u001b[0m Locking...\r",
      "\u001b[2K\u001b[32m⠋\u001b[0m Locking...\r",
      "\u001b[2K\u001b[32m⠙\u001b[0m Locking...\r",
      "\u001b[2K\u001b[32m⠹\u001b[0m Locking...\r",
      "\u001b[2K\u001b[32m⠸\u001b[0m Locking...\r",
      "\u001b[2K\u001b[32m⠼\u001b[0m Locking...\r",
      "\u001b[2K\u001b[32m⠴\u001b[0m Locking...\r",
      "\u001b[2K\u001b[32m⠦\u001b[0m Locking...\r",
      "\u001b[2K\u001b[32m⠧\u001b[0m Locking...\r",
      "\u001b[2K\u001b[32m⠇\u001b[0m Locking...\r",
      "\u001b[2K\u001b[32m⠏\u001b[0m Locking...\r",
      "\u001b[2K\u001b[32m⠋\u001b[0m Locking...\r",
      "\u001b[2K\u001b[32m⠙\u001b[0m Locking...\r",
      "\u001b[2K\u001b[32m⠹\u001b[0m Locking...\r",
      "\u001b[2K\u001b[32m⠸\u001b[0m Locking...\r",
      "\u001b[2K\u001b[32m⠴\u001b[0m Locking...\r",
      "\u001b[2K\u001b[32m⠦\u001b[0m Locking...\r",
      "\u001b[2K\u001b[32m⠧\u001b[0m Locking...\r",
      "\u001b[2K\u001b[32m⠇\u001b[0m Locking...\r",
      "\u001b[2K\u001b[32m⠏\u001b[0m Locking...\r",
      "\u001b[2K\u001b[32m⠋\u001b[0m Locking...\r",
      "\u001b[2K\u001b[32m⠙\u001b[0m Locking...\r",
      "\u001b[2K\u001b[32m⠹\u001b[0m Locking...\r",
      "\u001b[2K\u001b[32m⠸\u001b[0m Locking...\r",
      "\u001b[2K\u001b[32m⠼\u001b[0m Locking...\r",
      "\u001b[2K\u001b[32m⠴\u001b[0m Locking...\r",
      "\u001b[2K\u001b[32m⠦\u001b[0m Locking...\r",
      "\u001b[2K\u001b[32m⠧\u001b[0m Locking...\r",
      "\u001b[2K\u001b[32m⠇\u001b[0m Locking...\r",
      "\u001b[2K\u001b[32m⠏\u001b[0m Locking...\r",
      "\u001b[2K\u001b[32m⠋\u001b[0m Locking...\r",
      "\u001b[2K\u001b[32m⠙\u001b[0m Locking...\r",
      "\u001b[2K\u001b[32m⠹\u001b[0m Locking...\r",
      "\u001b[2K\u001b[32m⠸\u001b[0m Locking...\r",
      "\u001b[2K\u001b[32m⠼\u001b[0m Locking...\r",
      "\u001b[2K\u001b[32m⠴\u001b[0m Locking...\r",
      "\u001b[2K\u001b[32m⠦\u001b[0m Locking...\r",
      "\u001b[2K\u001b[32m⠧\u001b[0m Locking...\r",
      "\u001b[2K\u001b[32m⠇\u001b[0m Locking...\r",
      "\u001b[2K\u001b[32m⠏\u001b[0m Locking...\r",
      "\u001b[2K\u001b[32m⠋\u001b[0m Locking...\r",
      "\u001b[2K\u001b[32m⠙\u001b[0m Locking...\r",
      "\u001b[2K\u001b[32m⠹\u001b[0m Locking...\r",
      "\u001b[2K\u001b[32m⠸\u001b[0m Locking...\r",
      "\u001b[2K\u001b[32m⠼\u001b[0m Locking...\r",
      "\u001b[2K\u001b[32m⠴\u001b[0m Locking...\r",
      "\u001b[2K\u001b[32m⠦\u001b[0m Locking...\r",
      "\u001b[2K\u001b[32m⠧\u001b[0m Locking...\r",
      "\u001b[2K\u001b[32m⠇\u001b[0m Locking...\r",
      "\u001b[2K\u001b[32m⠏\u001b[0m Locking...\r",
      "\u001b[2K\u001b[32m⠋\u001b[0m Locking...\r",
      "\u001b[2K\u001b[32m⠙\u001b[0m Locking...\r",
      "\u001b[2K\u001b[32m⠹\u001b[0m Locking...\r",
      "\u001b[2K\u001b[32m⠸\u001b[0m Locking...\r",
      "\u001b[2K\u001b[32m⠼\u001b[0m Locking...\r",
      "\u001b[2K\u001b[32m⠴\u001b[0m Locking...\r",
      "\u001b[2K\u001b[32m⠦\u001b[0m Locking...\r",
      "\u001b[2K\u001b[32m⠧\u001b[0m Locking...\r",
      "\u001b[2K\u001b[32m⠇\u001b[0m Locking...\r",
      "\u001b[2K\u001b[32m⠏\u001b[0m Locking...\r",
      "\u001b[2K\u001b[32m⠋\u001b[0m Locking...\r",
      "\u001b[2K\u001b[32m⠙\u001b[0m Locking...\r",
      "\u001b[2K\u001b[32m⠹\u001b[0m Locking...\r",
      "\u001b[2K\u001b[32m⠸\u001b[0m Locking...\r",
      "\u001b[2K\u001b[32m⠼\u001b[0m Locking...\r",
      "\u001b[2K\u001b[32m⠴\u001b[0m Locking...\r",
      "\u001b[2K\u001b[32m⠦\u001b[0m Locking...\r",
      "\u001b[2K\u001b[32m⠧\u001b[0m Locking...\r",
      "\u001b[2K\u001b[32m⠇\u001b[0m Locking...\r",
      "\u001b[2K\u001b[32m⠏\u001b[0m Locking...\r",
      "\u001b[2K\u001b[32m⠋\u001b[0m Locking...\r",
      "\u001b[2K\u001b[32m⠙\u001b[0m Locking...\r",
      "\u001b[2K\u001b[32m⠹\u001b[0m Locking...\r",
      "\u001b[2K\u001b[32m⠸\u001b[0m Locking...\r",
      "\u001b[2K\u001b[32m⠼\u001b[0m Locking...\r",
      "\u001b[2K\u001b[32m⠴\u001b[0m Locking...\r",
      "\u001b[2K\u001b[32m⠦\u001b[0m Locking...\r",
      "\u001b[2K\u001b[32m⠧\u001b[0m Locking...\r",
      "\u001b[2K\u001b[32m⠇\u001b[0m Locking...\r",
      "\u001b[2K\u001b[32m⠏\u001b[0m Locking...\r",
      "\u001b[2K\u001b[32m⠋\u001b[0m Locking...\r",
      "\u001b[2K\u001b[32m⠙\u001b[0m Locking...\r",
      "\u001b[2K\u001b[32m⠹\u001b[0m Locking...\r",
      "\u001b[2K\u001b[32m⠸\u001b[0m Locking...\r",
      "\u001b[2K\u001b[32m⠼\u001b[0m Locking...\r",
      "\u001b[2K\u001b[32m⠴\u001b[0m Locking...\r",
      "\u001b[2K\u001b[32m⠦\u001b[0m Locking...\r",
      "\u001b[2K\u001b[32m⠧\u001b[0m Locking...\r",
      "\u001b[2K\u001b[32m⠇\u001b[0m Locking...\r",
      "\u001b[2K\u001b[32m⠏\u001b[0m Locking...\r",
      "\u001b[2K\u001b[32m⠋\u001b[0m Locking...\r",
      "\u001b[2K\u001b[32m⠙\u001b[0m Locking...\r",
      "\u001b[2K\u001b[32m⠹\u001b[0m Locking...\r",
      "\u001b[2K\u001b[32m⠸\u001b[0m Locking...\r",
      "\u001b[2K\u001b[32m⠼\u001b[0m Locking...\r",
      "\u001b[2K\u001b[32m⠴\u001b[0m Locking...\r",
      "\u001b[2K\u001b[32m⠦\u001b[0m Locking...\r",
      "\u001b[2K\u001b[32m⠧\u001b[0m Locking...\r",
      "\u001b[2K\u001b[32m⠇\u001b[0m Locking...\r",
      "\u001b[2K\u001b[32m⠏\u001b[0m Locking...\r",
      "\u001b[2K\u001b[32m⠋\u001b[0m Locking...\r",
      "\u001b[2K\u001b[32m⠙\u001b[0m Locking...\r",
      "\u001b[2K\u001b[32m⠹\u001b[0m Locking...\r",
      "\u001b[2K\u001b[32m⠸\u001b[0m Locking...\r",
      "\u001b[2K\u001b[32m⠼\u001b[0m Locking...\r",
      "\u001b[2K\u001b[32m⠴\u001b[0m Locking...\r",
      "\u001b[2K\u001b[32m⠦\u001b[0m Locking...\r",
      "\u001b[2K\u001b[32m⠧\u001b[0m Locking...\r",
      "\u001b[2K\u001b[32m⠏\u001b[0m Locking...\r",
      "\u001b[2K\u001b[32m⠋\u001b[0m Locking...\r",
      "\u001b[2K\u001b[32m⠙\u001b[0m Locking...\r",
      "\u001b[2K\u001b[32m⠹\u001b[0m Locking...\r",
      "\u001b[2K\u001b[32m⠸\u001b[0m Locking...\r",
      "\u001b[2K\u001b[32m⠼\u001b[0m Locking...\r",
      "\u001b[2K\u001b[32m⠴\u001b[0m Locking...\r",
      "\u001b[2K\u001b[32m⠦\u001b[0m Locking...\r",
      "\u001b[2K\u001b[32m⠧\u001b[0m Locking...\r",
      "\u001b[2K\u001b[32m⠇\u001b[0m Locking...\r",
      "\u001b[2K\u001b[32m⠏\u001b[0m Locking...\r",
      "\u001b[2K\u001b[32m⠋\u001b[0m Locking...\r",
      "\u001b[2K\u001b[32m⠙\u001b[0m Locking...\r",
      "\u001b[2K\u001b[32m⠹\u001b[0m Locking...\r",
      "\u001b[2K\u001b[32m⠸\u001b[0m Locking...\r",
      "\u001b[2K\u001b[32m⠼\u001b[0m Locking...\r",
      "\u001b[2K\u001b[32m⠴\u001b[0m Locking...\r",
      "\u001b[2K\u001b[32m⠦\u001b[0m Locking...\r",
      "\u001b[2K\u001b[32m⠧\u001b[0m Locking...\r",
      "\u001b[2K\u001b[32m⠇\u001b[0m Locking...\r",
      "\u001b[2K\u001b[32m⠏\u001b[0m Locking...\r",
      "\u001b[2K\u001b[32m⠋\u001b[0m Locking...\r",
      "\u001b[2K\u001b[32m⠙\u001b[0m Locking...\r",
      "\u001b[2K\u001b[32m⠹\u001b[0m Locking...\r",
      "\u001b[2K\u001b[32m⠸\u001b[0m Locking...\r",
      "\u001b[2K\u001b[32m⠼\u001b[0m Locking...\r",
      "\u001b[2K\u001b[32m⠴\u001b[0m Locking...\r",
      "\u001b[2K\u001b[32m⠦\u001b[0m Locking...\r",
      "\u001b[2K\u001b[32m⠧\u001b[0m Locking...\r",
      "\u001b[2K\u001b[32m⠇\u001b[0m Locking...\r",
      "\u001b[2K\u001b[32m⠏\u001b[0m Locking...\r",
      "\u001b[2K\u001b[32m⠋\u001b[0m Locking...\r",
      "\u001b[2K\u001b[32m⠙\u001b[0m Locking...\r",
      "\u001b[2K\u001b[32m⠹\u001b[0m Locking...\r",
      "\u001b[2K\u001b[32m⠸\u001b[0m Locking...\r",
      "\u001b[2K\u001b[32m⠼\u001b[0m Locking...\r",
      "\u001b[2K\u001b[32m⠴\u001b[0m Locking...\r",
      "\u001b[2K\u001b[32m⠦\u001b[0m Locking...\r",
      "\u001b[2K\u001b[32m⠧\u001b[0m Locking...\r",
      "\u001b[2K\u001b[32m⠇\u001b[0m Locking...\r",
      "\u001b[2K\u001b[32m⠏\u001b[0m Locking...\r",
      "\u001b[2K\u001b[32m⠋\u001b[0m Locking...\r",
      "\u001b[2K\u001b[32m⠙\u001b[0m Locking...\r",
      "\u001b[2K\u001b[32m⠹\u001b[0m Locking...\r",
      "\u001b[2K\u001b[32m⠸\u001b[0m Locking...\r",
      "\u001b[2K\u001b[32m⠼\u001b[0m Locking...\r",
      "\u001b[2K\u001b[32m⠴\u001b[0m Locking...\r",
      "\u001b[2K\u001b[32m⠦\u001b[0m Locking...\r",
      "\u001b[2K\u001b[32m⠧\u001b[0m Locking...\r",
      "\u001b[2K\u001b[32m⠇\u001b[0m Locking...\r",
      "\u001b[2K\u001b[32m⠏\u001b[0m Locking...\r",
      "\u001b[2K\u001b[32m⠋\u001b[0m Locking...\r",
      "\u001b[2K\u001b[32m⠙\u001b[0m Locking...\r",
      "\u001b[2K\u001b[32m⠹\u001b[0m Locking...\r",
      "\u001b[2K\u001b[32m⠸\u001b[0m Locking...\r",
      "\u001b[2K\u001b[32m⠼\u001b[0m Locking...\r",
      "\u001b[2K\u001b[32m⠴\u001b[0m Locking...\r",
      "\u001b[2K\u001b[32m⠦\u001b[0m Locking...\r",
      "\u001b[2K\u001b[32m⠧\u001b[0m Locking...\r",
      "\u001b[2K\u001b[32m⠇\u001b[0m Locking...\r",
      "\u001b[2K\u001b[32m⠏\u001b[0m Locking...\r",
      "\u001b[2K\u001b[32m⠋\u001b[0m Locking...\r",
      "\u001b[2K\u001b[32m⠙\u001b[0m Locking...\r",
      "\u001b[2K\u001b[32m⠹\u001b[0m Locking...\r",
      "\u001b[2K\u001b[32m⠸\u001b[0m Locking...\r",
      "\u001b[2K\u001b[32m⠼\u001b[0m Locking...\r",
      "\u001b[2K\u001b[32m⠴\u001b[0m Locking...\r",
      "\u001b[2K\u001b[32m⠦\u001b[0m Locking...\r",
      "\u001b[2K\u001b[32m⠧\u001b[0m Locking...\r",
      "\u001b[2K\u001b[32m⠇\u001b[0m Locking...\r",
      "\u001b[2K\u001b[32m⠏\u001b[0m Locking...\r",
      "\u001b[2K\u001b[32m⠋\u001b[0m Locking...\r",
      "\u001b[2K\u001b[32m⠙\u001b[0m Locking...\r",
      "\u001b[2K\u001b[32m⠹\u001b[0m Locking...\r",
      "\u001b[2K\u001b[32m⠸\u001b[0m Locking...\r",
      "\u001b[2K\u001b[32m⠼\u001b[0m Locking...\r",
      "\u001b[2K\u001b[32m⠴\u001b[0m Locking...\r",
      "\u001b[2K\u001b[32m⠦\u001b[0m Locking...\r",
      "\u001b[2K\u001b[32m⠧\u001b[0m Locking...\r",
      "\u001b[2K\u001b[32m⠇\u001b[0m Locking...\r",
      "\u001b[2K\u001b[32m⠏\u001b[0m Locking...\r",
      "\u001b[2K\u001b[32m⠋\u001b[0m Locking...\r",
      "\u001b[2K\u001b[32m⠙\u001b[0m Locking...\r",
      "\u001b[2K\u001b[32m⠹\u001b[0m Locking...\r",
      "\u001b[2K\u001b[32m⠸\u001b[0m Locking...\r",
      "\u001b[2K\u001b[32m⠼\u001b[0m Locking...\r",
      "\u001b[2K\u001b[32m⠴\u001b[0m Locking...\r",
      "\u001b[2K\u001b[32m⠦\u001b[0m Locking...\r",
      "\u001b[2K\u001b[32m⠧\u001b[0m Locking...\r",
      "\u001b[2K\u001b[32m⠇\u001b[0m Locking...\r",
      "\u001b[2K\u001b[32m⠏\u001b[0m Locking...\r",
      "\u001b[2K\u001b[32m⠋\u001b[0m Locking...\r",
      "\u001b[2K\u001b[32m⠙\u001b[0m Locking...\r",
      "\u001b[2K\u001b[32m⠹\u001b[0m Locking...\r",
      "\u001b[2K\u001b[32m⠼\u001b[0m Locking...\r",
      "\u001b[2K\u001b[32m⠴\u001b[0m Locking...\r",
      "\u001b[2K\u001b[32m⠦\u001b[0m Locking...\r",
      "\u001b[2K\u001b[32m⠧\u001b[0m Locking...\r",
      "\u001b[2K\u001b[32m⠇\u001b[0m Locking...\r",
      "\u001b[2K\u001b[32m⠏\u001b[0m Locking...\r",
      "\u001b[2K\u001b[32m⠋\u001b[0m Locking...\r",
      "\u001b[2K\u001b[32m⠙\u001b[0m Locking...\r",
      "\u001b[2K\u001b[32m⠹\u001b[0m Locking...\r",
      "\u001b[2K\u001b[32m⠸\u001b[0m Locking...\r",
      "\u001b[2K\u001b[32m⠼\u001b[0m Locking...\r",
      "\u001b[2K\u001b[32m⠴\u001b[0m Locking...\r",
      "\u001b[2K\u001b[32m⠦\u001b[0m Locking...\r",
      "\u001b[2K\u001b[32m⠧\u001b[0m Locking...\r",
      "\u001b[2K\u001b[32m⠇\u001b[0m Locking...\r",
      "\u001b[2K\u001b[32m⠏\u001b[0m Locking...\r",
      "\u001b[2K\u001b[32m⠋\u001b[0m Locking...\r",
      "\u001b[2K\u001b[32m⠙\u001b[0m Locking...\r",
      "\u001b[2K\u001b[32m⠹\u001b[0m Locking...\r",
      "\u001b[2K\u001b[32m⠸\u001b[0m Locking...\r",
      "\u001b[2K\u001b[32m⠼\u001b[0m Locking...\r",
      "\u001b[2K\u001b[32m⠴\u001b[0m Locking...\r",
      "\u001b[2K\u001b[32m⠦\u001b[0m Locking...\r",
      "\u001b[2K\u001b[32m⠧\u001b[0m Locking...\r",
      "\u001b[2K\u001b[32m⠇\u001b[0m Locking...\r",
      "\u001b[2K\u001b[32m⠏\u001b[0m Locking...\r",
      "\u001b[2K\u001b[32m⠋\u001b[0m Locking...\r",
      "\u001b[2K\u001b[32m⠙\u001b[0m Locking...\r",
      "\u001b[2K\u001b[32m⠹\u001b[0m Locking...\r",
      "\u001b[2K\u001b[32m⠸\u001b[0m Locking...\r",
      "\u001b[2K\u001b[32m⠼\u001b[0m Locking...\r",
      "\u001b[2K\u001b[32m⠴\u001b[0m Locking...\r",
      "\u001b[2K\u001b[32m⠦\u001b[0m Locking...\r",
      "\u001b[2K\u001b[32m⠧\u001b[0m Locking...\r",
      "\u001b[2K\u001b[32m⠇\u001b[0m Locking...\r",
      "\u001b[2K\u001b[32m⠏\u001b[0m Locking...\r",
      "\u001b[2K\u001b[32m⠋\u001b[0m Locking...\r",
      "\u001b[2K\u001b[32m⠙\u001b[0m Locking...\r",
      "\u001b[2K\u001b[32m⠹\u001b[0m Locking...\r",
      "\u001b[2K\u001b[32m⠸\u001b[0m Locking...\r",
      "\u001b[2K\u001b[32m⠼\u001b[0m Locking...\r",
      "\u001b[2K\u001b[32m⠴\u001b[0m Locking...\r",
      "\u001b[2K\u001b[32m⠦\u001b[0m Locking...\r",
      "\u001b[2K\u001b[32m⠧\u001b[0m Locking...\r",
      "\u001b[2K\u001b[32m⠇\u001b[0m Locking...\r",
      "\u001b[2K\u001b[32m⠏\u001b[0m Locking...\r",
      "\u001b[2K\u001b[32m⠋\u001b[0m Locking...\r",
      "\u001b[2K\u001b[32m⠙\u001b[0m Locking...\r",
      "\u001b[2K\u001b[32m⠹\u001b[0m Locking...\r",
      "\u001b[2K\u001b[32m⠸\u001b[0m Locking...\r",
      "\u001b[2K\u001b[32m⠼\u001b[0m Locking...\r",
      "\u001b[2K\u001b[32m⠴\u001b[0m Locking...\r",
      "\u001b[2K\u001b[32m⠦\u001b[0m Locking...\r",
      "\u001b[2K\u001b[32m⠧\u001b[0m Locking...\r",
      "\u001b[2K\u001b[32m⠇\u001b[0m Locking...\r",
      "\u001b[2K\u001b[32m⠏\u001b[0m Locking...\r",
      "\u001b[2K\u001b[32m⠋\u001b[0m Locking...\r",
      "\u001b[2K\u001b[32m⠙\u001b[0m Locking...\r",
      "\u001b[2K\u001b[32m⠹\u001b[0m Locking...\r",
      "\u001b[2K\u001b[32m⠸\u001b[0m Locking...\r",
      "\u001b[2K\u001b[32m⠼\u001b[0m Locking...\r",
      "\u001b[2K\u001b[32m⠴\u001b[0m Locking...\r",
      "\u001b[2K\u001b[32m⠦\u001b[0m Locking...\r",
      "\u001b[2K\u001b[32m⠧\u001b[0m Locking...\r",
      "\u001b[2K\u001b[32m⠇\u001b[0m Locking...\r",
      "\u001b[2K\u001b[32m⠏\u001b[0m Locking...\r",
      "\u001b[2K\u001b[32m⠋\u001b[0m Locking...\r",
      "\u001b[2K\u001b[32m⠙\u001b[0m Locking...\r",
      "\u001b[2K\u001b[32m⠹\u001b[0m Locking...\r",
      "\u001b[2K\u001b[32m⠸\u001b[0m Locking...\r",
      "\u001b[2K\u001b[32m⠼\u001b[0m Locking...\r",
      "\u001b[2K\u001b[32m⠴\u001b[0m Locking...\r",
      "\u001b[2K\u001b[32m⠦\u001b[0m Locking...\r",
      "\u001b[2K\u001b[32m⠧\u001b[0m Locking...\r",
      "\u001b[2K\u001b[32m⠇\u001b[0m Locking...\r",
      "\u001b[2K\u001b[32m⠏\u001b[0m Locking...\r",
      "\u001b[2K\u001b[32m⠋\u001b[0m Locking...\r",
      "\u001b[2K\u001b[32m⠙\u001b[0m Locking...\r",
      "\u001b[2K\u001b[32m⠹\u001b[0m Locking...\r",
      "\u001b[2K\u001b[32m⠸\u001b[0m Locking...\r",
      "\u001b[2K\u001b[32m⠼\u001b[0m Locking...\r",
      "\u001b[2K\u001b[32m⠴\u001b[0m Locking...\r",
      "\u001b[2K\u001b[32m⠦\u001b[0m Locking...\r",
      "\u001b[2K\u001b[32m⠧\u001b[0m Locking...\r",
      "\u001b[2K\u001b[32m⠇\u001b[0m Locking...\r",
      "\u001b[2K\u001b[32m⠏\u001b[0m Locking...\r",
      "\u001b[2K\u001b[32m⠋\u001b[0m Locking...\r",
      "\u001b[2K\u001b[32m⠙\u001b[0m Locking...\r",
      "\u001b[2K\u001b[32m⠸\u001b[0m Locking...\r",
      "\u001b[2K\u001b[32m⠼\u001b[0m Locking...\r",
      "\u001b[2K\u001b[32m⠴\u001b[0m Locking...\r",
      "\u001b[2K\u001b[32m⠦\u001b[0m Locking...\r",
      "\u001b[2K\u001b[32m⠧\u001b[0m Locking...\r",
      "\u001b[2K\u001b[32m⠇\u001b[0m Locking...\r",
      "\u001b[2K\u001b[32m⠏\u001b[0m Locking...\r",
      "\u001b[2K\u001b[32m⠋\u001b[0m Locking...\r",
      "\u001b[2K\u001b[32m⠙\u001b[0m Locking...\r",
      "\u001b[2K\u001b[32m⠹\u001b[0m Locking...\r",
      "\u001b[2K\u001b[32m⠸\u001b[0m Locking...\r",
      "\u001b[2K\u001b[32m⠼\u001b[0m Locking...\r",
      "\u001b[2K\u001b[32m⠴\u001b[0m Locking...\r",
      "\u001b[2K\u001b[32m⠦\u001b[0m Locking...\r",
      "\u001b[2K\u001b[32m⠧\u001b[0m Locking...\r",
      "\u001b[2K\u001b[32m⠇\u001b[0m Locking...\r",
      "\u001b[2K\u001b[32m⠏\u001b[0m Locking...\r",
      "\u001b[2K\u001b[32m⠋\u001b[0m Locking...\r",
      "\u001b[2K\u001b[32m⠙\u001b[0m Locking...\r",
      "\u001b[2K\u001b[32m⠹\u001b[0m Locking...\r",
      "\u001b[2K\u001b[32m⠸\u001b[0m Locking...\r",
      "\u001b[2K\u001b[32m⠼\u001b[0m Locking...\r",
      "\u001b[2K\u001b[32m⠴\u001b[0m Locking...\r",
      "\u001b[2K\u001b[32m⠦\u001b[0m Locking...\r",
      "\u001b[2K\u001b[32m⠧\u001b[0m Locking...\r",
      "\u001b[2K\u001b[32m⠇\u001b[0m Locking...\r",
      "\u001b[2K\u001b[32m⠏\u001b[0m Locking...\r",
      "\u001b[2K\u001b[32m⠋\u001b[0m Locking...\r",
      "\u001b[2K\u001b[32m⠙\u001b[0m Locking...\r",
      "\u001b[2K\u001b[32m⠹\u001b[0m Locking...\r",
      "\u001b[2K\u001b[32m⠸\u001b[0m Locking...\r",
      "\u001b[2K\u001b[32m⠼\u001b[0m Locking...\r",
      "\u001b[2K\u001b[32m⠴\u001b[0m Locking...\r",
      "\u001b[2K\u001b[32m⠦\u001b[0m Locking...\r",
      "\u001b[2K\u001b[32m⠧\u001b[0m Locking...\r",
      "\u001b[2K\u001b[32m⠇\u001b[0m Locking...\r",
      "\u001b[2K\u001b[32m⠏\u001b[0m Locking...\r",
      "\u001b[2K\u001b[32m⠋\u001b[0m Locking...\r",
      "\u001b[2K\u001b[32m⠙\u001b[0m Locking...\r",
      "\u001b[2K\u001b[32m⠹\u001b[0m Locking...\r",
      "\u001b[2K\u001b[32m⠸\u001b[0m Locking...\r",
      "\u001b[2K\u001b[32m⠼\u001b[0m Locking...\r",
      "\u001b[2K\u001b[32m⠴\u001b[0m Locking...\r",
      "\u001b[2K\u001b[32m⠦\u001b[0m Locking...\r",
      "\u001b[2K\u001b[32m⠧\u001b[0m Locking...\r",
      "\u001b[2K\u001b[32m⠇\u001b[0m Locking...\r",
      "\u001b[2K\u001b[32m⠏\u001b[0m Locking...\r",
      "\u001b[2K\u001b[32m⠋\u001b[0m Locking...\r",
      "\u001b[2K\u001b[32m⠙\u001b[0m Locking...\r",
      "\u001b[2K\u001b[32m⠹\u001b[0m Locking...\r",
      "\u001b[2K\u001b[32m⠸\u001b[0m Locking...\r",
      "\u001b[2K\u001b[32m⠼\u001b[0m Locking...\r",
      "\u001b[2K\u001b[32m⠴\u001b[0m Locking...\r",
      "\u001b[2K\u001b[32m⠦\u001b[0m Locking...\r",
      "\u001b[2K\u001b[32m⠧\u001b[0m Locking...\r",
      "\u001b[2K\u001b[32m⠇\u001b[0m Locking...\r",
      "\u001b[2K\u001b[32m⠏\u001b[0m Locking...\r",
      "\u001b[2K\u001b[32m⠋\u001b[0m Locking...\r",
      "\u001b[2K\u001b[32m⠙\u001b[0m Locking...\r",
      "\u001b[2K\u001b[32m⠹\u001b[0m Locking...\r",
      "\u001b[2K\u001b[32m⠸\u001b[0m Locking...\r",
      "\u001b[2K\u001b[32m⠼\u001b[0m Locking...\r",
      "\u001b[2K\u001b[32m⠴\u001b[0m Locking...\r",
      "\u001b[2K\u001b[32m⠦\u001b[0m Locking...\r",
      "\u001b[2K\u001b[32m⠧\u001b[0m Locking...\r",
      "\u001b[2K\u001b[32m⠇\u001b[0m Locking...\r",
      "\u001b[2K\u001b[32m⠏\u001b[0m Locking...\r",
      "\u001b[2K\u001b[32m⠋\u001b[0m Locking...\r",
      "\u001b[2K\u001b[32m⠙\u001b[0m Locking...\r",
      "\u001b[2K\u001b[32m⠹\u001b[0m Locking...\r",
      "\u001b[2K\u001b[32m⠸\u001b[0m Locking...\r",
      "\u001b[2K\u001b[32m⠼\u001b[0m Locking...\r",
      "\u001b[2K\u001b[32m⠴\u001b[0m Locking...\r",
      "\u001b[2K\u001b[32m⠦\u001b[0m Locking...\r",
      "\u001b[2K\u001b[32m⠧\u001b[0m Locking...\r",
      "\u001b[2K\u001b[32m⠇\u001b[0m Locking...\r",
      "\u001b[2K\u001b[32m⠏\u001b[0m Locking...\r",
      "\u001b[2K\u001b[32m⠋\u001b[0m Locking...\r",
      "\u001b[2K\u001b[32m⠙\u001b[0m Locking...\r",
      "\u001b[2K\u001b[32m⠹\u001b[0m Locking...\r",
      "\u001b[2K\u001b[32m⠸\u001b[0m Locking...\r",
      "\u001b[2K\u001b[32m⠼\u001b[0m Locking...\r",
      "\u001b[2K\u001b[32m⠴\u001b[0m Locking...\r",
      "\u001b[2K\u001b[32m⠦\u001b[0m Locking...\r",
      "\u001b[2K\u001b[32m⠧\u001b[0m Locking...\r",
      "\u001b[2K\u001b[32m⠇\u001b[0m Locking...\r",
      "\u001b[2K\u001b[32m⠏\u001b[0m Locking...\r",
      "\u001b[2K\u001b[32m⠋\u001b[0m Locking...\r",
      "\u001b[2K\u001b[32m⠙\u001b[0m Locking...\r",
      "\u001b[2K\u001b[32m⠹\u001b[0m Locking...\r",
      "\u001b[2K\u001b[32m⠼\u001b[0m Locking...\r",
      "\u001b[2K\u001b[32m⠴\u001b[0m Locking...\r",
      "\u001b[2K\u001b[32m⠦\u001b[0m Locking...\r",
      "\u001b[2K\u001b[32m⠧\u001b[0m Locking...\r",
      "\u001b[2K\u001b[32m⠇\u001b[0m Locking...\r",
      "\u001b[2K\u001b[32m⠏\u001b[0m Locking...\r",
      "\u001b[2K\u001b[32m⠋\u001b[0m Locking...\r",
      "\u001b[2K\u001b[32m⠙\u001b[0m Locking...\r",
      "\u001b[2K\u001b[32m⠹\u001b[0m Locking...\r",
      "\u001b[2K\u001b[32m⠸\u001b[0m Locking...\r",
      "\u001b[2K\u001b[32m⠼\u001b[0m Locking...\r",
      "\u001b[2K\u001b[32m⠴\u001b[0m Locking...\r",
      "\u001b[2K\u001b[32m⠦\u001b[0m Locking...\r",
      "\u001b[2K\u001b[32m⠧\u001b[0m Locking...\r",
      "\u001b[2K\u001b[32m⠇\u001b[0m Locking...\r",
      "\u001b[2K\u001b[32m⠏\u001b[0m Locking...\r",
      "\u001b[2K\u001b[32m⠋\u001b[0m Locking...\r",
      "\u001b[2K\u001b[32m⠙\u001b[0m Locking...\r",
      "\u001b[2K\u001b[32m⠹\u001b[0m Locking...\r",
      "\u001b[2K\u001b[32m⠸\u001b[0m Locking...\r",
      "\u001b[2K\u001b[32m⠼\u001b[0m Locking...\r",
      "\u001b[2K\u001b[32m⠴\u001b[0m Locking...\r",
      "\u001b[2K\u001b[32m⠦\u001b[0m Locking...\r",
      "\u001b[2K\u001b[32m⠧\u001b[0m Locking...\r",
      "\u001b[2K\u001b[32m⠇\u001b[0m Locking...\r",
      "\u001b[2K\u001b[32m⠏\u001b[0m Locking...\r",
      "\u001b[2K\u001b[32m⠋\u001b[0m Locking...\r",
      "\u001b[2K\u001b[32m⠙\u001b[0m Locking...\r",
      "\u001b[2K\u001b[32m⠹\u001b[0m Locking...\r",
      "\u001b[2K\u001b[32m⠸\u001b[0m Locking...\r",
      "\u001b[2K\u001b[32m⠼\u001b[0m Locking...\r",
      "\u001b[2K\u001b[32m⠴\u001b[0m Locking...\r",
      "\u001b[2K\u001b[32m⠦\u001b[0m Locking...\r",
      "\u001b[2K\u001b[32m⠧\u001b[0m Locking...\r",
      "\u001b[2K\u001b[32m⠇\u001b[0m Locking...\r",
      "\u001b[2K\u001b[32m⠏\u001b[0m Locking...\r",
      "\u001b[2K\u001b[32m⠋\u001b[0m Locking...\r",
      "\u001b[2K\u001b[32m⠙\u001b[0m Locking...\r",
      "\u001b[2K\u001b[32m⠹\u001b[0m Locking...\r",
      "\u001b[2K\u001b[32m⠸\u001b[0m Locking...\r",
      "\u001b[2K\u001b[32m⠼\u001b[0m Locking...\r",
      "\u001b[2K\u001b[32m⠴\u001b[0m Locking...\r",
      "\u001b[2K\u001b[32m⠦\u001b[0m Locking...\r",
      "\u001b[2K\u001b[32m⠧\u001b[0m Locking...\r",
      "\u001b[2K\u001b[32m⠇\u001b[0m Locking...\r",
      "\u001b[2K\u001b[32m⠏\u001b[0m Locking...\r",
      "\u001b[2K\u001b[32m⠋\u001b[0m Locking...\r",
      "\u001b[2K\u001b[32m⠙\u001b[0m Locking...\r",
      "\u001b[2K\u001b[32m⠹\u001b[0m Locking...\r",
      "\u001b[2K\u001b[32m⠸\u001b[0m Locking...\r",
      "\u001b[2K\u001b[32m⠼\u001b[0m Locking...\r",
      "\u001b[2K\u001b[32m⠴\u001b[0m Locking...\r",
      "\u001b[2K\u001b[32m⠦\u001b[0m Locking...\r",
      "\u001b[2K\u001b[32m⠧\u001b[0m Locking...\r",
      "\u001b[2K\u001b[32m⠇\u001b[0m Locking...\r",
      "\u001b[2K\u001b[32m⠏\u001b[0m Locking...\r",
      "\u001b[2K\u001b[32m⠋\u001b[0m Locking...\r",
      "\u001b[2K\u001b[32m⠙\u001b[0m Locking...\r",
      "\u001b[2K\u001b[32m⠹\u001b[0m Locking...\r",
      "\u001b[2K\u001b[32m⠸\u001b[0m Locking...\r",
      "\u001b[2K\u001b[32m⠼\u001b[0m Locking...\r",
      "\u001b[2K\u001b[32m⠴\u001b[0m Locking...\r",
      "\u001b[2K\u001b[32m⠦\u001b[0m Locking...\r",
      "\u001b[2K\u001b[32m⠧\u001b[0m Locking...\r",
      "\u001b[2K\u001b[32m⠇\u001b[0m Locking...\r",
      "\u001b[2K\u001b[32m⠏\u001b[0m Locking...\r",
      "\u001b[2K\u001b[32m⠋\u001b[0m Locking...\r",
      "\u001b[2K\u001b[32m⠙\u001b[0m Locking...\r",
      "\u001b[2K\u001b[32m⠹\u001b[0m Locking...\r",
      "\u001b[2K\u001b[32m⠸\u001b[0m Locking...\r",
      "\u001b[2K\u001b[32m⠼\u001b[0m Locking...\r",
      "\u001b[2K\u001b[32m⠴\u001b[0m Locking...\r",
      "\u001b[2K\u001b[32m⠦\u001b[0m Locking...\r",
      "\u001b[2K\u001b[32m⠧\u001b[0m Locking...\r",
      "\u001b[2K\u001b[32m⠇\u001b[0m Locking...\r",
      "\u001b[2K\u001b[32m⠏\u001b[0m Locking...\r",
      "\u001b[2K\u001b[32m⠋\u001b[0m Locking...\r",
      "\u001b[2K\u001b[32m⠙\u001b[0m Locking...\r",
      "\u001b[2K\u001b[32m⠹\u001b[0m Locking...\r",
      "\u001b[2K\u001b[32m⠸\u001b[0m Locking...\r",
      "\u001b[2K\u001b[32m⠼\u001b[0m Locking...\r",
      "\u001b[2K\u001b[32m⠴\u001b[0m Locking...\r",
      "\u001b[2K\u001b[32m⠦\u001b[0m Locking...\r",
      "\u001b[2K\u001b[32m⠧\u001b[0m Locking...\r",
      "\u001b[2K\u001b[32m⠇\u001b[0m Locking...\r",
      "\u001b[2K\u001b[32m⠏\u001b[0m Locking...\r",
      "\u001b[2K\u001b[32m⠋\u001b[0m Locking...\r",
      "\u001b[2K\u001b[32m⠙\u001b[0m Locking...\r",
      "\u001b[2K\u001b[32m⠹\u001b[0m Locking...\r",
      "\u001b[2K\u001b[32m⠼\u001b[0m Locking...\r",
      "\u001b[2K\u001b[32m⠴\u001b[0m Locking...\r",
      "\u001b[2K\u001b[32m⠦\u001b[0m Locking...\r",
      "\u001b[2K\u001b[32m⠧\u001b[0m Locking...\r",
      "\u001b[2K\u001b[32m⠇\u001b[0m Locking...\r",
      "\u001b[2K\u001b[32m⠏\u001b[0m Locking...\r",
      "\u001b[2K\u001b[32m⠋\u001b[0m Locking...\r",
      "\u001b[2K\u001b[32m⠙\u001b[0m Locking...\r",
      "\u001b[2K\u001b[32m⠹\u001b[0m Locking...\r",
      "\u001b[2K\u001b[32m⠸\u001b[0m Locking...\r",
      "\u001b[2K\u001b[32m⠼\u001b[0m Locking...\r",
      "\u001b[2K\u001b[32m⠴\u001b[0m Locking...\r",
      "\u001b[2K\u001b[32m⠦\u001b[0m Locking...\r",
      "\u001b[2K\u001b[32m⠧\u001b[0m Locking...\r",
      "\u001b[2K\u001b[32m⠇\u001b[0m Locking...\r",
      "\u001b[2K\u001b[32m⠏\u001b[0m Locking...\r",
      "\u001b[2K\u001b[32m⠋\u001b[0m Locking...\r",
      "\u001b[2K\u001b[32m⠙\u001b[0m Locking...\r",
      "\u001b[2K\u001b[32m⠹\u001b[0m Locking...\r",
      "\u001b[2K\u001b[32m⠸\u001b[0m Locking...\r",
      "\u001b[2K\u001b[32m⠼\u001b[0m Locking...\r",
      "\u001b[2K\u001b[32m⠴\u001b[0m Locking...\r",
      "\u001b[2K\u001b[32m⠦\u001b[0m Locking...\r",
      "\u001b[2K\u001b[32m⠧\u001b[0m Locking...\r",
      "\u001b[2K\u001b[32m⠇\u001b[0m Locking...\r",
      "\u001b[2K\u001b[32m⠏\u001b[0m Locking...\r",
      "\u001b[2K\u001b[32m⠋\u001b[0m Locking...\r",
      "\u001b[2K\u001b[32m⠙\u001b[0m Locking...\r",
      "\u001b[2K\u001b[32m⠹\u001b[0m Locking...\r",
      "\u001b[2K\u001b[32m⠸\u001b[0m Locking...\r",
      "\u001b[2K\u001b[32m⠼\u001b[0m Locking...\r",
      "\u001b[2K\u001b[32m⠴\u001b[0m Locking...\r",
      "\u001b[2K\u001b[32m⠦\u001b[0m Locking...\r",
      "\u001b[2K\u001b[32m⠧\u001b[0m Locking...\r",
      "\u001b[2K\u001b[32m⠇\u001b[0m Locking...\r",
      "\u001b[2K\u001b[32m⠏\u001b[0m Locking...\r",
      "\u001b[2K\u001b[32m⠋\u001b[0m Locking...\r",
      "\u001b[2K\u001b[32m⠙\u001b[0m Locking...\r",
      "\u001b[2K\u001b[32m⠹\u001b[0m Locking...\r",
      "\u001b[2K\u001b[32m⠸\u001b[0m Locking...\r",
      "\u001b[2K\u001b[32m⠼\u001b[0m Locking...\r",
      "\u001b[2K\u001b[32m⠴\u001b[0m Locking...\r",
      "\u001b[2K\u001b[32m⠦\u001b[0m Locking...\r",
      "\u001b[2K\u001b[32m⠧\u001b[0m Locking...\r",
      "\u001b[2K\u001b[32m⠇\u001b[0m Locking...\r",
      "\u001b[2K\u001b[32m⠏\u001b[0m Locking...\r",
      "\u001b[2K\u001b[32m⠋\u001b[0m Locking...\r",
      "\u001b[2K\u001b[32m⠙\u001b[0m Locking...\r",
      "\u001b[2K\u001b[32m⠹\u001b[0m Locking...\r",
      "\u001b[2K\u001b[32m⠸\u001b[0m Locking...\r",
      "\u001b[2K\u001b[32m⠼\u001b[0m Locking...\r",
      "\u001b[2K\u001b[32m⠴\u001b[0m Locking...\r",
      "\u001b[2K\u001b[32m⠦\u001b[0m Locking...\r",
      "\u001b[2K\u001b[32m⠧\u001b[0m Locking...\r",
      "\u001b[2K\u001b[32m⠇\u001b[0m Locking...\r",
      "\u001b[2K\u001b[32m⠏\u001b[0m Locking...\r",
      "\u001b[2K\u001b[32m⠋\u001b[0m Locking...\r",
      "\u001b[2K\u001b[32m⠙\u001b[0m Locking...\r",
      "\u001b[2K\u001b[32m⠹\u001b[0m Locking...\r",
      "\u001b[2K\u001b[32m⠸\u001b[0m Locking...\r",
      "\u001b[2K\u001b[32m⠼\u001b[0m Locking...\r",
      "\u001b[2K\u001b[32m⠴\u001b[0m Locking...\r",
      "\u001b[2K\u001b[32m⠦\u001b[0m Locking...\r",
      "\u001b[2K\u001b[32m⠧\u001b[0m Locking...\r",
      "\u001b[2K\u001b[32m⠇\u001b[0m Locking...\r",
      "\u001b[2K\u001b[32m⠏\u001b[0m Locking...\r",
      "\u001b[2K\u001b[32m⠋\u001b[0m Locking...\r",
      "\u001b[2K\u001b[32m⠙\u001b[0m Locking...\r",
      "\u001b[2K\u001b[32m⠹\u001b[0m Locking...\r",
      "\u001b[2K\u001b[32m⠸\u001b[0m Locking...\r",
      "\u001b[2K\u001b[32m⠼\u001b[0m Locking...\r",
      "\u001b[2K\u001b[32m⠴\u001b[0m Locking...\r",
      "\u001b[2K\u001b[32m⠦\u001b[0m Locking...\r",
      "\u001b[2K\u001b[32m⠧\u001b[0m Locking...\r",
      "\u001b[2K\u001b[32m⠇\u001b[0m Locking...\r",
      "\u001b[2K\u001b[32m⠏\u001b[0m Locking...\r",
      "\u001b[2K\u001b[32m⠋\u001b[0m Locking...\r",
      "\u001b[2K\u001b[32m⠙\u001b[0m Locking...\r",
      "\u001b[2K\u001b[32m⠹\u001b[0m Locking...\r",
      "\u001b[2K\u001b[32m⠸\u001b[0m Locking...\r",
      "\u001b[2K\u001b[32m⠼\u001b[0m Locking...\r",
      "\u001b[2K\u001b[32m⠴\u001b[0m Locking...\r",
      "\u001b[2K\u001b[32m⠦\u001b[0m Locking...\r",
      "\u001b[2K\u001b[32m⠧\u001b[0m Locking...\r",
      "\u001b[2K\u001b[32m⠇\u001b[0m Locking...\r",
      "\u001b[2K\u001b[32m⠏\u001b[0m Locking...\r",
      "\u001b[2K\u001b[32m⠋\u001b[0m Locking...\r",
      "\u001b[2K\u001b[32m⠙\u001b[0m Locking...\r",
      "\u001b[2K\u001b[32m⠹\u001b[0m Locking...\r",
      "\u001b[2K\u001b[32m⠸\u001b[0m Locking...\r",
      "\u001b[2K\u001b[32m⠼\u001b[0m Locking...\r",
      "\u001b[2K\u001b[32m⠴\u001b[0m Locking...\r",
      "\u001b[2K\u001b[32m⠦\u001b[0m Locking...\r",
      "\u001b[2K\u001b[32m⠇\u001b[0m Locking...\r",
      "\u001b[2K\u001b[32m⠏\u001b[0m Locking...\r",
      "\u001b[2K\u001b[32m⠋\u001b[0m Locking...\r",
      "\u001b[2K\u001b[32m⠙\u001b[0m Locking...\r",
      "\u001b[2K\u001b[32m⠹\u001b[0m Locking...\r",
      "\u001b[2K\u001b[32m⠸\u001b[0m Locking...\r",
      "\u001b[2K\u001b[32m⠼\u001b[0m Locking...\r",
      "\u001b[2K\u001b[32m⠴\u001b[0m Locking...\r",
      "\u001b[2K\u001b[32m⠦\u001b[0m Locking...\r",
      "\u001b[2K\u001b[32m⠧\u001b[0m Locking...\r",
      "\u001b[2K\u001b[32m⠇\u001b[0m Locking...\r",
      "\u001b[2K\u001b[32m⠏\u001b[0m Locking...\r",
      "\u001b[2K\u001b[32m⠋\u001b[0m Locking...\r",
      "\u001b[2K\u001b[32m⠙\u001b[0m Locking...\r",
      "\u001b[2K\u001b[32m⠹\u001b[0m Locking...\r",
      "\u001b[2K\u001b[32m⠸\u001b[0m Locking...\r",
      "\u001b[2K\u001b[32m⠼\u001b[0m Locking...\r",
      "\u001b[2K\u001b[32m⠴\u001b[0m Locking...\r",
      "\u001b[2K\u001b[32m⠦\u001b[0m Locking...\r",
      "\u001b[2K\u001b[32m⠧\u001b[0m Locking...\r",
      "\u001b[2K\u001b[32m⠇\u001b[0m Locking...\r",
      "\u001b[2K\u001b[32m⠏\u001b[0m Locking...\r",
      "\u001b[2K\u001b[32m⠋\u001b[0m Locking...\r",
      "\u001b[2K\u001b[32m⠙\u001b[0m Locking...\r",
      "\u001b[2K\u001b[32m⠹\u001b[0m Locking...\r",
      "\u001b[2K\u001b[32m⠸\u001b[0m Locking...\r",
      "\u001b[2K\u001b[32m⠼\u001b[0m Locking...\r",
      "\u001b[2K\u001b[32m⠴\u001b[0m Locking...\r",
      "\u001b[2K\u001b[32m⠦\u001b[0m Locking...\r",
      "\u001b[2K\u001b[32m⠧\u001b[0m Locking...\r",
      "\u001b[2K\u001b[32m⠇\u001b[0m Locking...\r",
      "\u001b[2K\u001b[32m⠏\u001b[0m Locking...\r",
      "\u001b[2K\u001b[32m⠋\u001b[0m Locking...\r",
      "\u001b[2K\u001b[32m⠙\u001b[0m Locking...\r",
      "\u001b[2K\u001b[32m⠹\u001b[0m Locking...\r",
      "\u001b[2K\u001b[32m⠸\u001b[0m Locking...\r",
      "\u001b[2K\u001b[32m⠼\u001b[0m Locking...\r",
      "\u001b[2K\u001b[32m⠴\u001b[0m Locking...\r",
      "\u001b[2K\u001b[32m⠦\u001b[0m Locking...\r",
      "\u001b[2K\u001b[32m⠧\u001b[0m Locking...\r",
      "\u001b[2K\u001b[32m⠇\u001b[0m Locking...\r",
      "\u001b[2K\u001b[32m⠏\u001b[0m Locking...\r",
      "\u001b[2K\u001b[32m⠋\u001b[0m Locking...\r",
      "\u001b[2K\u001b[32m⠙\u001b[0m Locking...\r",
      "\u001b[2K\u001b[32m⠹\u001b[0m Locking...\r",
      "\u001b[2K\u001b[32m⠸\u001b[0m Locking...\r",
      "\u001b[2K\u001b[32m⠼\u001b[0m Locking...\r",
      "\u001b[2K\u001b[32m⠴\u001b[0m Locking...\r",
      "\u001b[2K\u001b[32m⠦\u001b[0m Locking...\r",
      "\u001b[2K\u001b[32m⠧\u001b[0m Locking...\r",
      "\u001b[2K\u001b[32m⠇\u001b[0m Locking...\r",
      "\u001b[2K\u001b[32m⠏\u001b[0m Locking...\r",
      "\u001b[2K\u001b[32m⠋\u001b[0m Locking...\r",
      "\u001b[2K\u001b[32m⠙\u001b[0m Locking...\r",
      "\u001b[2K\u001b[32m⠹\u001b[0m Locking...\r",
      "\u001b[2K\u001b[32m⠸\u001b[0m Locking...\r",
      "\u001b[2K\u001b[32m⠼\u001b[0m Locking...\r",
      "\u001b[2K\u001b[32m⠴\u001b[0m Locking...\r",
      "\u001b[2K\u001b[32m⠦\u001b[0m Locking...\r",
      "\u001b[2K\u001b[32m⠧\u001b[0m Locking...\r",
      "\u001b[2K\u001b[32m⠇\u001b[0m Locking...\r",
      "\u001b[2K\u001b[32m⠏\u001b[0m Locking...\r",
      "\u001b[2K\u001b[32m⠋\u001b[0m Locking...\r",
      "\u001b[2K\u001b[32m⠙\u001b[0m Locking...\r",
      "\u001b[2K\u001b[32m⠹\u001b[0m Locking...\r",
      "\u001b[2K\u001b[32m⠸\u001b[0m Locking...\r",
      "\u001b[2K\u001b[32m⠼\u001b[0m Locking...\r",
      "\u001b[2K\u001b[32m⠴\u001b[0m Locking...\r",
      "\u001b[2K\u001b[32m⠦\u001b[0m Locking...\r",
      "\u001b[2K\u001b[32m⠧\u001b[0m Locking...\r",
      "\u001b[2K\u001b[32m⠇\u001b[0m Locking...\r",
      "\u001b[2K\u001b[32m⠏\u001b[0m Locking...\r",
      "\u001b[2K\u001b[32m⠋\u001b[0m Locking...\r",
      "\u001b[2K\u001b[32m⠙\u001b[0m Locking...\r",
      "\u001b[2K\u001b[32m⠹\u001b[0m Locking...\r",
      "\u001b[2K\u001b[32m⠸\u001b[0m Locking...\r",
      "\u001b[2K\u001b[32m⠼\u001b[0m Locking...\r",
      "\u001b[2K\u001b[32m⠴\u001b[0m Locking...\r",
      "\u001b[2K\u001b[32m⠦\u001b[0m Locking...\r",
      "\u001b[2K\u001b[32m⠧\u001b[0m Locking...\r",
      "\u001b[2K\u001b[32m⠇\u001b[0m Locking...\r",
      "\u001b[2K\u001b[32m⠏\u001b[0m Locking...\r",
      "\u001b[2K\u001b[32m⠋\u001b[0m Locking...\r",
      "\u001b[2K\u001b[32m⠙\u001b[0m Locking...\r",
      "\u001b[2K\u001b[32m⠹\u001b[0m Locking...\r",
      "\u001b[2K\u001b[32m⠸\u001b[0m Locking...\r",
      "\u001b[2K\u001b[32m⠼\u001b[0m Locking...\r",
      "\u001b[2K\u001b[32m⠦\u001b[0m Locking...\r",
      "\u001b[2K\u001b[32m⠧\u001b[0m Locking...\r",
      "\u001b[2K\u001b[32m⠇\u001b[0m Locking...\r",
      "\u001b[2K\u001b[32m⠏\u001b[0m Locking...\r",
      "\u001b[2K\u001b[32m⠋\u001b[0m Locking...\r",
      "\u001b[2K\u001b[32m⠙\u001b[0m Locking...\r",
      "\u001b[2K\u001b[32m⠹\u001b[0m Locking...\r",
      "\u001b[2K\u001b[32m⠸\u001b[0m Locking...\r",
      "\u001b[2K\u001b[32m⠼\u001b[0m Locking...\r",
      "\u001b[2K\u001b[32m⠴\u001b[0m Locking...\r",
      "\u001b[2K\u001b[32m⠦\u001b[0m Locking...\r",
      "\u001b[2K\u001b[32m⠧\u001b[0m Locking...\r",
      "\u001b[2K\u001b[32m⠇\u001b[0m Locking...\r",
      "\u001b[2K\u001b[32m⠏\u001b[0m Locking...\r",
      "\u001b[2K\u001b[32m⠋\u001b[0m Locking...\r",
      "\u001b[2K\u001b[32m⠙\u001b[0m Locking...\r",
      "\u001b[2K\u001b[32m⠹\u001b[0m Locking...\r",
      "\u001b[2K\u001b[32m⠸\u001b[0m Locking...\r",
      "\u001b[2K\u001b[32m⠼\u001b[0m Locking...\r",
      "\u001b[2K\u001b[32m⠴\u001b[0m Locking...\r",
      "\u001b[2K\u001b[32m⠦\u001b[0m Locking...\r",
      "\u001b[2K\u001b[32m⠧\u001b[0m Locking...\r",
      "\u001b[2K\u001b[32m⠇\u001b[0m Locking...\r",
      "\u001b[2K\u001b[32m⠏\u001b[0m Locking...\r",
      "\u001b[2K\u001b[32m⠋\u001b[0m Locking...\r",
      "\u001b[2K\u001b[32m⠙\u001b[0m Locking...\r",
      "\u001b[2K\u001b[32m⠹\u001b[0m Locking...\r",
      "\u001b[2K\u001b[32m⠸\u001b[0m Locking...\r",
      "\u001b[2K\u001b[32m⠼\u001b[0m Locking...\r",
      "\u001b[2K\u001b[32m⠴\u001b[0m Locking...\r",
      "\u001b[2K\u001b[32m⠦\u001b[0m Locking...\r",
      "\u001b[2K\u001b[32m⠧\u001b[0m Locking...\r",
      "\u001b[2K\u001b[32m⠇\u001b[0m Locking...\r",
      "\u001b[2K\u001b[32m⠏\u001b[0m Locking...\r",
      "\u001b[2K\u001b[32m⠋\u001b[0m Locking...\r",
      "\u001b[2K\u001b[32m⠙\u001b[0m Locking...\r",
      "\u001b[2K\u001b[32m⠹\u001b[0m Locking...\r",
      "\u001b[2K\u001b[32m⠸\u001b[0m Locking...\r",
      "\u001b[2K\u001b[32m⠼\u001b[0m Locking...\r",
      "\u001b[2K\u001b[32m⠴\u001b[0m Locking...\r",
      "\u001b[2K\u001b[32m⠦\u001b[0m Locking...\r",
      "\u001b[2K\u001b[32m⠧\u001b[0m Locking...\r",
      "\u001b[2K\u001b[32m⠇\u001b[0m Locking...\r",
      "\u001b[2K\u001b[32m⠏\u001b[0m Locking...\r",
      "\u001b[2K\u001b[32m⠋\u001b[0m Locking...\r",
      "\u001b[2K\u001b[32m⠙\u001b[0m Locking...\r",
      "\u001b[2K\u001b[32m⠹\u001b[0m Locking...\r",
      "\u001b[2K\u001b[32m⠸\u001b[0m Locking...\r",
      "\u001b[2K\u001b[32m⠼\u001b[0m Locking...\r",
      "\u001b[2K\u001b[32m⠴\u001b[0m Locking...\r",
      "\u001b[2K\u001b[32m⠦\u001b[0m Locking...\r",
      "\u001b[2K\u001b[32m⠧\u001b[0m Locking...\r",
      "\u001b[2K\u001b[32m⠇\u001b[0m Locking...\r",
      "\u001b[2K\u001b[32m⠏\u001b[0m Locking...\r",
      "\u001b[2K\u001b[32m⠋\u001b[0m Locking...\r",
      "\u001b[2K\u001b[32m⠙\u001b[0m Locking...\r",
      "\u001b[2K\u001b[32m⠹\u001b[0m Locking...\r",
      "\u001b[2K\u001b[32m⠸\u001b[0m Locking...\r",
      "\u001b[2K\u001b[32m⠼\u001b[0m Locking...\r",
      "\u001b[2K\u001b[32m⠴\u001b[0m Locking...\r",
      "\u001b[2K\u001b[32m⠦\u001b[0m Locking...\r",
      "\u001b[2K\u001b[32m⠧\u001b[0m Locking...\r",
      "\u001b[2K\u001b[32m⠇\u001b[0m Locking...\r",
      "\u001b[2K\u001b[32m⠏\u001b[0m Locking...\r",
      "\u001b[2K\u001b[32m⠋\u001b[0m Locking...\r",
      "\u001b[2K\u001b[32m⠙\u001b[0m Locking...\r",
      "\u001b[2K\u001b[32m⠹\u001b[0m Locking...\r",
      "\u001b[2K\u001b[32m⠸\u001b[0m Locking...\r",
      "\u001b[2K\u001b[32m⠼\u001b[0m Locking...\r",
      "\u001b[2K\u001b[32m⠴\u001b[0m Locking...\r",
      "\u001b[2K\u001b[32m⠦\u001b[0m Locking...\r",
      "\u001b[2K\u001b[32m⠧\u001b[0m Locking...\r",
      "\u001b[2K\u001b[32m⠇\u001b[0m Locking...\r",
      "\u001b[2K\u001b[32m⠏\u001b[0m Locking...\r",
      "\u001b[2K\u001b[32m⠋\u001b[0m Locking...\r",
      "\u001b[2K\u001b[32m⠙\u001b[0m Locking...\r",
      "\u001b[2K\u001b[32m⠹\u001b[0m Locking...\r",
      "\u001b[2K\u001b[32m⠸\u001b[0m Locking...\r",
      "\u001b[2K\u001b[32m⠼\u001b[0m Locking...\r",
      "\u001b[2K\u001b[32m⠴\u001b[0m Locking...\r",
      "\u001b[2K\u001b[32m⠦\u001b[0m Locking...\r",
      "\u001b[2K\u001b[32m⠧\u001b[0m Locking...\r",
      "\u001b[2K\u001b[32m⠇\u001b[0m Locking...\r",
      "\u001b[2K\u001b[32m⠏\u001b[0m Locking...\r",
      "\u001b[2K\u001b[32m⠋\u001b[0m Locking...\r",
      "\u001b[2K\u001b[32m⠙\u001b[0m Locking...\r",
      "\u001b[2K\u001b[32m⠹\u001b[0m Locking...\r",
      "\u001b[2K\u001b[32m⠸\u001b[0m Locking...\r",
      "\u001b[2K\u001b[32m⠼\u001b[0m Locking...\r",
      "\u001b[2K\u001b[32m⠴\u001b[0m Locking...\r",
      "\u001b[2K\u001b[32m⠦\u001b[0m Locking...\r",
      "\u001b[2K\u001b[32m⠧\u001b[0m Locking...\r",
      "\u001b[2K\u001b[32m⠇\u001b[0m Locking...\r",
      "\u001b[2K\u001b[32m⠏\u001b[0m Locking...\r",
      "\u001b[2K\u001b[32m⠙\u001b[0m Locking...\r",
      "\u001b[2K\u001b[32m⠹\u001b[0m Locking...\r",
      "\u001b[2K\u001b[32m⠸\u001b[0m Locking...\r",
      "\u001b[2K\u001b[32m⠼\u001b[0m Locking...\r",
      "\u001b[2K\u001b[32m⠴\u001b[0m Locking...\r",
      "\u001b[2K\u001b[32m⠦\u001b[0m Locking...\r",
      "\u001b[2K\u001b[32m⠧\u001b[0m Locking...\r",
      "\u001b[2K\u001b[32m⠇\u001b[0m Locking...\r",
      "\u001b[2K\u001b[32m⠏\u001b[0m Locking...\r",
      "\u001b[2K\u001b[32m⠋\u001b[0m Locking...\r",
      "\u001b[2K\u001b[32m⠙\u001b[0m Locking...\r",
      "\u001b[2K\u001b[32m⠹\u001b[0m Locking...\r",
      "\u001b[2K\u001b[32m⠸\u001b[0m Locking...\r",
      "\u001b[2K\u001b[32m⠼\u001b[0m Locking...\r",
      "\u001b[2K\u001b[32m⠴\u001b[0m Locking...\r",
      "\u001b[2K\u001b[32m⠦\u001b[0m Locking...\r",
      "\u001b[2K\u001b[32m⠧\u001b[0m Locking...\r",
      "\u001b[2K\u001b[32m⠇\u001b[0m Locking...\r",
      "\u001b[2K\u001b[32m⠏\u001b[0m Locking...\r",
      "\u001b[2K\u001b[32m⠋\u001b[0m Locking...\r",
      "\u001b[2K\u001b[32m⠙\u001b[0m Locking...\r",
      "\u001b[2K\u001b[32m⠹\u001b[0m Locking...\r",
      "\u001b[2K\u001b[32m⠸\u001b[0m Locking...\r",
      "\u001b[2K\u001b[32m⠼\u001b[0m Locking...\r",
      "\u001b[2K\u001b[32m⠴\u001b[0m Locking...\r",
      "\u001b[2K\u001b[32m⠦\u001b[0m Locking...\r",
      "\u001b[2K\u001b[32m⠧\u001b[0m Locking...\r",
      "\u001b[2K\u001b[32m⠇\u001b[0m Locking...\r",
      "\u001b[2K\u001b[32m⠏\u001b[0m Locking...\r",
      "\u001b[2K\u001b[32m⠋\u001b[0m Locking...\r",
      "\u001b[2K\u001b[32m⠙\u001b[0m Locking...\r",
      "\u001b[2K\u001b[32m⠹\u001b[0m Locking...\r",
      "\u001b[2K\u001b[32m⠸\u001b[0m Locking...\r",
      "\u001b[2K\u001b[32m⠼\u001b[0m Locking...\r",
      "\u001b[2K\u001b[32m⠴\u001b[0m Locking...\r",
      "\u001b[2K\u001b[32m⠦\u001b[0m Locking...\r",
      "\u001b[2K\u001b[32m⠧\u001b[0m Locking...\r",
      "\u001b[2K\u001b[32m⠇\u001b[0m Locking...\r",
      "\u001b[2K\u001b[32m⠏\u001b[0m Locking...\r",
      "\u001b[2K\u001b[32m⠋\u001b[0m Locking...\r",
      "\u001b[2K\u001b[32m⠙\u001b[0m Locking...\r",
      "\u001b[2K\u001b[32m⠹\u001b[0m Locking...\r",
      "\u001b[2K\u001b[32m⠸\u001b[0m Locking...\r",
      "\u001b[2K\u001b[32m⠼\u001b[0m Locking...\r",
      "\u001b[2K\u001b[32m⠴\u001b[0m Locking...\r",
      "\u001b[2K\u001b[32m⠦\u001b[0m Locking...\r",
      "\u001b[2K\u001b[32m⠧\u001b[0m Locking...\r",
      "\u001b[2K\u001b[32m⠇\u001b[0m Locking...\r",
      "\u001b[2K\u001b[32m⠏\u001b[0m Locking...\r",
      "\u001b[2K\u001b[32m⠋\u001b[0m Locking...\r",
      "\u001b[2K\u001b[32m⠙\u001b[0m Locking...\r",
      "\u001b[2K\u001b[32m⠹\u001b[0m Locking...\r",
      "\u001b[2K\u001b[32m⠸\u001b[0m Locking...\r",
      "\u001b[2K\u001b[32m⠼\u001b[0m Locking...\r",
      "\u001b[2K\u001b[32m⠴\u001b[0m Locking...\r",
      "\u001b[2K\u001b[32m⠦\u001b[0m Locking...\r",
      "\u001b[2K\u001b[32m⠧\u001b[0m Locking...\r",
      "\u001b[2K\u001b[32m⠇\u001b[0m Locking...\r",
      "\u001b[2K\u001b[32m⠏\u001b[0m Locking...\r",
      "\u001b[2K\u001b[32m⠋\u001b[0m Locking...\r",
      "\u001b[2K\u001b[32m⠙\u001b[0m Locking...\r",
      "\u001b[2K\u001b[32m⠹\u001b[0m Locking...\r",
      "\u001b[2K\u001b[32m⠸\u001b[0m Locking...\r",
      "\u001b[2K\u001b[32m⠼\u001b[0m Locking...\r",
      "\u001b[2K\u001b[32m⠴\u001b[0m Locking...\r",
      "\u001b[2K\u001b[32m⠦\u001b[0m Locking...\r",
      "\u001b[2K\u001b[32m⠧\u001b[0m Locking...\r",
      "\u001b[2K\u001b[32m⠇\u001b[0m Locking...\r",
      "\u001b[2K\u001b[32m⠏\u001b[0m Locking...\r",
      "\u001b[2K\u001b[32m⠋\u001b[0m Locking...\r",
      "\u001b[2K\u001b[32m⠙\u001b[0m Locking...\r",
      "\u001b[2K\u001b[32m⠹\u001b[0m Locking...\r",
      "\u001b[2K\u001b[32m⠸\u001b[0m Locking...\r",
      "\u001b[2K\u001b[32m⠼\u001b[0m Locking...\r",
      "\u001b[2K\u001b[32m⠴\u001b[0m Locking...\r",
      "\u001b[2K\u001b[32m⠦\u001b[0m Locking...\r",
      "\u001b[2K\u001b[32m⠧\u001b[0m Locking...\r",
      "\u001b[2K\u001b[32m⠇\u001b[0m Locking...\r",
      "\u001b[2K\u001b[32m⠏\u001b[0m Locking...\r",
      "\u001b[2K\u001b[32m⠋\u001b[0m Locking...\r",
      "\u001b[2K\u001b[32m⠙\u001b[0m Locking...\r",
      "\u001b[2K\u001b[32m⠹\u001b[0m Locking...\r",
      "\u001b[2K\u001b[32m⠸\u001b[0m Locking...\r",
      "\u001b[2K\u001b[32m⠼\u001b[0m Locking...\r",
      "\u001b[2K\u001b[32m⠴\u001b[0m Locking...\r",
      "\u001b[2K\u001b[32m⠦\u001b[0m Locking...\r",
      "\u001b[2K\u001b[32m⠧\u001b[0m Locking...\r",
      "\u001b[2K\u001b[32m⠇\u001b[0m Locking...\r",
      "\u001b[2K\u001b[32m⠏\u001b[0m Locking...\r",
      "\u001b[2K\u001b[32m⠋\u001b[0m Locking...\r",
      "\u001b[2K\u001b[32m⠙\u001b[0m Locking...\r",
      "\u001b[2K\u001b[32m⠹\u001b[0m Locking...\r",
      "\u001b[2K\u001b[32m⠼\u001b[0m Locking...\r",
      "\u001b[2K\u001b[32m⠴\u001b[0m Locking...\r",
      "\u001b[2K\u001b[32m⠦\u001b[0m Locking...\r",
      "\u001b[2K\u001b[32m⠧\u001b[0m Locking...\r",
      "\u001b[2K\u001b[32m⠇\u001b[0m Locking...\r",
      "\u001b[2K\u001b[32m⠏\u001b[0m Locking...\r",
      "\u001b[2K\u001b[32m⠋\u001b[0m Locking...\r",
      "\u001b[2K\u001b[32m⠙\u001b[0m Locking...\r",
      "\u001b[2K\u001b[32m⠹\u001b[0m Locking...\r",
      "\u001b[2K\u001b[32m⠸\u001b[0m Locking...\r",
      "\u001b[2K\u001b[32m⠼\u001b[0m Locking...\r",
      "\u001b[2K\u001b[32m⠴\u001b[0m Locking...\r",
      "\u001b[2K\u001b[32m⠦\u001b[0m Locking...\r",
      "\u001b[2K\u001b[32m⠧\u001b[0m Locking...\r",
      "\u001b[2K\u001b[32m⠇\u001b[0m Locking...\r",
      "\u001b[2K\u001b[32m⠏\u001b[0m Locking...\r",
      "\u001b[2K\u001b[32m⠋\u001b[0m Locking...\r",
      "\u001b[2K\u001b[32m⠙\u001b[0m Locking...\r",
      "\u001b[2K\u001b[32m⠹\u001b[0m Locking...\r",
      "\u001b[2K\u001b[32m⠸\u001b[0m Locking...\r",
      "\u001b[2K\u001b[32m⠼\u001b[0m Locking...\r",
      "\u001b[2K\u001b[32m⠴\u001b[0m Locking...\r",
      "\u001b[2K\u001b[32m⠦\u001b[0m Locking...\r",
      "\u001b[2K\u001b[32m⠧\u001b[0m Locking...\r",
      "\u001b[2K\u001b[32m⠇\u001b[0m Locking...\r",
      "\u001b[2K\u001b[32m⠏\u001b[0m Locking...\r",
      "\u001b[2K\u001b[32m⠋\u001b[0m Locking...\r",
      "\u001b[2K\u001b[32m⠙\u001b[0m Locking...\r",
      "\u001b[2K\u001b[32m⠹\u001b[0m Locking...\r",
      "\u001b[2K\u001b[32m⠸\u001b[0m Locking...\r",
      "\u001b[2K\u001b[32m⠼\u001b[0m Locking...\r",
      "\u001b[2K\u001b[32m⠴\u001b[0m Locking...\r",
      "\u001b[2K\u001b[32m⠦\u001b[0m Locking...\r",
      "\u001b[2K\u001b[32m⠧\u001b[0m Locking...\r",
      "\u001b[2K\u001b[32m⠇\u001b[0m Locking...\r",
      "\u001b[2K\u001b[32m⠏\u001b[0m Locking...\r",
      "\u001b[2K\u001b[32m⠋\u001b[0m Locking...\r",
      "\u001b[2K\u001b[32m⠙\u001b[0m Locking...\r",
      "\u001b[2K\u001b[32m⠹\u001b[0m Locking...\r",
      "\u001b[2K\u001b[32m⠸\u001b[0m Locking...\r",
      "\u001b[2K\u001b[32m⠼\u001b[0m Locking...\r",
      "\u001b[2K\u001b[32m⠴\u001b[0m Locking...\r",
      "\u001b[2K\u001b[32m⠦\u001b[0m Locking...\r",
      "\u001b[2K\u001b[32m⠧\u001b[0m Locking...\r",
      "\u001b[2K\u001b[32m⠇\u001b[0m Locking...\r",
      "\u001b[2K\u001b[32m⠏\u001b[0m Locking...\r",
      "\u001b[2K\u001b[32m⠋\u001b[0m Locking...\r",
      "\u001b[2K\u001b[32m⠙\u001b[0m Locking...\r",
      "\u001b[2K\u001b[32m⠹\u001b[0m Locking...\r",
      "\u001b[2K\u001b[32m⠸\u001b[0m Locking...\r",
      "\u001b[2K\u001b[32m⠼\u001b[0m Locking...\r",
      "\u001b[2K\u001b[32m⠴\u001b[0m Locking...\r",
      "\u001b[2K\u001b[32m⠦\u001b[0m Locking...\r",
      "\u001b[2K\u001b[32m⠧\u001b[0m Locking...\r",
      "\u001b[2K\u001b[32m⠇\u001b[0m Locking...\r",
      "\u001b[2K\u001b[32m⠏\u001b[0m Locking...\r",
      "\u001b[2K\u001b[32m⠋\u001b[0m Locking...\r",
      "\u001b[2K\u001b[32m⠙\u001b[0m Locking...\r",
      "\u001b[2K\u001b[32m⠹\u001b[0m Locking...\r",
      "\u001b[2K\u001b[32m⠸\u001b[0m Locking...\r",
      "\u001b[2K\u001b[32m⠼\u001b[0m Locking...\r",
      "\u001b[2K\u001b[32m⠴\u001b[0m Locking...\r",
      "\u001b[2K\u001b[32m⠦\u001b[0m Locking...\r",
      "\u001b[2K\u001b[32m⠧\u001b[0m Locking...\r",
      "\u001b[2K\u001b[32m⠇\u001b[0m Locking...\r",
      "\u001b[2K\u001b[32m⠏\u001b[0m Locking...\r",
      "\u001b[2K\u001b[32m⠋\u001b[0m Locking...\r",
      "\u001b[2K\u001b[32m⠙\u001b[0m Locking...\r",
      "\u001b[2K\u001b[32m⠹\u001b[0m Locking...\r",
      "\u001b[2K\u001b[32m⠸\u001b[0m Locking...\r",
      "\u001b[2K\u001b[32m⠼\u001b[0m Locking...\r",
      "\u001b[2K\u001b[32m⠴\u001b[0m Locking...\r",
      "\u001b[2K\u001b[32m⠦\u001b[0m Locking...\r",
      "\u001b[2K\u001b[32m⠧\u001b[0m Locking...\r",
      "\u001b[2K\u001b[32m⠇\u001b[0m Locking...\r",
      "\u001b[2K\u001b[32m⠏\u001b[0m Locking...\r",
      "\u001b[2K\u001b[32m⠋\u001b[0m Locking...\r",
      "\u001b[2K\u001b[32m⠙\u001b[0m Locking...\r",
      "\u001b[2K\u001b[32m⠹\u001b[0m Locking...\r",
      "\u001b[2K\u001b[32m⠸\u001b[0m Locking...\r",
      "\u001b[2K\u001b[32m⠼\u001b[0m Locking...\r",
      "\u001b[2K\u001b[32m⠴\u001b[0m Locking...\r",
      "\u001b[2K\u001b[32m⠦\u001b[0m Locking...\r",
      "\u001b[2K\u001b[32m⠧\u001b[0m Locking...\r",
      "\u001b[2K\u001b[32m⠇\u001b[0m Locking...\r",
      "\u001b[2K\u001b[32m⠏\u001b[0m Locking...\r",
      "\u001b[2K\u001b[32m⠋\u001b[0m Locking...\r",
      "\u001b[2K\u001b[32m⠙\u001b[0m Locking...\r",
      "\u001b[2K\u001b[32m⠹\u001b[0m Locking...\r",
      "\u001b[2K\u001b[32m⠸\u001b[0m Locking...\r",
      "\u001b[2K\u001b[32m⠼\u001b[0m Locking...\r",
      "\u001b[2K\u001b[32m⠴\u001b[0m Locking...\r",
      "\u001b[2K\u001b[32m⠦\u001b[0m Locking...\r",
      "\u001b[2K\u001b[32m⠧\u001b[0m Locking...\r",
      "\u001b[2K\u001b[32m⠇\u001b[0m Locking...\r",
      "\u001b[2K\u001b[32m⠏\u001b[0m Locking...\r",
      "\u001b[2K\u001b[32m⠋\u001b[0m Locking...\r",
      "\u001b[2K\u001b[32m⠙\u001b[0m Locking...\r",
      "\u001b[2K\u001b[32m⠹\u001b[0m Locking...\r",
      "\u001b[2K\u001b[32m⠼\u001b[0m Locking...\r",
      "\u001b[2K\u001b[32m⠴\u001b[0m Locking...\r",
      "\u001b[2K\u001b[32m⠦\u001b[0m Locking...\r",
      "\u001b[2K\u001b[32m⠧\u001b[0m Locking...\r",
      "\u001b[2K\u001b[32m⠇\u001b[0m Locking...\r",
      "\u001b[2K\u001b[32m⠏\u001b[0m Locking...\r",
      "\u001b[2K\u001b[32m⠋\u001b[0m Locking...\r",
      "\u001b[2K\u001b[32m⠙\u001b[0m Locking...\r",
      "\u001b[2K\u001b[32m⠹\u001b[0m Locking...\r",
      "\u001b[2K\u001b[32m⠸\u001b[0m Locking...\r",
      "\u001b[2K\u001b[32m⠼\u001b[0m Locking...\r",
      "\u001b[2K\u001b[32m⠴\u001b[0m Locking...\r",
      "\u001b[2K\u001b[32m⠦\u001b[0m Locking...\r",
      "\u001b[2K\u001b[32m⠧\u001b[0m Locking...\r",
      "\u001b[2K\u001b[32m⠇\u001b[0m Locking...\r",
      "\u001b[2K\u001b[32m⠏\u001b[0m Locking...\r",
      "\u001b[2K\u001b[32m⠋\u001b[0m Locking...\r",
      "\u001b[2K\u001b[32m⠙\u001b[0m Locking...\r",
      "\u001b[2K\u001b[32m⠹\u001b[0m Locking...\r",
      "\u001b[2K✔ Success!\n"
     ]
    },
    {
     "name": "stdout",
     "output_type": "stream",
     "text": [
      "\u001b[32m⠸\u001b[0m Locking...\r",
      "\u001b[2K\u001b[32m⠸\u001b[0m Locking...\n"
     ]
    },
    {
     "name": "stdout",
     "output_type": "stream",
     "text": [
      "\u001b[?25h\r",
      "\u001b[1A\u001b[2K\u001b[1mInstalling dependencies from Pipfile.lock \u001b[0m\u001b[1m(\u001b[0m\u001b[1me58d46\u001b[0m\u001b[1m)\u001b[0m\u001b[1;33m...\u001b[0m\n"
     ]
    },
    {
     "name": "stdout",
     "output_type": "stream",
     "text": [
      "To activate this project's virtualenv, run \u001b[33mpipenv shell\u001b[0m.\n"
     ]
    },
    {
     "name": "stdout",
     "output_type": "stream",
     "text": [
      "Alternatively, run a command inside the virtualenv with \u001b[33mpipenv run\u001b[0m.\n"
     ]
    },
    {
     "name": "stdout",
     "output_type": "stream",
     "text": [
      "*********  Finished pip installing requirements.txt  *********\n"
     ]
    },
    {
     "name": "stdout",
     "output_type": "stream",
     "text": [
      "\u001b[1;32mInstalling torch-scatter\u001b[0m\u001b[1;33m...\u001b[0m\n"
     ]
    },
    {
     "name": "stdout",
     "output_type": "stream",
     "text": [
      "\u001b[?25lResolving torch-scatter\u001b[33m...\u001b[0m\n"
     ]
    },
    {
     "name": "stdout",
     "output_type": "stream",
     "text": [
      "\u001b[32m⠋\u001b[0m Installing...\r",
      "\u001b[2K\u001b[1mAdded \u001b[0m\u001b[1;32mtorch-scatter\u001b[0m to Pipfile's \u001b[1;33m[\u001b[0m\u001b[33mpackages\u001b[0m\u001b[1;33m]\u001b[0m \u001b[33m...\u001b[0m\n"
     ]
    },
    {
     "name": "stdout",
     "output_type": "stream",
     "text": [
      "\u001b[32m⠋\u001b[0m Installing torch-scatter...\r",
      "\u001b[2K✔ Installation Succeeded\n"
     ]
    },
    {
     "name": "stdout",
     "output_type": "stream",
     "text": [
      "\u001b[32m⠋\u001b[0m Installing torch-scatter...\r",
      "\u001b[2K\u001b[32m⠋\u001b[0m Installing torch-scatter...\n"
     ]
    },
    {
     "name": "stdout",
     "output_type": "stream",
     "text": [
      "\u001b[?25h\r",
      "\u001b[1A\u001b[2K\u001b[?25lBuilding requirements\u001b[33m...\u001b[0m\n"
     ]
    },
    {
     "name": "stdout",
     "output_type": "stream",
     "text": [
      "\u001b[32m⠋\u001b[0m Locking...\r",
      "\u001b[2KResolving dependencies\u001b[33m...\u001b[0m\n"
     ]
    },
    {
     "name": "stdout",
     "output_type": "stream",
     "text": [
      "\u001b[32m⠋\u001b[0m Locking...\r",
      "\u001b[2K\u001b[32m⠙\u001b[0m Locking...\r",
      "\u001b[2K\u001b[32m⠹\u001b[0m Locking...\r",
      "\u001b[2K\u001b[32m⠸\u001b[0m Locking...\r",
      "\u001b[2K\u001b[32m⠼\u001b[0m Locking...\r",
      "\u001b[2K\u001b[32m⠴\u001b[0m Locking...\r",
      "\u001b[2K\u001b[32m⠦\u001b[0m Locking...\r",
      "\u001b[2K\u001b[32m⠧\u001b[0m Locking...\r",
      "\u001b[2K\u001b[32m⠇\u001b[0m Locking...\r",
      "\u001b[2K\u001b[32m⠏\u001b[0m Locking...\r",
      "\u001b[2K\u001b[32m⠋\u001b[0m Locking...\r",
      "\u001b[2K\u001b[32m⠙\u001b[0m Locking...\r",
      "\u001b[2K\u001b[32m⠹\u001b[0m Locking...\r",
      "\u001b[2K\u001b[32m⠸\u001b[0m Locking...\r",
      "\u001b[2K\u001b[32m⠼\u001b[0m Locking...\r",
      "\u001b[2K\u001b[32m⠴\u001b[0m Locking...\r",
      "\u001b[2K\u001b[32m⠦\u001b[0m Locking...\r",
      "\u001b[2K\u001b[32m⠧\u001b[0m Locking...\r",
      "\u001b[2K\u001b[32m⠇\u001b[0m Locking...\r",
      "\u001b[2K\u001b[32m⠏\u001b[0m Locking...\r",
      "\u001b[2K\u001b[32m⠋\u001b[0m Locking...\r",
      "\u001b[2K\u001b[32m⠙\u001b[0m Locking...\r",
      "\u001b[2K\u001b[32m⠹\u001b[0m Locking...\r",
      "\u001b[2K\u001b[32m⠸\u001b[0m Locking...\r",
      "\u001b[2K\u001b[32m⠼\u001b[0m Locking...\r",
      "\u001b[2K\u001b[32m⠴\u001b[0m Locking...\r",
      "\u001b[2K\u001b[32m⠦\u001b[0m Locking...\r",
      "\u001b[2K\u001b[32m⠧\u001b[0m Locking...\r",
      "\u001b[2K\u001b[32m⠇\u001b[0m Locking...\r",
      "\u001b[2K\u001b[32m⠏\u001b[0m Locking...\r",
      "\u001b[2K\u001b[32m⠋\u001b[0m Locking...\r",
      "\u001b[2K\u001b[32m⠙\u001b[0m Locking...\r",
      "\u001b[2K\u001b[32m⠹\u001b[0m Locking...\r",
      "\u001b[2K\u001b[32m⠸\u001b[0m Locking...\r",
      "\u001b[2K\u001b[32m⠼\u001b[0m Locking...\r",
      "\u001b[2K\u001b[32m⠴\u001b[0m Locking...\r",
      "\u001b[2K\u001b[32m⠦\u001b[0m Locking...\r",
      "\u001b[2K\u001b[32m⠧\u001b[0m Locking...\r",
      "\u001b[2K\u001b[32m⠇\u001b[0m Locking...\r",
      "\u001b[2K\u001b[32m⠏\u001b[0m Locking...\r",
      "\u001b[2K\u001b[32m⠋\u001b[0m Locking...\r",
      "\u001b[2K\u001b[32m⠙\u001b[0m Locking...\r",
      "\u001b[2K\u001b[32m⠹\u001b[0m Locking...\r",
      "\u001b[2K\u001b[32m⠸\u001b[0m Locking...\r",
      "\u001b[2K\u001b[32m⠼\u001b[0m Locking...\r",
      "\u001b[2K\u001b[32m⠴\u001b[0m Locking...\r",
      "\u001b[2K\u001b[32m⠦\u001b[0m Locking...\r",
      "\u001b[2K\u001b[32m⠧\u001b[0m Locking...\r",
      "\u001b[2K\u001b[32m⠇\u001b[0m Locking...\r",
      "\u001b[2K\u001b[32m⠏\u001b[0m Locking...\r",
      "\u001b[2K\u001b[32m⠋\u001b[0m Locking...\r",
      "\u001b[2K\u001b[32m⠙\u001b[0m Locking...\r",
      "\u001b[2K\u001b[32m⠹\u001b[0m Locking...\r",
      "\u001b[2K\u001b[32m⠸\u001b[0m Locking...\r",
      "\u001b[2K\u001b[32m⠼\u001b[0m Locking...\r",
      "\u001b[2K\u001b[32m⠴\u001b[0m Locking...\r",
      "\u001b[2K\u001b[32m⠦\u001b[0m Locking...\r",
      "\u001b[2K\u001b[32m⠧\u001b[0m Locking...\r",
      "\u001b[2K\u001b[32m⠇\u001b[0m Locking...\r",
      "\u001b[2K\u001b[32m⠏\u001b[0m Locking...\r",
      "\u001b[2K\u001b[32m⠋\u001b[0m Locking...\r",
      "\u001b[2K\u001b[32m⠙\u001b[0m Locking...\r",
      "\u001b[2K\u001b[32m⠹\u001b[0m Locking...\r",
      "\u001b[2K\u001b[32m⠸\u001b[0m Locking...\r",
      "\u001b[2K\u001b[32m⠼\u001b[0m Locking...\r",
      "\u001b[2K\u001b[32m⠴\u001b[0m Locking...\r",
      "\u001b[2K\u001b[32m⠦\u001b[0m Locking...\r",
      "\u001b[2K\u001b[32m⠧\u001b[0m Locking...\r",
      "\u001b[2K\u001b[32m⠇\u001b[0m Locking...\r",
      "\u001b[2K\u001b[32m⠏\u001b[0m Locking...\r",
      "\u001b[2K\u001b[32m⠋\u001b[0m Locking...\r",
      "\u001b[2K\u001b[32m⠙\u001b[0m Locking...\r",
      "\u001b[2K\u001b[32m⠹\u001b[0m Locking...\r",
      "\u001b[2K\u001b[32m⠸\u001b[0m Locking...\r",
      "\u001b[2K\u001b[32m⠼\u001b[0m Locking...\r",
      "\u001b[2K\u001b[32m⠴\u001b[0m Locking...\r",
      "\u001b[2K\u001b[32m⠦\u001b[0m Locking...\r",
      "\u001b[2K\u001b[32m⠧\u001b[0m Locking...\r",
      "\u001b[2K\u001b[32m⠇\u001b[0m Locking...\r",
      "\u001b[2K\u001b[32m⠏\u001b[0m Locking...\r",
      "\u001b[2K\u001b[32m⠋\u001b[0m Locking...\r",
      "\u001b[2K\u001b[32m⠙\u001b[0m Locking...\r",
      "\u001b[2K\u001b[32m⠹\u001b[0m Locking...\r",
      "\u001b[2K\u001b[32m⠸\u001b[0m Locking...\r",
      "\u001b[2K\u001b[32m⠼\u001b[0m Locking...\r",
      "\u001b[2K\u001b[32m⠴\u001b[0m Locking...\r",
      "\u001b[2K\u001b[32m⠦\u001b[0m Locking...\r",
      "\u001b[2K\u001b[32m⠧\u001b[0m Locking...\r",
      "\u001b[2K\u001b[32m⠇\u001b[0m Locking...\r",
      "\u001b[2K\u001b[32m⠏\u001b[0m Locking...\r",
      "\u001b[2K\u001b[32m⠋\u001b[0m Locking...\r",
      "\u001b[2K\u001b[32m⠙\u001b[0m Locking...\r",
      "\u001b[2K\u001b[32m⠹\u001b[0m Locking...\r",
      "\u001b[2K\u001b[32m⠸\u001b[0m Locking...\r",
      "\u001b[2K\u001b[32m⠼\u001b[0m Locking...\r",
      "\u001b[2K\u001b[32m⠦\u001b[0m Locking...\r",
      "\u001b[2K\u001b[32m⠧\u001b[0m Locking...\r",
      "\u001b[2K\u001b[32m⠇\u001b[0m Locking...\r",
      "\u001b[2K\u001b[32m⠏\u001b[0m Locking...\r",
      "\u001b[2K\u001b[32m⠋\u001b[0m Locking...\r",
      "\u001b[2K\u001b[32m⠙\u001b[0m Locking...\r",
      "\u001b[2K\u001b[32m⠹\u001b[0m Locking...\r",
      "\u001b[2K\u001b[32m⠸\u001b[0m Locking...\r",
      "\u001b[2K\u001b[32m⠼\u001b[0m Locking...\r",
      "\u001b[2K\u001b[32m⠴\u001b[0m Locking...\r",
      "\u001b[2K\u001b[32m⠦\u001b[0m Locking...\r",
      "\u001b[2K\u001b[32m⠧\u001b[0m Locking...\r",
      "\u001b[2K\u001b[32m⠇\u001b[0m Locking...\r",
      "\u001b[2K\u001b[32m⠏\u001b[0m Locking...\r",
      "\u001b[2K\u001b[32m⠋\u001b[0m Locking...\r",
      "\u001b[2K\u001b[32m⠙\u001b[0m Locking...\r",
      "\u001b[2K\u001b[32m⠹\u001b[0m Locking...\r",
      "\u001b[2K\u001b[32m⠸\u001b[0m Locking...\r",
      "\u001b[2K\u001b[32m⠼\u001b[0m Locking...\r",
      "\u001b[2K\u001b[32m⠴\u001b[0m Locking...\r",
      "\u001b[2K\u001b[32m⠦\u001b[0m Locking...\r",
      "\u001b[2K\u001b[32m⠧\u001b[0m Locking...\r",
      "\u001b[2K\u001b[32m⠇\u001b[0m Locking...\r",
      "\u001b[2K\u001b[32m⠏\u001b[0m Locking...\r",
      "\u001b[2K\u001b[32m⠋\u001b[0m Locking...\r",
      "\u001b[2K\u001b[32m⠙\u001b[0m Locking...\r",
      "\u001b[2K\u001b[32m⠹\u001b[0m Locking...\r",
      "\u001b[2K\u001b[32m⠸\u001b[0m Locking...\r",
      "\u001b[2K\u001b[32m⠼\u001b[0m Locking...\r",
      "\u001b[2K\u001b[32m⠴\u001b[0m Locking...\r",
      "\u001b[2K\u001b[32m⠦\u001b[0m Locking...\r",
      "\u001b[2K\u001b[32m⠧\u001b[0m Locking...\r",
      "\u001b[2K\u001b[32m⠇\u001b[0m Locking...\r",
      "\u001b[2K\u001b[32m⠏\u001b[0m Locking...\r",
      "\u001b[2K\u001b[32m⠋\u001b[0m Locking...\r",
      "\u001b[2K\u001b[32m⠙\u001b[0m Locking...\r",
      "\u001b[2K\u001b[32m⠹\u001b[0m Locking...\r",
      "\u001b[2K\u001b[32m⠸\u001b[0m Locking...\r",
      "\u001b[2K\u001b[32m⠼\u001b[0m Locking...\r",
      "\u001b[2K\u001b[32m⠴\u001b[0m Locking...\r",
      "\u001b[2K\u001b[32m⠦\u001b[0m Locking...\r",
      "\u001b[2K\u001b[32m⠧\u001b[0m Locking...\r",
      "\u001b[2K\u001b[32m⠇\u001b[0m Locking...\r",
      "\u001b[2K\u001b[32m⠏\u001b[0m Locking...\r",
      "\u001b[2K\u001b[32m⠋\u001b[0m Locking...\r",
      "\u001b[2K\u001b[32m⠙\u001b[0m Locking...\r",
      "\u001b[2K\u001b[32m⠹\u001b[0m Locking...\r",
      "\u001b[2K\u001b[32m⠸\u001b[0m Locking...\r",
      "\u001b[2K\u001b[32m⠼\u001b[0m Locking...\r",
      "\u001b[2K\u001b[32m⠴\u001b[0m Locking...\r",
      "\u001b[2K\u001b[32m⠦\u001b[0m Locking...\r",
      "\u001b[2K\u001b[32m⠧\u001b[0m Locking...\r",
      "\u001b[2K\u001b[32m⠇\u001b[0m Locking...\r",
      "\u001b[2K\u001b[32m⠏\u001b[0m Locking...\r",
      "\u001b[2K\u001b[32m⠋\u001b[0m Locking...\r",
      "\u001b[2K\u001b[32m⠙\u001b[0m Locking...\r",
      "\u001b[2K\u001b[32m⠹\u001b[0m Locking...\r",
      "\u001b[2K\u001b[32m⠸\u001b[0m Locking...\r",
      "\u001b[2K\u001b[32m⠼\u001b[0m Locking...\r",
      "\u001b[2K\u001b[32m⠴\u001b[0m Locking...\r",
      "\u001b[2K\u001b[32m⠦\u001b[0m Locking...\r",
      "\u001b[2K\u001b[32m⠧\u001b[0m Locking...\r",
      "\u001b[2K\u001b[32m⠇\u001b[0m Locking...\r",
      "\u001b[2K\u001b[32m⠏\u001b[0m Locking...\r",
      "\u001b[2K\u001b[32m⠋\u001b[0m Locking...\r",
      "\u001b[2K\u001b[32m⠙\u001b[0m Locking...\r",
      "\u001b[2K\u001b[32m⠹\u001b[0m Locking...\r",
      "\u001b[2K\u001b[32m⠸\u001b[0m Locking...\r",
      "\u001b[2K\u001b[32m⠼\u001b[0m Locking...\r",
      "\u001b[2K\u001b[32m⠴\u001b[0m Locking...\r",
      "\u001b[2K\u001b[32m⠦\u001b[0m Locking...\r",
      "\u001b[2K\u001b[32m⠧\u001b[0m Locking...\r",
      "\u001b[2K\u001b[32m⠇\u001b[0m Locking...\r",
      "\u001b[2K\u001b[32m⠏\u001b[0m Locking...\r",
      "\u001b[2K\u001b[32m⠋\u001b[0m Locking...\r",
      "\u001b[2K\u001b[32m⠙\u001b[0m Locking...\r",
      "\u001b[2K\u001b[32m⠹\u001b[0m Locking...\r",
      "\u001b[2K\u001b[32m⠸\u001b[0m Locking...\r",
      "\u001b[2K\u001b[32m⠼\u001b[0m Locking...\r",
      "\u001b[2K\u001b[32m⠴\u001b[0m Locking...\r",
      "\u001b[2K\u001b[32m⠦\u001b[0m Locking...\r",
      "\u001b[2K\u001b[32m⠧\u001b[0m Locking...\r",
      "\u001b[2K\u001b[32m⠇\u001b[0m Locking...\r",
      "\u001b[2K\u001b[32m⠏\u001b[0m Locking...\r",
      "\u001b[2K\u001b[32m⠋\u001b[0m Locking...\r",
      "\u001b[2K\u001b[32m⠙\u001b[0m Locking...\r",
      "\u001b[2K\u001b[32m⠹\u001b[0m Locking...\r",
      "\u001b[2K\u001b[32m⠸\u001b[0m Locking...\r",
      "\u001b[2K\u001b[32m⠼\u001b[0m Locking...\r",
      "\u001b[2K\u001b[32m⠴\u001b[0m Locking...\r",
      "\u001b[2K\u001b[32m⠦\u001b[0m Locking...\r",
      "\u001b[2K\u001b[32m⠧\u001b[0m Locking...\r",
      "\u001b[2K\u001b[32m⠇\u001b[0m Locking...\r",
      "\u001b[2K\u001b[32m⠋\u001b[0m Locking...\r",
      "\u001b[2K\u001b[32m⠙\u001b[0m Locking...\r",
      "\u001b[2K\u001b[32m⠹\u001b[0m Locking...\r",
      "\u001b[2K\u001b[32m⠸\u001b[0m Locking...\r",
      "\u001b[2K\u001b[32m⠼\u001b[0m Locking...\r",
      "\u001b[2K\u001b[32m⠴\u001b[0m Locking...\r",
      "\u001b[2K\u001b[32m⠦\u001b[0m Locking...\r",
      "\u001b[2K\u001b[32m⠧\u001b[0m Locking...\r",
      "\u001b[2K\u001b[32m⠇\u001b[0m Locking...\r",
      "\u001b[2K\u001b[32m⠏\u001b[0m Locking...\r",
      "\u001b[2K\u001b[32m⠋\u001b[0m Locking...\r",
      "\u001b[2K\u001b[32m⠙\u001b[0m Locking...\r",
      "\u001b[2K\u001b[32m⠹\u001b[0m Locking...\r",
      "\u001b[2K\u001b[32m⠸\u001b[0m Locking...\r",
      "\u001b[2K\u001b[32m⠼\u001b[0m Locking...\r",
      "\u001b[2K\u001b[32m⠴\u001b[0m Locking...\r",
      "\u001b[2K\u001b[32m⠦\u001b[0m Locking...\r",
      "\u001b[2K\u001b[32m⠧\u001b[0m Locking...\r",
      "\u001b[2K\u001b[32m⠇\u001b[0m Locking...\r",
      "\u001b[2K\u001b[32m⠏\u001b[0m Locking...\r",
      "\u001b[2K\u001b[32m⠋\u001b[0m Locking...\r",
      "\u001b[2K\u001b[32m⠙\u001b[0m Locking...\r",
      "\u001b[2K\u001b[32m⠹\u001b[0m Locking...\r",
      "\u001b[2K\u001b[32m⠸\u001b[0m Locking...\r",
      "\u001b[2K\u001b[32m⠼\u001b[0m Locking...\r",
      "\u001b[2K\u001b[32m⠴\u001b[0m Locking...\r",
      "\u001b[2K\u001b[32m⠦\u001b[0m Locking...\r",
      "\u001b[2K\u001b[32m⠧\u001b[0m Locking...\r",
      "\u001b[2K\u001b[32m⠇\u001b[0m Locking...\r",
      "\u001b[2K\u001b[32m⠏\u001b[0m Locking...\r",
      "\u001b[2K\u001b[32m⠋\u001b[0m Locking...\r",
      "\u001b[2K\u001b[32m⠙\u001b[0m Locking...\r",
      "\u001b[2K\u001b[32m⠹\u001b[0m Locking...\r",
      "\u001b[2K\u001b[32m⠸\u001b[0m Locking...\r",
      "\u001b[2K\u001b[32m⠼\u001b[0m Locking...\r",
      "\u001b[2K\u001b[32m⠴\u001b[0m Locking...\r",
      "\u001b[2K\u001b[32m⠦\u001b[0m Locking...\r",
      "\u001b[2K\u001b[32m⠧\u001b[0m Locking...\r",
      "\u001b[2K\u001b[32m⠇\u001b[0m Locking...\r",
      "\u001b[2K\u001b[32m⠏\u001b[0m Locking...\r",
      "\u001b[2K\u001b[32m⠋\u001b[0m Locking...\r",
      "\u001b[2K\u001b[32m⠙\u001b[0m Locking...\r",
      "\u001b[2K\u001b[32m⠹\u001b[0m Locking...\r",
      "\u001b[2K\u001b[32m⠸\u001b[0m Locking...\r",
      "\u001b[2K\u001b[32m⠼\u001b[0m Locking...\r",
      "\u001b[2K\u001b[32m⠴\u001b[0m Locking...\r",
      "\u001b[2K\u001b[32m⠦\u001b[0m Locking...\r",
      "\u001b[2K\u001b[32m⠧\u001b[0m Locking...\r",
      "\u001b[2K\u001b[32m⠇\u001b[0m Locking...\r",
      "\u001b[2K\u001b[32m⠏\u001b[0m Locking...\r",
      "\u001b[2K\u001b[32m⠋\u001b[0m Locking...\r",
      "\u001b[2K\u001b[32m⠙\u001b[0m Locking...\r",
      "\u001b[2K\u001b[32m⠹\u001b[0m Locking...\r",
      "\u001b[2K\u001b[32m⠸\u001b[0m Locking...\r",
      "\u001b[2K\u001b[32m⠼\u001b[0m Locking...\r",
      "\u001b[2K\u001b[32m⠴\u001b[0m Locking...\r",
      "\u001b[2K\u001b[32m⠦\u001b[0m Locking...\r",
      "\u001b[2K\u001b[32m⠧\u001b[0m Locking...\r",
      "\u001b[2K\u001b[32m⠇\u001b[0m Locking...\r",
      "\u001b[2K\u001b[32m⠏\u001b[0m Locking...\r",
      "\u001b[2K\u001b[32m⠋\u001b[0m Locking...\r",
      "\u001b[2K\u001b[32m⠙\u001b[0m Locking...\r",
      "\u001b[2K\u001b[32m⠹\u001b[0m Locking...\r",
      "\u001b[2K\u001b[32m⠸\u001b[0m Locking...\r",
      "\u001b[2K\u001b[32m⠼\u001b[0m Locking...\r",
      "\u001b[2K\u001b[32m⠴\u001b[0m Locking...\r",
      "\u001b[2K\u001b[32m⠦\u001b[0m Locking...\r",
      "\u001b[2K\u001b[32m⠧\u001b[0m Locking...\r",
      "\u001b[2K\u001b[32m⠇\u001b[0m Locking...\r",
      "\u001b[2K\u001b[32m⠏\u001b[0m Locking...\r",
      "\u001b[2K\u001b[32m⠋\u001b[0m Locking...\r",
      "\u001b[2K\u001b[32m⠙\u001b[0m Locking...\r",
      "\u001b[2K\u001b[32m⠹\u001b[0m Locking...\r",
      "\u001b[2K\u001b[32m⠸\u001b[0m Locking...\r",
      "\u001b[2K\u001b[32m⠼\u001b[0m Locking...\r",
      "\u001b[2K\u001b[32m⠴\u001b[0m Locking...\r",
      "\u001b[2K\u001b[32m⠦\u001b[0m Locking...\r",
      "\u001b[2K\u001b[32m⠧\u001b[0m Locking...\r",
      "\u001b[2K\u001b[32m⠇\u001b[0m Locking...\r",
      "\u001b[2K\u001b[32m⠏\u001b[0m Locking...\r",
      "\u001b[2K\u001b[32m⠋\u001b[0m Locking...\r",
      "\u001b[2K\u001b[32m⠙\u001b[0m Locking...\r",
      "\u001b[2K\u001b[32m⠹\u001b[0m Locking...\r",
      "\u001b[2K\u001b[32m⠸\u001b[0m Locking...\r",
      "\u001b[2K\u001b[32m⠼\u001b[0m Locking...\r",
      "\u001b[2K\u001b[32m⠴\u001b[0m Locking...\r",
      "\u001b[2K\u001b[32m⠦\u001b[0m Locking...\r",
      "\u001b[2K\u001b[32m⠧\u001b[0m Locking...\r",
      "\u001b[2K\u001b[32m⠇\u001b[0m Locking...\r",
      "\u001b[2K\u001b[32m⠏\u001b[0m Locking...\r",
      "\u001b[2K\u001b[32m⠋\u001b[0m Locking...\r",
      "\u001b[2K\u001b[32m⠙\u001b[0m Locking...\r",
      "\u001b[2K\u001b[32m⠹\u001b[0m Locking...\r",
      "\u001b[2K\u001b[32m⠸\u001b[0m Locking...\r",
      "\u001b[2K\u001b[32m⠼\u001b[0m Locking...\r",
      "\u001b[2K\u001b[32m⠴\u001b[0m Locking...\r",
      "\u001b[2K\u001b[32m⠦\u001b[0m Locking...\r",
      "\u001b[2K\u001b[32m⠧\u001b[0m Locking...\r",
      "\u001b[2K\u001b[32m⠇\u001b[0m Locking...\r",
      "\u001b[2K\u001b[32m⠋\u001b[0m Locking...\r",
      "\u001b[2K\u001b[32m⠙\u001b[0m Locking...\r",
      "\u001b[2K\u001b[32m⠹\u001b[0m Locking...\r",
      "\u001b[2K\u001b[32m⠸\u001b[0m Locking...\r",
      "\u001b[2K\u001b[32m⠼\u001b[0m Locking...\r",
      "\u001b[2K\u001b[32m⠴\u001b[0m Locking...\r",
      "\u001b[2K\u001b[32m⠦\u001b[0m Locking...\r",
      "\u001b[2K\u001b[32m⠧\u001b[0m Locking...\r",
      "\u001b[2K\u001b[32m⠇\u001b[0m Locking...\r",
      "\u001b[2K\u001b[32m⠏\u001b[0m Locking...\r",
      "\u001b[2K\u001b[32m⠋\u001b[0m Locking...\r",
      "\u001b[2K\u001b[32m⠙\u001b[0m Locking...\r",
      "\u001b[2K\u001b[32m⠹\u001b[0m Locking...\r",
      "\u001b[2K\u001b[32m⠸\u001b[0m Locking...\r",
      "\u001b[2K\u001b[32m⠼\u001b[0m Locking...\r",
      "\u001b[2K\u001b[32m⠴\u001b[0m Locking...\r",
      "\u001b[2K\u001b[32m⠦\u001b[0m Locking...\r",
      "\u001b[2K\u001b[32m⠧\u001b[0m Locking...\r",
      "\u001b[2K\u001b[32m⠇\u001b[0m Locking...\r",
      "\u001b[2K\u001b[32m⠏\u001b[0m Locking...\r",
      "\u001b[2K\u001b[32m⠋\u001b[0m Locking...\r",
      "\u001b[2K\u001b[32m⠙\u001b[0m Locking...\r",
      "\u001b[2K\u001b[32m⠹\u001b[0m Locking...\r",
      "\u001b[2K\u001b[32m⠸\u001b[0m Locking...\r",
      "\u001b[2K\u001b[32m⠼\u001b[0m Locking...\r",
      "\u001b[2K\u001b[32m⠴\u001b[0m Locking...\r",
      "\u001b[2K\u001b[32m⠦\u001b[0m Locking...\r",
      "\u001b[2K\u001b[32m⠧\u001b[0m Locking...\r",
      "\u001b[2K\u001b[32m⠇\u001b[0m Locking...\r",
      "\u001b[2K\u001b[32m⠏\u001b[0m Locking...\r",
      "\u001b[2K\u001b[32m⠋\u001b[0m Locking...\r",
      "\u001b[2K\u001b[32m⠙\u001b[0m Locking...\r",
      "\u001b[2K\u001b[32m⠹\u001b[0m Locking...\r",
      "\u001b[2K\u001b[32m⠸\u001b[0m Locking...\r",
      "\u001b[2K\u001b[32m⠼\u001b[0m Locking...\r",
      "\u001b[2K\u001b[32m⠴\u001b[0m Locking...\r",
      "\u001b[2K\u001b[32m⠦\u001b[0m Locking...\r",
      "\u001b[2K\u001b[32m⠧\u001b[0m Locking...\r",
      "\u001b[2K\u001b[32m⠇\u001b[0m Locking...\r",
      "\u001b[2K\u001b[32m⠏\u001b[0m Locking...\r",
      "\u001b[2K\u001b[32m⠋\u001b[0m Locking...\r",
      "\u001b[2K\u001b[32m⠙\u001b[0m Locking...\r",
      "\u001b[2K\u001b[32m⠹\u001b[0m Locking...\r",
      "\u001b[2K\u001b[32m⠸\u001b[0m Locking...\r",
      "\u001b[2K\u001b[32m⠼\u001b[0m Locking...\r",
      "\u001b[2K\u001b[32m⠴\u001b[0m Locking...\r",
      "\u001b[2K\u001b[32m⠦\u001b[0m Locking...\r",
      "\u001b[2K\u001b[32m⠧\u001b[0m Locking...\r",
      "\u001b[2K\u001b[32m⠇\u001b[0m Locking...\r",
      "\u001b[2K\u001b[32m⠏\u001b[0m Locking...\r",
      "\u001b[2K\u001b[32m⠋\u001b[0m Locking...\r",
      "\u001b[2K\u001b[32m⠙\u001b[0m Locking...\r",
      "\u001b[2K\u001b[32m⠹\u001b[0m Locking...\r",
      "\u001b[2K\u001b[32m⠸\u001b[0m Locking...\r",
      "\u001b[2K\u001b[32m⠼\u001b[0m Locking...\r",
      "\u001b[2K\u001b[32m⠴\u001b[0m Locking...\r",
      "\u001b[2K\u001b[32m⠦\u001b[0m Locking...\r",
      "\u001b[2K\u001b[32m⠧\u001b[0m Locking...\r",
      "\u001b[2K\u001b[32m⠇\u001b[0m Locking...\r",
      "\u001b[2K\u001b[32m⠏\u001b[0m Locking...\r",
      "\u001b[2K\u001b[32m⠋\u001b[0m Locking...\r",
      "\u001b[2K\u001b[32m⠙\u001b[0m Locking...\r",
      "\u001b[2K\u001b[32m⠹\u001b[0m Locking...\r",
      "\u001b[2K\u001b[32m⠸\u001b[0m Locking...\r",
      "\u001b[2K\u001b[32m⠼\u001b[0m Locking...\r",
      "\u001b[2K\u001b[32m⠴\u001b[0m Locking...\r",
      "\u001b[2K\u001b[32m⠦\u001b[0m Locking...\r",
      "\u001b[2K\u001b[32m⠧\u001b[0m Locking...\r",
      "\u001b[2K\u001b[32m⠇\u001b[0m Locking...\r",
      "\u001b[2K\u001b[32m⠏\u001b[0m Locking...\r",
      "\u001b[2K\u001b[32m⠋\u001b[0m Locking...\r",
      "\u001b[2K\u001b[32m⠙\u001b[0m Locking...\r",
      "\u001b[2K\u001b[32m⠹\u001b[0m Locking...\r",
      "\u001b[2K\u001b[32m⠸\u001b[0m Locking...\r",
      "\u001b[2K\u001b[32m⠼\u001b[0m Locking...\r",
      "\u001b[2K\u001b[32m⠴\u001b[0m Locking...\r",
      "\u001b[2K\u001b[32m⠦\u001b[0m Locking...\r",
      "\u001b[2K\u001b[32m⠧\u001b[0m Locking...\r",
      "\u001b[2K\u001b[32m⠇\u001b[0m Locking...\r",
      "\u001b[2K\u001b[32m⠏\u001b[0m Locking...\r",
      "\u001b[2K\u001b[32m⠋\u001b[0m Locking...\r",
      "\u001b[2K\u001b[32m⠙\u001b[0m Locking...\r",
      "\u001b[2K\u001b[32m⠹\u001b[0m Locking...\r",
      "\u001b[2K\u001b[32m⠸\u001b[0m Locking...\r",
      "\u001b[2K\u001b[32m⠼\u001b[0m Locking...\r",
      "\u001b[2K\u001b[32m⠴\u001b[0m Locking...\r",
      "\u001b[2K\u001b[32m⠦\u001b[0m Locking...\r",
      "\u001b[2K\u001b[32m⠧\u001b[0m Locking...\r",
      "\u001b[2K\u001b[32m⠇\u001b[0m Locking...\r",
      "\u001b[2K\u001b[32m⠏\u001b[0m Locking...\r",
      "\u001b[2K\u001b[32m⠋\u001b[0m Locking...\r",
      "\u001b[2K\u001b[32m⠙\u001b[0m Locking...\r",
      "\u001b[2K\u001b[32m⠹\u001b[0m Locking...\r",
      "\u001b[2K\u001b[32m⠸\u001b[0m Locking...\r",
      "\u001b[2K\u001b[32m⠼\u001b[0m Locking...\r",
      "\u001b[2K\u001b[32m⠴\u001b[0m Locking...\r",
      "\u001b[2K\u001b[32m⠦\u001b[0m Locking...\r",
      "\u001b[2K\u001b[32m⠇\u001b[0m Locking...\r",
      "\u001b[2K\u001b[32m⠏\u001b[0m Locking...\r",
      "\u001b[2K\u001b[32m⠋\u001b[0m Locking...\r",
      "\u001b[2K\u001b[32m⠙\u001b[0m Locking...\r",
      "\u001b[2K\u001b[32m⠹\u001b[0m Locking...\r",
      "\u001b[2K\u001b[32m⠸\u001b[0m Locking...\r",
      "\u001b[2K\u001b[32m⠼\u001b[0m Locking...\r",
      "\u001b[2K\u001b[32m⠴\u001b[0m Locking...\r",
      "\u001b[2K\u001b[32m⠦\u001b[0m Locking...\r",
      "\u001b[2K\u001b[32m⠧\u001b[0m Locking...\r",
      "\u001b[2K\u001b[32m⠇\u001b[0m Locking...\r",
      "\u001b[2K\u001b[32m⠏\u001b[0m Locking...\r",
      "\u001b[2K\u001b[32m⠋\u001b[0m Locking...\r",
      "\u001b[2K\u001b[32m⠙\u001b[0m Locking...\r",
      "\u001b[2K\u001b[32m⠹\u001b[0m Locking...\r",
      "\u001b[2K\u001b[32m⠸\u001b[0m Locking...\r",
      "\u001b[2K\u001b[32m⠼\u001b[0m Locking...\r",
      "\u001b[2K\u001b[32m⠴\u001b[0m Locking...\r",
      "\u001b[2K\u001b[32m⠦\u001b[0m Locking...\r",
      "\u001b[2K\u001b[32m⠧\u001b[0m Locking...\r",
      "\u001b[2K\u001b[32m⠇\u001b[0m Locking...\r",
      "\u001b[2K\u001b[32m⠏\u001b[0m Locking...\r",
      "\u001b[2K\u001b[32m⠋\u001b[0m Locking...\r",
      "\u001b[2K\u001b[32m⠙\u001b[0m Locking...\r",
      "\u001b[2K\u001b[32m⠹\u001b[0m Locking...\r",
      "\u001b[2K\u001b[32m⠸\u001b[0m Locking...\r",
      "\u001b[2K\u001b[32m⠼\u001b[0m Locking...\r",
      "\u001b[2K\u001b[32m⠴\u001b[0m Locking...\r",
      "\u001b[2K\u001b[32m⠦\u001b[0m Locking...\r",
      "\u001b[2K\u001b[32m⠧\u001b[0m Locking...\r",
      "\u001b[2K\u001b[32m⠇\u001b[0m Locking...\r",
      "\u001b[2K\u001b[32m⠏\u001b[0m Locking...\r",
      "\u001b[2K\u001b[32m⠋\u001b[0m Locking...\r",
      "\u001b[2K\u001b[32m⠙\u001b[0m Locking...\r",
      "\u001b[2K\u001b[32m⠹\u001b[0m Locking...\r",
      "\u001b[2K\u001b[32m⠸\u001b[0m Locking...\r",
      "\u001b[2K\u001b[32m⠼\u001b[0m Locking...\r",
      "\u001b[2K\u001b[32m⠴\u001b[0m Locking...\r",
      "\u001b[2K\u001b[32m⠦\u001b[0m Locking...\r",
      "\u001b[2K\u001b[32m⠧\u001b[0m Locking...\r",
      "\u001b[2K\u001b[32m⠇\u001b[0m Locking...\r",
      "\u001b[2K\u001b[32m⠏\u001b[0m Locking...\r",
      "\u001b[2K\u001b[32m⠋\u001b[0m Locking...\r",
      "\u001b[2K\u001b[32m⠙\u001b[0m Locking...\r",
      "\u001b[2K\u001b[32m⠹\u001b[0m Locking...\r",
      "\u001b[2K\u001b[32m⠸\u001b[0m Locking...\r",
      "\u001b[2K\u001b[32m⠼\u001b[0m Locking...\r",
      "\u001b[2K\u001b[32m⠴\u001b[0m Locking...\r",
      "\u001b[2K\u001b[32m⠦\u001b[0m Locking...\r",
      "\u001b[2K\u001b[32m⠧\u001b[0m Locking...\r",
      "\u001b[2K\u001b[32m⠇\u001b[0m Locking...\r",
      "\u001b[2K\u001b[32m⠏\u001b[0m Locking...\r",
      "\u001b[2K\u001b[32m⠋\u001b[0m Locking...\r",
      "\u001b[2K\u001b[32m⠙\u001b[0m Locking...\r",
      "\u001b[2K\u001b[32m⠹\u001b[0m Locking...\r",
      "\u001b[2K\u001b[32m⠸\u001b[0m Locking...\r",
      "\u001b[2K\u001b[32m⠼\u001b[0m Locking...\r",
      "\u001b[2K\u001b[32m⠴\u001b[0m Locking...\r",
      "\u001b[2K\u001b[32m⠦\u001b[0m Locking...\r",
      "\u001b[2K\u001b[32m⠧\u001b[0m Locking...\r",
      "\u001b[2K\u001b[32m⠇\u001b[0m Locking...\r",
      "\u001b[2K\u001b[32m⠏\u001b[0m Locking...\r",
      "\u001b[2K\u001b[32m⠋\u001b[0m Locking...\r",
      "\u001b[2K\u001b[32m⠙\u001b[0m Locking...\r",
      "\u001b[2K\u001b[32m⠹\u001b[0m Locking...\r",
      "\u001b[2K\u001b[32m⠸\u001b[0m Locking...\r",
      "\u001b[2K\u001b[32m⠼\u001b[0m Locking...\r",
      "\u001b[2K\u001b[32m⠴\u001b[0m Locking...\r",
      "\u001b[2K\u001b[32m⠦\u001b[0m Locking...\r",
      "\u001b[2K\u001b[32m⠧\u001b[0m Locking...\r",
      "\u001b[2K\u001b[32m⠇\u001b[0m Locking...\r",
      "\u001b[2K\u001b[32m⠏\u001b[0m Locking...\r",
      "\u001b[2K\u001b[32m⠋\u001b[0m Locking...\r",
      "\u001b[2K\u001b[32m⠙\u001b[0m Locking...\r",
      "\u001b[2K\u001b[32m⠹\u001b[0m Locking...\r",
      "\u001b[2K\u001b[32m⠸\u001b[0m Locking...\r",
      "\u001b[2K\u001b[32m⠼\u001b[0m Locking...\r",
      "\u001b[2K\u001b[32m⠴\u001b[0m Locking...\r",
      "\u001b[2K\u001b[32m⠦\u001b[0m Locking...\r",
      "\u001b[2K\u001b[32m⠧\u001b[0m Locking...\r",
      "\u001b[2K\u001b[32m⠇\u001b[0m Locking...\r",
      "\u001b[2K\u001b[32m⠏\u001b[0m Locking...\r",
      "\u001b[2K\u001b[32m⠋\u001b[0m Locking...\r",
      "\u001b[2K\u001b[32m⠙\u001b[0m Locking...\r",
      "\u001b[2K\u001b[32m⠹\u001b[0m Locking...\r",
      "\u001b[2K\u001b[32m⠸\u001b[0m Locking...\r",
      "\u001b[2K\u001b[32m⠼\u001b[0m Locking...\r",
      "\u001b[2K\u001b[32m⠴\u001b[0m Locking...\r",
      "\u001b[2K\u001b[32m⠦\u001b[0m Locking...\r",
      "\u001b[2K\u001b[32m⠧\u001b[0m Locking...\r",
      "\u001b[2K\u001b[32m⠇\u001b[0m Locking...\r",
      "\u001b[2K\u001b[32m⠏\u001b[0m Locking...\r",
      "\u001b[2K\u001b[32m⠙\u001b[0m Locking...\r",
      "\u001b[2K\u001b[32m⠹\u001b[0m Locking...\r",
      "\u001b[2K\u001b[32m⠸\u001b[0m Locking...\r",
      "\u001b[2K\u001b[32m⠼\u001b[0m Locking...\r",
      "\u001b[2K\u001b[32m⠴\u001b[0m Locking...\r",
      "\u001b[2K\u001b[32m⠦\u001b[0m Locking...\r",
      "\u001b[2K\u001b[32m⠧\u001b[0m Locking...\r",
      "\u001b[2K\u001b[32m⠇\u001b[0m Locking...\r",
      "\u001b[2K\u001b[32m⠏\u001b[0m Locking...\r",
      "\u001b[2K\u001b[32m⠋\u001b[0m Locking...\r",
      "\u001b[2K\u001b[32m⠙\u001b[0m Locking...\r",
      "\u001b[2K\u001b[32m⠹\u001b[0m Locking...\r",
      "\u001b[2K\u001b[32m⠸\u001b[0m Locking...\r",
      "\u001b[2K\u001b[32m⠼\u001b[0m Locking...\r",
      "\u001b[2K\u001b[32m⠴\u001b[0m Locking...\r",
      "\u001b[2K\u001b[32m⠦\u001b[0m Locking...\r",
      "\u001b[2K\u001b[32m⠧\u001b[0m Locking...\r",
      "\u001b[2K\u001b[32m⠇\u001b[0m Locking...\r",
      "\u001b[2K\u001b[32m⠏\u001b[0m Locking...\r",
      "\u001b[2K\u001b[32m⠋\u001b[0m Locking...\r",
      "\u001b[2K\u001b[32m⠙\u001b[0m Locking...\r",
      "\u001b[2K\u001b[32m⠹\u001b[0m Locking...\r",
      "\u001b[2K\u001b[32m⠸\u001b[0m Locking...\r",
      "\u001b[2K\u001b[32m⠼\u001b[0m Locking...\r",
      "\u001b[2K\u001b[32m⠴\u001b[0m Locking...\r",
      "\u001b[2K\u001b[32m⠦\u001b[0m Locking...\r",
      "\u001b[2K\u001b[32m⠧\u001b[0m Locking...\r",
      "\u001b[2K\u001b[32m⠇\u001b[0m Locking...\r",
      "\u001b[2K\u001b[32m⠏\u001b[0m Locking...\r",
      "\u001b[2K\u001b[32m⠋\u001b[0m Locking...\r",
      "\u001b[2K\u001b[32m⠙\u001b[0m Locking...\r",
      "\u001b[2K\u001b[32m⠹\u001b[0m Locking...\r",
      "\u001b[2K\u001b[32m⠸\u001b[0m Locking...\r",
      "\u001b[2K\u001b[32m⠼\u001b[0m Locking...\r",
      "\u001b[2K\u001b[32m⠴\u001b[0m Locking...\r",
      "\u001b[2K\u001b[32m⠦\u001b[0m Locking...\r",
      "\u001b[2K\u001b[32m⠧\u001b[0m Locking...\r",
      "\u001b[2K\u001b[32m⠇\u001b[0m Locking...\r",
      "\u001b[2K\u001b[32m⠏\u001b[0m Locking...\r",
      "\u001b[2K\u001b[32m⠋\u001b[0m Locking...\r",
      "\u001b[2K\u001b[32m⠙\u001b[0m Locking...\r",
      "\u001b[2K\u001b[32m⠹\u001b[0m Locking...\r",
      "\u001b[2K\u001b[32m⠸\u001b[0m Locking...\r",
      "\u001b[2K\u001b[32m⠼\u001b[0m Locking...\r",
      "\u001b[2K\u001b[32m⠴\u001b[0m Locking...\r",
      "\u001b[2K\u001b[32m⠦\u001b[0m Locking...\r",
      "\u001b[2K\u001b[32m⠧\u001b[0m Locking...\r",
      "\u001b[2K\u001b[32m⠇\u001b[0m Locking...\r",
      "\u001b[2K\u001b[32m⠏\u001b[0m Locking...\r",
      "\u001b[2K\u001b[32m⠋\u001b[0m Locking...\r",
      "\u001b[2K\u001b[32m⠙\u001b[0m Locking...\r",
      "\u001b[2K\u001b[32m⠹\u001b[0m Locking...\r",
      "\u001b[2K\u001b[32m⠸\u001b[0m Locking...\r",
      "\u001b[2K\u001b[32m⠼\u001b[0m Locking...\r",
      "\u001b[2K\u001b[32m⠴\u001b[0m Locking...\r",
      "\u001b[2K\u001b[32m⠦\u001b[0m Locking...\r",
      "\u001b[2K\u001b[32m⠧\u001b[0m Locking...\r",
      "\u001b[2K\u001b[32m⠇\u001b[0m Locking...\r",
      "\u001b[2K\u001b[32m⠏\u001b[0m Locking...\r",
      "\u001b[2K\u001b[32m⠋\u001b[0m Locking...\r",
      "\u001b[2K\u001b[32m⠙\u001b[0m Locking...\r",
      "\u001b[2K\u001b[32m⠹\u001b[0m Locking...\r",
      "\u001b[2K\u001b[32m⠸\u001b[0m Locking...\r",
      "\u001b[2K\u001b[32m⠼\u001b[0m Locking...\r",
      "\u001b[2K\u001b[32m⠴\u001b[0m Locking...\r",
      "\u001b[2K\u001b[32m⠦\u001b[0m Locking...\r",
      "\u001b[2K\u001b[32m⠧\u001b[0m Locking...\r",
      "\u001b[2K\u001b[32m⠇\u001b[0m Locking...\r",
      "\u001b[2K\u001b[32m⠏\u001b[0m Locking...\r",
      "\u001b[2K\u001b[32m⠋\u001b[0m Locking...\r",
      "\u001b[2K\u001b[32m⠙\u001b[0m Locking...\r",
      "\u001b[2K\u001b[32m⠹\u001b[0m Locking...\r",
      "\u001b[2K\u001b[32m⠸\u001b[0m Locking...\r",
      "\u001b[2K\u001b[32m⠼\u001b[0m Locking...\r",
      "\u001b[2K\u001b[32m⠴\u001b[0m Locking...\r",
      "\u001b[2K\u001b[32m⠦\u001b[0m Locking...\r",
      "\u001b[2K\u001b[32m⠧\u001b[0m Locking...\r",
      "\u001b[2K\u001b[32m⠇\u001b[0m Locking...\r",
      "\u001b[2K\u001b[32m⠏\u001b[0m Locking...\r",
      "\u001b[2K\u001b[32m⠋\u001b[0m Locking...\r",
      "\u001b[2K\u001b[32m⠙\u001b[0m Locking...\r",
      "\u001b[2K\u001b[32m⠹\u001b[0m Locking...\r",
      "\u001b[2K\u001b[32m⠸\u001b[0m Locking...\r",
      "\u001b[2K\u001b[32m⠼\u001b[0m Locking...\r",
      "\u001b[2K\u001b[32m⠴\u001b[0m Locking...\r",
      "\u001b[2K\u001b[32m⠦\u001b[0m Locking...\r",
      "\u001b[2K\u001b[32m⠧\u001b[0m Locking...\r",
      "\u001b[2K\u001b[32m⠏\u001b[0m Locking...\r",
      "\u001b[2K\u001b[32m⠋\u001b[0m Locking...\r",
      "\u001b[2K\u001b[32m⠙\u001b[0m Locking...\r",
      "\u001b[2K\u001b[32m⠹\u001b[0m Locking...\r",
      "\u001b[2K\u001b[32m⠸\u001b[0m Locking...\r",
      "\u001b[2K\u001b[32m⠼\u001b[0m Locking...\r",
      "\u001b[2K\u001b[32m⠴\u001b[0m Locking...\r",
      "\u001b[2K\u001b[32m⠦\u001b[0m Locking...\r",
      "\u001b[2K\u001b[32m⠧\u001b[0m Locking...\r",
      "\u001b[2K\u001b[32m⠇\u001b[0m Locking...\r",
      "\u001b[2K\u001b[32m⠏\u001b[0m Locking...\r",
      "\u001b[2K\u001b[32m⠋\u001b[0m Locking...\r",
      "\u001b[2K\u001b[32m⠙\u001b[0m Locking...\r",
      "\u001b[2K\u001b[32m⠹\u001b[0m Locking...\r",
      "\u001b[2K\u001b[32m⠸\u001b[0m Locking...\r",
      "\u001b[2K\u001b[32m⠼\u001b[0m Locking...\r",
      "\u001b[2K\u001b[32m⠴\u001b[0m Locking...\r",
      "\u001b[2K\u001b[32m⠦\u001b[0m Locking...\r",
      "\u001b[2K\u001b[32m⠧\u001b[0m Locking...\r",
      "\u001b[2K\u001b[32m⠇\u001b[0m Locking...\r",
      "\u001b[2K\u001b[32m⠏\u001b[0m Locking...\r",
      "\u001b[2K\u001b[32m⠋\u001b[0m Locking...\r",
      "\u001b[2K\u001b[32m⠙\u001b[0m Locking...\r",
      "\u001b[2K\u001b[32m⠹\u001b[0m Locking...\r",
      "\u001b[2K\u001b[32m⠸\u001b[0m Locking...\r",
      "\u001b[2K\u001b[32m⠼\u001b[0m Locking...\r",
      "\u001b[2K\u001b[32m⠴\u001b[0m Locking...\r",
      "\u001b[2K\u001b[32m⠦\u001b[0m Locking...\r",
      "\u001b[2K\u001b[32m⠧\u001b[0m Locking...\r",
      "\u001b[2K\u001b[32m⠇\u001b[0m Locking...\r",
      "\u001b[2K\u001b[32m⠏\u001b[0m Locking...\r",
      "\u001b[2K\u001b[32m⠋\u001b[0m Locking...\r",
      "\u001b[2K\u001b[32m⠙\u001b[0m Locking...\r",
      "\u001b[2K\u001b[32m⠹\u001b[0m Locking...\r",
      "\u001b[2K\u001b[32m⠸\u001b[0m Locking...\r",
      "\u001b[2K\u001b[32m⠼\u001b[0m Locking...\r",
      "\u001b[2K\u001b[32m⠴\u001b[0m Locking...\r",
      "\u001b[2K\u001b[32m⠦\u001b[0m Locking...\r",
      "\u001b[2K\u001b[32m⠧\u001b[0m Locking...\r",
      "\u001b[2K\u001b[32m⠇\u001b[0m Locking...\r",
      "\u001b[2K\u001b[32m⠏\u001b[0m Locking...\r",
      "\u001b[2K\u001b[32m⠋\u001b[0m Locking...\r",
      "\u001b[2K\u001b[32m⠙\u001b[0m Locking...\r",
      "\u001b[2K\u001b[32m⠹\u001b[0m Locking...\r",
      "\u001b[2K\u001b[32m⠸\u001b[0m Locking...\r",
      "\u001b[2K\u001b[32m⠼\u001b[0m Locking...\r",
      "\u001b[2K\u001b[32m⠴\u001b[0m Locking...\r",
      "\u001b[2K\u001b[32m⠦\u001b[0m Locking...\r",
      "\u001b[2K\u001b[32m⠧\u001b[0m Locking...\r",
      "\u001b[2K\u001b[32m⠇\u001b[0m Locking...\r",
      "\u001b[2K\u001b[32m⠏\u001b[0m Locking...\r",
      "\u001b[2K\u001b[32m⠋\u001b[0m Locking...\r",
      "\u001b[2K\u001b[32m⠙\u001b[0m Locking...\r",
      "\u001b[2K\u001b[32m⠹\u001b[0m Locking...\r",
      "\u001b[2K\u001b[32m⠸\u001b[0m Locking...\r",
      "\u001b[2K\u001b[32m⠼\u001b[0m Locking...\r",
      "\u001b[2K\u001b[32m⠴\u001b[0m Locking...\r",
      "\u001b[2K\u001b[32m⠦\u001b[0m Locking...\r",
      "\u001b[2K\u001b[32m⠧\u001b[0m Locking...\r",
      "\u001b[2K\u001b[32m⠇\u001b[0m Locking...\r",
      "\u001b[2K\u001b[32m⠏\u001b[0m Locking...\r",
      "\u001b[2K\u001b[32m⠋\u001b[0m Locking...\r",
      "\u001b[2K\u001b[32m⠙\u001b[0m Locking...\r",
      "\u001b[2K\u001b[32m⠹\u001b[0m Locking...\r",
      "\u001b[2K\u001b[32m⠸\u001b[0m Locking...\r",
      "\u001b[2K\u001b[32m⠼\u001b[0m Locking...\r",
      "\u001b[2K\u001b[32m⠴\u001b[0m Locking...\r",
      "\u001b[2K\u001b[32m⠦\u001b[0m Locking...\r",
      "\u001b[2K\u001b[32m⠧\u001b[0m Locking...\r",
      "\u001b[2K\u001b[32m⠇\u001b[0m Locking...\r",
      "\u001b[2K\u001b[32m⠏\u001b[0m Locking...\r",
      "\u001b[2K\u001b[32m⠋\u001b[0m Locking...\r",
      "\u001b[2K\u001b[32m⠙\u001b[0m Locking...\r",
      "\u001b[2K\u001b[32m⠹\u001b[0m Locking...\r",
      "\u001b[2K\u001b[32m⠸\u001b[0m Locking...\r",
      "\u001b[2K\u001b[32m⠼\u001b[0m Locking...\r",
      "\u001b[2K\u001b[32m⠴\u001b[0m Locking...\r",
      "\u001b[2K\u001b[32m⠦\u001b[0m Locking...\r",
      "\u001b[2K\u001b[32m⠧\u001b[0m Locking...\r",
      "\u001b[2K\u001b[32m⠇\u001b[0m Locking...\r",
      "\u001b[2K\u001b[32m⠏\u001b[0m Locking...\r",
      "\u001b[2K\u001b[32m⠋\u001b[0m Locking...\r",
      "\u001b[2K\u001b[32m⠙\u001b[0m Locking...\r",
      "\u001b[2K\u001b[32m⠹\u001b[0m Locking...\r",
      "\u001b[2K\u001b[32m⠸\u001b[0m Locking...\r",
      "\u001b[2K\u001b[32m⠼\u001b[0m Locking...\r",
      "\u001b[2K\u001b[32m⠴\u001b[0m Locking...\r",
      "\u001b[2K\u001b[32m⠦\u001b[0m Locking...\r",
      "\u001b[2K\u001b[32m⠧\u001b[0m Locking...\r",
      "\u001b[2K\u001b[32m⠇\u001b[0m Locking...\r",
      "\u001b[2K\u001b[32m⠏\u001b[0m Locking...\r",
      "\u001b[2K\u001b[32m⠋\u001b[0m Locking...\r",
      "\u001b[2K\u001b[32m⠹\u001b[0m Locking...\r",
      "\u001b[2K\u001b[32m⠸\u001b[0m Locking...\r",
      "\u001b[2K\u001b[32m⠼\u001b[0m Locking...\r",
      "\u001b[2K\u001b[32m⠴\u001b[0m Locking...\r",
      "\u001b[2K\u001b[32m⠦\u001b[0m Locking...\r",
      "\u001b[2K\u001b[32m⠧\u001b[0m Locking...\r",
      "\u001b[2K\u001b[32m⠇\u001b[0m Locking...\r",
      "\u001b[2K\u001b[32m⠏\u001b[0m Locking...\r",
      "\u001b[2K\u001b[32m⠋\u001b[0m Locking...\r",
      "\u001b[2K\u001b[32m⠙\u001b[0m Locking...\r",
      "\u001b[2K\u001b[32m⠹\u001b[0m Locking...\r",
      "\u001b[2K\u001b[32m⠸\u001b[0m Locking...\r",
      "\u001b[2K\u001b[32m⠼\u001b[0m Locking...\r",
      "\u001b[2K\u001b[32m⠴\u001b[0m Locking...\r",
      "\u001b[2K\u001b[32m⠦\u001b[0m Locking...\r",
      "\u001b[2K\u001b[32m⠧\u001b[0m Locking...\r",
      "\u001b[2K\u001b[32m⠇\u001b[0m Locking...\r",
      "\u001b[2K\u001b[32m⠏\u001b[0m Locking...\r",
      "\u001b[2K\u001b[32m⠋\u001b[0m Locking...\r",
      "\u001b[2K\u001b[32m⠙\u001b[0m Locking...\r",
      "\u001b[2K\u001b[32m⠹\u001b[0m Locking...\r",
      "\u001b[2K\u001b[32m⠸\u001b[0m Locking...\r",
      "\u001b[2K\u001b[32m⠼\u001b[0m Locking...\r",
      "\u001b[2K\u001b[32m⠴\u001b[0m Locking...\r",
      "\u001b[2K\u001b[32m⠦\u001b[0m Locking...\r",
      "\u001b[2K\u001b[32m⠧\u001b[0m Locking...\r",
      "\u001b[2K\u001b[32m⠇\u001b[0m Locking...\r",
      "\u001b[2K\u001b[32m⠏\u001b[0m Locking...\r",
      "\u001b[2K\u001b[32m⠋\u001b[0m Locking...\r",
      "\u001b[2K\u001b[32m⠙\u001b[0m Locking...\r",
      "\u001b[2K\u001b[32m⠹\u001b[0m Locking...\r",
      "\u001b[2K\u001b[32m⠸\u001b[0m Locking...\r",
      "\u001b[2K\u001b[32m⠼\u001b[0m Locking...\r",
      "\u001b[2K\u001b[32m⠴\u001b[0m Locking...\r",
      "\u001b[2K\u001b[32m⠦\u001b[0m Locking...\r",
      "\u001b[2K\u001b[32m⠧\u001b[0m Locking...\r",
      "\u001b[2K\u001b[32m⠇\u001b[0m Locking...\r",
      "\u001b[2K\u001b[32m⠏\u001b[0m Locking...\r",
      "\u001b[2K\u001b[32m⠋\u001b[0m Locking...\r",
      "\u001b[2K\u001b[32m⠙\u001b[0m Locking...\r",
      "\u001b[2K\u001b[32m⠹\u001b[0m Locking...\r",
      "\u001b[2K\u001b[32m⠸\u001b[0m Locking...\r",
      "\u001b[2K\u001b[32m⠼\u001b[0m Locking...\r",
      "\u001b[2K\u001b[32m⠴\u001b[0m Locking...\r",
      "\u001b[2K\u001b[32m⠦\u001b[0m Locking...\r",
      "\u001b[2K\u001b[32m⠧\u001b[0m Locking...\r",
      "\u001b[2K\u001b[32m⠇\u001b[0m Locking...\r",
      "\u001b[2K\u001b[32m⠏\u001b[0m Locking...\r",
      "\u001b[2K\u001b[32m⠋\u001b[0m Locking...\r",
      "\u001b[2K\u001b[32m⠙\u001b[0m Locking...\r",
      "\u001b[2K\u001b[32m⠹\u001b[0m Locking...\r",
      "\u001b[2K\u001b[32m⠸\u001b[0m Locking...\r",
      "\u001b[2K\u001b[32m⠼\u001b[0m Locking...\r",
      "\u001b[2K\u001b[32m⠴\u001b[0m Locking...\r",
      "\u001b[2K\u001b[32m⠦\u001b[0m Locking...\r",
      "\u001b[2K\u001b[32m⠧\u001b[0m Locking...\r",
      "\u001b[2K\u001b[32m⠇\u001b[0m Locking...\r",
      "\u001b[2K\u001b[32m⠏\u001b[0m Locking...\r",
      "\u001b[2K\u001b[32m⠋\u001b[0m Locking...\r",
      "\u001b[2K\u001b[32m⠙\u001b[0m Locking...\r",
      "\u001b[2K\u001b[32m⠹\u001b[0m Locking...\r",
      "\u001b[2K\u001b[32m⠸\u001b[0m Locking...\r",
      "\u001b[2K\u001b[32m⠼\u001b[0m Locking...\r",
      "\u001b[2K\u001b[32m⠴\u001b[0m Locking...\r",
      "\u001b[2K\u001b[32m⠦\u001b[0m Locking...\r",
      "\u001b[2K\u001b[32m⠧\u001b[0m Locking...\r",
      "\u001b[2K\u001b[32m⠇\u001b[0m Locking...\r",
      "\u001b[2K\u001b[32m⠏\u001b[0m Locking...\r",
      "\u001b[2K\u001b[32m⠋\u001b[0m Locking...\r",
      "\u001b[2K\u001b[32m⠙\u001b[0m Locking...\r",
      "\u001b[2K\u001b[32m⠹\u001b[0m Locking...\r",
      "\u001b[2K\u001b[32m⠸\u001b[0m Locking...\r",
      "\u001b[2K\u001b[32m⠼\u001b[0m Locking...\r",
      "\u001b[2K\u001b[32m⠴\u001b[0m Locking...\r",
      "\u001b[2K\u001b[32m⠦\u001b[0m Locking...\r",
      "\u001b[2K\u001b[32m⠧\u001b[0m Locking...\r",
      "\u001b[2K\u001b[32m⠇\u001b[0m Locking...\r",
      "\u001b[2K\u001b[32m⠏\u001b[0m Locking...\r",
      "\u001b[2K\u001b[32m⠋\u001b[0m Locking...\r",
      "\u001b[2K\u001b[32m⠙\u001b[0m Locking...\r",
      "\u001b[2K\u001b[32m⠹\u001b[0m Locking...\r",
      "\u001b[2K\u001b[32m⠸\u001b[0m Locking...\r",
      "\u001b[2K\u001b[32m⠼\u001b[0m Locking...\r",
      "\u001b[2K\u001b[32m⠴\u001b[0m Locking...\r",
      "\u001b[2K\u001b[32m⠦\u001b[0m Locking...\r",
      "\u001b[2K\u001b[32m⠧\u001b[0m Locking...\r",
      "\u001b[2K\u001b[32m⠇\u001b[0m Locking...\r",
      "\u001b[2K\u001b[32m⠏\u001b[0m Locking...\r",
      "\u001b[2K\u001b[32m⠙\u001b[0m Locking...\r",
      "\u001b[2K\u001b[32m⠹\u001b[0m Locking...\r",
      "\u001b[2K\u001b[32m⠸\u001b[0m Locking...\r",
      "\u001b[2K\u001b[32m⠼\u001b[0m Locking...\r",
      "\u001b[2K\u001b[32m⠴\u001b[0m Locking...\r",
      "\u001b[2K\u001b[32m⠦\u001b[0m Locking...\r",
      "\u001b[2K\u001b[32m⠧\u001b[0m Locking...\r",
      "\u001b[2K\u001b[32m⠇\u001b[0m Locking...\r",
      "\u001b[2K\u001b[32m⠏\u001b[0m Locking...\r",
      "\u001b[2K\u001b[32m⠋\u001b[0m Locking...\r",
      "\u001b[2K\u001b[32m⠙\u001b[0m Locking...\r",
      "\u001b[2K\u001b[32m⠹\u001b[0m Locking...\r",
      "\u001b[2K\u001b[32m⠸\u001b[0m Locking...\r",
      "\u001b[2K\u001b[32m⠼\u001b[0m Locking...\r",
      "\u001b[2K\u001b[32m⠴\u001b[0m Locking...\r",
      "\u001b[2K\u001b[32m⠦\u001b[0m Locking...\r",
      "\u001b[2K\u001b[32m⠧\u001b[0m Locking...\r",
      "\u001b[2K\u001b[32m⠇\u001b[0m Locking...\r",
      "\u001b[2K\u001b[32m⠏\u001b[0m Locking...\r",
      "\u001b[2K\u001b[32m⠋\u001b[0m Locking...\r",
      "\u001b[2K\u001b[32m⠙\u001b[0m Locking...\r",
      "\u001b[2K\u001b[32m⠹\u001b[0m Locking...\r",
      "\u001b[2K\u001b[32m⠸\u001b[0m Locking...\r",
      "\u001b[2K\u001b[32m⠼\u001b[0m Locking...\r",
      "\u001b[2K\u001b[32m⠴\u001b[0m Locking...\r",
      "\u001b[2K\u001b[32m⠦\u001b[0m Locking...\r",
      "\u001b[2K\u001b[32m⠧\u001b[0m Locking...\r",
      "\u001b[2K\u001b[32m⠇\u001b[0m Locking...\r",
      "\u001b[2K\u001b[32m⠏\u001b[0m Locking...\r",
      "\u001b[2K\u001b[32m⠋\u001b[0m Locking...\r",
      "\u001b[2K\u001b[32m⠙\u001b[0m Locking...\r",
      "\u001b[2K\u001b[32m⠹\u001b[0m Locking...\r",
      "\u001b[2K\u001b[32m⠸\u001b[0m Locking...\r",
      "\u001b[2K\u001b[32m⠼\u001b[0m Locking...\r",
      "\u001b[2K\u001b[32m⠴\u001b[0m Locking...\r",
      "\u001b[2K\u001b[32m⠦\u001b[0m Locking...\r",
      "\u001b[2K\u001b[32m⠧\u001b[0m Locking...\r",
      "\u001b[2K\u001b[32m⠇\u001b[0m Locking...\r",
      "\u001b[2K\u001b[32m⠏\u001b[0m Locking...\r",
      "\u001b[2K\u001b[32m⠋\u001b[0m Locking...\r",
      "\u001b[2K\u001b[32m⠙\u001b[0m Locking...\r",
      "\u001b[2K\u001b[32m⠹\u001b[0m Locking...\r",
      "\u001b[2K\u001b[32m⠸\u001b[0m Locking...\r",
      "\u001b[2K\u001b[32m⠼\u001b[0m Locking...\r",
      "\u001b[2K\u001b[32m⠴\u001b[0m Locking...\r",
      "\u001b[2K\u001b[32m⠦\u001b[0m Locking...\r",
      "\u001b[2K\u001b[32m⠧\u001b[0m Locking...\r",
      "\u001b[2K\u001b[32m⠇\u001b[0m Locking...\r",
      "\u001b[2K\u001b[32m⠏\u001b[0m Locking...\r",
      "\u001b[2K\u001b[32m⠋\u001b[0m Locking...\r",
      "\u001b[2K\u001b[32m⠙\u001b[0m Locking...\r",
      "\u001b[2K\u001b[32m⠹\u001b[0m Locking...\r",
      "\u001b[2K\u001b[32m⠸\u001b[0m Locking...\r",
      "\u001b[2K\u001b[32m⠼\u001b[0m Locking...\r",
      "\u001b[2K\u001b[32m⠴\u001b[0m Locking...\r",
      "\u001b[2K\u001b[32m⠦\u001b[0m Locking...\r",
      "\u001b[2K\u001b[32m⠧\u001b[0m Locking...\r",
      "\u001b[2K\u001b[32m⠇\u001b[0m Locking...\r",
      "\u001b[2K\u001b[32m⠏\u001b[0m Locking...\r",
      "\u001b[2K\u001b[32m⠋\u001b[0m Locking...\r",
      "\u001b[2K\u001b[32m⠙\u001b[0m Locking...\r",
      "\u001b[2K\u001b[32m⠹\u001b[0m Locking...\r",
      "\u001b[2K\u001b[32m⠸\u001b[0m Locking...\r",
      "\u001b[2K\u001b[32m⠼\u001b[0m Locking...\r",
      "\u001b[2K\u001b[32m⠴\u001b[0m Locking...\r",
      "\u001b[2K\u001b[32m⠦\u001b[0m Locking...\r",
      "\u001b[2K\u001b[32m⠧\u001b[0m Locking...\r",
      "\u001b[2K\u001b[32m⠇\u001b[0m Locking...\r",
      "\u001b[2K\u001b[32m⠏\u001b[0m Locking...\r",
      "\u001b[2K\u001b[32m⠋\u001b[0m Locking...\r",
      "\u001b[2K\u001b[32m⠙\u001b[0m Locking...\r",
      "\u001b[2K\u001b[32m⠹\u001b[0m Locking...\r",
      "\u001b[2K\u001b[32m⠸\u001b[0m Locking...\r",
      "\u001b[2K\u001b[32m⠼\u001b[0m Locking...\r",
      "\u001b[2K\u001b[32m⠴\u001b[0m Locking...\r",
      "\u001b[2K\u001b[32m⠦\u001b[0m Locking...\r",
      "\u001b[2K\u001b[32m⠧\u001b[0m Locking...\r",
      "\u001b[2K\u001b[32m⠇\u001b[0m Locking...\r",
      "\u001b[2K\u001b[32m⠏\u001b[0m Locking...\r",
      "\u001b[2K\u001b[32m⠋\u001b[0m Locking...\r",
      "\u001b[2K\u001b[32m⠙\u001b[0m Locking...\r",
      "\u001b[2K\u001b[32m⠹\u001b[0m Locking...\r",
      "\u001b[2K\u001b[32m⠸\u001b[0m Locking...\r",
      "\u001b[2K\u001b[32m⠼\u001b[0m Locking...\r",
      "\u001b[2K\u001b[32m⠴\u001b[0m Locking...\r",
      "\u001b[2K\u001b[32m⠦\u001b[0m Locking...\r",
      "\u001b[2K\u001b[32m⠧\u001b[0m Locking...\r",
      "\u001b[2K\u001b[32m⠇\u001b[0m Locking...\r",
      "\u001b[2K\u001b[32m⠏\u001b[0m Locking...\r",
      "\u001b[2K\u001b[32m⠋\u001b[0m Locking...\r",
      "\u001b[2K\u001b[32m⠙\u001b[0m Locking...\r",
      "\u001b[2K✔ Success!\n"
     ]
    },
    {
     "name": "stdout",
     "output_type": "stream",
     "text": [
      "\u001b[32m⠹\u001b[0m Locking...\r",
      "\u001b[2K\u001b[32m⠹\u001b[0m Locking...\n"
     ]
    },
    {
     "name": "stdout",
     "output_type": "stream",
     "text": [
      "\u001b[?25h\r",
      "\u001b[1A\u001b[2K\u001b[1mInstalling dependencies from Pipfile.lock \u001b[0m\u001b[1m(\u001b[0m\u001b[1mcace76\u001b[0m\u001b[1m)\u001b[0m\u001b[1;33m...\u001b[0m\n"
     ]
    },
    {
     "name": "stdout",
     "output_type": "stream",
     "text": [
      "To activate this project's virtualenv, run \u001b[33mpipenv shell\u001b[0m.\n"
     ]
    },
    {
     "name": "stdout",
     "output_type": "stream",
     "text": [
      "Alternatively, run a command inside the virtualenv with \u001b[33mpipenv run\u001b[0m.\n"
     ]
    },
    {
     "name": "stdout",
     "output_type": "stream",
     "text": [
      "*********  Finished pip installing torch-scatter  *********\n"
     ]
    },
    {
     "name": "stdout",
     "output_type": "stream",
     "text": [
      "\u001b[1;32mInstalling .\u001b[0m\u001b[1;35m/\u001b[0m\u001b[1;95mPC-SAFT-1.4.1...\u001b[0m\n"
     ]
    },
    {
     "name": "stdout",
     "output_type": "stream",
     "text": [
      "\u001b[?25lResolving .\u001b[35m/\u001b[0m\u001b[95mPC-SAFT-1.4.1...\u001b[0m\n"
     ]
    },
    {
     "name": "stdout",
     "output_type": "stream",
     "text": [
      "\u001b[32m⠋\u001b[0m Installing...\r",
      "\u001b[2K\u001b[1mAdded \u001b[0m\u001b[1;32mpcsaft\u001b[0m to Pipfile's \u001b[1;33m[\u001b[0m\u001b[33mpackages\u001b[0m\u001b[1;33m]\u001b[0m \u001b[33m...\u001b[0m\n"
     ]
    },
    {
     "name": "stdout",
     "output_type": "stream",
     "text": [
      "\u001b[32m⠋\u001b[0m Installing None...\r",
      "\u001b[2K✔ Installation Succeeded\n"
     ]
    },
    {
     "name": "stdout",
     "output_type": "stream",
     "text": [
      "\u001b[32m⠋\u001b[0m Installing None...\r",
      "\u001b[2K\u001b[32m⠋\u001b[0m Installing None...\n"
     ]
    },
    {
     "name": "stdout",
     "output_type": "stream",
     "text": [
      "\u001b[?25h\r",
      "\u001b[1A\u001b[2K\u001b[?25lBuilding requirements\u001b[33m...\u001b[0m\n"
     ]
    },
    {
     "name": "stdout",
     "output_type": "stream",
     "text": [
      "\u001b[32m⠋\u001b[0m Locking...\r",
      "\u001b[2KResolving dependencies\u001b[33m...\u001b[0m\n"
     ]
    },
    {
     "name": "stdout",
     "output_type": "stream",
     "text": [
      "\u001b[32m⠋\u001b[0m Locking...\r",
      "\u001b[2K\u001b[32m⠋\u001b[0m Locking...\r",
      "\u001b[2K\u001b[32m⠹\u001b[0m Locking...\r",
      "\u001b[2K\u001b[32m⠸\u001b[0m Locking...\r",
      "\u001b[2K\u001b[32m⠼\u001b[0m Locking...\r",
      "\u001b[2K\u001b[32m⠴\u001b[0m Locking...\r",
      "\u001b[2K\u001b[32m⠦\u001b[0m Locking...\r",
      "\u001b[2K\u001b[32m⠧\u001b[0m Locking...\r",
      "\u001b[2K\u001b[32m⠇\u001b[0m Locking...\r",
      "\u001b[2K\u001b[32m⠏\u001b[0m Locking...\r",
      "\u001b[2K\u001b[32m⠋\u001b[0m Locking...\r",
      "\u001b[2K\u001b[32m⠙\u001b[0m Locking...\r",
      "\u001b[2K\u001b[32m⠹\u001b[0m Locking...\r",
      "\u001b[2K\u001b[32m⠸\u001b[0m Locking...\r",
      "\u001b[2K\u001b[32m⠼\u001b[0m Locking...\r",
      "\u001b[2K\u001b[32m⠴\u001b[0m Locking...\r",
      "\u001b[2K\u001b[32m⠦\u001b[0m Locking...\r",
      "\u001b[2K\u001b[32m⠧\u001b[0m Locking...\r",
      "\u001b[2K\u001b[32m⠇\u001b[0m Locking...\r",
      "\u001b[2K\u001b[32m⠏\u001b[0m Locking...\r",
      "\u001b[2K\u001b[32m⠋\u001b[0m Locking...\r",
      "\u001b[2K\u001b[32m⠙\u001b[0m Locking...\r",
      "\u001b[2K\u001b[32m⠹\u001b[0m Locking...\r",
      "\u001b[2K\u001b[32m⠸\u001b[0m Locking...\r",
      "\u001b[2K\u001b[32m⠼\u001b[0m Locking...\r",
      "\u001b[2K\u001b[32m⠴\u001b[0m Locking...\r",
      "\u001b[2K\u001b[32m⠦\u001b[0m Locking...\r",
      "\u001b[2K\u001b[32m⠧\u001b[0m Locking...\r",
      "\u001b[2K\u001b[32m⠇\u001b[0m Locking...\r",
      "\u001b[2K\u001b[32m⠏\u001b[0m Locking...\r",
      "\u001b[2K\u001b[32m⠋\u001b[0m Locking...\r",
      "\u001b[2K\u001b[32m⠙\u001b[0m Locking...\r",
      "\u001b[2K\u001b[32m⠹\u001b[0m Locking...\r",
      "\u001b[2K\u001b[32m⠸\u001b[0m Locking...\r",
      "\u001b[2K\u001b[32m⠼\u001b[0m Locking...\r",
      "\u001b[2K\u001b[32m⠴\u001b[0m Locking...\r",
      "\u001b[2K\u001b[32m⠦\u001b[0m Locking...\r",
      "\u001b[2K\u001b[32m⠧\u001b[0m Locking...\r",
      "\u001b[2K\u001b[32m⠇\u001b[0m Locking...\r",
      "\u001b[2K\u001b[32m⠏\u001b[0m Locking...\r",
      "\u001b[2K\u001b[32m⠋\u001b[0m Locking...\r",
      "\u001b[2K\u001b[32m⠙\u001b[0m Locking...\r",
      "\u001b[2K\u001b[32m⠹\u001b[0m Locking...\r",
      "\u001b[2K\u001b[32m⠸\u001b[0m Locking...\r",
      "\u001b[2K\u001b[32m⠼\u001b[0m Locking...\r",
      "\u001b[2K\u001b[32m⠴\u001b[0m Locking...\r",
      "\u001b[2K\u001b[32m⠦\u001b[0m Locking...\r",
      "\u001b[2K\u001b[32m⠧\u001b[0m Locking...\r",
      "\u001b[2K\u001b[32m⠇\u001b[0m Locking...\r",
      "\u001b[2K\u001b[32m⠏\u001b[0m Locking...\r",
      "\u001b[2K\u001b[32m⠋\u001b[0m Locking...\r",
      "\u001b[2K\u001b[32m⠙\u001b[0m Locking...\r",
      "\u001b[2K\u001b[32m⠹\u001b[0m Locking...\r",
      "\u001b[2K\u001b[32m⠸\u001b[0m Locking...\r",
      "\u001b[2K\u001b[32m⠼\u001b[0m Locking...\r",
      "\u001b[2K\u001b[32m⠴\u001b[0m Locking...\r",
      "\u001b[2K\u001b[32m⠦\u001b[0m Locking...\r",
      "\u001b[2K\u001b[32m⠧\u001b[0m Locking...\r",
      "\u001b[2K\u001b[32m⠇\u001b[0m Locking...\r",
      "\u001b[2K\u001b[32m⠏\u001b[0m Locking...\r",
      "\u001b[2K\u001b[32m⠋\u001b[0m Locking...\r",
      "\u001b[2K\u001b[32m⠙\u001b[0m Locking...\r",
      "\u001b[2K\u001b[32m⠹\u001b[0m Locking...\r",
      "\u001b[2K\u001b[32m⠸\u001b[0m Locking...\r",
      "\u001b[2K\u001b[32m⠼\u001b[0m Locking...\r",
      "\u001b[2K\u001b[32m⠴\u001b[0m Locking...\r",
      "\u001b[2K\u001b[32m⠦\u001b[0m Locking...\r",
      "\u001b[2K\u001b[32m⠧\u001b[0m Locking...\r",
      "\u001b[2K\u001b[32m⠇\u001b[0m Locking...\r",
      "\u001b[2K\u001b[32m⠏\u001b[0m Locking...\r",
      "\u001b[2K\u001b[32m⠋\u001b[0m Locking...\r",
      "\u001b[2K\u001b[32m⠙\u001b[0m Locking...\r",
      "\u001b[2K\u001b[32m⠹\u001b[0m Locking...\r",
      "\u001b[2K\u001b[32m⠸\u001b[0m Locking...\r",
      "\u001b[2K\u001b[32m⠼\u001b[0m Locking...\r",
      "\u001b[2K\u001b[32m⠴\u001b[0m Locking...\r",
      "\u001b[2K\u001b[32m⠦\u001b[0m Locking...\r",
      "\u001b[2K\u001b[32m⠧\u001b[0m Locking...\r",
      "\u001b[2K\u001b[32m⠇\u001b[0m Locking...\r",
      "\u001b[2K\u001b[32m⠏\u001b[0m Locking...\r",
      "\u001b[2K\u001b[32m⠋\u001b[0m Locking...\r",
      "\u001b[2K\u001b[32m⠙\u001b[0m Locking...\r",
      "\u001b[2K\u001b[32m⠹\u001b[0m Locking...\r",
      "\u001b[2K\u001b[32m⠸\u001b[0m Locking...\r",
      "\u001b[2K\u001b[32m⠼\u001b[0m Locking...\r",
      "\u001b[2K\u001b[32m⠴\u001b[0m Locking...\r",
      "\u001b[2K\u001b[32m⠦\u001b[0m Locking...\r",
      "\u001b[2K\u001b[32m⠧\u001b[0m Locking...\r",
      "\u001b[2K\u001b[32m⠇\u001b[0m Locking...\r",
      "\u001b[2K\u001b[32m⠏\u001b[0m Locking...\r",
      "\u001b[2K\u001b[32m⠋\u001b[0m Locking...\r",
      "\u001b[2K\u001b[32m⠙\u001b[0m Locking...\r",
      "\u001b[2K\u001b[32m⠹\u001b[0m Locking...\r",
      "\u001b[2K\u001b[32m⠸\u001b[0m Locking...\r",
      "\u001b[2K\u001b[32m⠼\u001b[0m Locking...\r",
      "\u001b[2K\u001b[32m⠦\u001b[0m Locking...\r",
      "\u001b[2K\u001b[32m⠧\u001b[0m Locking...\r",
      "\u001b[2K\u001b[32m⠇\u001b[0m Locking...\r",
      "\u001b[2K\u001b[32m⠏\u001b[0m Locking...\r",
      "\u001b[2K\u001b[32m⠋\u001b[0m Locking...\r",
      "\u001b[2K\u001b[32m⠙\u001b[0m Locking...\r",
      "\u001b[2K\u001b[32m⠹\u001b[0m Locking...\r",
      "\u001b[2K\u001b[32m⠸\u001b[0m Locking...\r",
      "\u001b[2K\u001b[32m⠼\u001b[0m Locking...\r",
      "\u001b[2K\u001b[32m⠴\u001b[0m Locking...\r",
      "\u001b[2K\u001b[32m⠦\u001b[0m Locking...\r",
      "\u001b[2K\u001b[32m⠧\u001b[0m Locking...\r",
      "\u001b[2K\u001b[32m⠇\u001b[0m Locking...\r",
      "\u001b[2K\u001b[32m⠏\u001b[0m Locking...\r",
      "\u001b[2K\u001b[32m⠋\u001b[0m Locking...\r",
      "\u001b[2K\u001b[32m⠙\u001b[0m Locking...\r",
      "\u001b[2K\u001b[32m⠹\u001b[0m Locking...\r",
      "\u001b[2K\u001b[32m⠸\u001b[0m Locking...\r",
      "\u001b[2K\u001b[32m⠼\u001b[0m Locking...\r",
      "\u001b[2K\u001b[32m⠴\u001b[0m Locking...\r",
      "\u001b[2K\u001b[32m⠦\u001b[0m Locking...\r",
      "\u001b[2K\u001b[32m⠧\u001b[0m Locking...\r",
      "\u001b[2K\u001b[32m⠇\u001b[0m Locking...\r",
      "\u001b[2K\u001b[32m⠏\u001b[0m Locking...\r",
      "\u001b[2K\u001b[32m⠋\u001b[0m Locking...\r",
      "\u001b[2K\u001b[32m⠙\u001b[0m Locking...\r",
      "\u001b[2K\u001b[32m⠹\u001b[0m Locking...\r",
      "\u001b[2K\u001b[32m⠸\u001b[0m Locking...\r",
      "\u001b[2K\u001b[32m⠼\u001b[0m Locking...\r",
      "\u001b[2K\u001b[32m⠴\u001b[0m Locking...\r",
      "\u001b[2K\u001b[32m⠦\u001b[0m Locking...\r",
      "\u001b[2K\u001b[32m⠧\u001b[0m Locking...\r",
      "\u001b[2K\u001b[32m⠇\u001b[0m Locking...\r",
      "\u001b[2K\u001b[32m⠏\u001b[0m Locking...\r",
      "\u001b[2K\u001b[32m⠋\u001b[0m Locking...\r",
      "\u001b[2K\u001b[32m⠙\u001b[0m Locking...\r",
      "\u001b[2K\u001b[32m⠹\u001b[0m Locking...\r",
      "\u001b[2K\u001b[32m⠸\u001b[0m Locking...\r",
      "\u001b[2K\u001b[32m⠼\u001b[0m Locking...\r",
      "\u001b[2K\u001b[32m⠴\u001b[0m Locking...\r",
      "\u001b[2K\u001b[32m⠦\u001b[0m Locking...\r",
      "\u001b[2K\u001b[32m⠧\u001b[0m Locking...\r",
      "\u001b[2K\u001b[32m⠇\u001b[0m Locking...\r",
      "\u001b[2K\u001b[32m⠏\u001b[0m Locking...\r",
      "\u001b[2K\u001b[32m⠋\u001b[0m Locking...\r",
      "\u001b[2K\u001b[32m⠙\u001b[0m Locking...\r",
      "\u001b[2K\u001b[32m⠹\u001b[0m Locking...\r",
      "\u001b[2K\u001b[32m⠸\u001b[0m Locking...\r",
      "\u001b[2K\u001b[32m⠼\u001b[0m Locking...\r",
      "\u001b[2K\u001b[32m⠴\u001b[0m Locking...\r",
      "\u001b[2K\u001b[32m⠦\u001b[0m Locking...\r",
      "\u001b[2K\u001b[32m⠧\u001b[0m Locking...\r",
      "\u001b[2K\u001b[32m⠇\u001b[0m Locking...\r",
      "\u001b[2K\u001b[32m⠏\u001b[0m Locking...\r",
      "\u001b[2K\u001b[32m⠋\u001b[0m Locking...\r",
      "\u001b[2K\u001b[32m⠙\u001b[0m Locking...\r",
      "\u001b[2K\u001b[32m⠹\u001b[0m Locking...\r",
      "\u001b[2K\u001b[32m⠸\u001b[0m Locking...\r",
      "\u001b[2K\u001b[32m⠼\u001b[0m Locking...\r",
      "\u001b[2K\u001b[32m⠴\u001b[0m Locking...\r",
      "\u001b[2K\u001b[32m⠦\u001b[0m Locking...\r",
      "\u001b[2K\u001b[32m⠧\u001b[0m Locking...\r",
      "\u001b[2K\u001b[32m⠇\u001b[0m Locking...\r",
      "\u001b[2K\u001b[32m⠏\u001b[0m Locking...\r",
      "\u001b[2K\u001b[32m⠋\u001b[0m Locking...\r",
      "\u001b[2K\u001b[32m⠙\u001b[0m Locking...\r",
      "\u001b[2K\u001b[32m⠹\u001b[0m Locking...\r",
      "\u001b[2K\u001b[32m⠸\u001b[0m Locking...\r",
      "\u001b[2K\u001b[32m⠼\u001b[0m Locking...\r",
      "\u001b[2K\u001b[32m⠴\u001b[0m Locking...\r",
      "\u001b[2K\u001b[32m⠦\u001b[0m Locking...\r",
      "\u001b[2K\u001b[32m⠧\u001b[0m Locking...\r",
      "\u001b[2K\u001b[32m⠇\u001b[0m Locking...\r",
      "\u001b[2K\u001b[32m⠏\u001b[0m Locking...\r",
      "\u001b[2K\u001b[32m⠋\u001b[0m Locking...\r",
      "\u001b[2K\u001b[32m⠙\u001b[0m Locking...\r",
      "\u001b[2K\u001b[32m⠹\u001b[0m Locking...\r",
      "\u001b[2K\u001b[32m⠸\u001b[0m Locking...\r",
      "\u001b[2K\u001b[32m⠼\u001b[0m Locking...\r",
      "\u001b[2K\u001b[32m⠴\u001b[0m Locking...\r",
      "\u001b[2K\u001b[32m⠦\u001b[0m Locking...\r",
      "\u001b[2K\u001b[32m⠧\u001b[0m Locking...\r",
      "\u001b[2K\u001b[32m⠇\u001b[0m Locking...\r",
      "\u001b[2K\u001b[32m⠏\u001b[0m Locking...\r",
      "\u001b[2K\u001b[32m⠋\u001b[0m Locking...\r",
      "\u001b[2K\u001b[32m⠙\u001b[0m Locking...\r",
      "\u001b[2K\u001b[32m⠹\u001b[0m Locking...\r",
      "\u001b[2K\u001b[32m⠸\u001b[0m Locking...\r",
      "\u001b[2K\u001b[32m⠼\u001b[0m Locking...\r",
      "\u001b[2K\u001b[32m⠴\u001b[0m Locking...\r",
      "\u001b[2K\u001b[32m⠦\u001b[0m Locking...\r",
      "\u001b[2K\u001b[32m⠧\u001b[0m Locking...\r",
      "\u001b[2K\u001b[32m⠇\u001b[0m Locking...\r",
      "\u001b[2K\u001b[32m⠏\u001b[0m Locking...\r",
      "\u001b[2K\u001b[32m⠋\u001b[0m Locking...\r",
      "\u001b[2K\u001b[32m⠙\u001b[0m Locking...\r",
      "\u001b[2K\u001b[32m⠸\u001b[0m Locking...\r",
      "\u001b[2K\u001b[32m⠼\u001b[0m Locking...\r",
      "\u001b[2K\u001b[32m⠴\u001b[0m Locking...\r",
      "\u001b[2K\u001b[32m⠦\u001b[0m Locking...\r",
      "\u001b[2K\u001b[32m⠧\u001b[0m Locking...\r",
      "\u001b[2K\u001b[32m⠇\u001b[0m Locking...\r",
      "\u001b[2K\u001b[32m⠏\u001b[0m Locking...\r",
      "\u001b[2K\u001b[32m⠋\u001b[0m Locking...\r",
      "\u001b[2K\u001b[32m⠙\u001b[0m Locking...\r",
      "\u001b[2K\u001b[32m⠹\u001b[0m Locking...\r",
      "\u001b[2K\u001b[32m⠸\u001b[0m Locking...\r",
      "\u001b[2K\u001b[32m⠼\u001b[0m Locking...\r",
      "\u001b[2K\u001b[32m⠴\u001b[0m Locking...\r",
      "\u001b[2K\u001b[32m⠦\u001b[0m Locking...\r",
      "\u001b[2K\u001b[32m⠧\u001b[0m Locking...\r",
      "\u001b[2K\u001b[32m⠇\u001b[0m Locking...\r",
      "\u001b[2K\u001b[32m⠏\u001b[0m Locking...\r",
      "\u001b[2K\u001b[32m⠋\u001b[0m Locking...\r",
      "\u001b[2K\u001b[32m⠙\u001b[0m Locking...\r",
      "\u001b[2K\u001b[32m⠹\u001b[0m Locking...\r",
      "\u001b[2K\u001b[32m⠸\u001b[0m Locking...\r",
      "\u001b[2K\u001b[32m⠼\u001b[0m Locking...\r",
      "\u001b[2K\u001b[32m⠴\u001b[0m Locking...\r",
      "\u001b[2K\u001b[32m⠦\u001b[0m Locking...\r",
      "\u001b[2K\u001b[32m⠧\u001b[0m Locking...\r",
      "\u001b[2K\u001b[32m⠇\u001b[0m Locking...\r",
      "\u001b[2K\u001b[32m⠏\u001b[0m Locking...\r",
      "\u001b[2K\u001b[32m⠋\u001b[0m Locking...\r",
      "\u001b[2K\u001b[32m⠙\u001b[0m Locking...\r",
      "\u001b[2K\u001b[32m⠹\u001b[0m Locking...\r",
      "\u001b[2K\u001b[32m⠸\u001b[0m Locking...\r",
      "\u001b[2K\u001b[32m⠼\u001b[0m Locking...\r",
      "\u001b[2K\u001b[32m⠴\u001b[0m Locking...\r",
      "\u001b[2K\u001b[32m⠦\u001b[0m Locking...\r",
      "\u001b[2K\u001b[32m⠧\u001b[0m Locking...\r",
      "\u001b[2K\u001b[32m⠇\u001b[0m Locking...\r",
      "\u001b[2K\u001b[32m⠏\u001b[0m Locking...\r",
      "\u001b[2K\u001b[32m⠋\u001b[0m Locking...\r",
      "\u001b[2K\u001b[32m⠙\u001b[0m Locking...\r",
      "\u001b[2K\u001b[32m⠹\u001b[0m Locking...\r",
      "\u001b[2K\u001b[32m⠸\u001b[0m Locking...\r",
      "\u001b[2K\u001b[32m⠼\u001b[0m Locking...\r",
      "\u001b[2K\u001b[32m⠴\u001b[0m Locking...\r",
      "\u001b[2K\u001b[32m⠦\u001b[0m Locking...\r",
      "\u001b[2K\u001b[32m⠧\u001b[0m Locking...\r",
      "\u001b[2K\u001b[32m⠇\u001b[0m Locking...\r",
      "\u001b[2K\u001b[32m⠏\u001b[0m Locking...\r",
      "\u001b[2K\u001b[32m⠋\u001b[0m Locking...\r",
      "\u001b[2K\u001b[32m⠙\u001b[0m Locking...\r",
      "\u001b[2K\u001b[32m⠹\u001b[0m Locking...\r",
      "\u001b[2K\u001b[32m⠸\u001b[0m Locking...\r",
      "\u001b[2K\u001b[32m⠼\u001b[0m Locking...\r",
      "\u001b[2K\u001b[32m⠴\u001b[0m Locking...\r",
      "\u001b[2K\u001b[32m⠦\u001b[0m Locking...\r",
      "\u001b[2K\u001b[32m⠧\u001b[0m Locking...\r",
      "\u001b[2K\u001b[32m⠇\u001b[0m Locking...\r",
      "\u001b[2K\u001b[32m⠏\u001b[0m Locking...\r",
      "\u001b[2K\u001b[32m⠋\u001b[0m Locking...\r",
      "\u001b[2K\u001b[32m⠙\u001b[0m Locking...\r",
      "\u001b[2K\u001b[32m⠹\u001b[0m Locking...\r",
      "\u001b[2K\u001b[32m⠸\u001b[0m Locking...\r",
      "\u001b[2K\u001b[32m⠼\u001b[0m Locking...\r",
      "\u001b[2K\u001b[32m⠴\u001b[0m Locking...\r",
      "\u001b[2K\u001b[32m⠦\u001b[0m Locking...\r",
      "\u001b[2K\u001b[32m⠧\u001b[0m Locking...\r",
      "\u001b[2K\u001b[32m⠇\u001b[0m Locking...\r",
      "\u001b[2K\u001b[32m⠏\u001b[0m Locking...\r",
      "\u001b[2K\u001b[32m⠋\u001b[0m Locking...\r",
      "\u001b[2K\u001b[32m⠙\u001b[0m Locking...\r",
      "\u001b[2K\u001b[32m⠹\u001b[0m Locking...\r",
      "\u001b[2K\u001b[32m⠸\u001b[0m Locking...\r",
      "\u001b[2K\u001b[32m⠼\u001b[0m Locking...\r",
      "\u001b[2K\u001b[32m⠴\u001b[0m Locking...\r",
      "\u001b[2K\u001b[32m⠦\u001b[0m Locking...\r",
      "\u001b[2K\u001b[32m⠧\u001b[0m Locking...\r",
      "\u001b[2K\u001b[32m⠇\u001b[0m Locking...\r",
      "\u001b[2K\u001b[32m⠏\u001b[0m Locking...\r",
      "\u001b[2K\u001b[32m⠋\u001b[0m Locking...\r",
      "\u001b[2K\u001b[32m⠙\u001b[0m Locking...\r",
      "\u001b[2K\u001b[32m⠹\u001b[0m Locking...\r",
      "\u001b[2K\u001b[32m⠸\u001b[0m Locking...\r",
      "\u001b[2K\u001b[32m⠼\u001b[0m Locking...\r",
      "\u001b[2K\u001b[32m⠴\u001b[0m Locking...\r",
      "\u001b[2K\u001b[32m⠦\u001b[0m Locking...\r",
      "\u001b[2K\u001b[32m⠧\u001b[0m Locking...\r",
      "\u001b[2K\u001b[32m⠇\u001b[0m Locking...\r",
      "\u001b[2K\u001b[32m⠏\u001b[0m Locking...\r",
      "\u001b[2K\u001b[32m⠋\u001b[0m Locking...\r",
      "\u001b[2K\u001b[32m⠙\u001b[0m Locking...\r",
      "\u001b[2K\u001b[32m⠹\u001b[0m Locking...\r",
      "\u001b[2K\u001b[32m⠸\u001b[0m Locking...\r",
      "\u001b[2K\u001b[32m⠼\u001b[0m Locking...\r",
      "\u001b[2K\u001b[32m⠴\u001b[0m Locking...\r",
      "\u001b[2K\u001b[32m⠦\u001b[0m Locking...\r",
      "\u001b[2K\u001b[32m⠧\u001b[0m Locking...\r",
      "\u001b[2K\u001b[32m⠇\u001b[0m Locking...\r",
      "\u001b[2K\u001b[32m⠏\u001b[0m Locking...\r",
      "\u001b[2K\u001b[32m⠋\u001b[0m Locking...\r",
      "\u001b[2K\u001b[32m⠹\u001b[0m Locking...\r",
      "\u001b[2K\u001b[32m⠸\u001b[0m Locking...\r",
      "\u001b[2K\u001b[32m⠼\u001b[0m Locking...\r",
      "\u001b[2K\u001b[32m⠴\u001b[0m Locking...\r",
      "\u001b[2K\u001b[32m⠦\u001b[0m Locking...\r",
      "\u001b[2K\u001b[32m⠧\u001b[0m Locking...\r",
      "\u001b[2K\u001b[32m⠇\u001b[0m Locking...\r",
      "\u001b[2K\u001b[32m⠏\u001b[0m Locking...\r",
      "\u001b[2K\u001b[32m⠋\u001b[0m Locking...\r",
      "\u001b[2K\u001b[32m⠙\u001b[0m Locking...\r",
      "\u001b[2K\u001b[32m⠹\u001b[0m Locking...\r",
      "\u001b[2K\u001b[32m⠸\u001b[0m Locking...\r",
      "\u001b[2K\u001b[32m⠼\u001b[0m Locking...\r",
      "\u001b[2K\u001b[32m⠴\u001b[0m Locking...\r",
      "\u001b[2K\u001b[32m⠦\u001b[0m Locking...\r",
      "\u001b[2K\u001b[32m⠧\u001b[0m Locking...\r",
      "\u001b[2K\u001b[32m⠇\u001b[0m Locking...\r",
      "\u001b[2K\u001b[32m⠏\u001b[0m Locking...\r",
      "\u001b[2K\u001b[32m⠋\u001b[0m Locking...\r",
      "\u001b[2K\u001b[32m⠙\u001b[0m Locking...\r",
      "\u001b[2K\u001b[32m⠹\u001b[0m Locking...\r",
      "\u001b[2K\u001b[32m⠸\u001b[0m Locking...\r",
      "\u001b[2K\u001b[32m⠼\u001b[0m Locking...\r",
      "\u001b[2K\u001b[32m⠴\u001b[0m Locking...\r",
      "\u001b[2K\u001b[32m⠦\u001b[0m Locking...\r",
      "\u001b[2K\u001b[32m⠧\u001b[0m Locking...\r",
      "\u001b[2K\u001b[32m⠇\u001b[0m Locking...\r",
      "\u001b[2K\u001b[32m⠏\u001b[0m Locking...\r",
      "\u001b[2K\u001b[32m⠋\u001b[0m Locking...\r",
      "\u001b[2K\u001b[32m⠙\u001b[0m Locking...\r",
      "\u001b[2K\u001b[32m⠹\u001b[0m Locking...\r",
      "\u001b[2K\u001b[32m⠸\u001b[0m Locking...\r",
      "\u001b[2K\u001b[32m⠼\u001b[0m Locking...\r",
      "\u001b[2K\u001b[32m⠴\u001b[0m Locking...\r",
      "\u001b[2K\u001b[32m⠦\u001b[0m Locking...\r",
      "\u001b[2K\u001b[32m⠧\u001b[0m Locking...\r",
      "\u001b[2K\u001b[32m⠇\u001b[0m Locking...\r",
      "\u001b[2K\u001b[32m⠏\u001b[0m Locking...\r",
      "\u001b[2K\u001b[32m⠋\u001b[0m Locking...\r",
      "\u001b[2K\u001b[32m⠙\u001b[0m Locking...\r",
      "\u001b[2K\u001b[32m⠹\u001b[0m Locking...\r",
      "\u001b[2K\u001b[32m⠸\u001b[0m Locking...\r",
      "\u001b[2K\u001b[32m⠼\u001b[0m Locking...\r",
      "\u001b[2K\u001b[32m⠴\u001b[0m Locking...\r",
      "\u001b[2K\u001b[32m⠦\u001b[0m Locking...\r",
      "\u001b[2K\u001b[32m⠧\u001b[0m Locking...\r",
      "\u001b[2K\u001b[32m⠇\u001b[0m Locking...\r",
      "\u001b[2K\u001b[32m⠏\u001b[0m Locking...\r",
      "\u001b[2K\u001b[32m⠋\u001b[0m Locking...\r",
      "\u001b[2K\u001b[32m⠙\u001b[0m Locking...\r",
      "\u001b[2K\u001b[32m⠹\u001b[0m Locking...\r",
      "\u001b[2K\u001b[32m⠸\u001b[0m Locking...\r",
      "\u001b[2K\u001b[32m⠼\u001b[0m Locking...\r",
      "\u001b[2K\u001b[32m⠴\u001b[0m Locking...\r",
      "\u001b[2K\u001b[32m⠦\u001b[0m Locking...\r",
      "\u001b[2K\u001b[32m⠧\u001b[0m Locking...\r",
      "\u001b[2K\u001b[32m⠇\u001b[0m Locking...\r",
      "\u001b[2K\u001b[32m⠏\u001b[0m Locking...\r",
      "\u001b[2K\u001b[32m⠋\u001b[0m Locking...\r",
      "\u001b[2K\u001b[32m⠙\u001b[0m Locking...\r",
      "\u001b[2K\u001b[32m⠹\u001b[0m Locking...\r",
      "\u001b[2K\u001b[32m⠸\u001b[0m Locking...\r",
      "\u001b[2K\u001b[32m⠼\u001b[0m Locking...\r",
      "\u001b[2K\u001b[32m⠴\u001b[0m Locking...\r",
      "\u001b[2K\u001b[32m⠦\u001b[0m Locking...\r",
      "\u001b[2K\u001b[32m⠧\u001b[0m Locking...\r",
      "\u001b[2K\u001b[32m⠇\u001b[0m Locking...\r",
      "\u001b[2K\u001b[32m⠏\u001b[0m Locking...\r",
      "\u001b[2K\u001b[32m⠋\u001b[0m Locking...\r",
      "\u001b[2K\u001b[32m⠙\u001b[0m Locking...\r",
      "\u001b[2K\u001b[32m⠹\u001b[0m Locking...\r",
      "\u001b[2K\u001b[32m⠸\u001b[0m Locking...\r",
      "\u001b[2K\u001b[32m⠼\u001b[0m Locking...\r",
      "\u001b[2K\u001b[32m⠴\u001b[0m Locking...\r",
      "\u001b[2K\u001b[32m⠦\u001b[0m Locking...\r",
      "\u001b[2K\u001b[32m⠧\u001b[0m Locking...\r",
      "\u001b[2K\u001b[32m⠇\u001b[0m Locking...\r",
      "\u001b[2K\u001b[32m⠏\u001b[0m Locking...\r",
      "\u001b[2K\u001b[32m⠋\u001b[0m Locking...\r",
      "\u001b[2K\u001b[32m⠙\u001b[0m Locking...\r",
      "\u001b[2K\u001b[32m⠹\u001b[0m Locking...\r",
      "\u001b[2K\u001b[32m⠸\u001b[0m Locking...\r",
      "\u001b[2K\u001b[32m⠼\u001b[0m Locking...\r",
      "\u001b[2K\u001b[32m⠴\u001b[0m Locking...\r",
      "\u001b[2K\u001b[32m⠦\u001b[0m Locking...\r",
      "\u001b[2K\u001b[32m⠧\u001b[0m Locking...\r",
      "\u001b[2K\u001b[32m⠏\u001b[0m Locking...\r",
      "\u001b[2K\u001b[32m⠋\u001b[0m Locking...\r",
      "\u001b[2K\u001b[32m⠙\u001b[0m Locking...\r",
      "\u001b[2K\u001b[32m⠹\u001b[0m Locking...\r",
      "\u001b[2K\u001b[32m⠸\u001b[0m Locking...\r",
      "\u001b[2K\u001b[32m⠼\u001b[0m Locking...\r",
      "\u001b[2K\u001b[32m⠴\u001b[0m Locking...\r",
      "\u001b[2K\u001b[32m⠦\u001b[0m Locking...\r",
      "\u001b[2K\u001b[32m⠧\u001b[0m Locking...\r",
      "\u001b[2K\u001b[32m⠇\u001b[0m Locking...\r",
      "\u001b[2K\u001b[32m⠏\u001b[0m Locking...\r",
      "\u001b[2K\u001b[32m⠋\u001b[0m Locking...\r",
      "\u001b[2K\u001b[32m⠙\u001b[0m Locking...\r",
      "\u001b[2K\u001b[32m⠹\u001b[0m Locking...\r",
      "\u001b[2K\u001b[32m⠸\u001b[0m Locking...\r",
      "\u001b[2K\u001b[32m⠼\u001b[0m Locking...\r",
      "\u001b[2K\u001b[32m⠴\u001b[0m Locking...\r",
      "\u001b[2K\u001b[32m⠦\u001b[0m Locking...\r",
      "\u001b[2K\u001b[32m⠧\u001b[0m Locking...\r",
      "\u001b[2K\u001b[32m⠇\u001b[0m Locking...\r",
      "\u001b[2K\u001b[32m⠏\u001b[0m Locking...\r",
      "\u001b[2K\u001b[32m⠋\u001b[0m Locking...\r",
      "\u001b[2K\u001b[32m⠙\u001b[0m Locking...\r",
      "\u001b[2K\u001b[32m⠹\u001b[0m Locking...\r",
      "\u001b[2K\u001b[32m⠸\u001b[0m Locking...\r",
      "\u001b[2K\u001b[32m⠼\u001b[0m Locking...\r",
      "\u001b[2K\u001b[32m⠴\u001b[0m Locking...\r",
      "\u001b[2K\u001b[32m⠦\u001b[0m Locking...\r",
      "\u001b[2K\u001b[32m⠧\u001b[0m Locking...\r",
      "\u001b[2K\u001b[32m⠇\u001b[0m Locking...\r",
      "\u001b[2K\u001b[32m⠏\u001b[0m Locking...\r",
      "\u001b[2K\u001b[32m⠋\u001b[0m Locking...\r",
      "\u001b[2K\u001b[32m⠙\u001b[0m Locking...\r",
      "\u001b[2K\u001b[32m⠹\u001b[0m Locking...\r",
      "\u001b[2K\u001b[32m⠸\u001b[0m Locking...\r",
      "\u001b[2K\u001b[32m⠼\u001b[0m Locking...\r",
      "\u001b[2K\u001b[32m⠴\u001b[0m Locking...\r",
      "\u001b[2K\u001b[32m⠦\u001b[0m Locking...\r",
      "\u001b[2K\u001b[32m⠧\u001b[0m Locking...\r",
      "\u001b[2K\u001b[32m⠇\u001b[0m Locking...\r",
      "\u001b[2K\u001b[32m⠏\u001b[0m Locking...\r",
      "\u001b[2K\u001b[32m⠋\u001b[0m Locking...\r",
      "\u001b[2K\u001b[32m⠙\u001b[0m Locking...\r",
      "\u001b[2K\u001b[32m⠹\u001b[0m Locking...\r",
      "\u001b[2K\u001b[32m⠸\u001b[0m Locking...\r",
      "\u001b[2K\u001b[32m⠼\u001b[0m Locking...\r",
      "\u001b[2K\u001b[32m⠴\u001b[0m Locking...\r",
      "\u001b[2K\u001b[32m⠦\u001b[0m Locking...\r",
      "\u001b[2K\u001b[32m⠧\u001b[0m Locking...\r",
      "\u001b[2K\u001b[32m⠇\u001b[0m Locking...\r",
      "\u001b[2K\u001b[32m⠏\u001b[0m Locking...\r",
      "\u001b[2K\u001b[32m⠋\u001b[0m Locking...\r",
      "\u001b[2K\u001b[32m⠙\u001b[0m Locking...\r",
      "\u001b[2K\u001b[32m⠹\u001b[0m Locking...\r",
      "\u001b[2K\u001b[32m⠸\u001b[0m Locking...\r",
      "\u001b[2K\u001b[32m⠼\u001b[0m Locking...\r",
      "\u001b[2K\u001b[32m⠴\u001b[0m Locking...\r",
      "\u001b[2K\u001b[32m⠦\u001b[0m Locking...\r",
      "\u001b[2K\u001b[32m⠧\u001b[0m Locking...\r",
      "\u001b[2K\u001b[32m⠇\u001b[0m Locking...\r",
      "\u001b[2K\u001b[32m⠏\u001b[0m Locking...\r",
      "\u001b[2K\u001b[32m⠋\u001b[0m Locking...\r",
      "\u001b[2K\u001b[32m⠙\u001b[0m Locking...\r",
      "\u001b[2K\u001b[32m⠹\u001b[0m Locking...\r",
      "\u001b[2K\u001b[32m⠸\u001b[0m Locking...\r",
      "\u001b[2K\u001b[32m⠼\u001b[0m Locking...\r",
      "\u001b[2K\u001b[32m⠴\u001b[0m Locking...\r",
      "\u001b[2K\u001b[32m⠦\u001b[0m Locking...\r",
      "\u001b[2K\u001b[32m⠧\u001b[0m Locking...\r",
      "\u001b[2K\u001b[32m⠇\u001b[0m Locking...\r",
      "\u001b[2K\u001b[32m⠏\u001b[0m Locking...\r",
      "\u001b[2K\u001b[32m⠋\u001b[0m Locking...\r",
      "\u001b[2K\u001b[32m⠙\u001b[0m Locking...\r",
      "\u001b[2K\u001b[32m⠹\u001b[0m Locking...\r",
      "\u001b[2K\u001b[32m⠸\u001b[0m Locking...\r",
      "\u001b[2K\u001b[32m⠼\u001b[0m Locking...\r",
      "\u001b[2K\u001b[32m⠴\u001b[0m Locking...\r",
      "\u001b[2K\u001b[32m⠦\u001b[0m Locking...\r",
      "\u001b[2K\u001b[32m⠧\u001b[0m Locking...\r",
      "\u001b[2K\u001b[32m⠇\u001b[0m Locking...\r",
      "\u001b[2K\u001b[32m⠏\u001b[0m Locking...\r",
      "\u001b[2K\u001b[32m⠋\u001b[0m Locking...\r",
      "\u001b[2K\u001b[32m⠙\u001b[0m Locking...\r",
      "\u001b[2K\u001b[32m⠹\u001b[0m Locking...\r",
      "\u001b[2K\u001b[32m⠸\u001b[0m Locking...\r",
      "\u001b[2K\u001b[32m⠼\u001b[0m Locking...\r",
      "\u001b[2K\u001b[32m⠴\u001b[0m Locking...\r",
      "\u001b[2K\u001b[32m⠦\u001b[0m Locking...\r",
      "\u001b[2K\u001b[32m⠧\u001b[0m Locking...\r",
      "\u001b[2K\u001b[32m⠇\u001b[0m Locking...\r",
      "\u001b[2K\u001b[32m⠏\u001b[0m Locking...\r",
      "\u001b[2K\u001b[32m⠙\u001b[0m Locking...\r",
      "\u001b[2K\u001b[32m⠹\u001b[0m Locking...\r",
      "\u001b[2K\u001b[32m⠸\u001b[0m Locking...\r",
      "\u001b[2K\u001b[32m⠼\u001b[0m Locking...\r",
      "\u001b[2K\u001b[32m⠴\u001b[0m Locking...\r",
      "\u001b[2K\u001b[32m⠦\u001b[0m Locking...\r",
      "\u001b[2K\u001b[32m⠧\u001b[0m Locking...\r",
      "\u001b[2K\u001b[32m⠇\u001b[0m Locking...\r",
      "\u001b[2K\u001b[32m⠏\u001b[0m Locking...\r",
      "\u001b[2K\u001b[32m⠋\u001b[0m Locking...\r",
      "\u001b[2K\u001b[32m⠙\u001b[0m Locking...\r",
      "\u001b[2K\u001b[32m⠹\u001b[0m Locking...\r",
      "\u001b[2K\u001b[32m⠸\u001b[0m Locking...\r",
      "\u001b[2K\u001b[32m⠼\u001b[0m Locking...\r",
      "\u001b[2K\u001b[32m⠴\u001b[0m Locking...\r",
      "\u001b[2K\u001b[32m⠦\u001b[0m Locking...\r",
      "\u001b[2K\u001b[32m⠧\u001b[0m Locking...\r",
      "\u001b[2K\u001b[32m⠇\u001b[0m Locking...\r",
      "\u001b[2K\u001b[32m⠏\u001b[0m Locking...\r",
      "\u001b[2K\u001b[32m⠋\u001b[0m Locking...\r",
      "\u001b[2K\u001b[32m⠙\u001b[0m Locking...\r",
      "\u001b[2K\u001b[32m⠹\u001b[0m Locking...\r",
      "\u001b[2K\u001b[32m⠸\u001b[0m Locking...\r",
      "\u001b[2K\u001b[32m⠼\u001b[0m Locking...\r",
      "\u001b[2K\u001b[32m⠴\u001b[0m Locking...\r",
      "\u001b[2K\u001b[32m⠦\u001b[0m Locking...\r",
      "\u001b[2K\u001b[32m⠧\u001b[0m Locking...\r",
      "\u001b[2K\u001b[32m⠇\u001b[0m Locking...\r",
      "\u001b[2K\u001b[32m⠏\u001b[0m Locking...\r",
      "\u001b[2K\u001b[32m⠋\u001b[0m Locking...\r",
      "\u001b[2K\u001b[32m⠙\u001b[0m Locking...\r",
      "\u001b[2K\u001b[32m⠹\u001b[0m Locking...\r",
      "\u001b[2K\u001b[32m⠸\u001b[0m Locking...\r",
      "\u001b[2K\u001b[32m⠼\u001b[0m Locking...\r",
      "\u001b[2K\u001b[32m⠴\u001b[0m Locking...\r",
      "\u001b[2K\u001b[32m⠦\u001b[0m Locking...\r",
      "\u001b[2K\u001b[32m⠧\u001b[0m Locking...\r",
      "\u001b[2K\u001b[32m⠇\u001b[0m Locking...\r",
      "\u001b[2K\u001b[32m⠏\u001b[0m Locking...\r",
      "\u001b[2K\u001b[32m⠋\u001b[0m Locking...\r",
      "\u001b[2K\u001b[32m⠙\u001b[0m Locking...\r",
      "\u001b[2K\u001b[32m⠹\u001b[0m Locking...\r",
      "\u001b[2K\u001b[32m⠸\u001b[0m Locking...\r",
      "\u001b[2K\u001b[32m⠼\u001b[0m Locking...\r",
      "\u001b[2K\u001b[32m⠴\u001b[0m Locking...\r",
      "\u001b[2K\u001b[32m⠦\u001b[0m Locking...\r",
      "\u001b[2K\u001b[32m⠧\u001b[0m Locking...\r",
      "\u001b[2K\u001b[32m⠇\u001b[0m Locking...\r",
      "\u001b[2K\u001b[32m⠏\u001b[0m Locking...\r",
      "\u001b[2K\u001b[32m⠋\u001b[0m Locking...\r",
      "\u001b[2K\u001b[32m⠙\u001b[0m Locking...\r",
      "\u001b[2K\u001b[32m⠹\u001b[0m Locking...\r",
      "\u001b[2K\u001b[32m⠸\u001b[0m Locking...\r",
      "\u001b[2K\u001b[32m⠼\u001b[0m Locking...\r",
      "\u001b[2K\u001b[32m⠴\u001b[0m Locking...\r",
      "\u001b[2K\u001b[32m⠦\u001b[0m Locking...\r",
      "\u001b[2K\u001b[32m⠧\u001b[0m Locking...\r",
      "\u001b[2K\u001b[32m⠇\u001b[0m Locking...\r",
      "\u001b[2K\u001b[32m⠏\u001b[0m Locking...\r",
      "\u001b[2K\u001b[32m⠋\u001b[0m Locking...\r",
      "\u001b[2K\u001b[32m⠙\u001b[0m Locking...\r",
      "\u001b[2K\u001b[32m⠹\u001b[0m Locking...\r",
      "\u001b[2K\u001b[32m⠸\u001b[0m Locking...\r",
      "\u001b[2K\u001b[32m⠼\u001b[0m Locking...\r",
      "\u001b[2K\u001b[32m⠴\u001b[0m Locking...\r",
      "\u001b[2K\u001b[32m⠦\u001b[0m Locking...\r",
      "\u001b[2K\u001b[32m⠧\u001b[0m Locking...\r",
      "\u001b[2K\u001b[32m⠇\u001b[0m Locking...\r",
      "\u001b[2K\u001b[32m⠏\u001b[0m Locking...\r",
      "\u001b[2K\u001b[32m⠋\u001b[0m Locking...\r",
      "\u001b[2K\u001b[32m⠙\u001b[0m Locking...\r",
      "\u001b[2K\u001b[32m⠹\u001b[0m Locking...\r",
      "\u001b[2K\u001b[32m⠸\u001b[0m Locking...\r",
      "\u001b[2K\u001b[32m⠼\u001b[0m Locking...\r",
      "\u001b[2K\u001b[32m⠴\u001b[0m Locking...\r",
      "\u001b[2K\u001b[32m⠦\u001b[0m Locking...\r",
      "\u001b[2K\u001b[32m⠧\u001b[0m Locking...\r",
      "\u001b[2K\u001b[32m⠇\u001b[0m Locking...\r",
      "\u001b[2K\u001b[32m⠏\u001b[0m Locking...\r",
      "\u001b[2K\u001b[32m⠋\u001b[0m Locking...\r",
      "\u001b[2K\u001b[32m⠙\u001b[0m Locking...\r",
      "\u001b[2K\u001b[32m⠹\u001b[0m Locking...\r",
      "\u001b[2K\u001b[32m⠸\u001b[0m Locking...\r",
      "\u001b[2K\u001b[32m⠼\u001b[0m Locking...\r",
      "\u001b[2K\u001b[32m⠴\u001b[0m Locking...\r",
      "\u001b[2K\u001b[32m⠦\u001b[0m Locking...\r",
      "\u001b[2K\u001b[32m⠧\u001b[0m Locking...\r",
      "\u001b[2K\u001b[32m⠇\u001b[0m Locking...\r",
      "\u001b[2K\u001b[32m⠏\u001b[0m Locking...\r",
      "\u001b[2K\u001b[32m⠋\u001b[0m Locking...\r",
      "\u001b[2K\u001b[32m⠙\u001b[0m Locking...\r",
      "\u001b[2K\u001b[32m⠹\u001b[0m Locking...\r",
      "\u001b[2K\u001b[32m⠸\u001b[0m Locking...\r",
      "\u001b[2K\u001b[32m⠼\u001b[0m Locking...\r",
      "\u001b[2K\u001b[32m⠴\u001b[0m Locking...\r",
      "\u001b[2K\u001b[32m⠦\u001b[0m Locking...\r",
      "\u001b[2K\u001b[32m⠧\u001b[0m Locking...\r",
      "\u001b[2K\u001b[32m⠇\u001b[0m Locking...\r",
      "\u001b[2K\u001b[32m⠏\u001b[0m Locking...\r",
      "\u001b[2K\u001b[32m⠙\u001b[0m Locking...\r",
      "\u001b[2K\u001b[32m⠹\u001b[0m Locking...\r",
      "\u001b[2K\u001b[32m⠸\u001b[0m Locking...\r",
      "\u001b[2K\u001b[32m⠼\u001b[0m Locking...\r",
      "\u001b[2K\u001b[32m⠴\u001b[0m Locking...\r",
      "\u001b[2K\u001b[32m⠦\u001b[0m Locking...\r",
      "\u001b[2K\u001b[32m⠧\u001b[0m Locking...\r",
      "\u001b[2K\u001b[32m⠇\u001b[0m Locking...\r",
      "\u001b[2K\u001b[32m⠏\u001b[0m Locking...\r",
      "\u001b[2K\u001b[32m⠋\u001b[0m Locking...\r",
      "\u001b[2K\u001b[32m⠙\u001b[0m Locking...\r",
      "\u001b[2K\u001b[32m⠹\u001b[0m Locking...\r",
      "\u001b[2K\u001b[32m⠸\u001b[0m Locking...\r",
      "\u001b[2K\u001b[32m⠼\u001b[0m Locking...\r",
      "\u001b[2K\u001b[32m⠴\u001b[0m Locking...\r",
      "\u001b[2K\u001b[32m⠦\u001b[0m Locking...\r",
      "\u001b[2K\u001b[32m⠧\u001b[0m Locking...\r",
      "\u001b[2K\u001b[32m⠇\u001b[0m Locking...\r",
      "\u001b[2K\u001b[32m⠏\u001b[0m Locking...\r",
      "\u001b[2K\u001b[32m⠋\u001b[0m Locking...\r",
      "\u001b[2K\u001b[32m⠙\u001b[0m Locking...\r",
      "\u001b[2K\u001b[32m⠹\u001b[0m Locking...\r",
      "\u001b[2K\u001b[32m⠸\u001b[0m Locking...\r",
      "\u001b[2K\u001b[32m⠼\u001b[0m Locking...\r",
      "\u001b[2K\u001b[32m⠴\u001b[0m Locking...\r",
      "\u001b[2K\u001b[32m⠦\u001b[0m Locking...\r",
      "\u001b[2K\u001b[32m⠧\u001b[0m Locking...\r",
      "\u001b[2K\u001b[32m⠇\u001b[0m Locking...\r",
      "\u001b[2K\u001b[32m⠏\u001b[0m Locking...\r",
      "\u001b[2K\u001b[32m⠋\u001b[0m Locking...\r",
      "\u001b[2K\u001b[32m⠙\u001b[0m Locking...\r",
      "\u001b[2K\u001b[32m⠹\u001b[0m Locking...\r",
      "\u001b[2K\u001b[32m⠸\u001b[0m Locking...\r",
      "\u001b[2K\u001b[32m⠼\u001b[0m Locking...\r",
      "\u001b[2K\u001b[32m⠴\u001b[0m Locking...\r",
      "\u001b[2K\u001b[32m⠦\u001b[0m Locking...\r",
      "\u001b[2K\u001b[32m⠧\u001b[0m Locking...\r",
      "\u001b[2K\u001b[32m⠇\u001b[0m Locking...\r",
      "\u001b[2K\u001b[32m⠏\u001b[0m Locking...\r",
      "\u001b[2K\u001b[32m⠋\u001b[0m Locking...\r",
      "\u001b[2K\u001b[32m⠙\u001b[0m Locking...\r",
      "\u001b[2K\u001b[32m⠹\u001b[0m Locking...\r",
      "\u001b[2K\u001b[32m⠸\u001b[0m Locking...\r",
      "\u001b[2K\u001b[32m⠼\u001b[0m Locking...\r",
      "\u001b[2K\u001b[32m⠴\u001b[0m Locking...\r",
      "\u001b[2K\u001b[32m⠦\u001b[0m Locking...\r",
      "\u001b[2K\u001b[32m⠧\u001b[0m Locking...\r",
      "\u001b[2K\u001b[32m⠇\u001b[0m Locking...\r",
      "\u001b[2K\u001b[32m⠏\u001b[0m Locking...\r",
      "\u001b[2K\u001b[32m⠋\u001b[0m Locking...\r",
      "\u001b[2K\u001b[32m⠙\u001b[0m Locking...\r",
      "\u001b[2K\u001b[32m⠹\u001b[0m Locking...\r",
      "\u001b[2K\u001b[32m⠸\u001b[0m Locking...\r",
      "\u001b[2K\u001b[32m⠼\u001b[0m Locking...\r",
      "\u001b[2K\u001b[32m⠴\u001b[0m Locking...\r",
      "\u001b[2K\u001b[32m⠦\u001b[0m Locking...\r",
      "\u001b[2K\u001b[32m⠧\u001b[0m Locking...\r",
      "\u001b[2K\u001b[32m⠇\u001b[0m Locking...\r",
      "\u001b[2K\u001b[32m⠏\u001b[0m Locking...\r",
      "\u001b[2K\u001b[32m⠋\u001b[0m Locking...\r",
      "\u001b[2K\u001b[32m⠙\u001b[0m Locking...\r",
      "\u001b[2K\u001b[32m⠹\u001b[0m Locking...\r",
      "\u001b[2K\u001b[32m⠸\u001b[0m Locking...\r",
      "\u001b[2K\u001b[32m⠼\u001b[0m Locking...\r",
      "\u001b[2K\u001b[32m⠴\u001b[0m Locking...\r",
      "\u001b[2K\u001b[32m⠦\u001b[0m Locking...\r",
      "\u001b[2K\u001b[32m⠧\u001b[0m Locking...\r",
      "\u001b[2K\u001b[32m⠇\u001b[0m Locking...\r",
      "\u001b[2K\u001b[32m⠏\u001b[0m Locking...\r",
      "\u001b[2K\u001b[32m⠋\u001b[0m Locking...\r",
      "\u001b[2K\u001b[32m⠙\u001b[0m Locking...\r",
      "\u001b[2K\u001b[32m⠹\u001b[0m Locking...\r",
      "\u001b[2K\u001b[32m⠸\u001b[0m Locking...\r",
      "\u001b[2K\u001b[32m⠼\u001b[0m Locking...\r",
      "\u001b[2K\u001b[32m⠴\u001b[0m Locking...\r",
      "\u001b[2K\u001b[32m⠦\u001b[0m Locking...\r",
      "\u001b[2K\u001b[32m⠧\u001b[0m Locking...\r",
      "\u001b[2K\u001b[32m⠇\u001b[0m Locking...\r",
      "\u001b[2K\u001b[32m⠏\u001b[0m Locking...\r",
      "\u001b[2K\u001b[32m⠋\u001b[0m Locking...\r",
      "\u001b[2K\u001b[32m⠙\u001b[0m Locking...\r",
      "\u001b[2K\u001b[32m⠹\u001b[0m Locking...\r",
      "\u001b[2K\u001b[32m⠸\u001b[0m Locking...\r",
      "\u001b[2K\u001b[32m⠼\u001b[0m Locking...\r",
      "\u001b[2K\u001b[32m⠴\u001b[0m Locking...\r",
      "\u001b[2K\u001b[32m⠦\u001b[0m Locking...\r",
      "\u001b[2K\u001b[32m⠧\u001b[0m Locking...\r",
      "\u001b[2K\u001b[32m⠇\u001b[0m Locking...\r",
      "\u001b[2K\u001b[32m⠏\u001b[0m Locking...\r",
      "\u001b[2K\u001b[32m⠋\u001b[0m Locking...\r",
      "\u001b[2K\u001b[32m⠙\u001b[0m Locking...\r",
      "\u001b[2K\u001b[32m⠹\u001b[0m Locking...\r",
      "\u001b[2K\u001b[32m⠸\u001b[0m Locking...\r",
      "\u001b[2K\u001b[32m⠼\u001b[0m Locking...\r",
      "\u001b[2K\u001b[32m⠴\u001b[0m Locking...\r",
      "\u001b[2K\u001b[32m⠦\u001b[0m Locking...\r",
      "\u001b[2K\u001b[32m⠧\u001b[0m Locking...\r",
      "\u001b[2K\u001b[32m⠇\u001b[0m Locking...\r",
      "\u001b[2K\u001b[32m⠏\u001b[0m Locking...\r",
      "\u001b[2K\u001b[32m⠋\u001b[0m Locking...\r",
      "\u001b[2K\u001b[32m⠙\u001b[0m Locking...\r",
      "\u001b[2K\u001b[32m⠸\u001b[0m Locking...\r",
      "\u001b[2K\u001b[32m⠼\u001b[0m Locking...\r",
      "\u001b[2K\u001b[32m⠴\u001b[0m Locking...\r",
      "\u001b[2K\u001b[32m⠦\u001b[0m Locking...\r",
      "\u001b[2K\u001b[32m⠧\u001b[0m Locking...\r",
      "\u001b[2K\u001b[32m⠇\u001b[0m Locking...\r",
      "\u001b[2K\u001b[32m⠏\u001b[0m Locking...\r",
      "\u001b[2K\u001b[32m⠋\u001b[0m Locking...\r",
      "\u001b[2K\u001b[32m⠙\u001b[0m Locking...\r",
      "\u001b[2K\u001b[32m⠹\u001b[0m Locking...\r",
      "\u001b[2K\u001b[32m⠸\u001b[0m Locking...\r",
      "\u001b[2K\u001b[32m⠼\u001b[0m Locking...\r",
      "\u001b[2K\u001b[32m⠴\u001b[0m Locking...\r",
      "\u001b[2K\u001b[32m⠦\u001b[0m Locking...\r",
      "\u001b[2K\u001b[32m⠧\u001b[0m Locking...\r",
      "\u001b[2K\u001b[32m⠇\u001b[0m Locking...\r",
      "\u001b[2K\u001b[32m⠏\u001b[0m Locking...\r",
      "\u001b[2K\u001b[32m⠋\u001b[0m Locking...\r",
      "\u001b[2K\u001b[32m⠙\u001b[0m Locking...\r",
      "\u001b[2K\u001b[32m⠹\u001b[0m Locking...\r",
      "\u001b[2K\u001b[32m⠸\u001b[0m Locking...\r",
      "\u001b[2K\u001b[32m⠼\u001b[0m Locking...\r",
      "\u001b[2K\u001b[32m⠴\u001b[0m Locking...\r",
      "\u001b[2K\u001b[32m⠦\u001b[0m Locking...\r",
      "\u001b[2K\u001b[32m⠧\u001b[0m Locking...\r",
      "\u001b[2K\u001b[32m⠇\u001b[0m Locking...\r",
      "\u001b[2K\u001b[32m⠏\u001b[0m Locking...\r",
      "\u001b[2K\u001b[32m⠋\u001b[0m Locking...\r",
      "\u001b[2K\u001b[32m⠙\u001b[0m Locking...\r",
      "\u001b[2K\u001b[32m⠹\u001b[0m Locking...\r",
      "\u001b[2K\u001b[32m⠸\u001b[0m Locking...\r",
      "\u001b[2K\u001b[32m⠼\u001b[0m Locking...\r",
      "\u001b[2K\u001b[32m⠴\u001b[0m Locking...\r",
      "\u001b[2K\u001b[32m⠦\u001b[0m Locking...\r",
      "\u001b[2K\u001b[32m⠧\u001b[0m Locking...\r",
      "\u001b[2K\u001b[32m⠇\u001b[0m Locking...\r",
      "\u001b[2K\u001b[32m⠏\u001b[0m Locking...\r",
      "\u001b[2K\u001b[32m⠋\u001b[0m Locking...\r",
      "\u001b[2K\u001b[32m⠙\u001b[0m Locking...\r",
      "\u001b[2K\u001b[32m⠹\u001b[0m Locking...\r",
      "\u001b[2K\u001b[32m⠸\u001b[0m Locking...\r",
      "\u001b[2K\u001b[32m⠼\u001b[0m Locking...\r",
      "\u001b[2K\u001b[32m⠴\u001b[0m Locking...\r",
      "\u001b[2K\u001b[32m⠦\u001b[0m Locking...\r",
      "\u001b[2K\u001b[32m⠧\u001b[0m Locking...\r",
      "\u001b[2K\u001b[32m⠇\u001b[0m Locking...\r",
      "\u001b[2K\u001b[32m⠏\u001b[0m Locking...\r",
      "\u001b[2K\u001b[32m⠋\u001b[0m Locking...\r",
      "\u001b[2K\u001b[32m⠙\u001b[0m Locking...\r",
      "\u001b[2K\u001b[32m⠹\u001b[0m Locking...\r",
      "\u001b[2K\u001b[32m⠸\u001b[0m Locking...\r",
      "\u001b[2K\u001b[32m⠼\u001b[0m Locking...\r",
      "\u001b[2K\u001b[32m⠴\u001b[0m Locking...\r",
      "\u001b[2K\u001b[32m⠦\u001b[0m Locking...\r",
      "\u001b[2K\u001b[32m⠧\u001b[0m Locking...\r",
      "\u001b[2K\u001b[32m⠇\u001b[0m Locking...\r",
      "\u001b[2K\u001b[32m⠏\u001b[0m Locking...\r",
      "\u001b[2K\u001b[32m⠋\u001b[0m Locking...\r",
      "\u001b[2K\u001b[32m⠙\u001b[0m Locking...\r",
      "\u001b[2K\u001b[32m⠹\u001b[0m Locking...\r",
      "\u001b[2K\u001b[32m⠸\u001b[0m Locking...\r",
      "\u001b[2K\u001b[32m⠼\u001b[0m Locking...\r",
      "\u001b[2K\u001b[32m⠴\u001b[0m Locking...\r",
      "\u001b[2K\u001b[32m⠦\u001b[0m Locking...\r",
      "\u001b[2K\u001b[32m⠧\u001b[0m Locking...\r",
      "\u001b[2K\u001b[32m⠇\u001b[0m Locking...\r",
      "\u001b[2K\u001b[32m⠏\u001b[0m Locking...\r",
      "\u001b[2K\u001b[32m⠋\u001b[0m Locking...\r",
      "\u001b[2K\u001b[32m⠙\u001b[0m Locking...\r",
      "\u001b[2K\u001b[32m⠹\u001b[0m Locking...\r",
      "\u001b[2K\u001b[32m⠸\u001b[0m Locking...\r",
      "\u001b[2K\u001b[32m⠼\u001b[0m Locking...\r",
      "\u001b[2K\u001b[32m⠴\u001b[0m Locking...\r",
      "\u001b[2K\u001b[32m⠦\u001b[0m Locking...\r",
      "\u001b[2K\u001b[32m⠧\u001b[0m Locking...\r",
      "\u001b[2K\u001b[32m⠇\u001b[0m Locking...\r",
      "\u001b[2K\u001b[32m⠏\u001b[0m Locking...\r",
      "\u001b[2K\u001b[32m⠋\u001b[0m Locking...\r",
      "\u001b[2K\u001b[32m⠙\u001b[0m Locking...\r",
      "\u001b[2K\u001b[32m⠹\u001b[0m Locking...\r",
      "\u001b[2K\u001b[32m⠸\u001b[0m Locking...\r",
      "\u001b[2K\u001b[32m⠼\u001b[0m Locking...\r",
      "\u001b[2K\u001b[32m⠴\u001b[0m Locking...\r",
      "\u001b[2K\u001b[32m⠦\u001b[0m Locking...\r",
      "\u001b[2K\u001b[32m⠧\u001b[0m Locking...\r",
      "\u001b[2K\u001b[32m⠇\u001b[0m Locking...\r",
      "\u001b[2K\u001b[32m⠏\u001b[0m Locking...\r",
      "\u001b[2K\u001b[32m⠋\u001b[0m Locking...\r",
      "\u001b[2K\u001b[32m⠙\u001b[0m Locking...\r",
      "\u001b[2K\u001b[32m⠹\u001b[0m Locking...\r",
      "\u001b[2K\u001b[32m⠸\u001b[0m Locking...\r",
      "\u001b[2K\u001b[32m⠼\u001b[0m Locking...\r",
      "\u001b[2K\u001b[32m⠴\u001b[0m Locking...\r",
      "\u001b[2K\u001b[32m⠦\u001b[0m Locking...\r",
      "\u001b[2K\u001b[32m⠧\u001b[0m Locking...\r",
      "\u001b[2K\u001b[32m⠇\u001b[0m Locking...\r",
      "\u001b[2K\u001b[32m⠋\u001b[0m Locking...\r",
      "\u001b[2K\u001b[32m⠙\u001b[0m Locking...\r",
      "\u001b[2K\u001b[32m⠹\u001b[0m Locking...\r",
      "\u001b[2K\u001b[32m⠸\u001b[0m Locking...\r",
      "\u001b[2K\u001b[32m⠼\u001b[0m Locking...\r",
      "\u001b[2K\u001b[32m⠴\u001b[0m Locking...\r",
      "\u001b[2K\u001b[32m⠦\u001b[0m Locking...\r",
      "\u001b[2K\u001b[32m⠧\u001b[0m Locking...\r",
      "\u001b[2K\u001b[32m⠇\u001b[0m Locking...\r",
      "\u001b[2K\u001b[32m⠏\u001b[0m Locking...\r",
      "\u001b[2K\u001b[32m⠋\u001b[0m Locking...\r",
      "\u001b[2K\u001b[32m⠙\u001b[0m Locking...\r",
      "\u001b[2K\u001b[32m⠹\u001b[0m Locking...\r",
      "\u001b[2K\u001b[32m⠸\u001b[0m Locking...\r",
      "\u001b[2K\u001b[32m⠼\u001b[0m Locking...\r",
      "\u001b[2K\u001b[32m⠴\u001b[0m Locking...\r",
      "\u001b[2K\u001b[32m⠦\u001b[0m Locking...\r",
      "\u001b[2K\u001b[32m⠧\u001b[0m Locking...\r",
      "\u001b[2K\u001b[32m⠇\u001b[0m Locking...\r",
      "\u001b[2K\u001b[32m⠏\u001b[0m Locking...\r",
      "\u001b[2K\u001b[32m⠋\u001b[0m Locking...\r",
      "\u001b[2K\u001b[32m⠙\u001b[0m Locking...\r",
      "\u001b[2K\u001b[32m⠹\u001b[0m Locking...\r",
      "\u001b[2K\u001b[32m⠸\u001b[0m Locking...\r",
      "\u001b[2K\u001b[32m⠼\u001b[0m Locking...\r",
      "\u001b[2K\u001b[32m⠴\u001b[0m Locking...\r",
      "\u001b[2K\u001b[32m⠦\u001b[0m Locking...\r",
      "\u001b[2K\u001b[32m⠧\u001b[0m Locking...\r",
      "\u001b[2K\u001b[32m⠇\u001b[0m Locking...\r",
      "\u001b[2K\u001b[32m⠏\u001b[0m Locking...\r",
      "\u001b[2K\u001b[32m⠋\u001b[0m Locking...\r",
      "\u001b[2K\u001b[32m⠙\u001b[0m Locking...\r",
      "\u001b[2K\u001b[32m⠹\u001b[0m Locking...\r",
      "\u001b[2K\u001b[32m⠸\u001b[0m Locking...\r",
      "\u001b[2K\u001b[32m⠼\u001b[0m Locking...\r",
      "\u001b[2K\u001b[32m⠴\u001b[0m Locking...\r",
      "\u001b[2K\u001b[32m⠦\u001b[0m Locking...\r",
      "\u001b[2K\u001b[32m⠧\u001b[0m Locking...\r",
      "\u001b[2K\u001b[32m⠇\u001b[0m Locking...\r",
      "\u001b[2K\u001b[32m⠏\u001b[0m Locking...\r",
      "\u001b[2K\u001b[32m⠋\u001b[0m Locking...\r",
      "\u001b[2K\u001b[32m⠙\u001b[0m Locking...\r",
      "\u001b[2K\u001b[32m⠹\u001b[0m Locking...\r",
      "\u001b[2K\u001b[32m⠸\u001b[0m Locking...\r",
      "\u001b[2K\u001b[32m⠼\u001b[0m Locking...\r",
      "\u001b[2K\u001b[32m⠴\u001b[0m Locking...\r",
      "\u001b[2K\u001b[32m⠦\u001b[0m Locking...\r",
      "\u001b[2K\u001b[32m⠧\u001b[0m Locking...\r",
      "\u001b[2K\u001b[32m⠇\u001b[0m Locking...\r",
      "\u001b[2K\u001b[32m⠏\u001b[0m Locking...\r",
      "\u001b[2K\u001b[32m⠋\u001b[0m Locking...\r",
      "\u001b[2K\u001b[32m⠙\u001b[0m Locking...\r",
      "\u001b[2K\u001b[32m⠹\u001b[0m Locking...\r",
      "\u001b[2K\u001b[32m⠸\u001b[0m Locking...\r",
      "\u001b[2K\u001b[32m⠼\u001b[0m Locking...\r",
      "\u001b[2K\u001b[32m⠴\u001b[0m Locking...\r",
      "\u001b[2K\u001b[32m⠦\u001b[0m Locking...\r",
      "\u001b[2K\u001b[32m⠧\u001b[0m Locking...\r",
      "\u001b[2K\u001b[32m⠇\u001b[0m Locking...\r",
      "\u001b[2K\u001b[32m⠏\u001b[0m Locking...\r",
      "\u001b[2K\u001b[32m⠋\u001b[0m Locking...\r",
      "\u001b[2K\u001b[32m⠙\u001b[0m Locking...\r",
      "\u001b[2K\u001b[32m⠹\u001b[0m Locking...\r",
      "\u001b[2K\u001b[32m⠸\u001b[0m Locking...\r",
      "\u001b[2K\u001b[32m⠼\u001b[0m Locking...\r",
      "\u001b[2K\u001b[32m⠴\u001b[0m Locking...\r",
      "\u001b[2K\u001b[32m⠦\u001b[0m Locking...\r",
      "\u001b[2K\u001b[32m⠧\u001b[0m Locking...\r",
      "\u001b[2K\u001b[32m⠇\u001b[0m Locking...\r",
      "\u001b[2K\u001b[32m⠏\u001b[0m Locking...\r",
      "\u001b[2K\u001b[32m⠋\u001b[0m Locking...\r",
      "\u001b[2K\u001b[32m⠙\u001b[0m Locking...\r",
      "\u001b[2K\u001b[32m⠹\u001b[0m Locking...\r",
      "\u001b[2K\u001b[32m⠸\u001b[0m Locking...\r",
      "\u001b[2K\u001b[32m⠼\u001b[0m Locking...\r",
      "\u001b[2K\u001b[32m⠴\u001b[0m Locking...\r",
      "\u001b[2K\u001b[32m⠦\u001b[0m Locking...\r",
      "\u001b[2K\u001b[32m⠧\u001b[0m Locking...\r",
      "\u001b[2K\u001b[32m⠇\u001b[0m Locking...\r",
      "\u001b[2K\u001b[32m⠏\u001b[0m Locking...\r",
      "\u001b[2K\u001b[32m⠋\u001b[0m Locking...\r",
      "\u001b[2K\u001b[32m⠙\u001b[0m Locking...\r",
      "\u001b[2K\u001b[32m⠹\u001b[0m Locking...\r",
      "\u001b[2K\u001b[32m⠸\u001b[0m Locking...\r",
      "\u001b[2K\u001b[32m⠼\u001b[0m Locking...\r",
      "\u001b[2K\u001b[32m⠴\u001b[0m Locking...\r",
      "\u001b[2K\u001b[32m⠦\u001b[0m Locking...\r",
      "\u001b[2K\u001b[32m⠧\u001b[0m Locking...\r",
      "\u001b[2K\u001b[32m⠇\u001b[0m Locking...\r",
      "\u001b[2K\u001b[32m⠏\u001b[0m Locking...\r",
      "\u001b[2K\u001b[32m⠋\u001b[0m Locking...\r",
      "\u001b[2K\u001b[32m⠙\u001b[0m Locking...\r",
      "\u001b[2K\u001b[32m⠹\u001b[0m Locking...\r",
      "\u001b[2K\u001b[32m⠸\u001b[0m Locking...\r",
      "\u001b[2K\u001b[32m⠼\u001b[0m Locking...\r",
      "\u001b[2K\u001b[32m⠴\u001b[0m Locking...\r",
      "\u001b[2K\u001b[32m⠦\u001b[0m Locking...\r",
      "\u001b[2K\u001b[32m⠧\u001b[0m Locking...\r",
      "\u001b[2K\u001b[32m⠇\u001b[0m Locking...\r",
      "\u001b[2K\u001b[32m⠏\u001b[0m Locking...\r",
      "\u001b[2K\u001b[32m⠙\u001b[0m Locking...\r",
      "\u001b[2K\u001b[32m⠹\u001b[0m Locking...\r",
      "\u001b[2K\u001b[32m⠸\u001b[0m Locking...\r",
      "\u001b[2K\u001b[32m⠼\u001b[0m Locking...\r",
      "\u001b[2K\u001b[32m⠴\u001b[0m Locking...\r",
      "\u001b[2K\u001b[32m⠦\u001b[0m Locking...\r",
      "\u001b[2K\u001b[32m⠧\u001b[0m Locking...\r",
      "\u001b[2K\u001b[32m⠇\u001b[0m Locking...\r",
      "\u001b[2K\u001b[32m⠏\u001b[0m Locking...\r",
      "\u001b[2K\u001b[32m⠋\u001b[0m Locking...\r",
      "\u001b[2K\u001b[32m⠙\u001b[0m Locking...\r",
      "\u001b[2K\u001b[32m⠹\u001b[0m Locking...\r",
      "\u001b[2K\u001b[32m⠸\u001b[0m Locking...\r",
      "\u001b[2K\u001b[32m⠼\u001b[0m Locking...\r",
      "\u001b[2K\u001b[32m⠴\u001b[0m Locking...\r",
      "\u001b[2K\u001b[32m⠦\u001b[0m Locking...\r",
      "\u001b[2K\u001b[32m⠧\u001b[0m Locking...\r",
      "\u001b[2K\u001b[32m⠇\u001b[0m Locking...\r",
      "\u001b[2K\u001b[32m⠏\u001b[0m Locking...\r",
      "\u001b[2K\u001b[32m⠋\u001b[0m Locking...\r",
      "\u001b[2K\u001b[32m⠙\u001b[0m Locking...\r",
      "\u001b[2K\u001b[32m⠹\u001b[0m Locking...\r",
      "\u001b[2K\u001b[32m⠸\u001b[0m Locking...\r",
      "\u001b[2K\u001b[32m⠼\u001b[0m Locking...\r",
      "\u001b[2K\u001b[32m⠴\u001b[0m Locking...\r",
      "\u001b[2K\u001b[32m⠦\u001b[0m Locking...\r",
      "\u001b[2K\u001b[32m⠧\u001b[0m Locking...\r",
      "\u001b[2K\u001b[32m⠇\u001b[0m Locking...\r",
      "\u001b[2K\u001b[32m⠏\u001b[0m Locking...\r",
      "\u001b[2K\u001b[32m⠋\u001b[0m Locking...\r",
      "\u001b[2K\u001b[32m⠙\u001b[0m Locking...\r",
      "\u001b[2K\u001b[32m⠹\u001b[0m Locking...\r",
      "\u001b[2K\u001b[32m⠸\u001b[0m Locking...\r",
      "\u001b[2K\u001b[32m⠼\u001b[0m Locking...\r",
      "\u001b[2K\u001b[32m⠴\u001b[0m Locking...\r",
      "\u001b[2K\u001b[32m⠦\u001b[0m Locking...\r",
      "\u001b[2K\u001b[32m⠧\u001b[0m Locking...\r",
      "\u001b[2K\u001b[32m⠇\u001b[0m Locking...\r",
      "\u001b[2K\u001b[32m⠏\u001b[0m Locking...\r",
      "\u001b[2K\u001b[32m⠋\u001b[0m Locking...\r",
      "\u001b[2K\u001b[32m⠙\u001b[0m Locking...\r",
      "\u001b[2K\u001b[32m⠹\u001b[0m Locking...\r",
      "\u001b[2K\u001b[32m⠸\u001b[0m Locking...\r",
      "\u001b[2K\u001b[32m⠼\u001b[0m Locking...\r",
      "\u001b[2K\u001b[32m⠴\u001b[0m Locking...\r",
      "\u001b[2K\u001b[32m⠦\u001b[0m Locking...\r",
      "\u001b[2K\u001b[32m⠧\u001b[0m Locking...\r",
      "\u001b[2K\u001b[32m⠇\u001b[0m Locking...\r",
      "\u001b[2K\u001b[32m⠏\u001b[0m Locking...\r",
      "\u001b[2K\u001b[32m⠋\u001b[0m Locking...\r",
      "\u001b[2K\u001b[32m⠙\u001b[0m Locking...\r",
      "\u001b[2K\u001b[32m⠹\u001b[0m Locking...\r",
      "\u001b[2K\u001b[32m⠸\u001b[0m Locking...\r",
      "\u001b[2K\u001b[32m⠼\u001b[0m Locking...\r",
      "\u001b[2K\u001b[32m⠴\u001b[0m Locking...\r",
      "\u001b[2K\u001b[32m⠦\u001b[0m Locking...\r",
      "\u001b[2K\u001b[32m⠧\u001b[0m Locking...\r",
      "\u001b[2K\u001b[32m⠇\u001b[0m Locking...\r",
      "\u001b[2K\u001b[32m⠏\u001b[0m Locking...\r",
      "\u001b[2K\u001b[32m⠋\u001b[0m Locking...\r",
      "\u001b[2K\u001b[32m⠙\u001b[0m Locking...\r",
      "\u001b[2K\u001b[32m⠹\u001b[0m Locking...\r",
      "\u001b[2K\u001b[32m⠸\u001b[0m Locking...\r",
      "\u001b[2K\u001b[32m⠼\u001b[0m Locking...\r",
      "\u001b[2K\u001b[32m⠴\u001b[0m Locking...\r",
      "\u001b[2K\u001b[32m⠦\u001b[0m Locking...\r",
      "\u001b[2K\u001b[32m⠧\u001b[0m Locking...\r",
      "\u001b[2K\u001b[32m⠇\u001b[0m Locking...\r",
      "\u001b[2K\u001b[32m⠏\u001b[0m Locking...\r",
      "\u001b[2K\u001b[32m⠋\u001b[0m Locking...\r",
      "\u001b[2K\u001b[32m⠙\u001b[0m Locking...\r",
      "\u001b[2K\u001b[32m⠹\u001b[0m Locking...\r",
      "\u001b[2K\u001b[32m⠸\u001b[0m Locking...\r",
      "\u001b[2K\u001b[32m⠼\u001b[0m Locking...\r",
      "\u001b[2K\u001b[32m⠴\u001b[0m Locking...\r",
      "\u001b[2K\u001b[32m⠦\u001b[0m Locking...\r",
      "\u001b[2K\u001b[32m⠧\u001b[0m Locking...\r",
      "\u001b[2K\u001b[32m⠇\u001b[0m Locking...\r",
      "\u001b[2K\u001b[32m⠏\u001b[0m Locking...\r",
      "\u001b[2K\u001b[32m⠋\u001b[0m Locking...\r",
      "\u001b[2K\u001b[32m⠙\u001b[0m Locking...\r",
      "\u001b[2K\u001b[32m⠹\u001b[0m Locking...\r",
      "\u001b[2K\u001b[32m⠸\u001b[0m Locking...\r",
      "\u001b[2K\u001b[32m⠼\u001b[0m Locking...\r",
      "\u001b[2K\u001b[32m⠴\u001b[0m Locking...\r",
      "\u001b[2K\u001b[32m⠦\u001b[0m Locking...\r",
      "\u001b[2K\u001b[32m⠧\u001b[0m Locking...\r",
      "\u001b[2K\u001b[32m⠇\u001b[0m Locking...\r",
      "\u001b[2K\u001b[32m⠏\u001b[0m Locking...\r",
      "\u001b[2K\u001b[32m⠋\u001b[0m Locking...\r",
      "\u001b[2K\u001b[32m⠙\u001b[0m Locking...\r",
      "\u001b[2K\u001b[32m⠹\u001b[0m Locking...\r",
      "\u001b[2K\u001b[32m⠸\u001b[0m Locking...\r",
      "\u001b[2K\u001b[32m⠼\u001b[0m Locking...\r",
      "\u001b[2K\u001b[32m⠴\u001b[0m Locking...\r",
      "\u001b[2K\u001b[32m⠦\u001b[0m Locking...\r",
      "\u001b[2K\u001b[32m⠧\u001b[0m Locking...\r",
      "\u001b[2K\u001b[32m⠇\u001b[0m Locking...\r",
      "\u001b[2K\u001b[32m⠏\u001b[0m Locking...\r",
      "\u001b[2K\u001b[32m⠋\u001b[0m Locking...\r",
      "\u001b[2K\u001b[32m⠙\u001b[0m Locking...\r",
      "\u001b[2K\u001b[32m⠹\u001b[0m Locking...\r",
      "\u001b[2K\u001b[32m⠸\u001b[0m Locking...\r",
      "\u001b[2K\u001b[32m⠴\u001b[0m Locking...\r",
      "\u001b[2K\u001b[32m⠦\u001b[0m Locking...\r",
      "\u001b[2K\u001b[32m⠧\u001b[0m Locking...\r",
      "\u001b[2K\u001b[32m⠇\u001b[0m Locking...\r",
      "\u001b[2K\u001b[32m⠏\u001b[0m Locking...\r",
      "\u001b[2K\u001b[32m⠋\u001b[0m Locking...\r",
      "\u001b[2K\u001b[32m⠙\u001b[0m Locking...\r",
      "\u001b[2K\u001b[32m⠹\u001b[0m Locking...\r",
      "\u001b[2K\u001b[32m⠸\u001b[0m Locking...\r",
      "\u001b[2K\u001b[32m⠼\u001b[0m Locking...\r",
      "\u001b[2K\u001b[32m⠴\u001b[0m Locking...\r",
      "\u001b[2K\u001b[32m⠦\u001b[0m Locking...\r",
      "\u001b[2K\u001b[32m⠧\u001b[0m Locking...\r",
      "\u001b[2K\u001b[32m⠇\u001b[0m Locking...\r",
      "\u001b[2K\u001b[32m⠏\u001b[0m Locking...\r",
      "\u001b[2K\u001b[32m⠋\u001b[0m Locking...\r",
      "\u001b[2K\u001b[32m⠙\u001b[0m Locking...\r",
      "\u001b[2K\u001b[32m⠹\u001b[0m Locking...\r",
      "\u001b[2K\u001b[32m⠸\u001b[0m Locking...\r",
      "\u001b[2K\u001b[32m⠼\u001b[0m Locking...\r",
      "\u001b[2K\u001b[32m⠴\u001b[0m Locking...\r",
      "\u001b[2K\u001b[32m⠦\u001b[0m Locking...\r",
      "\u001b[2K\u001b[32m⠧\u001b[0m Locking...\r",
      "\u001b[2K\u001b[32m⠇\u001b[0m Locking...\r",
      "\u001b[2K\u001b[32m⠏\u001b[0m Locking...\r",
      "\u001b[2K\u001b[32m⠋\u001b[0m Locking...\r",
      "\u001b[2K\u001b[32m⠙\u001b[0m Locking...\r",
      "\u001b[2K\u001b[32m⠹\u001b[0m Locking...\r",
      "\u001b[2K\u001b[32m⠸\u001b[0m Locking...\r",
      "\u001b[2K\u001b[32m⠼\u001b[0m Locking...\r",
      "\u001b[2K\u001b[32m⠴\u001b[0m Locking...\r",
      "\u001b[2K\u001b[32m⠦\u001b[0m Locking...\r",
      "\u001b[2K\u001b[32m⠧\u001b[0m Locking...\r",
      "\u001b[2K\u001b[32m⠇\u001b[0m Locking...\r",
      "\u001b[2K\u001b[32m⠏\u001b[0m Locking...\r",
      "\u001b[2K\u001b[32m⠋\u001b[0m Locking...\r",
      "\u001b[2K\u001b[32m⠙\u001b[0m Locking...\r",
      "\u001b[2K\u001b[32m⠹\u001b[0m Locking...\r",
      "\u001b[2K\u001b[32m⠸\u001b[0m Locking...\r",
      "\u001b[2K\u001b[32m⠼\u001b[0m Locking...\r",
      "\u001b[2K\u001b[32m⠴\u001b[0m Locking...\r",
      "\u001b[2K\u001b[32m⠦\u001b[0m Locking...\r",
      "\u001b[2K\u001b[32m⠧\u001b[0m Locking...\r",
      "\u001b[2K\u001b[32m⠇\u001b[0m Locking...\r",
      "\u001b[2K\u001b[32m⠏\u001b[0m Locking...\r",
      "\u001b[2K\u001b[32m⠋\u001b[0m Locking...\r",
      "\u001b[2K\u001b[32m⠙\u001b[0m Locking...\r",
      "\u001b[2K\u001b[32m⠹\u001b[0m Locking...\r",
      "\u001b[2K\u001b[32m⠸\u001b[0m Locking...\r",
      "\u001b[2K\u001b[32m⠼\u001b[0m Locking...\r",
      "\u001b[2K\u001b[32m⠴\u001b[0m Locking...\r",
      "\u001b[2K\u001b[32m⠦\u001b[0m Locking...\r",
      "\u001b[2K\u001b[32m⠧\u001b[0m Locking...\r",
      "\u001b[2K\u001b[32m⠇\u001b[0m Locking...\r",
      "\u001b[2K\u001b[32m⠏\u001b[0m Locking...\r",
      "\u001b[2K\u001b[32m⠋\u001b[0m Locking...\r",
      "\u001b[2K\u001b[32m⠙\u001b[0m Locking...\r",
      "\u001b[2K\u001b[32m⠹\u001b[0m Locking...\r",
      "\u001b[2K\u001b[32m⠸\u001b[0m Locking...\r",
      "\u001b[2K\u001b[32m⠼\u001b[0m Locking...\r",
      "\u001b[2K\u001b[32m⠴\u001b[0m Locking...\r",
      "\u001b[2K\u001b[32m⠦\u001b[0m Locking...\r",
      "\u001b[2K\u001b[32m⠧\u001b[0m Locking...\r",
      "\u001b[2K\u001b[32m⠇\u001b[0m Locking...\r",
      "\u001b[2K\u001b[32m⠏\u001b[0m Locking...\r",
      "\u001b[2K\u001b[32m⠋\u001b[0m Locking...\r",
      "\u001b[2K\u001b[32m⠙\u001b[0m Locking...\r",
      "\u001b[2K\u001b[32m⠹\u001b[0m Locking...\r",
      "\u001b[2K\u001b[32m⠸\u001b[0m Locking...\r",
      "\u001b[2K\u001b[32m⠼\u001b[0m Locking...\r",
      "\u001b[2K\u001b[32m⠴\u001b[0m Locking...\r",
      "\u001b[2K\u001b[32m⠦\u001b[0m Locking...\r",
      "\u001b[2K\u001b[32m⠧\u001b[0m Locking...\r",
      "\u001b[2K\u001b[32m⠇\u001b[0m Locking...\r",
      "\u001b[2K\u001b[32m⠏\u001b[0m Locking...\r",
      "\u001b[2K\u001b[32m⠋\u001b[0m Locking...\r",
      "\u001b[2K\u001b[32m⠙\u001b[0m Locking...\r",
      "\u001b[2K\u001b[32m⠹\u001b[0m Locking...\r",
      "\u001b[2K\u001b[32m⠸\u001b[0m Locking...\r",
      "\u001b[2K\u001b[32m⠼\u001b[0m Locking...\r",
      "\u001b[2K\u001b[32m⠴\u001b[0m Locking...\r",
      "\u001b[2K\u001b[32m⠦\u001b[0m Locking...\r",
      "\u001b[2K\u001b[32m⠧\u001b[0m Locking...\r",
      "\u001b[2K\u001b[32m⠇\u001b[0m Locking...\r",
      "\u001b[2K\u001b[32m⠏\u001b[0m Locking...\r",
      "\u001b[2K\u001b[32m⠋\u001b[0m Locking...\r",
      "\u001b[2K\u001b[32m⠙\u001b[0m Locking...\r",
      "\u001b[2K\u001b[32m⠹\u001b[0m Locking...\r",
      "\u001b[2K\u001b[32m⠸\u001b[0m Locking...\r",
      "\u001b[2K\u001b[32m⠼\u001b[0m Locking...\r",
      "\u001b[2K\u001b[32m⠴\u001b[0m Locking...\r",
      "\u001b[2K\u001b[32m⠦\u001b[0m Locking...\r",
      "\u001b[2K\u001b[32m⠧\u001b[0m Locking...\r",
      "\u001b[2K\u001b[32m⠇\u001b[0m Locking...\r",
      "\u001b[2K\u001b[32m⠏\u001b[0m Locking...\r",
      "\u001b[2K\u001b[32m⠋\u001b[0m Locking...\r",
      "\u001b[2K\u001b[32m⠙\u001b[0m Locking...\r",
      "\u001b[2K\u001b[32m⠹\u001b[0m Locking...\r",
      "\u001b[2K\u001b[32m⠸\u001b[0m Locking...\r",
      "\u001b[2K\u001b[32m⠼\u001b[0m Locking...\r",
      "\u001b[2K\u001b[32m⠴\u001b[0m Locking...\r",
      "\u001b[2K\u001b[32m⠦\u001b[0m Locking...\r",
      "\u001b[2K\u001b[32m⠧\u001b[0m Locking...\r",
      "\u001b[2K\u001b[32m⠇\u001b[0m Locking...\r",
      "\u001b[2K\u001b[32m⠋\u001b[0m Locking...\r",
      "\u001b[2K\u001b[32m⠙\u001b[0m Locking...\r",
      "\u001b[2K\u001b[32m⠹\u001b[0m Locking...\r",
      "\u001b[2K\u001b[32m⠸\u001b[0m Locking...\r",
      "\u001b[2K\u001b[32m⠼\u001b[0m Locking...\r",
      "\u001b[2K\u001b[32m⠴\u001b[0m Locking...\r",
      "\u001b[2K\u001b[32m⠦\u001b[0m Locking...\r",
      "\u001b[2K\u001b[32m⠧\u001b[0m Locking...\r",
      "\u001b[2K\u001b[32m⠇\u001b[0m Locking...\r",
      "\u001b[2K\u001b[32m⠏\u001b[0m Locking...\r",
      "\u001b[2K\u001b[32m⠋\u001b[0m Locking...\r",
      "\u001b[2K\u001b[32m⠙\u001b[0m Locking...\r",
      "\u001b[2K\u001b[32m⠹\u001b[0m Locking...\r",
      "\u001b[2K\u001b[32m⠸\u001b[0m Locking...\r",
      "\u001b[2K\u001b[32m⠼\u001b[0m Locking...\r",
      "\u001b[2K\u001b[32m⠴\u001b[0m Locking...\r",
      "\u001b[2K\u001b[32m⠦\u001b[0m Locking...\r",
      "\u001b[2K\u001b[32m⠧\u001b[0m Locking...\r",
      "\u001b[2K\u001b[32m⠇\u001b[0m Locking...\r",
      "\u001b[2K\u001b[32m⠏\u001b[0m Locking...\r",
      "\u001b[2K\u001b[32m⠋\u001b[0m Locking...\r",
      "\u001b[2K\u001b[32m⠙\u001b[0m Locking...\r",
      "\u001b[2K\u001b[32m⠹\u001b[0m Locking...\r",
      "\u001b[2K\u001b[32m⠸\u001b[0m Locking...\r",
      "\u001b[2K\u001b[32m⠼\u001b[0m Locking...\r",
      "\u001b[2K\u001b[32m⠴\u001b[0m Locking...\r",
      "\u001b[2K\u001b[32m⠦\u001b[0m Locking...\r",
      "\u001b[2K\u001b[32m⠧\u001b[0m Locking...\r",
      "\u001b[2K\u001b[32m⠇\u001b[0m Locking...\r",
      "\u001b[2K\u001b[32m⠏\u001b[0m Locking...\r",
      "\u001b[2K\u001b[32m⠋\u001b[0m Locking...\r",
      "\u001b[2K\u001b[32m⠙\u001b[0m Locking...\r",
      "\u001b[2K\u001b[32m⠹\u001b[0m Locking...\r",
      "\u001b[2K\u001b[32m⠸\u001b[0m Locking...\r",
      "\u001b[2K\u001b[32m⠼\u001b[0m Locking...\r",
      "\u001b[2K\u001b[32m⠴\u001b[0m Locking...\r",
      "\u001b[2K\u001b[32m⠦\u001b[0m Locking...\r",
      "\u001b[2K\u001b[32m⠧\u001b[0m Locking...\r",
      "\u001b[2K\u001b[32m⠇\u001b[0m Locking...\r",
      "\u001b[2K\u001b[32m⠏\u001b[0m Locking...\r",
      "\u001b[2K\u001b[32m⠋\u001b[0m Locking...\r",
      "\u001b[2K\u001b[32m⠙\u001b[0m Locking...\r",
      "\u001b[2K\u001b[32m⠹\u001b[0m Locking...\r",
      "\u001b[2K\u001b[32m⠸\u001b[0m Locking...\r",
      "\u001b[2K\u001b[32m⠼\u001b[0m Locking...\r",
      "\u001b[2K\u001b[32m⠴\u001b[0m Locking...\r",
      "\u001b[2K\u001b[32m⠦\u001b[0m Locking...\r",
      "\u001b[2K\u001b[32m⠧\u001b[0m Locking...\r",
      "\u001b[2K\u001b[32m⠇\u001b[0m Locking...\r",
      "\u001b[2K\u001b[32m⠏\u001b[0m Locking...\r",
      "\u001b[2K\u001b[32m⠋\u001b[0m Locking...\r",
      "\u001b[2K\u001b[32m⠙\u001b[0m Locking...\r",
      "\u001b[2K\u001b[32m⠹\u001b[0m Locking...\r",
      "\u001b[2K\u001b[32m⠸\u001b[0m Locking...\r",
      "\u001b[2K\u001b[32m⠼\u001b[0m Locking...\r",
      "\u001b[2K\u001b[32m⠴\u001b[0m Locking...\r",
      "\u001b[2K\u001b[32m⠦\u001b[0m Locking...\r",
      "\u001b[2K\u001b[32m⠧\u001b[0m Locking...\r",
      "\u001b[2K\u001b[32m⠇\u001b[0m Locking...\r",
      "\u001b[2K\u001b[32m⠏\u001b[0m Locking...\r",
      "\u001b[2K\u001b[32m⠋\u001b[0m Locking...\r",
      "\u001b[2K\u001b[32m⠙\u001b[0m Locking...\r",
      "\u001b[2K\u001b[32m⠹\u001b[0m Locking...\r",
      "\u001b[2K\u001b[32m⠸\u001b[0m Locking...\r",
      "\u001b[2K\u001b[32m⠼\u001b[0m Locking...\r",
      "\u001b[2K\u001b[32m⠴\u001b[0m Locking...\r",
      "\u001b[2K\u001b[32m⠦\u001b[0m Locking...\r",
      "\u001b[2K\u001b[32m⠧\u001b[0m Locking...\r",
      "\u001b[2K\u001b[32m⠇\u001b[0m Locking...\r",
      "\u001b[2K\u001b[32m⠏\u001b[0m Locking...\r",
      "\u001b[2K\u001b[32m⠋\u001b[0m Locking...\r",
      "\u001b[2K\u001b[32m⠙\u001b[0m Locking...\r",
      "\u001b[2K\u001b[32m⠹\u001b[0m Locking...\r",
      "\u001b[2K\u001b[32m⠸\u001b[0m Locking...\r",
      "\u001b[2K\u001b[32m⠼\u001b[0m Locking...\r",
      "\u001b[2K\u001b[32m⠴\u001b[0m Locking...\r",
      "\u001b[2K\u001b[32m⠦\u001b[0m Locking...\r",
      "\u001b[2K\u001b[32m⠧\u001b[0m Locking...\r",
      "\u001b[2K\u001b[32m⠇\u001b[0m Locking...\r",
      "\u001b[2K\u001b[32m⠏\u001b[0m Locking...\r",
      "\u001b[2K\u001b[32m⠋\u001b[0m Locking...\r",
      "\u001b[2K\u001b[32m⠙\u001b[0m Locking...\r",
      "\u001b[2K\u001b[32m⠹\u001b[0m Locking...\r",
      "\u001b[2K\u001b[32m⠸\u001b[0m Locking...\r",
      "\u001b[2K\u001b[32m⠼\u001b[0m Locking...\r",
      "\u001b[2K\u001b[32m⠴\u001b[0m Locking...\r",
      "\u001b[2K\u001b[32m⠦\u001b[0m Locking...\r",
      "\u001b[2K\u001b[32m⠧\u001b[0m Locking...\r",
      "\u001b[2K\u001b[32m⠇\u001b[0m Locking...\r",
      "\u001b[2K\u001b[32m⠏\u001b[0m Locking...\r",
      "\u001b[2K\u001b[32m⠋\u001b[0m Locking...\r",
      "\u001b[2K\u001b[32m⠙\u001b[0m Locking...\r",
      "\u001b[2K\u001b[32m⠹\u001b[0m Locking...\r",
      "\u001b[2K\u001b[32m⠸\u001b[0m Locking...\r",
      "\u001b[2K\u001b[32m⠼\u001b[0m Locking...\r",
      "\u001b[2K\u001b[32m⠴\u001b[0m Locking...\r",
      "\u001b[2K\u001b[32m⠧\u001b[0m Locking...\r",
      "\u001b[2K\u001b[32m⠇\u001b[0m Locking...\r",
      "\u001b[2K\u001b[32m⠏\u001b[0m Locking...\r",
      "\u001b[2K\u001b[32m⠋\u001b[0m Locking...\r",
      "\u001b[2K\u001b[32m⠙\u001b[0m Locking...\r",
      "\u001b[2K\u001b[32m⠹\u001b[0m Locking...\r",
      "\u001b[2K\u001b[32m⠸\u001b[0m Locking...\r",
      "\u001b[2K\u001b[32m⠼\u001b[0m Locking...\r",
      "\u001b[2K\u001b[32m⠴\u001b[0m Locking...\r",
      "\u001b[2K\u001b[32m⠦\u001b[0m Locking...\r",
      "\u001b[2K\u001b[32m⠧\u001b[0m Locking...\r",
      "\u001b[2K\u001b[32m⠇\u001b[0m Locking...\r",
      "\u001b[2K\u001b[32m⠏\u001b[0m Locking...\r",
      "\u001b[2K\u001b[32m⠋\u001b[0m Locking...\r",
      "\u001b[2K\u001b[32m⠙\u001b[0m Locking...\r",
      "\u001b[2K\u001b[32m⠹\u001b[0m Locking...\r",
      "\u001b[2K\u001b[32m⠸\u001b[0m Locking...\r",
      "\u001b[2K\u001b[32m⠼\u001b[0m Locking...\r",
      "\u001b[2K\u001b[32m⠴\u001b[0m Locking...\r",
      "\u001b[2K\u001b[32m⠦\u001b[0m Locking...\r",
      "\u001b[2K\u001b[32m⠧\u001b[0m Locking...\r",
      "\u001b[2K\u001b[32m⠇\u001b[0m Locking...\r",
      "\u001b[2K\u001b[32m⠏\u001b[0m Locking...\r",
      "\u001b[2K\u001b[32m⠋\u001b[0m Locking...\r",
      "\u001b[2K\u001b[32m⠙\u001b[0m Locking...\r",
      "\u001b[2K\u001b[32m⠹\u001b[0m Locking...\r",
      "\u001b[2K\u001b[32m⠸\u001b[0m Locking...\r",
      "\u001b[2K\u001b[32m⠼\u001b[0m Locking...\r",
      "\u001b[2K\u001b[32m⠴\u001b[0m Locking...\r",
      "\u001b[2K\u001b[32m⠦\u001b[0m Locking...\r",
      "\u001b[2K\u001b[32m⠧\u001b[0m Locking...\r",
      "\u001b[2K\u001b[32m⠇\u001b[0m Locking...\r",
      "\u001b[2K\u001b[32m⠏\u001b[0m Locking...\r",
      "\u001b[2K\u001b[32m⠋\u001b[0m Locking...\r",
      "\u001b[2K\u001b[32m⠙\u001b[0m Locking...\r",
      "\u001b[2K\u001b[32m⠹\u001b[0m Locking...\r",
      "\u001b[2K\u001b[32m⠸\u001b[0m Locking...\r",
      "\u001b[2K\u001b[32m⠼\u001b[0m Locking...\r",
      "\u001b[2K\u001b[32m⠴\u001b[0m Locking...\r",
      "\u001b[2K\u001b[32m⠦\u001b[0m Locking...\r",
      "\u001b[2K\u001b[32m⠧\u001b[0m Locking...\r",
      "\u001b[2K\u001b[32m⠇\u001b[0m Locking...\r",
      "\u001b[2K\u001b[32m⠏\u001b[0m Locking...\r",
      "\u001b[2K\u001b[32m⠋\u001b[0m Locking...\r",
      "\u001b[2K\u001b[32m⠙\u001b[0m Locking...\r",
      "\u001b[2K\u001b[32m⠹\u001b[0m Locking...\r",
      "\u001b[2K\u001b[32m⠸\u001b[0m Locking...\r",
      "\u001b[2K\u001b[32m⠼\u001b[0m Locking...\r",
      "\u001b[2K\u001b[32m⠴\u001b[0m Locking...\r",
      "\u001b[2K\u001b[32m⠦\u001b[0m Locking...\r",
      "\u001b[2K\u001b[32m⠧\u001b[0m Locking...\r",
      "\u001b[2K\u001b[32m⠇\u001b[0m Locking...\r",
      "\u001b[2K\u001b[32m⠏\u001b[0m Locking...\r",
      "\u001b[2K\u001b[32m⠋\u001b[0m Locking...\r",
      "\u001b[2K\u001b[32m⠙\u001b[0m Locking...\r",
      "\u001b[2K\u001b[32m⠹\u001b[0m Locking...\r",
      "\u001b[2K\u001b[32m⠸\u001b[0m Locking...\r",
      "\u001b[2K\u001b[32m⠼\u001b[0m Locking...\r",
      "\u001b[2K\u001b[32m⠴\u001b[0m Locking...\r",
      "\u001b[2K\u001b[32m⠦\u001b[0m Locking...\r",
      "\u001b[2K\u001b[32m⠧\u001b[0m Locking...\r",
      "\u001b[2K\u001b[32m⠇\u001b[0m Locking...\r",
      "\u001b[2K\u001b[32m⠏\u001b[0m Locking...\r",
      "\u001b[2K\u001b[32m⠋\u001b[0m Locking...\r",
      "\u001b[2K\u001b[32m⠙\u001b[0m Locking...\r",
      "\u001b[2K\u001b[32m⠹\u001b[0m Locking...\r",
      "\u001b[2K\u001b[32m⠸\u001b[0m Locking...\r",
      "\u001b[2K\u001b[32m⠼\u001b[0m Locking...\r",
      "\u001b[2K\u001b[32m⠴\u001b[0m Locking...\r",
      "\u001b[2K\u001b[32m⠦\u001b[0m Locking...\r",
      "\u001b[2K\u001b[32m⠧\u001b[0m Locking...\r",
      "\u001b[2K\u001b[32m⠇\u001b[0m Locking...\r",
      "\u001b[2K\u001b[32m⠏\u001b[0m Locking...\r",
      "\u001b[2K\u001b[32m⠋\u001b[0m Locking...\r",
      "\u001b[2K\u001b[32m⠙\u001b[0m Locking...\r",
      "\u001b[2K\u001b[32m⠹\u001b[0m Locking...\r",
      "\u001b[2K\u001b[32m⠸\u001b[0m Locking...\r",
      "\u001b[2K\u001b[32m⠼\u001b[0m Locking...\r",
      "\u001b[2K\u001b[32m⠴\u001b[0m Locking...\r",
      "\u001b[2K\u001b[32m⠦\u001b[0m Locking...\r",
      "\u001b[2K\u001b[32m⠧\u001b[0m Locking...\r",
      "\u001b[2K\u001b[32m⠇\u001b[0m Locking...\r",
      "\u001b[2K\u001b[32m⠏\u001b[0m Locking...\r",
      "\u001b[2K\u001b[32m⠋\u001b[0m Locking...\r",
      "\u001b[2K\u001b[32m⠙\u001b[0m Locking...\r",
      "\u001b[2K\u001b[32m⠹\u001b[0m Locking...\r",
      "\u001b[2K\u001b[32m⠸\u001b[0m Locking...\r",
      "\u001b[2K\u001b[32m⠼\u001b[0m Locking...\r",
      "\u001b[2K\u001b[32m⠴\u001b[0m Locking...\r",
      "\u001b[2K\u001b[32m⠦\u001b[0m Locking...\r",
      "\u001b[2K\u001b[32m⠧\u001b[0m Locking...\r",
      "\u001b[2K\u001b[32m⠇\u001b[0m Locking...\r",
      "\u001b[2K\u001b[32m⠏\u001b[0m Locking...\r",
      "\u001b[2K\u001b[32m⠋\u001b[0m Locking...\r",
      "\u001b[2K\u001b[32m⠙\u001b[0m Locking...\r",
      "\u001b[2K\u001b[32m⠹\u001b[0m Locking...\r",
      "\u001b[2K\u001b[32m⠼\u001b[0m Locking...\r",
      "\u001b[2K\u001b[32m⠴\u001b[0m Locking...\r",
      "\u001b[2K\u001b[32m⠦\u001b[0m Locking...\r",
      "\u001b[2K\u001b[32m⠧\u001b[0m Locking...\r",
      "\u001b[2K\u001b[32m⠇\u001b[0m Locking...\r",
      "\u001b[2K\u001b[32m⠏\u001b[0m Locking...\r",
      "\u001b[2K\u001b[32m⠋\u001b[0m Locking...\r",
      "\u001b[2K\u001b[32m⠙\u001b[0m Locking...\r",
      "\u001b[2K\u001b[32m⠹\u001b[0m Locking...\r",
      "\u001b[2K\u001b[32m⠸\u001b[0m Locking...\r",
      "\u001b[2K\u001b[32m⠼\u001b[0m Locking...\r",
      "\u001b[2K\u001b[32m⠴\u001b[0m Locking...\r",
      "\u001b[2K\u001b[32m⠦\u001b[0m Locking...\r",
      "\u001b[2K\u001b[32m⠧\u001b[0m Locking...\r",
      "\u001b[2K\u001b[32m⠇\u001b[0m Locking...\r",
      "\u001b[2K\u001b[32m⠏\u001b[0m Locking...\r",
      "\u001b[2K\u001b[32m⠋\u001b[0m Locking...\r",
      "\u001b[2K\u001b[32m⠙\u001b[0m Locking...\r",
      "\u001b[2K\u001b[32m⠹\u001b[0m Locking...\r",
      "\u001b[2K\u001b[32m⠸\u001b[0m Locking...\r",
      "\u001b[2K\u001b[32m⠼\u001b[0m Locking...\r",
      "\u001b[2K\u001b[32m⠴\u001b[0m Locking...\r",
      "\u001b[2K\u001b[32m⠦\u001b[0m Locking...\r",
      "\u001b[2K\u001b[32m⠧\u001b[0m Locking...\r",
      "\u001b[2K\u001b[32m⠇\u001b[0m Locking...\r",
      "\u001b[2K\u001b[32m⠏\u001b[0m Locking...\r",
      "\u001b[2K\u001b[32m⠋\u001b[0m Locking...\r",
      "\u001b[2K\u001b[32m⠙\u001b[0m Locking...\r",
      "\u001b[2K\u001b[32m⠹\u001b[0m Locking...\r",
      "\u001b[2K\u001b[32m⠸\u001b[0m Locking...\r",
      "\u001b[2K\u001b[32m⠼\u001b[0m Locking...\r",
      "\u001b[2K\u001b[32m⠴\u001b[0m Locking...\r",
      "\u001b[2K\u001b[32m⠦\u001b[0m Locking...\r",
      "\u001b[2K\u001b[32m⠧\u001b[0m Locking...\r",
      "\u001b[2K\u001b[32m⠇\u001b[0m Locking...\r",
      "\u001b[2K\u001b[32m⠏\u001b[0m Locking...\r",
      "\u001b[2K\u001b[32m⠋\u001b[0m Locking...\r",
      "\u001b[2K\u001b[32m⠙\u001b[0m Locking...\r",
      "\u001b[2K\u001b[32m⠹\u001b[0m Locking...\r",
      "\u001b[2K\u001b[32m⠸\u001b[0m Locking...\r",
      "\u001b[2K\u001b[32m⠼\u001b[0m Locking...\r",
      "\u001b[2K\u001b[32m⠴\u001b[0m Locking...\r",
      "\u001b[2K\u001b[32m⠦\u001b[0m Locking...\r",
      "\u001b[2K\u001b[32m⠧\u001b[0m Locking...\r",
      "\u001b[2K\u001b[32m⠇\u001b[0m Locking...\r",
      "\u001b[2K\u001b[32m⠏\u001b[0m Locking...\r",
      "\u001b[2K\u001b[32m⠋\u001b[0m Locking...\r",
      "\u001b[2K\u001b[32m⠙\u001b[0m Locking...\r",
      "\u001b[2K\u001b[32m⠹\u001b[0m Locking...\r",
      "\u001b[2K\u001b[32m⠸\u001b[0m Locking...\r",
      "\u001b[2K\u001b[32m⠼\u001b[0m Locking...\r",
      "\u001b[2K\u001b[32m⠴\u001b[0m Locking...\r",
      "\u001b[2K\u001b[32m⠦\u001b[0m Locking...\r",
      "\u001b[2K\u001b[32m⠧\u001b[0m Locking...\r",
      "\u001b[2K\u001b[32m⠇\u001b[0m Locking...\r",
      "\u001b[2K\u001b[32m⠏\u001b[0m Locking...\r",
      "\u001b[2K\u001b[32m⠋\u001b[0m Locking...\r",
      "\u001b[2K\u001b[32m⠙\u001b[0m Locking...\r",
      "\u001b[2K\u001b[32m⠹\u001b[0m Locking...\r",
      "\u001b[2K\u001b[32m⠸\u001b[0m Locking...\r",
      "\u001b[2K\u001b[32m⠼\u001b[0m Locking...\r",
      "\u001b[2K\u001b[32m⠴\u001b[0m Locking...\r",
      "\u001b[2K\u001b[32m⠦\u001b[0m Locking...\r",
      "\u001b[2K\u001b[32m⠧\u001b[0m Locking...\r",
      "\u001b[2K\u001b[32m⠇\u001b[0m Locking...\r",
      "\u001b[2K\u001b[32m⠏\u001b[0m Locking...\r",
      "\u001b[2K\u001b[32m⠋\u001b[0m Locking...\r",
      "\u001b[2K\u001b[32m⠙\u001b[0m Locking...\r",
      "\u001b[2K\u001b[32m⠹\u001b[0m Locking...\r",
      "\u001b[2K\u001b[32m⠸\u001b[0m Locking...\r",
      "\u001b[2K\u001b[32m⠼\u001b[0m Locking...\r",
      "\u001b[2K\u001b[32m⠴\u001b[0m Locking...\r",
      "\u001b[2K\u001b[32m⠦\u001b[0m Locking...\r",
      "\u001b[2K\u001b[32m⠧\u001b[0m Locking...\r",
      "\u001b[2K\u001b[32m⠇\u001b[0m Locking...\r",
      "\u001b[2K\u001b[32m⠏\u001b[0m Locking...\r",
      "\u001b[2K\u001b[32m⠋\u001b[0m Locking...\r",
      "\u001b[2K\u001b[32m⠙\u001b[0m Locking...\r",
      "\u001b[2K\u001b[32m⠹\u001b[0m Locking...\r",
      "\u001b[2K\u001b[32m⠸\u001b[0m Locking...\r",
      "\u001b[2K\u001b[32m⠼\u001b[0m Locking...\r",
      "\u001b[2K\u001b[32m⠴\u001b[0m Locking...\r",
      "\u001b[2K\u001b[32m⠦\u001b[0m Locking...\r",
      "\u001b[2K\u001b[32m⠧\u001b[0m Locking...\r",
      "\u001b[2K\u001b[32m⠇\u001b[0m Locking...\r",
      "\u001b[2K\u001b[32m⠏\u001b[0m Locking...\r",
      "\u001b[2K\u001b[32m⠋\u001b[0m Locking...\r",
      "\u001b[2K\u001b[32m⠙\u001b[0m Locking...\r",
      "\u001b[2K\u001b[32m⠹\u001b[0m Locking...\r",
      "\u001b[2K\u001b[32m⠸\u001b[0m Locking...\r",
      "\u001b[2K\u001b[32m⠼\u001b[0m Locking...\r",
      "\u001b[2K\u001b[32m⠴\u001b[0m Locking...\r",
      "\u001b[2K\u001b[32m⠦\u001b[0m Locking...\r",
      "\u001b[2K\u001b[32m⠧\u001b[0m Locking...\r",
      "\u001b[2K\u001b[32m⠇\u001b[0m Locking...\r",
      "\u001b[2K\u001b[32m⠏\u001b[0m Locking...\r",
      "\u001b[2K\u001b[32m⠋\u001b[0m Locking...\r",
      "\u001b[2K\u001b[32m⠙\u001b[0m Locking...\r",
      "\u001b[2K\u001b[32m⠹\u001b[0m Locking...\r",
      "\u001b[2K\u001b[32m⠸\u001b[0m Locking...\r",
      "\u001b[2K\u001b[32m⠴\u001b[0m Locking...\r",
      "\u001b[2K\u001b[32m⠦\u001b[0m Locking...\r",
      "\u001b[2K\u001b[32m⠧\u001b[0m Locking...\r",
      "\u001b[2K\u001b[32m⠇\u001b[0m Locking...\r",
      "\u001b[2K\u001b[32m⠏\u001b[0m Locking...\r",
      "\u001b[2K\u001b[32m⠋\u001b[0m Locking...\r",
      "\u001b[2K\u001b[32m⠙\u001b[0m Locking...\r",
      "\u001b[2K\u001b[32m⠹\u001b[0m Locking...\r",
      "\u001b[2K\u001b[32m⠸\u001b[0m Locking...\r",
      "\u001b[2K\u001b[32m⠼\u001b[0m Locking...\r",
      "\u001b[2K\u001b[32m⠴\u001b[0m Locking...\r",
      "\u001b[2K\u001b[32m⠦\u001b[0m Locking...\r",
      "\u001b[2K\u001b[32m⠧\u001b[0m Locking...\r",
      "\u001b[2K\u001b[32m⠇\u001b[0m Locking...\r",
      "\u001b[2K\u001b[32m⠏\u001b[0m Locking...\r",
      "\u001b[2K\u001b[32m⠋\u001b[0m Locking...\r",
      "\u001b[2K\u001b[32m⠙\u001b[0m Locking...\r",
      "\u001b[2K\u001b[32m⠹\u001b[0m Locking...\r",
      "\u001b[2K\u001b[32m⠸\u001b[0m Locking...\r",
      "\u001b[2K\u001b[32m⠼\u001b[0m Locking...\r",
      "\u001b[2K\u001b[32m⠴\u001b[0m Locking...\r",
      "\u001b[2K\u001b[32m⠦\u001b[0m Locking...\r",
      "\u001b[2K\u001b[32m⠧\u001b[0m Locking...\r",
      "\u001b[2K\u001b[32m⠇\u001b[0m Locking...\r",
      "\u001b[2K\u001b[32m⠏\u001b[0m Locking...\r",
      "\u001b[2K\u001b[32m⠋\u001b[0m Locking...\r",
      "\u001b[2K\u001b[32m⠙\u001b[0m Locking...\r",
      "\u001b[2K\u001b[32m⠹\u001b[0m Locking...\r",
      "\u001b[2K\u001b[32m⠸\u001b[0m Locking...\r",
      "\u001b[2K\u001b[32m⠼\u001b[0m Locking...\r",
      "\u001b[2K\u001b[32m⠴\u001b[0m Locking...\r",
      "\u001b[2K\u001b[32m⠦\u001b[0m Locking...\r",
      "\u001b[2K\u001b[32m⠧\u001b[0m Locking...\r",
      "\u001b[2K\u001b[32m⠇\u001b[0m Locking...\r",
      "\u001b[2K\u001b[32m⠏\u001b[0m Locking...\r",
      "\u001b[2K\u001b[32m⠋\u001b[0m Locking...\r",
      "\u001b[2K\u001b[32m⠙\u001b[0m Locking...\r",
      "\u001b[2K\u001b[32m⠹\u001b[0m Locking...\r",
      "\u001b[2K\u001b[32m⠸\u001b[0m Locking...\r",
      "\u001b[2K\u001b[32m⠼\u001b[0m Locking...\r",
      "\u001b[2K\u001b[32m⠴\u001b[0m Locking...\r",
      "\u001b[2K\u001b[32m⠦\u001b[0m Locking...\r",
      "\u001b[2K\u001b[32m⠧\u001b[0m Locking...\r",
      "\u001b[2K\u001b[32m⠇\u001b[0m Locking...\r",
      "\u001b[2K\u001b[32m⠏\u001b[0m Locking...\r",
      "\u001b[2K\u001b[32m⠋\u001b[0m Locking...\r",
      "\u001b[2K\u001b[32m⠙\u001b[0m Locking...\r",
      "\u001b[2K\u001b[32m⠹\u001b[0m Locking...\r",
      "\u001b[2K\u001b[32m⠸\u001b[0m Locking...\r",
      "\u001b[2K\u001b[32m⠼\u001b[0m Locking...\r",
      "\u001b[2K\u001b[32m⠴\u001b[0m Locking...\r",
      "\u001b[2K\u001b[32m⠦\u001b[0m Locking...\r",
      "\u001b[2K\u001b[32m⠧\u001b[0m Locking...\r",
      "\u001b[2K\u001b[32m⠇\u001b[0m Locking...\r",
      "\u001b[2K\u001b[32m⠏\u001b[0m Locking...\r",
      "\u001b[2K\u001b[32m⠋\u001b[0m Locking...\r",
      "\u001b[2K\u001b[32m⠙\u001b[0m Locking...\r",
      "\u001b[2K\u001b[32m⠹\u001b[0m Locking...\r",
      "\u001b[2K\u001b[32m⠸\u001b[0m Locking...\r",
      "\u001b[2K\u001b[32m⠼\u001b[0m Locking...\r",
      "\u001b[2K\u001b[32m⠴\u001b[0m Locking...\r",
      "\u001b[2K\u001b[32m⠦\u001b[0m Locking...\r",
      "\u001b[2K\u001b[32m⠧\u001b[0m Locking...\r",
      "\u001b[2K\u001b[32m⠇\u001b[0m Locking...\r",
      "\u001b[2K\u001b[32m⠏\u001b[0m Locking...\r",
      "\u001b[2K\u001b[32m⠋\u001b[0m Locking...\r",
      "\u001b[2K\u001b[32m⠙\u001b[0m Locking...\r",
      "\u001b[2K\u001b[32m⠹\u001b[0m Locking...\r",
      "\u001b[2K\u001b[32m⠸\u001b[0m Locking...\r",
      "\u001b[2K\u001b[32m⠼\u001b[0m Locking...\r",
      "\u001b[2K\u001b[32m⠴\u001b[0m Locking...\r",
      "\u001b[2K\u001b[32m⠦\u001b[0m Locking...\r",
      "\u001b[2K\u001b[32m⠧\u001b[0m Locking...\r",
      "\u001b[2K\u001b[32m⠇\u001b[0m Locking...\r",
      "\u001b[2K\u001b[32m⠏\u001b[0m Locking...\r",
      "\u001b[2K\u001b[32m⠋\u001b[0m Locking...\r",
      "\u001b[2K\u001b[32m⠙\u001b[0m Locking...\r",
      "\u001b[2K\u001b[32m⠹\u001b[0m Locking...\r",
      "\u001b[2K\u001b[32m⠸\u001b[0m Locking...\r",
      "\u001b[2K\u001b[32m⠼\u001b[0m Locking...\r",
      "\u001b[2K\u001b[32m⠴\u001b[0m Locking...\r",
      "\u001b[2K\u001b[32m⠦\u001b[0m Locking...\r",
      "\u001b[2K\u001b[32m⠧\u001b[0m Locking...\r",
      "\u001b[2K\u001b[32m⠇\u001b[0m Locking...\r",
      "\u001b[2K\u001b[32m⠏\u001b[0m Locking...\r",
      "\u001b[2K\u001b[32m⠋\u001b[0m Locking...\r",
      "\u001b[2K\u001b[32m⠙\u001b[0m Locking...\r",
      "\u001b[2K\u001b[32m⠹\u001b[0m Locking...\r",
      "\u001b[2K\u001b[32m⠸\u001b[0m Locking...\r",
      "\u001b[2K\u001b[32m⠼\u001b[0m Locking...\r",
      "\u001b[2K\u001b[32m⠴\u001b[0m Locking...\r",
      "\u001b[2K\u001b[32m⠦\u001b[0m Locking...\r",
      "\u001b[2K\u001b[32m⠇\u001b[0m Locking...\r",
      "\u001b[2K\u001b[32m⠏\u001b[0m Locking...\r",
      "\u001b[2K\u001b[32m⠋\u001b[0m Locking...\r",
      "\u001b[2K\u001b[32m⠙\u001b[0m Locking...\r",
      "\u001b[2K\u001b[32m⠹\u001b[0m Locking...\r",
      "\u001b[2K\u001b[32m⠸\u001b[0m Locking...\r",
      "\u001b[2K\u001b[32m⠼\u001b[0m Locking...\r",
      "\u001b[2K✔ Success!\n"
     ]
    },
    {
     "name": "stdout",
     "output_type": "stream",
     "text": [
      "\u001b[32m⠼\u001b[0m Locking...\r",
      "\u001b[2K\u001b[32m⠼\u001b[0m Locking...\n"
     ]
    },
    {
     "name": "stdout",
     "output_type": "stream",
     "text": [
      "\u001b[?25h\r",
      "\u001b[1A\u001b[2K\u001b[1mInstalling dependencies from Pipfile.lock \u001b[0m\u001b[1m(\u001b[0m\u001b[1m8cea26\u001b[0m\u001b[1m)\u001b[0m\u001b[1;33m...\u001b[0m\n"
     ]
    },
    {
     "name": "stdout",
     "output_type": "stream",
     "text": [
      "To activate this project's virtualenv, run \u001b[33mpipenv shell\u001b[0m.\n"
     ]
    },
    {
     "name": "stdout",
     "output_type": "stream",
     "text": [
      "Alternatively, run a command inside the virtualenv with \u001b[33mpipenv run\u001b[0m.\n"
     ]
    },
    {
     "name": "stdout",
     "output_type": "stream",
     "text": [
      "*********  Finished pip installing pcsaft  *********\n"
     ]
    }
   ],
   "source": [
    "%%capture req_output --no-stdout\n",
    "%%bash\n",
    "pipenv install -r requirements.txt\n",
    "echo \"*********  Finished pip installing requirements.txt  *********\"\n",
    "pipenv install torch-scatter\n",
    "echo \"*********  Finished pip installing torch-scatter  *********\"\n",
    "\n",
    "# install pcsaft\n",
    "curl -O -L https://gitlab.com/libeigen/eigen/-/archive/master/eigen-master.zip\n",
    "curl -O -L https://github.com/zmeri/PC-SAFT/archive/refs/tags/v1.4.1.zip\n",
    "unzip -q eigen-master.zip\n",
    "unzip -q v1.4.1.zip\n",
    "cp -rf eigen-master/. PC-SAFT-1.4.1/externals/eigen\n",
    "pipenv install ./PC-SAFT-1.4.1\n",
    "# install pcsaft\n",
    "echo \"*********  Finished pip installing pcsaft  *********\"\n"
   ]
  },
  {
   "cell_type": "code",
   "execution_count": 5,
   "id": "43c6f101",
   "metadata": {
    "execution": {
     "iopub.execute_input": "2024-05-19T01:39:40.990873Z",
     "iopub.status.busy": "2024-05-19T01:39:40.990549Z",
     "iopub.status.idle": "2024-05-19T01:39:41.000279Z",
     "shell.execute_reply": "2024-05-19T01:39:40.999416Z"
    },
    "papermill": {
     "duration": 0.023362,
     "end_time": "2024-05-19T01:39:41.002288",
     "exception": false,
     "start_time": "2024-05-19T01:39:40.978926",
     "status": "completed"
    },
    "tags": []
   },
   "outputs": [],
   "source": [
    "%%bash\n",
    "\n",
    "echo AWS_ACCESS_KEY_ID=$AWS_ACCESS_KEY_ID > .env\n",
    "echo AWS_SECRET_ACCESS_KEY=$AWS_SECRET_ACCESS_KEY >>.env\n",
    "echo WANDB_API_KEY=$WANDB_API_KEY >> .env"
   ]
  },
  {
   "cell_type": "code",
   "execution_count": 6,
   "id": "ae7d5f7c",
   "metadata": {
    "execution": {
     "iopub.execute_input": "2024-05-19T01:39:41.025397Z",
     "iopub.status.busy": "2024-05-19T01:39:41.025072Z",
     "iopub.status.idle": "2024-05-19T01:40:05.646980Z",
     "shell.execute_reply": "2024-05-19T01:40:05.646028Z"
    },
    "papermill": {
     "duration": 24.636112,
     "end_time": "2024-05-19T01:40:05.649474",
     "exception": false,
     "start_time": "2024-05-19T01:39:41.013362",
     "status": "completed"
    },
    "tags": []
   },
   "outputs": [
    {
     "name": "stderr",
     "output_type": "stream",
     "text": [
      "Loading .env environment variables...\n"
     ]
    },
    {
     "name": "stdout",
     "output_type": "stream",
     "text": [
      "A       gnnepcsaft/data/thermoml/\n"
     ]
    },
    {
     "name": "stdout",
     "output_type": "stream",
     "text": [
      "A       gnnepcsaft/data/ramirez2022/\n"
     ]
    },
    {
     "name": "stdout",
     "output_type": "stream",
     "text": [
      "A       gnnepcsaft/train/checkpoints/\n"
     ]
    },
    {
     "name": "stdout",
     "output_type": "stream",
     "text": [
      "3 files added and 108 files fetched\n"
     ]
    }
   ],
   "source": [
    "%%bash\n",
    "\n",
    "pipenv run dvc pull"
   ]
  },
  {
   "cell_type": "code",
   "execution_count": 7,
   "id": "ed043e75",
   "metadata": {
    "execution": {
     "iopub.execute_input": "2024-05-19T01:40:05.674235Z",
     "iopub.status.busy": "2024-05-19T01:40:05.673907Z",
     "iopub.status.idle": "2024-05-19T01:40:10.903854Z",
     "shell.execute_reply": "2024-05-19T01:40:10.902807Z"
    },
    "papermill": {
     "duration": 5.244509,
     "end_time": "2024-05-19T01:40:10.905816",
     "exception": false,
     "start_time": "2024-05-19T01:40:05.661307",
     "status": "completed"
    },
    "tags": []
   },
   "outputs": [
    {
     "name": "stderr",
     "output_type": "stream",
     "text": [
      "Loading .env environment variables...\n"
     ]
    },
    {
     "name": "stdout",
     "output_type": "stream",
     "text": [
      "Name: pcsaft\n"
     ]
    },
    {
     "name": "stdout",
     "output_type": "stream",
     "text": [
      "Version: 1.4.1\n"
     ]
    },
    {
     "name": "stdout",
     "output_type": "stream",
     "text": [
      "Thread(s) per core:                 2\n"
     ]
    },
    {
     "name": "stdout",
     "output_type": "stream",
     "text": [
      "Core(s) per socket:                 2\n"
     ]
    },
    {
     "name": "stdout",
     "output_type": "stream",
     "text": [
      "Model name:                         Intel(R) Xeon(R) CPU @ 2.00GHz\n"
     ]
    },
    {
     "name": "stdout",
     "output_type": "stream",
     "text": [
      "Sun May 19 01:40:10 2024       \n"
     ]
    },
    {
     "name": "stdout",
     "output_type": "stream",
     "text": [
      "+---------------------------------------------------------------------------------------+\n"
     ]
    },
    {
     "name": "stdout",
     "output_type": "stream",
     "text": [
      "| NVIDIA-SMI 535.129.03             Driver Version: 535.129.03   CUDA Version: 12.2     |\n"
     ]
    },
    {
     "name": "stdout",
     "output_type": "stream",
     "text": [
      "|-----------------------------------------+----------------------+----------------------+\n"
     ]
    },
    {
     "name": "stdout",
     "output_type": "stream",
     "text": [
      "| GPU  Name                 Persistence-M | Bus-Id        Disp.A | Volatile Uncorr. ECC |\n"
     ]
    },
    {
     "name": "stdout",
     "output_type": "stream",
     "text": [
      "| Fan  Temp   Perf          Pwr:Usage/Cap |         Memory-Usage | GPU-Util  Compute M. |\n"
     ]
    },
    {
     "name": "stdout",
     "output_type": "stream",
     "text": [
      "|                                         |                      |               MIG M. |\n"
     ]
    },
    {
     "name": "stdout",
     "output_type": "stream",
     "text": [
      "|=========================================+======================+======================|\n"
     ]
    },
    {
     "name": "stdout",
     "output_type": "stream",
     "text": [
      "|   0  Tesla P100-PCIE-16GB           Off | 00000000:00:04.0 Off |                    0 |\n"
     ]
    },
    {
     "name": "stdout",
     "output_type": "stream",
     "text": [
      "| N/A   37C    P0              26W / 250W |      0MiB / 16384MiB |      0%      Default |\n"
     ]
    },
    {
     "name": "stdout",
     "output_type": "stream",
     "text": [
      "|                                         |                      |                  N/A |\n"
     ]
    },
    {
     "name": "stdout",
     "output_type": "stream",
     "text": [
      "+-----------------------------------------+----------------------+----------------------+\n"
     ]
    },
    {
     "name": "stdout",
     "output_type": "stream",
     "text": [
      "                                                                                         \n"
     ]
    },
    {
     "name": "stdout",
     "output_type": "stream",
     "text": [
      "+---------------------------------------------------------------------------------------+\n"
     ]
    },
    {
     "name": "stdout",
     "output_type": "stream",
     "text": [
      "| Processes:                                                                            |\n"
     ]
    },
    {
     "name": "stdout",
     "output_type": "stream",
     "text": [
      "|  GPU   GI   CI        PID   Type   Process name                            GPU Memory |\n"
     ]
    },
    {
     "name": "stdout",
     "output_type": "stream",
     "text": [
      "|        ID   ID                                                             Usage      |\n"
     ]
    },
    {
     "name": "stdout",
     "output_type": "stream",
     "text": [
      "|=======================================================================================|\n"
     ]
    },
    {
     "name": "stdout",
     "output_type": "stream",
     "text": [
      "|  No running processes found                                                           |\n"
     ]
    },
    {
     "name": "stdout",
     "output_type": "stream",
     "text": [
      "+---------------------------------------------------------------------------------------+\n"
     ]
    }
   ],
   "source": [
    "%%bash\n",
    "pipenv run pip show pcsaft | grep -E \"Version|Name\"\n",
    "\n",
    "lscpu | grep -E \"Model name|Core|core\" \n",
    "\n",
    "nvidia-smi"
   ]
  },
  {
   "cell_type": "markdown",
   "id": "ebd0eec0",
   "metadata": {
    "papermill": {
     "duration": 0.012935,
     "end_time": "2024-05-19T01:40:10.932566",
     "exception": false,
     "start_time": "2024-05-19T01:40:10.919631",
     "status": "completed"
    },
    "tags": []
   },
   "source": [
    "## Training"
   ]
  },
  {
   "cell_type": "code",
   "execution_count": 8,
   "id": "5c8cf02c",
   "metadata": {
    "execution": {
     "iopub.execute_input": "2024-05-19T01:40:10.960878Z",
     "iopub.status.busy": "2024-05-19T01:40:10.960554Z",
     "iopub.status.idle": "2024-05-19T01:40:11.046599Z",
     "shell.execute_reply": "2024-05-19T01:40:11.045659Z"
    },
    "papermill": {
     "duration": 0.10289,
     "end_time": "2024-05-19T01:40:11.049008",
     "exception": false,
     "start_time": "2024-05-19T01:40:10.946118",
     "status": "completed"
    },
    "tags": []
   },
   "outputs": [],
   "source": [
    "from gnnepcsaft.configs.default import get_config\n",
    "config = get_config()\n",
    "dataset = config.dataset\n",
    "model_name = config.model_name\n",
    "checkpoint = config.checkpoint\n",
    "model_suffix = str(config.num_train_steps / 1e6).replace(\".\", \"_\")\n",
    "os.environ[\"DATASET\"]=dataset\n",
    "os.environ[\"MODEL_NAME\"]=model_name\n",
    "os.environ[\"MODEL_SUFFIX\"]=model_suffix"
   ]
  },
  {
   "cell_type": "code",
   "execution_count": 9,
   "id": "09017d28",
   "metadata": {
    "execution": {
     "iopub.execute_input": "2024-05-19T01:40:11.076897Z",
     "iopub.status.busy": "2024-05-19T01:40:11.076617Z",
     "iopub.status.idle": "2024-05-19T01:40:11.080556Z",
     "shell.execute_reply": "2024-05-19T01:40:11.079739Z"
    },
    "papermill": {
     "duration": 0.019944,
     "end_time": "2024-05-19T01:40:11.082526",
     "exception": false,
     "start_time": "2024-05-19T01:40:11.062582",
     "status": "completed"
    },
    "tags": []
   },
   "outputs": [],
   "source": [
    "# if checkpoint:\n",
    "#     shutil.copy(f\"gnnepcsaft/train/checkpoints/{checkpoint}\", \"gnnepcsaft/train/checkpoints/last_checkpoint.pth\")"
   ]
  },
  {
   "cell_type": "code",
   "execution_count": 10,
   "id": "ab92f8c3",
   "metadata": {
    "execution": {
     "iopub.execute_input": "2024-05-19T01:40:11.109839Z",
     "iopub.status.busy": "2024-05-19T01:40:11.109582Z"
    },
    "papermill": {
     "duration": null,
     "end_time": null,
     "exception": false,
     "start_time": "2024-05-19T01:40:11.095657",
     "status": "running"
    },
    "tags": []
   },
   "outputs": [
    {
     "name": "stderr",
     "output_type": "stream",
     "text": [
      "Loading .env environment variables...\n"
     ]
    },
    {
     "name": "stderr",
     "output_type": "stream",
     "text": [
      "I0519 01:40:20.297052 132708331857728 train.py:510] Calling train and evaluate!\n"
     ]
    },
    {
     "name": "stderr",
     "output_type": "stream",
     "text": [
      "2024-05-19 01:40:23,509\tINFO worker.py:1749 -- Started a local Ray instance.\n"
     ]
    },
    {
     "name": "stderr",
     "output_type": "stream",
     "text": [
      "2024-05-19 01:40:24,653\tINFO tune.py:253 -- Initializing Ray automatically. For cluster usage or custom Ray initialization, call `ray.init(...)` before `<FrameworkTrainer>(...)`.\n"
     ]
    },
    {
     "name": "stderr",
     "output_type": "stream",
     "text": [
      "\u001b[36m(RayTrainWorker pid=911)\u001b[0m Setting up process group for: env:// [rank=0, world_size=3]\n"
     ]
    },
    {
     "name": "stderr",
     "output_type": "stream",
     "text": [
      "\u001b[36m(RayTrainWorker pid=912)\u001b[0m [W Utils.hpp:135] Warning: Environment variable NCCL_ASYNC_ERROR_HANDLING is deprecated; use TORCH_NCCL_ASYNC_ERROR_HANDLING instead (function getCvarInt)\n"
     ]
    },
    {
     "name": "stderr",
     "output_type": "stream",
     "text": [
      "\u001b[36m(TorchTrainer pid=859)\u001b[0m Started distributed worker processes: \n"
     ]
    },
    {
     "name": "stderr",
     "output_type": "stream",
     "text": [
      "\u001b[36m(TorchTrainer pid=859)\u001b[0m - (ip=172.19.2.2, pid=911) world_rank=0, local_rank=0, node_rank=0\n"
     ]
    },
    {
     "name": "stderr",
     "output_type": "stream",
     "text": [
      "\u001b[36m(TorchTrainer pid=859)\u001b[0m - (ip=172.19.2.2, pid=912) world_rank=1, local_rank=1, node_rank=0\n"
     ]
    },
    {
     "name": "stderr",
     "output_type": "stream",
     "text": [
      "\u001b[36m(TorchTrainer pid=859)\u001b[0m - (ip=172.19.2.2, pid=913) world_rank=2, local_rank=2, node_rank=0\n"
     ]
    },
    {
     "name": "stderr",
     "output_type": "stream",
     "text": [
      "\u001b[36m(RayTrainWorker pid=911)\u001b[0m GPU available: True (cuda), used: True\n"
     ]
    },
    {
     "name": "stderr",
     "output_type": "stream",
     "text": [
      "\u001b[36m(RayTrainWorker pid=911)\u001b[0m TPU available: False, using: 0 TPU cores\n"
     ]
    },
    {
     "name": "stderr",
     "output_type": "stream",
     "text": [
      "\u001b[36m(RayTrainWorker pid=911)\u001b[0m IPU available: False, using: 0 IPUs\n"
     ]
    },
    {
     "name": "stderr",
     "output_type": "stream",
     "text": [
      "\u001b[36m(RayTrainWorker pid=911)\u001b[0m HPU available: False, using: 0 HPUs\n"
     ]
    },
    {
     "name": "stderr",
     "output_type": "stream",
     "text": [
      "\u001b[36m(RayTrainWorker pid=913)\u001b[0m [W Utils.hpp:135] Warning: Environment variable NCCL_ASYNC_ERROR_HANDLING is deprecated; use TORCH_NCCL_ASYNC_ERROR_HANDLING instead (function getCvarInt)\u001b[32m [repeated 2x across cluster] (Ray deduplicates logs by default. Set RAY_DEDUP_LOGS=0 to disable log deduplication, or see https://docs.ray.io/en/master/ray-observability/user-guides/configure-logging.html#log-deduplication for more options.)\u001b[0m\n"
     ]
    },
    {
     "name": "stderr",
     "output_type": "stream",
     "text": [
      "\u001b[36m(RayTrainWorker pid=912)\u001b[0m wandb: Currently logged in as: wildsonbbl (wildson). Use `wandb login --relogin` to force relogin\n"
     ]
    },
    {
     "name": "stderr",
     "output_type": "stream",
     "text": [
      "\u001b[36m(RayTrainWorker pid=912)\u001b[0m wandb: Tracking run with wandb version 0.17.0\n"
     ]
    },
    {
     "name": "stderr",
     "output_type": "stream",
     "text": [
      "\u001b[36m(RayTrainWorker pid=912)\u001b[0m wandb: Run data is saved locally in ./wandb/run-20240519_014047-27unsz1t\n"
     ]
    },
    {
     "name": "stderr",
     "output_type": "stream",
     "text": [
      "\u001b[36m(RayTrainWorker pid=912)\u001b[0m wandb: Run `wandb offline` to turn off syncing.\n"
     ]
    },
    {
     "name": "stderr",
     "output_type": "stream",
     "text": [
      "\u001b[36m(RayTrainWorker pid=912)\u001b[0m wandb: Syncing run lively-bee-1958\n"
     ]
    },
    {
     "name": "stderr",
     "output_type": "stream",
     "text": [
      "\u001b[36m(RayTrainWorker pid=912)\u001b[0m wandb: ⭐️ View project at https://wandb.ai/wildson/gnn-pc-saft\n"
     ]
    },
    {
     "name": "stderr",
     "output_type": "stream",
     "text": [
      "\u001b[36m(RayTrainWorker pid=912)\u001b[0m wandb: 🚀 View run at https://wandb.ai/wildson/gnn-pc-saft/runs/27unsz1t\n"
     ]
    },
    {
     "name": "stderr",
     "output_type": "stream",
     "text": [
      "\u001b[36m(RayTrainWorker pid=912)\u001b[0m /root/.local/share/virtualenvs/working-MLRu3Pvq/lib/python3.10/site-packages/lightning/pytorch/callbacks/model_checkpoint.py:653: Checkpoint directory /kaggle/working/gnnepcsaft/train/checkpoints exists and is not empty.\n"
     ]
    },
    {
     "name": "stderr",
     "output_type": "stream",
     "text": [
      "\u001b[36m(RayTrainWorker pid=912)\u001b[0m LOCAL_RANK: 0 - CUDA_VISIBLE_DEVICES: [0]\n"
     ]
    },
    {
     "name": "stderr",
     "output_type": "stream",
     "text": [
      "\u001b[36m(RayTrainWorker pid=912)\u001b[0m \n"
     ]
    },
    {
     "name": "stderr",
     "output_type": "stream",
     "text": [
      "\u001b[36m(RayTrainWorker pid=912)\u001b[0m   | Name  | Type      | Params\n"
     ]
    },
    {
     "name": "stderr",
     "output_type": "stream",
     "text": [
      "\u001b[36m(RayTrainWorker pid=912)\u001b[0m ------------------------------------\n"
     ]
    },
    {
     "name": "stderr",
     "output_type": "stream",
     "text": [
      "\u001b[36m(RayTrainWorker pid=912)\u001b[0m 0 | model | PNAPCSAFT | 8.6 M \n"
     ]
    },
    {
     "name": "stderr",
     "output_type": "stream",
     "text": [
      "\u001b[36m(RayTrainWorker pid=912)\u001b[0m ------------------------------------\n"
     ]
    },
    {
     "name": "stderr",
     "output_type": "stream",
     "text": [
      "\u001b[36m(RayTrainWorker pid=912)\u001b[0m 8.6 M     Trainable params\n"
     ]
    },
    {
     "name": "stderr",
     "output_type": "stream",
     "text": [
      "\u001b[36m(RayTrainWorker pid=912)\u001b[0m 0         Non-trainable params\n"
     ]
    },
    {
     "name": "stderr",
     "output_type": "stream",
     "text": [
      "\u001b[36m(RayTrainWorker pid=912)\u001b[0m 8.6 M     Total params\n"
     ]
    },
    {
     "name": "stderr",
     "output_type": "stream",
     "text": [
      "\u001b[36m(RayTrainWorker pid=912)\u001b[0m 34.489    Total estimated model params size (MB)\n"
     ]
    },
    {
     "name": "stderr",
     "output_type": "stream",
     "text": [
      "\u001b[36m(RayTrainWorker pid=911)\u001b[0m 0 | model | PNAPCSAFT | 299 K \n"
     ]
    },
    {
     "name": "stderr",
     "output_type": "stream",
     "text": [
      "\u001b[36m(RayTrainWorker pid=911)\u001b[0m 299 K     Trainable params\n"
     ]
    },
    {
     "name": "stderr",
     "output_type": "stream",
     "text": [
      "\u001b[36m(RayTrainWorker pid=911)\u001b[0m 299 K     Total params\n"
     ]
    },
    {
     "name": "stderr",
     "output_type": "stream",
     "text": [
      "\u001b[36m(RayTrainWorker pid=912)\u001b[0m /root/.local/share/virtualenvs/working-MLRu3Pvq/lib/python3.10/site-packages/lightning/pytorch/loops/fit_loop.py:298: The number of training batches (4) is smaller than the logging interval Trainer(log_every_n_steps=10000). Set a lower value for log_every_n_steps if you want to see logs for the training epoch.\n"
     ]
    },
    {
     "name": "stdout",
     "output_type": "stream",
     "text": [
      "\n"
     ]
    },
    {
     "name": "stdout",
     "output_type": "stream",
     "text": [
      "View detailed results here: /root/ray_results/gnnpcsaft\n"
     ]
    },
    {
     "name": "stdout",
     "output_type": "stream",
     "text": [
      "To visualize your results with TensorBoard, run: `tensorboard --logdir /tmp/ray/session_2024-05-19_01-40-20_321995_571/artifacts/2024-05-19_01-40-24/gnnpcsaft/driver_artifacts`\n"
     ]
    },
    {
     "name": "stdout",
     "output_type": "stream",
     "text": [
      "Training is in PENDING status. Current time: 2024-05-19 01:40:24. Total running time: 0s\n"
     ]
    },
    {
     "name": "stdout",
     "output_type": "stream",
     "text": [
      "\n"
     ]
    },
    {
     "name": "stdout",
     "output_type": "stream",
     "text": [
      "Training started with configuration:\n"
     ]
    },
    {
     "name": "stdout",
     "output_type": "stream",
     "text": [
      "╭───────────────────────────────────────────────╮\n"
     ]
    },
    {
     "name": "stdout",
     "output_type": "stream",
     "text": [
      "│ Training config                               │\n"
     ]
    },
    {
     "name": "stdout",
     "output_type": "stream",
     "text": [
      "├───────────────────────────────────────────────┤\n"
     ]
    },
    {
     "name": "stdout",
     "output_type": "stream",
     "text": [
      "│ train_loop_config/0/add_self_loops       True │\n"
     ]
    },
    {
     "name": "stdout",
     "output_type": "stream",
     "text": [
      "│ train_loop_config/0/hidden_dim             64 │\n"
     ]
    },
    {
     "name": "stdout",
     "output_type": "stream",
     "text": [
      "│ train_loop_config/0/num_mlp_layers          0 │\n"
     ]
    },
    {
     "name": "stdout",
     "output_type": "stream",
     "text": [
      "│ train_loop_config/0/post_layers             1 │\n"
     ]
    },
    {
     "name": "stdout",
     "output_type": "stream",
     "text": [
      "│ train_loop_config/0/pre_layers              2 │\n"
     ]
    },
    {
     "name": "stdout",
     "output_type": "stream",
     "text": [
      "│ train_loop_config/0/propagation_depth       3 │\n"
     ]
    },
    {
     "name": "stdout",
     "output_type": "stream",
     "text": [
      "│ train_loop_config/0/skip_connections     True │\n"
     ]
    },
    {
     "name": "stdout",
     "output_type": "stream",
     "text": [
      "│ train_loop_config/1/add_self_loops      False │\n"
     ]
    },
    {
     "name": "stdout",
     "output_type": "stream",
     "text": [
      "│ train_loop_config/1/hidden_dim            256 │\n"
     ]
    },
    {
     "name": "stdout",
     "output_type": "stream",
     "text": [
      "│ train_loop_config/1/num_mlp_layers          1 │\n"
     ]
    },
    {
     "name": "stdout",
     "output_type": "stream",
     "text": [
      "│ train_loop_config/1/post_layers             2 │\n"
     ]
    },
    {
     "name": "stdout",
     "output_type": "stream",
     "text": [
      "│ train_loop_config/1/pre_layers              1 │\n"
     ]
    },
    {
     "name": "stdout",
     "output_type": "stream",
     "text": [
      "│ train_loop_config/1/propagation_depth       6 │\n"
     ]
    },
    {
     "name": "stdout",
     "output_type": "stream",
     "text": [
      "│ train_loop_config/1/skip_connections     True │\n"
     ]
    },
    {
     "name": "stdout",
     "output_type": "stream",
     "text": [
      "│ train_loop_config/2/add_self_loops       True │\n"
     ]
    },
    {
     "name": "stdout",
     "output_type": "stream",
     "text": [
      "│ train_loop_config/2/hidden_dim             64 │\n"
     ]
    },
    {
     "name": "stdout",
     "output_type": "stream",
     "text": [
      "│ train_loop_config/2/num_mlp_layers          1 │\n"
     ]
    },
    {
     "name": "stdout",
     "output_type": "stream",
     "text": [
      "│ train_loop_config/2/post_layers             1 │\n"
     ]
    },
    {
     "name": "stdout",
     "output_type": "stream",
     "text": [
      "│ train_loop_config/2/pre_layers              1 │\n"
     ]
    },
    {
     "name": "stdout",
     "output_type": "stream",
     "text": [
      "│ train_loop_config/2/propagation_depth       6 │\n"
     ]
    },
    {
     "name": "stdout",
     "output_type": "stream",
     "text": [
      "│ train_loop_config/2/skip_connections     True │\n"
     ]
    },
    {
     "name": "stdout",
     "output_type": "stream",
     "text": [
      "╰───────────────────────────────────────────────╯\n"
     ]
    },
    {
     "name": "stdout",
     "output_type": "stream",
     "text": [
      "Training on iteration 1. Current time: 2024-05-19 01:40:54. Total running time: 30s\n"
     ]
    },
    {
     "name": "stdout",
     "output_type": "stream",
     "text": [
      "Training on iteration 1. Current time: 2024-05-19 01:41:24. Total running time: 1min 0s\n"
     ]
    },
    {
     "name": "stdout",
     "output_type": "stream",
     "text": [
      "Training on iteration 1. Current time: 2024-05-19 01:41:54. Total running time: 1min 30s\n"
     ]
    },
    {
     "name": "stdout",
     "output_type": "stream",
     "text": [
      "Training on iteration 1. Current time: 2024-05-19 01:42:24. Total running time: 2min 0s\n"
     ]
    },
    {
     "name": "stdout",
     "output_type": "stream",
     "text": [
      "Training on iteration 1. Current time: 2024-05-19 01:42:54. Total running time: 2min 30s\n"
     ]
    },
    {
     "name": "stdout",
     "output_type": "stream",
     "text": [
      "Training on iteration 1. Current time: 2024-05-19 01:43:24. Total running time: 3min 0s\n"
     ]
    },
    {
     "name": "stdout",
     "output_type": "stream",
     "text": [
      "Training on iteration 1. Current time: 2024-05-19 01:43:54. Total running time: 3min 30s\n"
     ]
    },
    {
     "name": "stdout",
     "output_type": "stream",
     "text": [
      "Training on iteration 1. Current time: 2024-05-19 01:44:25. Total running time: 4min 0s\n"
     ]
    },
    {
     "name": "stdout",
     "output_type": "stream",
     "text": [
      "Training on iteration 1. Current time: 2024-05-19 01:44:55. Total running time: 4min 30s\n"
     ]
    },
    {
     "name": "stdout",
     "output_type": "stream",
     "text": [
      "Training on iteration 1. Current time: 2024-05-19 01:45:25. Total running time: 5min 0s\n"
     ]
    },
    {
     "name": "stdout",
     "output_type": "stream",
     "text": [
      "Training on iteration 1. Current time: 2024-05-19 01:45:55. Total running time: 5min 30s\n"
     ]
    },
    {
     "name": "stdout",
     "output_type": "stream",
     "text": [
      "Training on iteration 1. Current time: 2024-05-19 01:46:25. Total running time: 6min 0s\n"
     ]
    },
    {
     "name": "stdout",
     "output_type": "stream",
     "text": [
      "Training on iteration 1. Current time: 2024-05-19 01:46:55. Total running time: 6min 30s\n"
     ]
    },
    {
     "name": "stdout",
     "output_type": "stream",
     "text": [
      "Training on iteration 1. Current time: 2024-05-19 01:47:25. Total running time: 7min 0s\n"
     ]
    },
    {
     "name": "stdout",
     "output_type": "stream",
     "text": [
      "Training on iteration 1. Current time: 2024-05-19 01:47:55. Total running time: 7min 30s\n"
     ]
    },
    {
     "name": "stdout",
     "output_type": "stream",
     "text": [
      "Training on iteration 1. Current time: 2024-05-19 01:48:25. Total running time: 8min 0s\n"
     ]
    },
    {
     "name": "stdout",
     "output_type": "stream",
     "text": [
      "Training on iteration 1. Current time: 2024-05-19 01:48:55. Total running time: 8min 30s\n"
     ]
    },
    {
     "name": "stdout",
     "output_type": "stream",
     "text": [
      "Training on iteration 1. Current time: 2024-05-19 01:49:25. Total running time: 9min 0s\n"
     ]
    },
    {
     "name": "stdout",
     "output_type": "stream",
     "text": [
      "Training on iteration 1. Current time: 2024-05-19 01:49:55. Total running time: 9min 30s\n"
     ]
    },
    {
     "name": "stdout",
     "output_type": "stream",
     "text": [
      "Training on iteration 1. Current time: 2024-05-19 01:50:25. Total running time: 10min 0s\n"
     ]
    },
    {
     "name": "stdout",
     "output_type": "stream",
     "text": [
      "Training on iteration 1. Current time: 2024-05-19 01:50:55. Total running time: 10min 30s\n"
     ]
    },
    {
     "name": "stdout",
     "output_type": "stream",
     "text": [
      "Training on iteration 1. Current time: 2024-05-19 01:51:25. Total running time: 11min 0s\n"
     ]
    },
    {
     "name": "stdout",
     "output_type": "stream",
     "text": [
      "Training on iteration 1. Current time: 2024-05-19 01:51:55. Total running time: 11min 30s\n"
     ]
    },
    {
     "name": "stdout",
     "output_type": "stream",
     "text": [
      "Training on iteration 1. Current time: 2024-05-19 01:52:25. Total running time: 12min 0s\n"
     ]
    },
    {
     "name": "stdout",
     "output_type": "stream",
     "text": [
      "Training on iteration 1. Current time: 2024-05-19 01:52:55. Total running time: 12min 30s\n"
     ]
    },
    {
     "name": "stdout",
     "output_type": "stream",
     "text": [
      "Training on iteration 1. Current time: 2024-05-19 01:53:25. Total running time: 13min 0s\n"
     ]
    },
    {
     "name": "stdout",
     "output_type": "stream",
     "text": [
      "Training on iteration 1. Current time: 2024-05-19 01:53:55. Total running time: 13min 30s\n"
     ]
    },
    {
     "name": "stdout",
     "output_type": "stream",
     "text": [
      "Training on iteration 1. Current time: 2024-05-19 01:54:25. Total running time: 14min 0s\n"
     ]
    },
    {
     "name": "stdout",
     "output_type": "stream",
     "text": [
      "Training on iteration 1. Current time: 2024-05-19 01:54:55. Total running time: 14min 30s\n"
     ]
    },
    {
     "name": "stdout",
     "output_type": "stream",
     "text": [
      "Training on iteration 1. Current time: 2024-05-19 01:55:25. Total running time: 15min 0s\n"
     ]
    },
    {
     "name": "stdout",
     "output_type": "stream",
     "text": [
      "Training on iteration 1. Current time: 2024-05-19 01:55:55. Total running time: 15min 30s\n"
     ]
    },
    {
     "name": "stdout",
     "output_type": "stream",
     "text": [
      "Training on iteration 1. Current time: 2024-05-19 01:56:25. Total running time: 16min 0s\n"
     ]
    },
    {
     "name": "stdout",
     "output_type": "stream",
     "text": [
      "Training on iteration 1. Current time: 2024-05-19 01:56:55. Total running time: 16min 30s\n"
     ]
    },
    {
     "name": "stdout",
     "output_type": "stream",
     "text": [
      "Training on iteration 1. Current time: 2024-05-19 01:57:25. Total running time: 17min 0s\n"
     ]
    },
    {
     "name": "stdout",
     "output_type": "stream",
     "text": [
      "Training on iteration 1. Current time: 2024-05-19 01:57:55. Total running time: 17min 30s\n"
     ]
    },
    {
     "name": "stdout",
     "output_type": "stream",
     "text": [
      "Training on iteration 1. Current time: 2024-05-19 01:58:25. Total running time: 18min 0s\n"
     ]
    },
    {
     "name": "stdout",
     "output_type": "stream",
     "text": [
      "Training on iteration 1. Current time: 2024-05-19 01:58:55. Total running time: 18min 30s\n"
     ]
    },
    {
     "name": "stdout",
     "output_type": "stream",
     "text": [
      "Training on iteration 1. Current time: 2024-05-19 01:59:25. Total running time: 19min 0s\n"
     ]
    },
    {
     "name": "stdout",
     "output_type": "stream",
     "text": [
      "Training on iteration 1. Current time: 2024-05-19 01:59:55. Total running time: 19min 30s\n"
     ]
    },
    {
     "name": "stdout",
     "output_type": "stream",
     "text": [
      "Training on iteration 1. Current time: 2024-05-19 02:00:25. Total running time: 20min 0s\n"
     ]
    },
    {
     "name": "stdout",
     "output_type": "stream",
     "text": [
      "Training on iteration 1. Current time: 2024-05-19 02:00:55. Total running time: 20min 30s\n"
     ]
    },
    {
     "name": "stdout",
     "output_type": "stream",
     "text": [
      "Training on iteration 1. Current time: 2024-05-19 02:01:25. Total running time: 21min 0s\n"
     ]
    },
    {
     "name": "stdout",
     "output_type": "stream",
     "text": [
      "Training on iteration 1. Current time: 2024-05-19 02:01:55. Total running time: 21min 30s\n"
     ]
    },
    {
     "name": "stdout",
     "output_type": "stream",
     "text": [
      "Training on iteration 1. Current time: 2024-05-19 02:02:25. Total running time: 22min 0s\n"
     ]
    },
    {
     "name": "stdout",
     "output_type": "stream",
     "text": [
      "Training on iteration 1. Current time: 2024-05-19 02:02:55. Total running time: 22min 30s\n"
     ]
    },
    {
     "name": "stdout",
     "output_type": "stream",
     "text": [
      "Training on iteration 1. Current time: 2024-05-19 02:03:25. Total running time: 23min 0s\n"
     ]
    },
    {
     "name": "stdout",
     "output_type": "stream",
     "text": [
      "Training on iteration 1. Current time: 2024-05-19 02:03:55. Total running time: 23min 30s\n"
     ]
    },
    {
     "name": "stdout",
     "output_type": "stream",
     "text": [
      "Training on iteration 1. Current time: 2024-05-19 02:04:25. Total running time: 24min 0s\n"
     ]
    },
    {
     "name": "stdout",
     "output_type": "stream",
     "text": [
      "Training on iteration 1. Current time: 2024-05-19 02:04:55. Total running time: 24min 30s\n"
     ]
    },
    {
     "name": "stdout",
     "output_type": "stream",
     "text": [
      "Training on iteration 1. Current time: 2024-05-19 02:05:25. Total running time: 25min 0s\n"
     ]
    },
    {
     "name": "stdout",
     "output_type": "stream",
     "text": [
      "Training on iteration 1. Current time: 2024-05-19 02:05:55. Total running time: 25min 30s\n"
     ]
    },
    {
     "name": "stdout",
     "output_type": "stream",
     "text": [
      "Training on iteration 1. Current time: 2024-05-19 02:06:25. Total running time: 26min 0s\n"
     ]
    },
    {
     "name": "stdout",
     "output_type": "stream",
     "text": [
      "Training on iteration 1. Current time: 2024-05-19 02:06:55. Total running time: 26min 30s\n"
     ]
    },
    {
     "name": "stdout",
     "output_type": "stream",
     "text": [
      "Training on iteration 1. Current time: 2024-05-19 02:07:25. Total running time: 27min 1s\n"
     ]
    },
    {
     "name": "stdout",
     "output_type": "stream",
     "text": [
      "Training on iteration 1. Current time: 2024-05-19 02:07:55. Total running time: 27min 31s\n"
     ]
    },
    {
     "name": "stdout",
     "output_type": "stream",
     "text": [
      "Training on iteration 1. Current time: 2024-05-19 02:08:25. Total running time: 28min 1s\n"
     ]
    },
    {
     "name": "stdout",
     "output_type": "stream",
     "text": [
      "Training on iteration 1. Current time: 2024-05-19 02:08:55. Total running time: 28min 31s\n"
     ]
    },
    {
     "name": "stdout",
     "output_type": "stream",
     "text": [
      "Training on iteration 1. Current time: 2024-05-19 02:09:25. Total running time: 29min 1s\n"
     ]
    },
    {
     "name": "stdout",
     "output_type": "stream",
     "text": [
      "Training on iteration 1. Current time: 2024-05-19 02:09:55. Total running time: 29min 31s\n"
     ]
    },
    {
     "name": "stdout",
     "output_type": "stream",
     "text": [
      "Training on iteration 1. Current time: 2024-05-19 02:10:25. Total running time: 30min 1s\n"
     ]
    },
    {
     "name": "stdout",
     "output_type": "stream",
     "text": [
      "Training on iteration 1. Current time: 2024-05-19 02:10:55. Total running time: 30min 31s\n"
     ]
    },
    {
     "name": "stdout",
     "output_type": "stream",
     "text": [
      "Training on iteration 1. Current time: 2024-05-19 02:11:26. Total running time: 31min 1s\n"
     ]
    },
    {
     "name": "stdout",
     "output_type": "stream",
     "text": [
      "Training on iteration 1. Current time: 2024-05-19 02:11:56. Total running time: 31min 31s\n"
     ]
    },
    {
     "name": "stdout",
     "output_type": "stream",
     "text": [
      "Training on iteration 1. Current time: 2024-05-19 02:12:26. Total running time: 32min 1s\n"
     ]
    },
    {
     "name": "stdout",
     "output_type": "stream",
     "text": [
      "Training on iteration 1. Current time: 2024-05-19 02:12:56. Total running time: 32min 31s\n"
     ]
    },
    {
     "name": "stdout",
     "output_type": "stream",
     "text": [
      "Training on iteration 1. Current time: 2024-05-19 02:13:26. Total running time: 33min 1s\n"
     ]
    },
    {
     "name": "stdout",
     "output_type": "stream",
     "text": [
      "Training on iteration 1. Current time: 2024-05-19 02:13:56. Total running time: 33min 31s\n"
     ]
    },
    {
     "name": "stdout",
     "output_type": "stream",
     "text": [
      "Training on iteration 1. Current time: 2024-05-19 02:14:26. Total running time: 34min 1s\n"
     ]
    },
    {
     "name": "stdout",
     "output_type": "stream",
     "text": [
      "Training on iteration 1. Current time: 2024-05-19 02:14:56. Total running time: 34min 31s\n"
     ]
    },
    {
     "name": "stderr",
     "output_type": "stream",
     "text": [
      "\u001b[36m(RayTrainWorker pid=911)\u001b[0m Epoch 2499, global step 10000: 'train_mape' reached 0.13606 (best 0.13606), saving model to '/kaggle/working/gnnepcsaft/train/checkpoints/model8_0-epoch=2499-train_mape=0.1361.ckpt' as top 1\n"
     ]
    },
    {
     "name": "stderr",
     "output_type": "stream",
     "text": [
      "\u001b[36m(RayTrainWorker pid=913)\u001b[0m GPU available: True (cuda), used: True\u001b[32m [repeated 2x across cluster]\u001b[0m\n"
     ]
    },
    {
     "name": "stderr",
     "output_type": "stream",
     "text": [
      "\u001b[36m(RayTrainWorker pid=913)\u001b[0m TPU available: False, using: 0 TPU cores\u001b[32m [repeated 2x across cluster]\u001b[0m\n"
     ]
    },
    {
     "name": "stderr",
     "output_type": "stream",
     "text": [
      "\u001b[36m(RayTrainWorker pid=913)\u001b[0m IPU available: False, using: 0 IPUs\u001b[32m [repeated 2x across cluster]\u001b[0m\n"
     ]
    },
    {
     "name": "stderr",
     "output_type": "stream",
     "text": [
      "\u001b[36m(RayTrainWorker pid=913)\u001b[0m HPU available: False, using: 0 HPUs\u001b[32m [repeated 2x across cluster]\u001b[0m\n"
     ]
    },
    {
     "name": "stderr",
     "output_type": "stream",
     "text": [
      "\u001b[36m(RayTrainWorker pid=913)\u001b[0m wandb: Currently logged in as: wildsonbbl (wildson). Use `wandb login --relogin` to force relogin\u001b[32m [repeated 2x across cluster]\u001b[0m\n"
     ]
    },
    {
     "name": "stderr",
     "output_type": "stream",
     "text": [
      "\u001b[36m(RayTrainWorker pid=913)\u001b[0m wandb: Tracking run with wandb version 0.17.0\u001b[32m [repeated 2x across cluster]\u001b[0m\n"
     ]
    },
    {
     "name": "stderr",
     "output_type": "stream",
     "text": [
      "\u001b[36m(RayTrainWorker pid=913)\u001b[0m wandb: Run data is saved locally in ./wandb/run-20240519_014047-zn7hesnm\u001b[32m [repeated 2x across cluster]\u001b[0m\n"
     ]
    },
    {
     "name": "stderr",
     "output_type": "stream",
     "text": [
      "\u001b[36m(RayTrainWorker pid=913)\u001b[0m wandb: Run `wandb offline` to turn off syncing.\u001b[32m [repeated 2x across cluster]\u001b[0m\n"
     ]
    },
    {
     "name": "stderr",
     "output_type": "stream",
     "text": [
      "\u001b[36m(RayTrainWorker pid=913)\u001b[0m wandb: Syncing run drawn-waterfall-1959\u001b[32m [repeated 2x across cluster]\u001b[0m\n"
     ]
    },
    {
     "name": "stderr",
     "output_type": "stream",
     "text": [
      "\u001b[36m(RayTrainWorker pid=913)\u001b[0m wandb: ⭐️ View project at https://wandb.ai/wildson/gnn-pc-saft\u001b[32m [repeated 2x across cluster]\u001b[0m\n"
     ]
    },
    {
     "name": "stderr",
     "output_type": "stream",
     "text": [
      "\u001b[36m(RayTrainWorker pid=913)\u001b[0m wandb: 🚀 View run at https://wandb.ai/wildson/gnn-pc-saft/runs/zn7hesnm\u001b[32m [repeated 2x across cluster]\u001b[0m\n"
     ]
    },
    {
     "name": "stderr",
     "output_type": "stream",
     "text": [
      "\u001b[36m(RayTrainWorker pid=913)\u001b[0m /root/.local/share/virtualenvs/working-MLRu3Pvq/lib/python3.10/site-packages/lightning/pytorch/callbacks/model_checkpoint.py:653: Checkpoint directory /kaggle/working/gnnepcsaft/train/checkpoints exists and is not empty.\u001b[32m [repeated 2x across cluster]\u001b[0m\n"
     ]
    },
    {
     "name": "stderr",
     "output_type": "stream",
     "text": [
      "\u001b[36m(RayTrainWorker pid=913)\u001b[0m LOCAL_RANK: 0 - CUDA_VISIBLE_DEVICES: [0]\u001b[32m [repeated 2x across cluster]\u001b[0m\n"
     ]
    },
    {
     "name": "stderr",
     "output_type": "stream",
     "text": [
      "\u001b[36m(RayTrainWorker pid=913)\u001b[0m \u001b[32m [repeated 2x across cluster]\u001b[0m\n"
     ]
    },
    {
     "name": "stderr",
     "output_type": "stream",
     "text": [
      "\u001b[36m(RayTrainWorker pid=913)\u001b[0m   | Name  | Type      | Params\u001b[32m [repeated 2x across cluster]\u001b[0m\n"
     ]
    },
    {
     "name": "stderr",
     "output_type": "stream",
     "text": [
      "\u001b[36m(RayTrainWorker pid=913)\u001b[0m ------------------------------------\u001b[32m [repeated 4x across cluster]\u001b[0m\n"
     ]
    },
    {
     "name": "stderr",
     "output_type": "stream",
     "text": [
      "\u001b[36m(RayTrainWorker pid=913)\u001b[0m 0         Non-trainable params\u001b[32m [repeated 2x across cluster]\u001b[0m\n"
     ]
    },
    {
     "name": "stderr",
     "output_type": "stream",
     "text": [
      "\u001b[36m(RayTrainWorker pid=913)\u001b[0m 2.151     Total estimated model params size (MB)\u001b[32m [repeated 2x across cluster]\u001b[0m\n"
     ]
    },
    {
     "name": "stderr",
     "output_type": "stream",
     "text": [
      "\u001b[36m(RayTrainWorker pid=913)\u001b[0m 0 | model | PNAPCSAFT | 537 K \n"
     ]
    },
    {
     "name": "stderr",
     "output_type": "stream",
     "text": [
      "\u001b[36m(RayTrainWorker pid=913)\u001b[0m 537 K     Trainable params\n"
     ]
    },
    {
     "name": "stderr",
     "output_type": "stream",
     "text": [
      "\u001b[36m(RayTrainWorker pid=913)\u001b[0m 537 K     Total params\n"
     ]
    },
    {
     "name": "stderr",
     "output_type": "stream",
     "text": [
      "\u001b[36m(RayTrainWorker pid=913)\u001b[0m /root/.local/share/virtualenvs/working-MLRu3Pvq/lib/python3.10/site-packages/lightning/pytorch/loops/fit_loop.py:298: The number of training batches (4) is smaller than the logging interval Trainer(log_every_n_steps=10000). Set a lower value for log_every_n_steps if you want to see logs for the training epoch.\u001b[32m [repeated 2x across cluster]\u001b[0m\n"
     ]
    },
    {
     "name": "stderr",
     "output_type": "stream",
     "text": [
      "\u001b[36m(RayTrainWorker pid=913)\u001b[0m Epoch 2499, global step 10000: 'train_mape' reached 0.13058 (best 0.13058), saving model to '/kaggle/working/gnnepcsaft/train/checkpoints/model8_2-epoch=2499-train_mape=0.1306.ckpt' as top 1\n"
     ]
    },
    {
     "name": "stderr",
     "output_type": "stream",
     "text": [
      "\u001b[36m(RayTrainWorker pid=912)\u001b[0m Epoch 2499, global step 10000: 'train_mape' reached 0.01445 (best 0.01445), saving model to '/kaggle/working/gnnepcsaft/train/checkpoints/model8_1-epoch=2499-train_mape=0.0144.ckpt' as top 1\n"
     ]
    },
    {
     "name": "stdout",
     "output_type": "stream",
     "text": [
      "Training on iteration 1. Current time: 2024-05-19 02:15:26. Total running time: 35min 1s\n"
     ]
    },
    {
     "name": "stdout",
     "output_type": "stream",
     "text": [
      "Training on iteration 1. Current time: 2024-05-19 02:15:56. Total running time: 35min 31s\n"
     ]
    },
    {
     "name": "stdout",
     "output_type": "stream",
     "text": [
      "Training on iteration 1. Current time: 2024-05-19 02:16:26. Total running time: 36min 1s\n"
     ]
    },
    {
     "name": "stdout",
     "output_type": "stream",
     "text": [
      "Training on iteration 1. Current time: 2024-05-19 02:16:56. Total running time: 36min 31s\n"
     ]
    },
    {
     "name": "stdout",
     "output_type": "stream",
     "text": [
      "Training on iteration 1. Current time: 2024-05-19 02:17:26. Total running time: 37min 1s\n"
     ]
    },
    {
     "name": "stdout",
     "output_type": "stream",
     "text": [
      "Training on iteration 1. Current time: 2024-05-19 02:17:56. Total running time: 37min 31s\n"
     ]
    },
    {
     "name": "stdout",
     "output_type": "stream",
     "text": [
      "Training on iteration 1. Current time: 2024-05-19 02:18:26. Total running time: 38min 1s\n"
     ]
    },
    {
     "name": "stdout",
     "output_type": "stream",
     "text": [
      "Training on iteration 1. Current time: 2024-05-19 02:18:56. Total running time: 38min 31s\n"
     ]
    },
    {
     "name": "stdout",
     "output_type": "stream",
     "text": [
      "Training on iteration 1. Current time: 2024-05-19 02:19:26. Total running time: 39min 1s\n"
     ]
    },
    {
     "name": "stdout",
     "output_type": "stream",
     "text": [
      "Training on iteration 1. Current time: 2024-05-19 02:19:56. Total running time: 39min 31s\n"
     ]
    },
    {
     "name": "stdout",
     "output_type": "stream",
     "text": [
      "Training on iteration 1. Current time: 2024-05-19 02:20:26. Total running time: 40min 1s\n"
     ]
    },
    {
     "name": "stdout",
     "output_type": "stream",
     "text": [
      "Training on iteration 1. Current time: 2024-05-19 02:20:56. Total running time: 40min 31s\n"
     ]
    },
    {
     "name": "stdout",
     "output_type": "stream",
     "text": [
      "Training on iteration 1. Current time: 2024-05-19 02:21:26. Total running time: 41min 1s\n"
     ]
    },
    {
     "name": "stdout",
     "output_type": "stream",
     "text": [
      "Training on iteration 1. Current time: 2024-05-19 02:21:56. Total running time: 41min 31s\n"
     ]
    },
    {
     "name": "stdout",
     "output_type": "stream",
     "text": [
      "Training on iteration 1. Current time: 2024-05-19 02:22:26. Total running time: 42min 1s\n"
     ]
    },
    {
     "name": "stdout",
     "output_type": "stream",
     "text": [
      "Training on iteration 1. Current time: 2024-05-19 02:22:56. Total running time: 42min 31s\n"
     ]
    },
    {
     "name": "stdout",
     "output_type": "stream",
     "text": [
      "Training on iteration 1. Current time: 2024-05-19 02:23:26. Total running time: 43min 1s\n"
     ]
    },
    {
     "name": "stdout",
     "output_type": "stream",
     "text": [
      "Training on iteration 1. Current time: 2024-05-19 02:23:56. Total running time: 43min 31s\n"
     ]
    },
    {
     "name": "stdout",
     "output_type": "stream",
     "text": [
      "Training on iteration 1. Current time: 2024-05-19 02:24:26. Total running time: 44min 1s\n"
     ]
    },
    {
     "name": "stdout",
     "output_type": "stream",
     "text": [
      "Training on iteration 1. Current time: 2024-05-19 02:24:56. Total running time: 44min 31s\n"
     ]
    },
    {
     "name": "stdout",
     "output_type": "stream",
     "text": [
      "Training on iteration 1. Current time: 2024-05-19 02:25:26. Total running time: 45min 1s\n"
     ]
    },
    {
     "name": "stdout",
     "output_type": "stream",
     "text": [
      "Training on iteration 1. Current time: 2024-05-19 02:25:56. Total running time: 45min 31s\n"
     ]
    },
    {
     "name": "stdout",
     "output_type": "stream",
     "text": [
      "Training on iteration 1. Current time: 2024-05-19 02:26:26. Total running time: 46min 1s\n"
     ]
    },
    {
     "name": "stdout",
     "output_type": "stream",
     "text": [
      "Training on iteration 1. Current time: 2024-05-19 02:26:56. Total running time: 46min 32s\n"
     ]
    },
    {
     "name": "stdout",
     "output_type": "stream",
     "text": [
      "Training on iteration 1. Current time: 2024-05-19 02:27:26. Total running time: 47min 2s\n"
     ]
    },
    {
     "name": "stdout",
     "output_type": "stream",
     "text": [
      "Training on iteration 1. Current time: 2024-05-19 02:27:56. Total running time: 47min 32s\n"
     ]
    },
    {
     "name": "stdout",
     "output_type": "stream",
     "text": [
      "Training on iteration 1. Current time: 2024-05-19 02:28:26. Total running time: 48min 2s\n"
     ]
    },
    {
     "name": "stdout",
     "output_type": "stream",
     "text": [
      "Training on iteration 1. Current time: 2024-05-19 02:28:56. Total running time: 48min 32s\n"
     ]
    },
    {
     "name": "stdout",
     "output_type": "stream",
     "text": [
      "Training on iteration 1. Current time: 2024-05-19 02:29:26. Total running time: 49min 2s\n"
     ]
    },
    {
     "name": "stdout",
     "output_type": "stream",
     "text": [
      "Training on iteration 1. Current time: 2024-05-19 02:29:56. Total running time: 49min 32s\n"
     ]
    },
    {
     "name": "stdout",
     "output_type": "stream",
     "text": [
      "Training on iteration 1. Current time: 2024-05-19 02:30:26. Total running time: 50min 2s\n"
     ]
    },
    {
     "name": "stdout",
     "output_type": "stream",
     "text": [
      "Training on iteration 1. Current time: 2024-05-19 02:30:56. Total running time: 50min 32s\n"
     ]
    },
    {
     "name": "stdout",
     "output_type": "stream",
     "text": [
      "Training on iteration 1. Current time: 2024-05-19 02:31:26. Total running time: 51min 2s\n"
     ]
    },
    {
     "name": "stdout",
     "output_type": "stream",
     "text": [
      "Training on iteration 1. Current time: 2024-05-19 02:31:56. Total running time: 51min 32s\n"
     ]
    },
    {
     "name": "stdout",
     "output_type": "stream",
     "text": [
      "Training on iteration 1. Current time: 2024-05-19 02:32:26. Total running time: 52min 2s\n"
     ]
    },
    {
     "name": "stdout",
     "output_type": "stream",
     "text": [
      "Training on iteration 1. Current time: 2024-05-19 02:32:56. Total running time: 52min 32s\n"
     ]
    },
    {
     "name": "stdout",
     "output_type": "stream",
     "text": [
      "Training on iteration 1. Current time: 2024-05-19 02:33:27. Total running time: 53min 2s\n"
     ]
    },
    {
     "name": "stdout",
     "output_type": "stream",
     "text": [
      "Training on iteration 1. Current time: 2024-05-19 02:33:57. Total running time: 53min 32s\n"
     ]
    },
    {
     "name": "stdout",
     "output_type": "stream",
     "text": [
      "Training on iteration 1. Current time: 2024-05-19 02:34:27. Total running time: 54min 2s\n"
     ]
    },
    {
     "name": "stdout",
     "output_type": "stream",
     "text": [
      "Training on iteration 1. Current time: 2024-05-19 02:34:57. Total running time: 54min 32s\n"
     ]
    },
    {
     "name": "stdout",
     "output_type": "stream",
     "text": [
      "Training on iteration 1. Current time: 2024-05-19 02:35:27. Total running time: 55min 2s\n"
     ]
    },
    {
     "name": "stdout",
     "output_type": "stream",
     "text": [
      "Training on iteration 1. Current time: 2024-05-19 02:35:57. Total running time: 55min 32s\n"
     ]
    },
    {
     "name": "stdout",
     "output_type": "stream",
     "text": [
      "Training on iteration 1. Current time: 2024-05-19 02:36:27. Total running time: 56min 2s\n"
     ]
    },
    {
     "name": "stdout",
     "output_type": "stream",
     "text": [
      "Training on iteration 1. Current time: 2024-05-19 02:36:57. Total running time: 56min 32s\n"
     ]
    },
    {
     "name": "stdout",
     "output_type": "stream",
     "text": [
      "Training on iteration 1. Current time: 2024-05-19 02:37:27. Total running time: 57min 2s\n"
     ]
    },
    {
     "name": "stdout",
     "output_type": "stream",
     "text": [
      "Training on iteration 1. Current time: 2024-05-19 02:37:57. Total running time: 57min 32s\n"
     ]
    },
    {
     "name": "stdout",
     "output_type": "stream",
     "text": [
      "Training on iteration 1. Current time: 2024-05-19 02:38:27. Total running time: 58min 2s\n"
     ]
    },
    {
     "name": "stdout",
     "output_type": "stream",
     "text": [
      "Training on iteration 1. Current time: 2024-05-19 02:38:57. Total running time: 58min 32s\n"
     ]
    },
    {
     "name": "stdout",
     "output_type": "stream",
     "text": [
      "Training on iteration 1. Current time: 2024-05-19 02:39:27. Total running time: 59min 2s\n"
     ]
    },
    {
     "name": "stdout",
     "output_type": "stream",
     "text": [
      "Training on iteration 1. Current time: 2024-05-19 02:39:57. Total running time: 59min 32s\n"
     ]
    },
    {
     "name": "stdout",
     "output_type": "stream",
     "text": [
      "Training on iteration 1. Current time: 2024-05-19 02:40:27. Total running time: 1hr 0min 2s\n"
     ]
    },
    {
     "name": "stdout",
     "output_type": "stream",
     "text": [
      "Training on iteration 1. Current time: 2024-05-19 02:40:57. Total running time: 1hr 0min 32s\n"
     ]
    },
    {
     "name": "stdout",
     "output_type": "stream",
     "text": [
      "Training on iteration 1. Current time: 2024-05-19 02:41:27. Total running time: 1hr 1min 2s\n"
     ]
    },
    {
     "name": "stdout",
     "output_type": "stream",
     "text": [
      "Training on iteration 1. Current time: 2024-05-19 02:41:57. Total running time: 1hr 1min 32s\n"
     ]
    },
    {
     "name": "stdout",
     "output_type": "stream",
     "text": [
      "Training on iteration 1. Current time: 2024-05-19 02:42:27. Total running time: 1hr 2min 2s\n"
     ]
    },
    {
     "name": "stdout",
     "output_type": "stream",
     "text": [
      "Training on iteration 1. Current time: 2024-05-19 02:42:57. Total running time: 1hr 2min 32s\n"
     ]
    },
    {
     "name": "stdout",
     "output_type": "stream",
     "text": [
      "Training on iteration 1. Current time: 2024-05-19 02:43:27. Total running time: 1hr 3min 2s\n"
     ]
    },
    {
     "name": "stdout",
     "output_type": "stream",
     "text": [
      "Training on iteration 1. Current time: 2024-05-19 02:43:57. Total running time: 1hr 3min 32s\n"
     ]
    },
    {
     "name": "stdout",
     "output_type": "stream",
     "text": [
      "Training on iteration 1. Current time: 2024-05-19 02:44:27. Total running time: 1hr 4min 2s\n"
     ]
    },
    {
     "name": "stdout",
     "output_type": "stream",
     "text": [
      "Training on iteration 1. Current time: 2024-05-19 02:44:57. Total running time: 1hr 4min 32s\n"
     ]
    },
    {
     "name": "stdout",
     "output_type": "stream",
     "text": [
      "Training on iteration 1. Current time: 2024-05-19 02:45:27. Total running time: 1hr 5min 2s\n"
     ]
    },
    {
     "name": "stdout",
     "output_type": "stream",
     "text": [
      "Training on iteration 1. Current time: 2024-05-19 02:45:57. Total running time: 1hr 5min 32s\n"
     ]
    },
    {
     "name": "stdout",
     "output_type": "stream",
     "text": [
      "Training on iteration 1. Current time: 2024-05-19 02:46:27. Total running time: 1hr 6min 2s\n"
     ]
    },
    {
     "name": "stdout",
     "output_type": "stream",
     "text": [
      "Training on iteration 1. Current time: 2024-05-19 02:46:57. Total running time: 1hr 6min 32s\n"
     ]
    },
    {
     "name": "stdout",
     "output_type": "stream",
     "text": [
      "Training on iteration 1. Current time: 2024-05-19 02:47:27. Total running time: 1hr 7min 2s\n"
     ]
    },
    {
     "name": "stdout",
     "output_type": "stream",
     "text": [
      "Training on iteration 1. Current time: 2024-05-19 02:47:57. Total running time: 1hr 7min 32s\n"
     ]
    },
    {
     "name": "stdout",
     "output_type": "stream",
     "text": [
      "Training on iteration 1. Current time: 2024-05-19 02:48:27. Total running time: 1hr 8min 2s\n"
     ]
    },
    {
     "name": "stdout",
     "output_type": "stream",
     "text": [
      "Training on iteration 1. Current time: 2024-05-19 02:48:57. Total running time: 1hr 8min 32s\n"
     ]
    },
    {
     "name": "stdout",
     "output_type": "stream",
     "text": [
      "Training on iteration 1. Current time: 2024-05-19 02:49:27. Total running time: 1hr 9min 2s\n"
     ]
    },
    {
     "name": "stdout",
     "output_type": "stream",
     "text": [
      "Training on iteration 1. Current time: 2024-05-19 02:49:57. Total running time: 1hr 9min 32s\n"
     ]
    },
    {
     "name": "stdout",
     "output_type": "stream",
     "text": [
      "Training on iteration 1. Current time: 2024-05-19 02:50:27. Total running time: 1hr 10min 2s\n"
     ]
    },
    {
     "name": "stdout",
     "output_type": "stream",
     "text": [
      "Training on iteration 1. Current time: 2024-05-19 02:50:57. Total running time: 1hr 10min 33s\n"
     ]
    },
    {
     "name": "stdout",
     "output_type": "stream",
     "text": [
      "Training on iteration 1. Current time: 2024-05-19 02:51:27. Total running time: 1hr 11min 3s\n"
     ]
    },
    {
     "name": "stdout",
     "output_type": "stream",
     "text": [
      "Training on iteration 1. Current time: 2024-05-19 02:51:57. Total running time: 1hr 11min 33s\n"
     ]
    },
    {
     "name": "stdout",
     "output_type": "stream",
     "text": [
      "Training on iteration 1. Current time: 2024-05-19 02:52:27. Total running time: 1hr 12min 3s\n"
     ]
    },
    {
     "name": "stdout",
     "output_type": "stream",
     "text": [
      "Training on iteration 1. Current time: 2024-05-19 02:52:57. Total running time: 1hr 12min 33s\n"
     ]
    },
    {
     "name": "stdout",
     "output_type": "stream",
     "text": [
      "Training on iteration 1. Current time: 2024-05-19 02:53:27. Total running time: 1hr 13min 3s\n"
     ]
    },
    {
     "name": "stdout",
     "output_type": "stream",
     "text": [
      "Training on iteration 1. Current time: 2024-05-19 02:53:57. Total running time: 1hr 13min 33s\n"
     ]
    },
    {
     "name": "stdout",
     "output_type": "stream",
     "text": [
      "Training on iteration 1. Current time: 2024-05-19 02:54:27. Total running time: 1hr 14min 3s\n"
     ]
    },
    {
     "name": "stdout",
     "output_type": "stream",
     "text": [
      "Training on iteration 1. Current time: 2024-05-19 02:54:57. Total running time: 1hr 14min 33s\n"
     ]
    },
    {
     "name": "stdout",
     "output_type": "stream",
     "text": [
      "Training on iteration 1. Current time: 2024-05-19 02:55:27. Total running time: 1hr 15min 3s\n"
     ]
    },
    {
     "name": "stdout",
     "output_type": "stream",
     "text": [
      "Training on iteration 1. Current time: 2024-05-19 02:55:57. Total running time: 1hr 15min 33s\n"
     ]
    },
    {
     "name": "stdout",
     "output_type": "stream",
     "text": [
      "Training on iteration 1. Current time: 2024-05-19 02:56:27. Total running time: 1hr 16min 3s\n"
     ]
    },
    {
     "name": "stdout",
     "output_type": "stream",
     "text": [
      "Training on iteration 1. Current time: 2024-05-19 02:56:57. Total running time: 1hr 16min 33s\n"
     ]
    },
    {
     "name": "stdout",
     "output_type": "stream",
     "text": [
      "Training on iteration 1. Current time: 2024-05-19 02:57:28. Total running time: 1hr 17min 3s\n"
     ]
    },
    {
     "name": "stdout",
     "output_type": "stream",
     "text": [
      "Training on iteration 1. Current time: 2024-05-19 02:57:58. Total running time: 1hr 17min 33s\n"
     ]
    },
    {
     "name": "stdout",
     "output_type": "stream",
     "text": [
      "Training on iteration 1. Current time: 2024-05-19 02:58:28. Total running time: 1hr 18min 3s\n"
     ]
    },
    {
     "name": "stdout",
     "output_type": "stream",
     "text": [
      "Training on iteration 1. Current time: 2024-05-19 02:58:58. Total running time: 1hr 18min 33s\n"
     ]
    },
    {
     "name": "stdout",
     "output_type": "stream",
     "text": [
      "Training on iteration 1. Current time: 2024-05-19 02:59:28. Total running time: 1hr 19min 3s\n"
     ]
    },
    {
     "name": "stderr",
     "output_type": "stream",
     "text": [
      "\u001b[36m(RayTrainWorker pid=911)\u001b[0m Epoch 4999, global step 20000: 'train_mape' reached 0.01355 (best 0.01355), saving model to '/kaggle/working/gnnepcsaft/train/checkpoints/model8_0-epoch=4999-train_mape=0.0136.ckpt' as top 1\n"
     ]
    },
    {
     "name": "stderr",
     "output_type": "stream",
     "text": [
      "\u001b[36m(RayTrainWorker pid=913)\u001b[0m Epoch 4999, global step 20000: 'train_mape' reached 0.01332 (best 0.01332), saving model to '/kaggle/working/gnnepcsaft/train/checkpoints/model8_2-epoch=4999-train_mape=0.0133.ckpt' as top 1\n"
     ]
    },
    {
     "name": "stderr",
     "output_type": "stream",
     "text": [
      "\u001b[36m(RayTrainWorker pid=911)\u001b[0m /root/.local/share/virtualenvs/working-MLRu3Pvq/lib/python3.10/site-packages/lightning/pytorch/trainer/connectors/logger_connector/result.py:441: It is recommended to use `self.log('mape_den', ..., sync_dist=True)` when logging on epoch level in distributed setting to accumulate the metric across devices.\n"
     ]
    },
    {
     "name": "stderr",
     "output_type": "stream",
     "text": [
      "\u001b[36m(RayTrainWorker pid=911)\u001b[0m /root/.local/share/virtualenvs/working-MLRu3Pvq/lib/python3.10/site-packages/lightning/pytorch/trainer/connectors/logger_connector/result.py:441: It is recommended to use `self.log('huber_den', ..., sync_dist=True)` when logging on epoch level in distributed setting to accumulate the metric across devices.\n"
     ]
    },
    {
     "name": "stderr",
     "output_type": "stream",
     "text": [
      "\u001b[36m(RayTrainWorker pid=911)\u001b[0m /root/.local/share/virtualenvs/working-MLRu3Pvq/lib/python3.10/site-packages/lightning/pytorch/trainer/connectors/logger_connector/result.py:441: It is recommended to use `self.log('mape_vp', ..., sync_dist=True)` when logging on epoch level in distributed setting to accumulate the metric across devices.\n"
     ]
    },
    {
     "name": "stderr",
     "output_type": "stream",
     "text": [
      "\u001b[36m(RayTrainWorker pid=911)\u001b[0m /root/.local/share/virtualenvs/working-MLRu3Pvq/lib/python3.10/site-packages/lightning/pytorch/trainer/connectors/logger_connector/result.py:441: It is recommended to use `self.log('huber_vp', ..., sync_dist=True)` when logging on epoch level in distributed setting to accumulate the metric across devices.\n"
     ]
    },
    {
     "name": "stderr",
     "output_type": "stream",
     "text": [
      "\u001b[36m(RayTrainWorker pid=911)\u001b[0m Epoch 6249, global step 25000: 'mape_den' reached 0.01965 (best 0.01965), saving model to '/kaggle/working/gnnepcsaft/train/checkpoints/model8_0-epoch=6249-mape_den=0.0196.ckpt' as top 1\n"
     ]
    },
    {
     "name": "stderr",
     "output_type": "stream",
     "text": [
      "\u001b[36m(RayTrainWorker pid=912)\u001b[0m Epoch 4999, global step 20000: 'train_mape' reached 0.01126 (best 0.01126), saving model to '/kaggle/working/gnnepcsaft/train/checkpoints/model8_1-epoch=4999-train_mape=0.0113.ckpt' as top 1\n"
     ]
    },
    {
     "name": "stdout",
     "output_type": "stream",
     "text": [
      "Training on iteration 1. Current time: 2024-05-19 02:59:58. Total running time: 1hr 19min 33s\n"
     ]
    },
    {
     "name": "stdout",
     "output_type": "stream",
     "text": [
      "Training on iteration 1. Current time: 2024-05-19 03:00:28. Total running time: 1hr 20min 3s\n"
     ]
    },
    {
     "name": "stdout",
     "output_type": "stream",
     "text": [
      "Training on iteration 1. Current time: 2024-05-19 03:00:58. Total running time: 1hr 20min 33s\n"
     ]
    },
    {
     "name": "stdout",
     "output_type": "stream",
     "text": [
      "Training on iteration 1. Current time: 2024-05-19 03:01:28. Total running time: 1hr 21min 3s\n"
     ]
    },
    {
     "name": "stdout",
     "output_type": "stream",
     "text": [
      "Training on iteration 1. Current time: 2024-05-19 03:01:58. Total running time: 1hr 21min 33s\n"
     ]
    },
    {
     "name": "stdout",
     "output_type": "stream",
     "text": [
      "Training on iteration 1. Current time: 2024-05-19 03:02:28. Total running time: 1hr 22min 3s\n"
     ]
    },
    {
     "name": "stdout",
     "output_type": "stream",
     "text": [
      "Training on iteration 1. Current time: 2024-05-19 03:02:58. Total running time: 1hr 22min 33s\n"
     ]
    },
    {
     "name": "stdout",
     "output_type": "stream",
     "text": [
      "Training on iteration 1. Current time: 2024-05-19 03:03:28. Total running time: 1hr 23min 3s\n"
     ]
    },
    {
     "name": "stdout",
     "output_type": "stream",
     "text": [
      "Training on iteration 1. Current time: 2024-05-19 03:03:58. Total running time: 1hr 23min 33s\n"
     ]
    },
    {
     "name": "stdout",
     "output_type": "stream",
     "text": [
      "Training on iteration 1. Current time: 2024-05-19 03:04:28. Total running time: 1hr 24min 3s\n"
     ]
    },
    {
     "name": "stdout",
     "output_type": "stream",
     "text": [
      "Training on iteration 1. Current time: 2024-05-19 03:04:58. Total running time: 1hr 24min 33s\n"
     ]
    },
    {
     "name": "stdout",
     "output_type": "stream",
     "text": [
      "Training on iteration 1. Current time: 2024-05-19 03:05:28. Total running time: 1hr 25min 3s\n"
     ]
    },
    {
     "name": "stdout",
     "output_type": "stream",
     "text": [
      "Training on iteration 1. Current time: 2024-05-19 03:05:58. Total running time: 1hr 25min 33s\n"
     ]
    },
    {
     "name": "stdout",
     "output_type": "stream",
     "text": [
      "Training on iteration 1. Current time: 2024-05-19 03:06:28. Total running time: 1hr 26min 3s\n"
     ]
    },
    {
     "name": "stdout",
     "output_type": "stream",
     "text": [
      "Training on iteration 1. Current time: 2024-05-19 03:06:58. Total running time: 1hr 26min 33s\n"
     ]
    },
    {
     "name": "stdout",
     "output_type": "stream",
     "text": [
      "Training on iteration 1. Current time: 2024-05-19 03:07:28. Total running time: 1hr 27min 3s\n"
     ]
    },
    {
     "name": "stdout",
     "output_type": "stream",
     "text": [
      "Training on iteration 1. Current time: 2024-05-19 03:07:58. Total running time: 1hr 27min 33s\n"
     ]
    },
    {
     "name": "stdout",
     "output_type": "stream",
     "text": [
      "Training on iteration 1. Current time: 2024-05-19 03:08:28. Total running time: 1hr 28min 3s\n"
     ]
    },
    {
     "name": "stdout",
     "output_type": "stream",
     "text": [
      "Training on iteration 1. Current time: 2024-05-19 03:08:58. Total running time: 1hr 28min 33s\n"
     ]
    },
    {
     "name": "stdout",
     "output_type": "stream",
     "text": [
      "Training on iteration 1. Current time: 2024-05-19 03:09:28. Total running time: 1hr 29min 3s\n"
     ]
    },
    {
     "name": "stdout",
     "output_type": "stream",
     "text": [
      "Training on iteration 1. Current time: 2024-05-19 03:09:58. Total running time: 1hr 29min 33s\n"
     ]
    },
    {
     "name": "stdout",
     "output_type": "stream",
     "text": [
      "Training on iteration 1. Current time: 2024-05-19 03:10:28. Total running time: 1hr 30min 3s\n"
     ]
    },
    {
     "name": "stdout",
     "output_type": "stream",
     "text": [
      "Training on iteration 1. Current time: 2024-05-19 03:10:58. Total running time: 1hr 30min 33s\n"
     ]
    },
    {
     "name": "stdout",
     "output_type": "stream",
     "text": [
      "Training on iteration 1. Current time: 2024-05-19 03:11:28. Total running time: 1hr 31min 3s\n"
     ]
    },
    {
     "name": "stdout",
     "output_type": "stream",
     "text": [
      "Training on iteration 1. Current time: 2024-05-19 03:11:58. Total running time: 1hr 31min 33s\n"
     ]
    },
    {
     "name": "stdout",
     "output_type": "stream",
     "text": [
      "Training on iteration 1. Current time: 2024-05-19 03:12:28. Total running time: 1hr 32min 3s\n"
     ]
    },
    {
     "name": "stdout",
     "output_type": "stream",
     "text": [
      "Training on iteration 1. Current time: 2024-05-19 03:12:58. Total running time: 1hr 32min 33s\n"
     ]
    },
    {
     "name": "stdout",
     "output_type": "stream",
     "text": [
      "Training on iteration 1. Current time: 2024-05-19 03:13:28. Total running time: 1hr 33min 3s\n"
     ]
    },
    {
     "name": "stdout",
     "output_type": "stream",
     "text": [
      "Training on iteration 1. Current time: 2024-05-19 03:13:58. Total running time: 1hr 33min 33s\n"
     ]
    },
    {
     "name": "stdout",
     "output_type": "stream",
     "text": [
      "Training on iteration 1. Current time: 2024-05-19 03:14:28. Total running time: 1hr 34min 3s\n"
     ]
    },
    {
     "name": "stdout",
     "output_type": "stream",
     "text": [
      "Training on iteration 1. Current time: 2024-05-19 03:14:58. Total running time: 1hr 34min 33s\n"
     ]
    },
    {
     "name": "stdout",
     "output_type": "stream",
     "text": [
      "Training on iteration 1. Current time: 2024-05-19 03:15:28. Total running time: 1hr 35min 3s\n"
     ]
    },
    {
     "name": "stdout",
     "output_type": "stream",
     "text": [
      "Training on iteration 1. Current time: 2024-05-19 03:15:58. Total running time: 1hr 35min 33s\n"
     ]
    },
    {
     "name": "stdout",
     "output_type": "stream",
     "text": [
      "Training on iteration 1. Current time: 2024-05-19 03:16:28. Total running time: 1hr 36min 3s\n"
     ]
    },
    {
     "name": "stdout",
     "output_type": "stream",
     "text": [
      "Training on iteration 1. Current time: 2024-05-19 03:16:58. Total running time: 1hr 36min 33s\n"
     ]
    },
    {
     "name": "stdout",
     "output_type": "stream",
     "text": [
      "Training on iteration 1. Current time: 2024-05-19 03:17:28. Total running time: 1hr 37min 3s\n"
     ]
    },
    {
     "name": "stdout",
     "output_type": "stream",
     "text": [
      "Training on iteration 1. Current time: 2024-05-19 03:17:58. Total running time: 1hr 37min 33s\n"
     ]
    },
    {
     "name": "stdout",
     "output_type": "stream",
     "text": [
      "Training on iteration 1. Current time: 2024-05-19 03:18:28. Total running time: 1hr 38min 3s\n"
     ]
    },
    {
     "name": "stdout",
     "output_type": "stream",
     "text": [
      "Training on iteration 1. Current time: 2024-05-19 03:18:58. Total running time: 1hr 38min 34s\n"
     ]
    },
    {
     "name": "stdout",
     "output_type": "stream",
     "text": [
      "Training on iteration 1. Current time: 2024-05-19 03:19:28. Total running time: 1hr 39min 4s\n"
     ]
    },
    {
     "name": "stdout",
     "output_type": "stream",
     "text": [
      "Training on iteration 1. Current time: 2024-05-19 03:19:58. Total running time: 1hr 39min 34s\n"
     ]
    },
    {
     "name": "stdout",
     "output_type": "stream",
     "text": [
      "Training on iteration 1. Current time: 2024-05-19 03:20:28. Total running time: 1hr 40min 4s\n"
     ]
    },
    {
     "name": "stdout",
     "output_type": "stream",
     "text": [
      "Training on iteration 1. Current time: 2024-05-19 03:20:58. Total running time: 1hr 40min 34s\n"
     ]
    },
    {
     "name": "stdout",
     "output_type": "stream",
     "text": [
      "Training on iteration 1. Current time: 2024-05-19 03:21:28. Total running time: 1hr 41min 4s\n"
     ]
    },
    {
     "name": "stdout",
     "output_type": "stream",
     "text": [
      "Training on iteration 1. Current time: 2024-05-19 03:21:58. Total running time: 1hr 41min 34s\n"
     ]
    },
    {
     "name": "stdout",
     "output_type": "stream",
     "text": [
      "Training on iteration 1. Current time: 2024-05-19 03:22:28. Total running time: 1hr 42min 4s\n"
     ]
    },
    {
     "name": "stdout",
     "output_type": "stream",
     "text": [
      "Training on iteration 1. Current time: 2024-05-19 03:22:58. Total running time: 1hr 42min 34s\n"
     ]
    },
    {
     "name": "stdout",
     "output_type": "stream",
     "text": [
      "Training on iteration 1. Current time: 2024-05-19 03:23:28. Total running time: 1hr 43min 4s\n"
     ]
    },
    {
     "name": "stdout",
     "output_type": "stream",
     "text": [
      "Training on iteration 1. Current time: 2024-05-19 03:23:58. Total running time: 1hr 43min 34s\n"
     ]
    },
    {
     "name": "stdout",
     "output_type": "stream",
     "text": [
      "Training on iteration 1. Current time: 2024-05-19 03:24:28. Total running time: 1hr 44min 4s\n"
     ]
    },
    {
     "name": "stdout",
     "output_type": "stream",
     "text": [
      "Training on iteration 1. Current time: 2024-05-19 03:24:58. Total running time: 1hr 44min 34s\n"
     ]
    },
    {
     "name": "stdout",
     "output_type": "stream",
     "text": [
      "Training on iteration 1. Current time: 2024-05-19 03:25:28. Total running time: 1hr 45min 4s\n"
     ]
    },
    {
     "name": "stdout",
     "output_type": "stream",
     "text": [
      "Training on iteration 1. Current time: 2024-05-19 03:25:59. Total running time: 1hr 45min 34s\n"
     ]
    },
    {
     "name": "stdout",
     "output_type": "stream",
     "text": [
      "Training on iteration 1. Current time: 2024-05-19 03:26:29. Total running time: 1hr 46min 4s\n"
     ]
    },
    {
     "name": "stdout",
     "output_type": "stream",
     "text": [
      "Training on iteration 1. Current time: 2024-05-19 03:26:59. Total running time: 1hr 46min 34s\n"
     ]
    },
    {
     "name": "stdout",
     "output_type": "stream",
     "text": [
      "Training on iteration 1. Current time: 2024-05-19 03:27:29. Total running time: 1hr 47min 4s\n"
     ]
    },
    {
     "name": "stdout",
     "output_type": "stream",
     "text": [
      "Training on iteration 1. Current time: 2024-05-19 03:27:59. Total running time: 1hr 47min 34s\n"
     ]
    },
    {
     "name": "stdout",
     "output_type": "stream",
     "text": [
      "Training on iteration 1. Current time: 2024-05-19 03:28:29. Total running time: 1hr 48min 4s\n"
     ]
    },
    {
     "name": "stdout",
     "output_type": "stream",
     "text": [
      "Training on iteration 1. Current time: 2024-05-19 03:28:59. Total running time: 1hr 48min 34s\n"
     ]
    },
    {
     "name": "stdout",
     "output_type": "stream",
     "text": [
      "Training on iteration 1. Current time: 2024-05-19 03:29:29. Total running time: 1hr 49min 4s\n"
     ]
    },
    {
     "name": "stdout",
     "output_type": "stream",
     "text": [
      "Training on iteration 1. Current time: 2024-05-19 03:29:59. Total running time: 1hr 49min 34s\n"
     ]
    },
    {
     "name": "stdout",
     "output_type": "stream",
     "text": [
      "Training on iteration 1. Current time: 2024-05-19 03:30:29. Total running time: 1hr 50min 4s\n"
     ]
    },
    {
     "name": "stdout",
     "output_type": "stream",
     "text": [
      "Training on iteration 1. Current time: 2024-05-19 03:30:59. Total running time: 1hr 50min 34s\n"
     ]
    },
    {
     "name": "stdout",
     "output_type": "stream",
     "text": [
      "Training on iteration 1. Current time: 2024-05-19 03:31:29. Total running time: 1hr 51min 4s\n"
     ]
    },
    {
     "name": "stdout",
     "output_type": "stream",
     "text": [
      "Training on iteration 1. Current time: 2024-05-19 03:31:59. Total running time: 1hr 51min 34s\n"
     ]
    },
    {
     "name": "stdout",
     "output_type": "stream",
     "text": [
      "Training on iteration 1. Current time: 2024-05-19 03:32:29. Total running time: 1hr 52min 4s\n"
     ]
    },
    {
     "name": "stdout",
     "output_type": "stream",
     "text": [
      "Training on iteration 1. Current time: 2024-05-19 03:32:59. Total running time: 1hr 52min 34s\n"
     ]
    },
    {
     "name": "stdout",
     "output_type": "stream",
     "text": [
      "Training on iteration 1. Current time: 2024-05-19 03:33:29. Total running time: 1hr 53min 4s\n"
     ]
    },
    {
     "name": "stdout",
     "output_type": "stream",
     "text": [
      "Training on iteration 1. Current time: 2024-05-19 03:33:59. Total running time: 1hr 53min 34s\n"
     ]
    },
    {
     "name": "stdout",
     "output_type": "stream",
     "text": [
      "Training on iteration 1. Current time: 2024-05-19 03:34:29. Total running time: 1hr 54min 4s\n"
     ]
    },
    {
     "name": "stdout",
     "output_type": "stream",
     "text": [
      "Training on iteration 1. Current time: 2024-05-19 03:34:59. Total running time: 1hr 54min 34s\n"
     ]
    },
    {
     "name": "stdout",
     "output_type": "stream",
     "text": [
      "Training on iteration 1. Current time: 2024-05-19 03:35:29. Total running time: 1hr 55min 4s\n"
     ]
    },
    {
     "name": "stdout",
     "output_type": "stream",
     "text": [
      "Training on iteration 1. Current time: 2024-05-19 03:35:59. Total running time: 1hr 55min 34s\n"
     ]
    },
    {
     "name": "stdout",
     "output_type": "stream",
     "text": [
      "Training on iteration 1. Current time: 2024-05-19 03:36:29. Total running time: 1hr 56min 4s\n"
     ]
    },
    {
     "name": "stdout",
     "output_type": "stream",
     "text": [
      "Training on iteration 1. Current time: 2024-05-19 03:36:59. Total running time: 1hr 56min 34s\n"
     ]
    },
    {
     "name": "stdout",
     "output_type": "stream",
     "text": [
      "Training on iteration 1. Current time: 2024-05-19 03:37:29. Total running time: 1hr 57min 4s\n"
     ]
    },
    {
     "name": "stdout",
     "output_type": "stream",
     "text": [
      "Training on iteration 1. Current time: 2024-05-19 03:37:59. Total running time: 1hr 57min 34s\n"
     ]
    },
    {
     "name": "stdout",
     "output_type": "stream",
     "text": [
      "Training on iteration 1. Current time: 2024-05-19 03:38:29. Total running time: 1hr 58min 4s\n"
     ]
    },
    {
     "name": "stdout",
     "output_type": "stream",
     "text": [
      "Training on iteration 1. Current time: 2024-05-19 03:38:59. Total running time: 1hr 58min 34s\n"
     ]
    },
    {
     "name": "stdout",
     "output_type": "stream",
     "text": [
      "Training on iteration 1. Current time: 2024-05-19 03:39:29. Total running time: 1hr 59min 4s\n"
     ]
    },
    {
     "name": "stdout",
     "output_type": "stream",
     "text": [
      "Training on iteration 1. Current time: 2024-05-19 03:39:59. Total running time: 1hr 59min 34s\n"
     ]
    },
    {
     "name": "stdout",
     "output_type": "stream",
     "text": [
      "Training on iteration 1. Current time: 2024-05-19 03:40:29. Total running time: 2hr 0min 4s\n"
     ]
    },
    {
     "name": "stdout",
     "output_type": "stream",
     "text": [
      "Training on iteration 1. Current time: 2024-05-19 03:40:59. Total running time: 2hr 0min 34s\n"
     ]
    },
    {
     "name": "stdout",
     "output_type": "stream",
     "text": [
      "Training on iteration 1. Current time: 2024-05-19 03:41:29. Total running time: 2hr 1min 4s\n"
     ]
    },
    {
     "name": "stdout",
     "output_type": "stream",
     "text": [
      "Training on iteration 1. Current time: 2024-05-19 03:41:59. Total running time: 2hr 1min 34s\n"
     ]
    },
    {
     "name": "stdout",
     "output_type": "stream",
     "text": [
      "Training on iteration 1. Current time: 2024-05-19 03:42:29. Total running time: 2hr 2min 4s\n"
     ]
    },
    {
     "name": "stdout",
     "output_type": "stream",
     "text": [
      "Training on iteration 1. Current time: 2024-05-19 03:42:59. Total running time: 2hr 2min 34s\n"
     ]
    },
    {
     "name": "stderr",
     "output_type": "stream",
     "text": [
      "\u001b[36m(RayTrainWorker pid=913)\u001b[0m /root/.local/share/virtualenvs/working-MLRu3Pvq/lib/python3.10/site-packages/lightning/pytorch/trainer/connectors/logger_connector/result.py:441: It is recommended to use `self.log('mape_den', ..., sync_dist=True)` when logging on epoch level in distributed setting to accumulate the metric across devices.\n"
     ]
    },
    {
     "name": "stderr",
     "output_type": "stream",
     "text": [
      "\u001b[36m(RayTrainWorker pid=913)\u001b[0m /root/.local/share/virtualenvs/working-MLRu3Pvq/lib/python3.10/site-packages/lightning/pytorch/trainer/connectors/logger_connector/result.py:441: It is recommended to use `self.log('huber_den', ..., sync_dist=True)` when logging on epoch level in distributed setting to accumulate the metric across devices.\n"
     ]
    },
    {
     "name": "stderr",
     "output_type": "stream",
     "text": [
      "\u001b[36m(RayTrainWorker pid=913)\u001b[0m /root/.local/share/virtualenvs/working-MLRu3Pvq/lib/python3.10/site-packages/lightning/pytorch/trainer/connectors/logger_connector/result.py:441: It is recommended to use `self.log('mape_vp', ..., sync_dist=True)` when logging on epoch level in distributed setting to accumulate the metric across devices.\n"
     ]
    },
    {
     "name": "stderr",
     "output_type": "stream",
     "text": [
      "\u001b[36m(RayTrainWorker pid=913)\u001b[0m /root/.local/share/virtualenvs/working-MLRu3Pvq/lib/python3.10/site-packages/lightning/pytorch/trainer/connectors/logger_connector/result.py:441: It is recommended to use `self.log('huber_vp', ..., sync_dist=True)` when logging on epoch level in distributed setting to accumulate the metric across devices.\n"
     ]
    },
    {
     "name": "stderr",
     "output_type": "stream",
     "text": [
      "\u001b[36m(RayTrainWorker pid=913)\u001b[0m Epoch 6249, global step 25000: 'mape_den' reached 0.01969 (best 0.01969), saving model to '/kaggle/working/gnnepcsaft/train/checkpoints/model8_2-epoch=6249-mape_den=0.0197.ckpt' as top 1\n"
     ]
    },
    {
     "name": "stderr",
     "output_type": "stream",
     "text": [
      "\u001b[36m(RayTrainWorker pid=911)\u001b[0m Epoch 7499, global step 30000: 'train_mape' reached 0.00753 (best 0.00753), saving model to '/kaggle/working/gnnepcsaft/train/checkpoints/model8_0-epoch=7499-train_mape=0.0075.ckpt' as top 1\n"
     ]
    },
    {
     "name": "stderr",
     "output_type": "stream",
     "text": [
      "\u001b[36m(RayTrainWorker pid=912)\u001b[0m /root/.local/share/virtualenvs/working-MLRu3Pvq/lib/python3.10/site-packages/lightning/pytorch/trainer/connectors/logger_connector/result.py:441: It is recommended to use `self.log('mape_den', ..., sync_dist=True)` when logging on epoch level in distributed setting to accumulate the metric across devices.\n"
     ]
    },
    {
     "name": "stderr",
     "output_type": "stream",
     "text": [
      "\u001b[36m(RayTrainWorker pid=912)\u001b[0m /root/.local/share/virtualenvs/working-MLRu3Pvq/lib/python3.10/site-packages/lightning/pytorch/trainer/connectors/logger_connector/result.py:441: It is recommended to use `self.log('huber_den', ..., sync_dist=True)` when logging on epoch level in distributed setting to accumulate the metric across devices.\n"
     ]
    },
    {
     "name": "stderr",
     "output_type": "stream",
     "text": [
      "\u001b[36m(RayTrainWorker pid=912)\u001b[0m /root/.local/share/virtualenvs/working-MLRu3Pvq/lib/python3.10/site-packages/lightning/pytorch/trainer/connectors/logger_connector/result.py:441: It is recommended to use `self.log('mape_vp', ..., sync_dist=True)` when logging on epoch level in distributed setting to accumulate the metric across devices.\n"
     ]
    },
    {
     "name": "stderr",
     "output_type": "stream",
     "text": [
      "\u001b[36m(RayTrainWorker pid=912)\u001b[0m /root/.local/share/virtualenvs/working-MLRu3Pvq/lib/python3.10/site-packages/lightning/pytorch/trainer/connectors/logger_connector/result.py:441: It is recommended to use `self.log('huber_vp', ..., sync_dist=True)` when logging on epoch level in distributed setting to accumulate the metric across devices.\n"
     ]
    },
    {
     "name": "stderr",
     "output_type": "stream",
     "text": [
      "\u001b[36m(RayTrainWorker pid=912)\u001b[0m Epoch 6249, global step 25000: 'mape_den' reached 0.01741 (best 0.01741), saving model to '/kaggle/working/gnnepcsaft/train/checkpoints/model8_1-epoch=6249-mape_den=0.0174.ckpt' as top 1\n"
     ]
    },
    {
     "name": "stderr",
     "output_type": "stream",
     "text": [
      "\u001b[36m(RayTrainWorker pid=913)\u001b[0m Epoch 7499, global step 30000: 'train_mape' was not in top 1\n"
     ]
    },
    {
     "name": "stdout",
     "output_type": "stream",
     "text": [
      "Training on iteration 1. Current time: 2024-05-19 03:43:29. Total running time: 2hr 3min 4s\n"
     ]
    },
    {
     "name": "stdout",
     "output_type": "stream",
     "text": [
      "Training on iteration 1. Current time: 2024-05-19 03:43:59. Total running time: 2hr 3min 34s\n"
     ]
    },
    {
     "name": "stdout",
     "output_type": "stream",
     "text": [
      "Training on iteration 1. Current time: 2024-05-19 03:44:29. Total running time: 2hr 4min 5s\n"
     ]
    },
    {
     "name": "stdout",
     "output_type": "stream",
     "text": [
      "Training on iteration 1. Current time: 2024-05-19 03:44:59. Total running time: 2hr 4min 35s\n"
     ]
    },
    {
     "name": "stdout",
     "output_type": "stream",
     "text": [
      "Training on iteration 1. Current time: 2024-05-19 03:45:29. Total running time: 2hr 5min 5s\n"
     ]
    },
    {
     "name": "stdout",
     "output_type": "stream",
     "text": [
      "Training on iteration 1. Current time: 2024-05-19 03:45:59. Total running time: 2hr 5min 35s\n"
     ]
    },
    {
     "name": "stdout",
     "output_type": "stream",
     "text": [
      "Training on iteration 1. Current time: 2024-05-19 03:46:29. Total running time: 2hr 6min 5s\n"
     ]
    },
    {
     "name": "stdout",
     "output_type": "stream",
     "text": [
      "Training on iteration 1. Current time: 2024-05-19 03:46:59. Total running time: 2hr 6min 35s\n"
     ]
    },
    {
     "name": "stdout",
     "output_type": "stream",
     "text": [
      "Training on iteration 1. Current time: 2024-05-19 03:47:29. Total running time: 2hr 7min 5s\n"
     ]
    },
    {
     "name": "stdout",
     "output_type": "stream",
     "text": [
      "Training on iteration 1. Current time: 2024-05-19 03:47:59. Total running time: 2hr 7min 35s\n"
     ]
    },
    {
     "name": "stdout",
     "output_type": "stream",
     "text": [
      "Training on iteration 1. Current time: 2024-05-19 03:48:29. Total running time: 2hr 8min 5s\n"
     ]
    },
    {
     "name": "stdout",
     "output_type": "stream",
     "text": [
      "Training on iteration 1. Current time: 2024-05-19 03:48:59. Total running time: 2hr 8min 35s\n"
     ]
    },
    {
     "name": "stdout",
     "output_type": "stream",
     "text": [
      "Training on iteration 1. Current time: 2024-05-19 03:49:29. Total running time: 2hr 9min 5s\n"
     ]
    },
    {
     "name": "stdout",
     "output_type": "stream",
     "text": [
      "Training on iteration 1. Current time: 2024-05-19 03:49:59. Total running time: 2hr 9min 35s\n"
     ]
    },
    {
     "name": "stdout",
     "output_type": "stream",
     "text": [
      "Training on iteration 1. Current time: 2024-05-19 03:50:29. Total running time: 2hr 10min 5s\n"
     ]
    },
    {
     "name": "stdout",
     "output_type": "stream",
     "text": [
      "Training on iteration 1. Current time: 2024-05-19 03:50:59. Total running time: 2hr 10min 35s\n"
     ]
    },
    {
     "name": "stdout",
     "output_type": "stream",
     "text": [
      "Training on iteration 1. Current time: 2024-05-19 03:51:29. Total running time: 2hr 11min 5s\n"
     ]
    },
    {
     "name": "stdout",
     "output_type": "stream",
     "text": [
      "Training on iteration 1. Current time: 2024-05-19 03:52:00. Total running time: 2hr 11min 35s\n"
     ]
    },
    {
     "name": "stdout",
     "output_type": "stream",
     "text": [
      "Training on iteration 1. Current time: 2024-05-19 03:52:30. Total running time: 2hr 12min 5s\n"
     ]
    },
    {
     "name": "stdout",
     "output_type": "stream",
     "text": [
      "Training on iteration 1. Current time: 2024-05-19 03:53:00. Total running time: 2hr 12min 35s\n"
     ]
    },
    {
     "name": "stdout",
     "output_type": "stream",
     "text": [
      "Training on iteration 1. Current time: 2024-05-19 03:53:30. Total running time: 2hr 13min 5s\n"
     ]
    },
    {
     "name": "stdout",
     "output_type": "stream",
     "text": [
      "Training on iteration 1. Current time: 2024-05-19 03:54:00. Total running time: 2hr 13min 35s\n"
     ]
    },
    {
     "name": "stdout",
     "output_type": "stream",
     "text": [
      "Training on iteration 1. Current time: 2024-05-19 03:54:30. Total running time: 2hr 14min 5s\n"
     ]
    },
    {
     "name": "stdout",
     "output_type": "stream",
     "text": [
      "Training on iteration 1. Current time: 2024-05-19 03:55:00. Total running time: 2hr 14min 35s\n"
     ]
    },
    {
     "name": "stdout",
     "output_type": "stream",
     "text": [
      "Training on iteration 1. Current time: 2024-05-19 03:55:30. Total running time: 2hr 15min 5s\n"
     ]
    },
    {
     "name": "stdout",
     "output_type": "stream",
     "text": [
      "Training on iteration 1. Current time: 2024-05-19 03:56:00. Total running time: 2hr 15min 35s\n"
     ]
    },
    {
     "name": "stdout",
     "output_type": "stream",
     "text": [
      "Training on iteration 1. Current time: 2024-05-19 03:56:30. Total running time: 2hr 16min 5s\n"
     ]
    },
    {
     "name": "stdout",
     "output_type": "stream",
     "text": [
      "Training on iteration 1. Current time: 2024-05-19 03:57:00. Total running time: 2hr 16min 35s\n"
     ]
    },
    {
     "name": "stdout",
     "output_type": "stream",
     "text": [
      "Training on iteration 1. Current time: 2024-05-19 03:57:30. Total running time: 2hr 17min 5s\n"
     ]
    },
    {
     "name": "stdout",
     "output_type": "stream",
     "text": [
      "Training on iteration 1. Current time: 2024-05-19 03:58:00. Total running time: 2hr 17min 35s\n"
     ]
    },
    {
     "name": "stdout",
     "output_type": "stream",
     "text": [
      "Training on iteration 1. Current time: 2024-05-19 03:58:30. Total running time: 2hr 18min 5s\n"
     ]
    },
    {
     "name": "stdout",
     "output_type": "stream",
     "text": [
      "Training on iteration 1. Current time: 2024-05-19 03:59:00. Total running time: 2hr 18min 35s\n"
     ]
    },
    {
     "name": "stdout",
     "output_type": "stream",
     "text": [
      "Training on iteration 1. Current time: 2024-05-19 03:59:30. Total running time: 2hr 19min 5s\n"
     ]
    },
    {
     "name": "stdout",
     "output_type": "stream",
     "text": [
      "Training on iteration 1. Current time: 2024-05-19 04:00:00. Total running time: 2hr 19min 35s\n"
     ]
    },
    {
     "name": "stdout",
     "output_type": "stream",
     "text": [
      "Training on iteration 1. Current time: 2024-05-19 04:00:30. Total running time: 2hr 20min 5s\n"
     ]
    },
    {
     "name": "stdout",
     "output_type": "stream",
     "text": [
      "Training on iteration 1. Current time: 2024-05-19 04:01:00. Total running time: 2hr 20min 35s\n"
     ]
    },
    {
     "name": "stdout",
     "output_type": "stream",
     "text": [
      "Training on iteration 1. Current time: 2024-05-19 04:01:30. Total running time: 2hr 21min 5s\n"
     ]
    },
    {
     "name": "stdout",
     "output_type": "stream",
     "text": [
      "Training on iteration 1. Current time: 2024-05-19 04:02:00. Total running time: 2hr 21min 35s\n"
     ]
    },
    {
     "name": "stdout",
     "output_type": "stream",
     "text": [
      "Training on iteration 1. Current time: 2024-05-19 04:02:30. Total running time: 2hr 22min 5s\n"
     ]
    },
    {
     "name": "stdout",
     "output_type": "stream",
     "text": [
      "Training on iteration 1. Current time: 2024-05-19 04:03:00. Total running time: 2hr 22min 35s\n"
     ]
    },
    {
     "name": "stdout",
     "output_type": "stream",
     "text": [
      "Training on iteration 1. Current time: 2024-05-19 04:03:30. Total running time: 2hr 23min 5s\n"
     ]
    },
    {
     "name": "stdout",
     "output_type": "stream",
     "text": [
      "Training on iteration 1. Current time: 2024-05-19 04:04:00. Total running time: 2hr 23min 35s\n"
     ]
    },
    {
     "name": "stdout",
     "output_type": "stream",
     "text": [
      "Training on iteration 1. Current time: 2024-05-19 04:04:30. Total running time: 2hr 24min 5s\n"
     ]
    },
    {
     "name": "stdout",
     "output_type": "stream",
     "text": [
      "Training on iteration 1. Current time: 2024-05-19 04:05:00. Total running time: 2hr 24min 35s\n"
     ]
    },
    {
     "name": "stdout",
     "output_type": "stream",
     "text": [
      "Training on iteration 1. Current time: 2024-05-19 04:05:30. Total running time: 2hr 25min 5s\n"
     ]
    },
    {
     "name": "stdout",
     "output_type": "stream",
     "text": [
      "Training on iteration 1. Current time: 2024-05-19 04:06:00. Total running time: 2hr 25min 35s\n"
     ]
    },
    {
     "name": "stdout",
     "output_type": "stream",
     "text": [
      "Training on iteration 1. Current time: 2024-05-19 04:06:30. Total running time: 2hr 26min 5s\n"
     ]
    },
    {
     "name": "stdout",
     "output_type": "stream",
     "text": [
      "Training on iteration 1. Current time: 2024-05-19 04:07:00. Total running time: 2hr 26min 35s\n"
     ]
    },
    {
     "name": "stdout",
     "output_type": "stream",
     "text": [
      "Training on iteration 1. Current time: 2024-05-19 04:07:30. Total running time: 2hr 27min 5s\n"
     ]
    },
    {
     "name": "stdout",
     "output_type": "stream",
     "text": [
      "Training on iteration 1. Current time: 2024-05-19 04:08:00. Total running time: 2hr 27min 35s\n"
     ]
    },
    {
     "name": "stdout",
     "output_type": "stream",
     "text": [
      "Training on iteration 1. Current time: 2024-05-19 04:08:30. Total running time: 2hr 28min 5s\n"
     ]
    },
    {
     "name": "stdout",
     "output_type": "stream",
     "text": [
      "Training on iteration 1. Current time: 2024-05-19 04:09:00. Total running time: 2hr 28min 36s\n"
     ]
    },
    {
     "name": "stdout",
     "output_type": "stream",
     "text": [
      "Training on iteration 1. Current time: 2024-05-19 04:09:30. Total running time: 2hr 29min 6s\n"
     ]
    },
    {
     "name": "stdout",
     "output_type": "stream",
     "text": [
      "Training on iteration 1. Current time: 2024-05-19 04:10:00. Total running time: 2hr 29min 36s\n"
     ]
    },
    {
     "name": "stdout",
     "output_type": "stream",
     "text": [
      "Training on iteration 1. Current time: 2024-05-19 04:10:30. Total running time: 2hr 30min 6s\n"
     ]
    },
    {
     "name": "stdout",
     "output_type": "stream",
     "text": [
      "Training on iteration 1. Current time: 2024-05-19 04:11:00. Total running time: 2hr 30min 36s\n"
     ]
    },
    {
     "name": "stdout",
     "output_type": "stream",
     "text": [
      "Training on iteration 1. Current time: 2024-05-19 04:11:30. Total running time: 2hr 31min 6s\n"
     ]
    },
    {
     "name": "stdout",
     "output_type": "stream",
     "text": [
      "Training on iteration 1. Current time: 2024-05-19 04:12:00. Total running time: 2hr 31min 36s\n"
     ]
    },
    {
     "name": "stdout",
     "output_type": "stream",
     "text": [
      "Training on iteration 1. Current time: 2024-05-19 04:12:30. Total running time: 2hr 32min 6s\n"
     ]
    },
    {
     "name": "stdout",
     "output_type": "stream",
     "text": [
      "Training on iteration 1. Current time: 2024-05-19 04:13:00. Total running time: 2hr 32min 36s\n"
     ]
    },
    {
     "name": "stdout",
     "output_type": "stream",
     "text": [
      "Training on iteration 1. Current time: 2024-05-19 04:13:30. Total running time: 2hr 33min 6s\n"
     ]
    },
    {
     "name": "stdout",
     "output_type": "stream",
     "text": [
      "Training on iteration 1. Current time: 2024-05-19 04:14:00. Total running time: 2hr 33min 36s\n"
     ]
    },
    {
     "name": "stdout",
     "output_type": "stream",
     "text": [
      "Training on iteration 1. Current time: 2024-05-19 04:14:30. Total running time: 2hr 34min 6s\n"
     ]
    },
    {
     "name": "stdout",
     "output_type": "stream",
     "text": [
      "Training on iteration 1. Current time: 2024-05-19 04:15:01. Total running time: 2hr 34min 36s\n"
     ]
    },
    {
     "name": "stdout",
     "output_type": "stream",
     "text": [
      "Training on iteration 1. Current time: 2024-05-19 04:15:31. Total running time: 2hr 35min 6s\n"
     ]
    },
    {
     "name": "stdout",
     "output_type": "stream",
     "text": [
      "Training on iteration 1. Current time: 2024-05-19 04:16:01. Total running time: 2hr 35min 36s\n"
     ]
    },
    {
     "name": "stdout",
     "output_type": "stream",
     "text": [
      "Training on iteration 1. Current time: 2024-05-19 04:16:31. Total running time: 2hr 36min 6s\n"
     ]
    },
    {
     "name": "stdout",
     "output_type": "stream",
     "text": [
      "Training on iteration 1. Current time: 2024-05-19 04:17:01. Total running time: 2hr 36min 36s\n"
     ]
    },
    {
     "name": "stdout",
     "output_type": "stream",
     "text": [
      "Training on iteration 1. Current time: 2024-05-19 04:17:31. Total running time: 2hr 37min 6s\n"
     ]
    },
    {
     "name": "stdout",
     "output_type": "stream",
     "text": [
      "Training on iteration 1. Current time: 2024-05-19 04:18:01. Total running time: 2hr 37min 36s\n"
     ]
    },
    {
     "name": "stdout",
     "output_type": "stream",
     "text": [
      "Training on iteration 1. Current time: 2024-05-19 04:18:31. Total running time: 2hr 38min 6s\n"
     ]
    },
    {
     "name": "stdout",
     "output_type": "stream",
     "text": [
      "Training on iteration 1. Current time: 2024-05-19 04:19:01. Total running time: 2hr 38min 36s\n"
     ]
    },
    {
     "name": "stdout",
     "output_type": "stream",
     "text": [
      "Training on iteration 1. Current time: 2024-05-19 04:19:31. Total running time: 2hr 39min 6s\n"
     ]
    },
    {
     "name": "stdout",
     "output_type": "stream",
     "text": [
      "Training on iteration 1. Current time: 2024-05-19 04:20:01. Total running time: 2hr 39min 36s\n"
     ]
    },
    {
     "name": "stdout",
     "output_type": "stream",
     "text": [
      "Training on iteration 1. Current time: 2024-05-19 04:20:31. Total running time: 2hr 40min 6s\n"
     ]
    },
    {
     "name": "stdout",
     "output_type": "stream",
     "text": [
      "Training on iteration 1. Current time: 2024-05-19 04:21:01. Total running time: 2hr 40min 36s\n"
     ]
    },
    {
     "name": "stdout",
     "output_type": "stream",
     "text": [
      "Training on iteration 1. Current time: 2024-05-19 04:21:31. Total running time: 2hr 41min 6s\n"
     ]
    },
    {
     "name": "stdout",
     "output_type": "stream",
     "text": [
      "Training on iteration 1. Current time: 2024-05-19 04:22:01. Total running time: 2hr 41min 36s\n"
     ]
    },
    {
     "name": "stdout",
     "output_type": "stream",
     "text": [
      "Training on iteration 1. Current time: 2024-05-19 04:22:31. Total running time: 2hr 42min 6s\n"
     ]
    },
    {
     "name": "stdout",
     "output_type": "stream",
     "text": [
      "Training on iteration 1. Current time: 2024-05-19 04:23:01. Total running time: 2hr 42min 36s\n"
     ]
    },
    {
     "name": "stdout",
     "output_type": "stream",
     "text": [
      "Training on iteration 1. Current time: 2024-05-19 04:23:31. Total running time: 2hr 43min 6s\n"
     ]
    },
    {
     "name": "stdout",
     "output_type": "stream",
     "text": [
      "Training on iteration 1. Current time: 2024-05-19 04:24:01. Total running time: 2hr 43min 36s\n"
     ]
    },
    {
     "name": "stdout",
     "output_type": "stream",
     "text": [
      "Training on iteration 1. Current time: 2024-05-19 04:24:31. Total running time: 2hr 44min 6s\n"
     ]
    },
    {
     "name": "stdout",
     "output_type": "stream",
     "text": [
      "Training on iteration 1. Current time: 2024-05-19 04:25:01. Total running time: 2hr 44min 36s\n"
     ]
    },
    {
     "name": "stdout",
     "output_type": "stream",
     "text": [
      "Training on iteration 1. Current time: 2024-05-19 04:25:31. Total running time: 2hr 45min 6s\n"
     ]
    },
    {
     "name": "stdout",
     "output_type": "stream",
     "text": [
      "Training on iteration 1. Current time: 2024-05-19 04:26:01. Total running time: 2hr 45min 36s\n"
     ]
    },
    {
     "name": "stdout",
     "output_type": "stream",
     "text": [
      "Training on iteration 1. Current time: 2024-05-19 04:26:31. Total running time: 2hr 46min 6s\n"
     ]
    },
    {
     "name": "stderr",
     "output_type": "stream",
     "text": [
      "\u001b[36m(RayTrainWorker pid=912)\u001b[0m Epoch 7499, global step 30000: 'train_mape' reached 0.00810 (best 0.00810), saving model to '/kaggle/working/gnnepcsaft/train/checkpoints/model8_1-epoch=7499-train_mape=0.0081.ckpt' as top 1\n"
     ]
    },
    {
     "name": "stderr",
     "output_type": "stream",
     "text": [
      "\u001b[36m(RayTrainWorker pid=911)\u001b[0m Epoch 9999, global step 40000: 'train_mape' was not in top 1\n"
     ]
    },
    {
     "name": "stderr",
     "output_type": "stream",
     "text": [
      "\u001b[36m(RayTrainWorker pid=913)\u001b[0m Epoch 9999, global step 40000: 'train_mape' reached 0.01002 (best 0.01002), saving model to '/kaggle/working/gnnepcsaft/train/checkpoints/model8_2-epoch=9999-train_mape=0.0100.ckpt' as top 1\n"
     ]
    },
    {
     "name": "stdout",
     "output_type": "stream",
     "text": [
      "Training on iteration 1. Current time: 2024-05-19 04:27:01. Total running time: 2hr 46min 36s\n"
     ]
    },
    {
     "name": "stdout",
     "output_type": "stream",
     "text": [
      "Training on iteration 1. Current time: 2024-05-19 04:27:31. Total running time: 2hr 47min 6s\n"
     ]
    },
    {
     "name": "stdout",
     "output_type": "stream",
     "text": [
      "Training on iteration 1. Current time: 2024-05-19 04:28:01. Total running time: 2hr 47min 36s\n"
     ]
    },
    {
     "name": "stdout",
     "output_type": "stream",
     "text": [
      "Training on iteration 1. Current time: 2024-05-19 04:28:31. Total running time: 2hr 48min 6s\n"
     ]
    },
    {
     "name": "stdout",
     "output_type": "stream",
     "text": [
      "Training on iteration 1. Current time: 2024-05-19 04:29:01. Total running time: 2hr 48min 36s\n"
     ]
    },
    {
     "name": "stdout",
     "output_type": "stream",
     "text": [
      "Training on iteration 1. Current time: 2024-05-19 04:29:31. Total running time: 2hr 49min 6s\n"
     ]
    },
    {
     "name": "stdout",
     "output_type": "stream",
     "text": [
      "Training on iteration 1. Current time: 2024-05-19 04:30:01. Total running time: 2hr 49min 36s\n"
     ]
    },
    {
     "name": "stdout",
     "output_type": "stream",
     "text": [
      "Training on iteration 1. Current time: 2024-05-19 04:30:31. Total running time: 2hr 50min 6s\n"
     ]
    },
    {
     "name": "stdout",
     "output_type": "stream",
     "text": [
      "Training on iteration 1. Current time: 2024-05-19 04:31:01. Total running time: 2hr 50min 36s\n"
     ]
    },
    {
     "name": "stdout",
     "output_type": "stream",
     "text": [
      "Training on iteration 1. Current time: 2024-05-19 04:31:31. Total running time: 2hr 51min 6s\n"
     ]
    },
    {
     "name": "stdout",
     "output_type": "stream",
     "text": [
      "Training on iteration 1. Current time: 2024-05-19 04:32:01. Total running time: 2hr 51min 36s\n"
     ]
    },
    {
     "name": "stdout",
     "output_type": "stream",
     "text": [
      "Training on iteration 1. Current time: 2024-05-19 04:32:31. Total running time: 2hr 52min 6s\n"
     ]
    },
    {
     "name": "stdout",
     "output_type": "stream",
     "text": [
      "Training on iteration 1. Current time: 2024-05-19 04:33:01. Total running time: 2hr 52min 36s\n"
     ]
    },
    {
     "name": "stdout",
     "output_type": "stream",
     "text": [
      "Training on iteration 1. Current time: 2024-05-19 04:33:31. Total running time: 2hr 53min 6s\n"
     ]
    },
    {
     "name": "stdout",
     "output_type": "stream",
     "text": [
      "Training on iteration 1. Current time: 2024-05-19 04:34:01. Total running time: 2hr 53min 37s\n"
     ]
    },
    {
     "name": "stdout",
     "output_type": "stream",
     "text": [
      "Training on iteration 1. Current time: 2024-05-19 04:34:31. Total running time: 2hr 54min 7s\n"
     ]
    },
    {
     "name": "stdout",
     "output_type": "stream",
     "text": [
      "Training on iteration 1. Current time: 2024-05-19 04:35:01. Total running time: 2hr 54min 37s\n"
     ]
    },
    {
     "name": "stdout",
     "output_type": "stream",
     "text": [
      "Training on iteration 1. Current time: 2024-05-19 04:35:31. Total running time: 2hr 55min 7s\n"
     ]
    },
    {
     "name": "stdout",
     "output_type": "stream",
     "text": [
      "Training on iteration 1. Current time: 2024-05-19 04:36:01. Total running time: 2hr 55min 37s\n"
     ]
    },
    {
     "name": "stdout",
     "output_type": "stream",
     "text": [
      "Training on iteration 1. Current time: 2024-05-19 04:36:31. Total running time: 2hr 56min 7s\n"
     ]
    },
    {
     "name": "stdout",
     "output_type": "stream",
     "text": [
      "Training on iteration 1. Current time: 2024-05-19 04:37:01. Total running time: 2hr 56min 37s\n"
     ]
    },
    {
     "name": "stdout",
     "output_type": "stream",
     "text": [
      "Training on iteration 1. Current time: 2024-05-19 04:37:31. Total running time: 2hr 57min 7s\n"
     ]
    },
    {
     "name": "stdout",
     "output_type": "stream",
     "text": [
      "Training on iteration 1. Current time: 2024-05-19 04:38:01. Total running time: 2hr 57min 37s\n"
     ]
    },
    {
     "name": "stdout",
     "output_type": "stream",
     "text": [
      "Training on iteration 1. Current time: 2024-05-19 04:38:31. Total running time: 2hr 58min 7s\n"
     ]
    },
    {
     "name": "stdout",
     "output_type": "stream",
     "text": [
      "Training on iteration 1. Current time: 2024-05-19 04:39:01. Total running time: 2hr 58min 37s\n"
     ]
    },
    {
     "name": "stdout",
     "output_type": "stream",
     "text": [
      "Training on iteration 1. Current time: 2024-05-19 04:39:31. Total running time: 2hr 59min 7s\n"
     ]
    },
    {
     "name": "stdout",
     "output_type": "stream",
     "text": [
      "Training on iteration 1. Current time: 2024-05-19 04:40:02. Total running time: 2hr 59min 37s\n"
     ]
    },
    {
     "name": "stdout",
     "output_type": "stream",
     "text": [
      "Training on iteration 1. Current time: 2024-05-19 04:40:32. Total running time: 3hr 0min 7s\n"
     ]
    },
    {
     "name": "stdout",
     "output_type": "stream",
     "text": [
      "Training on iteration 1. Current time: 2024-05-19 04:41:02. Total running time: 3hr 0min 37s\n"
     ]
    },
    {
     "name": "stdout",
     "output_type": "stream",
     "text": [
      "Training on iteration 1. Current time: 2024-05-19 04:41:32. Total running time: 3hr 1min 7s\n"
     ]
    },
    {
     "name": "stdout",
     "output_type": "stream",
     "text": [
      "Training on iteration 1. Current time: 2024-05-19 04:42:02. Total running time: 3hr 1min 37s\n"
     ]
    },
    {
     "name": "stdout",
     "output_type": "stream",
     "text": [
      "Training on iteration 1. Current time: 2024-05-19 04:42:32. Total running time: 3hr 2min 7s\n"
     ]
    },
    {
     "name": "stdout",
     "output_type": "stream",
     "text": [
      "Training on iteration 1. Current time: 2024-05-19 04:43:02. Total running time: 3hr 2min 37s\n"
     ]
    },
    {
     "name": "stdout",
     "output_type": "stream",
     "text": [
      "Training on iteration 1. Current time: 2024-05-19 04:43:32. Total running time: 3hr 3min 7s\n"
     ]
    },
    {
     "name": "stdout",
     "output_type": "stream",
     "text": [
      "Training on iteration 1. Current time: 2024-05-19 04:44:02. Total running time: 3hr 3min 37s\n"
     ]
    },
    {
     "name": "stdout",
     "output_type": "stream",
     "text": [
      "Training on iteration 1. Current time: 2024-05-19 04:44:32. Total running time: 3hr 4min 7s\n"
     ]
    },
    {
     "name": "stdout",
     "output_type": "stream",
     "text": [
      "Training on iteration 1. Current time: 2024-05-19 04:45:02. Total running time: 3hr 4min 37s\n"
     ]
    },
    {
     "name": "stdout",
     "output_type": "stream",
     "text": [
      "Training on iteration 1. Current time: 2024-05-19 04:45:32. Total running time: 3hr 5min 7s\n"
     ]
    },
    {
     "name": "stdout",
     "output_type": "stream",
     "text": [
      "Training on iteration 1. Current time: 2024-05-19 04:46:02. Total running time: 3hr 5min 37s\n"
     ]
    },
    {
     "name": "stdout",
     "output_type": "stream",
     "text": [
      "Training on iteration 1. Current time: 2024-05-19 04:46:32. Total running time: 3hr 6min 7s\n"
     ]
    },
    {
     "name": "stdout",
     "output_type": "stream",
     "text": [
      "Training on iteration 1. Current time: 2024-05-19 04:47:02. Total running time: 3hr 6min 37s\n"
     ]
    },
    {
     "name": "stdout",
     "output_type": "stream",
     "text": [
      "Training on iteration 1. Current time: 2024-05-19 04:47:32. Total running time: 3hr 7min 7s\n"
     ]
    },
    {
     "name": "stdout",
     "output_type": "stream",
     "text": [
      "Training on iteration 1. Current time: 2024-05-19 04:48:02. Total running time: 3hr 7min 37s\n"
     ]
    },
    {
     "name": "stdout",
     "output_type": "stream",
     "text": [
      "Training on iteration 1. Current time: 2024-05-19 04:48:32. Total running time: 3hr 8min 7s\n"
     ]
    },
    {
     "name": "stdout",
     "output_type": "stream",
     "text": [
      "Training on iteration 1. Current time: 2024-05-19 04:49:02. Total running time: 3hr 8min 37s\n"
     ]
    },
    {
     "name": "stdout",
     "output_type": "stream",
     "text": [
      "Training on iteration 1. Current time: 2024-05-19 04:49:32. Total running time: 3hr 9min 7s\n"
     ]
    },
    {
     "name": "stdout",
     "output_type": "stream",
     "text": [
      "Training on iteration 1. Current time: 2024-05-19 04:50:02. Total running time: 3hr 9min 37s\n"
     ]
    },
    {
     "name": "stdout",
     "output_type": "stream",
     "text": [
      "Training on iteration 1. Current time: 2024-05-19 04:50:32. Total running time: 3hr 10min 7s\n"
     ]
    },
    {
     "name": "stdout",
     "output_type": "stream",
     "text": [
      "Training on iteration 1. Current time: 2024-05-19 04:51:02. Total running time: 3hr 10min 37s\n"
     ]
    },
    {
     "name": "stdout",
     "output_type": "stream",
     "text": [
      "Training on iteration 1. Current time: 2024-05-19 04:51:32. Total running time: 3hr 11min 7s\n"
     ]
    },
    {
     "name": "stdout",
     "output_type": "stream",
     "text": [
      "Training on iteration 1. Current time: 2024-05-19 04:52:02. Total running time: 3hr 11min 37s\n"
     ]
    },
    {
     "name": "stdout",
     "output_type": "stream",
     "text": [
      "Training on iteration 1. Current time: 2024-05-19 04:52:32. Total running time: 3hr 12min 7s\n"
     ]
    },
    {
     "name": "stdout",
     "output_type": "stream",
     "text": [
      "Training on iteration 1. Current time: 2024-05-19 04:53:02. Total running time: 3hr 12min 37s\n"
     ]
    },
    {
     "name": "stdout",
     "output_type": "stream",
     "text": [
      "Training on iteration 1. Current time: 2024-05-19 04:53:32. Total running time: 3hr 13min 7s\n"
     ]
    },
    {
     "name": "stdout",
     "output_type": "stream",
     "text": [
      "Training on iteration 1. Current time: 2024-05-19 04:54:02. Total running time: 3hr 13min 37s\n"
     ]
    },
    {
     "name": "stdout",
     "output_type": "stream",
     "text": [
      "Training on iteration 1. Current time: 2024-05-19 04:54:32. Total running time: 3hr 14min 7s\n"
     ]
    },
    {
     "name": "stdout",
     "output_type": "stream",
     "text": [
      "Training on iteration 1. Current time: 2024-05-19 04:55:02. Total running time: 3hr 14min 37s\n"
     ]
    },
    {
     "name": "stdout",
     "output_type": "stream",
     "text": [
      "Training on iteration 1. Current time: 2024-05-19 04:55:32. Total running time: 3hr 15min 7s\n"
     ]
    },
    {
     "name": "stdout",
     "output_type": "stream",
     "text": [
      "Training on iteration 1. Current time: 2024-05-19 04:56:02. Total running time: 3hr 15min 37s\n"
     ]
    },
    {
     "name": "stdout",
     "output_type": "stream",
     "text": [
      "Training on iteration 1. Current time: 2024-05-19 04:56:32. Total running time: 3hr 16min 7s\n"
     ]
    },
    {
     "name": "stdout",
     "output_type": "stream",
     "text": [
      "Training on iteration 1. Current time: 2024-05-19 04:57:02. Total running time: 3hr 16min 37s\n"
     ]
    },
    {
     "name": "stdout",
     "output_type": "stream",
     "text": [
      "Training on iteration 1. Current time: 2024-05-19 04:57:32. Total running time: 3hr 17min 7s\n"
     ]
    },
    {
     "name": "stdout",
     "output_type": "stream",
     "text": [
      "Training on iteration 1. Current time: 2024-05-19 04:58:02. Total running time: 3hr 17min 37s\n"
     ]
    },
    {
     "name": "stdout",
     "output_type": "stream",
     "text": [
      "Training on iteration 1. Current time: 2024-05-19 04:58:32. Total running time: 3hr 18min 7s\n"
     ]
    },
    {
     "name": "stdout",
     "output_type": "stream",
     "text": [
      "Training on iteration 1. Current time: 2024-05-19 04:59:02. Total running time: 3hr 18min 37s\n"
     ]
    },
    {
     "name": "stdout",
     "output_type": "stream",
     "text": [
      "Training on iteration 1. Current time: 2024-05-19 04:59:32. Total running time: 3hr 19min 7s\n"
     ]
    },
    {
     "name": "stdout",
     "output_type": "stream",
     "text": [
      "Training on iteration 1. Current time: 2024-05-19 05:00:02. Total running time: 3hr 19min 37s\n"
     ]
    },
    {
     "name": "stdout",
     "output_type": "stream",
     "text": [
      "Training on iteration 1. Current time: 2024-05-19 05:00:32. Total running time: 3hr 20min 7s\n"
     ]
    },
    {
     "name": "stdout",
     "output_type": "stream",
     "text": [
      "Training on iteration 1. Current time: 2024-05-19 05:01:02. Total running time: 3hr 20min 37s\n"
     ]
    },
    {
     "name": "stdout",
     "output_type": "stream",
     "text": [
      "Training on iteration 1. Current time: 2024-05-19 05:01:32. Total running time: 3hr 21min 7s\n"
     ]
    },
    {
     "name": "stdout",
     "output_type": "stream",
     "text": [
      "Training on iteration 1. Current time: 2024-05-19 05:02:02. Total running time: 3hr 21min 37s\n"
     ]
    },
    {
     "name": "stdout",
     "output_type": "stream",
     "text": [
      "Training on iteration 1. Current time: 2024-05-19 05:02:32. Total running time: 3hr 22min 7s\n"
     ]
    },
    {
     "name": "stdout",
     "output_type": "stream",
     "text": [
      "Training on iteration 1. Current time: 2024-05-19 05:03:02. Total running time: 3hr 22min 37s\n"
     ]
    },
    {
     "name": "stdout",
     "output_type": "stream",
     "text": [
      "Training on iteration 1. Current time: 2024-05-19 05:03:32. Total running time: 3hr 23min 8s\n"
     ]
    },
    {
     "name": "stdout",
     "output_type": "stream",
     "text": [
      "Training on iteration 1. Current time: 2024-05-19 05:04:02. Total running time: 3hr 23min 38s\n"
     ]
    },
    {
     "name": "stdout",
     "output_type": "stream",
     "text": [
      "Training on iteration 1. Current time: 2024-05-19 05:04:32. Total running time: 3hr 24min 8s\n"
     ]
    },
    {
     "name": "stdout",
     "output_type": "stream",
     "text": [
      "Training on iteration 1. Current time: 2024-05-19 05:05:02. Total running time: 3hr 24min 38s\n"
     ]
    },
    {
     "name": "stdout",
     "output_type": "stream",
     "text": [
      "Training on iteration 1. Current time: 2024-05-19 05:05:32. Total running time: 3hr 25min 8s\n"
     ]
    },
    {
     "name": "stdout",
     "output_type": "stream",
     "text": [
      "Training on iteration 1. Current time: 2024-05-19 05:06:02. Total running time: 3hr 25min 38s\n"
     ]
    },
    {
     "name": "stdout",
     "output_type": "stream",
     "text": [
      "Training on iteration 1. Current time: 2024-05-19 05:06:32. Total running time: 3hr 26min 8s\n"
     ]
    },
    {
     "name": "stdout",
     "output_type": "stream",
     "text": [
      "Training on iteration 1. Current time: 2024-05-19 05:07:02. Total running time: 3hr 26min 38s\n"
     ]
    },
    {
     "name": "stdout",
     "output_type": "stream",
     "text": [
      "Training on iteration 1. Current time: 2024-05-19 05:07:32. Total running time: 3hr 27min 8s\n"
     ]
    },
    {
     "name": "stdout",
     "output_type": "stream",
     "text": [
      "Training on iteration 1. Current time: 2024-05-19 05:08:02. Total running time: 3hr 27min 38s\n"
     ]
    },
    {
     "name": "stdout",
     "output_type": "stream",
     "text": [
      "Training on iteration 1. Current time: 2024-05-19 05:08:32. Total running time: 3hr 28min 8s\n"
     ]
    },
    {
     "name": "stdout",
     "output_type": "stream",
     "text": [
      "Training on iteration 1. Current time: 2024-05-19 05:09:02. Total running time: 3hr 28min 38s\n"
     ]
    },
    {
     "name": "stdout",
     "output_type": "stream",
     "text": [
      "Training on iteration 1. Current time: 2024-05-19 05:09:32. Total running time: 3hr 29min 8s\n"
     ]
    },
    {
     "name": "stdout",
     "output_type": "stream",
     "text": [
      "Training on iteration 1. Current time: 2024-05-19 05:10:02. Total running time: 3hr 29min 38s\n"
     ]
    },
    {
     "name": "stderr",
     "output_type": "stream",
     "text": [
      "\u001b[36m(RayTrainWorker pid=911)\u001b[0m Epoch 12499, global step 50000: 'mape_den' was not in top 1\n"
     ]
    },
    {
     "name": "stderr",
     "output_type": "stream",
     "text": [
      "\u001b[36m(RayTrainWorker pid=911)\u001b[0m Epoch 12499, global step 50000: 'train_mape' was not in top 1\n"
     ]
    },
    {
     "name": "stderr",
     "output_type": "stream",
     "text": [
      "\u001b[36m(RayTrainWorker pid=912)\u001b[0m Epoch 9999, global step 40000: 'train_mape' was not in top 1\n"
     ]
    },
    {
     "name": "stderr",
     "output_type": "stream",
     "text": [
      "\u001b[36m(RayTrainWorker pid=913)\u001b[0m Epoch 12499, global step 50000: 'mape_den' reached 0.01834 (best 0.01834), saving model to '/kaggle/working/gnnepcsaft/train/checkpoints/model8_2-epoch=12499-mape_den=0.0183.ckpt' as top 1\n"
     ]
    },
    {
     "name": "stderr",
     "output_type": "stream",
     "text": [
      "\u001b[36m(RayTrainWorker pid=913)\u001b[0m Epoch 12499, global step 50000: 'train_mape' reached 0.00771 (best 0.00771), saving model to '/kaggle/working/gnnepcsaft/train/checkpoints/model8_2-epoch=12499-train_mape=0.0077.ckpt' as top 1\n"
     ]
    },
    {
     "name": "stdout",
     "output_type": "stream",
     "text": [
      "Training on iteration 1. Current time: 2024-05-19 05:10:33. Total running time: 3hr 30min 8s\n"
     ]
    },
    {
     "name": "stdout",
     "output_type": "stream",
     "text": [
      "Training on iteration 1. Current time: 2024-05-19 05:11:03. Total running time: 3hr 30min 38s\n"
     ]
    },
    {
     "name": "stdout",
     "output_type": "stream",
     "text": [
      "Training on iteration 1. Current time: 2024-05-19 05:11:33. Total running time: 3hr 31min 8s\n"
     ]
    },
    {
     "name": "stdout",
     "output_type": "stream",
     "text": [
      "Training on iteration 1. Current time: 2024-05-19 05:12:03. Total running time: 3hr 31min 38s\n"
     ]
    },
    {
     "name": "stdout",
     "output_type": "stream",
     "text": [
      "Training on iteration 1. Current time: 2024-05-19 05:12:33. Total running time: 3hr 32min 8s\n"
     ]
    },
    {
     "name": "stdout",
     "output_type": "stream",
     "text": [
      "Training on iteration 1. Current time: 2024-05-19 05:13:03. Total running time: 3hr 32min 38s\n"
     ]
    },
    {
     "name": "stdout",
     "output_type": "stream",
     "text": [
      "Training on iteration 1. Current time: 2024-05-19 05:13:33. Total running time: 3hr 33min 8s\n"
     ]
    },
    {
     "name": "stdout",
     "output_type": "stream",
     "text": [
      "Training on iteration 1. Current time: 2024-05-19 05:14:03. Total running time: 3hr 33min 38s\n"
     ]
    },
    {
     "name": "stdout",
     "output_type": "stream",
     "text": [
      "Training on iteration 1. Current time: 2024-05-19 05:14:33. Total running time: 3hr 34min 8s\n"
     ]
    },
    {
     "name": "stdout",
     "output_type": "stream",
     "text": [
      "Training on iteration 1. Current time: 2024-05-19 05:15:03. Total running time: 3hr 34min 38s\n"
     ]
    },
    {
     "name": "stdout",
     "output_type": "stream",
     "text": [
      "Training on iteration 1. Current time: 2024-05-19 05:15:33. Total running time: 3hr 35min 8s\n"
     ]
    },
    {
     "name": "stdout",
     "output_type": "stream",
     "text": [
      "Training on iteration 1. Current time: 2024-05-19 05:16:03. Total running time: 3hr 35min 38s\n"
     ]
    },
    {
     "name": "stdout",
     "output_type": "stream",
     "text": [
      "Training on iteration 1. Current time: 2024-05-19 05:16:33. Total running time: 3hr 36min 8s\n"
     ]
    },
    {
     "name": "stdout",
     "output_type": "stream",
     "text": [
      "Training on iteration 1. Current time: 2024-05-19 05:17:03. Total running time: 3hr 36min 38s\n"
     ]
    },
    {
     "name": "stdout",
     "output_type": "stream",
     "text": [
      "Training on iteration 1. Current time: 2024-05-19 05:17:33. Total running time: 3hr 37min 8s\n"
     ]
    },
    {
     "name": "stdout",
     "output_type": "stream",
     "text": [
      "Training on iteration 1. Current time: 2024-05-19 05:18:03. Total running time: 3hr 37min 38s\n"
     ]
    },
    {
     "name": "stdout",
     "output_type": "stream",
     "text": [
      "Training on iteration 1. Current time: 2024-05-19 05:18:33. Total running time: 3hr 38min 8s\n"
     ]
    },
    {
     "name": "stdout",
     "output_type": "stream",
     "text": [
      "Training on iteration 1. Current time: 2024-05-19 05:19:03. Total running time: 3hr 38min 38s\n"
     ]
    },
    {
     "name": "stdout",
     "output_type": "stream",
     "text": [
      "Training on iteration 1. Current time: 2024-05-19 05:19:33. Total running time: 3hr 39min 8s\n"
     ]
    },
    {
     "name": "stdout",
     "output_type": "stream",
     "text": [
      "Training on iteration 1. Current time: 2024-05-19 05:20:03. Total running time: 3hr 39min 38s\n"
     ]
    },
    {
     "name": "stdout",
     "output_type": "stream",
     "text": [
      "Training on iteration 1. Current time: 2024-05-19 05:20:33. Total running time: 3hr 40min 8s\n"
     ]
    },
    {
     "name": "stdout",
     "output_type": "stream",
     "text": [
      "Training on iteration 1. Current time: 2024-05-19 05:21:03. Total running time: 3hr 40min 38s\n"
     ]
    },
    {
     "name": "stdout",
     "output_type": "stream",
     "text": [
      "Training on iteration 1. Current time: 2024-05-19 05:21:33. Total running time: 3hr 41min 8s\n"
     ]
    },
    {
     "name": "stdout",
     "output_type": "stream",
     "text": [
      "Training on iteration 1. Current time: 2024-05-19 05:22:03. Total running time: 3hr 41min 38s\n"
     ]
    },
    {
     "name": "stdout",
     "output_type": "stream",
     "text": [
      "Training on iteration 1. Current time: 2024-05-19 05:22:33. Total running time: 3hr 42min 8s\n"
     ]
    },
    {
     "name": "stdout",
     "output_type": "stream",
     "text": [
      "Training on iteration 1. Current time: 2024-05-19 05:23:03. Total running time: 3hr 42min 38s\n"
     ]
    },
    {
     "name": "stdout",
     "output_type": "stream",
     "text": [
      "Training on iteration 1. Current time: 2024-05-19 05:23:33. Total running time: 3hr 43min 8s\n"
     ]
    },
    {
     "name": "stdout",
     "output_type": "stream",
     "text": [
      "Training on iteration 1. Current time: 2024-05-19 05:24:03. Total running time: 3hr 43min 38s\n"
     ]
    },
    {
     "name": "stdout",
     "output_type": "stream",
     "text": [
      "Training on iteration 1. Current time: 2024-05-19 05:24:33. Total running time: 3hr 44min 8s\n"
     ]
    },
    {
     "name": "stdout",
     "output_type": "stream",
     "text": [
      "Training on iteration 1. Current time: 2024-05-19 05:25:03. Total running time: 3hr 44min 38s\n"
     ]
    },
    {
     "name": "stdout",
     "output_type": "stream",
     "text": [
      "Training on iteration 1. Current time: 2024-05-19 05:25:33. Total running time: 3hr 45min 8s\n"
     ]
    },
    {
     "name": "stdout",
     "output_type": "stream",
     "text": [
      "Training on iteration 1. Current time: 2024-05-19 05:26:03. Total running time: 3hr 45min 38s\n"
     ]
    },
    {
     "name": "stdout",
     "output_type": "stream",
     "text": [
      "Training on iteration 1. Current time: 2024-05-19 05:26:33. Total running time: 3hr 46min 9s\n"
     ]
    },
    {
     "name": "stdout",
     "output_type": "stream",
     "text": [
      "Training on iteration 1. Current time: 2024-05-19 05:27:03. Total running time: 3hr 46min 39s\n"
     ]
    },
    {
     "name": "stdout",
     "output_type": "stream",
     "text": [
      "Training on iteration 1. Current time: 2024-05-19 05:27:33. Total running time: 3hr 47min 9s\n"
     ]
    },
    {
     "name": "stdout",
     "output_type": "stream",
     "text": [
      "Training on iteration 1. Current time: 2024-05-19 05:28:03. Total running time: 3hr 47min 39s\n"
     ]
    },
    {
     "name": "stdout",
     "output_type": "stream",
     "text": [
      "Training on iteration 1. Current time: 2024-05-19 05:28:33. Total running time: 3hr 48min 9s\n"
     ]
    },
    {
     "name": "stdout",
     "output_type": "stream",
     "text": [
      "Training on iteration 1. Current time: 2024-05-19 05:29:03. Total running time: 3hr 48min 39s\n"
     ]
    },
    {
     "name": "stdout",
     "output_type": "stream",
     "text": [
      "Training on iteration 1. Current time: 2024-05-19 05:29:33. Total running time: 3hr 49min 9s\n"
     ]
    },
    {
     "name": "stdout",
     "output_type": "stream",
     "text": [
      "Training on iteration 1. Current time: 2024-05-19 05:30:03. Total running time: 3hr 49min 39s\n"
     ]
    },
    {
     "name": "stdout",
     "output_type": "stream",
     "text": [
      "Training on iteration 1. Current time: 2024-05-19 05:30:33. Total running time: 3hr 50min 9s\n"
     ]
    },
    {
     "name": "stdout",
     "output_type": "stream",
     "text": [
      "Training on iteration 1. Current time: 2024-05-19 05:31:03. Total running time: 3hr 50min 39s\n"
     ]
    },
    {
     "name": "stdout",
     "output_type": "stream",
     "text": [
      "Training on iteration 1. Current time: 2024-05-19 05:31:33. Total running time: 3hr 51min 9s\n"
     ]
    },
    {
     "name": "stdout",
     "output_type": "stream",
     "text": [
      "Training on iteration 1. Current time: 2024-05-19 05:32:03. Total running time: 3hr 51min 39s\n"
     ]
    },
    {
     "name": "stdout",
     "output_type": "stream",
     "text": [
      "Training on iteration 1. Current time: 2024-05-19 05:32:34. Total running time: 3hr 52min 9s\n"
     ]
    },
    {
     "name": "stdout",
     "output_type": "stream",
     "text": [
      "Training on iteration 1. Current time: 2024-05-19 05:33:04. Total running time: 3hr 52min 39s\n"
     ]
    },
    {
     "name": "stdout",
     "output_type": "stream",
     "text": [
      "Training on iteration 1. Current time: 2024-05-19 05:33:34. Total running time: 3hr 53min 9s\n"
     ]
    },
    {
     "name": "stdout",
     "output_type": "stream",
     "text": [
      "Training on iteration 1. Current time: 2024-05-19 05:34:04. Total running time: 3hr 53min 39s\n"
     ]
    },
    {
     "name": "stdout",
     "output_type": "stream",
     "text": [
      "Training on iteration 1. Current time: 2024-05-19 05:34:34. Total running time: 3hr 54min 9s\n"
     ]
    },
    {
     "name": "stdout",
     "output_type": "stream",
     "text": [
      "Training on iteration 1. Current time: 2024-05-19 05:35:04. Total running time: 3hr 54min 39s\n"
     ]
    },
    {
     "name": "stdout",
     "output_type": "stream",
     "text": [
      "Training on iteration 1. Current time: 2024-05-19 05:35:34. Total running time: 3hr 55min 9s\n"
     ]
    },
    {
     "name": "stdout",
     "output_type": "stream",
     "text": [
      "Training on iteration 1. Current time: 2024-05-19 05:36:04. Total running time: 3hr 55min 39s\n"
     ]
    },
    {
     "name": "stdout",
     "output_type": "stream",
     "text": [
      "Training on iteration 1. Current time: 2024-05-19 05:36:34. Total running time: 3hr 56min 9s\n"
     ]
    },
    {
     "name": "stdout",
     "output_type": "stream",
     "text": [
      "Training on iteration 1. Current time: 2024-05-19 05:37:04. Total running time: 3hr 56min 39s\n"
     ]
    },
    {
     "name": "stdout",
     "output_type": "stream",
     "text": [
      "Training on iteration 1. Current time: 2024-05-19 05:37:34. Total running time: 3hr 57min 9s\n"
     ]
    },
    {
     "name": "stdout",
     "output_type": "stream",
     "text": [
      "Training on iteration 1. Current time: 2024-05-19 05:38:04. Total running time: 3hr 57min 39s\n"
     ]
    },
    {
     "name": "stdout",
     "output_type": "stream",
     "text": [
      "Training on iteration 1. Current time: 2024-05-19 05:38:34. Total running time: 3hr 58min 9s\n"
     ]
    },
    {
     "name": "stdout",
     "output_type": "stream",
     "text": [
      "Training on iteration 1. Current time: 2024-05-19 05:39:04. Total running time: 3hr 58min 39s\n"
     ]
    },
    {
     "name": "stdout",
     "output_type": "stream",
     "text": [
      "Training on iteration 1. Current time: 2024-05-19 05:39:34. Total running time: 3hr 59min 9s\n"
     ]
    },
    {
     "name": "stdout",
     "output_type": "stream",
     "text": [
      "Training on iteration 1. Current time: 2024-05-19 05:40:04. Total running time: 3hr 59min 39s\n"
     ]
    },
    {
     "name": "stdout",
     "output_type": "stream",
     "text": [
      "Training on iteration 1. Current time: 2024-05-19 05:40:34. Total running time: 4hr 0min 9s\n"
     ]
    },
    {
     "name": "stdout",
     "output_type": "stream",
     "text": [
      "Training on iteration 1. Current time: 2024-05-19 05:41:04. Total running time: 4hr 0min 39s\n"
     ]
    },
    {
     "name": "stdout",
     "output_type": "stream",
     "text": [
      "Training on iteration 1. Current time: 2024-05-19 05:41:34. Total running time: 4hr 1min 9s\n"
     ]
    },
    {
     "name": "stdout",
     "output_type": "stream",
     "text": [
      "Training on iteration 1. Current time: 2024-05-19 05:42:04. Total running time: 4hr 1min 39s\n"
     ]
    },
    {
     "name": "stdout",
     "output_type": "stream",
     "text": [
      "Training on iteration 1. Current time: 2024-05-19 05:42:34. Total running time: 4hr 2min 9s\n"
     ]
    },
    {
     "name": "stdout",
     "output_type": "stream",
     "text": [
      "Training on iteration 1. Current time: 2024-05-19 05:43:04. Total running time: 4hr 2min 39s\n"
     ]
    },
    {
     "name": "stdout",
     "output_type": "stream",
     "text": [
      "Training on iteration 1. Current time: 2024-05-19 05:43:34. Total running time: 4hr 3min 9s\n"
     ]
    },
    {
     "name": "stdout",
     "output_type": "stream",
     "text": [
      "Training on iteration 1. Current time: 2024-05-19 05:44:04. Total running time: 4hr 3min 39s\n"
     ]
    },
    {
     "name": "stdout",
     "output_type": "stream",
     "text": [
      "Training on iteration 1. Current time: 2024-05-19 05:44:34. Total running time: 4hr 4min 9s\n"
     ]
    },
    {
     "name": "stdout",
     "output_type": "stream",
     "text": [
      "Training on iteration 1. Current time: 2024-05-19 05:45:04. Total running time: 4hr 4min 39s\n"
     ]
    },
    {
     "name": "stdout",
     "output_type": "stream",
     "text": [
      "Training on iteration 1. Current time: 2024-05-19 05:45:34. Total running time: 4hr 5min 9s\n"
     ]
    },
    {
     "name": "stdout",
     "output_type": "stream",
     "text": [
      "Training on iteration 1. Current time: 2024-05-19 05:46:04. Total running time: 4hr 5min 39s\n"
     ]
    },
    {
     "name": "stdout",
     "output_type": "stream",
     "text": [
      "Training on iteration 1. Current time: 2024-05-19 05:46:34. Total running time: 4hr 6min 9s\n"
     ]
    },
    {
     "name": "stdout",
     "output_type": "stream",
     "text": [
      "Training on iteration 1. Current time: 2024-05-19 05:47:04. Total running time: 4hr 6min 39s\n"
     ]
    },
    {
     "name": "stdout",
     "output_type": "stream",
     "text": [
      "Training on iteration 1. Current time: 2024-05-19 05:47:34. Total running time: 4hr 7min 9s\n"
     ]
    },
    {
     "name": "stdout",
     "output_type": "stream",
     "text": [
      "Training on iteration 1. Current time: 2024-05-19 05:48:04. Total running time: 4hr 7min 39s\n"
     ]
    },
    {
     "name": "stdout",
     "output_type": "stream",
     "text": [
      "Training on iteration 1. Current time: 2024-05-19 05:48:34. Total running time: 4hr 8min 10s\n"
     ]
    },
    {
     "name": "stdout",
     "output_type": "stream",
     "text": [
      "Training on iteration 1. Current time: 2024-05-19 05:49:04. Total running time: 4hr 8min 40s\n"
     ]
    },
    {
     "name": "stdout",
     "output_type": "stream",
     "text": [
      "Training on iteration 1. Current time: 2024-05-19 05:49:34. Total running time: 4hr 9min 10s\n"
     ]
    },
    {
     "name": "stdout",
     "output_type": "stream",
     "text": [
      "Training on iteration 1. Current time: 2024-05-19 05:50:04. Total running time: 4hr 9min 40s\n"
     ]
    },
    {
     "name": "stdout",
     "output_type": "stream",
     "text": [
      "Training on iteration 1. Current time: 2024-05-19 05:50:34. Total running time: 4hr 10min 10s\n"
     ]
    },
    {
     "name": "stdout",
     "output_type": "stream",
     "text": [
      "Training on iteration 1. Current time: 2024-05-19 05:51:04. Total running time: 4hr 10min 40s\n"
     ]
    },
    {
     "name": "stdout",
     "output_type": "stream",
     "text": [
      "Training on iteration 1. Current time: 2024-05-19 05:51:34. Total running time: 4hr 11min 10s\n"
     ]
    },
    {
     "name": "stdout",
     "output_type": "stream",
     "text": [
      "Training on iteration 1. Current time: 2024-05-19 05:52:04. Total running time: 4hr 11min 40s\n"
     ]
    },
    {
     "name": "stdout",
     "output_type": "stream",
     "text": [
      "Training on iteration 1. Current time: 2024-05-19 05:52:34. Total running time: 4hr 12min 10s\n"
     ]
    },
    {
     "name": "stdout",
     "output_type": "stream",
     "text": [
      "Training on iteration 1. Current time: 2024-05-19 05:53:04. Total running time: 4hr 12min 40s\n"
     ]
    },
    {
     "name": "stdout",
     "output_type": "stream",
     "text": [
      "Training on iteration 1. Current time: 2024-05-19 05:53:34. Total running time: 4hr 13min 10s\n"
     ]
    },
    {
     "name": "stderr",
     "output_type": "stream",
     "text": [
      "\u001b[36m(RayTrainWorker pid=911)\u001b[0m Epoch 14999, global step 60000: 'train_mape' was not in top 1\n"
     ]
    },
    {
     "name": "stderr",
     "output_type": "stream",
     "text": [
      "\u001b[36m(RayTrainWorker pid=912)\u001b[0m Epoch 12499, global step 50000: 'mape_den' was not in top 1\n"
     ]
    },
    {
     "name": "stderr",
     "output_type": "stream",
     "text": [
      "\u001b[36m(RayTrainWorker pid=912)\u001b[0m Epoch 12499, global step 50000: 'train_mape' was not in top 1\n"
     ]
    },
    {
     "name": "stderr",
     "output_type": "stream",
     "text": [
      "\u001b[36m(RayTrainWorker pid=913)\u001b[0m Epoch 14999, global step 60000: 'train_mape' reached 0.00701 (best 0.00701), saving model to '/kaggle/working/gnnepcsaft/train/checkpoints/model8_2-epoch=14999-train_mape=0.0070.ckpt' as top 1\n"
     ]
    },
    {
     "name": "stdout",
     "output_type": "stream",
     "text": [
      "Training on iteration 1. Current time: 2024-05-19 05:54:04. Total running time: 4hr 13min 40s\n"
     ]
    },
    {
     "name": "stdout",
     "output_type": "stream",
     "text": [
      "Training on iteration 1. Current time: 2024-05-19 05:54:34. Total running time: 4hr 14min 10s\n"
     ]
    },
    {
     "name": "stdout",
     "output_type": "stream",
     "text": [
      "Training on iteration 1. Current time: 2024-05-19 05:55:04. Total running time: 4hr 14min 40s\n"
     ]
    },
    {
     "name": "stdout",
     "output_type": "stream",
     "text": [
      "Training on iteration 1. Current time: 2024-05-19 05:55:34. Total running time: 4hr 15min 10s\n"
     ]
    },
    {
     "name": "stdout",
     "output_type": "stream",
     "text": [
      "Training on iteration 1. Current time: 2024-05-19 05:56:05. Total running time: 4hr 15min 40s\n"
     ]
    },
    {
     "name": "stdout",
     "output_type": "stream",
     "text": [
      "Training on iteration 1. Current time: 2024-05-19 05:56:35. Total running time: 4hr 16min 10s\n"
     ]
    },
    {
     "name": "stdout",
     "output_type": "stream",
     "text": [
      "Training on iteration 1. Current time: 2024-05-19 05:57:05. Total running time: 4hr 16min 40s\n"
     ]
    },
    {
     "name": "stdout",
     "output_type": "stream",
     "text": [
      "Training on iteration 1. Current time: 2024-05-19 05:57:35. Total running time: 4hr 17min 10s\n"
     ]
    },
    {
     "name": "stdout",
     "output_type": "stream",
     "text": [
      "Training on iteration 1. Current time: 2024-05-19 05:58:05. Total running time: 4hr 17min 40s\n"
     ]
    },
    {
     "name": "stdout",
     "output_type": "stream",
     "text": [
      "Training on iteration 1. Current time: 2024-05-19 05:58:35. Total running time: 4hr 18min 10s\n"
     ]
    },
    {
     "name": "stdout",
     "output_type": "stream",
     "text": [
      "Training on iteration 1. Current time: 2024-05-19 05:59:05. Total running time: 4hr 18min 40s\n"
     ]
    },
    {
     "name": "stdout",
     "output_type": "stream",
     "text": [
      "Training on iteration 1. Current time: 2024-05-19 05:59:35. Total running time: 4hr 19min 10s\n"
     ]
    },
    {
     "name": "stdout",
     "output_type": "stream",
     "text": [
      "Training on iteration 1. Current time: 2024-05-19 06:00:05. Total running time: 4hr 19min 40s\n"
     ]
    },
    {
     "name": "stdout",
     "output_type": "stream",
     "text": [
      "Training on iteration 1. Current time: 2024-05-19 06:00:35. Total running time: 4hr 20min 10s\n"
     ]
    },
    {
     "name": "stdout",
     "output_type": "stream",
     "text": [
      "Training on iteration 1. Current time: 2024-05-19 06:01:05. Total running time: 4hr 20min 40s\n"
     ]
    },
    {
     "name": "stdout",
     "output_type": "stream",
     "text": [
      "Training on iteration 1. Current time: 2024-05-19 06:01:35. Total running time: 4hr 21min 10s\n"
     ]
    },
    {
     "name": "stdout",
     "output_type": "stream",
     "text": [
      "Training on iteration 1. Current time: 2024-05-19 06:02:05. Total running time: 4hr 21min 40s\n"
     ]
    },
    {
     "name": "stdout",
     "output_type": "stream",
     "text": [
      "Training on iteration 1. Current time: 2024-05-19 06:02:35. Total running time: 4hr 22min 10s\n"
     ]
    },
    {
     "name": "stdout",
     "output_type": "stream",
     "text": [
      "Training on iteration 1. Current time: 2024-05-19 06:03:05. Total running time: 4hr 22min 40s\n"
     ]
    },
    {
     "name": "stdout",
     "output_type": "stream",
     "text": [
      "Training on iteration 1. Current time: 2024-05-19 06:03:35. Total running time: 4hr 23min 10s\n"
     ]
    },
    {
     "name": "stdout",
     "output_type": "stream",
     "text": [
      "Training on iteration 1. Current time: 2024-05-19 06:04:05. Total running time: 4hr 23min 40s\n"
     ]
    },
    {
     "name": "stdout",
     "output_type": "stream",
     "text": [
      "Training on iteration 1. Current time: 2024-05-19 06:04:35. Total running time: 4hr 24min 10s\n"
     ]
    },
    {
     "name": "stdout",
     "output_type": "stream",
     "text": [
      "Training on iteration 1. Current time: 2024-05-19 06:05:05. Total running time: 4hr 24min 40s\n"
     ]
    },
    {
     "name": "stdout",
     "output_type": "stream",
     "text": [
      "Training on iteration 1. Current time: 2024-05-19 06:05:35. Total running time: 4hr 25min 10s\n"
     ]
    },
    {
     "name": "stdout",
     "output_type": "stream",
     "text": [
      "Training on iteration 1. Current time: 2024-05-19 06:06:05. Total running time: 4hr 25min 40s\n"
     ]
    },
    {
     "name": "stdout",
     "output_type": "stream",
     "text": [
      "Training on iteration 1. Current time: 2024-05-19 06:06:35. Total running time: 4hr 26min 10s\n"
     ]
    },
    {
     "name": "stdout",
     "output_type": "stream",
     "text": [
      "Training on iteration 1. Current time: 2024-05-19 06:07:05. Total running time: 4hr 26min 40s\n"
     ]
    },
    {
     "name": "stdout",
     "output_type": "stream",
     "text": [
      "Training on iteration 1. Current time: 2024-05-19 06:07:35. Total running time: 4hr 27min 10s\n"
     ]
    },
    {
     "name": "stdout",
     "output_type": "stream",
     "text": [
      "Training on iteration 1. Current time: 2024-05-19 06:08:05. Total running time: 4hr 27min 40s\n"
     ]
    },
    {
     "name": "stdout",
     "output_type": "stream",
     "text": [
      "Training on iteration 1. Current time: 2024-05-19 06:08:35. Total running time: 4hr 28min 10s\n"
     ]
    },
    {
     "name": "stdout",
     "output_type": "stream",
     "text": [
      "Training on iteration 1. Current time: 2024-05-19 06:09:05. Total running time: 4hr 28min 40s\n"
     ]
    },
    {
     "name": "stdout",
     "output_type": "stream",
     "text": [
      "Training on iteration 1. Current time: 2024-05-19 06:09:35. Total running time: 4hr 29min 10s\n"
     ]
    },
    {
     "name": "stdout",
     "output_type": "stream",
     "text": [
      "Training on iteration 1. Current time: 2024-05-19 06:10:05. Total running time: 4hr 29min 40s\n"
     ]
    },
    {
     "name": "stdout",
     "output_type": "stream",
     "text": [
      "Training on iteration 1. Current time: 2024-05-19 06:10:35. Total running time: 4hr 30min 10s\n"
     ]
    },
    {
     "name": "stdout",
     "output_type": "stream",
     "text": [
      "Training on iteration 1. Current time: 2024-05-19 06:11:05. Total running time: 4hr 30min 40s\n"
     ]
    },
    {
     "name": "stdout",
     "output_type": "stream",
     "text": [
      "Training on iteration 1. Current time: 2024-05-19 06:11:35. Total running time: 4hr 31min 10s\n"
     ]
    },
    {
     "name": "stdout",
     "output_type": "stream",
     "text": [
      "Training on iteration 1. Current time: 2024-05-19 06:12:05. Total running time: 4hr 31min 40s\n"
     ]
    },
    {
     "name": "stdout",
     "output_type": "stream",
     "text": [
      "Training on iteration 1. Current time: 2024-05-19 06:12:35. Total running time: 4hr 32min 10s\n"
     ]
    },
    {
     "name": "stdout",
     "output_type": "stream",
     "text": [
      "Training on iteration 1. Current time: 2024-05-19 06:13:05. Total running time: 4hr 32min 40s\n"
     ]
    },
    {
     "name": "stdout",
     "output_type": "stream",
     "text": [
      "Training on iteration 1. Current time: 2024-05-19 06:13:35. Total running time: 4hr 33min 11s\n"
     ]
    },
    {
     "name": "stdout",
     "output_type": "stream",
     "text": [
      "Training on iteration 1. Current time: 2024-05-19 06:14:05. Total running time: 4hr 33min 41s\n"
     ]
    },
    {
     "name": "stdout",
     "output_type": "stream",
     "text": [
      "Training on iteration 1. Current time: 2024-05-19 06:14:35. Total running time: 4hr 34min 11s\n"
     ]
    },
    {
     "name": "stdout",
     "output_type": "stream",
     "text": [
      "Training on iteration 1. Current time: 2024-05-19 06:15:05. Total running time: 4hr 34min 41s\n"
     ]
    },
    {
     "name": "stdout",
     "output_type": "stream",
     "text": [
      "Training on iteration 1. Current time: 2024-05-19 06:15:35. Total running time: 4hr 35min 11s\n"
     ]
    },
    {
     "name": "stdout",
     "output_type": "stream",
     "text": [
      "Training on iteration 1. Current time: 2024-05-19 06:16:05. Total running time: 4hr 35min 41s\n"
     ]
    },
    {
     "name": "stdout",
     "output_type": "stream",
     "text": [
      "Training on iteration 1. Current time: 2024-05-19 06:16:35. Total running time: 4hr 36min 11s\n"
     ]
    },
    {
     "name": "stdout",
     "output_type": "stream",
     "text": [
      "Training on iteration 1. Current time: 2024-05-19 06:17:05. Total running time: 4hr 36min 41s\n"
     ]
    },
    {
     "name": "stdout",
     "output_type": "stream",
     "text": [
      "Training on iteration 1. Current time: 2024-05-19 06:17:35. Total running time: 4hr 37min 11s\n"
     ]
    },
    {
     "name": "stdout",
     "output_type": "stream",
     "text": [
      "Training on iteration 1. Current time: 2024-05-19 06:18:05. Total running time: 4hr 37min 41s\n"
     ]
    },
    {
     "name": "stdout",
     "output_type": "stream",
     "text": [
      "Training on iteration 1. Current time: 2024-05-19 06:18:35. Total running time: 4hr 38min 11s\n"
     ]
    },
    {
     "name": "stdout",
     "output_type": "stream",
     "text": [
      "Training on iteration 1. Current time: 2024-05-19 06:19:05. Total running time: 4hr 38min 41s\n"
     ]
    },
    {
     "name": "stdout",
     "output_type": "stream",
     "text": [
      "Training on iteration 1. Current time: 2024-05-19 06:19:35. Total running time: 4hr 39min 11s\n"
     ]
    },
    {
     "name": "stdout",
     "output_type": "stream",
     "text": [
      "Training on iteration 1. Current time: 2024-05-19 06:20:05. Total running time: 4hr 39min 41s\n"
     ]
    },
    {
     "name": "stdout",
     "output_type": "stream",
     "text": [
      "Training on iteration 1. Current time: 2024-05-19 06:20:36. Total running time: 4hr 40min 11s\n"
     ]
    },
    {
     "name": "stdout",
     "output_type": "stream",
     "text": [
      "Training on iteration 1. Current time: 2024-05-19 06:21:06. Total running time: 4hr 40min 41s\n"
     ]
    },
    {
     "name": "stdout",
     "output_type": "stream",
     "text": [
      "Training on iteration 1. Current time: 2024-05-19 06:21:36. Total running time: 4hr 41min 11s\n"
     ]
    },
    {
     "name": "stdout",
     "output_type": "stream",
     "text": [
      "Training on iteration 1. Current time: 2024-05-19 06:22:06. Total running time: 4hr 41min 41s\n"
     ]
    },
    {
     "name": "stdout",
     "output_type": "stream",
     "text": [
      "Training on iteration 1. Current time: 2024-05-19 06:22:36. Total running time: 4hr 42min 11s\n"
     ]
    },
    {
     "name": "stdout",
     "output_type": "stream",
     "text": [
      "Training on iteration 1. Current time: 2024-05-19 06:23:06. Total running time: 4hr 42min 41s\n"
     ]
    },
    {
     "name": "stdout",
     "output_type": "stream",
     "text": [
      "Training on iteration 1. Current time: 2024-05-19 06:23:36. Total running time: 4hr 43min 11s\n"
     ]
    },
    {
     "name": "stdout",
     "output_type": "stream",
     "text": [
      "Training on iteration 1. Current time: 2024-05-19 06:24:06. Total running time: 4hr 43min 41s\n"
     ]
    },
    {
     "name": "stdout",
     "output_type": "stream",
     "text": [
      "Training on iteration 1. Current time: 2024-05-19 06:24:36. Total running time: 4hr 44min 11s\n"
     ]
    },
    {
     "name": "stdout",
     "output_type": "stream",
     "text": [
      "Training on iteration 1. Current time: 2024-05-19 06:25:06. Total running time: 4hr 44min 41s\n"
     ]
    },
    {
     "name": "stdout",
     "output_type": "stream",
     "text": [
      "Training on iteration 1. Current time: 2024-05-19 06:25:36. Total running time: 4hr 45min 11s\n"
     ]
    },
    {
     "name": "stdout",
     "output_type": "stream",
     "text": [
      "Training on iteration 1. Current time: 2024-05-19 06:26:06. Total running time: 4hr 45min 41s\n"
     ]
    },
    {
     "name": "stdout",
     "output_type": "stream",
     "text": [
      "Training on iteration 1. Current time: 2024-05-19 06:26:36. Total running time: 4hr 46min 11s\n"
     ]
    },
    {
     "name": "stdout",
     "output_type": "stream",
     "text": [
      "Training on iteration 1. Current time: 2024-05-19 06:27:06. Total running time: 4hr 46min 41s\n"
     ]
    },
    {
     "name": "stdout",
     "output_type": "stream",
     "text": [
      "Training on iteration 1. Current time: 2024-05-19 06:27:36. Total running time: 4hr 47min 11s\n"
     ]
    },
    {
     "name": "stdout",
     "output_type": "stream",
     "text": [
      "Training on iteration 1. Current time: 2024-05-19 06:28:06. Total running time: 4hr 47min 41s\n"
     ]
    },
    {
     "name": "stdout",
     "output_type": "stream",
     "text": [
      "Training on iteration 1. Current time: 2024-05-19 06:28:36. Total running time: 4hr 48min 11s\n"
     ]
    },
    {
     "name": "stdout",
     "output_type": "stream",
     "text": [
      "Training on iteration 1. Current time: 2024-05-19 06:29:06. Total running time: 4hr 48min 41s\n"
     ]
    },
    {
     "name": "stdout",
     "output_type": "stream",
     "text": [
      "Training on iteration 1. Current time: 2024-05-19 06:29:36. Total running time: 4hr 49min 11s\n"
     ]
    },
    {
     "name": "stdout",
     "output_type": "stream",
     "text": [
      "Training on iteration 1. Current time: 2024-05-19 06:30:06. Total running time: 4hr 49min 41s\n"
     ]
    },
    {
     "name": "stdout",
     "output_type": "stream",
     "text": [
      "Training on iteration 1. Current time: 2024-05-19 06:30:36. Total running time: 4hr 50min 11s\n"
     ]
    },
    {
     "name": "stdout",
     "output_type": "stream",
     "text": [
      "Training on iteration 1. Current time: 2024-05-19 06:31:06. Total running time: 4hr 50min 41s\n"
     ]
    },
    {
     "name": "stdout",
     "output_type": "stream",
     "text": [
      "Training on iteration 1. Current time: 2024-05-19 06:31:36. Total running time: 4hr 51min 11s\n"
     ]
    },
    {
     "name": "stdout",
     "output_type": "stream",
     "text": [
      "Training on iteration 1. Current time: 2024-05-19 06:32:06. Total running time: 4hr 51min 41s\n"
     ]
    },
    {
     "name": "stdout",
     "output_type": "stream",
     "text": [
      "Training on iteration 1. Current time: 2024-05-19 06:32:36. Total running time: 4hr 52min 11s\n"
     ]
    },
    {
     "name": "stdout",
     "output_type": "stream",
     "text": [
      "Training on iteration 1. Current time: 2024-05-19 06:33:06. Total running time: 4hr 52min 41s\n"
     ]
    },
    {
     "name": "stdout",
     "output_type": "stream",
     "text": [
      "Training on iteration 1. Current time: 2024-05-19 06:33:36. Total running time: 4hr 53min 11s\n"
     ]
    },
    {
     "name": "stdout",
     "output_type": "stream",
     "text": [
      "Training on iteration 1. Current time: 2024-05-19 06:34:06. Total running time: 4hr 53min 41s\n"
     ]
    },
    {
     "name": "stdout",
     "output_type": "stream",
     "text": [
      "Training on iteration 1. Current time: 2024-05-19 06:34:36. Total running time: 4hr 54min 11s\n"
     ]
    },
    {
     "name": "stdout",
     "output_type": "stream",
     "text": [
      "Training on iteration 1. Current time: 2024-05-19 06:35:06. Total running time: 4hr 54min 41s\n"
     ]
    },
    {
     "name": "stdout",
     "output_type": "stream",
     "text": [
      "Training on iteration 1. Current time: 2024-05-19 06:35:36. Total running time: 4hr 55min 11s\n"
     ]
    },
    {
     "name": "stdout",
     "output_type": "stream",
     "text": [
      "Training on iteration 1. Current time: 2024-05-19 06:36:06. Total running time: 4hr 55min 41s\n"
     ]
    },
    {
     "name": "stdout",
     "output_type": "stream",
     "text": [
      "Training on iteration 1. Current time: 2024-05-19 06:36:36. Total running time: 4hr 56min 11s\n"
     ]
    },
    {
     "name": "stdout",
     "output_type": "stream",
     "text": [
      "Training on iteration 1. Current time: 2024-05-19 06:37:06. Total running time: 4hr 56min 41s\n"
     ]
    },
    {
     "name": "stderr",
     "output_type": "stream",
     "text": [
      "\u001b[36m(RayTrainWorker pid=911)\u001b[0m Epoch 17499, global step 70000: 'train_mape' was not in top 1\n"
     ]
    },
    {
     "name": "stderr",
     "output_type": "stream",
     "text": [
      "\u001b[36m(RayTrainWorker pid=911)\u001b[0m Epoch 18749, global step 75000: 'mape_den' reached 0.01902 (best 0.01902), saving model to '/kaggle/working/gnnepcsaft/train/checkpoints/model8_0-epoch=18749-mape_den=0.0190.ckpt' as top 1\n"
     ]
    },
    {
     "name": "stdout",
     "output_type": "stream",
     "text": [
      "Training on iteration 1. Current time: 2024-05-19 06:37:36. Total running time: 4hr 57min 11s\n"
     ]
    },
    {
     "name": "stdout",
     "output_type": "stream",
     "text": [
      "Training on iteration 1. Current time: 2024-05-19 06:38:06. Total running time: 4hr 57min 41s\n"
     ]
    },
    {
     "name": "stdout",
     "output_type": "stream",
     "text": [
      "Training on iteration 1. Current time: 2024-05-19 06:38:36. Total running time: 4hr 58min 11s\n"
     ]
    },
    {
     "name": "stdout",
     "output_type": "stream",
     "text": [
      "Training on iteration 1. Current time: 2024-05-19 06:39:06. Total running time: 4hr 58min 41s\n"
     ]
    },
    {
     "name": "stdout",
     "output_type": "stream",
     "text": [
      "Training on iteration 1. Current time: 2024-05-19 06:39:36. Total running time: 4hr 59min 12s\n"
     ]
    },
    {
     "name": "stdout",
     "output_type": "stream",
     "text": [
      "Training on iteration 1. Current time: 2024-05-19 06:40:06. Total running time: 4hr 59min 42s\n"
     ]
    },
    {
     "name": "stdout",
     "output_type": "stream",
     "text": [
      "Training on iteration 1. Current time: 2024-05-19 06:40:36. Total running time: 5hr 0min 12s\n"
     ]
    },
    {
     "name": "stdout",
     "output_type": "stream",
     "text": [
      "Training on iteration 1. Current time: 2024-05-19 06:41:06. Total running time: 5hr 0min 42s\n"
     ]
    },
    {
     "name": "stdout",
     "output_type": "stream",
     "text": [
      "Training on iteration 1. Current time: 2024-05-19 06:41:36. Total running time: 5hr 1min 12s\n"
     ]
    },
    {
     "name": "stdout",
     "output_type": "stream",
     "text": [
      "Training on iteration 1. Current time: 2024-05-19 06:42:06. Total running time: 5hr 1min 42s\n"
     ]
    },
    {
     "name": "stdout",
     "output_type": "stream",
     "text": [
      "Training on iteration 1. Current time: 2024-05-19 06:42:36. Total running time: 5hr 2min 12s\n"
     ]
    },
    {
     "name": "stdout",
     "output_type": "stream",
     "text": [
      "Training on iteration 1. Current time: 2024-05-19 06:43:06. Total running time: 5hr 2min 42s\n"
     ]
    },
    {
     "name": "stdout",
     "output_type": "stream",
     "text": [
      "Training on iteration 1. Current time: 2024-05-19 06:43:37. Total running time: 5hr 3min 12s\n"
     ]
    },
    {
     "name": "stdout",
     "output_type": "stream",
     "text": [
      "Training on iteration 1. Current time: 2024-05-19 06:44:07. Total running time: 5hr 3min 42s\n"
     ]
    },
    {
     "name": "stdout",
     "output_type": "stream",
     "text": [
      "Training on iteration 1. Current time: 2024-05-19 06:44:37. Total running time: 5hr 4min 12s\n"
     ]
    },
    {
     "name": "stdout",
     "output_type": "stream",
     "text": [
      "Training on iteration 1. Current time: 2024-05-19 06:45:07. Total running time: 5hr 4min 42s\n"
     ]
    },
    {
     "name": "stdout",
     "output_type": "stream",
     "text": [
      "Training on iteration 1. Current time: 2024-05-19 06:45:37. Total running time: 5hr 5min 12s\n"
     ]
    },
    {
     "name": "stdout",
     "output_type": "stream",
     "text": [
      "Training on iteration 1. Current time: 2024-05-19 06:46:07. Total running time: 5hr 5min 42s\n"
     ]
    },
    {
     "name": "stdout",
     "output_type": "stream",
     "text": [
      "Training on iteration 1. Current time: 2024-05-19 06:46:37. Total running time: 5hr 6min 12s\n"
     ]
    },
    {
     "name": "stdout",
     "output_type": "stream",
     "text": [
      "Training on iteration 1. Current time: 2024-05-19 06:47:07. Total running time: 5hr 6min 42s\n"
     ]
    },
    {
     "name": "stdout",
     "output_type": "stream",
     "text": [
      "Training on iteration 1. Current time: 2024-05-19 06:47:37. Total running time: 5hr 7min 12s\n"
     ]
    },
    {
     "name": "stdout",
     "output_type": "stream",
     "text": [
      "Training on iteration 1. Current time: 2024-05-19 06:48:07. Total running time: 5hr 7min 42s\n"
     ]
    },
    {
     "name": "stdout",
     "output_type": "stream",
     "text": [
      "Training on iteration 1. Current time: 2024-05-19 06:48:37. Total running time: 5hr 8min 12s\n"
     ]
    },
    {
     "name": "stdout",
     "output_type": "stream",
     "text": [
      "Training on iteration 1. Current time: 2024-05-19 06:49:07. Total running time: 5hr 8min 42s\n"
     ]
    },
    {
     "name": "stdout",
     "output_type": "stream",
     "text": [
      "Training on iteration 1. Current time: 2024-05-19 06:49:37. Total running time: 5hr 9min 12s\n"
     ]
    },
    {
     "name": "stdout",
     "output_type": "stream",
     "text": [
      "Training on iteration 1. Current time: 2024-05-19 06:50:07. Total running time: 5hr 9min 42s\n"
     ]
    },
    {
     "name": "stdout",
     "output_type": "stream",
     "text": [
      "Training on iteration 1. Current time: 2024-05-19 06:50:37. Total running time: 5hr 10min 12s\n"
     ]
    },
    {
     "name": "stdout",
     "output_type": "stream",
     "text": [
      "Training on iteration 1. Current time: 2024-05-19 06:51:07. Total running time: 5hr 10min 42s\n"
     ]
    },
    {
     "name": "stdout",
     "output_type": "stream",
     "text": [
      "Training on iteration 1. Current time: 2024-05-19 06:51:37. Total running time: 5hr 11min 12s\n"
     ]
    },
    {
     "name": "stdout",
     "output_type": "stream",
     "text": [
      "Training on iteration 1. Current time: 2024-05-19 06:52:07. Total running time: 5hr 11min 42s\n"
     ]
    },
    {
     "name": "stdout",
     "output_type": "stream",
     "text": [
      "Training on iteration 1. Current time: 2024-05-19 06:52:37. Total running time: 5hr 12min 12s\n"
     ]
    },
    {
     "name": "stdout",
     "output_type": "stream",
     "text": [
      "Training on iteration 1. Current time: 2024-05-19 06:53:07. Total running time: 5hr 12min 42s\n"
     ]
    },
    {
     "name": "stdout",
     "output_type": "stream",
     "text": [
      "Training on iteration 1. Current time: 2024-05-19 06:53:37. Total running time: 5hr 13min 12s\n"
     ]
    },
    {
     "name": "stdout",
     "output_type": "stream",
     "text": [
      "Training on iteration 1. Current time: 2024-05-19 06:54:07. Total running time: 5hr 13min 42s\n"
     ]
    },
    {
     "name": "stdout",
     "output_type": "stream",
     "text": [
      "Training on iteration 1. Current time: 2024-05-19 06:54:37. Total running time: 5hr 14min 12s\n"
     ]
    },
    {
     "name": "stdout",
     "output_type": "stream",
     "text": [
      "Training on iteration 1. Current time: 2024-05-19 06:55:07. Total running time: 5hr 14min 42s\n"
     ]
    },
    {
     "name": "stdout",
     "output_type": "stream",
     "text": [
      "Training on iteration 1. Current time: 2024-05-19 06:55:37. Total running time: 5hr 15min 12s\n"
     ]
    },
    {
     "name": "stdout",
     "output_type": "stream",
     "text": [
      "Training on iteration 1. Current time: 2024-05-19 06:56:07. Total running time: 5hr 15min 42s\n"
     ]
    },
    {
     "name": "stdout",
     "output_type": "stream",
     "text": [
      "Training on iteration 1. Current time: 2024-05-19 06:56:37. Total running time: 5hr 16min 12s\n"
     ]
    },
    {
     "name": "stdout",
     "output_type": "stream",
     "text": [
      "Training on iteration 1. Current time: 2024-05-19 06:57:07. Total running time: 5hr 16min 42s\n"
     ]
    },
    {
     "name": "stdout",
     "output_type": "stream",
     "text": [
      "Training on iteration 1. Current time: 2024-05-19 06:57:37. Total running time: 5hr 17min 12s\n"
     ]
    },
    {
     "name": "stdout",
     "output_type": "stream",
     "text": [
      "Training on iteration 1. Current time: 2024-05-19 06:58:07. Total running time: 5hr 17min 42s\n"
     ]
    },
    {
     "name": "stdout",
     "output_type": "stream",
     "text": [
      "Training on iteration 1. Current time: 2024-05-19 06:58:37. Total running time: 5hr 18min 12s\n"
     ]
    },
    {
     "name": "stdout",
     "output_type": "stream",
     "text": [
      "Training on iteration 1. Current time: 2024-05-19 06:59:07. Total running time: 5hr 18min 42s\n"
     ]
    },
    {
     "name": "stdout",
     "output_type": "stream",
     "text": [
      "Training on iteration 1. Current time: 2024-05-19 06:59:37. Total running time: 5hr 19min 12s\n"
     ]
    },
    {
     "name": "stdout",
     "output_type": "stream",
     "text": [
      "Training on iteration 1. Current time: 2024-05-19 07:00:07. Total running time: 5hr 19min 42s\n"
     ]
    },
    {
     "name": "stdout",
     "output_type": "stream",
     "text": [
      "Training on iteration 1. Current time: 2024-05-19 07:00:37. Total running time: 5hr 20min 12s\n"
     ]
    },
    {
     "name": "stdout",
     "output_type": "stream",
     "text": [
      "Training on iteration 1. Current time: 2024-05-19 07:01:07. Total running time: 5hr 20min 43s\n"
     ]
    },
    {
     "name": "stdout",
     "output_type": "stream",
     "text": [
      "Training on iteration 1. Current time: 2024-05-19 07:01:37. Total running time: 5hr 21min 13s\n"
     ]
    },
    {
     "name": "stdout",
     "output_type": "stream",
     "text": [
      "Training on iteration 1. Current time: 2024-05-19 07:02:07. Total running time: 5hr 21min 43s\n"
     ]
    },
    {
     "name": "stdout",
     "output_type": "stream",
     "text": [
      "Training on iteration 1. Current time: 2024-05-19 07:02:37. Total running time: 5hr 22min 13s\n"
     ]
    },
    {
     "name": "stdout",
     "output_type": "stream",
     "text": [
      "Training on iteration 1. Current time: 2024-05-19 07:03:07. Total running time: 5hr 22min 43s\n"
     ]
    },
    {
     "name": "stdout",
     "output_type": "stream",
     "text": [
      "Training on iteration 1. Current time: 2024-05-19 07:03:37. Total running time: 5hr 23min 13s\n"
     ]
    },
    {
     "name": "stdout",
     "output_type": "stream",
     "text": [
      "Training on iteration 1. Current time: 2024-05-19 07:04:07. Total running time: 5hr 23min 43s\n"
     ]
    },
    {
     "name": "stdout",
     "output_type": "stream",
     "text": [
      "Training on iteration 1. Current time: 2024-05-19 07:04:37. Total running time: 5hr 24min 13s\n"
     ]
    },
    {
     "name": "stdout",
     "output_type": "stream",
     "text": [
      "Training on iteration 1. Current time: 2024-05-19 07:05:07. Total running time: 5hr 24min 43s\n"
     ]
    },
    {
     "name": "stdout",
     "output_type": "stream",
     "text": [
      "Training on iteration 1. Current time: 2024-05-19 07:05:37. Total running time: 5hr 25min 13s\n"
     ]
    },
    {
     "name": "stdout",
     "output_type": "stream",
     "text": [
      "Training on iteration 1. Current time: 2024-05-19 07:06:07. Total running time: 5hr 25min 43s\n"
     ]
    },
    {
     "name": "stdout",
     "output_type": "stream",
     "text": [
      "Training on iteration 1. Current time: 2024-05-19 07:06:38. Total running time: 5hr 26min 13s\n"
     ]
    },
    {
     "name": "stdout",
     "output_type": "stream",
     "text": [
      "Training on iteration 1. Current time: 2024-05-19 07:07:08. Total running time: 5hr 26min 43s\n"
     ]
    },
    {
     "name": "stdout",
     "output_type": "stream",
     "text": [
      "Training on iteration 1. Current time: 2024-05-19 07:07:38. Total running time: 5hr 27min 13s\n"
     ]
    },
    {
     "name": "stdout",
     "output_type": "stream",
     "text": [
      "Training on iteration 1. Current time: 2024-05-19 07:08:08. Total running time: 5hr 27min 43s\n"
     ]
    },
    {
     "name": "stdout",
     "output_type": "stream",
     "text": [
      "Training on iteration 1. Current time: 2024-05-19 07:08:38. Total running time: 5hr 28min 13s\n"
     ]
    },
    {
     "name": "stdout",
     "output_type": "stream",
     "text": [
      "Training on iteration 1. Current time: 2024-05-19 07:09:08. Total running time: 5hr 28min 43s\n"
     ]
    },
    {
     "name": "stdout",
     "output_type": "stream",
     "text": [
      "Training on iteration 1. Current time: 2024-05-19 07:09:38. Total running time: 5hr 29min 13s\n"
     ]
    },
    {
     "name": "stdout",
     "output_type": "stream",
     "text": [
      "Training on iteration 1. Current time: 2024-05-19 07:10:08. Total running time: 5hr 29min 43s\n"
     ]
    },
    {
     "name": "stdout",
     "output_type": "stream",
     "text": [
      "Training on iteration 1. Current time: 2024-05-19 07:10:38. Total running time: 5hr 30min 13s\n"
     ]
    },
    {
     "name": "stdout",
     "output_type": "stream",
     "text": [
      "Training on iteration 1. Current time: 2024-05-19 07:11:08. Total running time: 5hr 30min 43s\n"
     ]
    },
    {
     "name": "stdout",
     "output_type": "stream",
     "text": [
      "Training on iteration 1. Current time: 2024-05-19 07:11:38. Total running time: 5hr 31min 13s\n"
     ]
    },
    {
     "name": "stdout",
     "output_type": "stream",
     "text": [
      "Training on iteration 1. Current time: 2024-05-19 07:12:08. Total running time: 5hr 31min 43s\n"
     ]
    },
    {
     "name": "stdout",
     "output_type": "stream",
     "text": [
      "Training on iteration 1. Current time: 2024-05-19 07:12:38. Total running time: 5hr 32min 13s\n"
     ]
    },
    {
     "name": "stdout",
     "output_type": "stream",
     "text": [
      "Training on iteration 1. Current time: 2024-05-19 07:13:08. Total running time: 5hr 32min 43s\n"
     ]
    },
    {
     "name": "stdout",
     "output_type": "stream",
     "text": [
      "Training on iteration 1. Current time: 2024-05-19 07:13:38. Total running time: 5hr 33min 13s\n"
     ]
    },
    {
     "name": "stdout",
     "output_type": "stream",
     "text": [
      "Training on iteration 1. Current time: 2024-05-19 07:14:08. Total running time: 5hr 33min 43s\n"
     ]
    },
    {
     "name": "stdout",
     "output_type": "stream",
     "text": [
      "Training on iteration 1. Current time: 2024-05-19 07:14:38. Total running time: 5hr 34min 13s\n"
     ]
    },
    {
     "name": "stdout",
     "output_type": "stream",
     "text": [
      "Training on iteration 1. Current time: 2024-05-19 07:15:08. Total running time: 5hr 34min 43s\n"
     ]
    },
    {
     "name": "stdout",
     "output_type": "stream",
     "text": [
      "Training on iteration 1. Current time: 2024-05-19 07:15:38. Total running time: 5hr 35min 13s\n"
     ]
    },
    {
     "name": "stdout",
     "output_type": "stream",
     "text": [
      "Training on iteration 1. Current time: 2024-05-19 07:16:08. Total running time: 5hr 35min 43s\n"
     ]
    },
    {
     "name": "stdout",
     "output_type": "stream",
     "text": [
      "Training on iteration 1. Current time: 2024-05-19 07:16:38. Total running time: 5hr 36min 13s\n"
     ]
    },
    {
     "name": "stdout",
     "output_type": "stream",
     "text": [
      "Training on iteration 1. Current time: 2024-05-19 07:17:08. Total running time: 5hr 36min 43s\n"
     ]
    },
    {
     "name": "stdout",
     "output_type": "stream",
     "text": [
      "Training on iteration 1. Current time: 2024-05-19 07:17:38. Total running time: 5hr 37min 13s\n"
     ]
    },
    {
     "name": "stdout",
     "output_type": "stream",
     "text": [
      "Training on iteration 1. Current time: 2024-05-19 07:18:08. Total running time: 5hr 37min 43s\n"
     ]
    },
    {
     "name": "stdout",
     "output_type": "stream",
     "text": [
      "Training on iteration 1. Current time: 2024-05-19 07:18:38. Total running time: 5hr 38min 13s\n"
     ]
    },
    {
     "name": "stdout",
     "output_type": "stream",
     "text": [
      "Training on iteration 1. Current time: 2024-05-19 07:19:08. Total running time: 5hr 38min 43s\n"
     ]
    },
    {
     "name": "stdout",
     "output_type": "stream",
     "text": [
      "Training on iteration 1. Current time: 2024-05-19 07:19:38. Total running time: 5hr 39min 13s\n"
     ]
    },
    {
     "name": "stdout",
     "output_type": "stream",
     "text": [
      "Training on iteration 1. Current time: 2024-05-19 07:20:08. Total running time: 5hr 39min 43s\n"
     ]
    },
    {
     "name": "stdout",
     "output_type": "stream",
     "text": [
      "Training on iteration 1. Current time: 2024-05-19 07:20:38. Total running time: 5hr 40min 13s\n"
     ]
    },
    {
     "name": "stderr",
     "output_type": "stream",
     "text": [
      "\u001b[36m(RayTrainWorker pid=913)\u001b[0m Epoch 17499, global step 70000: 'train_mape' was not in top 1\n"
     ]
    },
    {
     "name": "stderr",
     "output_type": "stream",
     "text": [
      "\u001b[36m(RayTrainWorker pid=912)\u001b[0m Epoch 14999, global step 60000: 'train_mape' reached 0.00518 (best 0.00518), saving model to '/kaggle/working/gnnepcsaft/train/checkpoints/model8_1-epoch=14999-train_mape=0.0052.ckpt' as top 1\n"
     ]
    },
    {
     "name": "stderr",
     "output_type": "stream",
     "text": [
      "\u001b[36m(RayTrainWorker pid=911)\u001b[0m Epoch 19999, global step 80000: 'train_mape' was not in top 1\n"
     ]
    },
    {
     "name": "stderr",
     "output_type": "stream",
     "text": [
      "\u001b[36m(RayTrainWorker pid=913)\u001b[0m Epoch 18749, global step 75000: 'mape_den' was not in top 1\n"
     ]
    },
    {
     "name": "stdout",
     "output_type": "stream",
     "text": [
      "Training on iteration 1. Current time: 2024-05-19 07:21:08. Total running time: 5hr 40min 43s\n"
     ]
    },
    {
     "name": "stdout",
     "output_type": "stream",
     "text": [
      "Training on iteration 1. Current time: 2024-05-19 07:21:38. Total running time: 5hr 41min 13s\n"
     ]
    },
    {
     "name": "stdout",
     "output_type": "stream",
     "text": [
      "Training on iteration 1. Current time: 2024-05-19 07:22:08. Total running time: 5hr 41min 43s\n"
     ]
    },
    {
     "name": "stdout",
     "output_type": "stream",
     "text": [
      "Training on iteration 1. Current time: 2024-05-19 07:22:38. Total running time: 5hr 42min 13s\n"
     ]
    },
    {
     "name": "stdout",
     "output_type": "stream",
     "text": [
      "Training on iteration 1. Current time: 2024-05-19 07:23:08. Total running time: 5hr 42min 43s\n"
     ]
    },
    {
     "name": "stdout",
     "output_type": "stream",
     "text": [
      "Training on iteration 1. Current time: 2024-05-19 07:23:38. Total running time: 5hr 43min 13s\n"
     ]
    },
    {
     "name": "stdout",
     "output_type": "stream",
     "text": [
      "Training on iteration 1. Current time: 2024-05-19 07:24:08. Total running time: 5hr 43min 44s\n"
     ]
    },
    {
     "name": "stdout",
     "output_type": "stream",
     "text": [
      "Training on iteration 1. Current time: 2024-05-19 07:24:38. Total running time: 5hr 44min 14s\n"
     ]
    },
    {
     "name": "stdout",
     "output_type": "stream",
     "text": [
      "Training on iteration 1. Current time: 2024-05-19 07:25:08. Total running time: 5hr 44min 44s\n"
     ]
    },
    {
     "name": "stdout",
     "output_type": "stream",
     "text": [
      "Training on iteration 1. Current time: 2024-05-19 07:25:38. Total running time: 5hr 45min 14s\n"
     ]
    },
    {
     "name": "stdout",
     "output_type": "stream",
     "text": [
      "Training on iteration 1. Current time: 2024-05-19 07:26:08. Total running time: 5hr 45min 44s\n"
     ]
    },
    {
     "name": "stdout",
     "output_type": "stream",
     "text": [
      "Training on iteration 1. Current time: 2024-05-19 07:26:38. Total running time: 5hr 46min 14s\n"
     ]
    },
    {
     "name": "stdout",
     "output_type": "stream",
     "text": [
      "Training on iteration 1. Current time: 2024-05-19 07:27:08. Total running time: 5hr 46min 44s\n"
     ]
    },
    {
     "name": "stdout",
     "output_type": "stream",
     "text": [
      "Training on iteration 1. Current time: 2024-05-19 07:27:38. Total running time: 5hr 47min 14s\n"
     ]
    },
    {
     "name": "stdout",
     "output_type": "stream",
     "text": [
      "Training on iteration 1. Current time: 2024-05-19 07:28:08. Total running time: 5hr 47min 44s\n"
     ]
    },
    {
     "name": "stdout",
     "output_type": "stream",
     "text": [
      "Training on iteration 1. Current time: 2024-05-19 07:28:38. Total running time: 5hr 48min 14s\n"
     ]
    },
    {
     "name": "stdout",
     "output_type": "stream",
     "text": [
      "Training on iteration 1. Current time: 2024-05-19 07:29:08. Total running time: 5hr 48min 44s\n"
     ]
    },
    {
     "name": "stdout",
     "output_type": "stream",
     "text": [
      "Training on iteration 1. Current time: 2024-05-19 07:29:38. Total running time: 5hr 49min 14s\n"
     ]
    },
    {
     "name": "stdout",
     "output_type": "stream",
     "text": [
      "Training on iteration 1. Current time: 2024-05-19 07:30:08. Total running time: 5hr 49min 44s\n"
     ]
    },
    {
     "name": "stdout",
     "output_type": "stream",
     "text": [
      "Training on iteration 1. Current time: 2024-05-19 07:30:38. Total running time: 5hr 50min 14s\n"
     ]
    },
    {
     "name": "stdout",
     "output_type": "stream",
     "text": [
      "Training on iteration 1. Current time: 2024-05-19 07:31:09. Total running time: 5hr 50min 44s\n"
     ]
    },
    {
     "name": "stdout",
     "output_type": "stream",
     "text": [
      "Training on iteration 1. Current time: 2024-05-19 07:31:39. Total running time: 5hr 51min 14s\n"
     ]
    },
    {
     "name": "stdout",
     "output_type": "stream",
     "text": [
      "Training on iteration 1. Current time: 2024-05-19 07:32:09. Total running time: 5hr 51min 44s\n"
     ]
    },
    {
     "name": "stdout",
     "output_type": "stream",
     "text": [
      "Training on iteration 1. Current time: 2024-05-19 07:32:39. Total running time: 5hr 52min 14s\n"
     ]
    },
    {
     "name": "stdout",
     "output_type": "stream",
     "text": [
      "Training on iteration 1. Current time: 2024-05-19 07:33:09. Total running time: 5hr 52min 44s\n"
     ]
    },
    {
     "name": "stdout",
     "output_type": "stream",
     "text": [
      "Training on iteration 1. Current time: 2024-05-19 07:33:39. Total running time: 5hr 53min 14s\n"
     ]
    },
    {
     "name": "stdout",
     "output_type": "stream",
     "text": [
      "Training on iteration 1. Current time: 2024-05-19 07:34:09. Total running time: 5hr 53min 44s\n"
     ]
    },
    {
     "name": "stdout",
     "output_type": "stream",
     "text": [
      "Training on iteration 1. Current time: 2024-05-19 07:34:39. Total running time: 5hr 54min 14s\n"
     ]
    },
    {
     "name": "stdout",
     "output_type": "stream",
     "text": [
      "Training on iteration 1. Current time: 2024-05-19 07:35:09. Total running time: 5hr 54min 44s\n"
     ]
    },
    {
     "name": "stdout",
     "output_type": "stream",
     "text": [
      "Training on iteration 1. Current time: 2024-05-19 07:35:39. Total running time: 5hr 55min 14s\n"
     ]
    },
    {
     "name": "stdout",
     "output_type": "stream",
     "text": [
      "Training on iteration 1. Current time: 2024-05-19 07:36:09. Total running time: 5hr 55min 44s\n"
     ]
    },
    {
     "name": "stdout",
     "output_type": "stream",
     "text": [
      "Training on iteration 1. Current time: 2024-05-19 07:36:39. Total running time: 5hr 56min 14s\n"
     ]
    },
    {
     "name": "stdout",
     "output_type": "stream",
     "text": [
      "Training on iteration 1. Current time: 2024-05-19 07:37:09. Total running time: 5hr 56min 44s\n"
     ]
    },
    {
     "name": "stdout",
     "output_type": "stream",
     "text": [
      "Training on iteration 1. Current time: 2024-05-19 07:37:39. Total running time: 5hr 57min 14s\n"
     ]
    },
    {
     "name": "stdout",
     "output_type": "stream",
     "text": [
      "Training on iteration 1. Current time: 2024-05-19 07:38:09. Total running time: 5hr 57min 44s\n"
     ]
    },
    {
     "name": "stdout",
     "output_type": "stream",
     "text": [
      "Training on iteration 1. Current time: 2024-05-19 07:38:39. Total running time: 5hr 58min 14s\n"
     ]
    },
    {
     "name": "stdout",
     "output_type": "stream",
     "text": [
      "Training on iteration 1. Current time: 2024-05-19 07:39:09. Total running time: 5hr 58min 44s\n"
     ]
    },
    {
     "name": "stdout",
     "output_type": "stream",
     "text": [
      "Training on iteration 1. Current time: 2024-05-19 07:39:39. Total running time: 5hr 59min 14s\n"
     ]
    },
    {
     "name": "stdout",
     "output_type": "stream",
     "text": [
      "Training on iteration 1. Current time: 2024-05-19 07:40:09. Total running time: 5hr 59min 44s\n"
     ]
    },
    {
     "name": "stdout",
     "output_type": "stream",
     "text": [
      "Training on iteration 1. Current time: 2024-05-19 07:40:39. Total running time: 6hr 0min 14s\n"
     ]
    },
    {
     "name": "stdout",
     "output_type": "stream",
     "text": [
      "Training on iteration 1. Current time: 2024-05-19 07:41:09. Total running time: 6hr 0min 44s\n"
     ]
    },
    {
     "name": "stdout",
     "output_type": "stream",
     "text": [
      "Training on iteration 1. Current time: 2024-05-19 07:41:39. Total running time: 6hr 1min 14s\n"
     ]
    },
    {
     "name": "stdout",
     "output_type": "stream",
     "text": [
      "Training on iteration 1. Current time: 2024-05-19 07:42:09. Total running time: 6hr 1min 44s\n"
     ]
    },
    {
     "name": "stdout",
     "output_type": "stream",
     "text": [
      "Training on iteration 1. Current time: 2024-05-19 07:42:39. Total running time: 6hr 2min 14s\n"
     ]
    },
    {
     "name": "stdout",
     "output_type": "stream",
     "text": [
      "Training on iteration 1. Current time: 2024-05-19 07:43:09. Total running time: 6hr 2min 44s\n"
     ]
    },
    {
     "name": "stdout",
     "output_type": "stream",
     "text": [
      "Training on iteration 1. Current time: 2024-05-19 07:43:39. Total running time: 6hr 3min 14s\n"
     ]
    },
    {
     "name": "stdout",
     "output_type": "stream",
     "text": [
      "Training on iteration 1. Current time: 2024-05-19 07:44:09. Total running time: 6hr 3min 44s\n"
     ]
    },
    {
     "name": "stdout",
     "output_type": "stream",
     "text": [
      "Training on iteration 1. Current time: 2024-05-19 07:44:39. Total running time: 6hr 4min 14s\n"
     ]
    },
    {
     "name": "stdout",
     "output_type": "stream",
     "text": [
      "Training on iteration 1. Current time: 2024-05-19 07:45:09. Total running time: 6hr 4min 44s\n"
     ]
    },
    {
     "name": "stdout",
     "output_type": "stream",
     "text": [
      "Training on iteration 1. Current time: 2024-05-19 07:45:39. Total running time: 6hr 5min 14s\n"
     ]
    },
    {
     "name": "stdout",
     "output_type": "stream",
     "text": [
      "Training on iteration 1. Current time: 2024-05-19 07:46:09. Total running time: 6hr 5min 44s\n"
     ]
    },
    {
     "name": "stdout",
     "output_type": "stream",
     "text": [
      "Training on iteration 1. Current time: 2024-05-19 07:46:39. Total running time: 6hr 6min 14s\n"
     ]
    },
    {
     "name": "stdout",
     "output_type": "stream",
     "text": [
      "Training on iteration 1. Current time: 2024-05-19 07:47:09. Total running time: 6hr 6min 44s\n"
     ]
    },
    {
     "name": "stdout",
     "output_type": "stream",
     "text": [
      "Training on iteration 1. Current time: 2024-05-19 07:47:39. Total running time: 6hr 7min 14s\n"
     ]
    },
    {
     "name": "stdout",
     "output_type": "stream",
     "text": [
      "Training on iteration 1. Current time: 2024-05-19 07:48:09. Total running time: 6hr 7min 44s\n"
     ]
    },
    {
     "name": "stdout",
     "output_type": "stream",
     "text": [
      "Training on iteration 1. Current time: 2024-05-19 07:48:39. Total running time: 6hr 8min 14s\n"
     ]
    },
    {
     "name": "stdout",
     "output_type": "stream",
     "text": [
      "Training on iteration 1. Current time: 2024-05-19 07:49:09. Total running time: 6hr 8min 44s\n"
     ]
    },
    {
     "name": "stdout",
     "output_type": "stream",
     "text": [
      "Training on iteration 1. Current time: 2024-05-19 07:49:39. Total running time: 6hr 9min 14s\n"
     ]
    },
    {
     "name": "stdout",
     "output_type": "stream",
     "text": [
      "Training on iteration 1. Current time: 2024-05-19 07:50:09. Total running time: 6hr 9min 44s\n"
     ]
    },
    {
     "name": "stdout",
     "output_type": "stream",
     "text": [
      "Training on iteration 1. Current time: 2024-05-19 07:50:39. Total running time: 6hr 10min 14s\n"
     ]
    },
    {
     "name": "stdout",
     "output_type": "stream",
     "text": [
      "Training on iteration 1. Current time: 2024-05-19 07:51:09. Total running time: 6hr 10min 44s\n"
     ]
    },
    {
     "name": "stdout",
     "output_type": "stream",
     "text": [
      "Training on iteration 1. Current time: 2024-05-19 07:51:39. Total running time: 6hr 11min 14s\n"
     ]
    },
    {
     "name": "stdout",
     "output_type": "stream",
     "text": [
      "Training on iteration 1. Current time: 2024-05-19 07:52:09. Total running time: 6hr 11min 44s\n"
     ]
    },
    {
     "name": "stdout",
     "output_type": "stream",
     "text": [
      "Training on iteration 1. Current time: 2024-05-19 07:52:39. Total running time: 6hr 12min 14s\n"
     ]
    },
    {
     "name": "stdout",
     "output_type": "stream",
     "text": [
      "Training on iteration 1. Current time: 2024-05-19 07:53:09. Total running time: 6hr 12min 44s\n"
     ]
    },
    {
     "name": "stdout",
     "output_type": "stream",
     "text": [
      "Training on iteration 1. Current time: 2024-05-19 07:53:39. Total running time: 6hr 13min 14s\n"
     ]
    },
    {
     "name": "stdout",
     "output_type": "stream",
     "text": [
      "Training on iteration 1. Current time: 2024-05-19 07:54:09. Total running time: 6hr 13min 44s\n"
     ]
    },
    {
     "name": "stdout",
     "output_type": "stream",
     "text": [
      "Training on iteration 1. Current time: 2024-05-19 07:54:39. Total running time: 6hr 14min 14s\n"
     ]
    },
    {
     "name": "stdout",
     "output_type": "stream",
     "text": [
      "Training on iteration 1. Current time: 2024-05-19 07:55:09. Total running time: 6hr 14min 44s\n"
     ]
    },
    {
     "name": "stdout",
     "output_type": "stream",
     "text": [
      "Training on iteration 1. Current time: 2024-05-19 07:55:39. Total running time: 6hr 15min 15s\n"
     ]
    },
    {
     "name": "stdout",
     "output_type": "stream",
     "text": [
      "Training on iteration 1. Current time: 2024-05-19 07:56:09. Total running time: 6hr 15min 45s\n"
     ]
    },
    {
     "name": "stdout",
     "output_type": "stream",
     "text": [
      "Training on iteration 1. Current time: 2024-05-19 07:56:39. Total running time: 6hr 16min 15s\n"
     ]
    },
    {
     "name": "stdout",
     "output_type": "stream",
     "text": [
      "Training on iteration 1. Current time: 2024-05-19 07:57:09. Total running time: 6hr 16min 45s\n"
     ]
    },
    {
     "name": "stdout",
     "output_type": "stream",
     "text": [
      "Training on iteration 1. Current time: 2024-05-19 07:57:39. Total running time: 6hr 17min 15s\n"
     ]
    },
    {
     "name": "stdout",
     "output_type": "stream",
     "text": [
      "Training on iteration 1. Current time: 2024-05-19 07:58:09. Total running time: 6hr 17min 45s\n"
     ]
    },
    {
     "name": "stdout",
     "output_type": "stream",
     "text": [
      "Training on iteration 1. Current time: 2024-05-19 07:58:39. Total running time: 6hr 18min 15s\n"
     ]
    },
    {
     "name": "stdout",
     "output_type": "stream",
     "text": [
      "Training on iteration 1. Current time: 2024-05-19 07:59:09. Total running time: 6hr 18min 45s\n"
     ]
    },
    {
     "name": "stdout",
     "output_type": "stream",
     "text": [
      "Training on iteration 1. Current time: 2024-05-19 07:59:39. Total running time: 6hr 19min 15s\n"
     ]
    },
    {
     "name": "stdout",
     "output_type": "stream",
     "text": [
      "Training on iteration 1. Current time: 2024-05-19 08:00:09. Total running time: 6hr 19min 45s\n"
     ]
    },
    {
     "name": "stdout",
     "output_type": "stream",
     "text": [
      "Training on iteration 1. Current time: 2024-05-19 08:00:39. Total running time: 6hr 20min 15s\n"
     ]
    },
    {
     "name": "stdout",
     "output_type": "stream",
     "text": [
      "Training on iteration 1. Current time: 2024-05-19 08:01:09. Total running time: 6hr 20min 45s\n"
     ]
    },
    {
     "name": "stdout",
     "output_type": "stream",
     "text": [
      "Training on iteration 1. Current time: 2024-05-19 08:01:39. Total running time: 6hr 21min 15s\n"
     ]
    },
    {
     "name": "stdout",
     "output_type": "stream",
     "text": [
      "Training on iteration 1. Current time: 2024-05-19 08:02:10. Total running time: 6hr 21min 45s\n"
     ]
    },
    {
     "name": "stdout",
     "output_type": "stream",
     "text": [
      "Training on iteration 1. Current time: 2024-05-19 08:02:40. Total running time: 6hr 22min 15s\n"
     ]
    },
    {
     "name": "stdout",
     "output_type": "stream",
     "text": [
      "Training on iteration 1. Current time: 2024-05-19 08:03:10. Total running time: 6hr 22min 45s\n"
     ]
    },
    {
     "name": "stdout",
     "output_type": "stream",
     "text": [
      "Training on iteration 1. Current time: 2024-05-19 08:03:40. Total running time: 6hr 23min 15s\n"
     ]
    },
    {
     "name": "stdout",
     "output_type": "stream",
     "text": [
      "Training on iteration 1. Current time: 2024-05-19 08:04:10. Total running time: 6hr 23min 45s\n"
     ]
    },
    {
     "name": "stderr",
     "output_type": "stream",
     "text": [
      "\u001b[36m(RayTrainWorker pid=913)\u001b[0m Epoch 19999, global step 80000: 'train_mape' reached 0.00583 (best 0.00583), saving model to '/kaggle/working/gnnepcsaft/train/checkpoints/model8_2-epoch=19999-train_mape=0.0058.ckpt' as top 1\n"
     ]
    },
    {
     "name": "stderr",
     "output_type": "stream",
     "text": [
      "\u001b[36m(RayTrainWorker pid=911)\u001b[0m Epoch 22499, global step 90000: 'train_mape' was not in top 1\n"
     ]
    },
    {
     "name": "stderr",
     "output_type": "stream",
     "text": [
      "\u001b[36m(RayTrainWorker pid=912)\u001b[0m Epoch 17499, global step 70000: 'train_mape' was not in top 1\n"
     ]
    },
    {
     "name": "stdout",
     "output_type": "stream",
     "text": [
      "Training on iteration 1. Current time: 2024-05-19 08:04:40. Total running time: 6hr 24min 15s\n"
     ]
    },
    {
     "name": "stdout",
     "output_type": "stream",
     "text": [
      "Training on iteration 1. Current time: 2024-05-19 08:05:10. Total running time: 6hr 24min 45s\n"
     ]
    },
    {
     "name": "stdout",
     "output_type": "stream",
     "text": [
      "Training on iteration 1. Current time: 2024-05-19 08:05:40. Total running time: 6hr 25min 15s\n"
     ]
    },
    {
     "name": "stdout",
     "output_type": "stream",
     "text": [
      "Training on iteration 1. Current time: 2024-05-19 08:06:10. Total running time: 6hr 25min 45s\n"
     ]
    },
    {
     "name": "stdout",
     "output_type": "stream",
     "text": [
      "Training on iteration 1. Current time: 2024-05-19 08:06:40. Total running time: 6hr 26min 15s\n"
     ]
    },
    {
     "name": "stdout",
     "output_type": "stream",
     "text": [
      "Training on iteration 1. Current time: 2024-05-19 08:07:10. Total running time: 6hr 26min 45s\n"
     ]
    },
    {
     "name": "stdout",
     "output_type": "stream",
     "text": [
      "Training on iteration 1. Current time: 2024-05-19 08:07:40. Total running time: 6hr 27min 15s\n"
     ]
    },
    {
     "name": "stdout",
     "output_type": "stream",
     "text": [
      "Training on iteration 1. Current time: 2024-05-19 08:08:10. Total running time: 6hr 27min 45s\n"
     ]
    },
    {
     "name": "stdout",
     "output_type": "stream",
     "text": [
      "Training on iteration 1. Current time: 2024-05-19 08:08:40. Total running time: 6hr 28min 15s\n"
     ]
    },
    {
     "name": "stdout",
     "output_type": "stream",
     "text": [
      "Training on iteration 1. Current time: 2024-05-19 08:09:10. Total running time: 6hr 28min 45s\n"
     ]
    },
    {
     "name": "stdout",
     "output_type": "stream",
     "text": [
      "Training on iteration 1. Current time: 2024-05-19 08:09:40. Total running time: 6hr 29min 15s\n"
     ]
    },
    {
     "name": "stdout",
     "output_type": "stream",
     "text": [
      "Training on iteration 1. Current time: 2024-05-19 08:10:10. Total running time: 6hr 29min 45s\n"
     ]
    },
    {
     "name": "stdout",
     "output_type": "stream",
     "text": [
      "Training on iteration 1. Current time: 2024-05-19 08:10:40. Total running time: 6hr 30min 15s\n"
     ]
    },
    {
     "name": "stdout",
     "output_type": "stream",
     "text": [
      "Training on iteration 1. Current time: 2024-05-19 08:11:10. Total running time: 6hr 30min 45s\n"
     ]
    },
    {
     "name": "stdout",
     "output_type": "stream",
     "text": [
      "Training on iteration 1. Current time: 2024-05-19 08:11:40. Total running time: 6hr 31min 15s\n"
     ]
    },
    {
     "name": "stdout",
     "output_type": "stream",
     "text": [
      "Training on iteration 1. Current time: 2024-05-19 08:12:10. Total running time: 6hr 31min 45s\n"
     ]
    },
    {
     "name": "stdout",
     "output_type": "stream",
     "text": [
      "Training on iteration 1. Current time: 2024-05-19 08:12:40. Total running time: 6hr 32min 15s\n"
     ]
    },
    {
     "name": "stdout",
     "output_type": "stream",
     "text": [
      "Training on iteration 1. Current time: 2024-05-19 08:13:10. Total running time: 6hr 32min 45s\n"
     ]
    },
    {
     "name": "stdout",
     "output_type": "stream",
     "text": [
      "Training on iteration 1. Current time: 2024-05-19 08:13:40. Total running time: 6hr 33min 15s\n"
     ]
    },
    {
     "name": "stdout",
     "output_type": "stream",
     "text": [
      "Training on iteration 1. Current time: 2024-05-19 08:14:10. Total running time: 6hr 33min 45s\n"
     ]
    },
    {
     "name": "stdout",
     "output_type": "stream",
     "text": [
      "Training on iteration 1. Current time: 2024-05-19 08:14:40. Total running time: 6hr 34min 15s\n"
     ]
    },
    {
     "name": "stdout",
     "output_type": "stream",
     "text": [
      "Training on iteration 1. Current time: 2024-05-19 08:15:10. Total running time: 6hr 34min 45s\n"
     ]
    },
    {
     "name": "stdout",
     "output_type": "stream",
     "text": [
      "Training on iteration 1. Current time: 2024-05-19 08:15:40. Total running time: 6hr 35min 15s\n"
     ]
    },
    {
     "name": "stdout",
     "output_type": "stream",
     "text": [
      "Training on iteration 1. Current time: 2024-05-19 08:16:10. Total running time: 6hr 35min 45s\n"
     ]
    },
    {
     "name": "stdout",
     "output_type": "stream",
     "text": [
      "Training on iteration 1. Current time: 2024-05-19 08:16:40. Total running time: 6hr 36min 15s\n"
     ]
    },
    {
     "name": "stdout",
     "output_type": "stream",
     "text": [
      "Training on iteration 1. Current time: 2024-05-19 08:17:10. Total running time: 6hr 36min 45s\n"
     ]
    },
    {
     "name": "stdout",
     "output_type": "stream",
     "text": [
      "Training on iteration 1. Current time: 2024-05-19 08:17:40. Total running time: 6hr 37min 15s\n"
     ]
    },
    {
     "name": "stdout",
     "output_type": "stream",
     "text": [
      "Training on iteration 1. Current time: 2024-05-19 08:18:10. Total running time: 6hr 37min 45s\n"
     ]
    },
    {
     "name": "stdout",
     "output_type": "stream",
     "text": [
      "Training on iteration 1. Current time: 2024-05-19 08:18:40. Total running time: 6hr 38min 15s\n"
     ]
    },
    {
     "name": "stdout",
     "output_type": "stream",
     "text": [
      "Training on iteration 1. Current time: 2024-05-19 08:19:10. Total running time: 6hr 38min 45s\n"
     ]
    },
    {
     "name": "stdout",
     "output_type": "stream",
     "text": [
      "Training on iteration 1. Current time: 2024-05-19 08:19:40. Total running time: 6hr 39min 15s\n"
     ]
    },
    {
     "name": "stdout",
     "output_type": "stream",
     "text": [
      "Training on iteration 1. Current time: 2024-05-19 08:20:10. Total running time: 6hr 39min 46s\n"
     ]
    },
    {
     "name": "stdout",
     "output_type": "stream",
     "text": [
      "Training on iteration 1. Current time: 2024-05-19 08:20:40. Total running time: 6hr 40min 16s\n"
     ]
    },
    {
     "name": "stdout",
     "output_type": "stream",
     "text": [
      "Training on iteration 1. Current time: 2024-05-19 08:21:10. Total running time: 6hr 40min 46s\n"
     ]
    },
    {
     "name": "stdout",
     "output_type": "stream",
     "text": [
      "Training on iteration 1. Current time: 2024-05-19 08:21:40. Total running time: 6hr 41min 16s\n"
     ]
    },
    {
     "name": "stdout",
     "output_type": "stream",
     "text": [
      "Training on iteration 1. Current time: 2024-05-19 08:22:10. Total running time: 6hr 41min 46s\n"
     ]
    },
    {
     "name": "stdout",
     "output_type": "stream",
     "text": [
      "Training on iteration 1. Current time: 2024-05-19 08:22:40. Total running time: 6hr 42min 16s\n"
     ]
    },
    {
     "name": "stdout",
     "output_type": "stream",
     "text": [
      "Training on iteration 1. Current time: 2024-05-19 08:23:10. Total running time: 6hr 42min 46s\n"
     ]
    },
    {
     "name": "stdout",
     "output_type": "stream",
     "text": [
      "Training on iteration 1. Current time: 2024-05-19 08:23:40. Total running time: 6hr 43min 16s\n"
     ]
    },
    {
     "name": "stdout",
     "output_type": "stream",
     "text": [
      "Training on iteration 1. Current time: 2024-05-19 08:24:10. Total running time: 6hr 43min 46s\n"
     ]
    },
    {
     "name": "stdout",
     "output_type": "stream",
     "text": [
      "Training on iteration 1. Current time: 2024-05-19 08:24:40. Total running time: 6hr 44min 16s\n"
     ]
    },
    {
     "name": "stdout",
     "output_type": "stream",
     "text": [
      "Training on iteration 1. Current time: 2024-05-19 08:25:11. Total running time: 6hr 44min 46s\n"
     ]
    },
    {
     "name": "stdout",
     "output_type": "stream",
     "text": [
      "Training on iteration 1. Current time: 2024-05-19 08:25:41. Total running time: 6hr 45min 16s\n"
     ]
    },
    {
     "name": "stdout",
     "output_type": "stream",
     "text": [
      "Training on iteration 1. Current time: 2024-05-19 08:26:11. Total running time: 6hr 45min 46s\n"
     ]
    },
    {
     "name": "stdout",
     "output_type": "stream",
     "text": [
      "Training on iteration 1. Current time: 2024-05-19 08:26:41. Total running time: 6hr 46min 16s\n"
     ]
    },
    {
     "name": "stdout",
     "output_type": "stream",
     "text": [
      "Training on iteration 1. Current time: 2024-05-19 08:27:11. Total running time: 6hr 46min 46s\n"
     ]
    },
    {
     "name": "stdout",
     "output_type": "stream",
     "text": [
      "Training on iteration 1. Current time: 2024-05-19 08:27:41. Total running time: 6hr 47min 16s\n"
     ]
    },
    {
     "name": "stdout",
     "output_type": "stream",
     "text": [
      "Training on iteration 1. Current time: 2024-05-19 08:28:11. Total running time: 6hr 47min 46s\n"
     ]
    },
    {
     "name": "stdout",
     "output_type": "stream",
     "text": [
      "Training on iteration 1. Current time: 2024-05-19 08:28:41. Total running time: 6hr 48min 16s\n"
     ]
    },
    {
     "name": "stdout",
     "output_type": "stream",
     "text": [
      "Training on iteration 1. Current time: 2024-05-19 08:29:11. Total running time: 6hr 48min 46s\n"
     ]
    },
    {
     "name": "stdout",
     "output_type": "stream",
     "text": [
      "Training on iteration 1. Current time: 2024-05-19 08:29:41. Total running time: 6hr 49min 16s\n"
     ]
    },
    {
     "name": "stdout",
     "output_type": "stream",
     "text": [
      "Training on iteration 1. Current time: 2024-05-19 08:30:11. Total running time: 6hr 49min 46s\n"
     ]
    },
    {
     "name": "stdout",
     "output_type": "stream",
     "text": [
      "Training on iteration 1. Current time: 2024-05-19 08:30:41. Total running time: 6hr 50min 16s\n"
     ]
    },
    {
     "name": "stdout",
     "output_type": "stream",
     "text": [
      "Training on iteration 1. Current time: 2024-05-19 08:31:11. Total running time: 6hr 50min 46s\n"
     ]
    },
    {
     "name": "stdout",
     "output_type": "stream",
     "text": [
      "Training on iteration 1. Current time: 2024-05-19 08:31:41. Total running time: 6hr 51min 16s\n"
     ]
    },
    {
     "name": "stdout",
     "output_type": "stream",
     "text": [
      "Training on iteration 1. Current time: 2024-05-19 08:32:11. Total running time: 6hr 51min 46s\n"
     ]
    },
    {
     "name": "stdout",
     "output_type": "stream",
     "text": [
      "Training on iteration 1. Current time: 2024-05-19 08:32:41. Total running time: 6hr 52min 16s\n"
     ]
    },
    {
     "name": "stdout",
     "output_type": "stream",
     "text": [
      "Training on iteration 1. Current time: 2024-05-19 08:33:11. Total running time: 6hr 52min 46s\n"
     ]
    },
    {
     "name": "stdout",
     "output_type": "stream",
     "text": [
      "Training on iteration 1. Current time: 2024-05-19 08:33:41. Total running time: 6hr 53min 16s\n"
     ]
    },
    {
     "name": "stdout",
     "output_type": "stream",
     "text": [
      "Training on iteration 1. Current time: 2024-05-19 08:34:11. Total running time: 6hr 53min 46s\n"
     ]
    },
    {
     "name": "stdout",
     "output_type": "stream",
     "text": [
      "Training on iteration 1. Current time: 2024-05-19 08:34:41. Total running time: 6hr 54min 16s\n"
     ]
    },
    {
     "name": "stdout",
     "output_type": "stream",
     "text": [
      "Training on iteration 1. Current time: 2024-05-19 08:35:11. Total running time: 6hr 54min 46s\n"
     ]
    },
    {
     "name": "stdout",
     "output_type": "stream",
     "text": [
      "Training on iteration 1. Current time: 2024-05-19 08:35:41. Total running time: 6hr 55min 16s\n"
     ]
    },
    {
     "name": "stdout",
     "output_type": "stream",
     "text": [
      "Training on iteration 1. Current time: 2024-05-19 08:36:11. Total running time: 6hr 55min 46s\n"
     ]
    },
    {
     "name": "stdout",
     "output_type": "stream",
     "text": [
      "Training on iteration 1. Current time: 2024-05-19 08:36:41. Total running time: 6hr 56min 16s\n"
     ]
    },
    {
     "name": "stdout",
     "output_type": "stream",
     "text": [
      "Training on iteration 1. Current time: 2024-05-19 08:37:11. Total running time: 6hr 56min 46s\n"
     ]
    },
    {
     "name": "stdout",
     "output_type": "stream",
     "text": [
      "Training on iteration 1. Current time: 2024-05-19 08:37:41. Total running time: 6hr 57min 16s\n"
     ]
    },
    {
     "name": "stdout",
     "output_type": "stream",
     "text": [
      "Training on iteration 1. Current time: 2024-05-19 08:38:11. Total running time: 6hr 57min 46s\n"
     ]
    },
    {
     "name": "stdout",
     "output_type": "stream",
     "text": [
      "Training on iteration 1. Current time: 2024-05-19 08:38:41. Total running time: 6hr 58min 16s\n"
     ]
    },
    {
     "name": "stdout",
     "output_type": "stream",
     "text": [
      "Training on iteration 1. Current time: 2024-05-19 08:39:11. Total running time: 6hr 58min 46s\n"
     ]
    },
    {
     "name": "stdout",
     "output_type": "stream",
     "text": [
      "Training on iteration 1. Current time: 2024-05-19 08:39:41. Total running time: 6hr 59min 16s\n"
     ]
    },
    {
     "name": "stdout",
     "output_type": "stream",
     "text": [
      "Training on iteration 1. Current time: 2024-05-19 08:40:11. Total running time: 6hr 59min 46s\n"
     ]
    },
    {
     "name": "stdout",
     "output_type": "stream",
     "text": [
      "Training on iteration 1. Current time: 2024-05-19 08:40:41. Total running time: 7hr 0min 16s\n"
     ]
    },
    {
     "name": "stdout",
     "output_type": "stream",
     "text": [
      "Training on iteration 1. Current time: 2024-05-19 08:41:11. Total running time: 7hr 0min 46s\n"
     ]
    },
    {
     "name": "stdout",
     "output_type": "stream",
     "text": [
      "Training on iteration 1. Current time: 2024-05-19 08:41:41. Total running time: 7hr 1min 16s\n"
     ]
    },
    {
     "name": "stdout",
     "output_type": "stream",
     "text": [
      "Training on iteration 1. Current time: 2024-05-19 08:42:11. Total running time: 7hr 1min 46s\n"
     ]
    },
    {
     "name": "stdout",
     "output_type": "stream",
     "text": [
      "Training on iteration 1. Current time: 2024-05-19 08:42:41. Total running time: 7hr 2min 16s\n"
     ]
    },
    {
     "name": "stdout",
     "output_type": "stream",
     "text": [
      "Training on iteration 1. Current time: 2024-05-19 08:43:11. Total running time: 7hr 2min 46s\n"
     ]
    },
    {
     "name": "stdout",
     "output_type": "stream",
     "text": [
      "Training on iteration 1. Current time: 2024-05-19 08:43:41. Total running time: 7hr 3min 16s\n"
     ]
    },
    {
     "name": "stdout",
     "output_type": "stream",
     "text": [
      "Training on iteration 1. Current time: 2024-05-19 08:44:11. Total running time: 7hr 3min 46s\n"
     ]
    },
    {
     "name": "stdout",
     "output_type": "stream",
     "text": [
      "Training on iteration 1. Current time: 2024-05-19 08:44:41. Total running time: 7hr 4min 16s\n"
     ]
    },
    {
     "name": "stdout",
     "output_type": "stream",
     "text": [
      "Training on iteration 1. Current time: 2024-05-19 08:45:11. Total running time: 7hr 4min 46s\n"
     ]
    },
    {
     "name": "stdout",
     "output_type": "stream",
     "text": [
      "Training on iteration 1. Current time: 2024-05-19 08:45:41. Total running time: 7hr 5min 16s\n"
     ]
    },
    {
     "name": "stdout",
     "output_type": "stream",
     "text": [
      "Training on iteration 1. Current time: 2024-05-19 08:46:11. Total running time: 7hr 5min 47s\n"
     ]
    },
    {
     "name": "stdout",
     "output_type": "stream",
     "text": [
      "Training on iteration 1. Current time: 2024-05-19 08:46:41. Total running time: 7hr 6min 17s\n"
     ]
    },
    {
     "name": "stdout",
     "output_type": "stream",
     "text": [
      "Training on iteration 1. Current time: 2024-05-19 08:47:11. Total running time: 7hr 6min 47s\n"
     ]
    },
    {
     "name": "stdout",
     "output_type": "stream",
     "text": [
      "Training on iteration 1. Current time: 2024-05-19 08:47:41. Total running time: 7hr 7min 17s\n"
     ]
    },
    {
     "name": "stderr",
     "output_type": "stream",
     "text": [
      "\u001b[36m(RayTrainWorker pid=912)\u001b[0m Epoch 18749, global step 75000: 'mape_den' reached 0.01676 (best 0.01676), saving model to '/kaggle/working/gnnepcsaft/train/checkpoints/model8_1-epoch=18749-mape_den=0.0168.ckpt' as top 1\n"
     ]
    },
    {
     "name": "stderr",
     "output_type": "stream",
     "text": [
      "\u001b[36m(RayTrainWorker pid=913)\u001b[0m Epoch 22499, global step 90000: 'train_mape' was not in top 1\n"
     ]
    },
    {
     "name": "stderr",
     "output_type": "stream",
     "text": [
      "\u001b[36m(RayTrainWorker pid=911)\u001b[0m Epoch 24999, global step 100000: 'mape_den' reached 0.01877 (best 0.01877), saving model to '/kaggle/working/gnnepcsaft/train/checkpoints/model8_0-epoch=24999-mape_den=0.0188.ckpt' as top 1\n"
     ]
    },
    {
     "name": "stderr",
     "output_type": "stream",
     "text": [
      "\u001b[36m(RayTrainWorker pid=911)\u001b[0m Epoch 24999, global step 100000: 'train_mape' was not in top 1\n"
     ]
    },
    {
     "name": "stderr",
     "output_type": "stream",
     "text": [
      "\u001b[36m(RayTrainWorker pid=912)\u001b[0m Epoch 19999, global step 80000: 'train_mape' was not in top 1\n"
     ]
    },
    {
     "name": "stdout",
     "output_type": "stream",
     "text": [
      "Training on iteration 1. Current time: 2024-05-19 08:48:11. Total running time: 7hr 7min 47s\n"
     ]
    },
    {
     "name": "stdout",
     "output_type": "stream",
     "text": [
      "Training on iteration 1. Current time: 2024-05-19 08:48:41. Total running time: 7hr 8min 17s\n"
     ]
    },
    {
     "name": "stdout",
     "output_type": "stream",
     "text": [
      "Training on iteration 1. Current time: 2024-05-19 08:49:11. Total running time: 7hr 8min 47s\n"
     ]
    },
    {
     "name": "stdout",
     "output_type": "stream",
     "text": [
      "Training on iteration 1. Current time: 2024-05-19 08:49:41. Total running time: 7hr 9min 17s\n"
     ]
    },
    {
     "name": "stdout",
     "output_type": "stream",
     "text": [
      "Training on iteration 1. Current time: 2024-05-19 08:50:11. Total running time: 7hr 9min 47s\n"
     ]
    },
    {
     "name": "stdout",
     "output_type": "stream",
     "text": [
      "Training on iteration 1. Current time: 2024-05-19 08:50:41. Total running time: 7hr 10min 17s\n"
     ]
    },
    {
     "name": "stdout",
     "output_type": "stream",
     "text": [
      "Training on iteration 1. Current time: 2024-05-19 08:51:11. Total running time: 7hr 10min 47s\n"
     ]
    },
    {
     "name": "stdout",
     "output_type": "stream",
     "text": [
      "Training on iteration 1. Current time: 2024-05-19 08:51:41. Total running time: 7hr 11min 17s\n"
     ]
    },
    {
     "name": "stdout",
     "output_type": "stream",
     "text": [
      "Training on iteration 1. Current time: 2024-05-19 08:52:11. Total running time: 7hr 11min 47s\n"
     ]
    },
    {
     "name": "stdout",
     "output_type": "stream",
     "text": [
      "Training on iteration 1. Current time: 2024-05-19 08:52:41. Total running time: 7hr 12min 17s\n"
     ]
    },
    {
     "name": "stdout",
     "output_type": "stream",
     "text": [
      "Training on iteration 1. Current time: 2024-05-19 08:53:12. Total running time: 7hr 12min 47s\n"
     ]
    },
    {
     "name": "stdout",
     "output_type": "stream",
     "text": [
      "Training on iteration 1. Current time: 2024-05-19 08:53:42. Total running time: 7hr 13min 17s\n"
     ]
    },
    {
     "name": "stdout",
     "output_type": "stream",
     "text": [
      "Training on iteration 1. Current time: 2024-05-19 08:54:12. Total running time: 7hr 13min 47s\n"
     ]
    },
    {
     "name": "stdout",
     "output_type": "stream",
     "text": [
      "Training on iteration 1. Current time: 2024-05-19 08:54:42. Total running time: 7hr 14min 17s\n"
     ]
    },
    {
     "name": "stdout",
     "output_type": "stream",
     "text": [
      "Training on iteration 1. Current time: 2024-05-19 08:55:12. Total running time: 7hr 14min 47s\n"
     ]
    },
    {
     "name": "stdout",
     "output_type": "stream",
     "text": [
      "Training on iteration 1. Current time: 2024-05-19 08:55:42. Total running time: 7hr 15min 17s\n"
     ]
    },
    {
     "name": "stdout",
     "output_type": "stream",
     "text": [
      "Training on iteration 1. Current time: 2024-05-19 08:56:12. Total running time: 7hr 15min 47s\n"
     ]
    },
    {
     "name": "stdout",
     "output_type": "stream",
     "text": [
      "Training on iteration 1. Current time: 2024-05-19 08:56:42. Total running time: 7hr 16min 17s\n"
     ]
    },
    {
     "name": "stdout",
     "output_type": "stream",
     "text": [
      "Training on iteration 1. Current time: 2024-05-19 08:57:12. Total running time: 7hr 16min 47s\n"
     ]
    },
    {
     "name": "stdout",
     "output_type": "stream",
     "text": [
      "Training on iteration 1. Current time: 2024-05-19 08:57:42. Total running time: 7hr 17min 17s\n"
     ]
    },
    {
     "name": "stdout",
     "output_type": "stream",
     "text": [
      "Training on iteration 1. Current time: 2024-05-19 08:58:12. Total running time: 7hr 17min 47s\n"
     ]
    },
    {
     "name": "stdout",
     "output_type": "stream",
     "text": [
      "Training on iteration 1. Current time: 2024-05-19 08:58:42. Total running time: 7hr 18min 17s\n"
     ]
    },
    {
     "name": "stdout",
     "output_type": "stream",
     "text": [
      "Training on iteration 1. Current time: 2024-05-19 08:59:12. Total running time: 7hr 18min 47s\n"
     ]
    },
    {
     "name": "stdout",
     "output_type": "stream",
     "text": [
      "Training on iteration 1. Current time: 2024-05-19 08:59:42. Total running time: 7hr 19min 17s\n"
     ]
    },
    {
     "name": "stdout",
     "output_type": "stream",
     "text": [
      "Training on iteration 1. Current time: 2024-05-19 09:00:12. Total running time: 7hr 19min 47s\n"
     ]
    },
    {
     "name": "stdout",
     "output_type": "stream",
     "text": [
      "Training on iteration 1. Current time: 2024-05-19 09:00:42. Total running time: 7hr 20min 17s\n"
     ]
    },
    {
     "name": "stdout",
     "output_type": "stream",
     "text": [
      "Training on iteration 1. Current time: 2024-05-19 09:01:12. Total running time: 7hr 20min 47s\n"
     ]
    },
    {
     "name": "stdout",
     "output_type": "stream",
     "text": [
      "Training on iteration 1. Current time: 2024-05-19 09:01:42. Total running time: 7hr 21min 17s\n"
     ]
    },
    {
     "name": "stdout",
     "output_type": "stream",
     "text": [
      "Training on iteration 1. Current time: 2024-05-19 09:02:12. Total running time: 7hr 21min 47s\n"
     ]
    },
    {
     "name": "stdout",
     "output_type": "stream",
     "text": [
      "Training on iteration 1. Current time: 2024-05-19 09:02:42. Total running time: 7hr 22min 17s\n"
     ]
    },
    {
     "name": "stdout",
     "output_type": "stream",
     "text": [
      "Training on iteration 1. Current time: 2024-05-19 09:03:12. Total running time: 7hr 22min 47s\n"
     ]
    },
    {
     "name": "stdout",
     "output_type": "stream",
     "text": [
      "Training on iteration 1. Current time: 2024-05-19 09:03:42. Total running time: 7hr 23min 17s\n"
     ]
    },
    {
     "name": "stdout",
     "output_type": "stream",
     "text": [
      "Training on iteration 1. Current time: 2024-05-19 09:04:12. Total running time: 7hr 23min 47s\n"
     ]
    },
    {
     "name": "stdout",
     "output_type": "stream",
     "text": [
      "Training on iteration 1. Current time: 2024-05-19 09:04:42. Total running time: 7hr 24min 17s\n"
     ]
    },
    {
     "name": "stdout",
     "output_type": "stream",
     "text": [
      "Training on iteration 1. Current time: 2024-05-19 09:05:12. Total running time: 7hr 24min 47s\n"
     ]
    },
    {
     "name": "stdout",
     "output_type": "stream",
     "text": [
      "Training on iteration 1. Current time: 2024-05-19 09:05:42. Total running time: 7hr 25min 17s\n"
     ]
    },
    {
     "name": "stdout",
     "output_type": "stream",
     "text": [
      "Training on iteration 1. Current time: 2024-05-19 09:06:12. Total running time: 7hr 25min 47s\n"
     ]
    },
    {
     "name": "stdout",
     "output_type": "stream",
     "text": [
      "Training on iteration 1. Current time: 2024-05-19 09:06:42. Total running time: 7hr 26min 17s\n"
     ]
    },
    {
     "name": "stdout",
     "output_type": "stream",
     "text": [
      "Training on iteration 1. Current time: 2024-05-19 09:07:12. Total running time: 7hr 26min 47s\n"
     ]
    },
    {
     "name": "stdout",
     "output_type": "stream",
     "text": [
      "Training on iteration 1. Current time: 2024-05-19 09:07:42. Total running time: 7hr 27min 17s\n"
     ]
    },
    {
     "name": "stdout",
     "output_type": "stream",
     "text": [
      "Training on iteration 1. Current time: 2024-05-19 09:08:12. Total running time: 7hr 27min 47s\n"
     ]
    },
    {
     "name": "stdout",
     "output_type": "stream",
     "text": [
      "Training on iteration 1. Current time: 2024-05-19 09:08:42. Total running time: 7hr 28min 17s\n"
     ]
    },
    {
     "name": "stdout",
     "output_type": "stream",
     "text": [
      "Training on iteration 1. Current time: 2024-05-19 09:09:12. Total running time: 7hr 28min 47s\n"
     ]
    },
    {
     "name": "stdout",
     "output_type": "stream",
     "text": [
      "Training on iteration 1. Current time: 2024-05-19 09:09:42. Total running time: 7hr 29min 17s\n"
     ]
    },
    {
     "name": "stdout",
     "output_type": "stream",
     "text": [
      "Training on iteration 1. Current time: 2024-05-19 09:10:12. Total running time: 7hr 29min 47s\n"
     ]
    },
    {
     "name": "stdout",
     "output_type": "stream",
     "text": [
      "Training on iteration 1. Current time: 2024-05-19 09:10:42. Total running time: 7hr 30min 17s\n"
     ]
    },
    {
     "name": "stdout",
     "output_type": "stream",
     "text": [
      "Training on iteration 1. Current time: 2024-05-19 09:11:12. Total running time: 7hr 30min 48s\n"
     ]
    },
    {
     "name": "stdout",
     "output_type": "stream",
     "text": [
      "Training on iteration 1. Current time: 2024-05-19 09:11:42. Total running time: 7hr 31min 18s\n"
     ]
    },
    {
     "name": "stdout",
     "output_type": "stream",
     "text": [
      "Training on iteration 1. Current time: 2024-05-19 09:12:12. Total running time: 7hr 31min 48s\n"
     ]
    },
    {
     "name": "stdout",
     "output_type": "stream",
     "text": [
      "Training on iteration 1. Current time: 2024-05-19 09:12:42. Total running time: 7hr 32min 18s\n"
     ]
    },
    {
     "name": "stdout",
     "output_type": "stream",
     "text": [
      "Training on iteration 1. Current time: 2024-05-19 09:13:12. Total running time: 7hr 32min 48s\n"
     ]
    },
    {
     "name": "stdout",
     "output_type": "stream",
     "text": [
      "Training on iteration 1. Current time: 2024-05-19 09:13:42. Total running time: 7hr 33min 18s\n"
     ]
    },
    {
     "name": "stdout",
     "output_type": "stream",
     "text": [
      "Training on iteration 1. Current time: 2024-05-19 09:14:12. Total running time: 7hr 33min 48s\n"
     ]
    },
    {
     "name": "stdout",
     "output_type": "stream",
     "text": [
      "Training on iteration 1. Current time: 2024-05-19 09:14:43. Total running time: 7hr 34min 18s\n"
     ]
    },
    {
     "name": "stdout",
     "output_type": "stream",
     "text": [
      "Training on iteration 1. Current time: 2024-05-19 09:15:13. Total running time: 7hr 34min 48s\n"
     ]
    },
    {
     "name": "stdout",
     "output_type": "stream",
     "text": [
      "Training on iteration 1. Current time: 2024-05-19 09:15:43. Total running time: 7hr 35min 18s\n"
     ]
    },
    {
     "name": "stdout",
     "output_type": "stream",
     "text": [
      "Training on iteration 1. Current time: 2024-05-19 09:16:13. Total running time: 7hr 35min 48s\n"
     ]
    },
    {
     "name": "stdout",
     "output_type": "stream",
     "text": [
      "Training on iteration 1. Current time: 2024-05-19 09:16:43. Total running time: 7hr 36min 18s\n"
     ]
    },
    {
     "name": "stdout",
     "output_type": "stream",
     "text": [
      "Training on iteration 1. Current time: 2024-05-19 09:17:13. Total running time: 7hr 36min 48s\n"
     ]
    },
    {
     "name": "stdout",
     "output_type": "stream",
     "text": [
      "Training on iteration 1. Current time: 2024-05-19 09:17:43. Total running time: 7hr 37min 18s\n"
     ]
    },
    {
     "name": "stdout",
     "output_type": "stream",
     "text": [
      "Training on iteration 1. Current time: 2024-05-19 09:18:13. Total running time: 7hr 37min 48s\n"
     ]
    },
    {
     "name": "stdout",
     "output_type": "stream",
     "text": [
      "Training on iteration 1. Current time: 2024-05-19 09:18:43. Total running time: 7hr 38min 18s\n"
     ]
    },
    {
     "name": "stdout",
     "output_type": "stream",
     "text": [
      "Training on iteration 1. Current time: 2024-05-19 09:19:13. Total running time: 7hr 38min 48s\n"
     ]
    },
    {
     "name": "stdout",
     "output_type": "stream",
     "text": [
      "Training on iteration 1. Current time: 2024-05-19 09:19:43. Total running time: 7hr 39min 18s\n"
     ]
    },
    {
     "name": "stdout",
     "output_type": "stream",
     "text": [
      "Training on iteration 1. Current time: 2024-05-19 09:20:13. Total running time: 7hr 39min 48s\n"
     ]
    },
    {
     "name": "stdout",
     "output_type": "stream",
     "text": [
      "Training on iteration 1. Current time: 2024-05-19 09:20:43. Total running time: 7hr 40min 18s\n"
     ]
    },
    {
     "name": "stdout",
     "output_type": "stream",
     "text": [
      "Training on iteration 1. Current time: 2024-05-19 09:21:13. Total running time: 7hr 40min 48s\n"
     ]
    },
    {
     "name": "stdout",
     "output_type": "stream",
     "text": [
      "Training on iteration 1. Current time: 2024-05-19 09:21:43. Total running time: 7hr 41min 18s\n"
     ]
    },
    {
     "name": "stdout",
     "output_type": "stream",
     "text": [
      "Training on iteration 1. Current time: 2024-05-19 09:22:13. Total running time: 7hr 41min 48s\n"
     ]
    },
    {
     "name": "stdout",
     "output_type": "stream",
     "text": [
      "Training on iteration 1. Current time: 2024-05-19 09:22:43. Total running time: 7hr 42min 18s\n"
     ]
    },
    {
     "name": "stdout",
     "output_type": "stream",
     "text": [
      "Training on iteration 1. Current time: 2024-05-19 09:23:13. Total running time: 7hr 42min 48s\n"
     ]
    },
    {
     "name": "stdout",
     "output_type": "stream",
     "text": [
      "Training on iteration 1. Current time: 2024-05-19 09:23:43. Total running time: 7hr 43min 18s\n"
     ]
    },
    {
     "name": "stdout",
     "output_type": "stream",
     "text": [
      "Training on iteration 1. Current time: 2024-05-19 09:24:13. Total running time: 7hr 43min 48s\n"
     ]
    },
    {
     "name": "stdout",
     "output_type": "stream",
     "text": [
      "Training on iteration 1. Current time: 2024-05-19 09:24:43. Total running time: 7hr 44min 18s\n"
     ]
    },
    {
     "name": "stdout",
     "output_type": "stream",
     "text": [
      "Training on iteration 1. Current time: 2024-05-19 09:25:13. Total running time: 7hr 44min 48s\n"
     ]
    },
    {
     "name": "stdout",
     "output_type": "stream",
     "text": [
      "Training on iteration 1. Current time: 2024-05-19 09:25:43. Total running time: 7hr 45min 18s\n"
     ]
    },
    {
     "name": "stdout",
     "output_type": "stream",
     "text": [
      "Training on iteration 1. Current time: 2024-05-19 09:26:13. Total running time: 7hr 45min 48s\n"
     ]
    },
    {
     "name": "stdout",
     "output_type": "stream",
     "text": [
      "Training on iteration 1. Current time: 2024-05-19 09:26:43. Total running time: 7hr 46min 18s\n"
     ]
    },
    {
     "name": "stdout",
     "output_type": "stream",
     "text": [
      "Training on iteration 1. Current time: 2024-05-19 09:27:13. Total running time: 7hr 46min 48s\n"
     ]
    },
    {
     "name": "stdout",
     "output_type": "stream",
     "text": [
      "Training on iteration 1. Current time: 2024-05-19 09:27:43. Total running time: 7hr 47min 18s\n"
     ]
    },
    {
     "name": "stdout",
     "output_type": "stream",
     "text": [
      "Training on iteration 1. Current time: 2024-05-19 09:28:13. Total running time: 7hr 47min 48s\n"
     ]
    },
    {
     "name": "stdout",
     "output_type": "stream",
     "text": [
      "Training on iteration 1. Current time: 2024-05-19 09:28:43. Total running time: 7hr 48min 18s\n"
     ]
    },
    {
     "name": "stdout",
     "output_type": "stream",
     "text": [
      "Training on iteration 1. Current time: 2024-05-19 09:29:13. Total running time: 7hr 48min 48s\n"
     ]
    },
    {
     "name": "stdout",
     "output_type": "stream",
     "text": [
      "Training on iteration 1. Current time: 2024-05-19 09:29:43. Total running time: 7hr 49min 18s\n"
     ]
    },
    {
     "name": "stdout",
     "output_type": "stream",
     "text": [
      "Training on iteration 1. Current time: 2024-05-19 09:30:13. Total running time: 7hr 49min 48s\n"
     ]
    },
    {
     "name": "stdout",
     "output_type": "stream",
     "text": [
      "Training on iteration 1. Current time: 2024-05-19 09:30:43. Total running time: 7hr 50min 18s\n"
     ]
    },
    {
     "name": "stdout",
     "output_type": "stream",
     "text": [
      "Training on iteration 1. Current time: 2024-05-19 09:31:13. Total running time: 7hr 50min 48s\n"
     ]
    },
    {
     "name": "stderr",
     "output_type": "stream",
     "text": [
      "\u001b[36m(RayTrainWorker pid=911)\u001b[0m Epoch 27499, global step 110000: 'train_mape' was not in top 1\n"
     ]
    },
    {
     "name": "stderr",
     "output_type": "stream",
     "text": [
      "\u001b[36m(RayTrainWorker pid=913)\u001b[0m Epoch 24999, global step 100000: 'mape_den' reached 0.01824 (best 0.01824), saving model to '/kaggle/working/gnnepcsaft/train/checkpoints/model8_2-epoch=24999-mape_den=0.0182.ckpt' as top 1\n"
     ]
    },
    {
     "name": "stderr",
     "output_type": "stream",
     "text": [
      "\u001b[36m(RayTrainWorker pid=913)\u001b[0m Epoch 24999, global step 100000: 'train_mape' was not in top 1\n"
     ]
    },
    {
     "name": "stderr",
     "output_type": "stream",
     "text": [
      "\u001b[36m(RayTrainWorker pid=912)\u001b[0m Epoch 22499, global step 90000: 'train_mape' was not in top 1\n"
     ]
    },
    {
     "name": "stdout",
     "output_type": "stream",
     "text": [
      "Training on iteration 1. Current time: 2024-05-19 09:31:43. Total running time: 7hr 51min 19s\n"
     ]
    },
    {
     "name": "stdout",
     "output_type": "stream",
     "text": [
      "Training on iteration 1. Current time: 2024-05-19 09:32:13. Total running time: 7hr 51min 49s\n"
     ]
    },
    {
     "name": "stdout",
     "output_type": "stream",
     "text": [
      "Training on iteration 1. Current time: 2024-05-19 09:32:43. Total running time: 7hr 52min 19s\n"
     ]
    },
    {
     "name": "stdout",
     "output_type": "stream",
     "text": [
      "Training on iteration 1. Current time: 2024-05-19 09:33:13. Total running time: 7hr 52min 49s\n"
     ]
    },
    {
     "name": "stdout",
     "output_type": "stream",
     "text": [
      "Training on iteration 1. Current time: 2024-05-19 09:33:43. Total running time: 7hr 53min 19s\n"
     ]
    },
    {
     "name": "stdout",
     "output_type": "stream",
     "text": [
      "Training on iteration 1. Current time: 2024-05-19 09:34:13. Total running time: 7hr 53min 49s\n"
     ]
    },
    {
     "name": "stdout",
     "output_type": "stream",
     "text": [
      "Training on iteration 1. Current time: 2024-05-19 09:34:43. Total running time: 7hr 54min 19s\n"
     ]
    },
    {
     "name": "stdout",
     "output_type": "stream",
     "text": [
      "Training on iteration 1. Current time: 2024-05-19 09:35:13. Total running time: 7hr 54min 49s\n"
     ]
    },
    {
     "name": "stdout",
     "output_type": "stream",
     "text": [
      "Training on iteration 1. Current time: 2024-05-19 09:35:43. Total running time: 7hr 55min 19s\n"
     ]
    },
    {
     "name": "stdout",
     "output_type": "stream",
     "text": [
      "Training on iteration 1. Current time: 2024-05-19 09:36:13. Total running time: 7hr 55min 49s\n"
     ]
    },
    {
     "name": "stdout",
     "output_type": "stream",
     "text": [
      "Training on iteration 1. Current time: 2024-05-19 09:36:43. Total running time: 7hr 56min 19s\n"
     ]
    },
    {
     "name": "stdout",
     "output_type": "stream",
     "text": [
      "Training on iteration 1. Current time: 2024-05-19 09:37:13. Total running time: 7hr 56min 49s\n"
     ]
    },
    {
     "name": "stdout",
     "output_type": "stream",
     "text": [
      "Training on iteration 1. Current time: 2024-05-19 09:37:43. Total running time: 7hr 57min 19s\n"
     ]
    },
    {
     "name": "stdout",
     "output_type": "stream",
     "text": [
      "Training on iteration 1. Current time: 2024-05-19 09:38:13. Total running time: 7hr 57min 49s\n"
     ]
    },
    {
     "name": "stdout",
     "output_type": "stream",
     "text": [
      "Training on iteration 1. Current time: 2024-05-19 09:38:43. Total running time: 7hr 58min 19s\n"
     ]
    },
    {
     "name": "stdout",
     "output_type": "stream",
     "text": [
      "Training on iteration 1. Current time: 2024-05-19 09:39:14. Total running time: 7hr 58min 49s\n"
     ]
    },
    {
     "name": "stdout",
     "output_type": "stream",
     "text": [
      "Training on iteration 1. Current time: 2024-05-19 09:39:44. Total running time: 7hr 59min 19s\n"
     ]
    },
    {
     "name": "stdout",
     "output_type": "stream",
     "text": [
      "Training on iteration 1. Current time: 2024-05-19 09:40:14. Total running time: 7hr 59min 49s\n"
     ]
    },
    {
     "name": "stdout",
     "output_type": "stream",
     "text": [
      "Training on iteration 1. Current time: 2024-05-19 09:40:44. Total running time: 8hr 0min 19s\n"
     ]
    },
    {
     "name": "stdout",
     "output_type": "stream",
     "text": [
      "Training on iteration 1. Current time: 2024-05-19 09:41:14. Total running time: 8hr 0min 49s\n"
     ]
    },
    {
     "name": "stdout",
     "output_type": "stream",
     "text": [
      "Training on iteration 1. Current time: 2024-05-19 09:41:44. Total running time: 8hr 1min 19s\n"
     ]
    },
    {
     "name": "stdout",
     "output_type": "stream",
     "text": [
      "Training on iteration 1. Current time: 2024-05-19 09:42:14. Total running time: 8hr 1min 49s\n"
     ]
    },
    {
     "name": "stdout",
     "output_type": "stream",
     "text": [
      "Training on iteration 1. Current time: 2024-05-19 09:42:44. Total running time: 8hr 2min 19s\n"
     ]
    },
    {
     "name": "stdout",
     "output_type": "stream",
     "text": [
      "Training on iteration 1. Current time: 2024-05-19 09:43:14. Total running time: 8hr 2min 49s\n"
     ]
    },
    {
     "name": "stdout",
     "output_type": "stream",
     "text": [
      "Training on iteration 1. Current time: 2024-05-19 09:43:44. Total running time: 8hr 3min 19s\n"
     ]
    },
    {
     "name": "stdout",
     "output_type": "stream",
     "text": [
      "Training on iteration 1. Current time: 2024-05-19 09:44:14. Total running time: 8hr 3min 49s\n"
     ]
    },
    {
     "name": "stdout",
     "output_type": "stream",
     "text": [
      "Training on iteration 1. Current time: 2024-05-19 09:44:44. Total running time: 8hr 4min 19s\n"
     ]
    },
    {
     "name": "stdout",
     "output_type": "stream",
     "text": [
      "Training on iteration 1. Current time: 2024-05-19 09:45:14. Total running time: 8hr 4min 49s\n"
     ]
    },
    {
     "name": "stdout",
     "output_type": "stream",
     "text": [
      "Training on iteration 1. Current time: 2024-05-19 09:45:44. Total running time: 8hr 5min 19s\n"
     ]
    },
    {
     "name": "stdout",
     "output_type": "stream",
     "text": [
      "Training on iteration 1. Current time: 2024-05-19 09:46:14. Total running time: 8hr 5min 49s\n"
     ]
    },
    {
     "name": "stdout",
     "output_type": "stream",
     "text": [
      "Training on iteration 1. Current time: 2024-05-19 09:46:44. Total running time: 8hr 6min 19s\n"
     ]
    },
    {
     "name": "stdout",
     "output_type": "stream",
     "text": [
      "Training on iteration 1. Current time: 2024-05-19 09:47:14. Total running time: 8hr 6min 49s\n"
     ]
    },
    {
     "name": "stdout",
     "output_type": "stream",
     "text": [
      "Training on iteration 1. Current time: 2024-05-19 09:47:44. Total running time: 8hr 7min 19s\n"
     ]
    },
    {
     "name": "stdout",
     "output_type": "stream",
     "text": [
      "Training on iteration 1. Current time: 2024-05-19 09:48:14. Total running time: 8hr 7min 49s\n"
     ]
    },
    {
     "name": "stdout",
     "output_type": "stream",
     "text": [
      "Training on iteration 1. Current time: 2024-05-19 09:48:44. Total running time: 8hr 8min 19s\n"
     ]
    },
    {
     "name": "stdout",
     "output_type": "stream",
     "text": [
      "Training on iteration 1. Current time: 2024-05-19 09:49:14. Total running time: 8hr 8min 49s\n"
     ]
    },
    {
     "name": "stdout",
     "output_type": "stream",
     "text": [
      "Training on iteration 1. Current time: 2024-05-19 09:49:44. Total running time: 8hr 9min 19s\n"
     ]
    },
    {
     "name": "stdout",
     "output_type": "stream",
     "text": [
      "Training on iteration 1. Current time: 2024-05-19 09:50:14. Total running time: 8hr 9min 49s\n"
     ]
    },
    {
     "name": "stdout",
     "output_type": "stream",
     "text": [
      "Training on iteration 1. Current time: 2024-05-19 09:50:44. Total running time: 8hr 10min 19s\n"
     ]
    },
    {
     "name": "stdout",
     "output_type": "stream",
     "text": [
      "Training on iteration 1. Current time: 2024-05-19 09:51:14. Total running time: 8hr 10min 49s\n"
     ]
    },
    {
     "name": "stdout",
     "output_type": "stream",
     "text": [
      "Training on iteration 1. Current time: 2024-05-19 09:51:44. Total running time: 8hr 11min 19s\n"
     ]
    },
    {
     "name": "stdout",
     "output_type": "stream",
     "text": [
      "Training on iteration 1. Current time: 2024-05-19 09:52:14. Total running time: 8hr 11min 49s\n"
     ]
    },
    {
     "name": "stdout",
     "output_type": "stream",
     "text": [
      "Training on iteration 1. Current time: 2024-05-19 09:52:44. Total running time: 8hr 12min 19s\n"
     ]
    },
    {
     "name": "stdout",
     "output_type": "stream",
     "text": [
      "Training on iteration 1. Current time: 2024-05-19 09:53:14. Total running time: 8hr 12min 49s\n"
     ]
    },
    {
     "name": "stdout",
     "output_type": "stream",
     "text": [
      "Training on iteration 1. Current time: 2024-05-19 09:53:44. Total running time: 8hr 13min 19s\n"
     ]
    },
    {
     "name": "stdout",
     "output_type": "stream",
     "text": [
      "Training on iteration 1. Current time: 2024-05-19 09:54:14. Total running time: 8hr 13min 49s\n"
     ]
    },
    {
     "name": "stdout",
     "output_type": "stream",
     "text": [
      "Training on iteration 1. Current time: 2024-05-19 09:54:44. Total running time: 8hr 14min 19s\n"
     ]
    },
    {
     "name": "stdout",
     "output_type": "stream",
     "text": [
      "Training on iteration 1. Current time: 2024-05-19 09:55:14. Total running time: 8hr 14min 49s\n"
     ]
    },
    {
     "name": "stdout",
     "output_type": "stream",
     "text": [
      "Training on iteration 1. Current time: 2024-05-19 09:55:44. Total running time: 8hr 15min 19s\n"
     ]
    },
    {
     "name": "stdout",
     "output_type": "stream",
     "text": [
      "Training on iteration 1. Current time: 2024-05-19 09:56:14. Total running time: 8hr 15min 49s\n"
     ]
    },
    {
     "name": "stdout",
     "output_type": "stream",
     "text": [
      "Training on iteration 1. Current time: 2024-05-19 09:56:44. Total running time: 8hr 16min 19s\n"
     ]
    },
    {
     "name": "stdout",
     "output_type": "stream",
     "text": [
      "Training on iteration 1. Current time: 2024-05-19 09:57:14. Total running time: 8hr 16min 49s\n"
     ]
    },
    {
     "name": "stdout",
     "output_type": "stream",
     "text": [
      "Training on iteration 1. Current time: 2024-05-19 09:57:44. Total running time: 8hr 17min 19s\n"
     ]
    },
    {
     "name": "stdout",
     "output_type": "stream",
     "text": [
      "Training on iteration 1. Current time: 2024-05-19 09:58:14. Total running time: 8hr 17min 49s\n"
     ]
    },
    {
     "name": "stdout",
     "output_type": "stream",
     "text": [
      "Training on iteration 1. Current time: 2024-05-19 09:58:44. Total running time: 8hr 18min 19s\n"
     ]
    },
    {
     "name": "stdout",
     "output_type": "stream",
     "text": [
      "Training on iteration 1. Current time: 2024-05-19 09:59:14. Total running time: 8hr 18min 49s\n"
     ]
    },
    {
     "name": "stdout",
     "output_type": "stream",
     "text": [
      "Training on iteration 1. Current time: 2024-05-19 09:59:44. Total running time: 8hr 19min 19s\n"
     ]
    },
    {
     "name": "stdout",
     "output_type": "stream",
     "text": [
      "Training on iteration 1. Current time: 2024-05-19 10:00:14. Total running time: 8hr 19min 49s\n"
     ]
    },
    {
     "name": "stdout",
     "output_type": "stream",
     "text": [
      "Training on iteration 1. Current time: 2024-05-19 10:00:44. Total running time: 8hr 20min 19s\n"
     ]
    },
    {
     "name": "stdout",
     "output_type": "stream",
     "text": [
      "Training on iteration 1. Current time: 2024-05-19 10:01:14. Total running time: 8hr 20min 49s\n"
     ]
    },
    {
     "name": "stdout",
     "output_type": "stream",
     "text": [
      "Training on iteration 1. Current time: 2024-05-19 10:01:44. Total running time: 8hr 21min 19s\n"
     ]
    },
    {
     "name": "stdout",
     "output_type": "stream",
     "text": [
      "Training on iteration 1. Current time: 2024-05-19 10:02:14. Total running time: 8hr 21min 49s\n"
     ]
    },
    {
     "name": "stdout",
     "output_type": "stream",
     "text": [
      "Training on iteration 1. Current time: 2024-05-19 10:02:44. Total running time: 8hr 22min 19s\n"
     ]
    },
    {
     "name": "stdout",
     "output_type": "stream",
     "text": [
      "Training on iteration 1. Current time: 2024-05-19 10:03:14. Total running time: 8hr 22min 50s\n"
     ]
    },
    {
     "name": "stdout",
     "output_type": "stream",
     "text": [
      "Training on iteration 1. Current time: 2024-05-19 10:03:44. Total running time: 8hr 23min 20s\n"
     ]
    },
    {
     "name": "stdout",
     "output_type": "stream",
     "text": [
      "Training on iteration 1. Current time: 2024-05-19 10:04:14. Total running time: 8hr 23min 50s\n"
     ]
    },
    {
     "name": "stdout",
     "output_type": "stream",
     "text": [
      "Training on iteration 1. Current time: 2024-05-19 10:04:44. Total running time: 8hr 24min 20s\n"
     ]
    },
    {
     "name": "stdout",
     "output_type": "stream",
     "text": [
      "Training on iteration 1. Current time: 2024-05-19 10:05:14. Total running time: 8hr 24min 50s\n"
     ]
    },
    {
     "name": "stdout",
     "output_type": "stream",
     "text": [
      "Training on iteration 1. Current time: 2024-05-19 10:05:44. Total running time: 8hr 25min 20s\n"
     ]
    },
    {
     "name": "stdout",
     "output_type": "stream",
     "text": [
      "Training on iteration 1. Current time: 2024-05-19 10:06:14. Total running time: 8hr 25min 50s\n"
     ]
    },
    {
     "name": "stdout",
     "output_type": "stream",
     "text": [
      "Training on iteration 1. Current time: 2024-05-19 10:06:44. Total running time: 8hr 26min 20s\n"
     ]
    },
    {
     "name": "stdout",
     "output_type": "stream",
     "text": [
      "Training on iteration 1. Current time: 2024-05-19 10:07:14. Total running time: 8hr 26min 50s\n"
     ]
    },
    {
     "name": "stdout",
     "output_type": "stream",
     "text": [
      "Training on iteration 1. Current time: 2024-05-19 10:07:44. Total running time: 8hr 27min 20s\n"
     ]
    },
    {
     "name": "stdout",
     "output_type": "stream",
     "text": [
      "Training on iteration 1. Current time: 2024-05-19 10:08:14. Total running time: 8hr 27min 50s\n"
     ]
    },
    {
     "name": "stdout",
     "output_type": "stream",
     "text": [
      "Training on iteration 1. Current time: 2024-05-19 10:08:44. Total running time: 8hr 28min 20s\n"
     ]
    },
    {
     "name": "stdout",
     "output_type": "stream",
     "text": [
      "Training on iteration 1. Current time: 2024-05-19 10:09:14. Total running time: 8hr 28min 50s\n"
     ]
    },
    {
     "name": "stdout",
     "output_type": "stream",
     "text": [
      "Training on iteration 1. Current time: 2024-05-19 10:09:44. Total running time: 8hr 29min 20s\n"
     ]
    },
    {
     "name": "stdout",
     "output_type": "stream",
     "text": [
      "Training on iteration 1. Current time: 2024-05-19 10:10:14. Total running time: 8hr 29min 50s\n"
     ]
    },
    {
     "name": "stdout",
     "output_type": "stream",
     "text": [
      "Training on iteration 1. Current time: 2024-05-19 10:10:44. Total running time: 8hr 30min 20s\n"
     ]
    },
    {
     "name": "stdout",
     "output_type": "stream",
     "text": [
      "Training on iteration 1. Current time: 2024-05-19 10:11:14. Total running time: 8hr 30min 50s\n"
     ]
    },
    {
     "name": "stdout",
     "output_type": "stream",
     "text": [
      "Training on iteration 1. Current time: 2024-05-19 10:11:45. Total running time: 8hr 31min 20s\n"
     ]
    },
    {
     "name": "stdout",
     "output_type": "stream",
     "text": [
      "Training on iteration 1. Current time: 2024-05-19 10:12:15. Total running time: 8hr 31min 50s\n"
     ]
    },
    {
     "name": "stdout",
     "output_type": "stream",
     "text": [
      "Training on iteration 1. Current time: 2024-05-19 10:12:45. Total running time: 8hr 32min 20s\n"
     ]
    },
    {
     "name": "stdout",
     "output_type": "stream",
     "text": [
      "Training on iteration 1. Current time: 2024-05-19 10:13:15. Total running time: 8hr 32min 50s\n"
     ]
    },
    {
     "name": "stdout",
     "output_type": "stream",
     "text": [
      "Training on iteration 1. Current time: 2024-05-19 10:13:45. Total running time: 8hr 33min 20s\n"
     ]
    },
    {
     "name": "stdout",
     "output_type": "stream",
     "text": [
      "Training on iteration 1. Current time: 2024-05-19 10:14:15. Total running time: 8hr 33min 50s\n"
     ]
    },
    {
     "name": "stdout",
     "output_type": "stream",
     "text": [
      "Training on iteration 1. Current time: 2024-05-19 10:14:45. Total running time: 8hr 34min 20s\n"
     ]
    },
    {
     "name": "stderr",
     "output_type": "stream",
     "text": [
      "\u001b[36m(RayTrainWorker pid=911)\u001b[0m Epoch 29999, global step 120000: 'train_mape' was not in top 1\n"
     ]
    },
    {
     "name": "stderr",
     "output_type": "stream",
     "text": [
      "\u001b[36m(RayTrainWorker pid=913)\u001b[0m Epoch 27499, global step 110000: 'train_mape' reached 0.00552 (best 0.00552), saving model to '/kaggle/working/gnnepcsaft/train/checkpoints/model8_2-epoch=27499-train_mape=0.0055.ckpt' as top 1\n"
     ]
    },
    {
     "name": "stderr",
     "output_type": "stream",
     "text": [
      "\u001b[36m(RayTrainWorker pid=911)\u001b[0m Epoch 31249, global step 125000: 'mape_den' was not in top 1\n"
     ]
    },
    {
     "name": "stdout",
     "output_type": "stream",
     "text": [
      "Training on iteration 1. Current time: 2024-05-19 10:15:15. Total running time: 8hr 34min 50s\n"
     ]
    },
    {
     "name": "stdout",
     "output_type": "stream",
     "text": [
      "Training on iteration 1. Current time: 2024-05-19 10:15:45. Total running time: 8hr 35min 20s\n"
     ]
    },
    {
     "name": "stdout",
     "output_type": "stream",
     "text": [
      "Training on iteration 1. Current time: 2024-05-19 10:16:15. Total running time: 8hr 35min 50s\n"
     ]
    },
    {
     "name": "stdout",
     "output_type": "stream",
     "text": [
      "Training on iteration 1. Current time: 2024-05-19 10:16:45. Total running time: 8hr 36min 20s\n"
     ]
    },
    {
     "name": "stdout",
     "output_type": "stream",
     "text": [
      "Training on iteration 1. Current time: 2024-05-19 10:17:15. Total running time: 8hr 36min 50s\n"
     ]
    },
    {
     "name": "stdout",
     "output_type": "stream",
     "text": [
      "Training on iteration 1. Current time: 2024-05-19 10:17:45. Total running time: 8hr 37min 20s\n"
     ]
    },
    {
     "name": "stdout",
     "output_type": "stream",
     "text": [
      "Training on iteration 1. Current time: 2024-05-19 10:18:15. Total running time: 8hr 37min 50s\n"
     ]
    },
    {
     "name": "stdout",
     "output_type": "stream",
     "text": [
      "Training on iteration 1. Current time: 2024-05-19 10:18:45. Total running time: 8hr 38min 20s\n"
     ]
    },
    {
     "name": "stdout",
     "output_type": "stream",
     "text": [
      "Training on iteration 1. Current time: 2024-05-19 10:19:15. Total running time: 8hr 38min 50s\n"
     ]
    },
    {
     "name": "stdout",
     "output_type": "stream",
     "text": [
      "Training on iteration 1. Current time: 2024-05-19 10:19:45. Total running time: 8hr 39min 20s\n"
     ]
    },
    {
     "name": "stdout",
     "output_type": "stream",
     "text": [
      "Training on iteration 1. Current time: 2024-05-19 10:20:15. Total running time: 8hr 39min 50s\n"
     ]
    },
    {
     "name": "stdout",
     "output_type": "stream",
     "text": [
      "Training on iteration 1. Current time: 2024-05-19 10:20:45. Total running time: 8hr 40min 20s\n"
     ]
    },
    {
     "name": "stdout",
     "output_type": "stream",
     "text": [
      "Training on iteration 1. Current time: 2024-05-19 10:21:15. Total running time: 8hr 40min 50s\n"
     ]
    },
    {
     "name": "stdout",
     "output_type": "stream",
     "text": [
      "Training on iteration 1. Current time: 2024-05-19 10:21:45. Total running time: 8hr 41min 20s\n"
     ]
    },
    {
     "name": "stdout",
     "output_type": "stream",
     "text": [
      "Training on iteration 1. Current time: 2024-05-19 10:22:15. Total running time: 8hr 41min 50s\n"
     ]
    },
    {
     "name": "stdout",
     "output_type": "stream",
     "text": [
      "Training on iteration 1. Current time: 2024-05-19 10:22:45. Total running time: 8hr 42min 20s\n"
     ]
    },
    {
     "name": "stdout",
     "output_type": "stream",
     "text": [
      "Training on iteration 1. Current time: 2024-05-19 10:23:15. Total running time: 8hr 42min 50s\n"
     ]
    },
    {
     "name": "stdout",
     "output_type": "stream",
     "text": [
      "Training on iteration 1. Current time: 2024-05-19 10:23:45. Total running time: 8hr 43min 20s\n"
     ]
    },
    {
     "name": "stdout",
     "output_type": "stream",
     "text": [
      "Training on iteration 1. Current time: 2024-05-19 10:24:15. Total running time: 8hr 43min 50s\n"
     ]
    },
    {
     "name": "stdout",
     "output_type": "stream",
     "text": [
      "Training on iteration 1. Current time: 2024-05-19 10:24:45. Total running time: 8hr 44min 20s\n"
     ]
    },
    {
     "name": "stdout",
     "output_type": "stream",
     "text": [
      "Training on iteration 1. Current time: 2024-05-19 10:25:15. Total running time: 8hr 44min 50s\n"
     ]
    },
    {
     "name": "stdout",
     "output_type": "stream",
     "text": [
      "Training on iteration 1. Current time: 2024-05-19 10:25:45. Total running time: 8hr 45min 20s\n"
     ]
    },
    {
     "name": "stdout",
     "output_type": "stream",
     "text": [
      "Training on iteration 1. Current time: 2024-05-19 10:26:15. Total running time: 8hr 45min 50s\n"
     ]
    },
    {
     "name": "stdout",
     "output_type": "stream",
     "text": [
      "Training on iteration 1. Current time: 2024-05-19 10:26:45. Total running time: 8hr 46min 20s\n"
     ]
    },
    {
     "name": "stdout",
     "output_type": "stream",
     "text": [
      "Training on iteration 1. Current time: 2024-05-19 10:27:15. Total running time: 8hr 46min 50s\n"
     ]
    },
    {
     "name": "stdout",
     "output_type": "stream",
     "text": [
      "Training on iteration 1. Current time: 2024-05-19 10:27:45. Total running time: 8hr 47min 20s\n"
     ]
    },
    {
     "name": "stdout",
     "output_type": "stream",
     "text": [
      "Training on iteration 1. Current time: 2024-05-19 10:28:15. Total running time: 8hr 47min 50s\n"
     ]
    },
    {
     "name": "stdout",
     "output_type": "stream",
     "text": [
      "Training on iteration 1. Current time: 2024-05-19 10:28:45. Total running time: 8hr 48min 20s\n"
     ]
    },
    {
     "name": "stdout",
     "output_type": "stream",
     "text": [
      "Training on iteration 1. Current time: 2024-05-19 10:29:15. Total running time: 8hr 48min 50s\n"
     ]
    },
    {
     "name": "stdout",
     "output_type": "stream",
     "text": [
      "Training on iteration 1. Current time: 2024-05-19 10:29:45. Total running time: 8hr 49min 20s\n"
     ]
    },
    {
     "name": "stdout",
     "output_type": "stream",
     "text": [
      "Training on iteration 1. Current time: 2024-05-19 10:30:15. Total running time: 8hr 49min 50s\n"
     ]
    },
    {
     "name": "stdout",
     "output_type": "stream",
     "text": [
      "Training on iteration 1. Current time: 2024-05-19 10:30:45. Total running time: 8hr 50min 20s\n"
     ]
    },
    {
     "name": "stdout",
     "output_type": "stream",
     "text": [
      "Training on iteration 1. Current time: 2024-05-19 10:31:15. Total running time: 8hr 50min 50s\n"
     ]
    },
    {
     "name": "stdout",
     "output_type": "stream",
     "text": [
      "Training on iteration 1. Current time: 2024-05-19 10:31:45. Total running time: 8hr 51min 21s\n"
     ]
    },
    {
     "name": "stdout",
     "output_type": "stream",
     "text": [
      "Training on iteration 1. Current time: 2024-05-19 10:32:15. Total running time: 8hr 51min 51s\n"
     ]
    },
    {
     "name": "stdout",
     "output_type": "stream",
     "text": [
      "Training on iteration 1. Current time: 2024-05-19 10:32:45. Total running time: 8hr 52min 21s\n"
     ]
    },
    {
     "name": "stdout",
     "output_type": "stream",
     "text": [
      "Training on iteration 1. Current time: 2024-05-19 10:33:15. Total running time: 8hr 52min 51s\n"
     ]
    },
    {
     "name": "stdout",
     "output_type": "stream",
     "text": [
      "Training on iteration 1. Current time: 2024-05-19 10:33:45. Total running time: 8hr 53min 21s\n"
     ]
    },
    {
     "name": "stdout",
     "output_type": "stream",
     "text": [
      "Training on iteration 1. Current time: 2024-05-19 10:34:15. Total running time: 8hr 53min 51s\n"
     ]
    },
    {
     "name": "stdout",
     "output_type": "stream",
     "text": [
      "Training on iteration 1. Current time: 2024-05-19 10:34:45. Total running time: 8hr 54min 21s\n"
     ]
    },
    {
     "name": "stdout",
     "output_type": "stream",
     "text": [
      "Training on iteration 1. Current time: 2024-05-19 10:35:15. Total running time: 8hr 54min 51s\n"
     ]
    },
    {
     "name": "stdout",
     "output_type": "stream",
     "text": [
      "Training on iteration 1. Current time: 2024-05-19 10:35:45. Total running time: 8hr 55min 21s\n"
     ]
    },
    {
     "name": "stdout",
     "output_type": "stream",
     "text": [
      "Training on iteration 1. Current time: 2024-05-19 10:36:15. Total running time: 8hr 55min 51s\n"
     ]
    },
    {
     "name": "stdout",
     "output_type": "stream",
     "text": [
      "Training on iteration 1. Current time: 2024-05-19 10:36:45. Total running time: 8hr 56min 21s\n"
     ]
    },
    {
     "name": "stdout",
     "output_type": "stream",
     "text": [
      "Training on iteration 1. Current time: 2024-05-19 10:37:15. Total running time: 8hr 56min 51s\n"
     ]
    },
    {
     "name": "stdout",
     "output_type": "stream",
     "text": [
      "Training on iteration 1. Current time: 2024-05-19 10:37:45. Total running time: 8hr 57min 21s\n"
     ]
    },
    {
     "name": "stdout",
     "output_type": "stream",
     "text": [
      "Training on iteration 1. Current time: 2024-05-19 10:38:15. Total running time: 8hr 57min 51s\n"
     ]
    },
    {
     "name": "stdout",
     "output_type": "stream",
     "text": [
      "Training on iteration 1. Current time: 2024-05-19 10:38:45. Total running time: 8hr 58min 21s\n"
     ]
    },
    {
     "name": "stdout",
     "output_type": "stream",
     "text": [
      "Training on iteration 1. Current time: 2024-05-19 10:39:15. Total running time: 8hr 58min 51s\n"
     ]
    },
    {
     "name": "stdout",
     "output_type": "stream",
     "text": [
      "Training on iteration 1. Current time: 2024-05-19 10:39:45. Total running time: 8hr 59min 21s\n"
     ]
    },
    {
     "name": "stdout",
     "output_type": "stream",
     "text": [
      "Training on iteration 1. Current time: 2024-05-19 10:40:16. Total running time: 8hr 59min 51s\n"
     ]
    },
    {
     "name": "stdout",
     "output_type": "stream",
     "text": [
      "Training on iteration 1. Current time: 2024-05-19 10:40:46. Total running time: 9hr 0min 21s\n"
     ]
    },
    {
     "name": "stdout",
     "output_type": "stream",
     "text": [
      "Training on iteration 1. Current time: 2024-05-19 10:41:16. Total running time: 9hr 0min 51s\n"
     ]
    },
    {
     "name": "stdout",
     "output_type": "stream",
     "text": [
      "Training on iteration 1. Current time: 2024-05-19 10:41:46. Total running time: 9hr 1min 21s\n"
     ]
    },
    {
     "name": "stdout",
     "output_type": "stream",
     "text": [
      "Training on iteration 1. Current time: 2024-05-19 10:42:16. Total running time: 9hr 1min 51s\n"
     ]
    },
    {
     "name": "stdout",
     "output_type": "stream",
     "text": [
      "Training on iteration 1. Current time: 2024-05-19 10:42:46. Total running time: 9hr 2min 21s\n"
     ]
    },
    {
     "name": "stdout",
     "output_type": "stream",
     "text": [
      "Training on iteration 1. Current time: 2024-05-19 10:43:16. Total running time: 9hr 2min 51s\n"
     ]
    },
    {
     "name": "stdout",
     "output_type": "stream",
     "text": [
      "Training on iteration 1. Current time: 2024-05-19 10:43:46. Total running time: 9hr 3min 21s\n"
     ]
    },
    {
     "name": "stdout",
     "output_type": "stream",
     "text": [
      "Training on iteration 1. Current time: 2024-05-19 10:44:16. Total running time: 9hr 3min 51s\n"
     ]
    },
    {
     "name": "stdout",
     "output_type": "stream",
     "text": [
      "Training on iteration 1. Current time: 2024-05-19 10:44:46. Total running time: 9hr 4min 21s\n"
     ]
    },
    {
     "name": "stdout",
     "output_type": "stream",
     "text": [
      "Training on iteration 1. Current time: 2024-05-19 10:45:16. Total running time: 9hr 4min 51s\n"
     ]
    },
    {
     "name": "stdout",
     "output_type": "stream",
     "text": [
      "Training on iteration 1. Current time: 2024-05-19 10:45:46. Total running time: 9hr 5min 21s\n"
     ]
    },
    {
     "name": "stdout",
     "output_type": "stream",
     "text": [
      "Training on iteration 1. Current time: 2024-05-19 10:46:16. Total running time: 9hr 5min 51s\n"
     ]
    },
    {
     "name": "stdout",
     "output_type": "stream",
     "text": [
      "Training on iteration 1. Current time: 2024-05-19 10:46:46. Total running time: 9hr 6min 21s\n"
     ]
    },
    {
     "name": "stdout",
     "output_type": "stream",
     "text": [
      "Training on iteration 1. Current time: 2024-05-19 10:47:16. Total running time: 9hr 6min 51s\n"
     ]
    },
    {
     "name": "stdout",
     "output_type": "stream",
     "text": [
      "Training on iteration 1. Current time: 2024-05-19 10:47:46. Total running time: 9hr 7min 21s\n"
     ]
    },
    {
     "name": "stdout",
     "output_type": "stream",
     "text": [
      "Training on iteration 1. Current time: 2024-05-19 10:48:16. Total running time: 9hr 7min 51s\n"
     ]
    },
    {
     "name": "stdout",
     "output_type": "stream",
     "text": [
      "Training on iteration 1. Current time: 2024-05-19 10:48:46. Total running time: 9hr 8min 21s\n"
     ]
    },
    {
     "name": "stdout",
     "output_type": "stream",
     "text": [
      "Training on iteration 1. Current time: 2024-05-19 10:49:16. Total running time: 9hr 8min 51s\n"
     ]
    },
    {
     "name": "stdout",
     "output_type": "stream",
     "text": [
      "Training on iteration 1. Current time: 2024-05-19 10:49:46. Total running time: 9hr 9min 21s\n"
     ]
    },
    {
     "name": "stdout",
     "output_type": "stream",
     "text": [
      "Training on iteration 1. Current time: 2024-05-19 10:50:16. Total running time: 9hr 9min 51s\n"
     ]
    },
    {
     "name": "stdout",
     "output_type": "stream",
     "text": [
      "Training on iteration 1. Current time: 2024-05-19 10:50:46. Total running time: 9hr 10min 21s\n"
     ]
    },
    {
     "name": "stdout",
     "output_type": "stream",
     "text": [
      "Training on iteration 1. Current time: 2024-05-19 10:51:16. Total running time: 9hr 10min 51s\n"
     ]
    },
    {
     "name": "stdout",
     "output_type": "stream",
     "text": [
      "Training on iteration 1. Current time: 2024-05-19 10:51:46. Total running time: 9hr 11min 21s\n"
     ]
    },
    {
     "name": "stdout",
     "output_type": "stream",
     "text": [
      "Training on iteration 1. Current time: 2024-05-19 10:52:16. Total running time: 9hr 11min 51s\n"
     ]
    },
    {
     "name": "stdout",
     "output_type": "stream",
     "text": [
      "Training on iteration 1. Current time: 2024-05-19 10:52:46. Total running time: 9hr 12min 21s\n"
     ]
    },
    {
     "name": "stdout",
     "output_type": "stream",
     "text": [
      "Training on iteration 1. Current time: 2024-05-19 10:53:16. Total running time: 9hr 12min 51s\n"
     ]
    },
    {
     "name": "stdout",
     "output_type": "stream",
     "text": [
      "Training on iteration 1. Current time: 2024-05-19 10:53:46. Total running time: 9hr 13min 21s\n"
     ]
    },
    {
     "name": "stdout",
     "output_type": "stream",
     "text": [
      "Training on iteration 1. Current time: 2024-05-19 10:54:16. Total running time: 9hr 13min 51s\n"
     ]
    },
    {
     "name": "stdout",
     "output_type": "stream",
     "text": [
      "Training on iteration 1. Current time: 2024-05-19 10:54:46. Total running time: 9hr 14min 21s\n"
     ]
    },
    {
     "name": "stdout",
     "output_type": "stream",
     "text": [
      "Training on iteration 1. Current time: 2024-05-19 10:55:16. Total running time: 9hr 14min 51s\n"
     ]
    },
    {
     "name": "stdout",
     "output_type": "stream",
     "text": [
      "Training on iteration 1. Current time: 2024-05-19 10:55:46. Total running time: 9hr 15min 21s\n"
     ]
    },
    {
     "name": "stdout",
     "output_type": "stream",
     "text": [
      "Training on iteration 1. Current time: 2024-05-19 10:56:16. Total running time: 9hr 15min 51s\n"
     ]
    },
    {
     "name": "stdout",
     "output_type": "stream",
     "text": [
      "Training on iteration 1. Current time: 2024-05-19 10:56:46. Total running time: 9hr 16min 21s\n"
     ]
    },
    {
     "name": "stdout",
     "output_type": "stream",
     "text": [
      "Training on iteration 1. Current time: 2024-05-19 10:57:16. Total running time: 9hr 16min 51s\n"
     ]
    },
    {
     "name": "stdout",
     "output_type": "stream",
     "text": [
      "Training on iteration 1. Current time: 2024-05-19 10:57:46. Total running time: 9hr 17min 21s\n"
     ]
    },
    {
     "name": "stdout",
     "output_type": "stream",
     "text": [
      "Training on iteration 1. Current time: 2024-05-19 10:58:16. Total running time: 9hr 17min 51s\n"
     ]
    },
    {
     "name": "stderr",
     "output_type": "stream",
     "text": [
      "\u001b[36m(RayTrainWorker pid=912)\u001b[0m Epoch 24999, global step 100000: 'train_mape' was not in top 1\n"
     ]
    },
    {
     "name": "stderr",
     "output_type": "stream",
     "text": [
      "\u001b[36m(RayTrainWorker pid=912)\u001b[0m Epoch 24999, global step 100000: 'mape_den' was not in top 1\n"
     ]
    },
    {
     "name": "stderr",
     "output_type": "stream",
     "text": [
      "\u001b[36m(RayTrainWorker pid=911)\u001b[0m Epoch 32499, global step 130000: 'train_mape' was not in top 1\n"
     ]
    },
    {
     "name": "stderr",
     "output_type": "stream",
     "text": [
      "\u001b[36m(RayTrainWorker pid=913)\u001b[0m Epoch 29999, global step 120000: 'train_mape' was not in top 1\n"
     ]
    },
    {
     "name": "stdout",
     "output_type": "stream",
     "text": [
      "Training on iteration 1. Current time: 2024-05-19 10:58:46. Total running time: 9hr 18min 21s\n"
     ]
    },
    {
     "name": "stdout",
     "output_type": "stream",
     "text": [
      "Training on iteration 1. Current time: 2024-05-19 10:59:16. Total running time: 9hr 18min 51s\n"
     ]
    },
    {
     "name": "stdout",
     "output_type": "stream",
     "text": [
      "Training on iteration 1. Current time: 2024-05-19 10:59:46. Total running time: 9hr 19min 21s\n"
     ]
    },
    {
     "name": "stdout",
     "output_type": "stream",
     "text": [
      "Training on iteration 1. Current time: 2024-05-19 11:00:16. Total running time: 9hr 19min 51s\n"
     ]
    },
    {
     "name": "stdout",
     "output_type": "stream",
     "text": [
      "Training on iteration 1. Current time: 2024-05-19 11:00:46. Total running time: 9hr 20min 21s\n"
     ]
    },
    {
     "name": "stdout",
     "output_type": "stream",
     "text": [
      "Training on iteration 1. Current time: 2024-05-19 11:01:16. Total running time: 9hr 20min 52s\n"
     ]
    },
    {
     "name": "stdout",
     "output_type": "stream",
     "text": [
      "Training on iteration 1. Current time: 2024-05-19 11:01:46. Total running time: 9hr 21min 22s\n"
     ]
    },
    {
     "name": "stdout",
     "output_type": "stream",
     "text": [
      "Training on iteration 1. Current time: 2024-05-19 11:02:16. Total running time: 9hr 21min 52s\n"
     ]
    },
    {
     "name": "stdout",
     "output_type": "stream",
     "text": [
      "Training on iteration 1. Current time: 2024-05-19 11:02:46. Total running time: 9hr 22min 22s\n"
     ]
    },
    {
     "name": "stdout",
     "output_type": "stream",
     "text": [
      "Training on iteration 1. Current time: 2024-05-19 11:03:16. Total running time: 9hr 22min 52s\n"
     ]
    },
    {
     "name": "stdout",
     "output_type": "stream",
     "text": [
      "Training on iteration 1. Current time: 2024-05-19 11:03:46. Total running time: 9hr 23min 22s\n"
     ]
    },
    {
     "name": "stdout",
     "output_type": "stream",
     "text": [
      "Training on iteration 1. Current time: 2024-05-19 11:04:16. Total running time: 9hr 23min 52s\n"
     ]
    },
    {
     "name": "stdout",
     "output_type": "stream",
     "text": [
      "Training on iteration 1. Current time: 2024-05-19 11:04:46. Total running time: 9hr 24min 22s\n"
     ]
    },
    {
     "name": "stdout",
     "output_type": "stream",
     "text": [
      "Training on iteration 1. Current time: 2024-05-19 11:05:16. Total running time: 9hr 24min 52s\n"
     ]
    },
    {
     "name": "stdout",
     "output_type": "stream",
     "text": [
      "Training on iteration 1. Current time: 2024-05-19 11:05:46. Total running time: 9hr 25min 22s\n"
     ]
    },
    {
     "name": "stdout",
     "output_type": "stream",
     "text": [
      "Training on iteration 1. Current time: 2024-05-19 11:06:16. Total running time: 9hr 25min 52s\n"
     ]
    },
    {
     "name": "stdout",
     "output_type": "stream",
     "text": [
      "Training on iteration 1. Current time: 2024-05-19 11:06:46. Total running time: 9hr 26min 22s\n"
     ]
    },
    {
     "name": "stdout",
     "output_type": "stream",
     "text": [
      "Training on iteration 1. Current time: 2024-05-19 11:07:16. Total running time: 9hr 26min 52s\n"
     ]
    },
    {
     "name": "stdout",
     "output_type": "stream",
     "text": [
      "Training on iteration 1. Current time: 2024-05-19 11:07:46. Total running time: 9hr 27min 22s\n"
     ]
    },
    {
     "name": "stdout",
     "output_type": "stream",
     "text": [
      "Training on iteration 1. Current time: 2024-05-19 11:08:17. Total running time: 9hr 27min 52s\n"
     ]
    },
    {
     "name": "stdout",
     "output_type": "stream",
     "text": [
      "Training on iteration 1. Current time: 2024-05-19 11:08:47. Total running time: 9hr 28min 22s\n"
     ]
    },
    {
     "name": "stdout",
     "output_type": "stream",
     "text": [
      "Training on iteration 1. Current time: 2024-05-19 11:09:17. Total running time: 9hr 28min 52s\n"
     ]
    },
    {
     "name": "stdout",
     "output_type": "stream",
     "text": [
      "Training on iteration 1. Current time: 2024-05-19 11:09:47. Total running time: 9hr 29min 22s\n"
     ]
    },
    {
     "name": "stdout",
     "output_type": "stream",
     "text": [
      "Training on iteration 1. Current time: 2024-05-19 11:10:17. Total running time: 9hr 29min 52s\n"
     ]
    },
    {
     "name": "stdout",
     "output_type": "stream",
     "text": [
      "Training on iteration 1. Current time: 2024-05-19 11:10:47. Total running time: 9hr 30min 22s\n"
     ]
    },
    {
     "name": "stdout",
     "output_type": "stream",
     "text": [
      "Training on iteration 1. Current time: 2024-05-19 11:11:17. Total running time: 9hr 30min 52s\n"
     ]
    },
    {
     "name": "stdout",
     "output_type": "stream",
     "text": [
      "Training on iteration 1. Current time: 2024-05-19 11:11:47. Total running time: 9hr 31min 22s\n"
     ]
    },
    {
     "name": "stdout",
     "output_type": "stream",
     "text": [
      "Training on iteration 1. Current time: 2024-05-19 11:12:17. Total running time: 9hr 31min 52s\n"
     ]
    },
    {
     "name": "stdout",
     "output_type": "stream",
     "text": [
      "Training on iteration 1. Current time: 2024-05-19 11:12:47. Total running time: 9hr 32min 22s\n"
     ]
    },
    {
     "name": "stdout",
     "output_type": "stream",
     "text": [
      "Training on iteration 1. Current time: 2024-05-19 11:13:17. Total running time: 9hr 32min 52s\n"
     ]
    },
    {
     "name": "stdout",
     "output_type": "stream",
     "text": [
      "Training on iteration 1. Current time: 2024-05-19 11:13:47. Total running time: 9hr 33min 22s\n"
     ]
    },
    {
     "name": "stdout",
     "output_type": "stream",
     "text": [
      "Training on iteration 1. Current time: 2024-05-19 11:14:17. Total running time: 9hr 33min 52s\n"
     ]
    },
    {
     "name": "stdout",
     "output_type": "stream",
     "text": [
      "Training on iteration 1. Current time: 2024-05-19 11:14:47. Total running time: 9hr 34min 22s\n"
     ]
    },
    {
     "name": "stdout",
     "output_type": "stream",
     "text": [
      "Training on iteration 1. Current time: 2024-05-19 11:15:17. Total running time: 9hr 34min 52s\n"
     ]
    },
    {
     "name": "stdout",
     "output_type": "stream",
     "text": [
      "Training on iteration 1. Current time: 2024-05-19 11:15:47. Total running time: 9hr 35min 22s\n"
     ]
    },
    {
     "name": "stdout",
     "output_type": "stream",
     "text": [
      "Training on iteration 1. Current time: 2024-05-19 11:16:17. Total running time: 9hr 35min 52s\n"
     ]
    },
    {
     "name": "stdout",
     "output_type": "stream",
     "text": [
      "Training on iteration 1. Current time: 2024-05-19 11:16:47. Total running time: 9hr 36min 22s\n"
     ]
    },
    {
     "name": "stdout",
     "output_type": "stream",
     "text": [
      "Training on iteration 1. Current time: 2024-05-19 11:17:17. Total running time: 9hr 36min 52s\n"
     ]
    },
    {
     "name": "stdout",
     "output_type": "stream",
     "text": [
      "Training on iteration 1. Current time: 2024-05-19 11:17:47. Total running time: 9hr 37min 22s\n"
     ]
    },
    {
     "name": "stdout",
     "output_type": "stream",
     "text": [
      "Training on iteration 1. Current time: 2024-05-19 11:18:17. Total running time: 9hr 37min 52s\n"
     ]
    },
    {
     "name": "stdout",
     "output_type": "stream",
     "text": [
      "Training on iteration 1. Current time: 2024-05-19 11:18:47. Total running time: 9hr 38min 22s\n"
     ]
    },
    {
     "name": "stdout",
     "output_type": "stream",
     "text": [
      "Training on iteration 1. Current time: 2024-05-19 11:19:17. Total running time: 9hr 38min 52s\n"
     ]
    },
    {
     "name": "stdout",
     "output_type": "stream",
     "text": [
      "Training on iteration 1. Current time: 2024-05-19 11:19:47. Total running time: 9hr 39min 22s\n"
     ]
    },
    {
     "name": "stdout",
     "output_type": "stream",
     "text": [
      "Training on iteration 1. Current time: 2024-05-19 11:20:17. Total running time: 9hr 39min 52s\n"
     ]
    },
    {
     "name": "stdout",
     "output_type": "stream",
     "text": [
      "Training on iteration 1. Current time: 2024-05-19 11:20:47. Total running time: 9hr 40min 22s\n"
     ]
    },
    {
     "name": "stdout",
     "output_type": "stream",
     "text": [
      "Training on iteration 1. Current time: 2024-05-19 11:21:17. Total running time: 9hr 40min 52s\n"
     ]
    },
    {
     "name": "stdout",
     "output_type": "stream",
     "text": [
      "Training on iteration 1. Current time: 2024-05-19 11:21:47. Total running time: 9hr 41min 22s\n"
     ]
    },
    {
     "name": "stdout",
     "output_type": "stream",
     "text": [
      "Training on iteration 1. Current time: 2024-05-19 11:22:17. Total running time: 9hr 41min 52s\n"
     ]
    },
    {
     "name": "stdout",
     "output_type": "stream",
     "text": [
      "Training on iteration 1. Current time: 2024-05-19 11:22:47. Total running time: 9hr 42min 22s\n"
     ]
    },
    {
     "name": "stdout",
     "output_type": "stream",
     "text": [
      "Training on iteration 1. Current time: 2024-05-19 11:23:17. Total running time: 9hr 42min 52s\n"
     ]
    },
    {
     "name": "stdout",
     "output_type": "stream",
     "text": [
      "Training on iteration 1. Current time: 2024-05-19 11:23:47. Total running time: 9hr 43min 22s\n"
     ]
    },
    {
     "name": "stdout",
     "output_type": "stream",
     "text": [
      "Training on iteration 1. Current time: 2024-05-19 11:24:17. Total running time: 9hr 43min 52s\n"
     ]
    },
    {
     "name": "stdout",
     "output_type": "stream",
     "text": [
      "Training on iteration 1. Current time: 2024-05-19 11:24:47. Total running time: 9hr 44min 22s\n"
     ]
    },
    {
     "name": "stdout",
     "output_type": "stream",
     "text": [
      "Training on iteration 1. Current time: 2024-05-19 11:25:17. Total running time: 9hr 44min 52s\n"
     ]
    },
    {
     "name": "stdout",
     "output_type": "stream",
     "text": [
      "Training on iteration 1. Current time: 2024-05-19 11:25:47. Total running time: 9hr 45min 22s\n"
     ]
    },
    {
     "name": "stdout",
     "output_type": "stream",
     "text": [
      "Training on iteration 1. Current time: 2024-05-19 11:26:17. Total running time: 9hr 45min 52s\n"
     ]
    },
    {
     "name": "stdout",
     "output_type": "stream",
     "text": [
      "Training on iteration 1. Current time: 2024-05-19 11:26:47. Total running time: 9hr 46min 22s\n"
     ]
    },
    {
     "name": "stdout",
     "output_type": "stream",
     "text": [
      "Training on iteration 1. Current time: 2024-05-19 11:27:17. Total running time: 9hr 46min 52s\n"
     ]
    },
    {
     "name": "stdout",
     "output_type": "stream",
     "text": [
      "Training on iteration 1. Current time: 2024-05-19 11:27:47. Total running time: 9hr 47min 22s\n"
     ]
    },
    {
     "name": "stdout",
     "output_type": "stream",
     "text": [
      "Training on iteration 1. Current time: 2024-05-19 11:28:17. Total running time: 9hr 47min 53s\n"
     ]
    },
    {
     "name": "stdout",
     "output_type": "stream",
     "text": [
      "Training on iteration 1. Current time: 2024-05-19 11:28:47. Total running time: 9hr 48min 23s\n"
     ]
    },
    {
     "name": "stdout",
     "output_type": "stream",
     "text": [
      "Training on iteration 1. Current time: 2024-05-19 11:29:17. Total running time: 9hr 48min 53s\n"
     ]
    },
    {
     "name": "stdout",
     "output_type": "stream",
     "text": [
      "Training on iteration 1. Current time: 2024-05-19 11:29:47. Total running time: 9hr 49min 23s\n"
     ]
    },
    {
     "name": "stdout",
     "output_type": "stream",
     "text": [
      "Training on iteration 1. Current time: 2024-05-19 11:30:17. Total running time: 9hr 49min 53s\n"
     ]
    },
    {
     "name": "stdout",
     "output_type": "stream",
     "text": [
      "Training on iteration 1. Current time: 2024-05-19 11:30:47. Total running time: 9hr 50min 23s\n"
     ]
    },
    {
     "name": "stdout",
     "output_type": "stream",
     "text": [
      "Training on iteration 1. Current time: 2024-05-19 11:31:17. Total running time: 9hr 50min 53s\n"
     ]
    },
    {
     "name": "stdout",
     "output_type": "stream",
     "text": [
      "Training on iteration 1. Current time: 2024-05-19 11:31:47. Total running time: 9hr 51min 23s\n"
     ]
    },
    {
     "name": "stdout",
     "output_type": "stream",
     "text": [
      "Training on iteration 1. Current time: 2024-05-19 11:32:17. Total running time: 9hr 51min 53s\n"
     ]
    },
    {
     "name": "stdout",
     "output_type": "stream",
     "text": [
      "Training on iteration 1. Current time: 2024-05-19 11:32:47. Total running time: 9hr 52min 23s\n"
     ]
    },
    {
     "name": "stdout",
     "output_type": "stream",
     "text": [
      "Training on iteration 1. Current time: 2024-05-19 11:33:17. Total running time: 9hr 52min 53s\n"
     ]
    },
    {
     "name": "stdout",
     "output_type": "stream",
     "text": [
      "Training on iteration 1. Current time: 2024-05-19 11:33:47. Total running time: 9hr 53min 23s\n"
     ]
    },
    {
     "name": "stdout",
     "output_type": "stream",
     "text": [
      "Training on iteration 1. Current time: 2024-05-19 11:34:17. Total running time: 9hr 53min 53s\n"
     ]
    },
    {
     "name": "stdout",
     "output_type": "stream",
     "text": [
      "Training on iteration 1. Current time: 2024-05-19 11:34:48. Total running time: 9hr 54min 23s\n"
     ]
    },
    {
     "name": "stdout",
     "output_type": "stream",
     "text": [
      "Training on iteration 1. Current time: 2024-05-19 11:35:18. Total running time: 9hr 54min 53s\n"
     ]
    },
    {
     "name": "stdout",
     "output_type": "stream",
     "text": [
      "Training on iteration 1. Current time: 2024-05-19 11:35:48. Total running time: 9hr 55min 23s\n"
     ]
    },
    {
     "name": "stdout",
     "output_type": "stream",
     "text": [
      "Training on iteration 1. Current time: 2024-05-19 11:36:18. Total running time: 9hr 55min 53s\n"
     ]
    },
    {
     "name": "stdout",
     "output_type": "stream",
     "text": [
      "Training on iteration 1. Current time: 2024-05-19 11:36:48. Total running time: 9hr 56min 23s\n"
     ]
    },
    {
     "name": "stdout",
     "output_type": "stream",
     "text": [
      "Training on iteration 1. Current time: 2024-05-19 11:37:18. Total running time: 9hr 56min 53s\n"
     ]
    },
    {
     "name": "stdout",
     "output_type": "stream",
     "text": [
      "Training on iteration 1. Current time: 2024-05-19 11:37:48. Total running time: 9hr 57min 23s\n"
     ]
    },
    {
     "name": "stdout",
     "output_type": "stream",
     "text": [
      "Training on iteration 1. Current time: 2024-05-19 11:38:18. Total running time: 9hr 57min 53s\n"
     ]
    },
    {
     "name": "stdout",
     "output_type": "stream",
     "text": [
      "Training on iteration 1. Current time: 2024-05-19 11:38:48. Total running time: 9hr 58min 23s\n"
     ]
    },
    {
     "name": "stdout",
     "output_type": "stream",
     "text": [
      "Training on iteration 1. Current time: 2024-05-19 11:39:18. Total running time: 9hr 58min 53s\n"
     ]
    },
    {
     "name": "stdout",
     "output_type": "stream",
     "text": [
      "Training on iteration 1. Current time: 2024-05-19 11:39:48. Total running time: 9hr 59min 23s\n"
     ]
    },
    {
     "name": "stdout",
     "output_type": "stream",
     "text": [
      "Training on iteration 1. Current time: 2024-05-19 11:40:18. Total running time: 9hr 59min 53s\n"
     ]
    },
    {
     "name": "stdout",
     "output_type": "stream",
     "text": [
      "Training on iteration 1. Current time: 2024-05-19 11:40:48. Total running time: 10hr 0min 23s\n"
     ]
    },
    {
     "name": "stdout",
     "output_type": "stream",
     "text": [
      "Training on iteration 1. Current time: 2024-05-19 11:41:18. Total running time: 10hr 0min 53s\n"
     ]
    },
    {
     "name": "stdout",
     "output_type": "stream",
     "text": [
      "Training on iteration 1. Current time: 2024-05-19 11:41:48. Total running time: 10hr 1min 23s\n"
     ]
    },
    {
     "name": "stderr",
     "output_type": "stream",
     "text": [
      "\u001b[36m(RayTrainWorker pid=913)\u001b[0m Epoch 31249, global step 125000: 'mape_den' reached 0.01721 (best 0.01721), saving model to '/kaggle/working/gnnepcsaft/train/checkpoints/model8_2-epoch=31249-mape_den=0.0172.ckpt' as top 1\n"
     ]
    },
    {
     "name": "stderr",
     "output_type": "stream",
     "text": [
      "\u001b[36m(RayTrainWorker pid=911)\u001b[0m Epoch 34999, global step 140000: 'train_mape' was not in top 1\n"
     ]
    },
    {
     "name": "stderr",
     "output_type": "stream",
     "text": [
      "\u001b[36m(RayTrainWorker pid=912)\u001b[0m Epoch 27499, global step 110000: 'train_mape' was not in top 1\n"
     ]
    },
    {
     "name": "stderr",
     "output_type": "stream",
     "text": [
      "\u001b[36m(RayTrainWorker pid=913)\u001b[0m Epoch 32499, global step 130000: 'train_mape' was not in top 1\n"
     ]
    },
    {
     "name": "stdout",
     "output_type": "stream",
     "text": [
      "Training on iteration 1. Current time: 2024-05-19 11:42:18. Total running time: 10hr 1min 53s\n"
     ]
    },
    {
     "name": "stdout",
     "output_type": "stream",
     "text": [
      "Training on iteration 1. Current time: 2024-05-19 11:42:48. Total running time: 10hr 2min 23s\n"
     ]
    },
    {
     "name": "stdout",
     "output_type": "stream",
     "text": [
      "Training on iteration 1. Current time: 2024-05-19 11:43:18. Total running time: 10hr 2min 53s\n"
     ]
    },
    {
     "name": "stdout",
     "output_type": "stream",
     "text": [
      "Training on iteration 1. Current time: 2024-05-19 11:43:48. Total running time: 10hr 3min 23s\n"
     ]
    },
    {
     "name": "stdout",
     "output_type": "stream",
     "text": [
      "Training on iteration 1. Current time: 2024-05-19 11:44:18. Total running time: 10hr 3min 53s\n"
     ]
    },
    {
     "name": "stdout",
     "output_type": "stream",
     "text": [
      "Training on iteration 1. Current time: 2024-05-19 11:44:48. Total running time: 10hr 4min 23s\n"
     ]
    },
    {
     "name": "stdout",
     "output_type": "stream",
     "text": [
      "Training on iteration 1. Current time: 2024-05-19 11:45:18. Total running time: 10hr 4min 53s\n"
     ]
    },
    {
     "name": "stdout",
     "output_type": "stream",
     "text": [
      "Training on iteration 1. Current time: 2024-05-19 11:45:48. Total running time: 10hr 5min 23s\n"
     ]
    },
    {
     "name": "stdout",
     "output_type": "stream",
     "text": [
      "Training on iteration 1. Current time: 2024-05-19 11:46:18. Total running time: 10hr 5min 53s\n"
     ]
    },
    {
     "name": "stdout",
     "output_type": "stream",
     "text": [
      "Training on iteration 1. Current time: 2024-05-19 11:46:48. Total running time: 10hr 6min 23s\n"
     ]
    },
    {
     "name": "stdout",
     "output_type": "stream",
     "text": [
      "Training on iteration 1. Current time: 2024-05-19 11:47:18. Total running time: 10hr 6min 53s\n"
     ]
    },
    {
     "name": "stdout",
     "output_type": "stream",
     "text": [
      "Training on iteration 1. Current time: 2024-05-19 11:47:48. Total running time: 10hr 7min 23s\n"
     ]
    },
    {
     "name": "stdout",
     "output_type": "stream",
     "text": [
      "Training on iteration 1. Current time: 2024-05-19 11:48:18. Total running time: 10hr 7min 53s\n"
     ]
    },
    {
     "name": "stdout",
     "output_type": "stream",
     "text": [
      "Training on iteration 1. Current time: 2024-05-19 11:48:48. Total running time: 10hr 8min 23s\n"
     ]
    },
    {
     "name": "stdout",
     "output_type": "stream",
     "text": [
      "Training on iteration 1. Current time: 2024-05-19 11:49:18. Total running time: 10hr 8min 53s\n"
     ]
    },
    {
     "name": "stdout",
     "output_type": "stream",
     "text": [
      "Training on iteration 1. Current time: 2024-05-19 11:49:48. Total running time: 10hr 9min 24s\n"
     ]
    },
    {
     "name": "stdout",
     "output_type": "stream",
     "text": [
      "Training on iteration 1. Current time: 2024-05-19 11:50:18. Total running time: 10hr 9min 54s\n"
     ]
    },
    {
     "name": "stdout",
     "output_type": "stream",
     "text": [
      "Training on iteration 1. Current time: 2024-05-19 11:50:48. Total running time: 10hr 10min 24s\n"
     ]
    },
    {
     "name": "stdout",
     "output_type": "stream",
     "text": [
      "Training on iteration 1. Current time: 2024-05-19 11:51:19. Total running time: 10hr 10min 54s\n"
     ]
    },
    {
     "name": "stdout",
     "output_type": "stream",
     "text": [
      "Training on iteration 1. Current time: 2024-05-19 11:51:49. Total running time: 10hr 11min 24s\n"
     ]
    },
    {
     "name": "stdout",
     "output_type": "stream",
     "text": [
      "Training on iteration 1. Current time: 2024-05-19 11:52:19. Total running time: 10hr 11min 54s\n"
     ]
    },
    {
     "name": "stdout",
     "output_type": "stream",
     "text": [
      "Training on iteration 1. Current time: 2024-05-19 11:52:49. Total running time: 10hr 12min 24s\n"
     ]
    },
    {
     "name": "stdout",
     "output_type": "stream",
     "text": [
      "Training on iteration 1. Current time: 2024-05-19 11:53:19. Total running time: 10hr 12min 54s\n"
     ]
    },
    {
     "name": "stdout",
     "output_type": "stream",
     "text": [
      "Training on iteration 1. Current time: 2024-05-19 11:53:49. Total running time: 10hr 13min 24s\n"
     ]
    },
    {
     "name": "stdout",
     "output_type": "stream",
     "text": [
      "Training on iteration 1. Current time: 2024-05-19 11:54:19. Total running time: 10hr 13min 54s\n"
     ]
    },
    {
     "name": "stdout",
     "output_type": "stream",
     "text": [
      "Training on iteration 1. Current time: 2024-05-19 11:54:49. Total running time: 10hr 14min 24s\n"
     ]
    },
    {
     "name": "stdout",
     "output_type": "stream",
     "text": [
      "Training on iteration 1. Current time: 2024-05-19 11:55:19. Total running time: 10hr 14min 54s\n"
     ]
    },
    {
     "name": "stdout",
     "output_type": "stream",
     "text": [
      "Training on iteration 1. Current time: 2024-05-19 11:55:49. Total running time: 10hr 15min 24s\n"
     ]
    },
    {
     "name": "stdout",
     "output_type": "stream",
     "text": [
      "Training on iteration 1. Current time: 2024-05-19 11:56:19. Total running time: 10hr 15min 54s\n"
     ]
    },
    {
     "name": "stdout",
     "output_type": "stream",
     "text": [
      "Training on iteration 1. Current time: 2024-05-19 11:56:49. Total running time: 10hr 16min 24s\n"
     ]
    },
    {
     "name": "stdout",
     "output_type": "stream",
     "text": [
      "Training on iteration 1. Current time: 2024-05-19 11:57:19. Total running time: 10hr 16min 54s\n"
     ]
    },
    {
     "name": "stdout",
     "output_type": "stream",
     "text": [
      "Training on iteration 1. Current time: 2024-05-19 11:57:49. Total running time: 10hr 17min 24s\n"
     ]
    },
    {
     "name": "stdout",
     "output_type": "stream",
     "text": [
      "Training on iteration 1. Current time: 2024-05-19 11:58:19. Total running time: 10hr 17min 54s\n"
     ]
    },
    {
     "name": "stdout",
     "output_type": "stream",
     "text": [
      "Training on iteration 1. Current time: 2024-05-19 11:58:49. Total running time: 10hr 18min 25s\n"
     ]
    },
    {
     "name": "stdout",
     "output_type": "stream",
     "text": [
      "Training on iteration 1. Current time: 2024-05-19 11:59:19. Total running time: 10hr 18min 55s\n"
     ]
    },
    {
     "name": "stdout",
     "output_type": "stream",
     "text": [
      "Training on iteration 1. Current time: 2024-05-19 11:59:49. Total running time: 10hr 19min 25s\n"
     ]
    },
    {
     "name": "stdout",
     "output_type": "stream",
     "text": [
      "Training on iteration 1. Current time: 2024-05-19 12:00:19. Total running time: 10hr 19min 55s\n"
     ]
    },
    {
     "name": "stdout",
     "output_type": "stream",
     "text": [
      "Training on iteration 1. Current time: 2024-05-19 12:00:50. Total running time: 10hr 20min 25s\n"
     ]
    },
    {
     "name": "stdout",
     "output_type": "stream",
     "text": [
      "Training on iteration 1. Current time: 2024-05-19 12:01:20. Total running time: 10hr 20min 55s\n"
     ]
    },
    {
     "name": "stdout",
     "output_type": "stream",
     "text": [
      "Training on iteration 1. Current time: 2024-05-19 12:01:50. Total running time: 10hr 21min 25s\n"
     ]
    },
    {
     "name": "stdout",
     "output_type": "stream",
     "text": [
      "Training on iteration 1. Current time: 2024-05-19 12:02:20. Total running time: 10hr 21min 55s\n"
     ]
    },
    {
     "name": "stdout",
     "output_type": "stream",
     "text": [
      "Training on iteration 1. Current time: 2024-05-19 12:02:50. Total running time: 10hr 22min 25s\n"
     ]
    },
    {
     "name": "stdout",
     "output_type": "stream",
     "text": [
      "Training on iteration 1. Current time: 2024-05-19 12:03:20. Total running time: 10hr 22min 55s\n"
     ]
    },
    {
     "name": "stdout",
     "output_type": "stream",
     "text": [
      "Training on iteration 1. Current time: 2024-05-19 12:03:50. Total running time: 10hr 23min 25s\n"
     ]
    },
    {
     "name": "stdout",
     "output_type": "stream",
     "text": [
      "Training on iteration 1. Current time: 2024-05-19 12:04:20. Total running time: 10hr 23min 55s\n"
     ]
    },
    {
     "name": "stdout",
     "output_type": "stream",
     "text": [
      "Training on iteration 1. Current time: 2024-05-19 12:04:50. Total running time: 10hr 24min 25s\n"
     ]
    },
    {
     "name": "stdout",
     "output_type": "stream",
     "text": [
      "Training on iteration 1. Current time: 2024-05-19 12:05:20. Total running time: 10hr 24min 55s\n"
     ]
    },
    {
     "name": "stdout",
     "output_type": "stream",
     "text": [
      "Training on iteration 1. Current time: 2024-05-19 12:05:50. Total running time: 10hr 25min 25s\n"
     ]
    },
    {
     "name": "stdout",
     "output_type": "stream",
     "text": [
      "Training on iteration 1. Current time: 2024-05-19 12:06:20. Total running time: 10hr 25min 55s\n"
     ]
    },
    {
     "name": "stdout",
     "output_type": "stream",
     "text": [
      "Training on iteration 1. Current time: 2024-05-19 12:06:50. Total running time: 10hr 26min 25s\n"
     ]
    },
    {
     "name": "stdout",
     "output_type": "stream",
     "text": [
      "Training on iteration 1. Current time: 2024-05-19 12:07:20. Total running time: 10hr 26min 55s\n"
     ]
    },
    {
     "name": "stdout",
     "output_type": "stream",
     "text": [
      "Training on iteration 1. Current time: 2024-05-19 12:07:50. Total running time: 10hr 27min 25s\n"
     ]
    },
    {
     "name": "stdout",
     "output_type": "stream",
     "text": [
      "Training on iteration 1. Current time: 2024-05-19 12:08:20. Total running time: 10hr 27min 55s\n"
     ]
    },
    {
     "name": "stdout",
     "output_type": "stream",
     "text": [
      "Training on iteration 1. Current time: 2024-05-19 12:08:50. Total running time: 10hr 28min 25s\n"
     ]
    },
    {
     "name": "stdout",
     "output_type": "stream",
     "text": [
      "Training on iteration 1. Current time: 2024-05-19 12:09:20. Total running time: 10hr 28min 55s\n"
     ]
    },
    {
     "name": "stdout",
     "output_type": "stream",
     "text": [
      "Training on iteration 1. Current time: 2024-05-19 12:09:50. Total running time: 10hr 29min 25s\n"
     ]
    },
    {
     "name": "stdout",
     "output_type": "stream",
     "text": [
      "Training on iteration 1. Current time: 2024-05-19 12:10:20. Total running time: 10hr 29min 55s\n"
     ]
    },
    {
     "name": "stdout",
     "output_type": "stream",
     "text": [
      "Training on iteration 1. Current time: 2024-05-19 12:10:50. Total running time: 10hr 30min 25s\n"
     ]
    },
    {
     "name": "stdout",
     "output_type": "stream",
     "text": [
      "Training on iteration 1. Current time: 2024-05-19 12:11:20. Total running time: 10hr 30min 55s\n"
     ]
    },
    {
     "name": "stdout",
     "output_type": "stream",
     "text": [
      "Training on iteration 1. Current time: 2024-05-19 12:11:50. Total running time: 10hr 31min 25s\n"
     ]
    },
    {
     "name": "stdout",
     "output_type": "stream",
     "text": [
      "Training on iteration 1. Current time: 2024-05-19 12:12:20. Total running time: 10hr 31min 55s\n"
     ]
    },
    {
     "name": "stdout",
     "output_type": "stream",
     "text": [
      "Training on iteration 1. Current time: 2024-05-19 12:12:50. Total running time: 10hr 32min 25s\n"
     ]
    },
    {
     "name": "stdout",
     "output_type": "stream",
     "text": [
      "Training on iteration 1. Current time: 2024-05-19 12:13:20. Total running time: 10hr 32min 55s\n"
     ]
    },
    {
     "name": "stdout",
     "output_type": "stream",
     "text": [
      "Training on iteration 1. Current time: 2024-05-19 12:13:50. Total running time: 10hr 33min 26s\n"
     ]
    },
    {
     "name": "stdout",
     "output_type": "stream",
     "text": [
      "Training on iteration 1. Current time: 2024-05-19 12:14:20. Total running time: 10hr 33min 56s\n"
     ]
    },
    {
     "name": "stdout",
     "output_type": "stream",
     "text": [
      "Training on iteration 1. Current time: 2024-05-19 12:14:50. Total running time: 10hr 34min 26s\n"
     ]
    },
    {
     "name": "stdout",
     "output_type": "stream",
     "text": [
      "Training on iteration 1. Current time: 2024-05-19 12:15:21. Total running time: 10hr 34min 56s\n"
     ]
    },
    {
     "name": "stdout",
     "output_type": "stream",
     "text": [
      "Training on iteration 1. Current time: 2024-05-19 12:15:51. Total running time: 10hr 35min 26s\n"
     ]
    },
    {
     "name": "stdout",
     "output_type": "stream",
     "text": [
      "Training on iteration 1. Current time: 2024-05-19 12:16:21. Total running time: 10hr 35min 56s\n"
     ]
    },
    {
     "name": "stdout",
     "output_type": "stream",
     "text": [
      "Training on iteration 1. Current time: 2024-05-19 12:16:51. Total running time: 10hr 36min 26s\n"
     ]
    },
    {
     "name": "stdout",
     "output_type": "stream",
     "text": [
      "Training on iteration 1. Current time: 2024-05-19 12:17:21. Total running time: 10hr 36min 56s\n"
     ]
    },
    {
     "name": "stdout",
     "output_type": "stream",
     "text": [
      "Training on iteration 1. Current time: 2024-05-19 12:17:51. Total running time: 10hr 37min 26s\n"
     ]
    },
    {
     "name": "stdout",
     "output_type": "stream",
     "text": [
      "Training on iteration 1. Current time: 2024-05-19 12:18:21. Total running time: 10hr 37min 56s\n"
     ]
    },
    {
     "name": "stdout",
     "output_type": "stream",
     "text": [
      "Training on iteration 1. Current time: 2024-05-19 12:18:51. Total running time: 10hr 38min 26s\n"
     ]
    },
    {
     "name": "stdout",
     "output_type": "stream",
     "text": [
      "Training on iteration 1. Current time: 2024-05-19 12:19:21. Total running time: 10hr 38min 56s\n"
     ]
    },
    {
     "name": "stdout",
     "output_type": "stream",
     "text": [
      "Training on iteration 1. Current time: 2024-05-19 12:19:51. Total running time: 10hr 39min 26s\n"
     ]
    },
    {
     "name": "stdout",
     "output_type": "stream",
     "text": [
      "Training on iteration 1. Current time: 2024-05-19 12:20:21. Total running time: 10hr 39min 56s\n"
     ]
    },
    {
     "name": "stdout",
     "output_type": "stream",
     "text": [
      "Training on iteration 1. Current time: 2024-05-19 12:20:51. Total running time: 10hr 40min 26s\n"
     ]
    },
    {
     "name": "stdout",
     "output_type": "stream",
     "text": [
      "Training on iteration 1. Current time: 2024-05-19 12:21:21. Total running time: 10hr 40min 56s\n"
     ]
    },
    {
     "name": "stdout",
     "output_type": "stream",
     "text": [
      "Training on iteration 1. Current time: 2024-05-19 12:21:51. Total running time: 10hr 41min 26s\n"
     ]
    },
    {
     "name": "stdout",
     "output_type": "stream",
     "text": [
      "Training on iteration 1. Current time: 2024-05-19 12:22:21. Total running time: 10hr 41min 57s\n"
     ]
    },
    {
     "name": "stdout",
     "output_type": "stream",
     "text": [
      "Training on iteration 1. Current time: 2024-05-19 12:22:51. Total running time: 10hr 42min 27s\n"
     ]
    },
    {
     "name": "stdout",
     "output_type": "stream",
     "text": [
      "Training on iteration 1. Current time: 2024-05-19 12:23:21. Total running time: 10hr 42min 57s\n"
     ]
    },
    {
     "name": "stdout",
     "output_type": "stream",
     "text": [
      "Training on iteration 1. Current time: 2024-05-19 12:23:51. Total running time: 10hr 43min 27s\n"
     ]
    },
    {
     "name": "stdout",
     "output_type": "stream",
     "text": [
      "Training on iteration 1. Current time: 2024-05-19 12:24:21. Total running time: 10hr 43min 57s\n"
     ]
    },
    {
     "name": "stdout",
     "output_type": "stream",
     "text": [
      "Training on iteration 1. Current time: 2024-05-19 12:24:52. Total running time: 10hr 44min 27s\n"
     ]
    },
    {
     "name": "stderr",
     "output_type": "stream",
     "text": [
      "\u001b[36m(RayTrainWorker pid=911)\u001b[0m Epoch 37499, global step 150000: 'mape_den' reached 0.01797 (best 0.01797), saving model to '/kaggle/working/gnnepcsaft/train/checkpoints/model8_0-epoch=37499-mape_den=0.0180.ckpt' as top 1\n"
     ]
    },
    {
     "name": "stderr",
     "output_type": "stream",
     "text": [
      "\u001b[36m(RayTrainWorker pid=911)\u001b[0m Epoch 37499, global step 150000: 'train_mape' was not in top 1\n"
     ]
    },
    {
     "name": "stderr",
     "output_type": "stream",
     "text": [
      "\u001b[36m(RayTrainWorker pid=912)\u001b[0m Epoch 29999, global step 120000: 'train_mape' was not in top 1\n"
     ]
    },
    {
     "name": "stderr",
     "output_type": "stream",
     "text": [
      "\u001b[36m(RayTrainWorker pid=913)\u001b[0m Epoch 34999, global step 140000: 'train_mape' was not in top 1\n"
     ]
    },
    {
     "name": "stdout",
     "output_type": "stream",
     "text": [
      "Training on iteration 1. Current time: 2024-05-19 12:25:22. Total running time: 10hr 44min 57s\n"
     ]
    }
   ],
   "source": [
    "%%bash\n",
    "pipenv run python -m gnnepcsaft.train.train \\\n",
    "--workdir=/kaggle/working/gnnepcsaft --config=gnnepcsaft/configs/default.py \\\n",
    "--dataset=$DATASET --tags=\"parallel\" \\\n",
    "--num_cpu=1.0 --num_cpu_trainer=0.33 --num_gpus=0.33 --num_workers=3 \\\n",
    "--config.model=PNAL --config.batch_size=512 \\\n",
    "--config.job_type=\"train\" --framework=\"ray\" --verbose=2"
   ]
  },
  {
   "cell_type": "markdown",
   "id": "bcc47332",
   "metadata": {
    "papermill": {
     "duration": null,
     "end_time": null,
     "exception": null,
     "start_time": null,
     "status": "pending"
    },
    "tags": []
   },
   "source": [
    "### Updating kaggle dataset"
   ]
  },
  {
   "cell_type": "code",
   "execution_count": null,
   "id": "0e9cae27",
   "metadata": {
    "papermill": {
     "duration": null,
     "end_time": null,
     "exception": null,
     "start_time": null,
     "status": "pending"
    },
    "tags": []
   },
   "outputs": [],
   "source": [
    "%%bash\n",
    "# !kaggle datasets metadata -p /kaggle/working/gnnepcsaft/train/checkpoints wildsonbblima/gnnepcsaft\n",
    "# shutil.copy(\"gnnepcsaft/train/checkpoints/last_checkpoint.pth\", f\"gnnepcsaft/train/checkpoints/{model_name}-{model_suffix}e6.pth\")\n",
    "# os.remove(\"gnnepcsaft/train/checkpoints/last_checkpoint.pth\")\n",
    "# !kaggle datasets version -p /kaggle/working/gnnepcsaft/train/checkpoints -m \"{model_name} at {model_suffix}e6 steps\"\n",
    "\n",
    "echo \"*****  Push to data repo  *****\"\n",
    "pipenv run dvc add gnnepcsaft/train/checkpoints\n",
    "pipenv run dvc push\n",
    "\n",
    "git config --global user.email $USER_EMAIL\n",
    "git config --global user.name $KAGGLE_USERNAME\n",
    "\n",
    "echo \"*****  Push to code repo  *****\"\n",
    "git pull\n",
    "git commit gnnepcsaft/train/checkpoints.dvc -m \"$MODEL_NAME at $MODEL_SUFFIX e6 steps\"\n",
    "git push\n",
    "\n",
    "echo \"*****  Finished  *****\""
   ]
  },
  {
   "cell_type": "markdown",
   "id": "bdadaf4f",
   "metadata": {
    "papermill": {
     "duration": null,
     "end_time": null,
     "exception": null,
     "start_time": null,
     "status": "pending"
    },
    "tags": []
   },
   "source": [
    "### Clear workspace"
   ]
  },
  {
   "cell_type": "code",
   "execution_count": null,
   "id": "9b856025",
   "metadata": {
    "papermill": {
     "duration": null,
     "end_time": null,
     "exception": null,
     "start_time": null,
     "status": "pending"
    },
    "tags": []
   },
   "outputs": [],
   "source": [
    "!rm -rf * .*"
   ]
  }
 ],
 "metadata": {
  "kaggle": {
   "accelerator": "gpu",
   "dataSources": [],
   "isGpuEnabled": true,
   "isInternetEnabled": true,
   "language": "python",
   "sourceType": "notebook"
  },
  "kernelspec": {
   "display_name": "Python 3",
   "language": "python",
   "name": "python3"
  },
  "language_info": {
   "codemirror_mode": {
    "name": "ipython",
    "version": 3
   },
   "file_extension": ".py",
   "mimetype": "text/x-python",
   "name": "python",
   "nbconvert_exporter": "python",
   "pygments_lexer": "ipython3",
   "version": "3.9.18"
  },
  "papermill": {
   "default_parameters": {},
   "duration": null,
   "end_time": null,
   "environment_variables": {},
   "exception": null,
   "input_path": "__notebook__.ipynb",
   "output_path": "__notebook__.ipynb",
   "parameters": {},
   "start_time": "2024-05-19T01:18:06.709559",
   "version": "2.5.0"
  }
 },
 "nbformat": 4,
 "nbformat_minor": 5
}