{
 "cells": [
  {
   "cell_type": "code",
   "execution_count": null,
   "metadata": {},
   "outputs": [],
   "source": [
    "import os\n",
    "models = [modelname.split('.')[0] for modelname in os.listdir(\"./train/checkpoints/\")]"
   ]
  },
  {
   "cell_type": "code",
   "execution_count": null,
   "metadata": {},
   "outputs": [],
   "source": [
    "for name in models:\n",
    "    if name.split(\"-\")[0] in [ \"model3\", 'model1', 'model5']:\n",
    "        dataset = \"ramirez\"\n",
    "        !python -m evaluations.evaluate_ensemble --workdir=./ \\\n",
    "        --config=configs/default.py --dataset={dataset} --modelname={name}\n",
    "    elif name.split(\"-\")[0] in [\"model4\"]:\n",
    "        dataset = \"thermoml\"\n",
    "        !python -m evaluations.evaluate_ensemble --workdir=./ \\\n",
    "        --config=configs/default.py --dataset={dataset} --modelname={name}"
   ]
  },
  {
   "cell_type": "code",
   "execution_count": null,
   "metadata": {},
   "outputs": [],
   "source": [
    "!python -m evaluations.evaluate_ensemble --workdir=./ \\\n",
    "--config=configs/default.py --dataset=ramirez \\\n",
    "--modelname=model5-0_50e6 --config.model=PNA2 \\\n",
    "--config.propagation_depth=2 --config.hidden_dim=128 --config.num_mlp_layers=1 --config.pre_layers=1 --config.post_layers=3 \\\n",
    "--config.add_self_loops=False --config.skip_connections=False"
   ]
  }
 ],
 "metadata": {
  "kernelspec": {
   "display_name": "Python 3",
   "language": "python",
   "name": "python3"
  },
  "language_info": {
   "codemirror_mode": {
    "name": "ipython",
    "version": 3
   },
   "file_extension": ".py",
   "mimetype": "text/x-python",
   "name": "python",
   "nbconvert_exporter": "python",
   "pygments_lexer": "ipython3",
   "version": "3.9.16"
  },
  "orig_nbformat": 4
 },
 "nbformat": 4,
 "nbformat_minor": 2
}
