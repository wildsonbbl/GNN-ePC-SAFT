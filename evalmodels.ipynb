{
 "cells": [
  {
   "cell_type": "code",
   "execution_count": null,
   "metadata": {},
   "outputs": [],
   "source": [
    "import os\n",
    "models = [modelname.split('.')[0] for modelname in os.listdir(\"./train/checkpoints/\")]"
   ]
  },
  {
   "cell_type": "code",
   "execution_count": null,
   "metadata": {},
   "outputs": [],
   "source": [
    "for name in models:\n",
    "    if name.split(\"-\")[0] in [ \"model3\"]:\n",
    "        dataset = \"ramirez\"\n",
    "        !python -m eval.evaluate --workdir=./ --config=configs/default.py --dataset={dataset} --modelname={name}\n",
    "    elif name.split(\"-\")[0] in [\"model4\"]:\n",
    "        dataset = \"thermoml\"\n",
    "        !python -m eval.evaluate --workdir=./ --config=configs/default.py --dataset={dataset} --modelname={name}"
   ]
  },
  {
   "cell_type": "code",
   "execution_count": null,
   "metadata": {},
   "outputs": [],
   "source": [
    "!python -m eval.evaluate_ensemble --workdir=./ --config=configs/default.py --dataset=thermoml\\\n",
    "--modelname=model1-8_15e6.model2-11_25e6"
   ]
  },
  {
   "cell_type": "code",
   "execution_count": null,
   "metadata": {},
   "outputs": [],
   "source": [
    "!python -m eval.evaluate --workdir=./ --config=configs/default.py --dataset=thermoml\\\n",
    "--modelname=model2-11_25e6"
   ]
  },
  {
   "cell_type": "code",
   "execution_count": null,
   "metadata": {},
   "outputs": [],
   "source": [
    "!python -m eval.evaluate --workdir=./ --config=configs/default.py --dataset=ramirez\\\n",
    "--modelname=model1-8_15e6"
   ]
  },
  {
   "cell_type": "code",
   "execution_count": null,
   "metadata": {},
   "outputs": [],
   "source": []
  }
 ],
 "metadata": {
  "kernelspec": {
   "display_name": "Python 3",
   "language": "python",
   "name": "python3"
  },
  "language_info": {
   "codemirror_mode": {
    "name": "ipython",
    "version": 3
   },
   "file_extension": ".py",
   "mimetype": "text/x-python",
   "name": "python",
   "nbconvert_exporter": "python",
   "pygments_lexer": "ipython3",
   "version": "3.9.16"
  },
  "orig_nbformat": 4
 },
 "nbformat": 4,
 "nbformat_minor": 2
}
