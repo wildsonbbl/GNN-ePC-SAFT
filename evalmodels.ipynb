{
 "cells": [
  {
   "cell_type": "code",
   "execution_count": null,
   "metadata": {},
   "outputs": [],
   "source": [
    "import os\n",
    "models = [modelname.split('.')[0] for modelname in os.listdir(\"gnnepcsaft/train/checkpoints/\")]"
   ]
  },
  {
   "cell_type": "code",
   "execution_count": null,
   "metadata": {},
   "outputs": [],
   "source": [
    "for name in models:\n",
    "    if name.split(\"-\")[0] in ['model5']:\n",
    "        dataset = \"ramirez\"\n",
    "        !python -m gnnepcsaft.evaluations.evaluate_ensemble --workdir=gnnepcsaft \\\n",
    "        --config=gnnepcsaft/configs/default.py --dataset={dataset} --modelname={name}"
   ]
  },
  {
   "cell_type": "code",
   "execution_count": null,
   "metadata": {},
   "outputs": [],
   "source": [
    "!python -m gnnepcsaft.evaluations.evaluate_ensemble --workdir=gnnepcsaft \\\n",
    "--config=gnnepcsaft/configs/default.py --dataset=ramirez \\\n",
    "--modelname=model5-11_00e6"
   ]
  },
  {
   "cell_type": "code",
   "execution_count": null,
   "metadata": {},
   "outputs": [],
   "source": [
    "!python -m gnnepcsaft.train.toy --workdir=gnnepcsaft \\\n",
    "--config=gnnepcsaft/configs/default.py --dataset=ramirez"
   ]
  }
 ],
 "metadata": {
  "kernelspec": {
   "display_name": "Python 3",
   "language": "python",
   "name": "python3"
  },
  "language_info": {
   "codemirror_mode": {
    "name": "ipython",
    "version": 3
   },
   "file_extension": ".py",
   "mimetype": "text/x-python",
   "name": "python",
   "nbconvert_exporter": "python",
   "pygments_lexer": "ipython3",
   "version": "3.9.18"
  },
  "orig_nbformat": 4
 },
 "nbformat": 4,
 "nbformat_minor": 2
}
