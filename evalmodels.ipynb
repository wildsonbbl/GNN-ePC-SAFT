{
 "cells": [
  {
   "cell_type": "code",
   "execution_count": null,
   "metadata": {},
   "outputs": [],
   "source": [
    "import os\n",
    "models = [modelname.split('.')[0] for modelname in os.listdir(\"gnnepcsaft/train/checkpoints/\")]"
   ]
  },
  {
   "cell_type": "code",
   "execution_count": null,
   "metadata": {},
   "outputs": [],
   "source": [
    "for name in models:\n",
    "    if name.split(\"-\")[0] in ['model5']:\n",
    "        dataset = \"ramirez\"\n",
    "        !python -m gnnepcsaft.evaluations.evaluate_ensemble --workdir=gnnepcsaft \\\n",
    "        --config=gnnepcsaft/configs/default.py --dataset={dataset} --modelname={name}\n",
    "    elif name.split(\"-\")[0] in [\"model6\"]:\n",
    "        dataset = \"thermoml\"\n",
    "        !python -m gnnepcsaft.evaluations.evaluate_ensemble --workdir=gnnepcsaft \\\n",
    "        --config=gnnepcsaft/configs/default.py --dataset={dataset} --modelname={name}"
   ]
  },
  {
   "cell_type": "code",
   "execution_count": null,
   "metadata": {},
   "outputs": [],
   "source": [
    "!python -m gnnepcsaft.evaluations.evaluate_ensemble --workdir=gnnepcsaft \\\n",
    "--config=gnnepcsaft/configs/default.py --dataset=ramirez \\\n",
    "--modelname=model5-11_00e6"
   ]
  },
  {
   "cell_type": "code",
   "execution_count": 8,
   "metadata": {},
   "outputs": [
    {
     "name": "stdout",
     "output_type": "stream",
     "text": [
      "I1207 05:09:09.838102 140427361213312 toy.py:45] Calling train and evaluate\n",
      "add_self_loops: false\n",
      "amp: false\n",
      "batch_size: 128\n",
      "change_opt: false\n",
      "change_sch: false\n",
      "checkpoint_every_steps: 10000\n",
      "dropout_rate: 0.0\n",
      "eval_every_steps: 10000\n",
      "hidden_dim: 128\n",
      "learning_rate: 0.001\n",
      "log_every_steps: 5000\n",
      "model: PNA\n",
      "momentum: 0.9\n",
      "num_mlp_layers: 1\n",
      "num_para: 3\n",
      "num_train_steps: 1000000\n",
      "optimizer: adam\n",
      "pad_size: 128\n",
      "patience: 5\n",
      "post_layers: 3\n",
      "pre_layers: 1\n",
      "propagation_depth: 2\n",
      "skip_connections: false\n",
      "warmup_steps: 100\n",
      "weight_decay: 1.0e-10\n",
      " gnnepcsaft ramirez\n",
      "nan\n",
      "/workspaces/ePC-SAFT/gnnepcsaft/gnnepcsaft/train/toy.py /workspaces/ePC-SAFT/gnnepcsaft/gnnepcsaft/train\n"
     ]
    }
   ],
   "source": [
    "!python -m gnnepcsaft.train.toy --workdir=gnnepcsaft \\\n",
    "--config=gnnepcsaft/configs/default.py --dataset=ramirez"
   ]
  }
 ],
 "metadata": {
  "kernelspec": {
   "display_name": "Python 3",
   "language": "python",
   "name": "python3"
  },
  "language_info": {
   "codemirror_mode": {
    "name": "ipython",
    "version": 3
   },
   "file_extension": ".py",
   "mimetype": "text/x-python",
   "name": "python",
   "nbconvert_exporter": "python",
   "pygments_lexer": "ipython3",
   "version": "3.9.18"
  },
  "orig_nbformat": 4
 },
 "nbformat": 4,
 "nbformat_minor": 2
}
